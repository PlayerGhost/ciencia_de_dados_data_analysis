{
 "cells": [
  {
   "cell_type": "code",
   "execution_count": 26,
   "outputs": [],
   "source": [
    "import pandas as pd\n",
    "from sklearn.model_selection import train_test_split"
   ],
   "metadata": {
    "collapsed": false,
    "pycharm": {
     "name": "#%%\n"
    }
   }
  },
  {
   "cell_type": "code",
   "execution_count": 27,
   "outputs": [],
   "source": [
    "dataset = pd.read_csv(\"./Database/dataBaseWithNER.csv\")\n",
    "dataset = dataset.drop(columns=[\"Unnamed: 0\"])\n",
    "target = dataset[\"target\"]\n",
    "dataset = dataset.drop(columns=[\"target\"])"
   ],
   "metadata": {
    "collapsed": false,
    "pycharm": {
     "name": "#%%\n"
    }
   }
  },
  {
   "cell_type": "code",
   "execution_count": 28,
   "outputs": [],
   "source": [
    "X_treino, X_teste, y_treino, y_teste = train_test_split(dataset.values,target,test_size=0.2)\n",
    "\n",
    "trainSetDfTemp = pd.DataFrame(X_treino, columns=[\"email\"])\n",
    "trainSetDfTemp[\"target\"] = y_treino.array\n",
    "\n",
    "testSetDfTemp = pd.DataFrame(X_teste, columns=[\"email\"])\n",
    "testSetDfTemp[\"target\"] = y_teste.array\n",
    "a = 0\n",
    "testSetDfTemp.to_csv(\"./Database/emailsTestSet.csv\")\n",
    "trainSetDfTemp.to_csv(\"./Database/emailsTrainSet.csv\")"
   ],
   "metadata": {
    "collapsed": false,
    "pycharm": {
     "name": "#%%\n"
    }
   }
  },
  {
   "cell_type": "code",
   "execution_count": 29,
   "outputs": [
    {
     "data": {
      "text/plain": "28384    1\n16464    1\n11708    0\n5299     0\n11835    1\n        ..\n2541     1\n22062    0\n9971     1\n12711    1\n8191     0\nName: target, Length: 26676, dtype: int64"
     },
     "execution_count": 29,
     "metadata": {},
     "output_type": "execute_result"
    }
   ],
   "source": [
    "y_treino"
   ],
   "metadata": {
    "collapsed": false,
    "pycharm": {
     "name": "#%%\n"
    }
   }
  },
  {
   "cell_type": "code",
   "execution_count": 30,
   "outputs": [
    {
     "data": {
      "text/plain": "                                                   email  target\n0      sandoval  vcsc  brand new stock attention voca...       1\n1      tired spending extra  purchase medication  wan...       1\n2      request  start providing datee status report w...       0\n3                                           got  stuart        0\n4      want money home  tired working  welcome future...       1\n...                                                  ...     ...\n26671  old fish young flesh feed men best win  lose m...       1\n26672  hello vince  thank forwarding message  hope  r...       0\n26673  customer better selection dr  prescribed remed...       1\n26674  working company  image  start visual identity ...       1\n26675  david       original message       dupre  pers...       0\n\n[26676 rows x 2 columns]",
      "text/html": "<div>\n<style scoped>\n    .dataframe tbody tr th:only-of-type {\n        vertical-align: middle;\n    }\n\n    .dataframe tbody tr th {\n        vertical-align: top;\n    }\n\n    .dataframe thead th {\n        text-align: right;\n    }\n</style>\n<table border=\"1\" class=\"dataframe\">\n  <thead>\n    <tr style=\"text-align: right;\">\n      <th></th>\n      <th>email</th>\n      <th>target</th>\n    </tr>\n  </thead>\n  <tbody>\n    <tr>\n      <th>0</th>\n      <td>sandoval  vcsc  brand new stock attention voca...</td>\n      <td>1</td>\n    </tr>\n    <tr>\n      <th>1</th>\n      <td>tired spending extra  purchase medication  wan...</td>\n      <td>1</td>\n    </tr>\n    <tr>\n      <th>2</th>\n      <td>request  start providing datee status report w...</td>\n      <td>0</td>\n    </tr>\n    <tr>\n      <th>3</th>\n      <td>got  stuart</td>\n      <td>0</td>\n    </tr>\n    <tr>\n      <th>4</th>\n      <td>want money home  tired working  welcome future...</td>\n      <td>1</td>\n    </tr>\n    <tr>\n      <th>...</th>\n      <td>...</td>\n      <td>...</td>\n    </tr>\n    <tr>\n      <th>26671</th>\n      <td>old fish young flesh feed men best win  lose m...</td>\n      <td>1</td>\n    </tr>\n    <tr>\n      <th>26672</th>\n      <td>hello vince  thank forwarding message  hope  r...</td>\n      <td>0</td>\n    </tr>\n    <tr>\n      <th>26673</th>\n      <td>customer better selection dr  prescribed remed...</td>\n      <td>1</td>\n    </tr>\n    <tr>\n      <th>26674</th>\n      <td>working company  image  start visual identity ...</td>\n      <td>1</td>\n    </tr>\n    <tr>\n      <th>26675</th>\n      <td>david       original message       dupre  pers...</td>\n      <td>0</td>\n    </tr>\n  </tbody>\n</table>\n<p>26676 rows × 2 columns</p>\n</div>"
     },
     "execution_count": 30,
     "metadata": {},
     "output_type": "execute_result"
    }
   ],
   "source": [
    "trainSetDfTemp"
   ],
   "metadata": {
    "collapsed": false,
    "pycharm": {
     "name": "#%%\n"
    }
   }
  },
  {
   "cell_type": "code",
   "execution_count": 31,
   "outputs": [
    {
     "data": {
      "text/plain": "                                                  email  target\n0     note personn  pleased announce effective datee...       0\n1     dear orgg japan team  disregard datee  notice ...       0\n2     save medl correct cation percentt  pharmsho sp...       1\n3                           forwarded personn datee ...       0\n4     hi  genierc gpee viarga  caiils  available oin...       1\n...                                                 ...     ...\n6664   searching place buy med  online   recently pl...       1\n6665  approval process initiated datee meeting event...       0\n6666  credit mess  want perfect credit   nice easily...       1\n6667  tue  datee  cardinall  cardinall dear sir  hop...       1\n6668  daren  fyi  orig  cardinall  cardinall  rev  c...       0\n\n[6669 rows x 2 columns]",
      "text/html": "<div>\n<style scoped>\n    .dataframe tbody tr th:only-of-type {\n        vertical-align: middle;\n    }\n\n    .dataframe tbody tr th {\n        vertical-align: top;\n    }\n\n    .dataframe thead th {\n        text-align: right;\n    }\n</style>\n<table border=\"1\" class=\"dataframe\">\n  <thead>\n    <tr style=\"text-align: right;\">\n      <th></th>\n      <th>email</th>\n      <th>target</th>\n    </tr>\n  </thead>\n  <tbody>\n    <tr>\n      <th>0</th>\n      <td>note personn  pleased announce effective datee...</td>\n      <td>0</td>\n    </tr>\n    <tr>\n      <th>1</th>\n      <td>dear orgg japan team  disregard datee  notice ...</td>\n      <td>0</td>\n    </tr>\n    <tr>\n      <th>2</th>\n      <td>save medl correct cation percentt  pharmsho sp...</td>\n      <td>1</td>\n    </tr>\n    <tr>\n      <th>3</th>\n      <td>forwarded personn datee ...</td>\n      <td>0</td>\n    </tr>\n    <tr>\n      <th>4</th>\n      <td>hi  genierc gpee viarga  caiils  available oin...</td>\n      <td>1</td>\n    </tr>\n    <tr>\n      <th>...</th>\n      <td>...</td>\n      <td>...</td>\n    </tr>\n    <tr>\n      <th>6664</th>\n      <td>searching place buy med  online   recently pl...</td>\n      <td>1</td>\n    </tr>\n    <tr>\n      <th>6665</th>\n      <td>approval process initiated datee meeting event...</td>\n      <td>0</td>\n    </tr>\n    <tr>\n      <th>6666</th>\n      <td>credit mess  want perfect credit   nice easily...</td>\n      <td>1</td>\n    </tr>\n    <tr>\n      <th>6667</th>\n      <td>tue  datee  cardinall  cardinall dear sir  hop...</td>\n      <td>1</td>\n    </tr>\n    <tr>\n      <th>6668</th>\n      <td>daren  fyi  orig  cardinall  cardinall  rev  c...</td>\n      <td>0</td>\n    </tr>\n  </tbody>\n</table>\n<p>6669 rows × 2 columns</p>\n</div>"
     },
     "execution_count": 31,
     "metadata": {},
     "output_type": "execute_result"
    }
   ],
   "source": [
    "testSetDfTemp"
   ],
   "metadata": {
    "collapsed": false,
    "pycharm": {
     "name": "#%%\n"
    }
   }
  }
 ],
 "metadata": {
  "kernelspec": {
   "display_name": "Python 3",
   "language": "python",
   "name": "python3"
  },
  "language_info": {
   "codemirror_mode": {
    "name": "ipython",
    "version": 2
   },
   "file_extension": ".py",
   "mimetype": "text/x-python",
   "name": "python",
   "nbconvert_exporter": "python",
   "pygments_lexer": "ipython2",
   "version": "2.7.6"
  }
 },
 "nbformat": 4,
 "nbformat_minor": 0
}