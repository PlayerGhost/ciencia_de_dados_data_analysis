{
 "cells": [
  {
   "cell_type": "code",
   "execution_count": 106,
   "metadata": {
    "collapsed": true
   },
   "outputs": [],
   "source": [
    "import pandas as pd\n",
    "import numpy as np\n",
    "import os\n",
    "import email\n",
    "import email.policy\n",
    "from bs4 import BeautifulSoup\n",
    "from collections import Counter\n",
    "from nltk.corpus import stopwords, words\n",
    "from nltk.stem import WordNetLemmatizer\n",
    "from nltk.tokenize import RegexpTokenizer\n",
    "from sklearn.linear_model import LogisticRegression\n",
    "from sklearn.model_selection import train_test_split, cross_val_score, cross_val_predict\n",
    "from sklearn.metrics import confusion_matrix\n",
    "from string import punctuation\n",
    "from gensim.parsing.preprocessing import STOPWORDS\n",
    "from sklearn.feature_extraction.text import CountVectorizer, TfidfVectorizer\n",
    "from sklearn.manifold import TSNE\n",
    "import re\n",
    "import heapq\n",
    "\n",
    "import matplotlib.pyplot as plt"
   ]
  },
  {
   "cell_type": "code",
   "execution_count": 107,
   "outputs": [
    {
     "data": {
      "text/plain": "['ham', 'spam']"
     },
     "execution_count": 107,
     "metadata": {},
     "output_type": "execute_result"
    }
   ],
   "source": [
    "os.listdir('./Database')"
   ],
   "metadata": {
    "collapsed": false,
    "pycharm": {
     "name": "#%%\n"
    }
   }
  },
  {
   "cell_type": "code",
   "execution_count": 108,
   "outputs": [],
   "source": [
    "arquivosNormais = [nomeArquivo for nomeArquivo in (os.listdir(\"./Database/ham\")) if len(nomeArquivo) > 20]\n",
    "arquivosSpam = [nomeArquivo for nomeArquivo in (os.listdir(\"./Database/spam\")) if len(nomeArquivo) > 20]\n",
    "\n",
    "emailsNome = arquivosNormais + arquivosSpam"
   ],
   "metadata": {
    "collapsed": false,
    "pycharm": {
     "name": "#%%\n"
    }
   }
  },
  {
   "cell_type": "code",
   "execution_count": 109,
   "outputs": [],
   "source": [
    "def carregarEmail(tipo, arquivo):\n",
    "    caminho = \"\"\n",
    "\n",
    "    if tipo == \"spam\":\n",
    "        caminho = \"./Database/spam\"\n",
    "    if tipo == \"ham\":\n",
    "        caminho = \"./Database/ham\"\n",
    "\n",
    "    with open(f\"{caminho}/{arquivo}\", \"rb\") as file:\n",
    "        return email.parser.BytesParser(policy=email.policy.default).parse(file)\n",
    "\n",
    "\n",
    "emailsNormais = [carregarEmail(\"ham\", arquivo) for arquivo in arquivosNormais]\n",
    "emailsSpam = [carregarEmail(\"spam\", arquivo) for arquivo in arquivosSpam]\n",
    "\n",
    "emails = emailsNormais + emailsSpam\n",
    "\n",
    "aux = emailsNormais[0]"
   ],
   "metadata": {
    "collapsed": false,
    "pycharm": {
     "name": "#%%\n"
    }
   }
  },
  {
   "cell_type": "code",
   "execution_count": 110,
   "outputs": [
    {
     "name": "stdout",
     "output_type": "stream",
     "text": [
      "Return-Path : <exmh-workers-admin@example.com>\n",
      "Delivered-To : zzzz@localhost.netnoteinc.com\n",
      "Received : from localhost (localhost [127.0.0.1])\tby phobos.labs.netnoteinc.com (Postfix) with ESMTP id D03E543C36\tfor <zzzz@localhost>; Thu, 22 Aug 2002 07:36:16 -0400 (EDT)\n",
      "Received : from localhost (localhost [127.0.0.1])\tby phobos.labs.netnoteinc.com (Postfix) with ESMTP id D03E543C36\tfor <zzzz@localhost>; Thu, 22 Aug 2002 07:36:16 -0400 (EDT)\n",
      "Received : from localhost (localhost [127.0.0.1])\tby phobos.labs.netnoteinc.com (Postfix) with ESMTP id D03E543C36\tfor <zzzz@localhost>; Thu, 22 Aug 2002 07:36:16 -0400 (EDT)\n",
      "Received : from localhost (localhost [127.0.0.1])\tby phobos.labs.netnoteinc.com (Postfix) with ESMTP id D03E543C36\tfor <zzzz@localhost>; Thu, 22 Aug 2002 07:36:16 -0400 (EDT)\n",
      "Delivered-To : zzzz@localhost.netnoteinc.com\n",
      "Received : from localhost (localhost [127.0.0.1])\tby phobos.labs.netnoteinc.com (Postfix) with ESMTP id D03E543C36\tfor <zzzz@localhost>; Thu, 22 Aug 2002 07:36:16 -0400 (EDT)\n",
      "Received : from localhost (localhost [127.0.0.1])\tby phobos.labs.netnoteinc.com (Postfix) with ESMTP id D03E543C36\tfor <zzzz@localhost>; Thu, 22 Aug 2002 07:36:16 -0400 (EDT)\n",
      "Received : from localhost (localhost [127.0.0.1])\tby phobos.labs.netnoteinc.com (Postfix) with ESMTP id D03E543C36\tfor <zzzz@localhost>; Thu, 22 Aug 2002 07:36:16 -0400 (EDT)\n",
      "Received : from localhost (localhost [127.0.0.1])\tby phobos.labs.netnoteinc.com (Postfix) with ESMTP id D03E543C36\tfor <zzzz@localhost>; Thu, 22 Aug 2002 07:36:16 -0400 (EDT)\n",
      "Received : from localhost (localhost [127.0.0.1])\tby phobos.labs.netnoteinc.com (Postfix) with ESMTP id D03E543C36\tfor <zzzz@localhost>; Thu, 22 Aug 2002 07:36:16 -0400 (EDT)\n",
      "Received : from localhost (localhost [127.0.0.1])\tby phobos.labs.netnoteinc.com (Postfix) with ESMTP id D03E543C36\tfor <zzzz@localhost>; Thu, 22 Aug 2002 07:36:16 -0400 (EDT)\n",
      "From : Robert Elz <kre@munnari.OZ.AU>\n",
      "To : Chris Garrigues <cwg-dated-1030377287.06fa6d@DeepEddy.Com>\n",
      "Cc : exmh-workers@example.com\n",
      "Subject : Re: New Sequences Window\n",
      "In-Reply-To : <1029945287.4797.TMDA@deepeddy.vircio.com>\n",
      "References : <1029945287.4797.TMDA@deepeddy.vircio.com>    <1029882468.3116.TMDA@deepeddy.vircio.com> <9627.1029933001@munnari.OZ.AU>    <1029943066.26919.TMDA@deepeddy.vircio.com>    <1029944441.398.TMDA@deepeddy.vircio.com>\n",
      "MIME-Version : 1.0\n",
      "Content-Type : text/plain; charset=\"us-ascii\"\n",
      "Message-Id : <13258.1030015585@munnari.OZ.AU>\n",
      "X-Loop : exmh-workers@example.com\n",
      "Sender : exmh-workers-admin@example.com\n",
      "Errors-To : exmh-workers-admin@example.com\n",
      "X-Beenthere : exmh-workers@example.com\n",
      "X-Mailman-Version : 2.0.1\n",
      "Precedence : bulk\n",
      "List-Help : <mailto:exmh-workers-request@example.com?subject=help>\n",
      "List-Post : <mailto:exmh-workers@example.com>\n",
      "List-Subscribe : <https://listman.example.com/mailman/listinfo/exmh-workers>,    <mailto:exmh-workers-request@redhat.com?subject=subscribe>\n",
      "List-Id : Discussion list for EXMH developers <exmh-workers.example.com>\n",
      "List-Unsubscribe : <https://listman.example.com/mailman/listinfo/exmh-workers>,    <mailto:exmh-workers-request@redhat.com?subject=unsubscribe>\n",
      "List-Archive : <https://listman.example.com/mailman/private/exmh-workers/>\n",
      "Date : Thu, 22 Aug 2002 18:26:25 +0700\n",
      "\n",
      "\n",
      "Conteudo:     Date:        Wed, 21 Aug 2002 10:54:46 -0500\n",
      "    From:        Chris Garrigues <cwg-dated-1030377287.06fa6d@DeepEddy.Com>\n",
      "    Message-ID:  <1029945287.4797.TMDA@deepeddy.vircio.com>\n",
      "\n",
      "\n",
      "  | I can't reproduce this error.\n",
      "\n",
      "For me it is very repeatable... (like every time, without fail).\n",
      "\n",
      "This is the debug log of the pick happening ...\n",
      "\n",
      "18:19:03 Pick_It {exec pick +inbox -list -lbrace -lbrace -subject ftp -rbrace -rbrace} {4852-4852 -sequence mercury}\n",
      "18:19:03 exec pick +inbox -list -lbrace -lbrace -subject ftp -rbrace -rbrace 4852-4852 -sequence mercury\n",
      "18:19:04 Ftoc_PickMsgs {{1 hit}}\n",
      "18:19:04 Marking 1 hits\n",
      "18:19:04 tkerror: syntax error in expression \"int ...\n",
      "\n",
      "Note, if I run the pick command by hand ...\n",
      "\n",
      "delta$ pick +inbox -list -lbrace -lbrace -subject ftp -rbrace -rbrace  4852-4852 -sequence mercury\n",
      "1 hit\n",
      "\n",
      "That's where the \"1 hit\" comes from (obviously).  The version of nmh I'm\n",
      "using is ...\n",
      "\n",
      "delta$ pick -version\n",
      "pick -- nmh-1.0.4 [compiled on fuchsia.cs.mu.OZ.AU at Sun Mar 17 14:55:56 ICT 2002]\n",
      "\n",
      "And the relevant part of my .mh_profile ...\n",
      "\n",
      "delta$ mhparam pick\n",
      "-seq sel -list\n",
      "\n",
      "\n",
      "Since the pick command works, the sequence (actually, both of them, the\n",
      "one that's explicit on the command line, from the search popup, and the\n",
      "one that comes from .mh_profile) do get created.\n",
      "\n",
      "kre\n",
      "\n",
      "ps: this is still using the version of the code form a day ago, I haven't\n",
      "been able to reach the cvs repository today (local routing issue I think).\n",
      "\n",
      "\n",
      "\n",
      "_______________________________________________\n",
      "Exmh-workers mailing list\n",
      "Exmh-workers@redhat.com\n",
      "https://listman.redhat.com/mailman/listinfo/exmh-workers\n",
      "\n",
      "\n"
     ]
    }
   ],
   "source": [
    "for i in aux.keys():\n",
    "    print(f\"{i} : {aux[i]}\")\n",
    "\n",
    "print('\\n')\n",
    "print('Conteudo:', aux.get_content())"
   ],
   "metadata": {
    "collapsed": false,
    "pycharm": {
     "name": "#%%\n"
    }
   }
  },
  {
   "cell_type": "code",
   "execution_count": 111,
   "outputs": [],
   "source": [
    "def get_email_structure(email):\n",
    "    if isinstance(email, str):\n",
    "        return email\n",
    "\n",
    "    payload = email.get_payload()\n",
    "\n",
    "    if isinstance(payload, list):\n",
    "        lista = []\n",
    "        for sub_email in payload:\n",
    "            lista.append(get_email_structure(sub_email))\n",
    "\n",
    "        return \"Estruturas do email:\", lista\n",
    "\n",
    "    else:\n",
    "\n",
    "        return email.get_content_type()\n",
    "\n",
    "\n",
    "emailsNormaisMultipart = get_email_structure(emailsNormais[634])"
   ],
   "metadata": {
    "collapsed": false,
    "pycharm": {
     "name": "#%%\n"
    }
   }
  },
  {
   "cell_type": "code",
   "execution_count": 112,
   "outputs": [
    {
     "data": {
      "text/plain": "('Estruturas do email:', ['text/plain', 'text/html'])"
     },
     "execution_count": 112,
     "metadata": {},
     "output_type": "execute_result"
    }
   ],
   "source": [
    "emailsNormaisMultipart"
   ],
   "metadata": {
    "collapsed": false,
    "pycharm": {
     "name": "#%%\n"
    }
   }
  },
  {
   "cell_type": "code",
   "execution_count": 113,
   "outputs": [
    {
     "name": "stdout",
     "output_type": "stream",
     "text": [
      "Return-Path: <fork-admin@xent.com>\n",
      "Delivered-To: yyyy@localhost.example.com\n",
      "Received: from localhost (jalapeno [127.0.0.1])\n",
      "\tby jmason.org (Postfix) with ESMTP id C2C2316F16\n",
      "\tfor <jm@localhost>; Fri, 13 Sep 2002 13:37:26 +0100 (IST)\n",
      "Received: from jalapeno [127.0.0.1]\n",
      "\tby localhost with IMAP (fetchmail-5.9.0)\n",
      "\tfor jm@localhost (single-drop); Fri, 13 Sep 2002 13:37:26 +0100 (IST)\n",
      "Received: from xent.com ([64.161.22.236]) by dogma.slashnull.org\n",
      "    (8.11.6/8.11.6) with ESMTP id g8CNsQC20509 for <jm@jmason.org>;\n",
      "    Fri, 13 Sep 2002 00:54:27 +0100\n",
      "Received: from lair.xent.com (localhost [127.0.0.1]) by xent.com (Postfix)\n",
      "    with ESMTP id A31B02940D3; Thu, 12 Sep 2002 16:51:04 -0700 (PDT)\n",
      "Delivered-To: fork@example.com\n",
      "Received: from web13003.mail.yahoo.com (web13003.mail.yahoo.com\n",
      "    [216.136.174.13]) by xent.com (Postfix) with SMTP id 5696629409A for\n",
      "    <fork@xent.com>; Thu, 12 Sep 2002 16:50:13 -0700 (PDT)\n",
      "Message-Id: <20020912235313.4003.qmail@web13003.mail.yahoo.com>\n",
      "Received: from [67.114.193.54] by web13003.mail.yahoo.com via HTTP;\n",
      "    Thu, 12 Sep 2002 16:53:13 PDT\n",
      "From: Michael Watson <scruz_mike@yahoo.com>\n",
      "Subject: Re: From salon.com - Forbidden thoughts about 9/11\n",
      "To: Chris Haun <chris@noskillz.com>\n",
      "Cc: fork@example.com\n",
      "In-Reply-To:\n",
      " <Pine.LNX.4.44.0209111507050.31122-100000@isolnetsux.techmonkeys.net>\n",
      "MIME-Version: 1.0\n",
      "Content-Type: multipart/alternative; boundary=\"0-1051763016-1031874793=:3397\"\n",
      "Sender: fork-admin@xent.com\n",
      "Errors-To: fork-admin@xent.com\n",
      "X-Beenthere: fork@example.com\n",
      "X-Mailman-Version: 2.0.11\n",
      "Precedence: bulk\n",
      "List-Help: <mailto:fork-request@xent.com?subject=help>\n",
      "List-Post: <mailto:fork@example.com>\n",
      "List-Subscribe: <http://xent.com/mailman/listinfo/fork>,\n",
      " <mailto:fork-request@xent.com?subject=subscribe>\n",
      "List-Id: Friends of Rohit Khare <fork.xent.com>\n",
      "List-Unsubscribe: <http://xent.com/mailman/listinfo/fork>,\n",
      "    <mailto:fork-request@xent.com?subject=unsubscribe>\n",
      "List-Archive: <http://xent.com/pipermail/fork/>\n",
      "Date: Thu, 12 Sep 2002 16:53:13 -0700 (PDT)\n",
      "X-Spam-Status: No, hits=-5.1 required=7.0\n",
      "\ttests=HTML_TAG_MIXED_CASE,IN_REP_TO,KNOWN_MAILING_LIST,\n",
      "\t      SPAM_PHRASE_03_05,SUPERLONG_LINE,YAHOO_MSGID_ADDED\n",
      "\tversion=2.50-cvs\n",
      "X-Spam-Level: \n",
      "\n",
      "--0-1051763016-1031874793=:3397\n",
      "Content-Type: text/plain; charset=us-ascii\n",
      "\n",
      "\n",
      "I am delurking to comment on the Salon article. I just wanted to say that I am grateful they choose not to publish my forbidden thought. I sent it in a couple of days before the 9/11 commeration. If I had just watched the sentimental network and cable shows on 9/11 my cynical thoughts would have remain unchanged. However, I watch the Frontline show \"Faith and Doubt at Ground Zero\" on PBS. That show tackled head on, with much more courage than I have seen elsewhere, the larger questions about good and evil, about art as an alternate religion (Karlheinz Stockhausen -- 9/11 was a great work of art), and especially the question about how religion has a darker side which when carried to fanatic extremes tends to negate the humanity of the non-believers.\n",
      "I am not a religious person but I stunned at the scope of this program. It talked about the Lutheran minister who spoke at Yankees Stadium on a podium with other religious leaders present who was charged with heresy by his own church for promoting the idea that all religions are equal (presumably the Lutherans have the one true path?).\n",
      "Thanks for listening, I just felt like I needed to put the word out about this program. My shallow comment on Salon and others like it (my boyfriend and I had sex while the towers collapsed) gives me pause about how some of us tend to harden ourselves to the suffering of others.\n",
      "Mike\n",
      " Chris Haun wrote:i though this was all rather interesting, first bit of 9/11 coverage that \n",
      "i've liked.\n",
      "\n",
      "http://www.salon.com/mwt/feature/2002/09/11/forbidden_letters/index.html\n",
      "\n",
      "Chris\n",
      "\n",
      "\n",
      "\n",
      "---------------------------------\n",
      "Do you Yahoo!?\n",
      "Yahoo! News - Today's headlines\n",
      "--0-1051763016-1031874793=:3397\n",
      "Content-Type: text/html; charset=us-ascii\n",
      "\n",
      "<P>I am delurking to comment on the Salon article. I just wanted to say that I am grateful they choose not to publish my forbidden thought. I sent it in a couple of days before the 9/11 commeration. If I had just watched the sentimental network and cable shows on 9/11 my cynical thoughts would have remain unchanged. However, I watch the Frontline show \"Faith and Doubt at Ground Zero\" on PBS. That show tackled head on, with much more courage than I have seen elsewhere, the larger questions about good and evil, about art as an alternate religion (Karlheinz Stockhausen -- 9/11 was a great work of art), and especially the question about how religion has a darker side which when carried to fanatic extremes tends to negate the humanity of the non-believers.\n",
      "<P>I am not a religious person but I stunned at the scope of this program. It talked about the Lutheran minister who spoke at Yankees Stadium on a podium with other religious leaders present who was charged with heresy by his own church for promoting the idea that all religions are equal (presumably the Lutherans have the one true path?).\n",
      "<P>Thanks for listening, I just felt like I needed to put the word out about this program. My shallow comment on Salon and others like it (my boyfriend and I had sex while the towers collapsed) gives me pause about how&nbsp;some&nbsp;of us&nbsp;tend to harden ourselves to the suffering of others.\n",
      "<P>Mike\n",
      "<P>&nbsp;<B><I>Chris Haun <CHRIS@NOSKILLZ.COM></I></B>wrote:\n",
      "<BLOCKQUOTE style=\"PADDING-LEFT: 5px; MARGIN-LEFT: 5px; BORDER-LEFT: #1010ff 2px solid\">i though this was all rather interesting, first bit of 9/11 coverage that <BR>i've liked.<BR><BR>http://www.salon.com/mwt/feature/2002/09/11/forbidden_letters/index.html<BR><BR>Chris<BR></BLOCKQUOTE><p><br><hr size=1>Do you Yahoo!?<br>\n",
      "<b><a href=\"http://news.yahoo.com/\">Yahoo! News</a></b> - Today's headlines\n",
      "--0-1051763016-1031874793=:3397--\n",
      "\n",
      "\n",
      "\n",
      "Content-Type: text/plain; charset=us-ascii\n",
      "\n",
      "\n",
      "I am delurking to comment on the Salon article. I just wanted to say that I am grateful they choose not to publish my forbidden thought. I sent it in a couple of days before the 9/11 commeration. If I had just watched the sentimental network and cable shows on 9/11 my cynical thoughts would have remain unchanged. However, I watch the Frontline show \"Faith and Doubt at Ground Zero\" on PBS. That show tackled head on, with much more courage than I have seen elsewhere, the larger questions about good and evil, about art as an alternate religion (Karlheinz Stockhausen -- 9/11 was a great work of art), and especially the question about how religion has a darker side which when carried to fanatic extremes tends to negate the humanity of the non-believers.\n",
      "I am not a religious person but I stunned at the scope of this program. It talked about the Lutheran minister who spoke at Yankees Stadium on a podium with other religious leaders present who was charged with heresy by his own church for promoting the idea that all religions are equal (presumably the Lutherans have the one true path?).\n",
      "Thanks for listening, I just felt like I needed to put the word out about this program. My shallow comment on Salon and others like it (my boyfriend and I had sex while the towers collapsed) gives me pause about how some of us tend to harden ourselves to the suffering of others.\n",
      "Mike\n",
      " Chris Haun wrote:i though this was all rather interesting, first bit of 9/11 coverage that \n",
      "i've liked.\n",
      "\n",
      "http://www.salon.com/mwt/feature/2002/09/11/forbidden_letters/index.html\n",
      "\n",
      "Chris\n",
      "\n",
      "\n",
      "\n",
      "---------------------------------\n",
      "Do you Yahoo!?\n",
      "Yahoo! News - Today's headlines\n",
      "Content-Type: text/html; charset=us-ascii\n",
      "\n",
      "<P>I am delurking to comment on the Salon article. I just wanted to say that I am grateful they choose not to publish my forbidden thought. I sent it in a couple of days before the 9/11 commeration. If I had just watched the sentimental network and cable shows on 9/11 my cynical thoughts would have remain unchanged. However, I watch the Frontline show \"Faith and Doubt at Ground Zero\" on PBS. That show tackled head on, with much more courage than I have seen elsewhere, the larger questions about good and evil, about art as an alternate religion (Karlheinz Stockhausen -- 9/11 was a great work of art), and especially the question about how religion has a darker side which when carried to fanatic extremes tends to negate the humanity of the non-believers.\n",
      "<P>I am not a religious person but I stunned at the scope of this program. It talked about the Lutheran minister who spoke at Yankees Stadium on a podium with other religious leaders present who was charged with heresy by his own church for promoting the idea that all religions are equal (presumably the Lutherans have the one true path?).\n",
      "<P>Thanks for listening, I just felt like I needed to put the word out about this program. My shallow comment on Salon and others like it (my boyfriend and I had sex while the towers collapsed) gives me pause about how&nbsp;some&nbsp;of us&nbsp;tend to harden ourselves to the suffering of others.\n",
      "<P>Mike\n",
      "<P>&nbsp;<B><I>Chris Haun <CHRIS@NOSKILLZ.COM></I></B>wrote:\n",
      "<BLOCKQUOTE style=\"PADDING-LEFT: 5px; MARGIN-LEFT: 5px; BORDER-LEFT: #1010ff 2px solid\">i though this was all rather interesting, first bit of 9/11 coverage that <BR>i've liked.<BR><BR>http://www.salon.com/mwt/feature/2002/09/11/forbidden_letters/index.html<BR><BR>Chris<BR></BLOCKQUOTE><p><br><hr size=1>Do you Yahoo!?<br>\n",
      "<b><a href=\"http://news.yahoo.com/\">Yahoo! News</a></b> - Today's headlines\n"
     ]
    }
   ],
   "source": [
    "\n",
    "for email in emailsNormais[634].walk():\n",
    "    print(email)"
   ],
   "metadata": {
    "collapsed": false,
    "pycharm": {
     "name": "#%%\n"
    }
   }
  },
  {
   "cell_type": "code",
   "execution_count": 114,
   "outputs": [
    {
     "data": {
      "text/plain": "\"def email_to_text(email):\\n    struct = get_email_structure(email)\\n    for part in email.walk():\\n        partContentType = part.get_content_type()\\n        if partContentType not in ['text/plain','text/html']:\\n            continue\\n        try:\\n            partContent = part.get_content()\\n        except: # in case of encoding issues\\n            partContent = str(part.get_payload())\\n        if partContentType == 'text/plain':\\n            return partContent\\n        else:\\n            return html_to_text(part)\""
     },
     "execution_count": 114,
     "metadata": {},
     "output_type": "execute_result"
    }
   ],
   "source": [
    "def html_to_text(email):\n",
    "    try:\n",
    "        soup = BeautifulSoup(email.get_content(), 'html.parser')\n",
    "        return soup.text.replace('\\n\\n', '')\n",
    "    except:\n",
    "        return \"empty\"\n",
    "\n",
    "\n",
    "def email_to_text(email):\n",
    "    for emailParts in email.walk():\n",
    "        if emailParts.get_content_type() not in ['text/plain', 'text/html']:\n",
    "            continue\n",
    "\n",
    "        try:\n",
    "            emailPartsContent = emailParts.get_content()\n",
    "        except:\n",
    "            emailPartsContent = str(emailParts.get_payload())\n",
    "\n",
    "        if emailParts.get_content_type() == 'text/plain':\n",
    "            return emailPartsContent\n",
    "        else:\n",
    "            return html_to_text(emailParts)\n",
    "\n",
    "\n",
    "'''def email_to_text(email):\n",
    "    struct = get_email_structure(email)\n",
    "    for part in email.walk():\n",
    "        partContentType = part.get_content_type()\n",
    "        if partContentType not in ['text/plain','text/html']:\n",
    "            continue\n",
    "        try:\n",
    "            partContent = part.get_content()\n",
    "        except: # in case of encoding issues\n",
    "            partContent = str(part.get_payload())\n",
    "        if partContentType == 'text/plain':\n",
    "            return partContent\n",
    "        else:\n",
    "            return html_to_text(part)'''\n"
   ],
   "metadata": {
    "collapsed": false,
    "pycharm": {
     "name": "#%%\n"
    }
   }
  },
  {
   "cell_type": "code",
   "execution_count": 115,
   "outputs": [
    {
     "data": {
      "text/plain": "'    Date:        Wed, 21 Aug 2002 10:54:46 -0500\\n    From:        Chris Garrigues <cwg-dated-1030377287.06fa6d@DeepEddy.Com>\\n    Message-ID:  <1029945287.4797.TMDA@deepeddy.vircio.com>\\n\\n\\n  | I can\\'t reproduce this error.\\n\\nFor me it is very repeatable... (like every time, without fail).\\n\\nThis is the debug log of the pick happening ...\\n\\n18:19:03 Pick_It {exec pick +inbox -list -lbrace -lbrace -subject ftp -rbrace -rbrace} {4852-4852 -sequence mercury}\\n18:19:03 exec pick +inbox -list -lbrace -lbrace -subject ftp -rbrace -rbrace 4852-4852 -sequence mercury\\n18:19:04 Ftoc_PickMsgs {{1 hit}}\\n18:19:04 Marking 1 hits\\n18:19:04 tkerror: syntax error in expression \"int ...\\n\\nNote, if I run the pick command by hand ...\\n\\ndelta$ pick +inbox -list -lbrace -lbrace -subject ftp -rbrace -rbrace  4852-4852 -sequence mercury\\n1 hit\\n\\nThat\\'s where the \"1 hit\" comes from (obviously).  The version of nmh I\\'m\\nusing is ...\\n\\ndelta$ pick -version\\npick -- nmh-1.0.4 [compiled on fuchsia.cs.mu.OZ.AU at Sun Mar 17 14:55:56 ICT 2002]\\n\\nAnd the relevant part of my .mh_profile ...\\n\\ndelta$ mhparam pick\\n-seq sel -list\\n\\n\\nSince the pick command works, the sequence (actually, both of them, the\\none that\\'s explicit on the command line, from the search popup, and the\\none that comes from .mh_profile) do get created.\\n\\nkre\\n\\nps: this is still using the version of the code form a day ago, I haven\\'t\\nbeen able to reach the cvs repository today (local routing issue I think).\\n\\n\\n\\n_______________________________________________\\nExmh-workers mailing list\\nExmh-workers@redhat.com\\nhttps://listman.redhat.com/mailman/listinfo/exmh-workers\\n\\n'"
     },
     "execution_count": 115,
     "metadata": {},
     "output_type": "execute_result"
    }
   ],
   "source": [
    "email_to_text(emailsNormais[0])"
   ],
   "metadata": {
    "collapsed": false,
    "pycharm": {
     "name": "#%%\n"
    }
   }
  },
  {
   "cell_type": "code",
   "execution_count": 116,
   "outputs": [],
   "source": [
    "def removePunctuation(text):\n",
    "    ponctuation = list(punctuation)\n",
    "\n",
    "    for i in ponctuation:\n",
    "        text = text.replace(i, \" \")\n",
    "\n",
    "    return text\n",
    "\n",
    "\n",
    "def wordsPreProcessing(email):\n",
    "    if email is None:\n",
    "        return 'empty'\n",
    "\n",
    "    newText = \"\"\n",
    "\n",
    "    stopWords = set(stopwords.words('english') + list(STOPWORDS))\n",
    "    lemmatizer = WordNetLemmatizer()\n",
    "    wordTokenize = RegexpTokenizer(r'\\w+')\n",
    "\n",
    "    for text in wordTokenize.tokenize(email.lower()):\n",
    "        text = removePunctuation(text)\n",
    "        if text not in stopWords and not text.isdigit():\n",
    "            newText += lemmatizer.lemmatize(text) + \" \"\n",
    "\n",
    "    return newText"
   ],
   "metadata": {
    "collapsed": false,
    "pycharm": {
     "name": "#%%\n"
    }
   }
  },
  {
   "cell_type": "code",
   "execution_count": 117,
   "outputs": [],
   "source": [
    "def bagOfWord(emails):\n",
    "    wordCount = {}\n",
    "\n",
    "    for email in emails:\n",
    "        for i in email.split():\n",
    "            if i not in wordCount.keys():\n",
    "                wordCount[i] = 1\n",
    "            else:\n",
    "                wordCount[i] += 1\n",
    "\n",
    "    return wordCount"
   ],
   "metadata": {
    "collapsed": false,
    "pycharm": {
     "name": "#%%\n"
    }
   }
  },
  {
   "cell_type": "markdown",
   "source": [],
   "metadata": {
    "collapsed": false
   }
  },
  {
   "cell_type": "code",
   "execution_count": 118,
   "outputs": [],
   "source": [
    "emailsText = []\n",
    "\n",
    "for email in emails:\n",
    "    emailsText.append(wordsPreProcessing\n",
    "                      (email_to_text(email)))\n",
    "\n",
    "#print(emailsText)"
   ],
   "metadata": {
    "collapsed": false,
    "pycharm": {
     "name": "#%%\n"
    }
   }
  },
  {
   "cell_type": "code",
   "execution_count": 119,
   "outputs": [
    {
     "name": "stdout",
     "output_type": "stream",
     "text": [
      "['http', 'com', 'list', 'www', 'net', 'time', 'use', 'rpm', 'message', 'people', 'email', 'like', 'user', 'mail', 'new', 'free', 'linux', 'mailing', 'spamassassin', 'listinfo', 'e', 'wrote', 'year', 'work', 'date', 'html', 'file', 'exmh', 'click', 'world', 'way', 'state', 'said', 'freshrpms', 'company', 'org', 'spam', 'think', 'url', 'want', 'c', 'group', 'right', 'money', 'need', 'mailman', 'r', 'information', 'know', 'business', 'problem', 'line', 'sourceforge', 'day', 'thing', 'service', 'perl', 'address', 'good', 'report', 'razor', 'change', 'home', 'talk', 'technology', 'order', 'internet', 'government', 'send', 'run', 'redhat', 'help', 'package', 'software', 'mv', 'data', 'web', 'network', 'best', 'subject', 'program', 'site', 'yahoo', 'link', 'look', 'fork', 'set', 'check', 'number', 'news', 'sep', 'sf', 'l', 'xml', 'old', 'phone', 'life', 'server', 'today', 'country']\n"
     ]
    }
   ],
   "source": [
    "wordCount = bagOfWord(emailsText)\n",
    "\n",
    "wordFrequency = heapq.nlargest(100, wordCount, wordCount.get)\n",
    "\n",
    "print(wordFrequency)"
   ],
   "metadata": {
    "collapsed": false,
    "pycharm": {
     "name": "#%%\n"
    }
   }
  },
  {
   "cell_type": "code",
   "execution_count": 120,
   "outputs": [
    {
     "name": "stdout",
     "output_type": "stream",
     "text": [
      "  (0, 17652)\t0.020240486677902153\n",
      "  (0, 18177)\t0.023376566212732656\n",
      "  (0, 17654)\t0.037017937597750114\n",
      "  (0, 14506)\t0.011465093983824429\n",
      "  (0, 24146)\t0.06679878390890802\n",
      "  (0, 18172)\t0.020635049009932963\n",
      "  (0, 31793)\t0.12484611634973318\n",
      "  (0, 11245)\t0.10595670075102318\n",
      "  (0, 28779)\t0.025889935774784083\n",
      "  (0, 15868)\t0.03305976777298247\n",
      "  (0, 25159)\t0.05737229510596739\n",
      "  (0, 17752)\t0.037017937597750114\n",
      "  (0, 29041)\t0.03078612001681155\n",
      "  (0, 24543)\t0.04869253545287004\n",
      "  (0, 8222)\t0.04004868054508046\n",
      "  (0, 23939)\t0.04275234018108462\n",
      "  (0, 2429)\t0.036889993387781615\n",
      "  (0, 2920)\t0.03761709243845753\n",
      "  (0, 8475)\t0.028579223961352904\n",
      "  (0, 12250)\t0.03310153285223987\n",
      "  (0, 7016)\t0.03233908163378822\n",
      "  (0, 16898)\t0.04892849388123416\n",
      "  (0, 7980)\t0.04419309062826105\n",
      "  (0, 22511)\t0.0642954905404043\n",
      "  (0, 25842)\t0.04032258738889092\n",
      "  :\t:\n",
      "  (3051, 28317)\t0.02205459761078935\n",
      "  (3051, 30365)\t0.023120884017759056\n",
      "  (3051, 10489)\t0.00287039261308166\n",
      "  (3051, 25985)\t0.0038966405236992795\n",
      "  (3051, 29017)\t0.11886326509452493\n",
      "  (3051, 6872)\t0.002932284089490863\n",
      "  (3051, 12397)\t0.006359860594743627\n",
      "  (3051, 19337)\t0.006819892948820345\n",
      "  (3051, 14138)\t0.022093792769611206\n",
      "  (3051, 11588)\t0.004500683370248215\n",
      "  (3051, 10164)\t0.00677381527904667\n",
      "  (3051, 29041)\t0.003981605005325513\n",
      "  (3051, 23939)\t0.005529210292217109\n",
      "  (3051, 2429)\t0.014313078319613643\n",
      "  (3051, 8475)\t0.014784738201592531\n",
      "  (3051, 12250)\t0.012843180187999063\n",
      "  (3051, 31789)\t0.009756246191148708\n",
      "  (3051, 24377)\t0.006210398445235155\n",
      "  (3051, 21296)\t0.13691075814953774\n",
      "  (3051, 20308)\t0.029462571280347863\n",
      "  (3051, 27747)\t0.003647830812783391\n",
      "  (3051, 17638)\t0.002291635436867296\n",
      "  (3051, 11524)\t0.00632797949316697\n",
      "  (3051, 28931)\t0.029401676858272666\n",
      "  (3051, 17541)\t0.00837029511894892\n"
     ]
    }
   ],
   "source": [
    "#tfidfVectorizer = TfidfVectorizer(analyzer=\"word\", max_features=1000)\n",
    "tfidfVectorizer = TfidfVectorizer(analyzer=\"word\")\n",
    "\n",
    "tfidfTransform = tfidfVectorizer.fit_transform(emailsText)\n",
    "\n",
    "print(tfidfTransform)"
   ],
   "metadata": {
    "collapsed": false,
    "pycharm": {
     "name": "#%%\n"
    }
   }
  },
  {
   "cell_type": "code",
   "execution_count": 121,
   "outputs": [
    {
     "data": {
      "text/plain": "array(['00', '000', '0001zd', ..., '활황을', '훨씬', '힘입어'], dtype=object)"
     },
     "execution_count": 121,
     "metadata": {},
     "output_type": "execute_result"
    }
   ],
   "source": [
    "tfidfLabels = tfidfVectorizer.get_feature_names_out()\n",
    "tfidfLabels"
   ],
   "metadata": {
    "collapsed": false,
    "pycharm": {
     "name": "#%%\n"
    }
   }
  },
  {
   "cell_type": "code",
   "execution_count": 122,
   "outputs": [],
   "source": [
    "dfTfidfArray = pd.DataFrame(data=tfidfTransform.toarray(), index=emailsNome, columns=tfidfLabels)"
   ],
   "metadata": {
    "collapsed": false,
    "pycharm": {
     "name": "#%%\n"
    }
   }
  },
  {
   "cell_type": "code",
   "execution_count": 123,
   "outputs": [
    {
     "data": {
      "text/plain": "                                        00  000  0001zd  0004es  0007b1d4  \\\n0001.ea7e79d3153e7469e7a9c3e0af6a357e  0.0  0.0     0.0     0.0       0.0   \n0002.b3120c4bcbf3101e661161ee7efcb8bf  0.0  0.0     0.0     0.0       0.0   \n0003.acfc5ad94bbd27118a0d8685d18c89dd  0.0  0.0     0.0     0.0       0.0   \n0004.e8d5727378ddde5c3be181df593f1712  0.0  0.0     0.0     0.0       0.0   \n0005.8c3b9e9c0f3f183ddaf7592a11b99957  0.0  0.0     0.0     0.0       0.0   \n...                                    ...  ...     ...     ...       ...   \n0496.e995facc5d5bc6d3f3a8537d35e0432a  0.0  0.0     0.0     0.0       0.0   \n0497.9307bd1fb5347f9fbf1f54ebe95b1d20  0.0  0.0     0.0     0.0       0.0   \n0498.863566df8e5f17f979edca79d1e87187  0.0  0.0     0.0     0.0       0.0   \n0499.4a17fbd7fe71705e09b4dd2e24d802dd  0.0  0.0     0.0     0.0       0.0   \n0500.2e8762b67913d1b07bc8da293448d27f  0.0  0.0     0.0     0.0       0.0   \n\n                                       00085k  000e  000miles  000s  000th  \\\n0001.ea7e79d3153e7469e7a9c3e0af6a357e     0.0   0.0       0.0   0.0    0.0   \n0002.b3120c4bcbf3101e661161ee7efcb8bf     0.0   0.0       0.0   0.0    0.0   \n0003.acfc5ad94bbd27118a0d8685d18c89dd     0.0   0.0       0.0   0.0    0.0   \n0004.e8d5727378ddde5c3be181df593f1712     0.0   0.0       0.0   0.0    0.0   \n0005.8c3b9e9c0f3f183ddaf7592a11b99957     0.0   0.0       0.0   0.0    0.0   \n...                                       ...   ...       ...   ...    ...   \n0496.e995facc5d5bc6d3f3a8537d35e0432a     0.0   0.0       0.0   0.0    0.0   \n0497.9307bd1fb5347f9fbf1f54ebe95b1d20     0.0   0.0       0.0   0.0    0.0   \n0498.863566df8e5f17f979edca79d1e87187     0.0   0.0       0.0   0.0    0.0   \n0499.4a17fbd7fe71705e09b4dd2e24d802dd     0.0   0.0       0.0   0.0    0.0   \n0500.2e8762b67913d1b07bc8da293448d27f     0.0   0.0       0.0   0.0    0.0   \n\n                                       ...  해보자  허락없이  헤어디자이너   현재  호황을  홈쇼핑의  \\\n0001.ea7e79d3153e7469e7a9c3e0af6a357e  ...  0.0   0.0     0.0  0.0  0.0   0.0   \n0002.b3120c4bcbf3101e661161ee7efcb8bf  ...  0.0   0.0     0.0  0.0  0.0   0.0   \n0003.acfc5ad94bbd27118a0d8685d18c89dd  ...  0.0   0.0     0.0  0.0  0.0   0.0   \n0004.e8d5727378ddde5c3be181df593f1712  ...  0.0   0.0     0.0  0.0  0.0   0.0   \n0005.8c3b9e9c0f3f183ddaf7592a11b99957  ...  0.0   0.0     0.0  0.0  0.0   0.0   \n...                                    ...  ...   ...     ...  ...  ...   ...   \n0496.e995facc5d5bc6d3f3a8537d35e0432a  ...  0.0   0.0     0.0  0.0  0.0   0.0   \n0497.9307bd1fb5347f9fbf1f54ebe95b1d20  ...  0.0   0.0     0.0  0.0  0.0   0.0   \n0498.863566df8e5f17f979edca79d1e87187  ...  0.0   0.0     0.0  0.0  0.0   0.0   \n0499.4a17fbd7fe71705e09b4dd2e24d802dd  ...  0.0   0.0     0.0  0.0  0.0   0.0   \n0500.2e8762b67913d1b07bc8da293448d27f  ...  0.0   0.0     0.0  0.0  0.0   0.0   \n\n                                       확실한  활황을   훨씬  힘입어  \n0001.ea7e79d3153e7469e7a9c3e0af6a357e  0.0  0.0  0.0  0.0  \n0002.b3120c4bcbf3101e661161ee7efcb8bf  0.0  0.0  0.0  0.0  \n0003.acfc5ad94bbd27118a0d8685d18c89dd  0.0  0.0  0.0  0.0  \n0004.e8d5727378ddde5c3be181df593f1712  0.0  0.0  0.0  0.0  \n0005.8c3b9e9c0f3f183ddaf7592a11b99957  0.0  0.0  0.0  0.0  \n...                                    ...  ...  ...  ...  \n0496.e995facc5d5bc6d3f3a8537d35e0432a  0.0  0.0  0.0  0.0  \n0497.9307bd1fb5347f9fbf1f54ebe95b1d20  0.0  0.0  0.0  0.0  \n0498.863566df8e5f17f979edca79d1e87187  0.0  0.0  0.0  0.0  \n0499.4a17fbd7fe71705e09b4dd2e24d802dd  0.0  0.0  0.0  0.0  \n0500.2e8762b67913d1b07bc8da293448d27f  0.0  0.0  0.0  0.0  \n\n[3052 rows x 33129 columns]",
      "text/html": "<div>\n<style scoped>\n    .dataframe tbody tr th:only-of-type {\n        vertical-align: middle;\n    }\n\n    .dataframe tbody tr th {\n        vertical-align: top;\n    }\n\n    .dataframe thead th {\n        text-align: right;\n    }\n</style>\n<table border=\"1\" class=\"dataframe\">\n  <thead>\n    <tr style=\"text-align: right;\">\n      <th></th>\n      <th>00</th>\n      <th>000</th>\n      <th>0001zd</th>\n      <th>0004es</th>\n      <th>0007b1d4</th>\n      <th>00085k</th>\n      <th>000e</th>\n      <th>000miles</th>\n      <th>000s</th>\n      <th>000th</th>\n      <th>...</th>\n      <th>해보자</th>\n      <th>허락없이</th>\n      <th>헤어디자이너</th>\n      <th>현재</th>\n      <th>호황을</th>\n      <th>홈쇼핑의</th>\n      <th>확실한</th>\n      <th>활황을</th>\n      <th>훨씬</th>\n      <th>힘입어</th>\n    </tr>\n  </thead>\n  <tbody>\n    <tr>\n      <th>0001.ea7e79d3153e7469e7a9c3e0af6a357e</th>\n      <td>0.0</td>\n      <td>0.0</td>\n      <td>0.0</td>\n      <td>0.0</td>\n      <td>0.0</td>\n      <td>0.0</td>\n      <td>0.0</td>\n      <td>0.0</td>\n      <td>0.0</td>\n      <td>0.0</td>\n      <td>...</td>\n      <td>0.0</td>\n      <td>0.0</td>\n      <td>0.0</td>\n      <td>0.0</td>\n      <td>0.0</td>\n      <td>0.0</td>\n      <td>0.0</td>\n      <td>0.0</td>\n      <td>0.0</td>\n      <td>0.0</td>\n    </tr>\n    <tr>\n      <th>0002.b3120c4bcbf3101e661161ee7efcb8bf</th>\n      <td>0.0</td>\n      <td>0.0</td>\n      <td>0.0</td>\n      <td>0.0</td>\n      <td>0.0</td>\n      <td>0.0</td>\n      <td>0.0</td>\n      <td>0.0</td>\n      <td>0.0</td>\n      <td>0.0</td>\n      <td>...</td>\n      <td>0.0</td>\n      <td>0.0</td>\n      <td>0.0</td>\n      <td>0.0</td>\n      <td>0.0</td>\n      <td>0.0</td>\n      <td>0.0</td>\n      <td>0.0</td>\n      <td>0.0</td>\n      <td>0.0</td>\n    </tr>\n    <tr>\n      <th>0003.acfc5ad94bbd27118a0d8685d18c89dd</th>\n      <td>0.0</td>\n      <td>0.0</td>\n      <td>0.0</td>\n      <td>0.0</td>\n      <td>0.0</td>\n      <td>0.0</td>\n      <td>0.0</td>\n      <td>0.0</td>\n      <td>0.0</td>\n      <td>0.0</td>\n      <td>...</td>\n      <td>0.0</td>\n      <td>0.0</td>\n      <td>0.0</td>\n      <td>0.0</td>\n      <td>0.0</td>\n      <td>0.0</td>\n      <td>0.0</td>\n      <td>0.0</td>\n      <td>0.0</td>\n      <td>0.0</td>\n    </tr>\n    <tr>\n      <th>0004.e8d5727378ddde5c3be181df593f1712</th>\n      <td>0.0</td>\n      <td>0.0</td>\n      <td>0.0</td>\n      <td>0.0</td>\n      <td>0.0</td>\n      <td>0.0</td>\n      <td>0.0</td>\n      <td>0.0</td>\n      <td>0.0</td>\n      <td>0.0</td>\n      <td>...</td>\n      <td>0.0</td>\n      <td>0.0</td>\n      <td>0.0</td>\n      <td>0.0</td>\n      <td>0.0</td>\n      <td>0.0</td>\n      <td>0.0</td>\n      <td>0.0</td>\n      <td>0.0</td>\n      <td>0.0</td>\n    </tr>\n    <tr>\n      <th>0005.8c3b9e9c0f3f183ddaf7592a11b99957</th>\n      <td>0.0</td>\n      <td>0.0</td>\n      <td>0.0</td>\n      <td>0.0</td>\n      <td>0.0</td>\n      <td>0.0</td>\n      <td>0.0</td>\n      <td>0.0</td>\n      <td>0.0</td>\n      <td>0.0</td>\n      <td>...</td>\n      <td>0.0</td>\n      <td>0.0</td>\n      <td>0.0</td>\n      <td>0.0</td>\n      <td>0.0</td>\n      <td>0.0</td>\n      <td>0.0</td>\n      <td>0.0</td>\n      <td>0.0</td>\n      <td>0.0</td>\n    </tr>\n    <tr>\n      <th>...</th>\n      <td>...</td>\n      <td>...</td>\n      <td>...</td>\n      <td>...</td>\n      <td>...</td>\n      <td>...</td>\n      <td>...</td>\n      <td>...</td>\n      <td>...</td>\n      <td>...</td>\n      <td>...</td>\n      <td>...</td>\n      <td>...</td>\n      <td>...</td>\n      <td>...</td>\n      <td>...</td>\n      <td>...</td>\n      <td>...</td>\n      <td>...</td>\n      <td>...</td>\n      <td>...</td>\n    </tr>\n    <tr>\n      <th>0496.e995facc5d5bc6d3f3a8537d35e0432a</th>\n      <td>0.0</td>\n      <td>0.0</td>\n      <td>0.0</td>\n      <td>0.0</td>\n      <td>0.0</td>\n      <td>0.0</td>\n      <td>0.0</td>\n      <td>0.0</td>\n      <td>0.0</td>\n      <td>0.0</td>\n      <td>...</td>\n      <td>0.0</td>\n      <td>0.0</td>\n      <td>0.0</td>\n      <td>0.0</td>\n      <td>0.0</td>\n      <td>0.0</td>\n      <td>0.0</td>\n      <td>0.0</td>\n      <td>0.0</td>\n      <td>0.0</td>\n    </tr>\n    <tr>\n      <th>0497.9307bd1fb5347f9fbf1f54ebe95b1d20</th>\n      <td>0.0</td>\n      <td>0.0</td>\n      <td>0.0</td>\n      <td>0.0</td>\n      <td>0.0</td>\n      <td>0.0</td>\n      <td>0.0</td>\n      <td>0.0</td>\n      <td>0.0</td>\n      <td>0.0</td>\n      <td>...</td>\n      <td>0.0</td>\n      <td>0.0</td>\n      <td>0.0</td>\n      <td>0.0</td>\n      <td>0.0</td>\n      <td>0.0</td>\n      <td>0.0</td>\n      <td>0.0</td>\n      <td>0.0</td>\n      <td>0.0</td>\n    </tr>\n    <tr>\n      <th>0498.863566df8e5f17f979edca79d1e87187</th>\n      <td>0.0</td>\n      <td>0.0</td>\n      <td>0.0</td>\n      <td>0.0</td>\n      <td>0.0</td>\n      <td>0.0</td>\n      <td>0.0</td>\n      <td>0.0</td>\n      <td>0.0</td>\n      <td>0.0</td>\n      <td>...</td>\n      <td>0.0</td>\n      <td>0.0</td>\n      <td>0.0</td>\n      <td>0.0</td>\n      <td>0.0</td>\n      <td>0.0</td>\n      <td>0.0</td>\n      <td>0.0</td>\n      <td>0.0</td>\n      <td>0.0</td>\n    </tr>\n    <tr>\n      <th>0499.4a17fbd7fe71705e09b4dd2e24d802dd</th>\n      <td>0.0</td>\n      <td>0.0</td>\n      <td>0.0</td>\n      <td>0.0</td>\n      <td>0.0</td>\n      <td>0.0</td>\n      <td>0.0</td>\n      <td>0.0</td>\n      <td>0.0</td>\n      <td>0.0</td>\n      <td>...</td>\n      <td>0.0</td>\n      <td>0.0</td>\n      <td>0.0</td>\n      <td>0.0</td>\n      <td>0.0</td>\n      <td>0.0</td>\n      <td>0.0</td>\n      <td>0.0</td>\n      <td>0.0</td>\n      <td>0.0</td>\n    </tr>\n    <tr>\n      <th>0500.2e8762b67913d1b07bc8da293448d27f</th>\n      <td>0.0</td>\n      <td>0.0</td>\n      <td>0.0</td>\n      <td>0.0</td>\n      <td>0.0</td>\n      <td>0.0</td>\n      <td>0.0</td>\n      <td>0.0</td>\n      <td>0.0</td>\n      <td>0.0</td>\n      <td>...</td>\n      <td>0.0</td>\n      <td>0.0</td>\n      <td>0.0</td>\n      <td>0.0</td>\n      <td>0.0</td>\n      <td>0.0</td>\n      <td>0.0</td>\n      <td>0.0</td>\n      <td>0.0</td>\n      <td>0.0</td>\n    </tr>\n  </tbody>\n</table>\n<p>3052 rows × 33129 columns</p>\n</div>"
     },
     "execution_count": 123,
     "metadata": {},
     "output_type": "execute_result"
    }
   ],
   "source": [
    "dfTfidfArray"
   ],
   "metadata": {
    "collapsed": false,
    "pycharm": {
     "name": "#%%\n"
    }
   }
  },
  {
   "cell_type": "code",
   "execution_count": 124,
   "outputs": [
    {
     "name": "stdout",
     "output_type": "stream",
     "text": [
      "3052\n",
      "[0, 0, 0, 0, 0, 0, 0, 0, 0, 0, 0, 0, 0, 0, 0, 0, 0, 0, 0, 0, 0, 0, 0, 0, 0, 0, 0, 0, 0, 0, 0, 0, 0, 0, 0, 0, 0, 0, 0, 0, 0, 0, 0, 0, 0, 0, 0, 0, 0, 0, 0, 0, 0, 0, 0, 0, 0, 0, 0, 0, 0, 0, 0, 0, 0, 0, 0, 0, 0, 0, 0, 0, 0, 0, 0, 0, 0, 0, 0, 0, 0, 0, 0, 0, 0, 0, 0, 0, 0, 0, 0, 0, 0, 0, 0, 0, 0, 0, 0, 0, 0, 0, 0, 0, 0, 0, 0, 0, 0, 0, 0, 0, 0, 0, 0, 0, 0, 0, 0, 0, 0, 0, 0, 0, 0, 0, 0, 0, 0, 0, 0, 0, 0, 0, 0, 0, 0, 0, 0, 0, 0, 0, 0, 0, 0, 0, 0, 0, 0, 0, 0, 0, 0, 0, 0, 0, 0, 0, 0, 0, 0, 0, 0, 0, 0, 0, 0, 0, 0, 0, 0, 0, 0, 0, 0, 0, 0, 0, 0, 0, 0, 0, 0, 0, 0, 0, 0, 0, 0, 0, 0, 0, 0, 0, 0, 0, 0, 0, 0, 0, 0, 0, 0, 0, 0, 0, 0, 0, 0, 0, 0, 0, 0, 0, 0, 0, 0, 0, 0, 0, 0, 0, 0, 0, 0, 0, 0, 0, 0, 0, 0, 0, 0, 0, 0, 0, 0, 0, 0, 0, 0, 0, 0, 0, 0, 0, 0, 0, 0, 0, 0, 0, 0, 0, 0, 0, 0, 0, 0, 0, 0, 0, 0, 0, 0, 0, 0, 0, 0, 0, 0, 0, 0, 0, 0, 0, 0, 0, 0, 0, 0, 0, 0, 0, 0, 0, 0, 0, 0, 0, 0, 0, 0, 0, 0, 0, 0, 0, 0, 0, 0, 0, 0, 0, 0, 0, 0, 0, 0, 0, 0, 0, 0, 0, 0, 0, 0, 0, 0, 0, 0, 0, 0, 0, 0, 0, 0, 0, 0, 0, 0, 0, 0, 0, 0, 0, 0, 0, 0, 0, 0, 0, 0, 0, 0, 0, 0, 0, 0, 0, 0, 0, 0, 0, 0, 0, 0, 0, 0, 0, 0, 0, 0, 0, 0, 0, 0, 0, 0, 0, 0, 0, 0, 0, 0, 0, 0, 0, 0, 0, 0, 0, 0, 0, 0, 0, 0, 0, 0, 0, 0, 0, 0, 0, 0, 0, 0, 0, 0, 0, 0, 0, 0, 0, 0, 0, 0, 0, 0, 0, 0, 0, 0, 0, 0, 0, 0, 0, 0, 0, 0, 0, 0, 0, 0, 0, 0, 0, 0, 0, 0, 0, 0, 0, 0, 0, 0, 0, 0, 0, 0, 0, 0, 0, 0, 0, 0, 0, 0, 0, 0, 0, 0, 0, 0, 0, 0, 0, 0, 0, 0, 0, 0, 0, 0, 0, 0, 0, 0, 0, 0, 0, 0, 0, 0, 0, 0, 0, 0, 0, 0, 0, 0, 0, 0, 0, 0, 0, 0, 0, 0, 0, 0, 0, 0, 0, 0, 0, 0, 0, 0, 0, 0, 0, 0, 0, 0, 0, 0, 0, 0, 0, 0, 0, 0, 0, 0, 0, 0, 0, 0, 0, 0, 0, 0, 0, 0, 0, 0, 0, 0, 0, 0, 0, 0, 0, 0, 0, 0, 0, 0, 0, 0, 0, 0, 0, 0, 0, 0, 0, 0, 0, 0, 0, 0, 0, 0, 0, 0, 0, 0, 0, 0, 0, 0, 0, 0, 0, 0, 0, 0, 0, 0, 0, 0, 0, 0, 0, 0, 0, 0, 0, 0, 0, 0, 0, 0, 0, 0, 0, 0, 0, 0, 0, 0, 0, 0, 0, 0, 0, 0, 0, 0, 0, 0, 0, 0, 0, 0, 0, 0, 0, 0, 0, 0, 0, 0, 0, 0, 0, 0, 0, 0, 0, 0, 0, 0, 0, 0, 0, 0, 0, 0, 0, 0, 0, 0, 0, 0, 0, 0, 0, 0, 0, 0, 0, 0, 0, 0, 0, 0, 0, 0, 0, 0, 0, 0, 0, 0, 0, 0, 0, 0, 0, 0, 0, 0, 0, 0, 0, 0, 0, 0, 0, 0, 0, 0, 0, 0, 0, 0, 0, 0, 0, 0, 0, 0, 0, 0, 0, 0, 0, 0, 0, 0, 0, 0, 0, 0, 0, 0, 0, 0, 0, 0, 0, 0, 0, 0, 0, 0, 0, 0, 0, 0, 0, 0, 0, 0, 0, 0, 0, 0, 0, 0, 0, 0, 0, 0, 0, 0, 0, 0, 0, 0, 0, 0, 0, 0, 0, 0, 0, 0, 0, 0, 0, 0, 0, 0, 0, 0, 0, 0, 0, 0, 0, 0, 0, 0, 0, 0, 0, 0, 0, 0, 0, 0, 0, 0, 0, 0, 0, 0, 0, 0, 0, 0, 0, 0, 0, 0, 0, 0, 0, 0, 0, 0, 0, 0, 0, 0, 0, 0, 0, 0, 0, 0, 0, 0, 0, 0, 0, 0, 0, 0, 0, 0, 0, 0, 0, 0, 0, 0, 0, 0, 0, 0, 0, 0, 0, 0, 0, 0, 0, 0, 0, 0, 0, 0, 0, 0, 0, 0, 0, 0, 0, 0, 0, 0, 0, 0, 0, 0, 0, 0, 0, 0, 0, 0, 0, 0, 0, 0, 0, 0, 0, 0, 0, 0, 0, 0, 0, 0, 0, 0, 0, 0, 0, 0, 0, 0, 0, 0, 0, 0, 0, 0, 0, 0, 0, 0, 0, 0, 0, 0, 0, 0, 0, 0, 0, 0, 0, 0, 0, 0, 0, 0, 0, 0, 0, 0, 0, 0, 0, 0, 0, 0, 0, 0, 0, 0, 0, 0, 0, 0, 0, 0, 0, 0, 0, 0, 0, 0, 0, 0, 0, 0, 0, 0, 0, 0, 0, 0, 0, 0, 0, 0, 0, 0, 0, 0, 0, 0, 0, 0, 0, 0, 0, 0, 0, 0, 0, 0, 0, 0, 0, 0, 0, 0, 0, 0, 0, 0, 0, 0, 0, 0, 0, 0, 0, 0, 0, 0, 0, 0, 0, 0, 0, 0, 0, 0, 0, 0, 0, 0, 0, 0, 0, 0, 0, 0, 0, 0, 0, 0, 0, 0, 0, 0, 0, 0, 0, 0, 0, 0, 0, 0, 0, 0, 0, 0, 0, 0, 0, 0, 0, 0, 0, 0, 0, 0, 0, 0, 0, 0, 0, 0, 0, 0, 0, 0, 0, 0, 0, 0, 0, 0, 0, 0, 0, 0, 0, 0, 0, 0, 0, 0, 0, 0, 0, 0, 0, 0, 0, 0, 0, 0, 0, 0, 0, 0, 0, 0, 0, 0, 0, 0, 0, 0, 0, 0, 0, 0, 0, 0, 0, 0, 0, 0, 0, 0, 0, 0, 0, 0, 0, 0, 0, 0, 0, 0, 0, 0, 0, 0, 0, 0, 0, 0, 0, 0, 0, 0, 0, 0, 0, 0, 0, 0, 0, 0, 0, 0, 0, 0, 0, 0, 0, 0, 0, 0, 0, 0, 0, 0, 0, 0, 0, 0, 0, 0, 0, 0, 0, 0, 0, 0, 0, 0, 0, 0, 0, 0, 0, 0, 0, 0, 0, 0, 0, 0, 0, 0, 0, 0, 0, 0, 0, 0, 0, 0, 0, 0, 0, 0, 0, 0, 0, 0, 0, 0, 0, 0, 0, 0, 0, 0, 0, 0, 0, 0, 0, 0, 0, 0, 0, 0, 0, 0, 0, 0, 0, 0, 0, 0, 0, 0, 0, 0, 0, 0, 0, 0, 0, 0, 0, 0, 0, 0, 0, 0, 0, 0, 0, 0, 0, 0, 0, 0, 0, 0, 0, 0, 0, 0, 0, 0, 0, 0, 0, 0, 0, 0, 0, 0, 0, 0, 0, 0, 0, 0, 0, 0, 0, 0, 0, 0, 0, 0, 0, 0, 0, 0, 0, 0, 0, 0, 0, 0, 0, 0, 0, 0, 0, 0, 0, 0, 0, 0, 0, 0, 0, 0, 0, 0, 0, 0, 0, 0, 0, 0, 0, 0, 0, 0, 0, 0, 0, 0, 0, 0, 0, 0, 0, 0, 0, 0, 0, 0, 0, 0, 0, 0, 0, 0, 0, 0, 0, 0, 0, 0, 0, 0, 0, 0, 0, 0, 0, 0, 0, 0, 0, 0, 0, 0, 0, 0, 0, 0, 0, 0, 0, 0, 0, 0, 0, 0, 0, 0, 0, 0, 0, 0, 0, 0, 0, 0, 0, 0, 0, 0, 0, 0, 0, 0, 0, 0, 0, 0, 0, 0, 0, 0, 0, 0, 0, 0, 0, 0, 0, 0, 0, 0, 0, 0, 0, 0, 0, 0, 0, 0, 0, 0, 0, 0, 0, 0, 0, 0, 0, 0, 0, 0, 0, 0, 0, 0, 0, 0, 0, 0, 0, 0, 0, 0, 0, 0, 0, 0, 0, 0, 0, 0, 0, 0, 0, 0, 0, 0, 0, 0, 0, 0, 0, 0, 0, 0, 0, 0, 0, 0, 0, 0, 0, 0, 0, 0, 0, 0, 0, 0, 0, 0, 0, 0, 0, 0, 0, 0, 0, 0, 0, 0, 0, 0, 0, 0, 0, 0, 0, 0, 0, 0, 0, 0, 0, 0, 0, 0, 0, 0, 0, 0, 0, 0, 0, 0, 0, 0, 0, 0, 0, 0, 0, 0, 0, 0, 0, 0, 0, 0, 0, 0, 0, 0, 0, 0, 0, 0, 0, 0, 0, 0, 0, 0, 0, 0, 0, 0, 0, 0, 0, 0, 0, 0, 0, 0, 0, 0, 0, 0, 0, 0, 0, 0, 0, 0, 0, 0, 0, 0, 0, 0, 0, 0, 0, 0, 0, 0, 0, 0, 0, 0, 0, 0, 0, 0, 0, 0, 0, 0, 0, 0, 0, 0, 0, 0, 0, 0, 0, 0, 0, 0, 0, 0, 0, 0, 0, 0, 0, 0, 0, 0, 0, 0, 0, 0, 0, 0, 0, 0, 0, 0, 0, 0, 0, 0, 0, 0, 0, 0, 0, 0, 0, 0, 0, 0, 0, 0, 0, 0, 0, 0, 0, 0, 0, 0, 0, 0, 0, 0, 0, 0, 0, 0, 0, 0, 0, 0, 0, 0, 0, 0, 0, 0, 0, 0, 0, 0, 0, 0, 0, 0, 0, 0, 0, 0, 0, 0, 0, 0, 0, 0, 0, 0, 0, 0, 0, 0, 0, 0, 0, 0, 0, 0, 0, 0, 0, 0, 0, 0, 0, 0, 0, 0, 0, 0, 0, 0, 0, 0, 0, 0, 0, 0, 0, 0, 0, 0, 0, 0, 0, 0, 0, 0, 0, 0, 0, 0, 0, 0, 0, 0, 0, 0, 0, 0, 0, 0, 0, 0, 0, 0, 0, 0, 0, 0, 0, 0, 0, 0, 0, 0, 0, 0, 0, 0, 0, 0, 0, 0, 0, 0, 0, 0, 0, 0, 0, 0, 0, 0, 0, 0, 0, 0, 0, 0, 0, 0, 0, 0, 0, 0, 0, 0, 0, 0, 0, 0, 0, 0, 0, 0, 0, 0, 0, 0, 0, 0, 0, 0, 0, 0, 0, 0, 0, 0, 0, 0, 0, 0, 0, 0, 0, 0, 0, 0, 0, 0, 0, 0, 0, 0, 0, 0, 0, 0, 0, 0, 0, 0, 0, 0, 0, 0, 0, 0, 0, 0, 0, 0, 0, 0, 0, 0, 0, 0, 0, 0, 0, 0, 0, 0, 0, 0, 0, 0, 0, 0, 0, 0, 0, 0, 0, 0, 0, 0, 0, 0, 0, 0, 0, 0, 0, 0, 0, 0, 0, 0, 0, 0, 0, 0, 0, 0, 0, 0, 0, 0, 0, 0, 0, 0, 0, 0, 0, 0, 0, 0, 0, 0, 0, 0, 0, 0, 0, 0, 0, 0, 0, 0, 0, 0, 0, 0, 0, 0, 0, 0, 0, 0, 0, 0, 0, 0, 0, 0, 0, 0, 0, 0, 0, 0, 0, 0, 0, 0, 0, 0, 0, 0, 0, 0, 0, 0, 0, 0, 0, 0, 0, 0, 0, 0, 0, 0, 0, 0, 0, 0, 0, 0, 0, 0, 0, 0, 0, 0, 0, 0, 0, 0, 0, 0, 0, 0, 0, 0, 0, 0, 0, 0, 0, 0, 0, 0, 0, 0, 0, 0, 0, 0, 0, 0, 0, 0, 0, 0, 0, 0, 0, 0, 0, 0, 0, 0, 0, 0, 0, 0, 0, 0, 0, 0, 0, 0, 0, 0, 0, 0, 0, 0, 0, 0, 0, 0, 0, 0, 0, 0, 0, 0, 0, 0, 0, 0, 0, 0, 0, 0, 0, 0, 0, 0, 0, 0, 0, 0, 0, 0, 0, 0, 0, 0, 0, 0, 0, 0, 0, 0, 0, 0, 0, 0, 0, 0, 0, 0, 0, 0, 0, 0, 0, 0, 0, 0, 0, 0, 0, 0, 0, 0, 0, 0, 0, 0, 0, 0, 0, 0, 0, 0, 0, 0, 0, 0, 0, 0, 0, 0, 0, 0, 0, 0, 0, 0, 0, 0, 0, 0, 0, 0, 0, 0, 0, 0, 0, 0, 0, 0, 0, 0, 0, 0, 0, 0, 0, 0, 0, 0, 0, 0, 0, 0, 0, 0, 0, 0, 0, 0, 0, 0, 0, 0, 0, 0, 0, 0, 0, 0, 0, 0, 0, 0, 0, 0, 0, 0, 0, 0, 0, 0, 0, 0, 0, 0, 0, 0, 0, 0, 0, 0, 0, 0, 0, 0, 0, 0, 0, 0, 0, 0, 0, 0, 0, 0, 0, 0, 0, 0, 0, 0, 0, 0, 0, 0, 0, 0, 0, 0, 0, 0, 0, 0, 0, 0, 0, 0, 0, 0, 0, 0, 0, 0, 0, 0, 0, 0, 0, 0, 0, 0, 0, 0, 0, 0, 0, 0, 0, 0, 0, 0, 0, 0, 0, 0, 0, 0, 0, 0, 0, 0, 0, 0, 0, 0, 0, 0, 0, 0, 0, 0, 0, 0, 0, 0, 0, 0, 0, 0, 0, 0, 0, 0, 0, 0, 0, 0, 0, 0, 0, 0, 0, 0, 0, 0, 0, 0, 0, 0, 0, 0, 0, 0, 0, 0, 0, 0, 0, 0, 0, 0, 0, 0, 0, 0, 0, 0, 0, 0, 0, 0, 0, 0, 0, 0, 0, 0, 0, 0, 0, 0, 0, 0, 0, 0, 0, 0, 0, 0, 0, 0, 0, 0, 0, 0, 0, 0, 0, 0, 0, 0, 0, 0, 0, 0, 0, 0, 0, 0, 0, 0, 0, 0, 0, 0, 0, 0, 0, 0, 0, 0, 0, 0, 0, 0, 0, 0, 0, 0, 0, 0, 0, 0, 0, 0, 0, 0, 0, 0, 0, 0, 0, 0, 0, 0, 0, 0, 0, 0, 0, 0, 0, 0, 0, 0, 0, 0, 0, 0, 0, 0, 0, 0, 0, 0, 0, 0, 0, 0, 0, 0, 0, 0, 0, 0, 0, 0, 0, 0, 0, 0, 0, 0, 0, 0, 0, 0, 0, 0, 0, 0, 0, 0, 0, 0, 0, 0, 0, 0, 0, 0, 0, 0, 0, 0, 0, 0, 0, 0, 0, 0, 0, 0, 0, 0, 0, 0, 0, 0, 0, 0, 0, 0, 0, 0, 0, 0, 0, 0, 0, 0, 0, 0, 0, 0, 0, 0, 0, 0, 0, 0, 0, 0, 0, 0, 0, 0, 0, 0, 0, 0, 0, 0, 0, 0, 0, 0, 0, 0, 0, 0, 0, 0, 0, 0, 0, 0, 0, 0, 0, 0, 0, 0, 0, 0, 0, 0, 0, 0, 0, 0, 0, 0, 0, 0, 0, 0, 0, 0, 0, 0, 0, 0, 0, 0, 0, 0, 0, 0, 0, 0, 0, 0, 0, 0, 0, 0, 0, 0, 0, 0, 0, 0, 0, 0, 0, 0, 0, 0, 0, 0, 0, 0, 0, 0, 0, 0, 0, 0, 0, 0, 0, 0, 0, 0, 0, 0, 0, 0, 0, 0, 0, 0, 0, 0, 0, 0, 0, 0, 0, 0, 0, 0, 0, 0, 0, 0, 0, 0, 0, 0, 1, 1, 1, 1, 1, 1, 1, 1, 1, 1, 1, 1, 1, 1, 1, 1, 1, 1, 1, 1, 1, 1, 1, 1, 1, 1, 1, 1, 1, 1, 1, 1, 1, 1, 1, 1, 1, 1, 1, 1, 1, 1, 1, 1, 1, 1, 1, 1, 1, 1, 1, 1, 1, 1, 1, 1, 1, 1, 1, 1, 1, 1, 1, 1, 1, 1, 1, 1, 1, 1, 1, 1, 1, 1, 1, 1, 1, 1, 1, 1, 1, 1, 1, 1, 1, 1, 1, 1, 1, 1, 1, 1, 1, 1, 1, 1, 1, 1, 1, 1, 1, 1, 1, 1, 1, 1, 1, 1, 1, 1, 1, 1, 1, 1, 1, 1, 1, 1, 1, 1, 1, 1, 1, 1, 1, 1, 1, 1, 1, 1, 1, 1, 1, 1, 1, 1, 1, 1, 1, 1, 1, 1, 1, 1, 1, 1, 1, 1, 1, 1, 1, 1, 1, 1, 1, 1, 1, 1, 1, 1, 1, 1, 1, 1, 1, 1, 1, 1, 1, 1, 1, 1, 1, 1, 1, 1, 1, 1, 1, 1, 1, 1, 1, 1, 1, 1, 1, 1, 1, 1, 1, 1, 1, 1, 1, 1, 1, 1, 1, 1, 1, 1, 1, 1, 1, 1, 1, 1, 1, 1, 1, 1, 1, 1, 1, 1, 1, 1, 1, 1, 1, 1, 1, 1, 1, 1, 1, 1, 1, 1, 1, 1, 1, 1, 1, 1, 1, 1, 1, 1, 1, 1, 1, 1, 1, 1, 1, 1, 1, 1, 1, 1, 1, 1, 1, 1, 1, 1, 1, 1, 1, 1, 1, 1, 1, 1, 1, 1, 1, 1, 1, 1, 1, 1, 1, 1, 1, 1, 1, 1, 1, 1, 1, 1, 1, 1, 1, 1, 1, 1, 1, 1, 1, 1, 1, 1, 1, 1, 1, 1, 1, 1, 1, 1, 1, 1, 1, 1, 1, 1, 1, 1, 1, 1, 1, 1, 1, 1, 1, 1, 1, 1, 1, 1, 1, 1, 1, 1, 1, 1, 1, 1, 1, 1, 1, 1, 1, 1, 1, 1, 1, 1, 1, 1, 1, 1, 1, 1, 1, 1, 1, 1, 1, 1, 1, 1, 1, 1, 1, 1, 1, 1, 1, 1, 1, 1, 1, 1, 1, 1, 1, 1, 1, 1, 1, 1, 1, 1, 1, 1, 1, 1, 1, 1, 1, 1, 1, 1, 1, 1, 1, 1, 1, 1, 1, 1, 1, 1, 1, 1, 1, 1, 1, 1, 1, 1, 1, 1, 1, 1, 1, 1, 1, 1, 1, 1, 1, 1, 1, 1, 1, 1, 1, 1, 1, 1, 1, 1, 1, 1, 1, 1, 1, 1, 1, 1, 1, 1, 1, 1, 1, 1, 1, 1, 1, 1, 1, 1, 1, 1, 1, 1, 1, 1, 1, 1, 1, 1, 1, 1, 1, 1, 1, 1, 1, 1, 1, 1, 1, 1, 1, 1, 1, 1, 1, 1, 1, 1, 1, 1, 1, 1, 1, 1, 1, 1, 1, 1, 1, 1, 1, 1, 1, 1, 1, 1, 1, 1, 1, 1, 1]\n"
     ]
    }
   ],
   "source": [
    "arrayTargetsNormais = [0 for _ in arquivosNormais]\n",
    "\n",
    "arrayTargetsSpam = [1 for _ in arquivosSpam]\n",
    "\n",
    "targetsArray = arrayTargetsNormais + arrayTargetsSpam\n",
    "\n",
    "print(len(targetsArray))\n",
    "print(targetsArray)"
   ],
   "metadata": {
    "collapsed": false,
    "pycharm": {
     "name": "#%%\n"
    }
   }
  },
  {
   "cell_type": "code",
   "execution_count": 125,
   "outputs": [
    {
     "data": {
      "text/plain": "                                        00  000  0001zd  0004es  0007b1d4  \\\n0001.ea7e79d3153e7469e7a9c3e0af6a357e  0.0  0.0     0.0     0.0       0.0   \n0002.b3120c4bcbf3101e661161ee7efcb8bf  0.0  0.0     0.0     0.0       0.0   \n0003.acfc5ad94bbd27118a0d8685d18c89dd  0.0  0.0     0.0     0.0       0.0   \n0004.e8d5727378ddde5c3be181df593f1712  0.0  0.0     0.0     0.0       0.0   \n0005.8c3b9e9c0f3f183ddaf7592a11b99957  0.0  0.0     0.0     0.0       0.0   \n...                                    ...  ...     ...     ...       ...   \n0496.e995facc5d5bc6d3f3a8537d35e0432a  0.0  0.0     0.0     0.0       0.0   \n0497.9307bd1fb5347f9fbf1f54ebe95b1d20  0.0  0.0     0.0     0.0       0.0   \n0498.863566df8e5f17f979edca79d1e87187  0.0  0.0     0.0     0.0       0.0   \n0499.4a17fbd7fe71705e09b4dd2e24d802dd  0.0  0.0     0.0     0.0       0.0   \n0500.2e8762b67913d1b07bc8da293448d27f  0.0  0.0     0.0     0.0       0.0   \n\n                                       00085k  000e  000miles  000s  000th  \\\n0001.ea7e79d3153e7469e7a9c3e0af6a357e     0.0   0.0       0.0   0.0    0.0   \n0002.b3120c4bcbf3101e661161ee7efcb8bf     0.0   0.0       0.0   0.0    0.0   \n0003.acfc5ad94bbd27118a0d8685d18c89dd     0.0   0.0       0.0   0.0    0.0   \n0004.e8d5727378ddde5c3be181df593f1712     0.0   0.0       0.0   0.0    0.0   \n0005.8c3b9e9c0f3f183ddaf7592a11b99957     0.0   0.0       0.0   0.0    0.0   \n...                                       ...   ...       ...   ...    ...   \n0496.e995facc5d5bc6d3f3a8537d35e0432a     0.0   0.0       0.0   0.0    0.0   \n0497.9307bd1fb5347f9fbf1f54ebe95b1d20     0.0   0.0       0.0   0.0    0.0   \n0498.863566df8e5f17f979edca79d1e87187     0.0   0.0       0.0   0.0    0.0   \n0499.4a17fbd7fe71705e09b4dd2e24d802dd     0.0   0.0       0.0   0.0    0.0   \n0500.2e8762b67913d1b07bc8da293448d27f     0.0   0.0       0.0   0.0    0.0   \n\n                                       ...  허락없이  헤어디자이너   현재  호황을  홈쇼핑의  확실한  \\\n0001.ea7e79d3153e7469e7a9c3e0af6a357e  ...   0.0     0.0  0.0  0.0   0.0  0.0   \n0002.b3120c4bcbf3101e661161ee7efcb8bf  ...   0.0     0.0  0.0  0.0   0.0  0.0   \n0003.acfc5ad94bbd27118a0d8685d18c89dd  ...   0.0     0.0  0.0  0.0   0.0  0.0   \n0004.e8d5727378ddde5c3be181df593f1712  ...   0.0     0.0  0.0  0.0   0.0  0.0   \n0005.8c3b9e9c0f3f183ddaf7592a11b99957  ...   0.0     0.0  0.0  0.0   0.0  0.0   \n...                                    ...   ...     ...  ...  ...   ...  ...   \n0496.e995facc5d5bc6d3f3a8537d35e0432a  ...   0.0     0.0  0.0  0.0   0.0  0.0   \n0497.9307bd1fb5347f9fbf1f54ebe95b1d20  ...   0.0     0.0  0.0  0.0   0.0  0.0   \n0498.863566df8e5f17f979edca79d1e87187  ...   0.0     0.0  0.0  0.0   0.0  0.0   \n0499.4a17fbd7fe71705e09b4dd2e24d802dd  ...   0.0     0.0  0.0  0.0   0.0  0.0   \n0500.2e8762b67913d1b07bc8da293448d27f  ...   0.0     0.0  0.0  0.0   0.0  0.0   \n\n                                       활황을   훨씬  힘입어  target  \n0001.ea7e79d3153e7469e7a9c3e0af6a357e  0.0  0.0  0.0       0  \n0002.b3120c4bcbf3101e661161ee7efcb8bf  0.0  0.0  0.0       0  \n0003.acfc5ad94bbd27118a0d8685d18c89dd  0.0  0.0  0.0       0  \n0004.e8d5727378ddde5c3be181df593f1712  0.0  0.0  0.0       0  \n0005.8c3b9e9c0f3f183ddaf7592a11b99957  0.0  0.0  0.0       0  \n...                                    ...  ...  ...     ...  \n0496.e995facc5d5bc6d3f3a8537d35e0432a  0.0  0.0  0.0       1  \n0497.9307bd1fb5347f9fbf1f54ebe95b1d20  0.0  0.0  0.0       1  \n0498.863566df8e5f17f979edca79d1e87187  0.0  0.0  0.0       1  \n0499.4a17fbd7fe71705e09b4dd2e24d802dd  0.0  0.0  0.0       1  \n0500.2e8762b67913d1b07bc8da293448d27f  0.0  0.0  0.0       1  \n\n[3052 rows x 33130 columns]",
      "text/html": "<div>\n<style scoped>\n    .dataframe tbody tr th:only-of-type {\n        vertical-align: middle;\n    }\n\n    .dataframe tbody tr th {\n        vertical-align: top;\n    }\n\n    .dataframe thead th {\n        text-align: right;\n    }\n</style>\n<table border=\"1\" class=\"dataframe\">\n  <thead>\n    <tr style=\"text-align: right;\">\n      <th></th>\n      <th>00</th>\n      <th>000</th>\n      <th>0001zd</th>\n      <th>0004es</th>\n      <th>0007b1d4</th>\n      <th>00085k</th>\n      <th>000e</th>\n      <th>000miles</th>\n      <th>000s</th>\n      <th>000th</th>\n      <th>...</th>\n      <th>허락없이</th>\n      <th>헤어디자이너</th>\n      <th>현재</th>\n      <th>호황을</th>\n      <th>홈쇼핑의</th>\n      <th>확실한</th>\n      <th>활황을</th>\n      <th>훨씬</th>\n      <th>힘입어</th>\n      <th>target</th>\n    </tr>\n  </thead>\n  <tbody>\n    <tr>\n      <th>0001.ea7e79d3153e7469e7a9c3e0af6a357e</th>\n      <td>0.0</td>\n      <td>0.0</td>\n      <td>0.0</td>\n      <td>0.0</td>\n      <td>0.0</td>\n      <td>0.0</td>\n      <td>0.0</td>\n      <td>0.0</td>\n      <td>0.0</td>\n      <td>0.0</td>\n      <td>...</td>\n      <td>0.0</td>\n      <td>0.0</td>\n      <td>0.0</td>\n      <td>0.0</td>\n      <td>0.0</td>\n      <td>0.0</td>\n      <td>0.0</td>\n      <td>0.0</td>\n      <td>0.0</td>\n      <td>0</td>\n    </tr>\n    <tr>\n      <th>0002.b3120c4bcbf3101e661161ee7efcb8bf</th>\n      <td>0.0</td>\n      <td>0.0</td>\n      <td>0.0</td>\n      <td>0.0</td>\n      <td>0.0</td>\n      <td>0.0</td>\n      <td>0.0</td>\n      <td>0.0</td>\n      <td>0.0</td>\n      <td>0.0</td>\n      <td>...</td>\n      <td>0.0</td>\n      <td>0.0</td>\n      <td>0.0</td>\n      <td>0.0</td>\n      <td>0.0</td>\n      <td>0.0</td>\n      <td>0.0</td>\n      <td>0.0</td>\n      <td>0.0</td>\n      <td>0</td>\n    </tr>\n    <tr>\n      <th>0003.acfc5ad94bbd27118a0d8685d18c89dd</th>\n      <td>0.0</td>\n      <td>0.0</td>\n      <td>0.0</td>\n      <td>0.0</td>\n      <td>0.0</td>\n      <td>0.0</td>\n      <td>0.0</td>\n      <td>0.0</td>\n      <td>0.0</td>\n      <td>0.0</td>\n      <td>...</td>\n      <td>0.0</td>\n      <td>0.0</td>\n      <td>0.0</td>\n      <td>0.0</td>\n      <td>0.0</td>\n      <td>0.0</td>\n      <td>0.0</td>\n      <td>0.0</td>\n      <td>0.0</td>\n      <td>0</td>\n    </tr>\n    <tr>\n      <th>0004.e8d5727378ddde5c3be181df593f1712</th>\n      <td>0.0</td>\n      <td>0.0</td>\n      <td>0.0</td>\n      <td>0.0</td>\n      <td>0.0</td>\n      <td>0.0</td>\n      <td>0.0</td>\n      <td>0.0</td>\n      <td>0.0</td>\n      <td>0.0</td>\n      <td>...</td>\n      <td>0.0</td>\n      <td>0.0</td>\n      <td>0.0</td>\n      <td>0.0</td>\n      <td>0.0</td>\n      <td>0.0</td>\n      <td>0.0</td>\n      <td>0.0</td>\n      <td>0.0</td>\n      <td>0</td>\n    </tr>\n    <tr>\n      <th>0005.8c3b9e9c0f3f183ddaf7592a11b99957</th>\n      <td>0.0</td>\n      <td>0.0</td>\n      <td>0.0</td>\n      <td>0.0</td>\n      <td>0.0</td>\n      <td>0.0</td>\n      <td>0.0</td>\n      <td>0.0</td>\n      <td>0.0</td>\n      <td>0.0</td>\n      <td>...</td>\n      <td>0.0</td>\n      <td>0.0</td>\n      <td>0.0</td>\n      <td>0.0</td>\n      <td>0.0</td>\n      <td>0.0</td>\n      <td>0.0</td>\n      <td>0.0</td>\n      <td>0.0</td>\n      <td>0</td>\n    </tr>\n    <tr>\n      <th>...</th>\n      <td>...</td>\n      <td>...</td>\n      <td>...</td>\n      <td>...</td>\n      <td>...</td>\n      <td>...</td>\n      <td>...</td>\n      <td>...</td>\n      <td>...</td>\n      <td>...</td>\n      <td>...</td>\n      <td>...</td>\n      <td>...</td>\n      <td>...</td>\n      <td>...</td>\n      <td>...</td>\n      <td>...</td>\n      <td>...</td>\n      <td>...</td>\n      <td>...</td>\n      <td>...</td>\n    </tr>\n    <tr>\n      <th>0496.e995facc5d5bc6d3f3a8537d35e0432a</th>\n      <td>0.0</td>\n      <td>0.0</td>\n      <td>0.0</td>\n      <td>0.0</td>\n      <td>0.0</td>\n      <td>0.0</td>\n      <td>0.0</td>\n      <td>0.0</td>\n      <td>0.0</td>\n      <td>0.0</td>\n      <td>...</td>\n      <td>0.0</td>\n      <td>0.0</td>\n      <td>0.0</td>\n      <td>0.0</td>\n      <td>0.0</td>\n      <td>0.0</td>\n      <td>0.0</td>\n      <td>0.0</td>\n      <td>0.0</td>\n      <td>1</td>\n    </tr>\n    <tr>\n      <th>0497.9307bd1fb5347f9fbf1f54ebe95b1d20</th>\n      <td>0.0</td>\n      <td>0.0</td>\n      <td>0.0</td>\n      <td>0.0</td>\n      <td>0.0</td>\n      <td>0.0</td>\n      <td>0.0</td>\n      <td>0.0</td>\n      <td>0.0</td>\n      <td>0.0</td>\n      <td>...</td>\n      <td>0.0</td>\n      <td>0.0</td>\n      <td>0.0</td>\n      <td>0.0</td>\n      <td>0.0</td>\n      <td>0.0</td>\n      <td>0.0</td>\n      <td>0.0</td>\n      <td>0.0</td>\n      <td>1</td>\n    </tr>\n    <tr>\n      <th>0498.863566df8e5f17f979edca79d1e87187</th>\n      <td>0.0</td>\n      <td>0.0</td>\n      <td>0.0</td>\n      <td>0.0</td>\n      <td>0.0</td>\n      <td>0.0</td>\n      <td>0.0</td>\n      <td>0.0</td>\n      <td>0.0</td>\n      <td>0.0</td>\n      <td>...</td>\n      <td>0.0</td>\n      <td>0.0</td>\n      <td>0.0</td>\n      <td>0.0</td>\n      <td>0.0</td>\n      <td>0.0</td>\n      <td>0.0</td>\n      <td>0.0</td>\n      <td>0.0</td>\n      <td>1</td>\n    </tr>\n    <tr>\n      <th>0499.4a17fbd7fe71705e09b4dd2e24d802dd</th>\n      <td>0.0</td>\n      <td>0.0</td>\n      <td>0.0</td>\n      <td>0.0</td>\n      <td>0.0</td>\n      <td>0.0</td>\n      <td>0.0</td>\n      <td>0.0</td>\n      <td>0.0</td>\n      <td>0.0</td>\n      <td>...</td>\n      <td>0.0</td>\n      <td>0.0</td>\n      <td>0.0</td>\n      <td>0.0</td>\n      <td>0.0</td>\n      <td>0.0</td>\n      <td>0.0</td>\n      <td>0.0</td>\n      <td>0.0</td>\n      <td>1</td>\n    </tr>\n    <tr>\n      <th>0500.2e8762b67913d1b07bc8da293448d27f</th>\n      <td>0.0</td>\n      <td>0.0</td>\n      <td>0.0</td>\n      <td>0.0</td>\n      <td>0.0</td>\n      <td>0.0</td>\n      <td>0.0</td>\n      <td>0.0</td>\n      <td>0.0</td>\n      <td>0.0</td>\n      <td>...</td>\n      <td>0.0</td>\n      <td>0.0</td>\n      <td>0.0</td>\n      <td>0.0</td>\n      <td>0.0</td>\n      <td>0.0</td>\n      <td>0.0</td>\n      <td>0.0</td>\n      <td>0.0</td>\n      <td>1</td>\n    </tr>\n  </tbody>\n</table>\n<p>3052 rows × 33130 columns</p>\n</div>"
     },
     "execution_count": 125,
     "metadata": {},
     "output_type": "execute_result"
    }
   ],
   "source": [
    "dfTfidfArray.insert(len(dfTfidfArray.columns), \"target\", targetsArray, True)\n",
    "\n",
    "dfTfidfArray"
   ],
   "metadata": {
    "collapsed": false,
    "pycharm": {
     "name": "#%%\n"
    }
   }
  },
  {
   "cell_type": "code",
   "execution_count": 126,
   "outputs": [],
   "source": [
    "#dfTfidfArray.to_csv(\"dataset.csv\", sep='\\t', encoding='utf-8')"
   ],
   "metadata": {
    "collapsed": false,
    "pycharm": {
     "name": "#%%\n"
    }
   }
  },
  {
   "cell_type": "code",
   "execution_count": 127,
   "outputs": [
    {
     "name": "stderr",
     "output_type": "stream",
     "text": [
      "E:\\Anaconda3\\envs\\ciencia_de_dados_data_analysis\\lib\\site-packages\\sklearn\\manifold\\_t_sne.py:780: FutureWarning: The default initialization in TSNE will change from 'random' to 'pca' in 1.2.\n",
      "  warnings.warn(\n",
      "E:\\Anaconda3\\envs\\ciencia_de_dados_data_analysis\\lib\\site-packages\\sklearn\\manifold\\_t_sne.py:790: FutureWarning: The default learning rate in TSNE will change from 200.0 to 'auto' in 1.2.\n",
      "  warnings.warn(\n"
     ]
    },
    {
     "data": {
      "text/plain": "<Figure size 432x288 with 1 Axes>",
      "image/png": "[encoded data removed]"
     },
     "metadata": {
      "needs_background": "light"
     },
     "output_type": "display_data"
    }
   ],
   "source": [
    "model = TSNE(n_components=2, random_state=0)\n",
    "array_red = model.fit_transform(dfTfidfArray)\n",
    "\n",
    "df_tsne = pd.DataFrame(array_red)\n",
    "\n",
    "dfTfidfArray.columns = dfTfidfArray.columns.str.strip()\n",
    "\n",
    "target = targetsArray\n",
    "\n",
    "df_tsne['target'] = target\n",
    "\n",
    "df_tsne_c1 = df_tsne[df_tsne['target'] == 0]\n",
    "\n",
    "df_tsne_c2 = df_tsne[df_tsne['target'] == 1]\n",
    "\n",
    "plt.scatter(df_tsne_c1[0].array,df_tsne_c1[1].array,marker='o',color='blue')\n",
    "\n",
    "plt.scatter(df_tsne_c2[0].array,df_tsne_c2[1].array,marker='o',color='red')\n",
    "\n",
    "plt.title('Dados')\n",
    "plt.xlabel('x')\n",
    "plt.ylabel('y')\n",
    "\n",
    "plt.show()"
   ],
   "metadata": {
    "collapsed": false,
    "pycharm": {
     "name": "#%%\n"
    }
   }
  },
  {
   "cell_type": "code",
   "execution_count": 128,
   "outputs": [
    {
     "data": {
      "text/plain": "                                        00  000  0001zd  0004es  0007b1d4  \\\n2021.adcaa7be43b7bdc9828ada336c0eb7ec  0.0  0.0     0.0     0.0       0.0   \n1248.8ce46227810a3ac37f9fc83a21242daf  0.0  0.0     0.0     0.0       0.0   \n0832.e4325e0432c958e4cf5a36fef3bf8573  0.0  0.0     0.0     0.0       0.0   \n0579.1220a78a48fabb67052c021782ae7720  0.0  0.0     0.0     0.0       0.0   \n0450.8c49e2b6003571f6fa2911c172bec2c9  0.0  0.0     0.0     0.0       0.0   \n...                                    ...  ...     ...     ...       ...   \n0603.4582f2bcf4795cdd8136e04313f0c0fc  0.0  0.0     0.0     0.0       0.0   \n2219.a6bcfc52346ca02a2add2951167549c5  0.0  0.0     0.0     0.0       0.0   \n1880.ebecd898b60abef68261b8ae5b05a198  0.0  0.0     0.0     0.0       0.0   \n0352.f7adb4aa267e50a8db1e4bcacfe863f3  0.0  0.0     0.0     0.0       0.0   \n1090.9fda543ea022ae10968dd56d2c710b9d  0.0  0.0     0.0     0.0       0.0   \n\n                                       00085k  000e  000miles  000s  000th  \\\n2021.adcaa7be43b7bdc9828ada336c0eb7ec     0.0   0.0       0.0   0.0    0.0   \n1248.8ce46227810a3ac37f9fc83a21242daf     0.0   0.0       0.0   0.0    0.0   \n0832.e4325e0432c958e4cf5a36fef3bf8573     0.0   0.0       0.0   0.0    0.0   \n0579.1220a78a48fabb67052c021782ae7720     0.0   0.0       0.0   0.0    0.0   \n0450.8c49e2b6003571f6fa2911c172bec2c9     0.0   0.0       0.0   0.0    0.0   \n...                                       ...   ...       ...   ...    ...   \n0603.4582f2bcf4795cdd8136e04313f0c0fc     0.0   0.0       0.0   0.0    0.0   \n2219.a6bcfc52346ca02a2add2951167549c5     0.0   0.0       0.0   0.0    0.0   \n1880.ebecd898b60abef68261b8ae5b05a198     0.0   0.0       0.0   0.0    0.0   \n0352.f7adb4aa267e50a8db1e4bcacfe863f3     0.0   0.0       0.0   0.0    0.0   \n1090.9fda543ea022ae10968dd56d2c710b9d     0.0   0.0       0.0   0.0    0.0   \n\n                                       ...  해보자  허락없이  헤어디자이너   현재  호황을  홈쇼핑의  \\\n2021.adcaa7be43b7bdc9828ada336c0eb7ec  ...  0.0   0.0     0.0  0.0  0.0   0.0   \n1248.8ce46227810a3ac37f9fc83a21242daf  ...  0.0   0.0     0.0  0.0  0.0   0.0   \n0832.e4325e0432c958e4cf5a36fef3bf8573  ...  0.0   0.0     0.0  0.0  0.0   0.0   \n0579.1220a78a48fabb67052c021782ae7720  ...  0.0   0.0     0.0  0.0  0.0   0.0   \n0450.8c49e2b6003571f6fa2911c172bec2c9  ...  0.0   0.0     0.0  0.0  0.0   0.0   \n...                                    ...  ...   ...     ...  ...  ...   ...   \n0603.4582f2bcf4795cdd8136e04313f0c0fc  ...  0.0   0.0     0.0  0.0  0.0   0.0   \n2219.a6bcfc52346ca02a2add2951167549c5  ...  0.0   0.0     0.0  0.0  0.0   0.0   \n1880.ebecd898b60abef68261b8ae5b05a198  ...  0.0   0.0     0.0  0.0  0.0   0.0   \n0352.f7adb4aa267e50a8db1e4bcacfe863f3  ...  0.0   0.0     0.0  0.0  0.0   0.0   \n1090.9fda543ea022ae10968dd56d2c710b9d  ...  0.0   0.0     0.0  0.0  0.0   0.0   \n\n                                       확실한  활황을   훨씬  힘입어  \n2021.adcaa7be43b7bdc9828ada336c0eb7ec  0.0  0.0  0.0  0.0  \n1248.8ce46227810a3ac37f9fc83a21242daf  0.0  0.0  0.0  0.0  \n0832.e4325e0432c958e4cf5a36fef3bf8573  0.0  0.0  0.0  0.0  \n0579.1220a78a48fabb67052c021782ae7720  0.0  0.0  0.0  0.0  \n0450.8c49e2b6003571f6fa2911c172bec2c9  0.0  0.0  0.0  0.0  \n...                                    ...  ...  ...  ...  \n0603.4582f2bcf4795cdd8136e04313f0c0fc  0.0  0.0  0.0  0.0  \n2219.a6bcfc52346ca02a2add2951167549c5  0.0  0.0  0.0  0.0  \n1880.ebecd898b60abef68261b8ae5b05a198  0.0  0.0  0.0  0.0  \n0352.f7adb4aa267e50a8db1e4bcacfe863f3  0.0  0.0  0.0  0.0  \n1090.9fda543ea022ae10968dd56d2c710b9d  0.0  0.0  0.0  0.0  \n\n[3052 rows x 33128 columns]",
      "text/html": "<div>\n<style scoped>\n    .dataframe tbody tr th:only-of-type {\n        vertical-align: middle;\n    }\n\n    .dataframe tbody tr th {\n        vertical-align: top;\n    }\n\n    .dataframe thead th {\n        text-align: right;\n    }\n</style>\n<table border=\"1\" class=\"dataframe\">\n  <thead>\n    <tr style=\"text-align: right;\">\n      <th></th>\n      <th>00</th>\n      <th>000</th>\n      <th>0001zd</th>\n      <th>0004es</th>\n      <th>0007b1d4</th>\n      <th>00085k</th>\n      <th>000e</th>\n      <th>000miles</th>\n      <th>000s</th>\n      <th>000th</th>\n      <th>...</th>\n      <th>해보자</th>\n      <th>허락없이</th>\n      <th>헤어디자이너</th>\n      <th>현재</th>\n      <th>호황을</th>\n      <th>홈쇼핑의</th>\n      <th>확실한</th>\n      <th>활황을</th>\n      <th>훨씬</th>\n      <th>힘입어</th>\n    </tr>\n  </thead>\n  <tbody>\n    <tr>\n      <th>2021.adcaa7be43b7bdc9828ada336c0eb7ec</th>\n      <td>0.0</td>\n      <td>0.0</td>\n      <td>0.0</td>\n      <td>0.0</td>\n      <td>0.0</td>\n      <td>0.0</td>\n      <td>0.0</td>\n      <td>0.0</td>\n      <td>0.0</td>\n      <td>0.0</td>\n      <td>...</td>\n      <td>0.0</td>\n      <td>0.0</td>\n      <td>0.0</td>\n      <td>0.0</td>\n      <td>0.0</td>\n      <td>0.0</td>\n      <td>0.0</td>\n      <td>0.0</td>\n      <td>0.0</td>\n      <td>0.0</td>\n    </tr>\n    <tr>\n      <th>1248.8ce46227810a3ac37f9fc83a21242daf</th>\n      <td>0.0</td>\n      <td>0.0</td>\n      <td>0.0</td>\n      <td>0.0</td>\n      <td>0.0</td>\n      <td>0.0</td>\n      <td>0.0</td>\n      <td>0.0</td>\n      <td>0.0</td>\n      <td>0.0</td>\n      <td>...</td>\n      <td>0.0</td>\n      <td>0.0</td>\n      <td>0.0</td>\n      <td>0.0</td>\n      <td>0.0</td>\n      <td>0.0</td>\n      <td>0.0</td>\n      <td>0.0</td>\n      <td>0.0</td>\n      <td>0.0</td>\n    </tr>\n    <tr>\n      <th>0832.e4325e0432c958e4cf5a36fef3bf8573</th>\n      <td>0.0</td>\n      <td>0.0</td>\n      <td>0.0</td>\n      <td>0.0</td>\n      <td>0.0</td>\n      <td>0.0</td>\n      <td>0.0</td>\n      <td>0.0</td>\n      <td>0.0</td>\n      <td>0.0</td>\n      <td>...</td>\n      <td>0.0</td>\n      <td>0.0</td>\n      <td>0.0</td>\n      <td>0.0</td>\n      <td>0.0</td>\n      <td>0.0</td>\n      <td>0.0</td>\n      <td>0.0</td>\n      <td>0.0</td>\n      <td>0.0</td>\n    </tr>\n    <tr>\n      <th>0579.1220a78a48fabb67052c021782ae7720</th>\n      <td>0.0</td>\n      <td>0.0</td>\n      <td>0.0</td>\n      <td>0.0</td>\n      <td>0.0</td>\n      <td>0.0</td>\n      <td>0.0</td>\n      <td>0.0</td>\n      <td>0.0</td>\n      <td>0.0</td>\n      <td>...</td>\n      <td>0.0</td>\n      <td>0.0</td>\n      <td>0.0</td>\n      <td>0.0</td>\n      <td>0.0</td>\n      <td>0.0</td>\n      <td>0.0</td>\n      <td>0.0</td>\n      <td>0.0</td>\n      <td>0.0</td>\n    </tr>\n    <tr>\n      <th>0450.8c49e2b6003571f6fa2911c172bec2c9</th>\n      <td>0.0</td>\n      <td>0.0</td>\n      <td>0.0</td>\n      <td>0.0</td>\n      <td>0.0</td>\n      <td>0.0</td>\n      <td>0.0</td>\n      <td>0.0</td>\n      <td>0.0</td>\n      <td>0.0</td>\n      <td>...</td>\n      <td>0.0</td>\n      <td>0.0</td>\n      <td>0.0</td>\n      <td>0.0</td>\n      <td>0.0</td>\n      <td>0.0</td>\n      <td>0.0</td>\n      <td>0.0</td>\n      <td>0.0</td>\n      <td>0.0</td>\n    </tr>\n    <tr>\n      <th>...</th>\n      <td>...</td>\n      <td>...</td>\n      <td>...</td>\n      <td>...</td>\n      <td>...</td>\n      <td>...</td>\n      <td>...</td>\n      <td>...</td>\n      <td>...</td>\n      <td>...</td>\n      <td>...</td>\n      <td>...</td>\n      <td>...</td>\n      <td>...</td>\n      <td>...</td>\n      <td>...</td>\n      <td>...</td>\n      <td>...</td>\n      <td>...</td>\n      <td>...</td>\n      <td>...</td>\n    </tr>\n    <tr>\n      <th>0603.4582f2bcf4795cdd8136e04313f0c0fc</th>\n      <td>0.0</td>\n      <td>0.0</td>\n      <td>0.0</td>\n      <td>0.0</td>\n      <td>0.0</td>\n      <td>0.0</td>\n      <td>0.0</td>\n      <td>0.0</td>\n      <td>0.0</td>\n      <td>0.0</td>\n      <td>...</td>\n      <td>0.0</td>\n      <td>0.0</td>\n      <td>0.0</td>\n      <td>0.0</td>\n      <td>0.0</td>\n      <td>0.0</td>\n      <td>0.0</td>\n      <td>0.0</td>\n      <td>0.0</td>\n      <td>0.0</td>\n    </tr>\n    <tr>\n      <th>2219.a6bcfc52346ca02a2add2951167549c5</th>\n      <td>0.0</td>\n      <td>0.0</td>\n      <td>0.0</td>\n      <td>0.0</td>\n      <td>0.0</td>\n      <td>0.0</td>\n      <td>0.0</td>\n      <td>0.0</td>\n      <td>0.0</td>\n      <td>0.0</td>\n      <td>...</td>\n      <td>0.0</td>\n      <td>0.0</td>\n      <td>0.0</td>\n      <td>0.0</td>\n      <td>0.0</td>\n      <td>0.0</td>\n      <td>0.0</td>\n      <td>0.0</td>\n      <td>0.0</td>\n      <td>0.0</td>\n    </tr>\n    <tr>\n      <th>1880.ebecd898b60abef68261b8ae5b05a198</th>\n      <td>0.0</td>\n      <td>0.0</td>\n      <td>0.0</td>\n      <td>0.0</td>\n      <td>0.0</td>\n      <td>0.0</td>\n      <td>0.0</td>\n      <td>0.0</td>\n      <td>0.0</td>\n      <td>0.0</td>\n      <td>...</td>\n      <td>0.0</td>\n      <td>0.0</td>\n      <td>0.0</td>\n      <td>0.0</td>\n      <td>0.0</td>\n      <td>0.0</td>\n      <td>0.0</td>\n      <td>0.0</td>\n      <td>0.0</td>\n      <td>0.0</td>\n    </tr>\n    <tr>\n      <th>0352.f7adb4aa267e50a8db1e4bcacfe863f3</th>\n      <td>0.0</td>\n      <td>0.0</td>\n      <td>0.0</td>\n      <td>0.0</td>\n      <td>0.0</td>\n      <td>0.0</td>\n      <td>0.0</td>\n      <td>0.0</td>\n      <td>0.0</td>\n      <td>0.0</td>\n      <td>...</td>\n      <td>0.0</td>\n      <td>0.0</td>\n      <td>0.0</td>\n      <td>0.0</td>\n      <td>0.0</td>\n      <td>0.0</td>\n      <td>0.0</td>\n      <td>0.0</td>\n      <td>0.0</td>\n      <td>0.0</td>\n    </tr>\n    <tr>\n      <th>1090.9fda543ea022ae10968dd56d2c710b9d</th>\n      <td>0.0</td>\n      <td>0.0</td>\n      <td>0.0</td>\n      <td>0.0</td>\n      <td>0.0</td>\n      <td>0.0</td>\n      <td>0.0</td>\n      <td>0.0</td>\n      <td>0.0</td>\n      <td>0.0</td>\n      <td>...</td>\n      <td>0.0</td>\n      <td>0.0</td>\n      <td>0.0</td>\n      <td>0.0</td>\n      <td>0.0</td>\n      <td>0.0</td>\n      <td>0.0</td>\n      <td>0.0</td>\n      <td>0.0</td>\n      <td>0.0</td>\n    </tr>\n  </tbody>\n</table>\n<p>3052 rows × 33128 columns</p>\n</div>"
     },
     "execution_count": 128,
     "metadata": {},
     "output_type": "execute_result"
    }
   ],
   "source": [
    "target = targetsArray\n",
    "\n",
    "dfTfidfArray = dfTfidfArray.sample(frac=1)\n",
    "\n",
    "df_features = dfTfidfArray.drop(columns=['target'])\n",
    "\n",
    "df_features"
   ],
   "metadata": {
    "collapsed": false,
    "pycharm": {
     "name": "#%%\n"
    }
   }
  },
  {
   "cell_type": "code",
   "execution_count": 129,
   "outputs": [],
   "source": [
    "def getModel():\n",
    "    return LogisticRegression()\n",
    "#     return DecisionTreeClassifier()\n",
    "#     return RandomForestClassifier()"
   ],
   "metadata": {
    "collapsed": false,
    "pycharm": {
     "name": "#%%\n"
    }
   }
  },
  {
   "cell_type": "code",
   "execution_count": 130,
   "outputs": [
    {
     "data": {
      "text/plain": "0.8725490196078431"
     },
     "execution_count": 130,
     "metadata": {},
     "output_type": "execute_result"
    }
   ],
   "source": [
    "X_treino, X_teste, y_treino, y_teste = train_test_split(df_features.values,target,test_size=0.1)\n",
    "\n",
    "modelo = getModel().fit(X_treino,y_treino)\n",
    "\n",
    "score = modelo.score(X_teste,y_teste)\n",
    "\n",
    "score"
   ],
   "metadata": {
    "collapsed": false,
    "pycharm": {
     "name": "#%%\n"
    }
   }
  },
  {
   "cell_type": "code",
   "execution_count": 131,
   "outputs": [
    {
     "data": {
      "text/plain": "0.835845923068681"
     },
     "execution_count": 131,
     "metadata": {},
     "output_type": "execute_result"
    }
   ],
   "source": [
    "scores = cross_val_score(getModel(),df_features.values,target,cv=10)\n",
    "\n",
    "scores.mean()"
   ],
   "metadata": {
    "collapsed": false,
    "pycharm": {
     "name": "#%%\n"
    }
   }
  },
  {
   "cell_type": "code",
   "execution_count": 132,
   "outputs": [
    {
     "data": {
      "text/plain": "      0  1\n0  2551  0\n1   501  0",
      "text/html": "<div>\n<style scoped>\n    .dataframe tbody tr th:only-of-type {\n        vertical-align: middle;\n    }\n\n    .dataframe tbody tr th {\n        vertical-align: top;\n    }\n\n    .dataframe thead th {\n        text-align: right;\n    }\n</style>\n<table border=\"1\" class=\"dataframe\">\n  <thead>\n    <tr style=\"text-align: right;\">\n      <th></th>\n      <th>0</th>\n      <th>1</th>\n    </tr>\n  </thead>\n  <tbody>\n    <tr>\n      <th>0</th>\n      <td>2551</td>\n      <td>0</td>\n    </tr>\n    <tr>\n      <th>1</th>\n      <td>501</td>\n      <td>0</td>\n    </tr>\n  </tbody>\n</table>\n</div>"
     },
     "execution_count": 132,
     "metadata": {},
     "output_type": "execute_result"
    }
   ],
   "source": [
    "predicoes = cross_val_predict(getModel(), df_features.values, target, cv=10)\n",
    "\n",
    "cm = confusion_matrix(target,predicoes,labels=[0, 1])\n",
    "\n",
    "cm_df = pd.DataFrame(cm, columns=[0, 1])\n",
    "\n",
    "cm_df"
   ],
   "metadata": {
    "collapsed": false,
    "pycharm": {
     "name": "#%%\n"
    }
   }
  },
  {
   "cell_type": "code",
   "execution_count": 132,
   "outputs": [],
   "source": [],
   "metadata": {
    "collapsed": false,
    "pycharm": {
     "name": "#%%\n"
    }
   }
  }
 ],
 "metadata": {
  "kernelspec": {
   "display_name": "Python 3",
   "language": "python",
   "name": "python3"
  },
  "language_info": {
   "codemirror_mode": {
    "name": "ipython",
    "version": 2
   },
   "file_extension": ".py",
   "mimetype": "text/x-python",
   "name": "python",
   "nbconvert_exporter": "python",
   "pygments_lexer": "ipython2",
   "version": "2.7.6"
  }
 },
 "nbformat": 4,
 "nbformat_minor": 0
}