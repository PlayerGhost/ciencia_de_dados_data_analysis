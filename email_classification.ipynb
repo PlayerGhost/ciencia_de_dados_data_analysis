{
 "cells": [
  {
   "cell_type": "code",
   "execution_count": 60,
   "metadata": {
    "collapsed": true
   },
   "outputs": [],
   "source": [
    "import pandas as pd\n",
    "import numpy as np\n",
    "import os\n",
    "import email\n",
    "import email.policy\n",
    "from bs4 import BeautifulSoup\n",
    "from collections import Counter\n",
    "from nltk.corpus import stopwords, words\n",
    "from nltk.stem import WordNetLemmatizer\n",
    "from string import punctuation\n",
    "from gensim.parsing.preprocessing import STOPWORDS\n",
    "from sklearn.feature_extraction.text import CountVectorizer"
   ]
  },
  {
   "cell_type": "code",
   "execution_count": 61,
   "outputs": [
    {
     "data": {
      "text/plain": "['ham', 'spam']"
     },
     "execution_count": 61,
     "metadata": {},
     "output_type": "execute_result"
    }
   ],
   "source": [
    "os.listdir('./Database')"
   ],
   "metadata": {
    "collapsed": false,
    "pycharm": {
     "name": "#%%\n"
    }
   }
  },
  {
   "cell_type": "code",
   "execution_count": 62,
   "outputs": [],
   "source": [
    "arquivosNormais = [nomeArquivo for nomeArquivo in (os.listdir(\"./Database/ham\")) if len(nomeArquivo) > 20]\n",
    "arquivosSpam = [nomeArquivo for nomeArquivo in (os.listdir(\"./Database/spam\")) if len(nomeArquivo) > 20]"
   ],
   "metadata": {
    "collapsed": false,
    "pycharm": {
     "name": "#%%\n"
    }
   }
  },
  {
   "cell_type": "code",
   "execution_count": 63,
   "outputs": [
    {
     "data": {
      "text/plain": "<email.message.EmailMessage at 0x1ae0232f0d0>"
     },
     "execution_count": 63,
     "metadata": {},
     "output_type": "execute_result"
    }
   ],
   "source": [
    "def carregarEmail(tipo, arquivo):\n",
    "    caminho = \"\"\n",
    "\n",
    "    if tipo == \"spam\":\n",
    "        caminho = \"./Database/spam\"\n",
    "    if tipo == \"ham\":\n",
    "        caminho = \"./Database/ham\"\n",
    "\n",
    "    with open(f\"{caminho}/{arquivo}\", \"rb\") as file:\n",
    "        return email.parser.BytesParser(policy=email.policy.default).parse(file)\n",
    "\n",
    "\n",
    "emailsNormais = [carregarEmail(\"ham\", arquivo) for arquivo in arquivosNormais]\n",
    "emailsSpam = [carregarEmail(\"spam\", arquivo) for arquivo in arquivosSpam]\n",
    "\n",
    "aux = emailsNormais[0]\n",
    "aux"
   ],
   "metadata": {
    "collapsed": false,
    "pycharm": {
     "name": "#%%\n"
    }
   }
  },
  {
   "cell_type": "code",
   "execution_count": 64,
   "outputs": [
    {
     "name": "stdout",
     "output_type": "stream",
     "text": [
      "Return-Path : <exmh-workers-admin@example.com>\n",
      "Delivered-To : zzzz@localhost.netnoteinc.com\n",
      "Received : from localhost (localhost [127.0.0.1])\tby phobos.labs.netnoteinc.com (Postfix) with ESMTP id D03E543C36\tfor <zzzz@localhost>; Thu, 22 Aug 2002 07:36:16 -0400 (EDT)\n",
      "Received : from localhost (localhost [127.0.0.1])\tby phobos.labs.netnoteinc.com (Postfix) with ESMTP id D03E543C36\tfor <zzzz@localhost>; Thu, 22 Aug 2002 07:36:16 -0400 (EDT)\n",
      "Received : from localhost (localhost [127.0.0.1])\tby phobos.labs.netnoteinc.com (Postfix) with ESMTP id D03E543C36\tfor <zzzz@localhost>; Thu, 22 Aug 2002 07:36:16 -0400 (EDT)\n",
      "Received : from localhost (localhost [127.0.0.1])\tby phobos.labs.netnoteinc.com (Postfix) with ESMTP id D03E543C36\tfor <zzzz@localhost>; Thu, 22 Aug 2002 07:36:16 -0400 (EDT)\n",
      "Delivered-To : zzzz@localhost.netnoteinc.com\n",
      "Received : from localhost (localhost [127.0.0.1])\tby phobos.labs.netnoteinc.com (Postfix) with ESMTP id D03E543C36\tfor <zzzz@localhost>; Thu, 22 Aug 2002 07:36:16 -0400 (EDT)\n",
      "Received : from localhost (localhost [127.0.0.1])\tby phobos.labs.netnoteinc.com (Postfix) with ESMTP id D03E543C36\tfor <zzzz@localhost>; Thu, 22 Aug 2002 07:36:16 -0400 (EDT)\n",
      "Received : from localhost (localhost [127.0.0.1])\tby phobos.labs.netnoteinc.com (Postfix) with ESMTP id D03E543C36\tfor <zzzz@localhost>; Thu, 22 Aug 2002 07:36:16 -0400 (EDT)\n",
      "Received : from localhost (localhost [127.0.0.1])\tby phobos.labs.netnoteinc.com (Postfix) with ESMTP id D03E543C36\tfor <zzzz@localhost>; Thu, 22 Aug 2002 07:36:16 -0400 (EDT)\n",
      "Received : from localhost (localhost [127.0.0.1])\tby phobos.labs.netnoteinc.com (Postfix) with ESMTP id D03E543C36\tfor <zzzz@localhost>; Thu, 22 Aug 2002 07:36:16 -0400 (EDT)\n",
      "Received : from localhost (localhost [127.0.0.1])\tby phobos.labs.netnoteinc.com (Postfix) with ESMTP id D03E543C36\tfor <zzzz@localhost>; Thu, 22 Aug 2002 07:36:16 -0400 (EDT)\n",
      "From : Robert Elz <kre@munnari.OZ.AU>\n",
      "To : Chris Garrigues <cwg-dated-1030377287.06fa6d@DeepEddy.Com>\n",
      "Cc : exmh-workers@example.com\n",
      "Subject : Re: New Sequences Window\n",
      "In-Reply-To : <1029945287.4797.TMDA@deepeddy.vircio.com>\n",
      "References : <1029945287.4797.TMDA@deepeddy.vircio.com>    <1029882468.3116.TMDA@deepeddy.vircio.com> <9627.1029933001@munnari.OZ.AU>    <1029943066.26919.TMDA@deepeddy.vircio.com>    <1029944441.398.TMDA@deepeddy.vircio.com>\n",
      "MIME-Version : 1.0\n",
      "Content-Type : text/plain; charset=\"us-ascii\"\n",
      "Message-Id : <13258.1030015585@munnari.OZ.AU>\n",
      "X-Loop : exmh-workers@example.com\n",
      "Sender : exmh-workers-admin@example.com\n",
      "Errors-To : exmh-workers-admin@example.com\n",
      "X-Beenthere : exmh-workers@example.com\n",
      "X-Mailman-Version : 2.0.1\n",
      "Precedence : bulk\n",
      "List-Help : <mailto:exmh-workers-request@example.com?subject=help>\n",
      "List-Post : <mailto:exmh-workers@example.com>\n",
      "List-Subscribe : <https://listman.example.com/mailman/listinfo/exmh-workers>,    <mailto:exmh-workers-request@redhat.com?subject=subscribe>\n",
      "List-Id : Discussion list for EXMH developers <exmh-workers.example.com>\n",
      "List-Unsubscribe : <https://listman.example.com/mailman/listinfo/exmh-workers>,    <mailto:exmh-workers-request@redhat.com?subject=unsubscribe>\n",
      "List-Archive : <https://listman.example.com/mailman/private/exmh-workers/>\n",
      "Date : Thu, 22 Aug 2002 18:26:25 +0700\n",
      "\n",
      "\n",
      "Conteudo:     Date:        Wed, 21 Aug 2002 10:54:46 -0500\n",
      "    From:        Chris Garrigues <cwg-dated-1030377287.06fa6d@DeepEddy.Com>\n",
      "    Message-ID:  <1029945287.4797.TMDA@deepeddy.vircio.com>\n",
      "\n",
      "\n",
      "  | I can't reproduce this error.\n",
      "\n",
      "For me it is very repeatable... (like every time, without fail).\n",
      "\n",
      "This is the debug log of the pick happening ...\n",
      "\n",
      "18:19:03 Pick_It {exec pick +inbox -list -lbrace -lbrace -subject ftp -rbrace -rbrace} {4852-4852 -sequence mercury}\n",
      "18:19:03 exec pick +inbox -list -lbrace -lbrace -subject ftp -rbrace -rbrace 4852-4852 -sequence mercury\n",
      "18:19:04 Ftoc_PickMsgs {{1 hit}}\n",
      "18:19:04 Marking 1 hits\n",
      "18:19:04 tkerror: syntax error in expression \"int ...\n",
      "\n",
      "Note, if I run the pick command by hand ...\n",
      "\n",
      "delta$ pick +inbox -list -lbrace -lbrace -subject ftp -rbrace -rbrace  4852-4852 -sequence mercury\n",
      "1 hit\n",
      "\n",
      "That's where the \"1 hit\" comes from (obviously).  The version of nmh I'm\n",
      "using is ...\n",
      "\n",
      "delta$ pick -version\n",
      "pick -- nmh-1.0.4 [compiled on fuchsia.cs.mu.OZ.AU at Sun Mar 17 14:55:56 ICT 2002]\n",
      "\n",
      "And the relevant part of my .mh_profile ...\n",
      "\n",
      "delta$ mhparam pick\n",
      "-seq sel -list\n",
      "\n",
      "\n",
      "Since the pick command works, the sequence (actually, both of them, the\n",
      "one that's explicit on the command line, from the search popup, and the\n",
      "one that comes from .mh_profile) do get created.\n",
      "\n",
      "kre\n",
      "\n",
      "ps: this is still using the version of the code form a day ago, I haven't\n",
      "been able to reach the cvs repository today (local routing issue I think).\n",
      "\n",
      "\n",
      "\n",
      "_______________________________________________\n",
      "Exmh-workers mailing list\n",
      "Exmh-workers@redhat.com\n",
      "https://listman.redhat.com/mailman/listinfo/exmh-workers\n",
      "\n",
      "\n"
     ]
    }
   ],
   "source": [
    "for i in aux.keys():\n",
    "    print(f\"{i} : {aux[i]}\")\n",
    "\n",
    "print('\\n')\n",
    "print('Conteudo:', aux.get_content())"
   ],
   "metadata": {
    "collapsed": false,
    "pycharm": {
     "name": "#%%\n"
    }
   }
  },
  {
   "cell_type": "code",
   "execution_count": 65,
   "outputs": [],
   "source": [
    "def get_email_structure(email):\n",
    "    if isinstance(email, str):\n",
    "        return email\n",
    "\n",
    "    payload = email.get_payload()\n",
    "\n",
    "    if isinstance(payload, list):\n",
    "        lista = []\n",
    "        for sub_email in payload:\n",
    "            lista.append(get_email_structure(sub_email))\n",
    "\n",
    "        return \"Estruturas do email:\", lista\n",
    "\n",
    "    else:\n",
    "\n",
    "        return email.get_content_type()\n",
    "\n",
    "\n",
    "emailsNormaisMultipart = get_email_structure(emailsNormais[634])\n"
   ],
   "metadata": {
    "collapsed": false,
    "pycharm": {
     "name": "#%%\n"
    }
   }
  },
  {
   "cell_type": "code",
   "execution_count": 66,
   "outputs": [
    {
     "data": {
      "text/plain": "('Estruturas do email:', ['text/plain', 'text/html'])"
     },
     "execution_count": 66,
     "metadata": {},
     "output_type": "execute_result"
    }
   ],
   "source": [
    "emailsNormaisMultipart"
   ],
   "metadata": {
    "collapsed": false,
    "pycharm": {
     "name": "#%%\n"
    }
   }
  },
  {
   "cell_type": "code",
   "execution_count": 67,
   "outputs": [
    {
     "name": "stdout",
     "output_type": "stream",
     "text": [
      "Return-Path: <fork-admin@xent.com>\n",
      "Delivered-To: yyyy@localhost.example.com\n",
      "Received: from localhost (jalapeno [127.0.0.1])\n",
      "\tby jmason.org (Postfix) with ESMTP id C2C2316F16\n",
      "\tfor <jm@localhost>; Fri, 13 Sep 2002 13:37:26 +0100 (IST)\n",
      "Received: from jalapeno [127.0.0.1]\n",
      "\tby localhost with IMAP (fetchmail-5.9.0)\n",
      "\tfor jm@localhost (single-drop); Fri, 13 Sep 2002 13:37:26 +0100 (IST)\n",
      "Received: from xent.com ([64.161.22.236]) by dogma.slashnull.org\n",
      "    (8.11.6/8.11.6) with ESMTP id g8CNsQC20509 for <jm@jmason.org>;\n",
      "    Fri, 13 Sep 2002 00:54:27 +0100\n",
      "Received: from lair.xent.com (localhost [127.0.0.1]) by xent.com (Postfix)\n",
      "    with ESMTP id A31B02940D3; Thu, 12 Sep 2002 16:51:04 -0700 (PDT)\n",
      "Delivered-To: fork@example.com\n",
      "Received: from web13003.mail.yahoo.com (web13003.mail.yahoo.com\n",
      "    [216.136.174.13]) by xent.com (Postfix) with SMTP id 5696629409A for\n",
      "    <fork@xent.com>; Thu, 12 Sep 2002 16:50:13 -0700 (PDT)\n",
      "Message-Id: <20020912235313.4003.qmail@web13003.mail.yahoo.com>\n",
      "Received: from [67.114.193.54] by web13003.mail.yahoo.com via HTTP;\n",
      "    Thu, 12 Sep 2002 16:53:13 PDT\n",
      "From: Michael Watson <scruz_mike@yahoo.com>\n",
      "Subject: Re: From salon.com - Forbidden thoughts about 9/11\n",
      "To: Chris Haun <chris@noskillz.com>\n",
      "Cc: fork@example.com\n",
      "In-Reply-To:\n",
      " <Pine.LNX.4.44.0209111507050.31122-100000@isolnetsux.techmonkeys.net>\n",
      "MIME-Version: 1.0\n",
      "Content-Type: multipart/alternative; boundary=\"0-1051763016-1031874793=:3397\"\n",
      "Sender: fork-admin@xent.com\n",
      "Errors-To: fork-admin@xent.com\n",
      "X-Beenthere: fork@example.com\n",
      "X-Mailman-Version: 2.0.11\n",
      "Precedence: bulk\n",
      "List-Help: <mailto:fork-request@xent.com?subject=help>\n",
      "List-Post: <mailto:fork@example.com>\n",
      "List-Subscribe: <http://xent.com/mailman/listinfo/fork>,\n",
      " <mailto:fork-request@xent.com?subject=subscribe>\n",
      "List-Id: Friends of Rohit Khare <fork.xent.com>\n",
      "List-Unsubscribe: <http://xent.com/mailman/listinfo/fork>,\n",
      "    <mailto:fork-request@xent.com?subject=unsubscribe>\n",
      "List-Archive: <http://xent.com/pipermail/fork/>\n",
      "Date: Thu, 12 Sep 2002 16:53:13 -0700 (PDT)\n",
      "X-Spam-Status: No, hits=-5.1 required=7.0\n",
      "\ttests=HTML_TAG_MIXED_CASE,IN_REP_TO,KNOWN_MAILING_LIST,\n",
      "\t      SPAM_PHRASE_03_05,SUPERLONG_LINE,YAHOO_MSGID_ADDED\n",
      "\tversion=2.50-cvs\n",
      "X-Spam-Level: \n",
      "\n",
      "--0-1051763016-1031874793=:3397\n",
      "Content-Type: text/plain; charset=us-ascii\n",
      "\n",
      "\n",
      "I am delurking to comment on the Salon article. I just wanted to say that I am grateful they choose not to publish my forbidden thought. I sent it in a couple of days before the 9/11 commeration. If I had just watched the sentimental network and cable shows on 9/11 my cynical thoughts would have remain unchanged. However, I watch the Frontline show \"Faith and Doubt at Ground Zero\" on PBS. That show tackled head on, with much more courage than I have seen elsewhere, the larger questions about good and evil, about art as an alternate religion (Karlheinz Stockhausen -- 9/11 was a great work of art), and especially the question about how religion has a darker side which when carried to fanatic extremes tends to negate the humanity of the non-believers.\n",
      "I am not a religious person but I stunned at the scope of this program. It talked about the Lutheran minister who spoke at Yankees Stadium on a podium with other religious leaders present who was charged with heresy by his own church for promoting the idea that all religions are equal (presumably the Lutherans have the one true path?).\n",
      "Thanks for listening, I just felt like I needed to put the word out about this program. My shallow comment on Salon and others like it (my boyfriend and I had sex while the towers collapsed) gives me pause about how some of us tend to harden ourselves to the suffering of others.\n",
      "Mike\n",
      " Chris Haun wrote:i though this was all rather interesting, first bit of 9/11 coverage that \n",
      "i've liked.\n",
      "\n",
      "http://www.salon.com/mwt/feature/2002/09/11/forbidden_letters/index.html\n",
      "\n",
      "Chris\n",
      "\n",
      "\n",
      "\n",
      "---------------------------------\n",
      "Do you Yahoo!?\n",
      "Yahoo! News - Today's headlines\n",
      "--0-1051763016-1031874793=:3397\n",
      "Content-Type: text/html; charset=us-ascii\n",
      "\n",
      "<P>I am delurking to comment on the Salon article. I just wanted to say that I am grateful they choose not to publish my forbidden thought. I sent it in a couple of days before the 9/11 commeration. If I had just watched the sentimental network and cable shows on 9/11 my cynical thoughts would have remain unchanged. However, I watch the Frontline show \"Faith and Doubt at Ground Zero\" on PBS. That show tackled head on, with much more courage than I have seen elsewhere, the larger questions about good and evil, about art as an alternate religion (Karlheinz Stockhausen -- 9/11 was a great work of art), and especially the question about how religion has a darker side which when carried to fanatic extremes tends to negate the humanity of the non-believers.\n",
      "<P>I am not a religious person but I stunned at the scope of this program. It talked about the Lutheran minister who spoke at Yankees Stadium on a podium with other religious leaders present who was charged with heresy by his own church for promoting the idea that all religions are equal (presumably the Lutherans have the one true path?).\n",
      "<P>Thanks for listening, I just felt like I needed to put the word out about this program. My shallow comment on Salon and others like it (my boyfriend and I had sex while the towers collapsed) gives me pause about how&nbsp;some&nbsp;of us&nbsp;tend to harden ourselves to the suffering of others.\n",
      "<P>Mike\n",
      "<P>&nbsp;<B><I>Chris Haun <CHRIS@NOSKILLZ.COM></I></B>wrote:\n",
      "<BLOCKQUOTE style=\"PADDING-LEFT: 5px; MARGIN-LEFT: 5px; BORDER-LEFT: #1010ff 2px solid\">i though this was all rather interesting, first bit of 9/11 coverage that <BR>i've liked.<BR><BR>http://www.salon.com/mwt/feature/2002/09/11/forbidden_letters/index.html<BR><BR>Chris<BR></BLOCKQUOTE><p><br><hr size=1>Do you Yahoo!?<br>\n",
      "<b><a href=\"http://news.yahoo.com/\">Yahoo! News</a></b> - Today's headlines\n",
      "--0-1051763016-1031874793=:3397--\n",
      "\n",
      "\n",
      "\n",
      "Content-Type: text/plain; charset=us-ascii\n",
      "\n",
      "\n",
      "I am delurking to comment on the Salon article. I just wanted to say that I am grateful they choose not to publish my forbidden thought. I sent it in a couple of days before the 9/11 commeration. If I had just watched the sentimental network and cable shows on 9/11 my cynical thoughts would have remain unchanged. However, I watch the Frontline show \"Faith and Doubt at Ground Zero\" on PBS. That show tackled head on, with much more courage than I have seen elsewhere, the larger questions about good and evil, about art as an alternate religion (Karlheinz Stockhausen -- 9/11 was a great work of art), and especially the question about how religion has a darker side which when carried to fanatic extremes tends to negate the humanity of the non-believers.\n",
      "I am not a religious person but I stunned at the scope of this program. It talked about the Lutheran minister who spoke at Yankees Stadium on a podium with other religious leaders present who was charged with heresy by his own church for promoting the idea that all religions are equal (presumably the Lutherans have the one true path?).\n",
      "Thanks for listening, I just felt like I needed to put the word out about this program. My shallow comment on Salon and others like it (my boyfriend and I had sex while the towers collapsed) gives me pause about how some of us tend to harden ourselves to the suffering of others.\n",
      "Mike\n",
      " Chris Haun wrote:i though this was all rather interesting, first bit of 9/11 coverage that \n",
      "i've liked.\n",
      "\n",
      "http://www.salon.com/mwt/feature/2002/09/11/forbidden_letters/index.html\n",
      "\n",
      "Chris\n",
      "\n",
      "\n",
      "\n",
      "---------------------------------\n",
      "Do you Yahoo!?\n",
      "Yahoo! News - Today's headlines\n",
      "Content-Type: text/html; charset=us-ascii\n",
      "\n",
      "<P>I am delurking to comment on the Salon article. I just wanted to say that I am grateful they choose not to publish my forbidden thought. I sent it in a couple of days before the 9/11 commeration. If I had just watched the sentimental network and cable shows on 9/11 my cynical thoughts would have remain unchanged. However, I watch the Frontline show \"Faith and Doubt at Ground Zero\" on PBS. That show tackled head on, with much more courage than I have seen elsewhere, the larger questions about good and evil, about art as an alternate religion (Karlheinz Stockhausen -- 9/11 was a great work of art), and especially the question about how religion has a darker side which when carried to fanatic extremes tends to negate the humanity of the non-believers.\n",
      "<P>I am not a religious person but I stunned at the scope of this program. It talked about the Lutheran minister who spoke at Yankees Stadium on a podium with other religious leaders present who was charged with heresy by his own church for promoting the idea that all religions are equal (presumably the Lutherans have the one true path?).\n",
      "<P>Thanks for listening, I just felt like I needed to put the word out about this program. My shallow comment on Salon and others like it (my boyfriend and I had sex while the towers collapsed) gives me pause about how&nbsp;some&nbsp;of us&nbsp;tend to harden ourselves to the suffering of others.\n",
      "<P>Mike\n",
      "<P>&nbsp;<B><I>Chris Haun <CHRIS@NOSKILLZ.COM></I></B>wrote:\n",
      "<BLOCKQUOTE style=\"PADDING-LEFT: 5px; MARGIN-LEFT: 5px; BORDER-LEFT: #1010ff 2px solid\">i though this was all rather interesting, first bit of 9/11 coverage that <BR>i've liked.<BR><BR>http://www.salon.com/mwt/feature/2002/09/11/forbidden_letters/index.html<BR><BR>Chris<BR></BLOCKQUOTE><p><br><hr size=1>Do you Yahoo!?<br>\n",
      "<b><a href=\"http://news.yahoo.com/\">Yahoo! News</a></b> - Today's headlines\n"
     ]
    }
   ],
   "source": [
    "\n",
    "for email in emailsNormais[634].walk():\n",
    "    print(email)"
   ],
   "metadata": {
    "collapsed": false,
    "pycharm": {
     "name": "#%%\n"
    }
   }
  },
  {
   "cell_type": "code",
   "execution_count": 68,
   "outputs": [
    {
     "data": {
      "text/plain": "\"def email_to_text(email):\\n    struct = get_email_structure(email)\\n    for part in email.walk():\\n        partContentType = part.get_content_type()\\n        if partContentType not in ['text/plain','text/html']:\\n            continue\\n        try:\\n            partContent = part.get_content()\\n        except: # in case of encoding issues\\n            partContent = str(part.get_payload())\\n        if partContentType == 'text/plain':\\n            return partContent\\n        else:\\n            return html_to_text(part)\""
     },
     "execution_count": 68,
     "metadata": {},
     "output_type": "execute_result"
    }
   ],
   "source": [
    "def html_to_text(email):\n",
    "    try:\n",
    "        soup = BeautifulSoup(email.get_content(), 'html.parser')\n",
    "        return soup.text.replace('\\n\\n', '')\n",
    "    except:\n",
    "        return \"empty\"\n",
    "\n",
    "\n",
    "def email_to_text(email):\n",
    "    for emailParts in email.walk():\n",
    "        if emailParts.get_content_type() not in ['text/plain', 'text/html']:\n",
    "            continue\n",
    "\n",
    "        if emailParts.get_content_type() == 'text/plain':\n",
    "            return emailParts.get_content()\n",
    "        else:\n",
    "            return html_to_text(emailParts)\n",
    "\n",
    "\n",
    "'''def email_to_text(email):\n",
    "    struct = get_email_structure(email)\n",
    "    for part in email.walk():\n",
    "        partContentType = part.get_content_type()\n",
    "        if partContentType not in ['text/plain','text/html']:\n",
    "            continue\n",
    "        try:\n",
    "            partContent = part.get_content()\n",
    "        except: # in case of encoding issues\n",
    "            partContent = str(part.get_payload())\n",
    "        if partContentType == 'text/plain':\n",
    "            return partContent\n",
    "        else:\n",
    "            return html_to_text(part)'''\n"
   ],
   "metadata": {
    "collapsed": false,
    "pycharm": {
     "name": "#%%\n"
    }
   }
  },
  {
   "cell_type": "code",
   "execution_count": 69,
   "outputs": [
    {
     "data": {
      "text/plain": "'    Date:        Wed, 21 Aug 2002 10:54:46 -0500\\n    From:        Chris Garrigues <cwg-dated-1030377287.06fa6d@DeepEddy.Com>\\n    Message-ID:  <1029945287.4797.TMDA@deepeddy.vircio.com>\\n\\n\\n  | I can\\'t reproduce this error.\\n\\nFor me it is very repeatable... (like every time, without fail).\\n\\nThis is the debug log of the pick happening ...\\n\\n18:19:03 Pick_It {exec pick +inbox -list -lbrace -lbrace -subject ftp -rbrace -rbrace} {4852-4852 -sequence mercury}\\n18:19:03 exec pick +inbox -list -lbrace -lbrace -subject ftp -rbrace -rbrace 4852-4852 -sequence mercury\\n18:19:04 Ftoc_PickMsgs {{1 hit}}\\n18:19:04 Marking 1 hits\\n18:19:04 tkerror: syntax error in expression \"int ...\\n\\nNote, if I run the pick command by hand ...\\n\\ndelta$ pick +inbox -list -lbrace -lbrace -subject ftp -rbrace -rbrace  4852-4852 -sequence mercury\\n1 hit\\n\\nThat\\'s where the \"1 hit\" comes from (obviously).  The version of nmh I\\'m\\nusing is ...\\n\\ndelta$ pick -version\\npick -- nmh-1.0.4 [compiled on fuchsia.cs.mu.OZ.AU at Sun Mar 17 14:55:56 ICT 2002]\\n\\nAnd the relevant part of my .mh_profile ...\\n\\ndelta$ mhparam pick\\n-seq sel -list\\n\\n\\nSince the pick command works, the sequence (actually, both of them, the\\none that\\'s explicit on the command line, from the search popup, and the\\none that comes from .mh_profile) do get created.\\n\\nkre\\n\\nps: this is still using the version of the code form a day ago, I haven\\'t\\nbeen able to reach the cvs repository today (local routing issue I think).\\n\\n\\n\\n_______________________________________________\\nExmh-workers mailing list\\nExmh-workers@redhat.com\\nhttps://listman.redhat.com/mailman/listinfo/exmh-workers\\n\\n'"
     },
     "execution_count": 69,
     "metadata": {},
     "output_type": "execute_result"
    }
   ],
   "source": [
    "email_to_text(emailsNormais[0])"
   ],
   "metadata": {
    "collapsed": false,
    "pycharm": {
     "name": "#%%\n"
    }
   }
  },
  {
   "cell_type": "code",
   "execution_count": 70,
   "outputs": [],
   "source": [
    "def removePunctuation(text):\n",
    "   ponctuation = set(list(punctuation))\n",
    "\n",
    "   for i in ponctuation:\n",
    "      text = text.replace(i,\" \")\n",
    "\n",
    "   return text\n",
    "\n",
    "\n",
    "def wordsPreProcessing(email):\n",
    " newText = \"\"\n",
    "\n",
    " stopWords= set(stopwords.words('english') + list(STOPWORDS))\n",
    " lemmatizer = WordNetLemmatizer()\n",
    "\n",
    "\n",
    " for text_ in email.split():\n",
    "     text_ = removePunctuation(text_)\n",
    "     if text_ not in stopWords:\n",
    "        newText += lemmatizer.lemmatize(text_) + \" \"\n",
    "\n",
    " return newText\n"
   ],
   "metadata": {
    "collapsed": false,
    "pycharm": {
     "name": "#%%\n"
    }
   }
  },
  {
   "cell_type": "code",
   "execution_count": 71,
   "outputs": [
    {
     "name": "stdout",
     "output_type": "stream",
     "text": [
      "martin:  1\n",
      "posted:  0\n",
      "tassos:  0\n",
      "papadopoulos:  0\n",
      "greek:  0\n",
      "sculptor:  0\n",
      "plan:  0\n",
      "judged:  0\n",
      "limestone:  0\n",
      "mount:  0\n",
      "kerdylio:  0\n",
      "70:  0\n",
      "mile:  0\n",
      "east:  0\n",
      "salonika:  0\n",
      "far:  0\n",
      "athos:  0\n",
      "monastic:  0\n",
      "community:  0\n",
      "ideal:  0\n",
      "patriotic:  0\n",
      "sculpture:  0\n",
      "as:  0\n",
      "alexander:  0\n",
      "granite:  0\n",
      "features:  0\n",
      "240:  0\n",
      "ft:  0\n",
      "high:  0\n",
      "170:  0\n",
      "wide:  0\n",
      "museum:  0\n",
      "restored:  0\n",
      "amphitheatre:  0\n",
      "car:  0\n",
      "park:  0\n",
      "admiring:  0\n",
      "crowd:  0\n",
      "planned:  0\n",
      "so:  0\n",
      "mountain:  0\n",
      "if:  0\n",
      "it:  0\n",
      "ll:  0\n",
      "weather:  0\n",
      "pretty:  0\n",
      "fast:  0\n",
      "yahoo:  0\n",
      "groups:  0\n",
      "sponsor:  0\n",
      "dvds:  0\n",
      "free:  0\n",
      "join:  0\n",
      "now:  0\n",
      "http:  0\n",
      "us:  0\n",
      "click:  0\n",
      "com:  0\n",
      "pt6ybb:  0\n",
      "nxieaa:  0\n",
      "mg3haa:  0\n",
      "7gsolb:  0\n",
      "tm:  0\n",
      "to:  0\n",
      "unsubscribe:  0\n",
      "group:  0\n",
      "send:  0\n",
      "email:  0\n",
      "forteana:  0\n",
      "egroups:  0\n",
      "your:  0\n",
      "use:  0\n",
      "subject:  0\n",
      "docs:  0\n",
      "info:  0\n",
      "terms:  0\n"
     ]
    }
   ],
   "source": [
    "\n",
    "words = wordsPreProcessing(email_to_text(emailsNormais[1]))\n",
    "\n",
    "vectorizer = CountVectorizer()\n",
    "X = vectorizer.fit(words.split())\n",
    "vocabulary_ = vectorizer.vocabulary_\n",
    "vector = vectorizer.transform(words.split())\n",
    "wordsCouny = vector.toarray()\n",
    "\n",
    "for i in vocabulary_.keys():\n",
    "    print(f\"{i}: \", wordsCouny[0][vocabulary_[i]])\n"
   ],
   "metadata": {
    "collapsed": false,
    "pycharm": {
     "name": "#%%\n"
    }
   }
  },
  {
   "cell_type": "code",
   "execution_count": 71,
   "outputs": [],
   "source": [],
   "metadata": {
    "collapsed": false,
    "pycharm": {
     "name": "#%%\n"
    }
   }
  }
 ],
 "metadata": {
  "kernelspec": {
   "display_name": "Python 3",
   "language": "python",
   "name": "python3"
  },
  "language_info": {
   "codemirror_mode": {
    "name": "ipython",
    "version": 2
   },
   "file_extension": ".py",
   "mimetype": "text/x-python",
   "name": "python",
   "nbconvert_exporter": "python",
   "pygments_lexer": "ipython2",
   "version": "2.7.6"
  }
 },
 "nbformat": 4,
 "nbformat_minor": 0
}