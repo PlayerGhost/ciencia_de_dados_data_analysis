{
 "cells": [
  {
   "cell_type": "code",
   "execution_count": 111,
   "metadata": {
    "collapsed": true
   },
   "outputs": [],
   "source": [
    "import pandas as pd\n",
    "import numpy as np\n",
    "import os\n",
    "import email\n",
    "import email.policy\n",
    "from bs4 import BeautifulSoup\n",
    "from collections import Counter\n",
    "from nltk.corpus import stopwords, words\n",
    "from nltk.stem import WordNetLemmatizer\n",
    "from nltk.tokenize import RegexpTokenizer\n",
    "from string import punctuation\n",
    "from gensim.parsing.preprocessing import STOPWORDS\n",
    "from sklearn.feature_extraction.text import CountVectorizer, TfidfVectorizer\n",
    "from sklearn.manifold import TSNE\n",
    "import re\n",
    "import heapq\n",
    "\n",
    "import matplotlib.pyplot as plt"
   ]
  },
  {
   "cell_type": "code",
   "execution_count": 112,
   "outputs": [
    {
     "data": {
      "text/plain": "['ham', 'spam']"
     },
     "execution_count": 112,
     "metadata": {},
     "output_type": "execute_result"
    }
   ],
   "source": [
    "os.listdir('./Database')"
   ],
   "metadata": {
    "collapsed": false,
    "pycharm": {
     "name": "#%%\n"
    }
   }
  },
  {
   "cell_type": "code",
   "execution_count": 113,
   "outputs": [],
   "source": [
    "arquivosNormais = [nomeArquivo for nomeArquivo in (os.listdir(\"./Database/ham\")) if len(nomeArquivo) > 20]\n",
    "arquivosSpam = [nomeArquivo for nomeArquivo in (os.listdir(\"./Database/spam\")) if len(nomeArquivo) > 20]\n",
    "\n",
    "emailsNome = arquivosNormais + arquivosSpam"
   ],
   "metadata": {
    "collapsed": false,
    "pycharm": {
     "name": "#%%\n"
    }
   }
  },
  {
   "cell_type": "code",
   "execution_count": 114,
   "outputs": [],
   "source": [
    "def carregarEmail(tipo, arquivo):\n",
    "    caminho = \"\"\n",
    "\n",
    "    if tipo == \"spam\":\n",
    "        caminho = \"./Database/spam\"\n",
    "    if tipo == \"ham\":\n",
    "        caminho = \"./Database/ham\"\n",
    "\n",
    "    with open(f\"{caminho}/{arquivo}\", \"rb\") as file:\n",
    "        return email.parser.BytesParser(policy=email.policy.default).parse(file)\n",
    "\n",
    "\n",
    "emailsNormais = [carregarEmail(\"ham\", arquivo) for arquivo in arquivosNormais]\n",
    "emailsSpam = [carregarEmail(\"spam\", arquivo) for arquivo in arquivosSpam]\n",
    "\n",
    "emails = emailsNormais + emailsSpam\n",
    "\n",
    "aux = emailsNormais[0]"
   ],
   "metadata": {
    "collapsed": false,
    "pycharm": {
     "name": "#%%\n"
    }
   }
  },
  {
   "cell_type": "code",
   "execution_count": 115,
   "outputs": [
    {
     "name": "stdout",
     "output_type": "stream",
     "text": [
      "Return-Path : <exmh-workers-admin@example.com>\n",
      "Delivered-To : zzzz@localhost.netnoteinc.com\n",
      "Received : from localhost (localhost [127.0.0.1])\tby phobos.labs.netnoteinc.com (Postfix) with ESMTP id D03E543C36\tfor <zzzz@localhost>; Thu, 22 Aug 2002 07:36:16 -0400 (EDT)\n",
      "Received : from localhost (localhost [127.0.0.1])\tby phobos.labs.netnoteinc.com (Postfix) with ESMTP id D03E543C36\tfor <zzzz@localhost>; Thu, 22 Aug 2002 07:36:16 -0400 (EDT)\n",
      "Received : from localhost (localhost [127.0.0.1])\tby phobos.labs.netnoteinc.com (Postfix) with ESMTP id D03E543C36\tfor <zzzz@localhost>; Thu, 22 Aug 2002 07:36:16 -0400 (EDT)\n",
      "Received : from localhost (localhost [127.0.0.1])\tby phobos.labs.netnoteinc.com (Postfix) with ESMTP id D03E543C36\tfor <zzzz@localhost>; Thu, 22 Aug 2002 07:36:16 -0400 (EDT)\n",
      "Delivered-To : zzzz@localhost.netnoteinc.com\n",
      "Received : from localhost (localhost [127.0.0.1])\tby phobos.labs.netnoteinc.com (Postfix) with ESMTP id D03E543C36\tfor <zzzz@localhost>; Thu, 22 Aug 2002 07:36:16 -0400 (EDT)\n",
      "Received : from localhost (localhost [127.0.0.1])\tby phobos.labs.netnoteinc.com (Postfix) with ESMTP id D03E543C36\tfor <zzzz@localhost>; Thu, 22 Aug 2002 07:36:16 -0400 (EDT)\n",
      "Received : from localhost (localhost [127.0.0.1])\tby phobos.labs.netnoteinc.com (Postfix) with ESMTP id D03E543C36\tfor <zzzz@localhost>; Thu, 22 Aug 2002 07:36:16 -0400 (EDT)\n",
      "Received : from localhost (localhost [127.0.0.1])\tby phobos.labs.netnoteinc.com (Postfix) with ESMTP id D03E543C36\tfor <zzzz@localhost>; Thu, 22 Aug 2002 07:36:16 -0400 (EDT)\n",
      "Received : from localhost (localhost [127.0.0.1])\tby phobos.labs.netnoteinc.com (Postfix) with ESMTP id D03E543C36\tfor <zzzz@localhost>; Thu, 22 Aug 2002 07:36:16 -0400 (EDT)\n",
      "Received : from localhost (localhost [127.0.0.1])\tby phobos.labs.netnoteinc.com (Postfix) with ESMTP id D03E543C36\tfor <zzzz@localhost>; Thu, 22 Aug 2002 07:36:16 -0400 (EDT)\n",
      "From : Robert Elz <kre@munnari.OZ.AU>\n",
      "To : Chris Garrigues <cwg-dated-1030377287.06fa6d@DeepEddy.Com>\n",
      "Cc : exmh-workers@example.com\n",
      "Subject : Re: New Sequences Window\n",
      "In-Reply-To : <1029945287.4797.TMDA@deepeddy.vircio.com>\n",
      "References : <1029945287.4797.TMDA@deepeddy.vircio.com>    <1029882468.3116.TMDA@deepeddy.vircio.com> <9627.1029933001@munnari.OZ.AU>    <1029943066.26919.TMDA@deepeddy.vircio.com>    <1029944441.398.TMDA@deepeddy.vircio.com>\n",
      "MIME-Version : 1.0\n",
      "Content-Type : text/plain; charset=\"us-ascii\"\n",
      "Message-Id : <13258.1030015585@munnari.OZ.AU>\n",
      "X-Loop : exmh-workers@example.com\n",
      "Sender : exmh-workers-admin@example.com\n",
      "Errors-To : exmh-workers-admin@example.com\n",
      "X-Beenthere : exmh-workers@example.com\n",
      "X-Mailman-Version : 2.0.1\n",
      "Precedence : bulk\n",
      "List-Help : <mailto:exmh-workers-request@example.com?subject=help>\n",
      "List-Post : <mailto:exmh-workers@example.com>\n",
      "List-Subscribe : <https://listman.example.com/mailman/listinfo/exmh-workers>,    <mailto:exmh-workers-request@redhat.com?subject=subscribe>\n",
      "List-Id : Discussion list for EXMH developers <exmh-workers.example.com>\n",
      "List-Unsubscribe : <https://listman.example.com/mailman/listinfo/exmh-workers>,    <mailto:exmh-workers-request@redhat.com?subject=unsubscribe>\n",
      "List-Archive : <https://listman.example.com/mailman/private/exmh-workers/>\n",
      "Date : Thu, 22 Aug 2002 18:26:25 +0700\n",
      "\n",
      "\n",
      "Conteudo:     Date:        Wed, 21 Aug 2002 10:54:46 -0500\n",
      "    From:        Chris Garrigues <cwg-dated-1030377287.06fa6d@DeepEddy.Com>\n",
      "    Message-ID:  <1029945287.4797.TMDA@deepeddy.vircio.com>\n",
      "\n",
      "\n",
      "  | I can't reproduce this error.\n",
      "\n",
      "For me it is very repeatable... (like every time, without fail).\n",
      "\n",
      "This is the debug log of the pick happening ...\n",
      "\n",
      "18:19:03 Pick_It {exec pick +inbox -list -lbrace -lbrace -subject ftp -rbrace -rbrace} {4852-4852 -sequence mercury}\n",
      "18:19:03 exec pick +inbox -list -lbrace -lbrace -subject ftp -rbrace -rbrace 4852-4852 -sequence mercury\n",
      "18:19:04 Ftoc_PickMsgs {{1 hit}}\n",
      "18:19:04 Marking 1 hits\n",
      "18:19:04 tkerror: syntax error in expression \"int ...\n",
      "\n",
      "Note, if I run the pick command by hand ...\n",
      "\n",
      "delta$ pick +inbox -list -lbrace -lbrace -subject ftp -rbrace -rbrace  4852-4852 -sequence mercury\n",
      "1 hit\n",
      "\n",
      "That's where the \"1 hit\" comes from (obviously).  The version of nmh I'm\n",
      "using is ...\n",
      "\n",
      "delta$ pick -version\n",
      "pick -- nmh-1.0.4 [compiled on fuchsia.cs.mu.OZ.AU at Sun Mar 17 14:55:56 ICT 2002]\n",
      "\n",
      "And the relevant part of my .mh_profile ...\n",
      "\n",
      "delta$ mhparam pick\n",
      "-seq sel -list\n",
      "\n",
      "\n",
      "Since the pick command works, the sequence (actually, both of them, the\n",
      "one that's explicit on the command line, from the search popup, and the\n",
      "one that comes from .mh_profile) do get created.\n",
      "\n",
      "kre\n",
      "\n",
      "ps: this is still using the version of the code form a day ago, I haven't\n",
      "been able to reach the cvs repository today (local routing issue I think).\n",
      "\n",
      "\n",
      "\n",
      "_______________________________________________\n",
      "Exmh-workers mailing list\n",
      "Exmh-workers@redhat.com\n",
      "https://listman.redhat.com/mailman/listinfo/exmh-workers\n",
      "\n",
      "\n"
     ]
    }
   ],
   "source": [
    "for i in aux.keys():\n",
    "    print(f\"{i} : {aux[i]}\")\n",
    "\n",
    "print('\\n')\n",
    "print('Conteudo:', aux.get_content())"
   ],
   "metadata": {
    "collapsed": false,
    "pycharm": {
     "name": "#%%\n"
    }
   }
  },
  {
   "cell_type": "code",
   "execution_count": 116,
   "outputs": [],
   "source": [
    "def get_email_structure(email):\n",
    "    if isinstance(email, str):\n",
    "        return email\n",
    "\n",
    "    payload = email.get_payload()\n",
    "\n",
    "    if isinstance(payload, list):\n",
    "        lista = []\n",
    "        for sub_email in payload:\n",
    "            lista.append(get_email_structure(sub_email))\n",
    "\n",
    "        return \"Estruturas do email:\", lista\n",
    "\n",
    "    else:\n",
    "\n",
    "        return email.get_content_type()\n",
    "\n",
    "\n",
    "emailsNormaisMultipart = get_email_structure(emailsNormais[634])"
   ],
   "metadata": {
    "collapsed": false,
    "pycharm": {
     "name": "#%%\n"
    }
   }
  },
  {
   "cell_type": "code",
   "execution_count": 117,
   "outputs": [
    {
     "data": {
      "text/plain": "('Estruturas do email:', ['text/plain', 'text/html'])"
     },
     "execution_count": 117,
     "metadata": {},
     "output_type": "execute_result"
    }
   ],
   "source": [
    "emailsNormaisMultipart"
   ],
   "metadata": {
    "collapsed": false,
    "pycharm": {
     "name": "#%%\n"
    }
   }
  },
  {
   "cell_type": "code",
   "execution_count": 118,
   "outputs": [
    {
     "name": "stdout",
     "output_type": "stream",
     "text": [
      "Return-Path: <fork-admin@xent.com>\n",
      "Delivered-To: yyyy@localhost.example.com\n",
      "Received: from localhost (jalapeno [127.0.0.1])\n",
      "\tby jmason.org (Postfix) with ESMTP id C2C2316F16\n",
      "\tfor <jm@localhost>; Fri, 13 Sep 2002 13:37:26 +0100 (IST)\n",
      "Received: from jalapeno [127.0.0.1]\n",
      "\tby localhost with IMAP (fetchmail-5.9.0)\n",
      "\tfor jm@localhost (single-drop); Fri, 13 Sep 2002 13:37:26 +0100 (IST)\n",
      "Received: from xent.com ([64.161.22.236]) by dogma.slashnull.org\n",
      "    (8.11.6/8.11.6) with ESMTP id g8CNsQC20509 for <jm@jmason.org>;\n",
      "    Fri, 13 Sep 2002 00:54:27 +0100\n",
      "Received: from lair.xent.com (localhost [127.0.0.1]) by xent.com (Postfix)\n",
      "    with ESMTP id A31B02940D3; Thu, 12 Sep 2002 16:51:04 -0700 (PDT)\n",
      "Delivered-To: fork@example.com\n",
      "Received: from web13003.mail.yahoo.com (web13003.mail.yahoo.com\n",
      "    [216.136.174.13]) by xent.com (Postfix) with SMTP id 5696629409A for\n",
      "    <fork@xent.com>; Thu, 12 Sep 2002 16:50:13 -0700 (PDT)\n",
      "Message-Id: <20020912235313.4003.qmail@web13003.mail.yahoo.com>\n",
      "Received: from [67.114.193.54] by web13003.mail.yahoo.com via HTTP;\n",
      "    Thu, 12 Sep 2002 16:53:13 PDT\n",
      "From: Michael Watson <scruz_mike@yahoo.com>\n",
      "Subject: Re: From salon.com - Forbidden thoughts about 9/11\n",
      "To: Chris Haun <chris@noskillz.com>\n",
      "Cc: fork@example.com\n",
      "In-Reply-To:\n",
      " <Pine.LNX.4.44.0209111507050.31122-100000@isolnetsux.techmonkeys.net>\n",
      "MIME-Version: 1.0\n",
      "Content-Type: multipart/alternative; boundary=\"0-1051763016-1031874793=:3397\"\n",
      "Sender: fork-admin@xent.com\n",
      "Errors-To: fork-admin@xent.com\n",
      "X-Beenthere: fork@example.com\n",
      "X-Mailman-Version: 2.0.11\n",
      "Precedence: bulk\n",
      "List-Help: <mailto:fork-request@xent.com?subject=help>\n",
      "List-Post: <mailto:fork@example.com>\n",
      "List-Subscribe: <http://xent.com/mailman/listinfo/fork>,\n",
      " <mailto:fork-request@xent.com?subject=subscribe>\n",
      "List-Id: Friends of Rohit Khare <fork.xent.com>\n",
      "List-Unsubscribe: <http://xent.com/mailman/listinfo/fork>,\n",
      "    <mailto:fork-request@xent.com?subject=unsubscribe>\n",
      "List-Archive: <http://xent.com/pipermail/fork/>\n",
      "Date: Thu, 12 Sep 2002 16:53:13 -0700 (PDT)\n",
      "X-Spam-Status: No, hits=-5.1 required=7.0\n",
      "\ttests=HTML_TAG_MIXED_CASE,IN_REP_TO,KNOWN_MAILING_LIST,\n",
      "\t      SPAM_PHRASE_03_05,SUPERLONG_LINE,YAHOO_MSGID_ADDED\n",
      "\tversion=2.50-cvs\n",
      "X-Spam-Level: \n",
      "\n",
      "--0-1051763016-1031874793=:3397\n",
      "Content-Type: text/plain; charset=us-ascii\n",
      "\n",
      "\n",
      "I am delurking to comment on the Salon article. I just wanted to say that I am grateful they choose not to publish my forbidden thought. I sent it in a couple of days before the 9/11 commeration. If I had just watched the sentimental network and cable shows on 9/11 my cynical thoughts would have remain unchanged. However, I watch the Frontline show \"Faith and Doubt at Ground Zero\" on PBS. That show tackled head on, with much more courage than I have seen elsewhere, the larger questions about good and evil, about art as an alternate religion (Karlheinz Stockhausen -- 9/11 was a great work of art), and especially the question about how religion has a darker side which when carried to fanatic extremes tends to negate the humanity of the non-believers.\n",
      "I am not a religious person but I stunned at the scope of this program. It talked about the Lutheran minister who spoke at Yankees Stadium on a podium with other religious leaders present who was charged with heresy by his own church for promoting the idea that all religions are equal (presumably the Lutherans have the one true path?).\n",
      "Thanks for listening, I just felt like I needed to put the word out about this program. My shallow comment on Salon and others like it (my boyfriend and I had sex while the towers collapsed) gives me pause about how some of us tend to harden ourselves to the suffering of others.\n",
      "Mike\n",
      " Chris Haun wrote:i though this was all rather interesting, first bit of 9/11 coverage that \n",
      "i've liked.\n",
      "\n",
      "http://www.salon.com/mwt/feature/2002/09/11/forbidden_letters/index.html\n",
      "\n",
      "Chris\n",
      "\n",
      "\n",
      "\n",
      "---------------------------------\n",
      "Do you Yahoo!?\n",
      "Yahoo! News - Today's headlines\n",
      "--0-1051763016-1031874793=:3397\n",
      "Content-Type: text/html; charset=us-ascii\n",
      "\n",
      "<P>I am delurking to comment on the Salon article. I just wanted to say that I am grateful they choose not to publish my forbidden thought. I sent it in a couple of days before the 9/11 commeration. If I had just watched the sentimental network and cable shows on 9/11 my cynical thoughts would have remain unchanged. However, I watch the Frontline show \"Faith and Doubt at Ground Zero\" on PBS. That show tackled head on, with much more courage than I have seen elsewhere, the larger questions about good and evil, about art as an alternate religion (Karlheinz Stockhausen -- 9/11 was a great work of art), and especially the question about how religion has a darker side which when carried to fanatic extremes tends to negate the humanity of the non-believers.\n",
      "<P>I am not a religious person but I stunned at the scope of this program. It talked about the Lutheran minister who spoke at Yankees Stadium on a podium with other religious leaders present who was charged with heresy by his own church for promoting the idea that all religions are equal (presumably the Lutherans have the one true path?).\n",
      "<P>Thanks for listening, I just felt like I needed to put the word out about this program. My shallow comment on Salon and others like it (my boyfriend and I had sex while the towers collapsed) gives me pause about how&nbsp;some&nbsp;of us&nbsp;tend to harden ourselves to the suffering of others.\n",
      "<P>Mike\n",
      "<P>&nbsp;<B><I>Chris Haun <CHRIS@NOSKILLZ.COM></I></B>wrote:\n",
      "<BLOCKQUOTE style=\"PADDING-LEFT: 5px; MARGIN-LEFT: 5px; BORDER-LEFT: #1010ff 2px solid\">i though this was all rather interesting, first bit of 9/11 coverage that <BR>i've liked.<BR><BR>http://www.salon.com/mwt/feature/2002/09/11/forbidden_letters/index.html<BR><BR>Chris<BR></BLOCKQUOTE><p><br><hr size=1>Do you Yahoo!?<br>\n",
      "<b><a href=\"http://news.yahoo.com/\">Yahoo! News</a></b> - Today's headlines\n",
      "--0-1051763016-1031874793=:3397--\n",
      "\n",
      "\n",
      "\n",
      "Content-Type: text/plain; charset=us-ascii\n",
      "\n",
      "\n",
      "I am delurking to comment on the Salon article. I just wanted to say that I am grateful they choose not to publish my forbidden thought. I sent it in a couple of days before the 9/11 commeration. If I had just watched the sentimental network and cable shows on 9/11 my cynical thoughts would have remain unchanged. However, I watch the Frontline show \"Faith and Doubt at Ground Zero\" on PBS. That show tackled head on, with much more courage than I have seen elsewhere, the larger questions about good and evil, about art as an alternate religion (Karlheinz Stockhausen -- 9/11 was a great work of art), and especially the question about how religion has a darker side which when carried to fanatic extremes tends to negate the humanity of the non-believers.\n",
      "I am not a religious person but I stunned at the scope of this program. It talked about the Lutheran minister who spoke at Yankees Stadium on a podium with other religious leaders present who was charged with heresy by his own church for promoting the idea that all religions are equal (presumably the Lutherans have the one true path?).\n",
      "Thanks for listening, I just felt like I needed to put the word out about this program. My shallow comment on Salon and others like it (my boyfriend and I had sex while the towers collapsed) gives me pause about how some of us tend to harden ourselves to the suffering of others.\n",
      "Mike\n",
      " Chris Haun wrote:i though this was all rather interesting, first bit of 9/11 coverage that \n",
      "i've liked.\n",
      "\n",
      "http://www.salon.com/mwt/feature/2002/09/11/forbidden_letters/index.html\n",
      "\n",
      "Chris\n",
      "\n",
      "\n",
      "\n",
      "---------------------------------\n",
      "Do you Yahoo!?\n",
      "Yahoo! News - Today's headlines\n",
      "Content-Type: text/html; charset=us-ascii\n",
      "\n",
      "<P>I am delurking to comment on the Salon article. I just wanted to say that I am grateful they choose not to publish my forbidden thought. I sent it in a couple of days before the 9/11 commeration. If I had just watched the sentimental network and cable shows on 9/11 my cynical thoughts would have remain unchanged. However, I watch the Frontline show \"Faith and Doubt at Ground Zero\" on PBS. That show tackled head on, with much more courage than I have seen elsewhere, the larger questions about good and evil, about art as an alternate religion (Karlheinz Stockhausen -- 9/11 was a great work of art), and especially the question about how religion has a darker side which when carried to fanatic extremes tends to negate the humanity of the non-believers.\n",
      "<P>I am not a religious person but I stunned at the scope of this program. It talked about the Lutheran minister who spoke at Yankees Stadium on a podium with other religious leaders present who was charged with heresy by his own church for promoting the idea that all religions are equal (presumably the Lutherans have the one true path?).\n",
      "<P>Thanks for listening, I just felt like I needed to put the word out about this program. My shallow comment on Salon and others like it (my boyfriend and I had sex while the towers collapsed) gives me pause about how&nbsp;some&nbsp;of us&nbsp;tend to harden ourselves to the suffering of others.\n",
      "<P>Mike\n",
      "<P>&nbsp;<B><I>Chris Haun <CHRIS@NOSKILLZ.COM></I></B>wrote:\n",
      "<BLOCKQUOTE style=\"PADDING-LEFT: 5px; MARGIN-LEFT: 5px; BORDER-LEFT: #1010ff 2px solid\">i though this was all rather interesting, first bit of 9/11 coverage that <BR>i've liked.<BR><BR>http://www.salon.com/mwt/feature/2002/09/11/forbidden_letters/index.html<BR><BR>Chris<BR></BLOCKQUOTE><p><br><hr size=1>Do you Yahoo!?<br>\n",
      "<b><a href=\"http://news.yahoo.com/\">Yahoo! News</a></b> - Today's headlines\n"
     ]
    }
   ],
   "source": [
    "\n",
    "for email in emailsNormais[634].walk():\n",
    "    print(email)"
   ],
   "metadata": {
    "collapsed": false,
    "pycharm": {
     "name": "#%%\n"
    }
   }
  },
  {
   "cell_type": "code",
   "execution_count": 119,
   "outputs": [
    {
     "data": {
      "text/plain": "\"def email_to_text(email):\\n    struct = get_email_structure(email)\\n    for part in email.walk():\\n        partContentType = part.get_content_type()\\n        if partContentType not in ['text/plain','text/html']:\\n            continue\\n        try:\\n            partContent = part.get_content()\\n        except: # in case of encoding issues\\n            partContent = str(part.get_payload())\\n        if partContentType == 'text/plain':\\n            return partContent\\n        else:\\n            return html_to_text(part)\""
     },
     "execution_count": 119,
     "metadata": {},
     "output_type": "execute_result"
    }
   ],
   "source": [
    "def html_to_text(email):\n",
    "    try:\n",
    "        soup = BeautifulSoup(email.get_content(), 'html.parser')\n",
    "        return soup.text.replace('\\n\\n', '')\n",
    "    except:\n",
    "        return \"empty\"\n",
    "\n",
    "\n",
    "def email_to_text(email):\n",
    "    for emailParts in email.walk():\n",
    "        if emailParts.get_content_type() not in ['text/plain', 'text/html']:\n",
    "            continue\n",
    "\n",
    "        try:\n",
    "            emailPartsContent = emailParts.get_content()\n",
    "        except:\n",
    "            emailPartsContent = str(emailParts.get_payload())\n",
    "\n",
    "        if emailParts.get_content_type() == 'text/plain':\n",
    "            return emailPartsContent\n",
    "        else:\n",
    "            return html_to_text(emailParts)\n",
    "\n",
    "\n",
    "'''def email_to_text(email):\n",
    "    struct = get_email_structure(email)\n",
    "    for part in email.walk():\n",
    "        partContentType = part.get_content_type()\n",
    "        if partContentType not in ['text/plain','text/html']:\n",
    "            continue\n",
    "        try:\n",
    "            partContent = part.get_content()\n",
    "        except: # in case of encoding issues\n",
    "            partContent = str(part.get_payload())\n",
    "        if partContentType == 'text/plain':\n",
    "            return partContent\n",
    "        else:\n",
    "            return html_to_text(part)'''\n"
   ],
   "metadata": {
    "collapsed": false,
    "pycharm": {
     "name": "#%%\n"
    }
   }
  },
  {
   "cell_type": "code",
   "execution_count": 120,
   "outputs": [
    {
     "data": {
      "text/plain": "'    Date:        Wed, 21 Aug 2002 10:54:46 -0500\\n    From:        Chris Garrigues <cwg-dated-1030377287.06fa6d@DeepEddy.Com>\\n    Message-ID:  <1029945287.4797.TMDA@deepeddy.vircio.com>\\n\\n\\n  | I can\\'t reproduce this error.\\n\\nFor me it is very repeatable... (like every time, without fail).\\n\\nThis is the debug log of the pick happening ...\\n\\n18:19:03 Pick_It {exec pick +inbox -list -lbrace -lbrace -subject ftp -rbrace -rbrace} {4852-4852 -sequence mercury}\\n18:19:03 exec pick +inbox -list -lbrace -lbrace -subject ftp -rbrace -rbrace 4852-4852 -sequence mercury\\n18:19:04 Ftoc_PickMsgs {{1 hit}}\\n18:19:04 Marking 1 hits\\n18:19:04 tkerror: syntax error in expression \"int ...\\n\\nNote, if I run the pick command by hand ...\\n\\ndelta$ pick +inbox -list -lbrace -lbrace -subject ftp -rbrace -rbrace  4852-4852 -sequence mercury\\n1 hit\\n\\nThat\\'s where the \"1 hit\" comes from (obviously).  The version of nmh I\\'m\\nusing is ...\\n\\ndelta$ pick -version\\npick -- nmh-1.0.4 [compiled on fuchsia.cs.mu.OZ.AU at Sun Mar 17 14:55:56 ICT 2002]\\n\\nAnd the relevant part of my .mh_profile ...\\n\\ndelta$ mhparam pick\\n-seq sel -list\\n\\n\\nSince the pick command works, the sequence (actually, both of them, the\\none that\\'s explicit on the command line, from the search popup, and the\\none that comes from .mh_profile) do get created.\\n\\nkre\\n\\nps: this is still using the version of the code form a day ago, I haven\\'t\\nbeen able to reach the cvs repository today (local routing issue I think).\\n\\n\\n\\n_______________________________________________\\nExmh-workers mailing list\\nExmh-workers@redhat.com\\nhttps://listman.redhat.com/mailman/listinfo/exmh-workers\\n\\n'"
     },
     "execution_count": 120,
     "metadata": {},
     "output_type": "execute_result"
    }
   ],
   "source": [
    "email_to_text(emailsNormais[0])"
   ],
   "metadata": {
    "collapsed": false,
    "pycharm": {
     "name": "#%%\n"
    }
   }
  },
  {
   "cell_type": "code",
   "execution_count": 121,
   "outputs": [],
   "source": [
    "def removePunctuation(text):\n",
    "    ponctuation = list(punctuation)\n",
    "\n",
    "    for i in ponctuation:\n",
    "        text = text.replace(i, \" \")\n",
    "\n",
    "    return text\n",
    "\n",
    "\n",
    "def wordsPreProcessing(email):\n",
    "    if email is None:\n",
    "        return 'empty'\n",
    "\n",
    "    newText = \"\"\n",
    "\n",
    "    stopWords = set(stopwords.words('english') + list(STOPWORDS))\n",
    "    lemmatizer = WordNetLemmatizer()\n",
    "    wordTokenize = RegexpTokenizer(r'\\w+')\n",
    "\n",
    "    for text in wordTokenize.tokenize(email.lower()):\n",
    "        text = removePunctuation(text)\n",
    "        if text not in stopWords and not text.isdigit():\n",
    "            newText += lemmatizer.lemmatize(text) + \" \"\n",
    "\n",
    "    return newText"
   ],
   "metadata": {
    "collapsed": false,
    "pycharm": {
     "name": "#%%\n"
    }
   }
  },
  {
   "cell_type": "code",
   "execution_count": 122,
   "outputs": [],
   "source": [
    "def bagOfWord(emails):\n",
    "    wordCount = {}\n",
    "\n",
    "    for email in emails:\n",
    "        for i in email.split():\n",
    "            if i not in wordCount.keys():\n",
    "                wordCount[i] = 1\n",
    "            else:\n",
    "                wordCount[i] += 1\n",
    "\n",
    "    return wordCount"
   ],
   "metadata": {
    "collapsed": false,
    "pycharm": {
     "name": "#%%\n"
    }
   }
  },
  {
   "cell_type": "markdown",
   "source": [],
   "metadata": {
    "collapsed": false
   }
  },
  {
   "cell_type": "code",
   "execution_count": 123,
   "outputs": [],
   "source": [
    "emailsText = []\n",
    "\n",
    "for email in emails:\n",
    "    emailsText.append(wordsPreProcessing\n",
    "                      (email_to_text(email)))\n",
    "\n",
    "#print(emailsText)"
   ],
   "metadata": {
    "collapsed": false,
    "pycharm": {
     "name": "#%%\n"
    }
   }
  },
  {
   "cell_type": "code",
   "execution_count": 124,
   "outputs": [
    {
     "name": "stdout",
     "output_type": "stream",
     "text": [
      "['http', 'com', 'list', 'www', 'net', 'time', 'use', 'rpm', 'message', 'people', 'email', 'like', 'user', 'mail', 'new', 'free', 'linux', 'mailing', 'spamassassin', 'listinfo', 'e', 'wrote', 'year', 'work', 'date', 'html', 'file', 'exmh', 'click', 'world', 'way', 'state', 'said', 'freshrpms', 'company', 'org', 'spam', 'think', 'url', 'want', 'c', 'group', 'right', 'money', 'need', 'mailman', 'r', 'information', 'know', 'business', 'problem', 'line', 'sourceforge', 'day', 'thing', 'service', 'perl', 'address', 'good', 'report', 'razor', 'change', 'home', 'talk', 'technology', 'order', 'internet', 'government', 'send', 'run', 'redhat', 'help', 'package', 'software', 'mv', 'data', 'web', 'network', 'best', 'subject', 'program', 'site', 'yahoo', 'link', 'look', 'fork', 'set', 'check', 'number', 'news', 'sep', 'sf', 'l', 'xml', 'old', 'phone', 'life', 'server', 'today', 'country']\n"
     ]
    }
   ],
   "source": [
    "wordCount = bagOfWord(emailsText)\n",
    "\n",
    "wordFrequency = heapq.nlargest(100, wordCount, wordCount.get)\n",
    "\n",
    "print(wordFrequency)"
   ],
   "metadata": {
    "collapsed": false,
    "pycharm": {
     "name": "#%%\n"
    }
   }
  },
  {
   "cell_type": "code",
   "execution_count": 125,
   "outputs": [
    {
     "name": "stdout",
     "output_type": "stream",
     "text": [
      "  (0, 493)\t0.031718768954327875\n",
      "  (0, 518)\t0.03663330405274946\n",
      "  (0, 494)\t0.05801063129132526\n",
      "  (0, 395)\t0.01796689342996931\n",
      "  (0, 722)\t0.10468005176723007\n",
      "  (0, 517)\t0.03233708567995432\n",
      "  (0, 981)\t0.1956457461897728\n",
      "  (0, 277)\t0.16604423420083977\n",
      "  (0, 890)\t0.040571993359197124\n",
      "  (0, 440)\t0.051807802468495305\n",
      "  (0, 501)\t0.05801063129132526\n",
      "  (0, 903)\t0.04824478004669521\n",
      "  (0, 185)\t0.06276009393202762\n",
      "  (0, 709)\t0.06699698589466922\n",
      "  (0, 2)\t0.05781013053758274\n",
      "  (0, 26)\t0.058949563949551025\n",
      "  (0, 193)\t0.04478636389281222\n",
      "  (0, 315)\t0.05187325232256284\n",
      "  (0, 142)\t0.050678418699149186\n",
      "  (0, 178)\t0.06925477896467115\n",
      "  (0, 770)\t0.063189332024574\n",
      "  (0, 489)\t0.044393098049241644\n",
      "  (0, 12)\t0.050498601762735525\n",
      "  (0, 979)\t0.03940521062434357\n",
      "  (0, 548)\t0.152611674453085\n",
      "  :\t:\n",
      "  (3051, 515)\t0.010097453200693135\n",
      "  (3051, 391)\t0.041971265196574556\n",
      "  (3051, 366)\t0.015303153068895143\n",
      "  (3051, 721)\t0.029674549883991392\n",
      "  (3051, 60)\t0.013432969709536027\n",
      "  (3051, 870)\t0.06713794500297317\n",
      "  (3051, 937)\t0.07038390212320322\n",
      "  (3051, 251)\t0.008737963158291314\n",
      "  (3051, 782)\t0.011862036288002606\n",
      "  (3051, 902)\t0.36183998890489927\n",
      "  (3051, 138)\t0.008926371335699233\n",
      "  (3051, 321)\t0.01936049699803123\n",
      "  (3051, 384)\t0.0672572617306598\n",
      "  (3051, 287)\t0.013700845416454001\n",
      "  (3051, 903)\t0.012120682616323625\n",
      "  (3051, 709)\t0.016831856244211896\n",
      "  (3051, 2)\t0.043571444013803313\n",
      "  (3051, 193)\t0.0450072568894332\n",
      "  (3051, 315)\t0.03909682417888806\n",
      "  (3051, 979)\t0.029699672230536114\n",
      "  (3051, 591)\t0.08968907640819912\n",
      "  (3051, 855)\t0.011104617223621013\n",
      "  (3051, 492)\t0.00697612790958349\n",
      "  (3051, 899)\t0.08950370343371003\n",
      "  (3051, 486)\t0.02548060151774106\n"
     ]
    }
   ],
   "source": [
    "tfidfVectorizer = TfidfVectorizer(analyzer=\"word\", max_features=1000)\n",
    "\n",
    "tfidfTransform = tfidfVectorizer.fit_transform(emailsText)\n",
    "\n",
    "print(tfidfTransform)"
   ],
   "metadata": {
    "collapsed": false,
    "pycharm": {
     "name": "#%%\n"
    }
   }
  },
  {
   "cell_type": "code",
   "execution_count": 126,
   "outputs": [
    {
     "data": {
      "text/plain": "array(['7gsolb', 'ability', 'able', 'absolutely', 'ac', 'accept',\n       'access', 'according', 'account', 'act', 'action', 'activity',\n       'actually', 'ad', 'adam', 'add', 'added', 'additional', 'address',\n       'admin', 'administration', 'advantage', 'advertising', 'age',\n       'agency', 'agent', 'ago', 'agree', 'aid', 'air', 'alb', 'allow',\n       'ally', 'alsa', 'alternative', 'america', 'american', 'answer',\n       'apparently', 'appear', 'application', 'approach', 'apt',\n       'archive', 'area', 'argument', 'article', 'ask', 'asked', 'asp',\n       'assistance', 'associate', 'assume', 'atoll', 'attack', 'attempt',\n       'au', 'aug', 'august', 'author', 'available', 'average', 'aware',\n       'away', 'backup', 'bad', 'bank', 'base', 'based', 'basic',\n       'beberg', 'begin', 'behalf', 'believe', 'benefit', 'best',\n       'better', 'big', 'billion', 'bin', 'bit', 'bitbitch', 'black',\n       'blog', 'body', 'boing', 'boingboing', 'bonus', 'book', 'boston',\n       'box', 'break', 'british', 'bug', 'build', 'building', 'built',\n       'bulk', 'bush', 'business', 'button', 'buy', 'ca', 'called',\n       'came', 'canada', 'capability', 'capital', 'car', 'card', 'care',\n       'case', 'cash', 'cat', 'cause', 'cc', 'cd', 'cell', 'center',\n       'century', 'certainly', 'cgi', 'chance', 'change', 'changed',\n       'charge', 'check', 'cheer', 'chief', 'child', 'china', 'choice',\n       'chris', 'city', 'claim', 'class', 'clean', 'clear', 'click',\n       'client', 'close', 'clue', 'code', 'com', 'come', 'coming',\n       'command', 'comment', 'commercial', 'commission', 'common',\n       'communication', 'community', 'company', 'complete', 'completely',\n       'computer', 'conference', 'configure', 'congress', 'connection',\n       'consumer', 'contact', 'contains', 'content', 'continue',\n       'contract', 'control', 'copy', 'copyright', 'corporation',\n       'corpus', 'cost', 'country', 'couple', 'course', 'court', 'create',\n       'created', 'credit', 'current', 'currently', 'custom', 'customer',\n       'cut', 'cv', 'daily', 'data', 'database', 'datapower', 'date',\n       'dave', 'david', 'day', 'dead', 'deal', 'dear', 'death', 'decided',\n       'decision', 'deepeddy', 'default', 'defense', 'delete',\n       'department', 'dependency', 'deserve', 'design', 'designed',\n       'detail', 'dev', 'devel', 'developed', 'developing', 'development',\n       'device', 'difference', 'different', 'difficult', 'digital',\n       'direct', 'directly', 'director', 'directory', 'discus', 'disk',\n       'display', 'distribution', 'doc', 'document', 'dollar', 'domain',\n       'download', 'dr', 'dream', 'drive', 'driver', 'drop', 'dvd',\n       'early', 'easily', 'easy', 'echo', 'economic', 'economy', 'edu',\n       'education', 'effect', 'effort', 'egroups', 'electronic', 'email',\n       'empire', 'en', 'end', 'enemy', 'enenkio', 'energy', 'engine',\n       'engineer', 'engineering', 'ensure', 'enterprise', 'entire',\n       'entrepreneur', 'error', 'especially', 'et', 'europe', 'european',\n       'eval', 'event', 'evidence', 'exactly', 'example', 'executive',\n       'exist', 'exmh', 'expect', 'experience', 'extra', 'face', 'fact',\n       'failed', 'fall', 'false', 'family', 'far', 'fast', 'fastest',\n       'father', 'fax', 'feature', 'federal', 'fee', 'feel', 'field',\n       'figure', 'file', 'finally', 'financial', 'finding', 'fine',\n       'firm', 'fix', 'fixed', 'folder', 'folk', 'follow', 'following',\n       'font', 'foot', 'force', 'foreign', 'fork', 'form', 'format',\n       'forteana', 'forward', 'forwarded', 'france', 'free', 'freedom',\n       'french', 'freshrpms', 'fri', 'friend', 'ftp', 'fully', 'fun',\n       'function', 'fund', 'future', 'game', 'gary', 'geege', 'geek',\n       'general', 'generation', 'george', 'get', 'getting', 'girl',\n       'give', 'given', 'global', 'go', 'goal', 'going', 'good', 'google',\n       'got', 'government', 'grant', 'great', 'greater', 'greg', 'group',\n       'growing', 'growth', 'guarantee', 'guaranteed', 'guess', 'guide',\n       'guido', 'guy', 'half', 'ham', 'hand', 'happen', 'happened',\n       'happy', 'hard', 'hardware', 'hat', 'head', 'header', 'health',\n       'heard', 'heaven', 'held', 'help', 'hettinga', 'hi', 'high',\n       'higher', 'history', 'hit', 'hold', 'home', 'hope', 'hour',\n       'house', 'htm', 'html', 'http', 'human', 'hundred', 'i386', 'ibuc',\n       'id', 'idea', 'ilug', 'im', 'image', 'immediately', 'important',\n       'include', 'included', 'includes', 'including', 'income',\n       'increase', 'independent', 'index', 'india', 'individual',\n       'industry', 'info', 'information', 'inphonic', 'insert', 'install',\n       'installed', 'instead', 'instruction', 'insurance', 'intelligence',\n       'interactive', 'interest', 'interested', 'interesting',\n       'international', 'internet', 'invest', 'investment', 'invoked',\n       'involved', 'irish', 'island', 'issue', 'jabber', 'james', 'java',\n       'jeremy', 'jm', 'job', 'john', 'join', 'journal', 'justin',\n       'kelly', 'kernel', 'key', 'kid', 'kind', 'king', 'kingdom', 'know',\n       'knowledge', 'known', 'la', 'language', 'laptop', 'large',\n       'largest', 'late', 'later', 'latest', 'law', 'lawrence', 'le',\n       'lead', 'leader', 'leading', 'learn', 'leave', 'led', 'left',\n       'legal', 'let', 'letter', 'level', 'lib', 'library', 'life',\n       'like', 'likely', 'limited', 'line', 'link', 'linux', 'list',\n       'listinfo', 'listman', 'listmaster', 'little', 'live', 'living',\n       'load', 'loan', 'local', 'log', 'long', 'longer', 'look', 'looked',\n       'looking', 'lose', 'lost', 'lot', 'love', 'low', 'machine',\n       'magnesium', 'mail', 'mailer', 'mailing', 'mailman', 'mailto',\n       'main', 'maintainer', 'major', 'make', 'making', 'male', 'man',\n       'management', 'manager', 'mark', 'market', 'marketing', 'marshall',\n       'mass', 'material', 'matter', 'matthias', 'maybe', 'mean',\n       'medium', 'meet', 'meeting', 'member', 'membership', 'memory',\n       'men', 'message', 'method', 'mh', 'michael', 'microsoft', 'middle',\n       'military', 'million', 'mime', 'mind', 'minute', 'mithral',\n       'mobile', 'mode', 'model', 'module', 'moment', 'mon', 'monday',\n       'money', 'month', 'movie', 'mr', 'msg', 'multiple', 'murphy',\n       'music', 'mv', 'mvfiaa', 'name', 'nation', 'national', 'necessary',\n       'need', 'needed', 'net', 'network', 'new', 'news', 'newsisfree',\n       'newsletter', 'nice', 'night', 'non', 'normal', 'note', 'notice',\n       'number', 'object', 'oct', 'october', 'offer', 'office',\n       'official', 'oh', 'ok', 'old', 'one', 'online', 'open',\n       'operation', 'opinion', 'opportunity', 'opt', 'option', 'order',\n       'org', 'organization', 'original', 'osdn', 'pacific', 'package',\n       'page', 'paid', 'panasas', 'paper', 'particular', 'partner',\n       'party', 'past', 'paste', 'patch', 'path', 'paul', 'pay', 'pc',\n       'people', 'performance', 'perl', 'person', 'personal', 'peter',\n       'pgp', 'phone', 'photo', 'php', 'pick', 'picture', 'pl', 'place',\n       'plan', 'platform', 'play', 'player', 'plus', 'pm', 'point',\n       'police', 'policy', 'political', 'poor', 'population', 'port',\n       'position', 'positive', 'possible', 'post', 'posted', 'potential',\n       'poverty', 'powell', 'power', 'practice', 'preference',\n       'president', 'press', 'pretty', 'price', 'print', 'private',\n       'probably', 'problem', 'procedure', 'process', 'processing',\n       'procmail', 'product', 'professional', 'program', 'programming',\n       'project', 'promise', 'property', 'protect', 'provide', 'provided',\n       'provides', 'public', 'pudge', 'purchase', 'purpose', 'py',\n       'python', 'quality', 'question', 'quick', 'quicktopic', 'quote',\n       'radio', 'rah', 'rate', 'razor', 'razor2', 'reach', 'read',\n       'reading', 'ready', 'real', 'reason', 'receive', 'received',\n       'receiving', 'recent', 'recently', 'record', 'red', 'redhat',\n       'refcode1', 'reference', 'regard', 'region', 'related',\n       'relationship', 'release', 'remember', 'removal', 'remove',\n       'removed', 'reply', 'report', 'reported', 'request', 'require',\n       'required', 'requires', 'research', 'reserved', 'resource',\n       'respect', 'response', 'rest', 'result', 'return', 'rh', 'right',\n       'risk', 'robert', 'room', 'root', 'rpm', 'rule', 'run', 'running',\n       'sa', 'said', 'sale', 'saou', 'save', 'say', 'saying', 'school',\n       'science', 'score', 'script', 'search', 'second', 'secret',\n       'section', 'secure', 'security', 'seed', 'seek', 'seen', 'select',\n       'self', 'sell', 'send', 'sender', 'sending', 'sense', 'sent',\n       'sep', 'september', 'sequence', 'server', 'service', 'set',\n       'setup', 'sex', 'sf', 'share', 'shipping', 'short', 'show', 'sid',\n       'sign', 'signature', 'similar', 'simple', 'simply', 'single',\n       'site', 'situation', 'size', 'skip', 'small', 'social', 'society',\n       'software', 'solution', 'soon', 'sort', 'sound', 'source',\n       'sourceforge', 'sourceforge1', 'south', 'space', 'spain', 'spam',\n       'spamassassin', 'spamd', 'spammer', 'spec', 'special', 'specific',\n       'speech', 'speed', 'sponsor', 'sponsored', 'src', 'standard',\n       'start', 'started', 'starting', 'state', 'statement', 'status',\n       'step', 'steve', 'stock', 'stop', 'storage', 'store', 'story',\n       'strategy', 'street', 'study', 'stuff', 'subject', 'subscribed',\n       'subscription', 'success', 'successful', 'suite', 'sum', 'sun',\n       'supplied', 'support', 'supposed', 'sure', 'system', 'tag', 'take',\n       'taken', 'taking', 'talk', 'talking', 'target', 'tax', 'team',\n       'technology', 'teledyn', 'tell', 'temperature', 'term',\n       'terrorism', 'terrorist', 'test', 'testing', 'text', 'thank',\n       'thanks', 'thing', 'think', 'thinkgeek', 'thinking', 'thought',\n       'thousand', 'threat', 'thu', 'tied', 'tim', 'time', 'tired',\n       'title', 'tm', 'today', 'told', 'tom', 'tony', 'took', 'tool',\n       'total', 'trade', 'trading', 'traffic', 'training', 'transaction',\n       'transfer', 'tried', 'trouble', 'true', 'trust', 'try', 'trying',\n       'tue', 'tuesday', 'turn', 'type', 'uk', 'understand', 'united',\n       'university', 'unix', 'unseen', 'unsubscribe', 'update', 'upgrade',\n       'url', 'usa', 'use', 'useful', 'user', 'userland', 'usr',\n       'usually', 'valuable', 'value', 'venrock', 'venture', 'version',\n       'video', 'view', 'vircio', 'virus', 'visit', 'vs3390', 'wait',\n       'waiting', 'want', 'wanted', 'war', 'warning', 'washington', 'way',\n       'weapon', 'web', 'website', 'wed', 'week', 'welcome', 'went',\n       'west', 'white', 'whitelist', 'wife', 'willing', 'window',\n       'wireless', 'wish', 'woman', 'word', 'work', 'worked', 'worker',\n       'working', 'world', 'worth', 'write', 'writes', 'writing',\n       'written', 'wrong', 'wrote', 'www', 'xent', 'ximian', 'xml',\n       'yahoo', 'year', 'yes', 'york', 'young'], dtype=object)"
     },
     "execution_count": 126,
     "metadata": {},
     "output_type": "execute_result"
    }
   ],
   "source": [
    "tfidfLabels = tfidfVectorizer.get_feature_names_out()\n",
    "tfidfLabels"
   ],
   "metadata": {
    "collapsed": false,
    "pycharm": {
     "name": "#%%\n"
    }
   }
  },
  {
   "cell_type": "code",
   "execution_count": 127,
   "outputs": [],
   "source": [
    "dfTfidfArray = pd.DataFrame(data=tfidfTransform.toarray(), index=emailsNome, columns=tfidfLabels)"
   ],
   "metadata": {
    "collapsed": false,
    "pycharm": {
     "name": "#%%\n"
    }
   }
  },
  {
   "cell_type": "code",
   "execution_count": 128,
   "outputs": [
    {
     "data": {
      "text/plain": "                                         7gsolb   ability      able  \\\n0001.ea7e79d3153e7469e7a9c3e0af6a357e  0.000000  0.000000  0.057810   \n0002.b3120c4bcbf3101e661161ee7efcb8bf  0.160172  0.000000  0.000000   \n0003.acfc5ad94bbd27118a0d8685d18c89dd  0.073458  0.000000  0.000000   \n0004.e8d5727378ddde5c3be181df593f1712  0.000000  0.000000  0.000000   \n0005.8c3b9e9c0f3f183ddaf7592a11b99957  0.000000  0.000000  0.000000   \n...                                         ...       ...       ...   \n0496.e995facc5d5bc6d3f3a8537d35e0432a  0.000000  0.059078  0.000000   \n0497.9307bd1fb5347f9fbf1f54ebe95b1d20  0.000000  0.000000  0.000000   \n0498.863566df8e5f17f979edca79d1e87187  0.000000  0.000000  0.000000   \n0499.4a17fbd7fe71705e09b4dd2e24d802dd  0.000000  0.000000  0.000000   \n0500.2e8762b67913d1b07bc8da293448d27f  0.000000  0.000000  0.043571   \n\n                                       absolutely   ac    accept  access  \\\n0001.ea7e79d3153e7469e7a9c3e0af6a357e    0.000000  0.0  0.000000     0.0   \n0002.b3120c4bcbf3101e661161ee7efcb8bf    0.000000  0.0  0.000000     0.0   \n0003.acfc5ad94bbd27118a0d8685d18c89dd    0.000000  0.0  0.000000     0.0   \n0004.e8d5727378ddde5c3be181df593f1712    0.000000  0.0  0.000000     0.0   \n0005.8c3b9e9c0f3f183ddaf7592a11b99957    0.000000  0.0  0.000000     0.0   \n...                                           ...  ...       ...     ...   \n0496.e995facc5d5bc6d3f3a8537d35e0432a    0.061095  0.0  0.000000     0.0   \n0497.9307bd1fb5347f9fbf1f54ebe95b1d20    0.000000  0.0  0.000000     0.0   \n0498.863566df8e5f17f979edca79d1e87187    0.000000  0.0  0.000000     0.0   \n0499.4a17fbd7fe71705e09b4dd2e24d802dd    0.000000  0.0  0.153773     0.0   \n0500.2e8762b67913d1b07bc8da293448d27f    0.116841  0.0  0.000000     0.0   \n\n                                       according  account  act  ...     wrote  \\\n0001.ea7e79d3153e7469e7a9c3e0af6a357e        0.0      0.0  0.0  ...  0.000000   \n0002.b3120c4bcbf3101e661161ee7efcb8bf        0.0      0.0  0.0  ...  0.000000   \n0003.acfc5ad94bbd27118a0d8685d18c89dd        0.0      0.0  0.0  ...  0.000000   \n0004.e8d5727378ddde5c3be181df593f1712        0.0      0.0  0.0  ...  0.000000   \n0005.8c3b9e9c0f3f183ddaf7592a11b99957        0.0      0.0  0.0  ...  0.057777   \n...                                          ...      ...  ...  ...       ...   \n0496.e995facc5d5bc6d3f3a8537d35e0432a        0.0      0.0  0.0  ...  0.000000   \n0497.9307bd1fb5347f9fbf1f54ebe95b1d20        0.0      0.0  0.0  ...  0.000000   \n0498.863566df8e5f17f979edca79d1e87187        0.0      0.0  0.0  ...  0.000000   \n0499.4a17fbd7fe71705e09b4dd2e24d802dd        0.0      0.0  0.0  ...  0.000000   \n0500.2e8762b67913d1b07bc8da293448d27f        0.0      0.0  0.0  ...  0.000000   \n\n                                            www  xent  ximian  xml     yahoo  \\\n0001.ea7e79d3153e7469e7a9c3e0af6a357e  0.000000   0.0     0.0  0.0  0.000000   \n0002.b3120c4bcbf3101e661161ee7efcb8bf  0.000000   0.0     0.0  0.0  0.555566   \n0003.acfc5ad94bbd27118a0d8685d18c89dd  0.000000   0.0     0.0  0.0  0.254792   \n0004.e8d5727378ddde5c3be181df593f1712  0.037889   0.0     0.0  0.0  0.000000   \n0005.8c3b9e9c0f3f183ddaf7592a11b99957  0.000000   0.0     0.0  0.0  0.000000   \n...                                         ...   ...     ...  ...       ...   \n0496.e995facc5d5bc6d3f3a8537d35e0432a  0.000000   0.0     0.0  0.0  0.000000   \n0497.9307bd1fb5347f9fbf1f54ebe95b1d20  0.033497   0.0     0.0  0.0  0.000000   \n0498.863566df8e5f17f979edca79d1e87187  0.066385   0.0     0.0  0.0  0.000000   \n0499.4a17fbd7fe71705e09b4dd2e24d802dd  0.000000   0.0     0.0  0.0  0.000000   \n0500.2e8762b67913d1b07bc8da293448d27f  0.000000   0.0     0.0  0.0  0.000000   \n\n                                           year  yes     york  young  \n0001.ea7e79d3153e7469e7a9c3e0af6a357e  0.000000  0.0  0.00000    0.0  \n0002.b3120c4bcbf3101e661161ee7efcb8bf  0.000000  0.0  0.00000    0.0  \n0003.acfc5ad94bbd27118a0d8685d18c89dd  0.000000  0.0  0.00000    0.0  \n0004.e8d5727378ddde5c3be181df593f1712  0.000000  0.0  0.00000    0.0  \n0005.8c3b9e9c0f3f183ddaf7592a11b99957  0.000000  0.0  0.00000    0.0  \n...                                         ...  ...      ...    ...  \n0496.e995facc5d5bc6d3f3a8537d35e0432a  0.078302  0.0  0.00000    0.0  \n0497.9307bd1fb5347f9fbf1f54ebe95b1d20  0.030349  0.0  0.04921    0.0  \n0498.863566df8e5f17f979edca79d1e87187  0.000000  0.0  0.00000    0.0  \n0499.4a17fbd7fe71705e09b4dd2e24d802dd  0.000000  0.0  0.00000    0.0  \n0500.2e8762b67913d1b07bc8da293448d27f  0.117658  0.0  0.00000    0.0  \n\n[3052 rows x 1000 columns]",
      "text/html": "<div>\n<style scoped>\n    .dataframe tbody tr th:only-of-type {\n        vertical-align: middle;\n    }\n\n    .dataframe tbody tr th {\n        vertical-align: top;\n    }\n\n    .dataframe thead th {\n        text-align: right;\n    }\n</style>\n<table border=\"1\" class=\"dataframe\">\n  <thead>\n    <tr style=\"text-align: right;\">\n      <th></th>\n      <th>7gsolb</th>\n      <th>ability</th>\n      <th>able</th>\n      <th>absolutely</th>\n      <th>ac</th>\n      <th>accept</th>\n      <th>access</th>\n      <th>according</th>\n      <th>account</th>\n      <th>act</th>\n      <th>...</th>\n      <th>wrote</th>\n      <th>www</th>\n      <th>xent</th>\n      <th>ximian</th>\n      <th>xml</th>\n      <th>yahoo</th>\n      <th>year</th>\n      <th>yes</th>\n      <th>york</th>\n      <th>young</th>\n    </tr>\n  </thead>\n  <tbody>\n    <tr>\n      <th>0001.ea7e79d3153e7469e7a9c3e0af6a357e</th>\n      <td>0.000000</td>\n      <td>0.000000</td>\n      <td>0.057810</td>\n      <td>0.000000</td>\n      <td>0.0</td>\n      <td>0.000000</td>\n      <td>0.0</td>\n      <td>0.0</td>\n      <td>0.0</td>\n      <td>0.0</td>\n      <td>...</td>\n      <td>0.000000</td>\n      <td>0.000000</td>\n      <td>0.0</td>\n      <td>0.0</td>\n      <td>0.0</td>\n      <td>0.000000</td>\n      <td>0.000000</td>\n      <td>0.0</td>\n      <td>0.00000</td>\n      <td>0.0</td>\n    </tr>\n    <tr>\n      <th>0002.b3120c4bcbf3101e661161ee7efcb8bf</th>\n      <td>0.160172</td>\n      <td>0.000000</td>\n      <td>0.000000</td>\n      <td>0.000000</td>\n      <td>0.0</td>\n      <td>0.000000</td>\n      <td>0.0</td>\n      <td>0.0</td>\n      <td>0.0</td>\n      <td>0.0</td>\n      <td>...</td>\n      <td>0.000000</td>\n      <td>0.000000</td>\n      <td>0.0</td>\n      <td>0.0</td>\n      <td>0.0</td>\n      <td>0.555566</td>\n      <td>0.000000</td>\n      <td>0.0</td>\n      <td>0.00000</td>\n      <td>0.0</td>\n    </tr>\n    <tr>\n      <th>0003.acfc5ad94bbd27118a0d8685d18c89dd</th>\n      <td>0.073458</td>\n      <td>0.000000</td>\n      <td>0.000000</td>\n      <td>0.000000</td>\n      <td>0.0</td>\n      <td>0.000000</td>\n      <td>0.0</td>\n      <td>0.0</td>\n      <td>0.0</td>\n      <td>0.0</td>\n      <td>...</td>\n      <td>0.000000</td>\n      <td>0.000000</td>\n      <td>0.0</td>\n      <td>0.0</td>\n      <td>0.0</td>\n      <td>0.254792</td>\n      <td>0.000000</td>\n      <td>0.0</td>\n      <td>0.00000</td>\n      <td>0.0</td>\n    </tr>\n    <tr>\n      <th>0004.e8d5727378ddde5c3be181df593f1712</th>\n      <td>0.000000</td>\n      <td>0.000000</td>\n      <td>0.000000</td>\n      <td>0.000000</td>\n      <td>0.0</td>\n      <td>0.000000</td>\n      <td>0.0</td>\n      <td>0.0</td>\n      <td>0.0</td>\n      <td>0.0</td>\n      <td>...</td>\n      <td>0.000000</td>\n      <td>0.037889</td>\n      <td>0.0</td>\n      <td>0.0</td>\n      <td>0.0</td>\n      <td>0.000000</td>\n      <td>0.000000</td>\n      <td>0.0</td>\n      <td>0.00000</td>\n      <td>0.0</td>\n    </tr>\n    <tr>\n      <th>0005.8c3b9e9c0f3f183ddaf7592a11b99957</th>\n      <td>0.000000</td>\n      <td>0.000000</td>\n      <td>0.000000</td>\n      <td>0.000000</td>\n      <td>0.0</td>\n      <td>0.000000</td>\n      <td>0.0</td>\n      <td>0.0</td>\n      <td>0.0</td>\n      <td>0.0</td>\n      <td>...</td>\n      <td>0.057777</td>\n      <td>0.000000</td>\n      <td>0.0</td>\n      <td>0.0</td>\n      <td>0.0</td>\n      <td>0.000000</td>\n      <td>0.000000</td>\n      <td>0.0</td>\n      <td>0.00000</td>\n      <td>0.0</td>\n    </tr>\n    <tr>\n      <th>...</th>\n      <td>...</td>\n      <td>...</td>\n      <td>...</td>\n      <td>...</td>\n      <td>...</td>\n      <td>...</td>\n      <td>...</td>\n      <td>...</td>\n      <td>...</td>\n      <td>...</td>\n      <td>...</td>\n      <td>...</td>\n      <td>...</td>\n      <td>...</td>\n      <td>...</td>\n      <td>...</td>\n      <td>...</td>\n      <td>...</td>\n      <td>...</td>\n      <td>...</td>\n      <td>...</td>\n    </tr>\n    <tr>\n      <th>0496.e995facc5d5bc6d3f3a8537d35e0432a</th>\n      <td>0.000000</td>\n      <td>0.059078</td>\n      <td>0.000000</td>\n      <td>0.061095</td>\n      <td>0.0</td>\n      <td>0.000000</td>\n      <td>0.0</td>\n      <td>0.0</td>\n      <td>0.0</td>\n      <td>0.0</td>\n      <td>...</td>\n      <td>0.000000</td>\n      <td>0.000000</td>\n      <td>0.0</td>\n      <td>0.0</td>\n      <td>0.0</td>\n      <td>0.000000</td>\n      <td>0.078302</td>\n      <td>0.0</td>\n      <td>0.00000</td>\n      <td>0.0</td>\n    </tr>\n    <tr>\n      <th>0497.9307bd1fb5347f9fbf1f54ebe95b1d20</th>\n      <td>0.000000</td>\n      <td>0.000000</td>\n      <td>0.000000</td>\n      <td>0.000000</td>\n      <td>0.0</td>\n      <td>0.000000</td>\n      <td>0.0</td>\n      <td>0.0</td>\n      <td>0.0</td>\n      <td>0.0</td>\n      <td>...</td>\n      <td>0.000000</td>\n      <td>0.033497</td>\n      <td>0.0</td>\n      <td>0.0</td>\n      <td>0.0</td>\n      <td>0.000000</td>\n      <td>0.030349</td>\n      <td>0.0</td>\n      <td>0.04921</td>\n      <td>0.0</td>\n    </tr>\n    <tr>\n      <th>0498.863566df8e5f17f979edca79d1e87187</th>\n      <td>0.000000</td>\n      <td>0.000000</td>\n      <td>0.000000</td>\n      <td>0.000000</td>\n      <td>0.0</td>\n      <td>0.000000</td>\n      <td>0.0</td>\n      <td>0.0</td>\n      <td>0.0</td>\n      <td>0.0</td>\n      <td>...</td>\n      <td>0.000000</td>\n      <td>0.066385</td>\n      <td>0.0</td>\n      <td>0.0</td>\n      <td>0.0</td>\n      <td>0.000000</td>\n      <td>0.000000</td>\n      <td>0.0</td>\n      <td>0.00000</td>\n      <td>0.0</td>\n    </tr>\n    <tr>\n      <th>0499.4a17fbd7fe71705e09b4dd2e24d802dd</th>\n      <td>0.000000</td>\n      <td>0.000000</td>\n      <td>0.000000</td>\n      <td>0.000000</td>\n      <td>0.0</td>\n      <td>0.153773</td>\n      <td>0.0</td>\n      <td>0.0</td>\n      <td>0.0</td>\n      <td>0.0</td>\n      <td>...</td>\n      <td>0.000000</td>\n      <td>0.000000</td>\n      <td>0.0</td>\n      <td>0.0</td>\n      <td>0.0</td>\n      <td>0.000000</td>\n      <td>0.000000</td>\n      <td>0.0</td>\n      <td>0.00000</td>\n      <td>0.0</td>\n    </tr>\n    <tr>\n      <th>0500.2e8762b67913d1b07bc8da293448d27f</th>\n      <td>0.000000</td>\n      <td>0.000000</td>\n      <td>0.043571</td>\n      <td>0.116841</td>\n      <td>0.0</td>\n      <td>0.000000</td>\n      <td>0.0</td>\n      <td>0.0</td>\n      <td>0.0</td>\n      <td>0.0</td>\n      <td>...</td>\n      <td>0.000000</td>\n      <td>0.000000</td>\n      <td>0.0</td>\n      <td>0.0</td>\n      <td>0.0</td>\n      <td>0.000000</td>\n      <td>0.117658</td>\n      <td>0.0</td>\n      <td>0.00000</td>\n      <td>0.0</td>\n    </tr>\n  </tbody>\n</table>\n<p>3052 rows × 1000 columns</p>\n</div>"
     },
     "execution_count": 128,
     "metadata": {},
     "output_type": "execute_result"
    }
   ],
   "source": [
    "dfTfidfArray"
   ],
   "metadata": {
    "collapsed": false,
    "pycharm": {
     "name": "#%%\n"
    }
   }
  },
  {
   "cell_type": "code",
   "execution_count": 129,
   "outputs": [
    {
     "name": "stdout",
     "output_type": "stream",
     "text": [
      "3052\n",
      "[0, 0, 0, 0, 0, 0, 0, 0, 0, 0, 0, 0, 0, 0, 0, 0, 0, 0, 0, 0, 0, 0, 0, 0, 0, 0, 0, 0, 0, 0, 0, 0, 0, 0, 0, 0, 0, 0, 0, 0, 0, 0, 0, 0, 0, 0, 0, 0, 0, 0, 0, 0, 0, 0, 0, 0, 0, 0, 0, 0, 0, 0, 0, 0, 0, 0, 0, 0, 0, 0, 0, 0, 0, 0, 0, 0, 0, 0, 0, 0, 0, 0, 0, 0, 0, 0, 0, 0, 0, 0, 0, 0, 0, 0, 0, 0, 0, 0, 0, 0, 0, 0, 0, 0, 0, 0, 0, 0, 0, 0, 0, 0, 0, 0, 0, 0, 0, 0, 0, 0, 0, 0, 0, 0, 0, 0, 0, 0, 0, 0, 0, 0, 0, 0, 0, 0, 0, 0, 0, 0, 0, 0, 0, 0, 0, 0, 0, 0, 0, 0, 0, 0, 0, 0, 0, 0, 0, 0, 0, 0, 0, 0, 0, 0, 0, 0, 0, 0, 0, 0, 0, 0, 0, 0, 0, 0, 0, 0, 0, 0, 0, 0, 0, 0, 0, 0, 0, 0, 0, 0, 0, 0, 0, 0, 0, 0, 0, 0, 0, 0, 0, 0, 0, 0, 0, 0, 0, 0, 0, 0, 0, 0, 0, 0, 0, 0, 0, 0, 0, 0, 0, 0, 0, 0, 0, 0, 0, 0, 0, 0, 0, 0, 0, 0, 0, 0, 0, 0, 0, 0, 0, 0, 0, 0, 0, 0, 0, 0, 0, 0, 0, 0, 0, 0, 0, 0, 0, 0, 0, 0, 0, 0, 0, 0, 0, 0, 0, 0, 0, 0, 0, 0, 0, 0, 0, 0, 0, 0, 0, 0, 0, 0, 0, 0, 0, 0, 0, 0, 0, 0, 0, 0, 0, 0, 0, 0, 0, 0, 0, 0, 0, 0, 0, 0, 0, 0, 0, 0, 0, 0, 0, 0, 0, 0, 0, 0, 0, 0, 0, 0, 0, 0, 0, 0, 0, 0, 0, 0, 0, 0, 0, 0, 0, 0, 0, 0, 0, 0, 0, 0, 0, 0, 0, 0, 0, 0, 0, 0, 0, 0, 0, 0, 0, 0, 0, 0, 0, 0, 0, 0, 0, 0, 0, 0, 0, 0, 0, 0, 0, 0, 0, 0, 0, 0, 0, 0, 0, 0, 0, 0, 0, 0, 0, 0, 0, 0, 0, 0, 0, 0, 0, 0, 0, 0, 0, 0, 0, 0, 0, 0, 0, 0, 0, 0, 0, 0, 0, 0, 0, 0, 0, 0, 0, 0, 0, 0, 0, 0, 0, 0, 0, 0, 0, 0, 0, 0, 0, 0, 0, 0, 0, 0, 0, 0, 0, 0, 0, 0, 0, 0, 0, 0, 0, 0, 0, 0, 0, 0, 0, 0, 0, 0, 0, 0, 0, 0, 0, 0, 0, 0, 0, 0, 0, 0, 0, 0, 0, 0, 0, 0, 0, 0, 0, 0, 0, 0, 0, 0, 0, 0, 0, 0, 0, 0, 0, 0, 0, 0, 0, 0, 0, 0, 0, 0, 0, 0, 0, 0, 0, 0, 0, 0, 0, 0, 0, 0, 0, 0, 0, 0, 0, 0, 0, 0, 0, 0, 0, 0, 0, 0, 0, 0, 0, 0, 0, 0, 0, 0, 0, 0, 0, 0, 0, 0, 0, 0, 0, 0, 0, 0, 0, 0, 0, 0, 0, 0, 0, 0, 0, 0, 0, 0, 0, 0, 0, 0, 0, 0, 0, 0, 0, 0, 0, 0, 0, 0, 0, 0, 0, 0, 0, 0, 0, 0, 0, 0, 0, 0, 0, 0, 0, 0, 0, 0, 0, 0, 0, 0, 0, 0, 0, 0, 0, 0, 0, 0, 0, 0, 0, 0, 0, 0, 0, 0, 0, 0, 0, 0, 0, 0, 0, 0, 0, 0, 0, 0, 0, 0, 0, 0, 0, 0, 0, 0, 0, 0, 0, 0, 0, 0, 0, 0, 0, 0, 0, 0, 0, 0, 0, 0, 0, 0, 0, 0, 0, 0, 0, 0, 0, 0, 0, 0, 0, 0, 0, 0, 0, 0, 0, 0, 0, 0, 0, 0, 0, 0, 0, 0, 0, 0, 0, 0, 0, 0, 0, 0, 0, 0, 0, 0, 0, 0, 0, 0, 0, 0, 0, 0, 0, 0, 0, 0, 0, 0, 0, 0, 0, 0, 0, 0, 0, 0, 0, 0, 0, 0, 0, 0, 0, 0, 0, 0, 0, 0, 0, 0, 0, 0, 0, 0, 0, 0, 0, 0, 0, 0, 0, 0, 0, 0, 0, 0, 0, 0, 0, 0, 0, 0, 0, 0, 0, 0, 0, 0, 0, 0, 0, 0, 0, 0, 0, 0, 0, 0, 0, 0, 0, 0, 0, 0, 0, 0, 0, 0, 0, 0, 0, 0, 0, 0, 0, 0, 0, 0, 0, 0, 0, 0, 0, 0, 0, 0, 0, 0, 0, 0, 0, 0, 0, 0, 0, 0, 0, 0, 0, 0, 0, 0, 0, 0, 0, 0, 0, 0, 0, 0, 0, 0, 0, 0, 0, 0, 0, 0, 0, 0, 0, 0, 0, 0, 0, 0, 0, 0, 0, 0, 0, 0, 0, 0, 0, 0, 0, 0, 0, 0, 0, 0, 0, 0, 0, 0, 0, 0, 0, 0, 0, 0, 0, 0, 0, 0, 0, 0, 0, 0, 0, 0, 0, 0, 0, 0, 0, 0, 0, 0, 0, 0, 0, 0, 0, 0, 0, 0, 0, 0, 0, 0, 0, 0, 0, 0, 0, 0, 0, 0, 0, 0, 0, 0, 0, 0, 0, 0, 0, 0, 0, 0, 0, 0, 0, 0, 0, 0, 0, 0, 0, 0, 0, 0, 0, 0, 0, 0, 0, 0, 0, 0, 0, 0, 0, 0, 0, 0, 0, 0, 0, 0, 0, 0, 0, 0, 0, 0, 0, 0, 0, 0, 0, 0, 0, 0, 0, 0, 0, 0, 0, 0, 0, 0, 0, 0, 0, 0, 0, 0, 0, 0, 0, 0, 0, 0, 0, 0, 0, 0, 0, 0, 0, 0, 0, 0, 0, 0, 0, 0, 0, 0, 0, 0, 0, 0, 0, 0, 0, 0, 0, 0, 0, 0, 0, 0, 0, 0, 0, 0, 0, 0, 0, 0, 0, 0, 0, 0, 0, 0, 0, 0, 0, 0, 0, 0, 0, 0, 0, 0, 0, 0, 0, 0, 0, 0, 0, 0, 0, 0, 0, 0, 0, 0, 0, 0, 0, 0, 0, 0, 0, 0, 0, 0, 0, 0, 0, 0, 0, 0, 0, 0, 0, 0, 0, 0, 0, 0, 0, 0, 0, 0, 0, 0, 0, 0, 0, 0, 0, 0, 0, 0, 0, 0, 0, 0, 0, 0, 0, 0, 0, 0, 0, 0, 0, 0, 0, 0, 0, 0, 0, 0, 0, 0, 0, 0, 0, 0, 0, 0, 0, 0, 0, 0, 0, 0, 0, 0, 0, 0, 0, 0, 0, 0, 0, 0, 0, 0, 0, 0, 0, 0, 0, 0, 0, 0, 0, 0, 0, 0, 0, 0, 0, 0, 0, 0, 0, 0, 0, 0, 0, 0, 0, 0, 0, 0, 0, 0, 0, 0, 0, 0, 0, 0, 0, 0, 0, 0, 0, 0, 0, 0, 0, 0, 0, 0, 0, 0, 0, 0, 0, 0, 0, 0, 0, 0, 0, 0, 0, 0, 0, 0, 0, 0, 0, 0, 0, 0, 0, 0, 0, 0, 0, 0, 0, 0, 0, 0, 0, 0, 0, 0, 0, 0, 0, 0, 0, 0, 0, 0, 0, 0, 0, 0, 0, 0, 0, 0, 0, 0, 0, 0, 0, 0, 0, 0, 0, 0, 0, 0, 0, 0, 0, 0, 0, 0, 0, 0, 0, 0, 0, 0, 0, 0, 0, 0, 0, 0, 0, 0, 0, 0, 0, 0, 0, 0, 0, 0, 0, 0, 0, 0, 0, 0, 0, 0, 0, 0, 0, 0, 0, 0, 0, 0, 0, 0, 0, 0, 0, 0, 0, 0, 0, 0, 0, 0, 0, 0, 0, 0, 0, 0, 0, 0, 0, 0, 0, 0, 0, 0, 0, 0, 0, 0, 0, 0, 0, 0, 0, 0, 0, 0, 0, 0, 0, 0, 0, 0, 0, 0, 0, 0, 0, 0, 0, 0, 0, 0, 0, 0, 0, 0, 0, 0, 0, 0, 0, 0, 0, 0, 0, 0, 0, 0, 0, 0, 0, 0, 0, 0, 0, 0, 0, 0, 0, 0, 0, 0, 0, 0, 0, 0, 0, 0, 0, 0, 0, 0, 0, 0, 0, 0, 0, 0, 0, 0, 0, 0, 0, 0, 0, 0, 0, 0, 0, 0, 0, 0, 0, 0, 0, 0, 0, 0, 0, 0, 0, 0, 0, 0, 0, 0, 0, 0, 0, 0, 0, 0, 0, 0, 0, 0, 0, 0, 0, 0, 0, 0, 0, 0, 0, 0, 0, 0, 0, 0, 0, 0, 0, 0, 0, 0, 0, 0, 0, 0, 0, 0, 0, 0, 0, 0, 0, 0, 0, 0, 0, 0, 0, 0, 0, 0, 0, 0, 0, 0, 0, 0, 0, 0, 0, 0, 0, 0, 0, 0, 0, 0, 0, 0, 0, 0, 0, 0, 0, 0, 0, 0, 0, 0, 0, 0, 0, 0, 0, 0, 0, 0, 0, 0, 0, 0, 0, 0, 0, 0, 0, 0, 0, 0, 0, 0, 0, 0, 0, 0, 0, 0, 0, 0, 0, 0, 0, 0, 0, 0, 0, 0, 0, 0, 0, 0, 0, 0, 0, 0, 0, 0, 0, 0, 0, 0, 0, 0, 0, 0, 0, 0, 0, 0, 0, 0, 0, 0, 0, 0, 0, 0, 0, 0, 0, 0, 0, 0, 0, 0, 0, 0, 0, 0, 0, 0, 0, 0, 0, 0, 0, 0, 0, 0, 0, 0, 0, 0, 0, 0, 0, 0, 0, 0, 0, 0, 0, 0, 0, 0, 0, 0, 0, 0, 0, 0, 0, 0, 0, 0, 0, 0, 0, 0, 0, 0, 0, 0, 0, 0, 0, 0, 0, 0, 0, 0, 0, 0, 0, 0, 0, 0, 0, 0, 0, 0, 0, 0, 0, 0, 0, 0, 0, 0, 0, 0, 0, 0, 0, 0, 0, 0, 0, 0, 0, 0, 0, 0, 0, 0, 0, 0, 0, 0, 0, 0, 0, 0, 0, 0, 0, 0, 0, 0, 0, 0, 0, 0, 0, 0, 0, 0, 0, 0, 0, 0, 0, 0, 0, 0, 0, 0, 0, 0, 0, 0, 0, 0, 0, 0, 0, 0, 0, 0, 0, 0, 0, 0, 0, 0, 0, 0, 0, 0, 0, 0, 0, 0, 0, 0, 0, 0, 0, 0, 0, 0, 0, 0, 0, 0, 0, 0, 0, 0, 0, 0, 0, 0, 0, 0, 0, 0, 0, 0, 0, 0, 0, 0, 0, 0, 0, 0, 0, 0, 0, 0, 0, 0, 0, 0, 0, 0, 0, 0, 0, 0, 0, 0, 0, 0, 0, 0, 0, 0, 0, 0, 0, 0, 0, 0, 0, 0, 0, 0, 0, 0, 0, 0, 0, 0, 0, 0, 0, 0, 0, 0, 0, 0, 0, 0, 0, 0, 0, 0, 0, 0, 0, 0, 0, 0, 0, 0, 0, 0, 0, 0, 0, 0, 0, 0, 0, 0, 0, 0, 0, 0, 0, 0, 0, 0, 0, 0, 0, 0, 0, 0, 0, 0, 0, 0, 0, 0, 0, 0, 0, 0, 0, 0, 0, 0, 0, 0, 0, 0, 0, 0, 0, 0, 0, 0, 0, 0, 0, 0, 0, 0, 0, 0, 0, 0, 0, 0, 0, 0, 0, 0, 0, 0, 0, 0, 0, 0, 0, 0, 0, 0, 0, 0, 0, 0, 0, 0, 0, 0, 0, 0, 0, 0, 0, 0, 0, 0, 0, 0, 0, 0, 0, 0, 0, 0, 0, 0, 0, 0, 0, 0, 0, 0, 0, 0, 0, 0, 0, 0, 0, 0, 0, 0, 0, 0, 0, 0, 0, 0, 0, 0, 0, 0, 0, 0, 0, 0, 0, 0, 0, 0, 0, 0, 0, 0, 0, 0, 0, 0, 0, 0, 0, 0, 0, 0, 0, 0, 0, 0, 0, 0, 0, 0, 0, 0, 0, 0, 0, 0, 0, 0, 0, 0, 0, 0, 0, 0, 0, 0, 0, 0, 0, 0, 0, 0, 0, 0, 0, 0, 0, 0, 0, 0, 0, 0, 0, 0, 0, 0, 0, 0, 0, 0, 0, 0, 0, 0, 0, 0, 0, 0, 0, 0, 0, 0, 0, 0, 0, 0, 0, 0, 0, 0, 0, 0, 0, 0, 0, 0, 0, 0, 0, 0, 0, 0, 0, 0, 0, 0, 0, 0, 0, 0, 0, 0, 0, 0, 0, 0, 0, 0, 0, 0, 0, 0, 0, 0, 0, 0, 0, 0, 0, 0, 0, 0, 0, 0, 0, 0, 0, 0, 0, 0, 0, 0, 0, 0, 0, 0, 0, 0, 0, 0, 0, 0, 0, 0, 0, 0, 0, 0, 0, 0, 0, 0, 0, 0, 0, 0, 0, 0, 0, 0, 0, 0, 0, 0, 0, 0, 0, 0, 0, 0, 0, 0, 0, 0, 0, 0, 0, 0, 0, 0, 0, 0, 0, 0, 0, 0, 0, 0, 0, 0, 0, 0, 0, 0, 0, 0, 0, 0, 0, 0, 0, 0, 0, 0, 0, 0, 0, 0, 0, 0, 0, 0, 0, 0, 0, 0, 0, 0, 0, 0, 0, 0, 0, 0, 0, 0, 0, 0, 0, 0, 0, 0, 0, 0, 0, 0, 0, 0, 0, 0, 0, 0, 0, 0, 0, 0, 0, 0, 0, 0, 0, 0, 0, 0, 0, 0, 0, 0, 0, 0, 0, 0, 0, 0, 0, 0, 0, 0, 0, 0, 0, 0, 0, 0, 0, 0, 0, 0, 0, 0, 0, 0, 0, 0, 0, 0, 0, 0, 0, 0, 0, 0, 0, 0, 0, 0, 0, 0, 0, 0, 0, 0, 0, 0, 0, 0, 0, 0, 0, 0, 0, 0, 0, 0, 0, 0, 0, 0, 0, 0, 0, 0, 0, 0, 0, 0, 0, 0, 0, 0, 0, 0, 0, 0, 0, 0, 0, 0, 0, 0, 0, 0, 0, 0, 0, 0, 0, 0, 0, 0, 0, 0, 0, 0, 0, 0, 0, 0, 0, 0, 0, 0, 0, 0, 0, 0, 0, 0, 0, 0, 0, 0, 0, 0, 0, 0, 0, 0, 0, 0, 0, 0, 0, 0, 0, 0, 0, 0, 0, 0, 0, 0, 0, 0, 0, 0, 0, 0, 0, 0, 0, 0, 0, 0, 0, 0, 0, 0, 0, 0, 0, 0, 0, 0, 0, 0, 0, 0, 0, 0, 0, 0, 0, 0, 0, 0, 0, 0, 0, 0, 0, 0, 0, 0, 0, 0, 0, 0, 0, 0, 0, 0, 0, 0, 0, 0, 0, 0, 0, 0, 0, 0, 0, 0, 0, 0, 0, 0, 0, 0, 0, 0, 0, 0, 0, 0, 0, 0, 0, 0, 0, 0, 0, 0, 0, 0, 0, 0, 0, 0, 0, 0, 0, 0, 0, 0, 0, 0, 0, 0, 0, 0, 0, 0, 0, 0, 0, 0, 0, 0, 0, 0, 0, 0, 0, 0, 0, 0, 0, 0, 0, 0, 0, 0, 0, 0, 0, 0, 0, 0, 0, 0, 0, 0, 0, 0, 0, 0, 0, 0, 0, 0, 0, 0, 0, 0, 0, 0, 0, 0, 0, 0, 0, 0, 0, 0, 0, 0, 0, 0, 0, 0, 0, 0, 0, 0, 0, 0, 0, 0, 0, 0, 0, 0, 0, 0, 0, 0, 0, 0, 0, 0, 0, 0, 0, 0, 0, 0, 0, 0, 0, 0, 0, 0, 0, 0, 0, 0, 0, 0, 0, 0, 0, 0, 0, 0, 0, 0, 0, 0, 0, 0, 0, 0, 0, 0, 0, 0, 0, 0, 0, 0, 0, 0, 0, 0, 0, 0, 0, 0, 0, 1, 1, 1, 1, 1, 1, 1, 1, 1, 1, 1, 1, 1, 1, 1, 1, 1, 1, 1, 1, 1, 1, 1, 1, 1, 1, 1, 1, 1, 1, 1, 1, 1, 1, 1, 1, 1, 1, 1, 1, 1, 1, 1, 1, 1, 1, 1, 1, 1, 1, 1, 1, 1, 1, 1, 1, 1, 1, 1, 1, 1, 1, 1, 1, 1, 1, 1, 1, 1, 1, 1, 1, 1, 1, 1, 1, 1, 1, 1, 1, 1, 1, 1, 1, 1, 1, 1, 1, 1, 1, 1, 1, 1, 1, 1, 1, 1, 1, 1, 1, 1, 1, 1, 1, 1, 1, 1, 1, 1, 1, 1, 1, 1, 1, 1, 1, 1, 1, 1, 1, 1, 1, 1, 1, 1, 1, 1, 1, 1, 1, 1, 1, 1, 1, 1, 1, 1, 1, 1, 1, 1, 1, 1, 1, 1, 1, 1, 1, 1, 1, 1, 1, 1, 1, 1, 1, 1, 1, 1, 1, 1, 1, 1, 1, 1, 1, 1, 1, 1, 1, 1, 1, 1, 1, 1, 1, 1, 1, 1, 1, 1, 1, 1, 1, 1, 1, 1, 1, 1, 1, 1, 1, 1, 1, 1, 1, 1, 1, 1, 1, 1, 1, 1, 1, 1, 1, 1, 1, 1, 1, 1, 1, 1, 1, 1, 1, 1, 1, 1, 1, 1, 1, 1, 1, 1, 1, 1, 1, 1, 1, 1, 1, 1, 1, 1, 1, 1, 1, 1, 1, 1, 1, 1, 1, 1, 1, 1, 1, 1, 1, 1, 1, 1, 1, 1, 1, 1, 1, 1, 1, 1, 1, 1, 1, 1, 1, 1, 1, 1, 1, 1, 1, 1, 1, 1, 1, 1, 1, 1, 1, 1, 1, 1, 1, 1, 1, 1, 1, 1, 1, 1, 1, 1, 1, 1, 1, 1, 1, 1, 1, 1, 1, 1, 1, 1, 1, 1, 1, 1, 1, 1, 1, 1, 1, 1, 1, 1, 1, 1, 1, 1, 1, 1, 1, 1, 1, 1, 1, 1, 1, 1, 1, 1, 1, 1, 1, 1, 1, 1, 1, 1, 1, 1, 1, 1, 1, 1, 1, 1, 1, 1, 1, 1, 1, 1, 1, 1, 1, 1, 1, 1, 1, 1, 1, 1, 1, 1, 1, 1, 1, 1, 1, 1, 1, 1, 1, 1, 1, 1, 1, 1, 1, 1, 1, 1, 1, 1, 1, 1, 1, 1, 1, 1, 1, 1, 1, 1, 1, 1, 1, 1, 1, 1, 1, 1, 1, 1, 1, 1, 1, 1, 1, 1, 1, 1, 1, 1, 1, 1, 1, 1, 1, 1, 1, 1, 1, 1, 1, 1, 1, 1, 1, 1, 1, 1, 1, 1, 1, 1, 1, 1, 1, 1, 1, 1, 1, 1, 1, 1, 1, 1, 1, 1, 1, 1, 1, 1, 1, 1, 1, 1, 1, 1, 1, 1, 1, 1, 1, 1, 1, 1, 1, 1, 1, 1, 1, 1, 1, 1, 1, 1, 1, 1, 1, 1, 1, 1, 1, 1, 1, 1, 1, 1, 1, 1, 1, 1, 1, 1, 1, 1]\n"
     ]
    }
   ],
   "source": [
    "arrayTargetsNormais = [0 for _ in arquivosNormais]\n",
    "\n",
    "arrayTargetsSpam = [1 for _ in arquivosSpam]\n",
    "\n",
    "targetsArray = arrayTargetsNormais + arrayTargetsSpam\n",
    "\n",
    "print(len(targetsArray))\n",
    "print(targetsArray)"
   ],
   "metadata": {
    "collapsed": false,
    "pycharm": {
     "name": "#%%\n"
    }
   }
  },
  {
   "cell_type": "code",
   "execution_count": 130,
   "outputs": [
    {
     "data": {
      "text/plain": "                                         7gsolb   ability      able  \\\n0001.ea7e79d3153e7469e7a9c3e0af6a357e  0.000000  0.000000  0.057810   \n0002.b3120c4bcbf3101e661161ee7efcb8bf  0.160172  0.000000  0.000000   \n0003.acfc5ad94bbd27118a0d8685d18c89dd  0.073458  0.000000  0.000000   \n0004.e8d5727378ddde5c3be181df593f1712  0.000000  0.000000  0.000000   \n0005.8c3b9e9c0f3f183ddaf7592a11b99957  0.000000  0.000000  0.000000   \n...                                         ...       ...       ...   \n0496.e995facc5d5bc6d3f3a8537d35e0432a  0.000000  0.059078  0.000000   \n0497.9307bd1fb5347f9fbf1f54ebe95b1d20  0.000000  0.000000  0.000000   \n0498.863566df8e5f17f979edca79d1e87187  0.000000  0.000000  0.000000   \n0499.4a17fbd7fe71705e09b4dd2e24d802dd  0.000000  0.000000  0.000000   \n0500.2e8762b67913d1b07bc8da293448d27f  0.000000  0.000000  0.043571   \n\n                                       absolutely   ac    accept  access  \\\n0001.ea7e79d3153e7469e7a9c3e0af6a357e    0.000000  0.0  0.000000     0.0   \n0002.b3120c4bcbf3101e661161ee7efcb8bf    0.000000  0.0  0.000000     0.0   \n0003.acfc5ad94bbd27118a0d8685d18c89dd    0.000000  0.0  0.000000     0.0   \n0004.e8d5727378ddde5c3be181df593f1712    0.000000  0.0  0.000000     0.0   \n0005.8c3b9e9c0f3f183ddaf7592a11b99957    0.000000  0.0  0.000000     0.0   \n...                                           ...  ...       ...     ...   \n0496.e995facc5d5bc6d3f3a8537d35e0432a    0.061095  0.0  0.000000     0.0   \n0497.9307bd1fb5347f9fbf1f54ebe95b1d20    0.000000  0.0  0.000000     0.0   \n0498.863566df8e5f17f979edca79d1e87187    0.000000  0.0  0.000000     0.0   \n0499.4a17fbd7fe71705e09b4dd2e24d802dd    0.000000  0.0  0.153773     0.0   \n0500.2e8762b67913d1b07bc8da293448d27f    0.116841  0.0  0.000000     0.0   \n\n                                       according  account  act  ...       www  \\\n0001.ea7e79d3153e7469e7a9c3e0af6a357e        0.0      0.0  0.0  ...  0.000000   \n0002.b3120c4bcbf3101e661161ee7efcb8bf        0.0      0.0  0.0  ...  0.000000   \n0003.acfc5ad94bbd27118a0d8685d18c89dd        0.0      0.0  0.0  ...  0.000000   \n0004.e8d5727378ddde5c3be181df593f1712        0.0      0.0  0.0  ...  0.037889   \n0005.8c3b9e9c0f3f183ddaf7592a11b99957        0.0      0.0  0.0  ...  0.000000   \n...                                          ...      ...  ...  ...       ...   \n0496.e995facc5d5bc6d3f3a8537d35e0432a        0.0      0.0  0.0  ...  0.000000   \n0497.9307bd1fb5347f9fbf1f54ebe95b1d20        0.0      0.0  0.0  ...  0.033497   \n0498.863566df8e5f17f979edca79d1e87187        0.0      0.0  0.0  ...  0.066385   \n0499.4a17fbd7fe71705e09b4dd2e24d802dd        0.0      0.0  0.0  ...  0.000000   \n0500.2e8762b67913d1b07bc8da293448d27f        0.0      0.0  0.0  ...  0.000000   \n\n                                       xent  ximian  xml     yahoo      year  \\\n0001.ea7e79d3153e7469e7a9c3e0af6a357e   0.0     0.0  0.0  0.000000  0.000000   \n0002.b3120c4bcbf3101e661161ee7efcb8bf   0.0     0.0  0.0  0.555566  0.000000   \n0003.acfc5ad94bbd27118a0d8685d18c89dd   0.0     0.0  0.0  0.254792  0.000000   \n0004.e8d5727378ddde5c3be181df593f1712   0.0     0.0  0.0  0.000000  0.000000   \n0005.8c3b9e9c0f3f183ddaf7592a11b99957   0.0     0.0  0.0  0.000000  0.000000   \n...                                     ...     ...  ...       ...       ...   \n0496.e995facc5d5bc6d3f3a8537d35e0432a   0.0     0.0  0.0  0.000000  0.078302   \n0497.9307bd1fb5347f9fbf1f54ebe95b1d20   0.0     0.0  0.0  0.000000  0.030349   \n0498.863566df8e5f17f979edca79d1e87187   0.0     0.0  0.0  0.000000  0.000000   \n0499.4a17fbd7fe71705e09b4dd2e24d802dd   0.0     0.0  0.0  0.000000  0.000000   \n0500.2e8762b67913d1b07bc8da293448d27f   0.0     0.0  0.0  0.000000  0.117658   \n\n                                       yes     york  young  target  \n0001.ea7e79d3153e7469e7a9c3e0af6a357e  0.0  0.00000    0.0       0  \n0002.b3120c4bcbf3101e661161ee7efcb8bf  0.0  0.00000    0.0       0  \n0003.acfc5ad94bbd27118a0d8685d18c89dd  0.0  0.00000    0.0       0  \n0004.e8d5727378ddde5c3be181df593f1712  0.0  0.00000    0.0       0  \n0005.8c3b9e9c0f3f183ddaf7592a11b99957  0.0  0.00000    0.0       0  \n...                                    ...      ...    ...     ...  \n0496.e995facc5d5bc6d3f3a8537d35e0432a  0.0  0.00000    0.0       1  \n0497.9307bd1fb5347f9fbf1f54ebe95b1d20  0.0  0.04921    0.0       1  \n0498.863566df8e5f17f979edca79d1e87187  0.0  0.00000    0.0       1  \n0499.4a17fbd7fe71705e09b4dd2e24d802dd  0.0  0.00000    0.0       1  \n0500.2e8762b67913d1b07bc8da293448d27f  0.0  0.00000    0.0       1  \n\n[3052 rows x 1001 columns]",
      "text/html": "<div>\n<style scoped>\n    .dataframe tbody tr th:only-of-type {\n        vertical-align: middle;\n    }\n\n    .dataframe tbody tr th {\n        vertical-align: top;\n    }\n\n    .dataframe thead th {\n        text-align: right;\n    }\n</style>\n<table border=\"1\" class=\"dataframe\">\n  <thead>\n    <tr style=\"text-align: right;\">\n      <th></th>\n      <th>7gsolb</th>\n      <th>ability</th>\n      <th>able</th>\n      <th>absolutely</th>\n      <th>ac</th>\n      <th>accept</th>\n      <th>access</th>\n      <th>according</th>\n      <th>account</th>\n      <th>act</th>\n      <th>...</th>\n      <th>www</th>\n      <th>xent</th>\n      <th>ximian</th>\n      <th>xml</th>\n      <th>yahoo</th>\n      <th>year</th>\n      <th>yes</th>\n      <th>york</th>\n      <th>young</th>\n      <th>target</th>\n    </tr>\n  </thead>\n  <tbody>\n    <tr>\n      <th>0001.ea7e79d3153e7469e7a9c3e0af6a357e</th>\n      <td>0.000000</td>\n      <td>0.000000</td>\n      <td>0.057810</td>\n      <td>0.000000</td>\n      <td>0.0</td>\n      <td>0.000000</td>\n      <td>0.0</td>\n      <td>0.0</td>\n      <td>0.0</td>\n      <td>0.0</td>\n      <td>...</td>\n      <td>0.000000</td>\n      <td>0.0</td>\n      <td>0.0</td>\n      <td>0.0</td>\n      <td>0.000000</td>\n      <td>0.000000</td>\n      <td>0.0</td>\n      <td>0.00000</td>\n      <td>0.0</td>\n      <td>0</td>\n    </tr>\n    <tr>\n      <th>0002.b3120c4bcbf3101e661161ee7efcb8bf</th>\n      <td>0.160172</td>\n      <td>0.000000</td>\n      <td>0.000000</td>\n      <td>0.000000</td>\n      <td>0.0</td>\n      <td>0.000000</td>\n      <td>0.0</td>\n      <td>0.0</td>\n      <td>0.0</td>\n      <td>0.0</td>\n      <td>...</td>\n      <td>0.000000</td>\n      <td>0.0</td>\n      <td>0.0</td>\n      <td>0.0</td>\n      <td>0.555566</td>\n      <td>0.000000</td>\n      <td>0.0</td>\n      <td>0.00000</td>\n      <td>0.0</td>\n      <td>0</td>\n    </tr>\n    <tr>\n      <th>0003.acfc5ad94bbd27118a0d8685d18c89dd</th>\n      <td>0.073458</td>\n      <td>0.000000</td>\n      <td>0.000000</td>\n      <td>0.000000</td>\n      <td>0.0</td>\n      <td>0.000000</td>\n      <td>0.0</td>\n      <td>0.0</td>\n      <td>0.0</td>\n      <td>0.0</td>\n      <td>...</td>\n      <td>0.000000</td>\n      <td>0.0</td>\n      <td>0.0</td>\n      <td>0.0</td>\n      <td>0.254792</td>\n      <td>0.000000</td>\n      <td>0.0</td>\n      <td>0.00000</td>\n      <td>0.0</td>\n      <td>0</td>\n    </tr>\n    <tr>\n      <th>0004.e8d5727378ddde5c3be181df593f1712</th>\n      <td>0.000000</td>\n      <td>0.000000</td>\n      <td>0.000000</td>\n      <td>0.000000</td>\n      <td>0.0</td>\n      <td>0.000000</td>\n      <td>0.0</td>\n      <td>0.0</td>\n      <td>0.0</td>\n      <td>0.0</td>\n      <td>...</td>\n      <td>0.037889</td>\n      <td>0.0</td>\n      <td>0.0</td>\n      <td>0.0</td>\n      <td>0.000000</td>\n      <td>0.000000</td>\n      <td>0.0</td>\n      <td>0.00000</td>\n      <td>0.0</td>\n      <td>0</td>\n    </tr>\n    <tr>\n      <th>0005.8c3b9e9c0f3f183ddaf7592a11b99957</th>\n      <td>0.000000</td>\n      <td>0.000000</td>\n      <td>0.000000</td>\n      <td>0.000000</td>\n      <td>0.0</td>\n      <td>0.000000</td>\n      <td>0.0</td>\n      <td>0.0</td>\n      <td>0.0</td>\n      <td>0.0</td>\n      <td>...</td>\n      <td>0.000000</td>\n      <td>0.0</td>\n      <td>0.0</td>\n      <td>0.0</td>\n      <td>0.000000</td>\n      <td>0.000000</td>\n      <td>0.0</td>\n      <td>0.00000</td>\n      <td>0.0</td>\n      <td>0</td>\n    </tr>\n    <tr>\n      <th>...</th>\n      <td>...</td>\n      <td>...</td>\n      <td>...</td>\n      <td>...</td>\n      <td>...</td>\n      <td>...</td>\n      <td>...</td>\n      <td>...</td>\n      <td>...</td>\n      <td>...</td>\n      <td>...</td>\n      <td>...</td>\n      <td>...</td>\n      <td>...</td>\n      <td>...</td>\n      <td>...</td>\n      <td>...</td>\n      <td>...</td>\n      <td>...</td>\n      <td>...</td>\n      <td>...</td>\n    </tr>\n    <tr>\n      <th>0496.e995facc5d5bc6d3f3a8537d35e0432a</th>\n      <td>0.000000</td>\n      <td>0.059078</td>\n      <td>0.000000</td>\n      <td>0.061095</td>\n      <td>0.0</td>\n      <td>0.000000</td>\n      <td>0.0</td>\n      <td>0.0</td>\n      <td>0.0</td>\n      <td>0.0</td>\n      <td>...</td>\n      <td>0.000000</td>\n      <td>0.0</td>\n      <td>0.0</td>\n      <td>0.0</td>\n      <td>0.000000</td>\n      <td>0.078302</td>\n      <td>0.0</td>\n      <td>0.00000</td>\n      <td>0.0</td>\n      <td>1</td>\n    </tr>\n    <tr>\n      <th>0497.9307bd1fb5347f9fbf1f54ebe95b1d20</th>\n      <td>0.000000</td>\n      <td>0.000000</td>\n      <td>0.000000</td>\n      <td>0.000000</td>\n      <td>0.0</td>\n      <td>0.000000</td>\n      <td>0.0</td>\n      <td>0.0</td>\n      <td>0.0</td>\n      <td>0.0</td>\n      <td>...</td>\n      <td>0.033497</td>\n      <td>0.0</td>\n      <td>0.0</td>\n      <td>0.0</td>\n      <td>0.000000</td>\n      <td>0.030349</td>\n      <td>0.0</td>\n      <td>0.04921</td>\n      <td>0.0</td>\n      <td>1</td>\n    </tr>\n    <tr>\n      <th>0498.863566df8e5f17f979edca79d1e87187</th>\n      <td>0.000000</td>\n      <td>0.000000</td>\n      <td>0.000000</td>\n      <td>0.000000</td>\n      <td>0.0</td>\n      <td>0.000000</td>\n      <td>0.0</td>\n      <td>0.0</td>\n      <td>0.0</td>\n      <td>0.0</td>\n      <td>...</td>\n      <td>0.066385</td>\n      <td>0.0</td>\n      <td>0.0</td>\n      <td>0.0</td>\n      <td>0.000000</td>\n      <td>0.000000</td>\n      <td>0.0</td>\n      <td>0.00000</td>\n      <td>0.0</td>\n      <td>1</td>\n    </tr>\n    <tr>\n      <th>0499.4a17fbd7fe71705e09b4dd2e24d802dd</th>\n      <td>0.000000</td>\n      <td>0.000000</td>\n      <td>0.000000</td>\n      <td>0.000000</td>\n      <td>0.0</td>\n      <td>0.153773</td>\n      <td>0.0</td>\n      <td>0.0</td>\n      <td>0.0</td>\n      <td>0.0</td>\n      <td>...</td>\n      <td>0.000000</td>\n      <td>0.0</td>\n      <td>0.0</td>\n      <td>0.0</td>\n      <td>0.000000</td>\n      <td>0.000000</td>\n      <td>0.0</td>\n      <td>0.00000</td>\n      <td>0.0</td>\n      <td>1</td>\n    </tr>\n    <tr>\n      <th>0500.2e8762b67913d1b07bc8da293448d27f</th>\n      <td>0.000000</td>\n      <td>0.000000</td>\n      <td>0.043571</td>\n      <td>0.116841</td>\n      <td>0.0</td>\n      <td>0.000000</td>\n      <td>0.0</td>\n      <td>0.0</td>\n      <td>0.0</td>\n      <td>0.0</td>\n      <td>...</td>\n      <td>0.000000</td>\n      <td>0.0</td>\n      <td>0.0</td>\n      <td>0.0</td>\n      <td>0.000000</td>\n      <td>0.117658</td>\n      <td>0.0</td>\n      <td>0.00000</td>\n      <td>0.0</td>\n      <td>1</td>\n    </tr>\n  </tbody>\n</table>\n<p>3052 rows × 1001 columns</p>\n</div>"
     },
     "execution_count": 130,
     "metadata": {},
     "output_type": "execute_result"
    }
   ],
   "source": [
    "dfTfidfArray.insert(len(dfTfidfArray.columns), \"target\", targetsArray, True)\n",
    "\n",
    "dfTfidfArray"
   ],
   "metadata": {
    "collapsed": false,
    "pycharm": {
     "name": "#%%\n"
    }
   }
  },
  {
   "cell_type": "code",
   "execution_count": 131,
   "outputs": [],
   "source": [
    "dfTfidfArray.to_csv(\"dataset.csv\", sep='\\t', encoding='utf-8')"
   ],
   "metadata": {
    "collapsed": false,
    "pycharm": {
     "name": "#%%\n"
    }
   }
  },
  {
   "cell_type": "code",
   "execution_count": 132,
   "outputs": [
    {
     "name": "stderr",
     "output_type": "stream",
     "text": [
      "E:\\Anaconda3\\envs\\ciencia_de_dados_data_analysis\\lib\\site-packages\\sklearn\\manifold\\_t_sne.py:780: FutureWarning: The default initialization in TSNE will change from 'random' to 'pca' in 1.2.\n",
      "  warnings.warn(\n",
      "E:\\Anaconda3\\envs\\ciencia_de_dados_data_analysis\\lib\\site-packages\\sklearn\\manifold\\_t_sne.py:790: FutureWarning: The default learning rate in TSNE will change from 200.0 to 'auto' in 1.2.\n",
      "  warnings.warn(\n"
     ]
    },
    {
     "data": {
      "text/plain": "<Figure size 432x288 with 1 Axes>",
      "image/png": "[encoded data removed]"
     },
     "metadata": {
      "needs_background": "light"
     },
     "output_type": "display_data"
    }
   ],
   "source": [
    "model = TSNE(n_components=2, random_state=0)\n",
    "array_red = model.fit_transform(dfTfidfArray)\n",
    "\n",
    "df_tsne = pd.DataFrame(array_red)\n",
    "\n",
    "dfTfidfArray.columns = dfTfidfArray.columns.str.strip()\n",
    "\n",
    "target = targetsArray\n",
    "\n",
    "df_tsne['target'] = target\n",
    "\n",
    "df_tsne_c1 = df_tsne[df_tsne['target'] == 0]\n",
    "\n",
    "df_tsne_c2 = df_tsne[df_tsne['target'] == 1]\n",
    "\n",
    "plt.scatter(df_tsne_c1[0].array,df_tsne_c1[1].array,marker='o',color='blue')\n",
    "\n",
    "plt.scatter(df_tsne_c2[0].array,df_tsne_c2[1].array,marker='o',color='red')\n",
    "\n",
    "plt.title('Dados')\n",
    "plt.xlabel('x')\n",
    "plt.ylabel('y')\n",
    "\n",
    "plt.show()"
   ],
   "metadata": {
    "collapsed": false,
    "pycharm": {
     "name": "#%%\n"
    }
   }
  },
  {
   "cell_type": "code",
   "execution_count": 132,
   "outputs": [],
   "source": [],
   "metadata": {
    "collapsed": false,
    "pycharm": {
     "name": "#%%\n"
    }
   }
  }
 ],
 "metadata": {
  "kernelspec": {
   "display_name": "Python 3",
   "language": "python",
   "name": "python3"
  },
  "language_info": {
   "codemirror_mode": {
    "name": "ipython",
    "version": 2
   },
   "file_extension": ".py",
   "mimetype": "text/x-python",
   "name": "python",
   "nbconvert_exporter": "python",
   "pygments_lexer": "ipython2",
   "version": "2.7.6"
  }
 },
 "nbformat": 4,
 "nbformat_minor": 0
}