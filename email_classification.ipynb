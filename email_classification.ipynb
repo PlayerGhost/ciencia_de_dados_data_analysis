{
 "cells": [
  {
   "cell_type": "code",
   "execution_count": null,
   "outputs": [],
   "source": [
    "import math\n",
    "#from langdetect import detect,detect_langs\n",
    "import validators\n",
    "\n",
    "import pandas as pd\n",
    "import numpy as np\n",
    "import os\n",
    "import email\n",
    "import email.policy\n",
    "from bs4 import BeautifulSoup\n",
    "from collections import Counter\n",
    "from nltk.corpus import stopwords\n",
    "from nltk.stem import WordNetLemmatizer,PorterStemmer\n",
    "from nltk.tokenize import RegexpTokenizer,word_tokenize\n",
    "from sklearn.linear_model import LogisticRegression\n",
    "from sklearn.naive_bayes import MultinomialNB\n",
    "from sklearn.model_selection import train_test_split, cross_val_score, cross_val_predict\n",
    "from sklearn.metrics import confusion_matrix\n",
    "from string import punctuation\n",
    "from gensim.parsing.preprocessing import STOPWORDS\n",
    "from sklearn.feature_extraction.text import CountVectorizer, TfidfVectorizer\n",
    "from sklearn.manifold import TSNE\n",
    "from sklearn.decomposition import PCA\n",
    "import re\n",
    "import heapq\n",
    "\n",
    "import matplotlib.pyplot as plt"
   ],
   "metadata": {
    "collapsed": false,
    "pycharm": {
     "name": "#%%\n"
    }
   }
  },
  {
   "cell_type": "code",
   "execution_count": null,
   "outputs": [],
   "source": [
    "os.listdir('./Database')"
   ],
   "metadata": {
    "collapsed": false,
    "pycharm": {
     "name": "#%%\n"
    }
   }
  },
  {
   "cell_type": "code",
   "execution_count": null,
   "outputs": [],
   "source": [
    "arquivosNormais = [nomeArquivo for nomeArquivo in (os.listdir(\"./Database/ham\")) if len(nomeArquivo) > 20]\n",
    "arquivosSpam = [nomeArquivo for nomeArquivo in (os.listdir(\"./Database/spam\")) if len(nomeArquivo) > 20]"
   ],
   "metadata": {
    "collapsed": false,
    "pycharm": {
     "name": "#%%\n"
    }
   }
  },
  {
   "cell_type": "code",
   "execution_count": null,
   "outputs": [],
   "source": [
    "secondaryDatabaseOnlySpam = pd.read_csv('onlySpam.csv',delimiter=',').drop(columns=[\"Unnamed: 0\"])\n",
    "\n",
    "arquivosSpamSecondary = [f\"spam{i+len(arquivosSpam)}\" for i in range(len(secondaryDatabaseOnlySpam))]"
   ],
   "metadata": {
    "collapsed": false,
    "pycharm": {
     "name": "#%%\n"
    }
   }
  },
  {
   "cell_type": "code",
   "execution_count": null,
   "outputs": [],
   "source": [
    "def carregarEmail(tipo, arquivo):\n",
    "    caminho = \"\"\n",
    "\n",
    "    if tipo == \"spam\":\n",
    "        caminho = \"./Database/spam\"\n",
    "    if tipo == \"ham\":\n",
    "        caminho = \"./Database/ham\"\n",
    "\n",
    "    with open(f\"{caminho}/{arquivo}\", \"rb\") as file:\n",
    "        return email.parser.BytesParser(policy=email.policy.default).parse(file)\n",
    "\n",
    "\n",
    "emailsNormais = [carregarEmail(\"ham\", arquivo) for arquivo in arquivosNormais]\n",
    "emailsSpam = [carregarEmail(\"spam\", arquivo) for arquivo in arquivosSpam]"
   ],
   "metadata": {
    "collapsed": false,
    "pycharm": {
     "name": "#%%\n"
    }
   }
  },
  {
   "cell_type": "code",
   "execution_count": null,
   "outputs": [],
   "source": [
    "for i in range(len(arquivosNormais)):\n",
    "    arquivosNormais[i] = f\"ham{i}\"\n",
    "\n",
    "for i in range(len(arquivosSpam)):\n",
    "    arquivosSpam[i] = f\"spam{i}\"\n",
    "\n",
    "emailsNome = arquivosNormais + arquivosSpam\n",
    "\n",
    "emailsNome += arquivosSpamSecondary"
   ],
   "metadata": {
    "collapsed": false,
    "pycharm": {
     "name": "#%%\n"
    }
   }
  },
  {
   "cell_type": "code",
   "execution_count": null,
   "outputs": [],
   "source": [
    "emails = emailsNormais + emailsSpam\n",
    "\n",
    "aux = emailsNormais[0]"
   ],
   "metadata": {
    "collapsed": false,
    "pycharm": {
     "name": "#%%\n"
    }
   }
  },
  {
   "cell_type": "code",
   "execution_count": null,
   "outputs": [],
   "source": [
    "for i in aux.keys():\n",
    "    print(f\"{i} : {aux[i]}\")\n",
    "\n",
    "print('\\n')\n",
    "print('Conteudo:', aux.get_content())"
   ],
   "metadata": {
    "collapsed": false,
    "pycharm": {
     "name": "#%%\n"
    }
   }
  },
  {
   "cell_type": "code",
   "execution_count": null,
   "outputs": [],
   "source": [
    "def get_email_structure(email):\n",
    "    if isinstance(email, str):\n",
    "        return email\n",
    "\n",
    "    payload = email.get_payload()\n",
    "\n",
    "    if isinstance(payload, list):\n",
    "        lista = []\n",
    "        for sub_email in payload:\n",
    "            lista.append(get_email_structure(sub_email))\n",
    "\n",
    "        return \"Estruturas do email:\", lista\n",
    "\n",
    "    else:\n",
    "\n",
    "        return email.get_content_type()\n",
    "\n",
    "\n",
    "emailsNormaisMultipart = get_email_structure(emailsNormais[634])"
   ],
   "metadata": {
    "collapsed": false,
    "pycharm": {
     "name": "#%%\n"
    }
   }
  },
  {
   "cell_type": "code",
   "execution_count": null,
   "outputs": [],
   "source": [
    "emailsNormaisMultipart"
   ],
   "metadata": {
    "collapsed": false,
    "pycharm": {
     "name": "#%%\n"
    }
   }
  },
  {
   "cell_type": "code",
   "execution_count": null,
   "outputs": [],
   "source": [
    "\n",
    "for email in emailsNormais[634].walk():\n",
    "    print(email)"
   ],
   "metadata": {
    "collapsed": false,
    "pycharm": {
     "name": "#%%\n"
    }
   }
  },
  {
   "cell_type": "code",
   "execution_count": null,
   "outputs": [],
   "source": [
    "def html_to_text(email):\n",
    "    try:\n",
    "        soup = BeautifulSoup(email.get_content(), 'html.parser')\n",
    "        return soup.text.replace('\\n\\n', '')\n",
    "    except:\n",
    "        return \"empty\"\n",
    "\n",
    "\n",
    "def email_to_text(email):\n",
    "    for emailParts in email.walk():\n",
    "        if emailParts.get_content_type() not in ['text/plain', 'text/html']:\n",
    "            continue\n",
    "\n",
    "        try:\n",
    "            emailPartsContent = emailParts.get_content()\n",
    "        except:\n",
    "            emailPartsContent = str(emailParts.get_payload())\n",
    "\n",
    "        if emailParts.get_content_type() == 'text/plain':\n",
    "            return emailPartsContent\n",
    "        else:\n",
    "            return html_to_text(emailParts)\n",
    "\n",
    "\n",
    "'''def email_to_text(email):\n",
    "    struct = get_email_structure(email)\n",
    "    for part in email.walk():\n",
    "        partContentType = part.get_content_type()\n",
    "        if partContentType not in ['text/plain','text/html']:\n",
    "            continue\n",
    "        try:\n",
    "            partContent = part.get_content()\n",
    "        except: # in case of encoding issues\n",
    "            partContent = str(part.get_payload())\n",
    "        if partContentType == 'text/plain':\n",
    "            return partContent\n",
    "        else:\n",
    "            return html_to_text(part)'''\n"
   ],
   "metadata": {
    "collapsed": false,
    "pycharm": {
     "name": "#%%\n"
    }
   }
  },
  {
   "cell_type": "code",
   "execution_count": null,
   "outputs": [],
   "source": [
    "email_to_text(emailsNormais[0])"
   ],
   "metadata": {
    "collapsed": false,
    "pycharm": {
     "name": "#%%\n"
    }
   }
  },
  {
   "cell_type": "code",
   "execution_count": null,
   "outputs": [],
   "source": [
    "def removePunctuation(text):\n",
    "    ponctuation = list(punctuation)\n",
    "\n",
    "    for i in ponctuation:\n",
    "        text = text.replace(i, \"\")\n",
    "\n",
    "    return text\n",
    "\n",
    "\n",
    "def wordsPreProcessing(email):\n",
    "    if email is None:\n",
    "        return 'empty'\n",
    "\n",
    "    newText = \"\"\n",
    "\n",
    "    stopWords = set(stopwords.words('english')  + list(punctuation) + list(STOPWORDS))\n",
    "    stopWords.add(\"subject\")\n",
    "    stem = PorterStemmer()\n",
    "    wordTokenize = RegexpTokenizer(r'\\w+')\n",
    "\n",
    "    regex = re.compile(r'[\\w\\.-]+@[\\w\\.-]+(\\.[\\w]+)+')\n",
    "\n",
    "    e = email.split()\n",
    "\n",
    "    for i in range(0,len(e)):\n",
    "        if validators.url(e[i]):\n",
    "            e[i] = \"URLLL\"\n",
    "\n",
    "        if re.fullmatch(regex,e[i]):\n",
    "            e[i] = \"EMAILLL\"\n",
    "\n",
    "\n",
    "    for text in word_tokenize(\" \".join(e).lower()):\n",
    "        #print(text)\n",
    "        text = removePunctuation(text)\n",
    "        if text not in stopWords and not text.isdigit():\n",
    "\n",
    "            newText += stem.stem(text) + \" \"\n",
    "\n",
    "    return newText"
   ],
   "metadata": {
    "collapsed": false,
    "pycharm": {
     "name": "#%%\n"
    }
   }
  },
  {
   "cell_type": "code",
   "execution_count": null,
   "outputs": [],
   "source": [
    "print(wordsPreProcessing(email_to_text(emails[0])))\n",
    "print(email_to_text(emails[0]))"
   ],
   "metadata": {
    "collapsed": false,
    "pycharm": {
     "name": "#%%\n"
    }
   }
  },
  {
   "cell_type": "code",
   "execution_count": null,
   "outputs": [],
   "source": [
    "def bagOfWord(emails):\n",
    "    wordCount = {}\n",
    "\n",
    "    for email in emails:\n",
    "        for i in email.split():\n",
    "            if i not in wordCount.keys():\n",
    "                wordCount[i] = 1\n",
    "            else:\n",
    "                wordCount[i] += 1\n",
    "\n",
    "    return wordCount"
   ],
   "metadata": {
    "collapsed": false,
    "pycharm": {
     "name": "#%%\n"
    }
   }
  },
  {
   "cell_type": "markdown",
   "source": [],
   "metadata": {
    "collapsed": false,
    "pycharm": {
     "name": "#%% md\n"
    }
   }
  },
  {
   "cell_type": "code",
   "execution_count": null,
   "outputs": [],
   "source": [
    "emailsText = []\n",
    "\n",
    "for email in emails:\n",
    "    emailsText.append(wordsPreProcessing\n",
    "                      (email_to_text(email)))\n",
    "\n",
    "for email in secondaryDatabaseOnlySpam[\"text\"].array:\n",
    "    emailsText.append(wordsPreProcessing(email))\n",
    "\n",
    "print(emailsText[4000])\n"
   ],
   "metadata": {
    "collapsed": false,
    "pycharm": {
     "name": "#%%\n"
    }
   }
  },
  {
   "cell_type": "code",
   "execution_count": null,
   "outputs": [],
   "source": [
    "wordCount = bagOfWord(emailsText)\n",
    "\n",
    "wordFrequency = heapq.nlargest(100, wordCount, wordCount.get)\n",
    "\n",
    "print(wordFrequency)"
   ],
   "metadata": {
    "collapsed": false,
    "pycharm": {
     "name": "#%%\n"
    }
   }
  },
  {
   "cell_type": "code",
   "execution_count": null,
   "outputs": [],
   "source": [
    "tfidfVectorizer = TfidfVectorizer(analyzer=\"word\",max_features=2100)\n",
    "#tfidfVectorizer = TfidfVectorizer(analyzer=\"word\")\n",
    "\n",
    "tfidfTransform = tfidfVectorizer.fit_transform(emailsText)\n",
    "\n",
    "print(tfidfTransform)"
   ],
   "metadata": {
    "collapsed": false,
    "pycharm": {
     "name": "#%%\n"
    }
   }
  },
  {
   "cell_type": "code",
   "execution_count": null,
   "outputs": [],
   "source": [
    "tfidfLabels = tfidfVectorizer.get_feature_names()\n",
    "tfidfLabels"
   ],
   "metadata": {
    "collapsed": false,
    "pycharm": {
     "name": "#%%\n"
    }
   }
  },
  {
   "cell_type": "code",
   "execution_count": null,
   "outputs": [],
   "source": [
    "dfTfidfArray = pd.DataFrame(data=tfidfTransform.toarray(), index=emailsNome, columns=tfidfLabels)"
   ],
   "metadata": {
    "collapsed": false,
    "pycharm": {
     "name": "#%%\n"
    }
   }
  },
  {
   "cell_type": "code",
   "execution_count": null,
   "outputs": [],
   "source": [
    "dfTfidfArray"
   ],
   "metadata": {
    "collapsed": false,
    "pycharm": {
     "name": "#%%\n"
    }
   }
  },
  {
   "cell_type": "code",
   "execution_count": null,
   "outputs": [],
   "source": [
    "arrayTargetsNormais = [0 for _ in arquivosNormais]\n",
    "\n",
    "arrayTargetsSpam = [1 for _ in range(len(arquivosSpam)+len(arquivosSpamSecondary))]\n",
    "\n",
    "targetsArray = arrayTargetsNormais + arrayTargetsSpam\n",
    "\n",
    "print(len(targetsArray))\n",
    "print(targetsArray)"
   ],
   "metadata": {
    "collapsed": false,
    "pycharm": {
     "name": "#%%\n"
    }
   }
  },
  {
   "cell_type": "code",
   "execution_count": null,
   "outputs": [],
   "source": [
    "dfTfidfArray.insert(len(dfTfidfArray.columns), \"Target\", targetsArray, True)\n",
    "dfTfidfArray = dfTfidfArray.sample(frac=1)\n",
    "dfTfidfArray\n"
   ],
   "metadata": {
    "collapsed": false,
    "pycharm": {
     "name": "#%%\n"
    }
   }
  },
  {
   "cell_type": "code",
   "execution_count": null,
   "outputs": [],
   "source": [
    "#dfTfidfArray.to_csv(\"dataset.csv\", sep='\\t', encoding='utf-8')"
   ],
   "metadata": {
    "collapsed": false,
    "pycharm": {
     "name": "#%%\n"
    }
   }
  },
  {
   "cell_type": "code",
   "execution_count": null,
   "outputs": [],
   "source": [
    "model = TSNE(n_components=2, random_state=0)\n",
    "#model = PCA(n_components=50, svd_solver='full')\n",
    "array_red = model.fit_transform(dfTfidfArray)\n",
    "\n",
    "df_tsne = pd.DataFrame(array_red)\n",
    "\n",
    "target = dfTfidfArray[\"Target\"].array\n",
    "\n",
    "df_tsne['Target'] = target\n",
    "print(df_tsne)\n",
    "df_tsne_c1 = df_tsne[df_tsne['Target'] == 0]\n",
    "\n",
    "df_tsne_c2 = df_tsne[df_tsne['Target'] == 1]\n",
    "\n",
    "plt.scatter(df_tsne_c1[0].array,df_tsne_c1[1].array,marker='o',color='blue')\n",
    "\n",
    "plt.scatter(df_tsne_c2[0].array,df_tsne_c2[1].array,marker='o',color='red')\n",
    "\n",
    "plt.title('Dados')\n",
    "plt.xlabel('x')\n",
    "plt.ylabel('y')\n",
    "\n",
    "plt.show()"
   ],
   "metadata": {
    "collapsed": false,
    "pycharm": {
     "name": "#%%\n"
    }
   }
  },
  {
   "cell_type": "code",
   "execution_count": null,
   "outputs": [],
   "source": [
    "df_features = dfTfidfArray.drop(columns=['Target'])\n",
    "#df_tsneTarget = df_tsne[\"Target\"].array\n",
    "#df_tsneFeatures = df_tsne.drop(columns=['Target'])\n",
    "\n",
    "\n",
    "df_features"
   ],
   "metadata": {
    "collapsed": false,
    "pycharm": {
     "name": "#%%\n"
    }
   }
  },
  {
   "cell_type": "code",
   "execution_count": null,
   "outputs": [],
   "source": [
    "from sklearn.ensemble import RandomForestClassifier\n",
    "from sklearn.svm import LinearSVC\n",
    "\n",
    "def getModel():\n",
    "      return LogisticRegression(max_iter=200)\n",
    "#     return DecisionTreeClassifier()\n",
    "#     return RandomForestClassifier()\n",
    "#     return LinearSVC()\n",
    "#     return MultinomialNB()"
   ],
   "metadata": {
    "collapsed": false,
    "pycharm": {
     "name": "#%%\n"
    }
   }
  },
  {
   "cell_type": "code",
   "execution_count": null,
   "outputs": [],
   "source": [
    "X_treino, X_teste, y_treino, y_teste = train_test_split(df_features.values,target,test_size=0.2)\n",
    "modelo = getModel().fit(X_treino,y_treino)\n",
    "score = modelo.score(X_teste,y_teste)\n",
    "#score = modelo.score([\"alo\"],[1])\n",
    "score"
   ],
   "metadata": {
    "collapsed": false,
    "pycharm": {
     "name": "#%%\n"
    }
   }
  },
  {
   "cell_type": "code",
   "execution_count": null,
   "outputs": [],
   "source": [
    "scores = cross_val_score(getModel(),df_features.values,target,cv=10)\n",
    "\n",
    "scores.mean()"
   ],
   "metadata": {
    "collapsed": false,
    "pycharm": {
     "name": "#%%\n"
    }
   }
  },
  {
   "cell_type": "code",
   "execution_count": null,
   "outputs": [],
   "source": [
    "predicoes = cross_val_predict(getModel(), df_features.values, target, cv=10)\n",
    "\n",
    "cm = confusion_matrix(target,predicoes,labels=[0, 1])\n",
    "\n",
    "cm_df = pd.DataFrame(cm, columns=[0, 1])\n",
    "\n",
    "cm_df"
   ],
   "metadata": {
    "collapsed": false,
    "pycharm": {
     "name": "#%%\n"
    }
   }
  },
  {
   "cell_type": "code",
   "execution_count": null,
   "outputs": [],
   "source": [
    "import math\n",
    "\n",
    "teste = pd.read_csv(\"spam_ham_dataset.csv\").sample(frac=1)\n",
    "teste2 =pd.read_csv(\"emails.csv\").sample(frac=1)\n",
    "targetTest2 = teste2[\"spam\"]\n",
    "teste = teste.drop(columns=[\"Unnamed: 0\",\"label_num\"])\n",
    "teste = teste.replace({\"ham\":0,\"spam\":1})\n",
    "targetTest = teste[\"label\"]\n",
    "\n",
    "\n",
    "teste3 = pd.read_csv(\"enron_spam_data.csv\")\n",
    "teste3 = teste3.drop(columns=[\"Message ID\",\"Date\"])\n",
    "teste3 = teste3.replace({\"ham\":0,\"spam\":1})\n",
    "teste3 = teste3.drop(columns=[\"Subject\"])\n",
    "teste3 = teste3.dropna()\n",
    "teste3 = teste3.sample(frac=1)\n",
    "targetTest3 = teste3[\"Spam/Ham\"]\n",
    "#teste\n",
    "teste2"
   ],
   "metadata": {
    "collapsed": false,
    "pycharm": {
     "name": "#%%\n"
    }
   }
  },
  {
   "cell_type": "code",
   "execution_count": null,
   "outputs": [],
   "source": [
    "\n",
    "emailsTest = []\n",
    "\n",
    "for email in teste3[\"Message\"]:\n",
    "    emailsTest.append(wordsPreProcessing(email))\n",
    "\n",
    "\n",
    "#emailsTest\n",
    "print(\"ok\")"
   ],
   "metadata": {
    "collapsed": false,
    "pycharm": {
     "name": "#%%\n"
    }
   }
  },
  {
   "cell_type": "code",
   "execution_count": null,
   "outputs": [],
   "source": [
    "emailsTest2 = []\n",
    "\n",
    "for email in teste2[\"text\"]:\n",
    "    emailsTest2.append(wordsPreProcessing(email))\n",
    "    \n",
    "print(\"ok\")"
   ],
   "metadata": {
    "collapsed": false,
    "pycharm": {
     "name": "#%%\n"
    }
   }
  },
  {
   "cell_type": "code",
   "execution_count": null,
   "outputs": [],
   "source": [
    "emailsTest3 = []\n",
    "\n",
    "for email in teste[\"text\"]:\n",
    "    emailsTest3.append(wordsPreProcessing(email))\n",
    "    \n",
    "print(\"ok\")"
   ],
   "metadata": {
    "collapsed": false,
    "pycharm": {
     "name": "#%%\n"
    }
   }
  },
  {
   "cell_type": "code",
   "execution_count": null,
   "outputs": [],
   "source": [
    "#APAGAR DEPOIS\n",
    "from sklearn.feature_extraction.text import CountVectorizer\n",
    "from sklearn.feature_extraction.text import TfidfTransformer\n",
    "count_vect = CountVectorizer()\n",
    "X_train_counts = count_vect.fit_transform(emailsTest) \n",
    "X_train_counts.shape\n",
    "\n",
    "tf_transformer = TfidfTransformer()\n",
    "X_train_tfidf = tf_transformer.fit_transform(X_train_counts)\n",
    "X_train_tfidf.shape"
   ],
   "metadata": {
    "collapsed": false,
    "pycharm": {
     "name": "#%%\n"
    }
   }
  },
  {
   "cell_type": "code",
   "execution_count": null,
   "outputs": [],
   "source": [
    "##APAGAR DEPOIS\n",
    "clf = getModel().fit(X_train_tfidf,targetTest3)\n",
    "\n",
    "X_new_counts = count_vect.transform(emailsTest2) \n",
    "\n",
    "X_new_tfidf = tf_transformer.transform(X_new_counts)\n",
    "\n",
    "predict = clf.predict(X_new_tfidf)\n",
    "print(len(emailsTest2))\n",
    "print(predict)\n",
    "print(targetTest2)\n",
    "print(teste2)\n",
    "print(clf.score(X_new_tfidf,targetTest2))\n",
    "\n",
    "#predicoesTest = cross_val_predict(modelo2, dfTfidfArrayFeaturesTest.values, dfTfidfArrayTargetTest, cv=10)\n",
    "\n",
    "cmTest = confusion_matrix(targetTest2,predict,labels=[0, 1])\n",
    "\n",
    "cm_dfTest = pd.DataFrame(cmTest, columns=[0, 1])\n",
    "\n",
    "cm_dfTest"
   ],
   "metadata": {
    "collapsed": false,
    "pycharm": {
     "name": "#%%\n"
    }
   }
  },
  {
   "cell_type": "code",
   "execution_count": 95,
   "metadata": {
    "pycharm": {
     "name": "#%%\n"
    }
   },
   "outputs": [
    {
     "name": "stdout",
     "output_type": "stream",
     "text": [
      "5728\n",
      "[1 0 1 ... 0 0 0]\n",
      "1323    1\n",
      "3371    0\n",
      "2733    0\n",
      "5633    0\n",
      "3477    0\n",
      "       ..\n",
      "1826    0\n",
      "4059    0\n",
      "4701    0\n",
      "1186    1\n",
      "3666    0\n",
      "Name: spam, Length: 5728, dtype: int64\n",
      "                                                   text  spam\n",
      "1323  Subject: pleasure your women - size does matte...     1\n",
      "3371  Subject: ola oladeji  we are in the process of...     0\n",
      "2733  Subject: re : enroll in intro to java at produ...     0\n",
      "5633  Subject: organizational changes  enron is form...     0\n",
      "3477  Subject: re : stinson vacation plans  stinson ...     0\n",
      "...                                                 ...   ...\n",
      "1826  Subject: super saturday iv results !  good aft...     0\n",
      "4059  Subject: re : gsia visit  duane ,  sorry i wil...     0\n",
      "4701  Subject: california power 1 / 19 / 00  executi...     0\n",
      "1186  Subject: professional logo for you now  workin...     1\n",
      "3666  Subject: norberto  elizabeth ,  i want to disc...     0\n",
      "\n",
      "[5728 rows x 2 columns]\n",
      "0.4884776536312849\n"
     ]
    },
    {
     "data": {
      "text/html": [
       "<div>\n",
       "<style scoped>\n",
       "    .dataframe tbody tr th:only-of-type {\n",
       "        vertical-align: middle;\n",
       "    }\n",
       "\n",
       "    .dataframe tbody tr th {\n",
       "        vertical-align: top;\n",
       "    }\n",
       "\n",
       "    .dataframe thead th {\n",
       "        text-align: right;\n",
       "    }\n",
       "</style>\n",
       "<table border=\"1\" class=\"dataframe\">\n",
       "  <thead>\n",
       "    <tr style=\"text-align: right;\">\n",
       "      <th></th>\n",
       "      <th>0</th>\n",
       "      <th>1</th>\n",
       "    </tr>\n",
       "  </thead>\n",
       "  <tbody>\n",
       "    <tr>\n",
       "      <th>0</th>\n",
       "      <td>2040</td>\n",
       "      <td>2320</td>\n",
       "    </tr>\n",
       "    <tr>\n",
       "      <th>1</th>\n",
       "      <td>610</td>\n",
       "      <td>758</td>\n",
       "    </tr>\n",
       "  </tbody>\n",
       "</table>\n",
       "</div>"
      ],
      "text/plain": [
       "      0     1\n",
       "0  2040  2320\n",
       "1   610   758"
      ]
     },
     "execution_count": 95,
     "metadata": {},
     "output_type": "execute_result"
    }
   ],
   "source": [
    "##APAGAR DEPOIS\n",
    "clf = getModel().fit(X_train_tfidf,targetTest3)\n",
    "\n",
    "X_new_counts = count_vect.transform(emailsTest2) \n",
    "\n",
    "X_new_tfidf = tf_transformer.transform(X_new_counts)\n",
    "\n",
    "predict = clf.predict(X_new_tfidf)\n",
    "print(len(emailsTest2))\n",
    "print(predict)\n",
    "print(targetTest2)\n",
    "print(teste2)\n",
    "print(clf.score(X_new_tfidf,targetTest2))\n",
    "\n",
    "#predicoesTest = cross_val_predict(modelo2, dfTfidfArrayFeaturesTest.values, dfTfidfArrayTargetTest, cv=10)\n",
    "\n",
    "cmTest = confusion_matrix(targetTest2,predict,labels=[0, 1])\n",
    "\n",
    "cm_dfTest = pd.DataFrame(cmTest, columns=[0, 1])\n",
    "\n",
    "cm_dfTest"
   ]
  },
  {
   "cell_type": "code",
   "execution_count": 92,
   "metadata": {
    "pycharm": {
     "name": "#%%\n"
    }
   },
   "outputs": [
    {
     "name": "stdout",
     "output_type": "stream",
     "text": [
      "33345\n",
      "[1 0 0 ... 0 1 1]\n",
      "2619    0\n",
      "4995    1\n",
      "1938    0\n",
      "3893    0\n",
      "3987    0\n",
      "       ..\n",
      "1137    0\n",
      "1354    0\n",
      "794     0\n",
      "4346    1\n",
      "2000    0\n",
      "Name: label, Length: 5171, dtype: int64\n",
      "      label                                               text\n",
      "2619      0  Subject: my vacation\\r\\ni will be on vacation ...\n",
      "4995      1  Subject: coca cola , mbna america , nascar par...\n",
      "1938      0  Subject: tenaska 2 / 01\\r\\nwe need to forward ...\n",
      "3893      0  Subject: meter 1603\\r\\ndaren - meter 1603 for ...\n",
      "3987      0  Subject: interview schedule for brent trefz\\r\\...\n",
      "...     ...                                                ...\n",
      "1137      0  Subject: hpl nom for sept . 12 , 2000\\r\\n- - (...\n",
      "1354      0  Subject: hl & p december\\r\\njanet . attached i...\n",
      "794       0  Subject: re : tenaska iv\\r\\ni ' ll call you on...\n",
      "4346      1  Subject: how are you ?\\r\\nnow loading . . .\\r\\...\n",
      "2000      0  Subject: mobil chemical - hpl meter # 1256 - e...\n",
      "\n",
      "[5171 rows x 2 columns]\n",
      "0.586733707213305\n"
     ]
    },
    {
     "data": {
      "text/html": [
       "<div>\n",
       "<style scoped>\n",
       "    .dataframe tbody tr th:only-of-type {\n",
       "        vertical-align: middle;\n",
       "    }\n",
       "\n",
       "    .dataframe tbody tr th {\n",
       "        vertical-align: top;\n",
       "    }\n",
       "\n",
       "    .dataframe thead th {\n",
       "        text-align: right;\n",
       "    }\n",
       "</style>\n",
       "<table border=\"1\" class=\"dataframe\">\n",
       "  <thead>\n",
       "    <tr style=\"text-align: right;\">\n",
       "      <th></th>\n",
       "      <th>0</th>\n",
       "      <th>1</th>\n",
       "    </tr>\n",
       "  </thead>\n",
       "  <tbody>\n",
       "    <tr>\n",
       "      <th>0</th>\n",
       "      <td>2559</td>\n",
       "      <td>1113</td>\n",
       "    </tr>\n",
       "    <tr>\n",
       "      <th>1</th>\n",
       "      <td>1024</td>\n",
       "      <td>475</td>\n",
       "    </tr>\n",
       "  </tbody>\n",
       "</table>\n",
       "</div>"
      ],
      "text/plain": [
       "      0     1\n",
       "0  2559  1113\n",
       "1  1024   475"
      ]
     },
     "execution_count": 92,
     "metadata": {},
     "output_type": "execute_result"
    }
   ],
   "source": [
    "#APAGAR DEPOIS\n",
    "X_new_counts2 = count_vect.transform(emailsTest3) \n",
    "\n",
    "X_new_tfidf2 = tf_transformer.transform(X_new_counts2)\n",
    "\n",
    "predict = clf.predict(X_new_tfidf2)\n",
    "print(len(emailsTest))\n",
    "print(predict)\n",
    "print(targetTest)\n",
    "print(teste)\n",
    "print(clf.score(X_new_tfidf2,targetTest))\n",
    "\n",
    "#predicoesTest = cross_val_predict(modelo2, dfTfidfArrayFeaturesTest.values, dfTfidfArrayTargetTest, cv=10)\n",
    "\n",
    "cmTest = confusion_matrix(targetTest,predict,labels=[0, 1])\n",
    "\n",
    "cm_dfTest = pd.DataFrame(cmTest, columns=[0, 1])\n",
    "\n",
    "cm_dfTest"
   ]
  },
  {
   "cell_type": "code",
   "execution_count": 35,
   "metadata": {
    "pycharm": {
     "name": "#%%\n"
    }
   },
   "outputs": [
    {
     "data": {
      "text/html": [
       "<div>\n",
       "<style scoped>\n",
       "    .dataframe tbody tr th:only-of-type {\n",
       "        vertical-align: middle;\n",
       "    }\n",
       "\n",
       "    .dataframe tbody tr th {\n",
       "        vertical-align: top;\n",
       "    }\n",
       "\n",
       "    .dataframe thead th {\n",
       "        text-align: right;\n",
       "    }\n",
       "</style>\n",
       "<table border=\"1\" class=\"dataframe\">\n",
       "  <thead>\n",
       "    <tr style=\"text-align: right;\">\n",
       "      <th></th>\n",
       "      <th>aa</th>\n",
       "      <th>abil</th>\n",
       "      <th>abl</th>\n",
       "      <th>absolut</th>\n",
       "      <th>abus</th>\n",
       "      <th>accept</th>\n",
       "      <th>access</th>\n",
       "      <th>accomplish</th>\n",
       "      <th>accord</th>\n",
       "      <th>account</th>\n",
       "      <th>...</th>\n",
       "      <th>year</th>\n",
       "      <th>yesterday</th>\n",
       "      <th>yield</th>\n",
       "      <th>yo</th>\n",
       "      <th>york</th>\n",
       "      <th>young</th>\n",
       "      <th>zero</th>\n",
       "      <th>zimin</th>\n",
       "      <th>zone</th>\n",
       "      <th>Target</th>\n",
       "    </tr>\n",
       "  </thead>\n",
       "  <tbody>\n",
       "    <tr>\n",
       "      <th>1327</th>\n",
       "      <td>0.0</td>\n",
       "      <td>0.0</td>\n",
       "      <td>0.00000</td>\n",
       "      <td>0.0</td>\n",
       "      <td>0.0</td>\n",
       "      <td>0.0</td>\n",
       "      <td>0.00000</td>\n",
       "      <td>0.0</td>\n",
       "      <td>0.0</td>\n",
       "      <td>0.0</td>\n",
       "      <td>...</td>\n",
       "      <td>0.000000</td>\n",
       "      <td>0.0</td>\n",
       "      <td>0.0</td>\n",
       "      <td>0.0</td>\n",
       "      <td>0.0</td>\n",
       "      <td>0.0</td>\n",
       "      <td>0.0</td>\n",
       "      <td>0.0</td>\n",
       "      <td>0.0</td>\n",
       "      <td>1</td>\n",
       "    </tr>\n",
       "    <tr>\n",
       "      <th>8194</th>\n",
       "      <td>0.0</td>\n",
       "      <td>0.0</td>\n",
       "      <td>0.00000</td>\n",
       "      <td>0.0</td>\n",
       "      <td>0.0</td>\n",
       "      <td>0.0</td>\n",
       "      <td>0.00000</td>\n",
       "      <td>0.0</td>\n",
       "      <td>0.0</td>\n",
       "      <td>0.0</td>\n",
       "      <td>...</td>\n",
       "      <td>0.110548</td>\n",
       "      <td>0.0</td>\n",
       "      <td>0.0</td>\n",
       "      <td>0.0</td>\n",
       "      <td>0.0</td>\n",
       "      <td>0.0</td>\n",
       "      <td>0.0</td>\n",
       "      <td>0.0</td>\n",
       "      <td>0.0</td>\n",
       "      <td>0</td>\n",
       "    </tr>\n",
       "    <tr>\n",
       "      <th>14958</th>\n",
       "      <td>0.0</td>\n",
       "      <td>0.0</td>\n",
       "      <td>0.00000</td>\n",
       "      <td>0.0</td>\n",
       "      <td>0.0</td>\n",
       "      <td>0.0</td>\n",
       "      <td>0.00000</td>\n",
       "      <td>0.0</td>\n",
       "      <td>0.0</td>\n",
       "      <td>0.0</td>\n",
       "      <td>...</td>\n",
       "      <td>0.000000</td>\n",
       "      <td>0.0</td>\n",
       "      <td>0.0</td>\n",
       "      <td>0.0</td>\n",
       "      <td>0.0</td>\n",
       "      <td>0.0</td>\n",
       "      <td>0.0</td>\n",
       "      <td>0.0</td>\n",
       "      <td>0.0</td>\n",
       "      <td>0</td>\n",
       "    </tr>\n",
       "    <tr>\n",
       "      <th>5614</th>\n",
       "      <td>0.0</td>\n",
       "      <td>0.0</td>\n",
       "      <td>0.00000</td>\n",
       "      <td>0.0</td>\n",
       "      <td>0.0</td>\n",
       "      <td>0.0</td>\n",
       "      <td>0.00000</td>\n",
       "      <td>0.0</td>\n",
       "      <td>0.0</td>\n",
       "      <td>0.0</td>\n",
       "      <td>...</td>\n",
       "      <td>0.000000</td>\n",
       "      <td>0.0</td>\n",
       "      <td>0.0</td>\n",
       "      <td>0.0</td>\n",
       "      <td>0.0</td>\n",
       "      <td>0.0</td>\n",
       "      <td>0.0</td>\n",
       "      <td>0.0</td>\n",
       "      <td>0.0</td>\n",
       "      <td>0</td>\n",
       "    </tr>\n",
       "    <tr>\n",
       "      <th>703</th>\n",
       "      <td>0.0</td>\n",
       "      <td>0.0</td>\n",
       "      <td>0.00000</td>\n",
       "      <td>0.0</td>\n",
       "      <td>0.0</td>\n",
       "      <td>0.0</td>\n",
       "      <td>0.00000</td>\n",
       "      <td>0.0</td>\n",
       "      <td>0.0</td>\n",
       "      <td>0.0</td>\n",
       "      <td>...</td>\n",
       "      <td>0.000000</td>\n",
       "      <td>0.0</td>\n",
       "      <td>0.0</td>\n",
       "      <td>0.0</td>\n",
       "      <td>0.0</td>\n",
       "      <td>0.0</td>\n",
       "      <td>0.0</td>\n",
       "      <td>0.0</td>\n",
       "      <td>0.0</td>\n",
       "      <td>1</td>\n",
       "    </tr>\n",
       "    <tr>\n",
       "      <th>...</th>\n",
       "      <td>...</td>\n",
       "      <td>...</td>\n",
       "      <td>...</td>\n",
       "      <td>...</td>\n",
       "      <td>...</td>\n",
       "      <td>...</td>\n",
       "      <td>...</td>\n",
       "      <td>...</td>\n",
       "      <td>...</td>\n",
       "      <td>...</td>\n",
       "      <td>...</td>\n",
       "      <td>...</td>\n",
       "      <td>...</td>\n",
       "      <td>...</td>\n",
       "      <td>...</td>\n",
       "      <td>...</td>\n",
       "      <td>...</td>\n",
       "      <td>...</td>\n",
       "      <td>...</td>\n",
       "      <td>...</td>\n",
       "      <td>...</td>\n",
       "    </tr>\n",
       "    <tr>\n",
       "      <th>29992</th>\n",
       "      <td>0.0</td>\n",
       "      <td>0.0</td>\n",
       "      <td>0.00000</td>\n",
       "      <td>0.0</td>\n",
       "      <td>0.0</td>\n",
       "      <td>0.0</td>\n",
       "      <td>0.00000</td>\n",
       "      <td>0.0</td>\n",
       "      <td>0.0</td>\n",
       "      <td>0.0</td>\n",
       "      <td>...</td>\n",
       "      <td>0.000000</td>\n",
       "      <td>0.0</td>\n",
       "      <td>0.0</td>\n",
       "      <td>0.0</td>\n",
       "      <td>0.0</td>\n",
       "      <td>0.0</td>\n",
       "      <td>0.0</td>\n",
       "      <td>0.0</td>\n",
       "      <td>0.0</td>\n",
       "      <td>0</td>\n",
       "    </tr>\n",
       "    <tr>\n",
       "      <th>30790</th>\n",
       "      <td>0.0</td>\n",
       "      <td>0.0</td>\n",
       "      <td>0.00000</td>\n",
       "      <td>0.0</td>\n",
       "      <td>0.0</td>\n",
       "      <td>0.0</td>\n",
       "      <td>0.08161</td>\n",
       "      <td>0.0</td>\n",
       "      <td>0.0</td>\n",
       "      <td>0.0</td>\n",
       "      <td>...</td>\n",
       "      <td>0.062924</td>\n",
       "      <td>0.0</td>\n",
       "      <td>0.0</td>\n",
       "      <td>0.0</td>\n",
       "      <td>0.0</td>\n",
       "      <td>0.0</td>\n",
       "      <td>0.0</td>\n",
       "      <td>0.0</td>\n",
       "      <td>0.0</td>\n",
       "      <td>1</td>\n",
       "    </tr>\n",
       "    <tr>\n",
       "      <th>11338</th>\n",
       "      <td>0.0</td>\n",
       "      <td>0.0</td>\n",
       "      <td>0.07552</td>\n",
       "      <td>0.0</td>\n",
       "      <td>0.0</td>\n",
       "      <td>0.0</td>\n",
       "      <td>0.00000</td>\n",
       "      <td>0.0</td>\n",
       "      <td>0.0</td>\n",
       "      <td>0.0</td>\n",
       "      <td>...</td>\n",
       "      <td>0.000000</td>\n",
       "      <td>0.0</td>\n",
       "      <td>0.0</td>\n",
       "      <td>0.0</td>\n",
       "      <td>0.0</td>\n",
       "      <td>0.0</td>\n",
       "      <td>0.0</td>\n",
       "      <td>0.0</td>\n",
       "      <td>0.0</td>\n",
       "      <td>0</td>\n",
       "    </tr>\n",
       "    <tr>\n",
       "      <th>16570</th>\n",
       "      <td>0.0</td>\n",
       "      <td>0.0</td>\n",
       "      <td>0.00000</td>\n",
       "      <td>0.0</td>\n",
       "      <td>0.0</td>\n",
       "      <td>0.0</td>\n",
       "      <td>0.00000</td>\n",
       "      <td>0.0</td>\n",
       "      <td>0.0</td>\n",
       "      <td>0.0</td>\n",
       "      <td>...</td>\n",
       "      <td>0.000000</td>\n",
       "      <td>0.0</td>\n",
       "      <td>0.0</td>\n",
       "      <td>0.0</td>\n",
       "      <td>0.0</td>\n",
       "      <td>0.0</td>\n",
       "      <td>0.0</td>\n",
       "      <td>0.0</td>\n",
       "      <td>0.0</td>\n",
       "      <td>0</td>\n",
       "    </tr>\n",
       "    <tr>\n",
       "      <th>24123</th>\n",
       "      <td>0.0</td>\n",
       "      <td>0.0</td>\n",
       "      <td>0.00000</td>\n",
       "      <td>0.0</td>\n",
       "      <td>0.0</td>\n",
       "      <td>0.0</td>\n",
       "      <td>0.00000</td>\n",
       "      <td>0.0</td>\n",
       "      <td>0.0</td>\n",
       "      <td>0.0</td>\n",
       "      <td>...</td>\n",
       "      <td>0.000000</td>\n",
       "      <td>0.0</td>\n",
       "      <td>0.0</td>\n",
       "      <td>0.0</td>\n",
       "      <td>0.0</td>\n",
       "      <td>0.0</td>\n",
       "      <td>0.0</td>\n",
       "      <td>0.0</td>\n",
       "      <td>0.0</td>\n",
       "      <td>1</td>\n",
       "    </tr>\n",
       "  </tbody>\n",
       "</table>\n",
       "<p>33345 rows × 2101 columns</p>\n",
       "</div>"
      ],
      "text/plain": [
       "        aa  abil      abl  absolut  abus  accept   access  accomplish  accord  \\\n",
       "1327   0.0   0.0  0.00000      0.0   0.0     0.0  0.00000         0.0     0.0   \n",
       "8194   0.0   0.0  0.00000      0.0   0.0     0.0  0.00000         0.0     0.0   \n",
       "14958  0.0   0.0  0.00000      0.0   0.0     0.0  0.00000         0.0     0.0   \n",
       "5614   0.0   0.0  0.00000      0.0   0.0     0.0  0.00000         0.0     0.0   \n",
       "703    0.0   0.0  0.00000      0.0   0.0     0.0  0.00000         0.0     0.0   \n",
       "...    ...   ...      ...      ...   ...     ...      ...         ...     ...   \n",
       "29992  0.0   0.0  0.00000      0.0   0.0     0.0  0.00000         0.0     0.0   \n",
       "30790  0.0   0.0  0.00000      0.0   0.0     0.0  0.08161         0.0     0.0   \n",
       "11338  0.0   0.0  0.07552      0.0   0.0     0.0  0.00000         0.0     0.0   \n",
       "16570  0.0   0.0  0.00000      0.0   0.0     0.0  0.00000         0.0     0.0   \n",
       "24123  0.0   0.0  0.00000      0.0   0.0     0.0  0.00000         0.0     0.0   \n",
       "\n",
       "       account  ...      year  yesterday  yield   yo  york  young  zero  \\\n",
       "1327       0.0  ...  0.000000        0.0    0.0  0.0   0.0    0.0   0.0   \n",
       "8194       0.0  ...  0.110548        0.0    0.0  0.0   0.0    0.0   0.0   \n",
       "14958      0.0  ...  0.000000        0.0    0.0  0.0   0.0    0.0   0.0   \n",
       "5614       0.0  ...  0.000000        0.0    0.0  0.0   0.0    0.0   0.0   \n",
       "703        0.0  ...  0.000000        0.0    0.0  0.0   0.0    0.0   0.0   \n",
       "...        ...  ...       ...        ...    ...  ...   ...    ...   ...   \n",
       "29992      0.0  ...  0.000000        0.0    0.0  0.0   0.0    0.0   0.0   \n",
       "30790      0.0  ...  0.062924        0.0    0.0  0.0   0.0    0.0   0.0   \n",
       "11338      0.0  ...  0.000000        0.0    0.0  0.0   0.0    0.0   0.0   \n",
       "16570      0.0  ...  0.000000        0.0    0.0  0.0   0.0    0.0   0.0   \n",
       "24123      0.0  ...  0.000000        0.0    0.0  0.0   0.0    0.0   0.0   \n",
       "\n",
       "       zimin  zone  Target  \n",
       "1327     0.0   0.0       1  \n",
       "8194     0.0   0.0       0  \n",
       "14958    0.0   0.0       0  \n",
       "5614     0.0   0.0       0  \n",
       "703      0.0   0.0       1  \n",
       "...      ...   ...     ...  \n",
       "29992    0.0   0.0       0  \n",
       "30790    0.0   0.0       1  \n",
       "11338    0.0   0.0       0  \n",
       "16570    0.0   0.0       0  \n",
       "24123    0.0   0.0       1  \n",
       "\n",
       "[33345 rows x 2101 columns]"
      ]
     },
     "execution_count": 35,
     "metadata": {},
     "output_type": "execute_result"
    }
   ],
   "source": [
    "dfTfidfArrayTest = pd.DataFrame(data=tfidfTransformTest.toarray(), columns=tfidfVectorizerTest.get_feature_names_out())\n",
    "dfTfidfArrayTest.insert(len(dfTfidfArrayTest.columns), \"Target\", targetTest3.array, True)\n",
    "dfTfidfArrayTest = dfTfidfArrayTest.sample(frac=1)\n",
    "dfTfidfArrayTest\n"
   ]
  },
  {
   "cell_type": "code",
   "execution_count": 44,
   "metadata": {
    "pycharm": {
     "name": "#%%\n"
    }
   },
   "outputs": [
    {
     "data": {
      "text/html": [
       "<div>\n",
       "<style scoped>\n",
       "    .dataframe tbody tr th:only-of-type {\n",
       "        vertical-align: middle;\n",
       "    }\n",
       "\n",
       "    .dataframe tbody tr th {\n",
       "        vertical-align: top;\n",
       "    }\n",
       "\n",
       "    .dataframe thead th {\n",
       "        text-align: right;\n",
       "    }\n",
       "</style>\n",
       "<table border=\"1\" class=\"dataframe\">\n",
       "  <thead>\n",
       "    <tr style=\"text-align: right;\">\n",
       "      <th></th>\n",
       "      <th>abdv</th>\n",
       "      <th>abil</th>\n",
       "      <th>abl</th>\n",
       "      <th>absolut</th>\n",
       "      <th>ac</th>\n",
       "      <th>accept</th>\n",
       "      <th>access</th>\n",
       "      <th>accessori</th>\n",
       "      <th>accomplish</th>\n",
       "      <th>accord</th>\n",
       "      <th>...</th>\n",
       "      <th>year</th>\n",
       "      <th>yesterday</th>\n",
       "      <th>york</th>\n",
       "      <th>young</th>\n",
       "      <th>yvett</th>\n",
       "      <th>zero</th>\n",
       "      <th>zivley</th>\n",
       "      <th>zone</th>\n",
       "      <th>zonedubai</th>\n",
       "      <th>Target</th>\n",
       "    </tr>\n",
       "  </thead>\n",
       "  <tbody>\n",
       "    <tr>\n",
       "      <th>3324</th>\n",
       "      <td>0.0</td>\n",
       "      <td>0.0</td>\n",
       "      <td>0.0</td>\n",
       "      <td>0.0</td>\n",
       "      <td>0.0</td>\n",
       "      <td>0.0</td>\n",
       "      <td>0.0</td>\n",
       "      <td>0.0</td>\n",
       "      <td>0.0</td>\n",
       "      <td>0.0</td>\n",
       "      <td>...</td>\n",
       "      <td>0.0</td>\n",
       "      <td>0.0</td>\n",
       "      <td>0.0</td>\n",
       "      <td>0.0</td>\n",
       "      <td>0.0</td>\n",
       "      <td>0.0</td>\n",
       "      <td>0.0</td>\n",
       "      <td>0.0</td>\n",
       "      <td>0.0</td>\n",
       "      <td>1</td>\n",
       "    </tr>\n",
       "    <tr>\n",
       "      <th>1531</th>\n",
       "      <td>0.0</td>\n",
       "      <td>0.0</td>\n",
       "      <td>0.0</td>\n",
       "      <td>0.0</td>\n",
       "      <td>0.0</td>\n",
       "      <td>0.0</td>\n",
       "      <td>0.0</td>\n",
       "      <td>0.0</td>\n",
       "      <td>0.0</td>\n",
       "      <td>0.0</td>\n",
       "      <td>...</td>\n",
       "      <td>0.0</td>\n",
       "      <td>0.0</td>\n",
       "      <td>0.0</td>\n",
       "      <td>0.0</td>\n",
       "      <td>0.0</td>\n",
       "      <td>0.0</td>\n",
       "      <td>0.0</td>\n",
       "      <td>0.0</td>\n",
       "      <td>0.0</td>\n",
       "      <td>0</td>\n",
       "    </tr>\n",
       "    <tr>\n",
       "      <th>932</th>\n",
       "      <td>0.0</td>\n",
       "      <td>0.0</td>\n",
       "      <td>0.0</td>\n",
       "      <td>0.0</td>\n",
       "      <td>0.0</td>\n",
       "      <td>0.0</td>\n",
       "      <td>0.0</td>\n",
       "      <td>0.0</td>\n",
       "      <td>0.0</td>\n",
       "      <td>0.0</td>\n",
       "      <td>...</td>\n",
       "      <td>0.0</td>\n",
       "      <td>0.0</td>\n",
       "      <td>0.0</td>\n",
       "      <td>0.0</td>\n",
       "      <td>0.0</td>\n",
       "      <td>0.0</td>\n",
       "      <td>0.0</td>\n",
       "      <td>0.0</td>\n",
       "      <td>0.0</td>\n",
       "      <td>0</td>\n",
       "    </tr>\n",
       "    <tr>\n",
       "      <th>2029</th>\n",
       "      <td>0.0</td>\n",
       "      <td>0.0</td>\n",
       "      <td>0.0</td>\n",
       "      <td>0.0</td>\n",
       "      <td>0.0</td>\n",
       "      <td>0.0</td>\n",
       "      <td>0.0</td>\n",
       "      <td>0.0</td>\n",
       "      <td>0.0</td>\n",
       "      <td>0.0</td>\n",
       "      <td>...</td>\n",
       "      <td>0.0</td>\n",
       "      <td>0.0</td>\n",
       "      <td>0.0</td>\n",
       "      <td>0.0</td>\n",
       "      <td>0.0</td>\n",
       "      <td>0.0</td>\n",
       "      <td>0.0</td>\n",
       "      <td>0.0</td>\n",
       "      <td>0.0</td>\n",
       "      <td>0</td>\n",
       "    </tr>\n",
       "    <tr>\n",
       "      <th>5026</th>\n",
       "      <td>0.0</td>\n",
       "      <td>0.0</td>\n",
       "      <td>0.0</td>\n",
       "      <td>0.0</td>\n",
       "      <td>0.0</td>\n",
       "      <td>0.0</td>\n",
       "      <td>0.0</td>\n",
       "      <td>0.0</td>\n",
       "      <td>0.0</td>\n",
       "      <td>0.0</td>\n",
       "      <td>...</td>\n",
       "      <td>0.0</td>\n",
       "      <td>0.0</td>\n",
       "      <td>0.0</td>\n",
       "      <td>0.0</td>\n",
       "      <td>0.0</td>\n",
       "      <td>0.0</td>\n",
       "      <td>0.0</td>\n",
       "      <td>0.0</td>\n",
       "      <td>0.0</td>\n",
       "      <td>1</td>\n",
       "    </tr>\n",
       "    <tr>\n",
       "      <th>...</th>\n",
       "      <td>...</td>\n",
       "      <td>...</td>\n",
       "      <td>...</td>\n",
       "      <td>...</td>\n",
       "      <td>...</td>\n",
       "      <td>...</td>\n",
       "      <td>...</td>\n",
       "      <td>...</td>\n",
       "      <td>...</td>\n",
       "      <td>...</td>\n",
       "      <td>...</td>\n",
       "      <td>...</td>\n",
       "      <td>...</td>\n",
       "      <td>...</td>\n",
       "      <td>...</td>\n",
       "      <td>...</td>\n",
       "      <td>...</td>\n",
       "      <td>...</td>\n",
       "      <td>...</td>\n",
       "      <td>...</td>\n",
       "      <td>...</td>\n",
       "    </tr>\n",
       "    <tr>\n",
       "      <th>2288</th>\n",
       "      <td>0.0</td>\n",
       "      <td>0.0</td>\n",
       "      <td>0.0</td>\n",
       "      <td>0.0</td>\n",
       "      <td>0.0</td>\n",
       "      <td>0.0</td>\n",
       "      <td>0.0</td>\n",
       "      <td>0.0</td>\n",
       "      <td>0.0</td>\n",
       "      <td>0.0</td>\n",
       "      <td>...</td>\n",
       "      <td>0.0</td>\n",
       "      <td>0.0</td>\n",
       "      <td>0.0</td>\n",
       "      <td>0.0</td>\n",
       "      <td>0.0</td>\n",
       "      <td>0.0</td>\n",
       "      <td>0.0</td>\n",
       "      <td>0.0</td>\n",
       "      <td>0.0</td>\n",
       "      <td>0</td>\n",
       "    </tr>\n",
       "    <tr>\n",
       "      <th>3640</th>\n",
       "      <td>0.0</td>\n",
       "      <td>0.0</td>\n",
       "      <td>0.0</td>\n",
       "      <td>0.0</td>\n",
       "      <td>0.0</td>\n",
       "      <td>0.0</td>\n",
       "      <td>0.0</td>\n",
       "      <td>0.0</td>\n",
       "      <td>0.0</td>\n",
       "      <td>0.0</td>\n",
       "      <td>...</td>\n",
       "      <td>0.0</td>\n",
       "      <td>0.0</td>\n",
       "      <td>0.0</td>\n",
       "      <td>0.0</td>\n",
       "      <td>0.0</td>\n",
       "      <td>0.0</td>\n",
       "      <td>0.0</td>\n",
       "      <td>0.0</td>\n",
       "      <td>0.0</td>\n",
       "      <td>1</td>\n",
       "    </tr>\n",
       "    <tr>\n",
       "      <th>4518</th>\n",
       "      <td>0.0</td>\n",
       "      <td>0.0</td>\n",
       "      <td>0.0</td>\n",
       "      <td>0.0</td>\n",
       "      <td>0.0</td>\n",
       "      <td>0.0</td>\n",
       "      <td>0.0</td>\n",
       "      <td>0.0</td>\n",
       "      <td>0.0</td>\n",
       "      <td>0.0</td>\n",
       "      <td>...</td>\n",
       "      <td>0.0</td>\n",
       "      <td>0.0</td>\n",
       "      <td>0.0</td>\n",
       "      <td>0.0</td>\n",
       "      <td>0.0</td>\n",
       "      <td>0.0</td>\n",
       "      <td>0.0</td>\n",
       "      <td>0.0</td>\n",
       "      <td>0.0</td>\n",
       "      <td>0</td>\n",
       "    </tr>\n",
       "    <tr>\n",
       "      <th>5139</th>\n",
       "      <td>0.0</td>\n",
       "      <td>0.0</td>\n",
       "      <td>0.0</td>\n",
       "      <td>0.0</td>\n",
       "      <td>0.0</td>\n",
       "      <td>0.0</td>\n",
       "      <td>0.0</td>\n",
       "      <td>0.0</td>\n",
       "      <td>0.0</td>\n",
       "      <td>0.0</td>\n",
       "      <td>...</td>\n",
       "      <td>0.0</td>\n",
       "      <td>0.0</td>\n",
       "      <td>0.0</td>\n",
       "      <td>0.0</td>\n",
       "      <td>0.0</td>\n",
       "      <td>0.0</td>\n",
       "      <td>0.0</td>\n",
       "      <td>0.0</td>\n",
       "      <td>0.0</td>\n",
       "      <td>0</td>\n",
       "    </tr>\n",
       "    <tr>\n",
       "      <th>3995</th>\n",
       "      <td>0.0</td>\n",
       "      <td>0.0</td>\n",
       "      <td>0.0</td>\n",
       "      <td>0.0</td>\n",
       "      <td>0.0</td>\n",
       "      <td>0.0</td>\n",
       "      <td>0.0</td>\n",
       "      <td>0.0</td>\n",
       "      <td>0.0</td>\n",
       "      <td>0.0</td>\n",
       "      <td>...</td>\n",
       "      <td>0.0</td>\n",
       "      <td>0.0</td>\n",
       "      <td>0.0</td>\n",
       "      <td>0.0</td>\n",
       "      <td>0.0</td>\n",
       "      <td>0.0</td>\n",
       "      <td>0.0</td>\n",
       "      <td>0.0</td>\n",
       "      <td>0.0</td>\n",
       "      <td>1</td>\n",
       "    </tr>\n",
       "  </tbody>\n",
       "</table>\n",
       "<p>5171 rows × 2101 columns</p>\n",
       "</div>"
      ],
      "text/plain": [
       "      abdv  abil  abl  absolut   ac  accept  access  accessori  accomplish  \\\n",
       "3324   0.0   0.0  0.0      0.0  0.0     0.0     0.0        0.0         0.0   \n",
       "1531   0.0   0.0  0.0      0.0  0.0     0.0     0.0        0.0         0.0   \n",
       "932    0.0   0.0  0.0      0.0  0.0     0.0     0.0        0.0         0.0   \n",
       "2029   0.0   0.0  0.0      0.0  0.0     0.0     0.0        0.0         0.0   \n",
       "5026   0.0   0.0  0.0      0.0  0.0     0.0     0.0        0.0         0.0   \n",
       "...    ...   ...  ...      ...  ...     ...     ...        ...         ...   \n",
       "2288   0.0   0.0  0.0      0.0  0.0     0.0     0.0        0.0         0.0   \n",
       "3640   0.0   0.0  0.0      0.0  0.0     0.0     0.0        0.0         0.0   \n",
       "4518   0.0   0.0  0.0      0.0  0.0     0.0     0.0        0.0         0.0   \n",
       "5139   0.0   0.0  0.0      0.0  0.0     0.0     0.0        0.0         0.0   \n",
       "3995   0.0   0.0  0.0      0.0  0.0     0.0     0.0        0.0         0.0   \n",
       "\n",
       "      accord  ...  year  yesterday  york  young  yvett  zero  zivley  zone  \\\n",
       "3324     0.0  ...   0.0        0.0   0.0    0.0    0.0   0.0     0.0   0.0   \n",
       "1531     0.0  ...   0.0        0.0   0.0    0.0    0.0   0.0     0.0   0.0   \n",
       "932      0.0  ...   0.0        0.0   0.0    0.0    0.0   0.0     0.0   0.0   \n",
       "2029     0.0  ...   0.0        0.0   0.0    0.0    0.0   0.0     0.0   0.0   \n",
       "5026     0.0  ...   0.0        0.0   0.0    0.0    0.0   0.0     0.0   0.0   \n",
       "...      ...  ...   ...        ...   ...    ...    ...   ...     ...   ...   \n",
       "2288     0.0  ...   0.0        0.0   0.0    0.0    0.0   0.0     0.0   0.0   \n",
       "3640     0.0  ...   0.0        0.0   0.0    0.0    0.0   0.0     0.0   0.0   \n",
       "4518     0.0  ...   0.0        0.0   0.0    0.0    0.0   0.0     0.0   0.0   \n",
       "5139     0.0  ...   0.0        0.0   0.0    0.0    0.0   0.0     0.0   0.0   \n",
       "3995     0.0  ...   0.0        0.0   0.0    0.0    0.0   0.0     0.0   0.0   \n",
       "\n",
       "      zonedubai  Target  \n",
       "3324        0.0       1  \n",
       "1531        0.0       0  \n",
       "932         0.0       0  \n",
       "2029        0.0       0  \n",
       "5026        0.0       1  \n",
       "...         ...     ...  \n",
       "2288        0.0       0  \n",
       "3640        0.0       1  \n",
       "4518        0.0       0  \n",
       "5139        0.0       0  \n",
       "3995        0.0       1  \n",
       "\n",
       "[5171 rows x 2101 columns]"
      ]
     },
     "execution_count": 44,
     "metadata": {},
     "output_type": "execute_result"
    }
   ],
   "source": [
    "dfTfidfArrayTest2 = pd.DataFrame(data=tfidfTransformTest2.toarray(), columns=tfidfVectorizerTest2.get_feature_names_out())\n",
    "dfTfidfArrayTest2.insert(len(dfTfidfArrayTest2.columns), \"Target\", targetTest.array, True)\n",
    "dfTfidfArrayTest2 = dfTfidfArrayTest2.sample(frac=1)\n",
    "dfTfidfArrayTest2\n"
   ]
  },
  {
   "cell_type": "code",
   "execution_count": null,
   "metadata": {
    "pycharm": {
     "name": "#%%\n"
    }
   },
   "outputs": [],
   "source": [
    "\n",
    "\n",
    "modelTest = TSNE(n_components=2, random_state=0)\n",
    "#modelTest = PCA(n_components=50)\n",
    "array_redTest = modelTest.fit_transform(dfTfidfArrayTest)\n",
    "\n",
    "df_tsneTest = pd.DataFrame(array_redTest)\n",
    "df_tsneTest['Target'] = targetTest3.array\n",
    "\n",
    "df_tsne_c1Test = df_tsneTest[df_tsneTest['Target'] == 0]\n",
    "\n",
    "df_tsne_c2Test  = df_tsneTest[df_tsneTest['Target'] == 1]\n",
    "\n",
    "plt.scatter(df_tsne_c1Test[0].array,df_tsne_c1Test[1].array,marker='o',color='blue')\n",
    "\n",
    "plt.scatter(df_tsne_c2Test[0].array,df_tsne_c2Test[1].array,marker='o',color='red')\n",
    "\n",
    "plt.title('Dados')\n",
    "plt.xlabel('x')\n",
    "plt.ylabel('y')\n",
    "\n",
    "plt.show()\n"
   ]
  },
  {
   "cell_type": "code",
   "execution_count": 36,
   "metadata": {
    "pycharm": {
     "name": "#%%\n"
    }
   },
   "outputs": [
    {
     "name": "stdout",
     "output_type": "stream",
     "text": [
      "          abil  abl  absolut      abus  acceler  accept    access  accessori  \\\n",
      "spam82     0.0  0.0      0.0  0.000000      0.0     0.0  0.000000        0.0   \n",
      "ham1928    0.0  0.0      0.0  0.000000      0.0     0.0  0.000000        0.0   \n",
      "ham1110    0.0  0.0      0.0  0.000000      0.0     0.0  0.000000        0.0   \n",
      "ham2350    0.0  0.0      0.0  0.000000      0.0     0.0  0.089848        0.0   \n",
      "ham888     0.0  0.0      0.0  0.000000      0.0     0.0  0.000000        0.0   \n",
      "...        ...  ...      ...       ...      ...     ...       ...        ...   \n",
      "ham1694    0.0  0.0      0.0  0.000000      0.0     0.0  0.000000        0.0   \n",
      "spam1339   0.0  0.0      0.0  0.000000      0.0     0.0  0.000000        0.0   \n",
      "spam60     0.0  0.0      0.0  0.000000      0.0     0.0  0.000000        0.0   \n",
      "spam31     0.0  0.0      0.0  0.123294      0.0     0.0  0.000000        0.0   \n",
      "spam1978   0.0  0.0      0.0  0.000000      0.0     0.0  0.000000        0.0   \n",
      "\n",
      "          accord  account  ...  yap        ye  yeah  year  yesterday  york  \\\n",
      "spam82       0.0      0.0  ...  0.0  0.000000   0.0   0.0        0.0   0.0   \n",
      "ham1928      0.0      0.0  ...  0.0  0.000000   0.0   0.0        0.0   0.0   \n",
      "ham1110      0.0      0.0  ...  0.0  0.000000   0.0   0.0        0.0   0.0   \n",
      "ham2350      0.0      0.0  ...  0.0  0.000000   0.0   0.0        0.0   0.0   \n",
      "ham888       0.0      0.0  ...  0.0  0.000000   0.0   0.0        0.0   0.0   \n",
      "...          ...      ...  ...  ...       ...   ...   ...        ...   ...   \n",
      "ham1694      0.0      0.0  ...  0.0  0.000000   0.0   0.0        0.0   0.0   \n",
      "spam1339     0.0      0.0  ...  0.0  0.000000   0.0   0.0        0.0   0.0   \n",
      "spam60       0.0      0.0  ...  0.0  0.000000   0.0   0.0        0.0   0.0   \n",
      "spam31       0.0      0.0  ...  0.0  0.083659   0.0   0.0        0.0   0.0   \n",
      "spam1978     0.0      0.0  ...  0.0  0.000000   0.0   0.0        0.0   0.0   \n",
      "\n",
      "          young  zero  zimbabw  zone  \n",
      "spam82      0.0   0.0      0.0   0.0  \n",
      "ham1928     0.0   0.0      0.0   0.0  \n",
      "ham1110     0.0   0.0      0.0   0.0  \n",
      "ham2350     0.0   0.0      0.0   0.0  \n",
      "ham888      0.0   0.0      0.0   0.0  \n",
      "...         ...   ...      ...   ...  \n",
      "ham1694     0.0   0.0      0.0   0.0  \n",
      "spam1339    0.0   0.0      0.0   0.0  \n",
      "spam60      0.0   0.0      0.0   0.0  \n",
      "spam31      0.0   0.0      0.0   0.0  \n",
      "spam1978    0.0   0.0      0.0   0.0  \n",
      "\n",
      "[4551 rows x 2100 columns]\n",
      "        aa  abil      abl  absolut  abus  accept   access  accomplish  accord  \\\n",
      "1327   0.0   0.0  0.00000      0.0   0.0     0.0  0.00000         0.0     0.0   \n",
      "8194   0.0   0.0  0.00000      0.0   0.0     0.0  0.00000         0.0     0.0   \n",
      "14958  0.0   0.0  0.00000      0.0   0.0     0.0  0.00000         0.0     0.0   \n",
      "5614   0.0   0.0  0.00000      0.0   0.0     0.0  0.00000         0.0     0.0   \n",
      "703    0.0   0.0  0.00000      0.0   0.0     0.0  0.00000         0.0     0.0   \n",
      "...    ...   ...      ...      ...   ...     ...      ...         ...     ...   \n",
      "29992  0.0   0.0  0.00000      0.0   0.0     0.0  0.00000         0.0     0.0   \n",
      "30790  0.0   0.0  0.00000      0.0   0.0     0.0  0.08161         0.0     0.0   \n",
      "11338  0.0   0.0  0.07552      0.0   0.0     0.0  0.00000         0.0     0.0   \n",
      "16570  0.0   0.0  0.00000      0.0   0.0     0.0  0.00000         0.0     0.0   \n",
      "24123  0.0   0.0  0.00000      0.0   0.0     0.0  0.00000         0.0     0.0   \n",
      "\n",
      "       account  ...   ye      year  yesterday  yield   yo  york  young  zero  \\\n",
      "1327       0.0  ...  0.0  0.000000        0.0    0.0  0.0   0.0    0.0   0.0   \n",
      "8194       0.0  ...  0.0  0.110548        0.0    0.0  0.0   0.0    0.0   0.0   \n",
      "14958      0.0  ...  0.0  0.000000        0.0    0.0  0.0   0.0    0.0   0.0   \n",
      "5614       0.0  ...  0.0  0.000000        0.0    0.0  0.0   0.0    0.0   0.0   \n",
      "703        0.0  ...  0.0  0.000000        0.0    0.0  0.0   0.0    0.0   0.0   \n",
      "...        ...  ...  ...       ...        ...    ...  ...   ...    ...   ...   \n",
      "29992      0.0  ...  0.0  0.000000        0.0    0.0  0.0   0.0    0.0   0.0   \n",
      "30790      0.0  ...  0.0  0.062924        0.0    0.0  0.0   0.0    0.0   0.0   \n",
      "11338      0.0  ...  0.0  0.000000        0.0    0.0  0.0   0.0    0.0   0.0   \n",
      "16570      0.0  ...  0.0  0.000000        0.0    0.0  0.0   0.0    0.0   0.0   \n",
      "24123      0.0  ...  0.0  0.000000        0.0    0.0  0.0   0.0    0.0   0.0   \n",
      "\n",
      "       zimin  zone  \n",
      "1327     0.0   0.0  \n",
      "8194     0.0   0.0  \n",
      "14958    0.0   0.0  \n",
      "5614     0.0   0.0  \n",
      "703      0.0   0.0  \n",
      "...      ...   ...  \n",
      "29992    0.0   0.0  \n",
      "30790    0.0   0.0  \n",
      "11338    0.0   0.0  \n",
      "16570    0.0   0.0  \n",
      "24123    0.0   0.0  \n",
      "\n",
      "[33345 rows x 2100 columns]\n"
     ]
    },
    {
     "data": {
      "text/plain": [
       "<PandasArray>\n",
       "[1, 0, 0, 0, 1, 0, 0, 0, 1, 1,\n",
       " ...\n",
       " 0, 0, 1, 1, 1, 0, 1, 0, 0, 1]\n",
       "Length: 33345, dtype: int64"
      ]
     },
     "execution_count": 36,
     "metadata": {},
     "output_type": "execute_result"
    }
   ],
   "source": [
    "dfTfidfArrayTarget = dfTfidfArray[\"Target\"].array\n",
    "dfTfidfArrayFeatures = dfTfidfArray.drop(columns=['Target'])\n",
    "\n",
    "print(dfTfidfArrayFeatures)\n",
    "\n",
    "dfTfidfArrayTargetTest = dfTfidfArrayTest[\"Target\"].array\n",
    "dfTfidfArrayFeaturesTest = dfTfidfArrayTest.drop(columns=['Target'])\n",
    "\n",
    "\n",
    "\n",
    "print(dfTfidfArrayFeaturesTest)\n",
    "dfTfidfArrayTargetTest"
   ]
  },
  {
   "cell_type": "code",
   "execution_count": 45,
   "metadata": {
    "pycharm": {
     "name": "#%%\n"
    }
   },
   "outputs": [],
   "source": [
    "dfTfidfArrayTargetTest2 = dfTfidfArrayTest2[\"Target\"].array\n",
    "dfTfidfArrayFeaturesTest2 = dfTfidfArrayTest2.drop(columns=['Target'])"
   ]
  },
  {
   "cell_type": "code",
   "execution_count": 48,
   "metadata": {
    "pycharm": {
     "name": "#%%\n"
    }
   },
   "outputs": [
    {
     "data": {
      "text/html": [
       "<div>\n",
       "<style scoped>\n",
       "    .dataframe tbody tr th:only-of-type {\n",
       "        vertical-align: middle;\n",
       "    }\n",
       "\n",
       "    .dataframe tbody tr th {\n",
       "        vertical-align: top;\n",
       "    }\n",
       "\n",
       "    .dataframe thead th {\n",
       "        text-align: right;\n",
       "    }\n",
       "</style>\n",
       "<table border=\"1\" class=\"dataframe\">\n",
       "  <thead>\n",
       "    <tr style=\"text-align: right;\">\n",
       "      <th></th>\n",
       "      <th>0</th>\n",
       "      <th>1</th>\n",
       "    </tr>\n",
       "  </thead>\n",
       "  <tbody>\n",
       "    <tr>\n",
       "      <th>0</th>\n",
       "      <td>733</td>\n",
       "      <td>9</td>\n",
       "    </tr>\n",
       "    <tr>\n",
       "      <th>1</th>\n",
       "      <td>10</td>\n",
       "      <td>283</td>\n",
       "    </tr>\n",
       "  </tbody>\n",
       "</table>\n",
       "</div>"
      ],
      "text/plain": [
       "     0    1\n",
       "0  733    9\n",
       "1   10  283"
      ]
     },
     "execution_count": 48,
     "metadata": {},
     "output_type": "execute_result"
    }
   ],
   "source": [
    "#from sklearn.svm import LinearSVC\n",
    "\n",
    "X_treino, X_teste, y_treino, y_teste = train_test_split(dfTfidfArrayFeaturesTest2.values,dfTfidfArrayTargetTest2,test_size=0.2)\n",
    "X_treinoTest, X_testeTest, y_treinoTest, y_testeTest = train_test_split(dfTfidfArrayFeaturesTest.values,dfTfidfArrayTargetTest,test_size=0.01)\n",
    "modelo = getModel().fit(X_treino,y_treino)\n",
    "modelo2 = getModel().fit(X_treinoTest,y_treinoTest)\n",
    "predict = modelo.predict(X_teste)\n",
    "#score = modelo.score(X_treinoTest,y_treinoTest)\n",
    "#score2 = modelo2.score(X_treino,y_treino)\n",
    "\n",
    "cmTest = confusion_matrix(y_teste,predict)\n",
    "cm_dfTest = pd.DataFrame(cmTest, columns=[0, 1])\n",
    "\n",
    "cm_dfTest"
   ]
  },
  {
   "cell_type": "code",
   "execution_count": 48,
   "metadata": {
    "pycharm": {
     "name": "#%%\n"
    }
   },
   "outputs": [],
   "source": [
    "#predicoesTest = cross_val_predict(modelo2, dfTfidfArrayFeaturesTest.values, dfTfidfArrayTargetTest, cv=10)\n",
    "\n",
    "#cmTest = confusion_matrix(dfTfidfArrayTargetTest,predicoesTest,labels=[0, 1])\n",
    "\n",
    "#cm_dfTest = pd.DataFrame(cmTest, columns=[0, 1])\n",
    "\n",
    "#cm_dfTest"
   ]
  },
  {
   "cell_type": "code",
   "execution_count": null,
   "metadata": {
    "pycharm": {
     "name": "#%%\n"
    }
   },
   "outputs": [],
   "source": []
  }
 ],
 "metadata": {
  "kernelspec": {
   "display_name": "Python 3",
   "language": "python",
   "name": "python3"
  },
  "language_info": {
   "codemirror_mode": {
    "name": "ipython",
    "version": 3
   },
   "file_extension": ".py",
   "mimetype": "text/x-python",
   "name": "python",
   "nbconvert_exporter": "python",
   "pygments_lexer": "ipython3",
   "version": "3.8.8"
  }
 },
 "nbformat": 4,
 "nbformat_minor": 1
}