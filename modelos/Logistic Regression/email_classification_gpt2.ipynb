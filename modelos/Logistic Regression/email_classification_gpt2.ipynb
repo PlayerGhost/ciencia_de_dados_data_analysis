{
 "cells": [
  {
   "cell_type": "code",
   "execution_count": 1,
   "outputs": [],
   "source": [
    "import pandas as pd\n",
    "from sklearn.linear_model import LogisticRegression\n",
    "from sklearn.model_selection import train_test_split, cross_val_score, cross_val_predict\n",
    "from sklearn.manifold import TSNE\n",
    "from sklearn.metrics import classification_report\n",
    "import scikitplot as skplt\n",
    "import matplotlib.pyplot as plt\n",
    "from simpletransformers.language_representation import RepresentationModel"
   ],
   "metadata": {
    "collapsed": false,
    "pycharm": {
     "name": "#%%\n"
    }
   }
  },
  {
   "cell_type": "markdown",
   "source": [
    "# Carregando base de dados  pré-processada"
   ],
   "metadata": {
    "collapsed": false,
    "pycharm": {
     "name": "#%% md\n"
    }
   }
  },
  {
   "cell_type": "code",
   "execution_count": 2,
   "outputs": [
    {
     "data": {
      "text/plain": "                                                   email  target\n0      start date     hourahead timee  cardinall  hou...       0\n1      service long desk  price structure deal quote ...       0\n2      start date  cardinall    hourahead timee  card...       0\n3      start date     hourahead timee  cardinall  anc...       0\n4      cardinall deliverable revenue management marke...       0\n...                                                  ...     ...\n33340  bio  matrix scientific group   symbo   bmxg  p...       1\n33341   cardinall step away hot naked webcam girl liv...       1\n33342  need pill increase performance click  seroius ...       1\n33343  datee final nom       inlet hpl  eastrans  car...       0\n33344  ordinall time  offering male enhancement perfo...       1\n\n[33341 rows x 2 columns]",
      "text/html": "<div>\n<style scoped>\n    .dataframe tbody tr th:only-of-type {\n        vertical-align: middle;\n    }\n\n    .dataframe tbody tr th {\n        vertical-align: top;\n    }\n\n    .dataframe thead th {\n        text-align: right;\n    }\n</style>\n<table border=\"1\" class=\"dataframe\">\n  <thead>\n    <tr style=\"text-align: right;\">\n      <th></th>\n      <th>email</th>\n      <th>target</th>\n    </tr>\n  </thead>\n  <tbody>\n    <tr>\n      <th>0</th>\n      <td>start date     hourahead timee  cardinall  hou...</td>\n      <td>0</td>\n    </tr>\n    <tr>\n      <th>1</th>\n      <td>service long desk  price structure deal quote ...</td>\n      <td>0</td>\n    </tr>\n    <tr>\n      <th>2</th>\n      <td>start date  cardinall    hourahead timee  card...</td>\n      <td>0</td>\n    </tr>\n    <tr>\n      <th>3</th>\n      <td>start date     hourahead timee  cardinall  anc...</td>\n      <td>0</td>\n    </tr>\n    <tr>\n      <th>4</th>\n      <td>cardinall deliverable revenue management marke...</td>\n      <td>0</td>\n    </tr>\n    <tr>\n      <th>...</th>\n      <td>...</td>\n      <td>...</td>\n    </tr>\n    <tr>\n      <th>33340</th>\n      <td>bio  matrix scientific group   symbo   bmxg  p...</td>\n      <td>1</td>\n    </tr>\n    <tr>\n      <th>33341</th>\n      <td>cardinall step away hot naked webcam girl liv...</td>\n      <td>1</td>\n    </tr>\n    <tr>\n      <th>33342</th>\n      <td>need pill increase performance click  seroius ...</td>\n      <td>1</td>\n    </tr>\n    <tr>\n      <th>33343</th>\n      <td>datee final nom       inlet hpl  eastrans  car...</td>\n      <td>0</td>\n    </tr>\n    <tr>\n      <th>33344</th>\n      <td>ordinall time  offering male enhancement perfo...</td>\n      <td>1</td>\n    </tr>\n  </tbody>\n</table>\n<p>33341 rows × 2 columns</p>\n</div>"
     },
     "execution_count": 2,
     "metadata": {},
     "output_type": "execute_result"
    }
   ],
   "source": [
    "database = pd.read_csv(\"../../Database/dataBaseWithNER.csv\")\n",
    "\n",
    "database = database.drop(columns=[\"Unnamed: 0\"])\n",
    "database = database.dropna()\n",
    "target = database[\"target\"].values.tolist()\n",
    "database"
   ],
   "metadata": {
    "collapsed": false,
    "pycharm": {
     "name": "#%%\n"
    }
   }
  },
  {
   "cell_type": "code",
   "execution_count": 3,
   "outputs": [],
   "source": [
    "emailsText = []\n",
    "for email in database[\"email\"]:\n",
    "    emailsText.append(email)"
   ],
   "metadata": {
    "collapsed": false,
    "pycharm": {
     "name": "#%%\n"
    }
   }
  },
  {
   "cell_type": "code",
   "execution_count": 4,
   "outputs": [
    {
     "name": "stdout",
     "output_type": "stream",
     "text": [
      "33341\n"
     ]
    }
   ],
   "source": [
    "print(len(emailsText))"
   ],
   "metadata": {
    "collapsed": false,
    "pycharm": {
     "name": "#%%\n"
    }
   }
  },
  {
   "cell_type": "markdown",
   "source": [
    "# Representação vetorial GPT2"
   ],
   "metadata": {
    "collapsed": false,
    "pycharm": {
     "name": "#%% md\n"
    }
   }
  },
  {
   "cell_type": "code",
   "execution_count": 5,
   "outputs": [
    {
     "name": "stderr",
     "output_type": "stream",
     "text": [
      "Some weights of the model checkpoint at gpt2 were not used when initializing GPT2ForTextRepresentation: ['h.9.attn.c_attn.weight', 'h.8.ln_1.bias', 'ln_f.weight', 'h.0.ln_1.weight', 'h.9.ln_1.weight', 'h.9.mlp.c_proj.bias', 'h.4.ln_1.weight', 'h.10.mlp.c_fc.weight', 'h.0.mlp.c_fc.weight', 'h.11.attn.c_attn.bias', 'h.9.attn.bias', 'h.8.mlp.c_fc.bias', 'h.1.attn.c_attn.bias', 'h.11.mlp.c_proj.weight', 'h.3.ln_1.weight', 'h.3.mlp.c_proj.weight', 'h.7.ln_2.weight', 'h.1.mlp.c_proj.weight', 'h.3.attn.c_proj.weight', 'h.4.mlp.c_fc.bias', 'h.2.mlp.c_fc.bias', 'h.1.mlp.c_fc.weight', 'h.6.attn.c_attn.weight', 'h.0.attn.c_attn.weight', 'h.0.mlp.c_proj.bias', 'h.8.attn.c_proj.weight', 'h.2.ln_2.weight', 'h.1.attn.bias', 'h.11.ln_2.weight', 'h.0.ln_2.weight', 'h.9.attn.c_proj.bias', 'h.11.mlp.c_fc.bias', 'h.6.attn.c_proj.bias', 'h.10.ln_2.weight', 'h.7.attn.bias', 'h.5.ln_2.bias', 'h.5.ln_1.weight', 'h.1.ln_2.bias', 'h.4.attn.c_attn.weight', 'h.4.ln_1.bias', 'h.6.ln_1.weight', 'h.5.mlp.c_proj.weight', 'h.11.mlp.c_fc.weight', 'h.7.attn.c_attn.bias', 'h.0.attn.bias', 'h.10.ln_1.weight', 'h.6.attn.bias', 'h.0.attn.c_proj.bias', 'h.4.attn.c_proj.weight', 'h.8.mlp.c_proj.weight', 'h.3.attn.c_attn.bias', 'h.2.attn.c_attn.bias', 'h.10.mlp.c_proj.weight', 'h.8.ln_2.weight', 'h.1.attn.c_proj.weight', 'h.0.ln_2.bias', 'h.7.mlp.c_fc.weight', 'h.6.attn.c_attn.bias', 'h.8.ln_2.bias', 'h.8.attn.c_attn.weight', 'h.10.attn.c_proj.weight', 'h.7.ln_1.weight', 'h.2.ln_1.bias', 'h.9.mlp.c_fc.bias', 'h.7.mlp.c_fc.bias', 'h.6.ln_1.bias', 'h.4.attn.c_attn.bias', 'h.2.attn.c_proj.weight', 'h.9.mlp.c_fc.weight', 'h.11.attn.c_proj.bias', 'h.5.mlp.c_fc.weight', 'h.5.attn.c_proj.weight', 'h.6.mlp.c_proj.bias', 'h.8.attn.c_proj.bias', 'h.9.ln_2.weight', 'h.4.attn.c_proj.bias', 'h.4.attn.bias', 'h.10.attn.c_attn.weight', 'h.5.attn.bias', 'h.7.mlp.c_proj.weight', 'h.11.attn.c_proj.weight', 'h.9.attn.c_proj.weight', 'h.3.ln_2.weight', 'h.5.ln_2.weight', 'h.0.mlp.c_proj.weight', 'h.9.mlp.c_proj.weight', 'h.6.ln_2.bias', 'h.8.mlp.c_proj.bias', 'h.8.attn.c_attn.bias', 'h.10.ln_1.bias', 'ln_f.bias', 'h.3.mlp.c_fc.bias', 'h.11.attn.bias', 'h.2.ln_1.weight', 'h.1.mlp.c_proj.bias', 'h.1.mlp.c_fc.bias', 'h.9.ln_1.bias', 'h.10.ln_2.bias', 'h.11.ln_1.bias', 'h.3.ln_2.bias', 'wpe.weight', 'h.0.mlp.c_fc.bias', 'h.6.mlp.c_fc.bias', 'h.0.attn.c_attn.bias', 'h.1.ln_1.weight', 'h.9.attn.c_attn.bias', 'h.4.mlp.c_proj.weight', 'h.7.attn.c_attn.weight', 'h.0.ln_1.bias', 'h.7.ln_1.bias', 'h.1.attn.c_attn.weight', 'h.6.ln_2.weight', 'h.3.attn.c_proj.bias', 'h.8.ln_1.weight', 'h.10.attn.bias', 'h.3.attn.bias', 'h.7.mlp.c_proj.bias', 'h.7.attn.c_proj.weight', 'h.11.ln_1.weight', 'h.6.mlp.c_fc.weight', 'h.10.attn.c_proj.bias', 'h.1.ln_1.bias', 'h.8.attn.bias', 'h.2.mlp.c_proj.weight', 'h.11.ln_2.bias', 'h.2.attn.c_proj.bias', 'h.0.attn.c_proj.weight', 'h.5.ln_1.bias', 'h.3.mlp.c_fc.weight', 'h.5.mlp.c_fc.bias', 'h.10.mlp.c_fc.bias', 'h.5.attn.c_proj.bias', 'h.2.attn.bias', 'wte.weight', 'h.3.attn.c_attn.weight', 'h.10.mlp.c_proj.bias', 'h.4.mlp.c_proj.bias', 'h.2.mlp.c_fc.weight', 'h.1.ln_2.weight', 'h.7.ln_2.bias', 'h.3.ln_1.bias', 'h.4.ln_2.bias', 'h.4.mlp.c_fc.weight', 'h.7.attn.c_proj.bias', 'h.11.attn.c_attn.weight', 'h.4.ln_2.weight', 'h.6.mlp.c_proj.weight', 'h.11.mlp.c_proj.bias', 'h.9.ln_2.bias', 'h.10.attn.c_attn.bias', 'h.5.attn.c_attn.bias', 'h.6.attn.c_proj.weight', 'h.5.attn.c_attn.weight', 'h.2.attn.c_attn.weight', 'h.8.mlp.c_fc.weight', 'h.2.ln_2.bias', 'h.1.attn.c_proj.bias', 'h.3.mlp.c_proj.bias', 'h.5.mlp.c_proj.bias', 'h.2.mlp.c_proj.bias']\n",
      "- This IS expected if you are initializing GPT2ForTextRepresentation from the checkpoint of a model trained on another task or with another architecture (e.g. initializing a BertForSequenceClassification model from a BertForPreTraining model).\n",
      "- This IS NOT expected if you are initializing GPT2ForTextRepresentation from the checkpoint of a model that you expect to be exactly identical (initializing a BertForSequenceClassification model from a BertForSequenceClassification model).\n",
      "Some weights of GPT2ForTextRepresentation were not initialized from the model checkpoint at gpt2 and are newly initialized: ['gpt2.h.11.attn.c_attn.weight', 'gpt2.h.11.attn.masked_bias', 'gpt2.h.7.mlp.c_proj.weight', 'gpt2.h.3.attn.c_proj.weight', 'gpt2.h.2.attn.bias', 'gpt2.h.11.mlp.c_fc.bias', 'gpt2.h.4.mlp.c_proj.weight', 'gpt2.h.0.mlp.c_proj.bias', 'gpt2.h.11.ln_2.bias', 'gpt2.h.8.attn.bias', 'gpt2.h.1.mlp.c_proj.bias', 'gpt2.h.0.attn.masked_bias', 'gpt2.wte.weight', 'gpt2.h.1.attn.c_proj.weight', 'gpt2.h.7.attn.c_proj.weight', 'gpt2.h.6.attn.masked_bias', 'gpt2.h.2.mlp.c_fc.weight', 'gpt2.h.2.ln_1.weight', 'gpt2.h.9.attn.masked_bias', 'gpt2.h.4.ln_1.bias', 'gpt2.h.2.attn.masked_bias', 'gpt2.h.0.ln_2.weight', 'gpt2.h.7.mlp.c_fc.weight', 'gpt2.h.3.attn.bias', 'gpt2.h.1.attn.c_attn.weight', 'gpt2.wpe.weight', 'gpt2.h.3.mlp.c_fc.bias', 'gpt2.h.6.mlp.c_proj.bias', 'gpt2.h.11.mlp.c_proj.weight', 'gpt2.h.8.attn.c_proj.bias', 'gpt2.h.8.mlp.c_fc.bias', 'gpt2.h.0.mlp.c_proj.weight', 'gpt2.h.2.mlp.c_proj.bias', 'gpt2.h.7.attn.c_attn.weight', 'gpt2.h.6.mlp.c_proj.weight', 'gpt2.h.4.ln_2.bias', 'gpt2.h.2.ln_2.bias', 'gpt2.h.5.mlp.c_fc.bias', 'gpt2.h.4.attn.c_attn.bias', 'gpt2.h.7.ln_2.weight', 'gpt2.h.9.mlp.c_proj.bias', 'gpt2.h.9.attn.c_attn.weight', 'gpt2.h.0.mlp.c_fc.weight', 'gpt2.h.5.ln_1.bias', 'gpt2.h.6.ln_2.weight', 'gpt2.h.10.attn.c_attn.weight', 'gpt2.h.8.ln_1.weight', 'gpt2.h.9.attn.c_attn.bias', 'gpt2.h.1.mlp.c_fc.weight', 'gpt2.h.5.attn.c_attn.bias', 'gpt2.h.1.attn.c_attn.bias', 'gpt2.h.2.mlp.c_fc.bias', 'gpt2.h.4.attn.masked_bias', 'gpt2.h.5.attn.bias', 'gpt2.h.6.mlp.c_fc.bias', 'gpt2.h.4.attn.bias', 'gpt2.h.9.ln_2.weight', 'gpt2.h.5.attn.c_proj.weight', 'gpt2.h.5.mlp.c_proj.weight', 'gpt2.h.5.ln_2.weight', 'gpt2.h.10.ln_2.weight', 'gpt2.h.8.attn.c_attn.bias', 'gpt2.h.10.mlp.c_proj.bias', 'gpt2.h.7.mlp.c_fc.bias', 'gpt2.h.1.attn.c_proj.bias', 'gpt2.h.5.ln_1.weight', 'gpt2.h.11.attn.c_attn.bias', 'gpt2.h.7.ln_2.bias', 'gpt2.h.10.attn.c_proj.bias', 'gpt2.h.5.attn.c_proj.bias', 'gpt2.h.6.mlp.c_fc.weight', 'gpt2.h.6.attn.c_attn.bias', 'gpt2.h.10.attn.c_proj.weight', 'gpt2.h.11.mlp.c_fc.weight', 'gpt2.h.6.ln_2.bias', 'gpt2.h.0.attn.bias', 'gpt2.h.0.ln_1.weight', 'gpt2.h.9.attn.bias', 'gpt2.h.3.attn.masked_bias', 'gpt2.h.10.mlp.c_fc.weight', 'gpt2.h.4.attn.c_proj.weight', 'gpt2.h.11.attn.bias', 'gpt2.h.7.ln_1.weight', 'gpt2.h.11.mlp.c_proj.bias', 'gpt2.h.0.ln_1.bias', 'gpt2.h.5.mlp.c_proj.bias', 'gpt2.h.2.attn.c_attn.weight', 'gpt2.h.4.ln_1.weight', 'gpt2.h.8.ln_2.bias', 'gpt2.h.5.ln_2.bias', 'gpt2.h.9.mlp.c_fc.weight', 'gpt2.h.10.attn.c_attn.bias', 'gpt2.h.3.attn.c_proj.bias', 'gpt2.h.5.attn.c_attn.weight', 'gpt2.h.6.attn.bias', 'gpt2.h.3.mlp.c_proj.weight', 'gpt2.h.7.mlp.c_proj.bias', 'gpt2.h.11.ln_2.weight', 'gpt2.h.1.attn.bias', 'gpt2.h.5.attn.masked_bias', 'gpt2.h.9.mlp.c_proj.weight', 'gpt2.h.1.attn.masked_bias', 'gpt2.h.8.attn.masked_bias', 'gpt2.h.9.ln_1.bias', 'gpt2.h.3.ln_1.bias', 'gpt2.h.3.mlp.c_fc.weight', 'gpt2.h.6.attn.c_proj.bias', 'gpt2.h.8.mlp.c_proj.weight', 'gpt2.h.7.attn.bias', 'gpt2.h.9.attn.c_proj.bias', 'gpt2.h.1.mlp.c_fc.bias', 'gpt2.h.7.attn.c_attn.bias', 'gpt2.h.10.attn.masked_bias', 'gpt2.h.3.ln_2.weight', 'gpt2.h.6.attn.c_proj.weight', 'gpt2.h.1.mlp.c_proj.weight', 'gpt2.h.2.mlp.c_proj.weight', 'gpt2.h.1.ln_2.bias', 'gpt2.ln_f.weight', 'gpt2.h.11.attn.c_proj.weight', 'gpt2.h.8.ln_1.bias', 'gpt2.h.7.ln_1.bias', 'gpt2.h.2.attn.c_proj.weight', 'gpt2.h.4.mlp.c_fc.bias', 'gpt2.h.2.ln_1.bias', 'gpt2.h.10.ln_1.bias', 'gpt2.h.0.mlp.c_fc.bias', 'gpt2.h.9.ln_2.bias', 'gpt2.h.1.ln_1.bias', 'gpt2.h.3.ln_1.weight', 'gpt2.h.10.attn.bias', 'gpt2.h.0.ln_2.bias', 'gpt2.h.1.ln_1.weight', 'gpt2.h.4.ln_2.weight', 'gpt2.h.0.attn.c_proj.weight', 'gpt2.h.7.attn.masked_bias', 'gpt2.h.11.attn.c_proj.bias', 'gpt2.h.3.attn.c_attn.weight', 'gpt2.h.10.ln_1.weight', 'gpt2.h.8.ln_2.weight', 'gpt2.h.0.attn.c_attn.weight', 'gpt2.h.4.attn.c_proj.bias', 'gpt2.h.8.mlp.c_fc.weight', 'gpt2.h.4.mlp.c_fc.weight', 'gpt2.h.2.attn.c_attn.bias', 'gpt2.h.6.ln_1.weight', 'gpt2.h.6.ln_1.bias', 'gpt2.h.0.attn.c_proj.bias', 'gpt2.h.6.attn.c_attn.weight', 'gpt2.h.9.ln_1.weight', 'gpt2.h.10.mlp.c_proj.weight', 'gpt2.h.8.mlp.c_proj.bias', 'gpt2.h.4.mlp.c_proj.bias', 'gpt2.ln_f.bias', 'gpt2.h.8.attn.c_attn.weight', 'gpt2.h.9.mlp.c_fc.bias', 'gpt2.h.3.mlp.c_proj.bias', 'gpt2.h.4.attn.c_attn.weight', 'gpt2.h.0.attn.c_attn.bias', 'gpt2.h.1.ln_2.weight', 'gpt2.h.10.ln_2.bias', 'gpt2.h.8.attn.c_proj.weight', 'gpt2.h.7.attn.c_proj.bias', 'gpt2.h.10.mlp.c_fc.bias', 'gpt2.h.11.ln_1.weight', 'gpt2.h.2.attn.c_proj.bias', 'gpt2.h.2.ln_2.weight', 'gpt2.h.3.attn.c_attn.bias', 'gpt2.h.5.mlp.c_fc.weight', 'gpt2.h.11.ln_1.bias', 'gpt2.h.3.ln_2.bias', 'gpt2.h.9.attn.c_proj.weight']\n",
      "You should probably TRAIN this model on a down-stream task to be able to use it for predictions and inference.\n"
     ]
    },
    {
     "data": {
      "text/plain": "(33341, 768)"
     },
     "execution_count": 5,
     "metadata": {},
     "output_type": "execute_result"
    }
   ],
   "source": [
    "model=RepresentationModel(\n",
    "    model_type=\"gpt2\",\n",
    "    model_name=\"gpt2\",\n",
    "    use_cuda=True,\n",
    "    #fp16=True\n",
    ")\n",
    "\n",
    "vectorialRepresentation = model.encode_sentences(emailsText, combine_strategy=\"mean\")\n",
    "vectorialRepresentation.shape"
   ],
   "metadata": {
    "collapsed": false,
    "pycharm": {
     "name": "#%%\n"
    }
   }
  },
  {
   "cell_type": "code",
   "execution_count": 6,
   "outputs": [
    {
     "data": {
      "text/plain": "            0         1         2         3         4         5         6    \\\n0     -1.180585  1.685047 -0.247688  0.244176  1.639487 -0.148907 -1.269454   \n1      0.042137  0.234783 -0.694029 -0.511404 -0.176962 -1.406379 -0.005787   \n2     -1.041624  1.400864 -0.500168  0.331737  0.932272  0.185133 -0.297830   \n3     -0.947009  1.353148 -0.419411  0.346097  1.094315 -0.013509 -0.473880   \n4     -1.516011  0.857430 -0.510135  0.115402  0.065321  0.436097 -0.895152   \n...         ...       ...       ...       ...       ...       ...       ...   \n33336 -0.889034  0.683663 -0.588572  1.025862  0.313983  0.655944  0.822641   \n33337 -0.895086  1.254858 -0.287969 -0.673708 -0.119187  0.175529  0.235280   \n33338 -0.588686  1.175814  0.012772  0.307977  1.019542 -0.389794  0.545117   \n33339 -0.823804  0.789350 -0.971219  0.510404 -0.317382  0.205807  0.391339   \n33340 -0.768093  1.004164 -0.078843  0.824335  0.464693  1.212426 -0.779983   \n\n            7         8         9    ...       758       759       760  \\\n0     -0.733210  0.859209 -1.629672  ... -1.244390 -0.555612  1.265829   \n1     -0.867161  0.496273 -0.876520  ... -1.878522  0.077125  0.337367   \n2     -0.689504  0.803967 -1.434349  ... -0.962181 -0.426775  0.987191   \n3     -0.888433  1.002708 -1.677612  ... -1.345129 -0.444690  0.828690   \n4     -1.658839  1.079345 -1.468230  ... -0.976422 -0.468453  0.961628   \n...         ...       ...       ...  ...       ...       ...       ...   \n33336 -1.287457  0.137264 -1.133091  ... -2.099864 -1.032684  1.360773   \n33337 -1.366522  1.169080 -1.021029  ... -1.280308  0.064367  1.178361   \n33338 -1.312310  0.478355 -2.101674  ... -1.734722 -0.165121  0.566795   \n33339 -0.549990  0.406573 -0.453980  ... -1.614823 -0.560290  0.817409   \n33340 -1.459285  0.608791 -1.229506  ... -0.976434 -0.514345  0.310884   \n\n            761       762       763       764       765       766       767  \n0      0.899636  1.120950  0.541603  1.446730  0.561317 -0.633502  1.463410  \n1     -1.519463  0.755508 -0.617636 -0.554925  1.061157 -1.504272  0.239806  \n2      1.085149  1.217107  0.187048  1.140459  0.059014 -1.170008  1.300481  \n3      1.133767  1.207934  0.391894  1.416224  0.260090 -1.145165  1.261236  \n4      1.133084  0.858791 -0.718729  0.803619  0.013307 -0.974523  1.172534  \n...         ...       ...       ...       ...       ...       ...       ...  \n33336  0.356989  0.789790 -0.719076  1.037952  0.604034 -1.081341  0.464934  \n33337  0.168017  1.442854  0.020278 -0.142020 -0.740630 -1.321218  1.122154  \n33338  0.304622  1.071100 -0.715447  0.713129  0.857894 -1.086616  1.137268  \n33339  0.802873  0.791075 -0.123221  0.984027 -0.069876 -1.177447  1.798279  \n33340  0.183578  0.515484  0.058382  0.763493  0.073600 -0.462629  0.464157  \n\n[33341 rows x 768 columns]",
      "text/html": "<div>\n<style scoped>\n    .dataframe tbody tr th:only-of-type {\n        vertical-align: middle;\n    }\n\n    .dataframe tbody tr th {\n        vertical-align: top;\n    }\n\n    .dataframe thead th {\n        text-align: right;\n    }\n</style>\n<table border=\"1\" class=\"dataframe\">\n  <thead>\n    <tr style=\"text-align: right;\">\n      <th></th>\n      <th>0</th>\n      <th>1</th>\n      <th>2</th>\n      <th>3</th>\n      <th>4</th>\n      <th>5</th>\n      <th>6</th>\n      <th>7</th>\n      <th>8</th>\n      <th>9</th>\n      <th>...</th>\n      <th>758</th>\n      <th>759</th>\n      <th>760</th>\n      <th>761</th>\n      <th>762</th>\n      <th>763</th>\n      <th>764</th>\n      <th>765</th>\n      <th>766</th>\n      <th>767</th>\n    </tr>\n  </thead>\n  <tbody>\n    <tr>\n      <th>0</th>\n      <td>-1.180585</td>\n      <td>1.685047</td>\n      <td>-0.247688</td>\n      <td>0.244176</td>\n      <td>1.639487</td>\n      <td>-0.148907</td>\n      <td>-1.269454</td>\n      <td>-0.733210</td>\n      <td>0.859209</td>\n      <td>-1.629672</td>\n      <td>...</td>\n      <td>-1.244390</td>\n      <td>-0.555612</td>\n      <td>1.265829</td>\n      <td>0.899636</td>\n      <td>1.120950</td>\n      <td>0.541603</td>\n      <td>1.446730</td>\n      <td>0.561317</td>\n      <td>-0.633502</td>\n      <td>1.463410</td>\n    </tr>\n    <tr>\n      <th>1</th>\n      <td>0.042137</td>\n      <td>0.234783</td>\n      <td>-0.694029</td>\n      <td>-0.511404</td>\n      <td>-0.176962</td>\n      <td>-1.406379</td>\n      <td>-0.005787</td>\n      <td>-0.867161</td>\n      <td>0.496273</td>\n      <td>-0.876520</td>\n      <td>...</td>\n      <td>-1.878522</td>\n      <td>0.077125</td>\n      <td>0.337367</td>\n      <td>-1.519463</td>\n      <td>0.755508</td>\n      <td>-0.617636</td>\n      <td>-0.554925</td>\n      <td>1.061157</td>\n      <td>-1.504272</td>\n      <td>0.239806</td>\n    </tr>\n    <tr>\n      <th>2</th>\n      <td>-1.041624</td>\n      <td>1.400864</td>\n      <td>-0.500168</td>\n      <td>0.331737</td>\n      <td>0.932272</td>\n      <td>0.185133</td>\n      <td>-0.297830</td>\n      <td>-0.689504</td>\n      <td>0.803967</td>\n      <td>-1.434349</td>\n      <td>...</td>\n      <td>-0.962181</td>\n      <td>-0.426775</td>\n      <td>0.987191</td>\n      <td>1.085149</td>\n      <td>1.217107</td>\n      <td>0.187048</td>\n      <td>1.140459</td>\n      <td>0.059014</td>\n      <td>-1.170008</td>\n      <td>1.300481</td>\n    </tr>\n    <tr>\n      <th>3</th>\n      <td>-0.947009</td>\n      <td>1.353148</td>\n      <td>-0.419411</td>\n      <td>0.346097</td>\n      <td>1.094315</td>\n      <td>-0.013509</td>\n      <td>-0.473880</td>\n      <td>-0.888433</td>\n      <td>1.002708</td>\n      <td>-1.677612</td>\n      <td>...</td>\n      <td>-1.345129</td>\n      <td>-0.444690</td>\n      <td>0.828690</td>\n      <td>1.133767</td>\n      <td>1.207934</td>\n      <td>0.391894</td>\n      <td>1.416224</td>\n      <td>0.260090</td>\n      <td>-1.145165</td>\n      <td>1.261236</td>\n    </tr>\n    <tr>\n      <th>4</th>\n      <td>-1.516011</td>\n      <td>0.857430</td>\n      <td>-0.510135</td>\n      <td>0.115402</td>\n      <td>0.065321</td>\n      <td>0.436097</td>\n      <td>-0.895152</td>\n      <td>-1.658839</td>\n      <td>1.079345</td>\n      <td>-1.468230</td>\n      <td>...</td>\n      <td>-0.976422</td>\n      <td>-0.468453</td>\n      <td>0.961628</td>\n      <td>1.133084</td>\n      <td>0.858791</td>\n      <td>-0.718729</td>\n      <td>0.803619</td>\n      <td>0.013307</td>\n      <td>-0.974523</td>\n      <td>1.172534</td>\n    </tr>\n    <tr>\n      <th>...</th>\n      <td>...</td>\n      <td>...</td>\n      <td>...</td>\n      <td>...</td>\n      <td>...</td>\n      <td>...</td>\n      <td>...</td>\n      <td>...</td>\n      <td>...</td>\n      <td>...</td>\n      <td>...</td>\n      <td>...</td>\n      <td>...</td>\n      <td>...</td>\n      <td>...</td>\n      <td>...</td>\n      <td>...</td>\n      <td>...</td>\n      <td>...</td>\n      <td>...</td>\n      <td>...</td>\n    </tr>\n    <tr>\n      <th>33336</th>\n      <td>-0.889034</td>\n      <td>0.683663</td>\n      <td>-0.588572</td>\n      <td>1.025862</td>\n      <td>0.313983</td>\n      <td>0.655944</td>\n      <td>0.822641</td>\n      <td>-1.287457</td>\n      <td>0.137264</td>\n      <td>-1.133091</td>\n      <td>...</td>\n      <td>-2.099864</td>\n      <td>-1.032684</td>\n      <td>1.360773</td>\n      <td>0.356989</td>\n      <td>0.789790</td>\n      <td>-0.719076</td>\n      <td>1.037952</td>\n      <td>0.604034</td>\n      <td>-1.081341</td>\n      <td>0.464934</td>\n    </tr>\n    <tr>\n      <th>33337</th>\n      <td>-0.895086</td>\n      <td>1.254858</td>\n      <td>-0.287969</td>\n      <td>-0.673708</td>\n      <td>-0.119187</td>\n      <td>0.175529</td>\n      <td>0.235280</td>\n      <td>-1.366522</td>\n      <td>1.169080</td>\n      <td>-1.021029</td>\n      <td>...</td>\n      <td>-1.280308</td>\n      <td>0.064367</td>\n      <td>1.178361</td>\n      <td>0.168017</td>\n      <td>1.442854</td>\n      <td>0.020278</td>\n      <td>-0.142020</td>\n      <td>-0.740630</td>\n      <td>-1.321218</td>\n      <td>1.122154</td>\n    </tr>\n    <tr>\n      <th>33338</th>\n      <td>-0.588686</td>\n      <td>1.175814</td>\n      <td>0.012772</td>\n      <td>0.307977</td>\n      <td>1.019542</td>\n      <td>-0.389794</td>\n      <td>0.545117</td>\n      <td>-1.312310</td>\n      <td>0.478355</td>\n      <td>-2.101674</td>\n      <td>...</td>\n      <td>-1.734722</td>\n      <td>-0.165121</td>\n      <td>0.566795</td>\n      <td>0.304622</td>\n      <td>1.071100</td>\n      <td>-0.715447</td>\n      <td>0.713129</td>\n      <td>0.857894</td>\n      <td>-1.086616</td>\n      <td>1.137268</td>\n    </tr>\n    <tr>\n      <th>33339</th>\n      <td>-0.823804</td>\n      <td>0.789350</td>\n      <td>-0.971219</td>\n      <td>0.510404</td>\n      <td>-0.317382</td>\n      <td>0.205807</td>\n      <td>0.391339</td>\n      <td>-0.549990</td>\n      <td>0.406573</td>\n      <td>-0.453980</td>\n      <td>...</td>\n      <td>-1.614823</td>\n      <td>-0.560290</td>\n      <td>0.817409</td>\n      <td>0.802873</td>\n      <td>0.791075</td>\n      <td>-0.123221</td>\n      <td>0.984027</td>\n      <td>-0.069876</td>\n      <td>-1.177447</td>\n      <td>1.798279</td>\n    </tr>\n    <tr>\n      <th>33340</th>\n      <td>-0.768093</td>\n      <td>1.004164</td>\n      <td>-0.078843</td>\n      <td>0.824335</td>\n      <td>0.464693</td>\n      <td>1.212426</td>\n      <td>-0.779983</td>\n      <td>-1.459285</td>\n      <td>0.608791</td>\n      <td>-1.229506</td>\n      <td>...</td>\n      <td>-0.976434</td>\n      <td>-0.514345</td>\n      <td>0.310884</td>\n      <td>0.183578</td>\n      <td>0.515484</td>\n      <td>0.058382</td>\n      <td>0.763493</td>\n      <td>0.073600</td>\n      <td>-0.462629</td>\n      <td>0.464157</td>\n    </tr>\n  </tbody>\n</table>\n<p>33341 rows × 768 columns</p>\n</div>"
     },
     "execution_count": 6,
     "metadata": {},
     "output_type": "execute_result"
    }
   ],
   "source": [
    "gpt2Dataframe = pd.DataFrame(vectorialRepresentation)\n",
    "gpt2Dataframe"
   ],
   "metadata": {
    "collapsed": false,
    "pycharm": {
     "name": "#%%\n"
    }
   }
  },
  {
   "cell_type": "markdown",
   "source": [
    "# Visualização de dados com TSNE"
   ],
   "metadata": {
    "collapsed": false,
    "pycharm": {
     "name": "#%% md\n"
    }
   }
  },
  {
   "cell_type": "code",
   "execution_count": 7,
   "outputs": [
    {
     "name": "stderr",
     "output_type": "stream",
     "text": [
      "E:\\DevPack\\anaconda3\\envs\\data_science\\lib\\site-packages\\sklearn\\manifold\\_t_sne.py:780: FutureWarning: The default initialization in TSNE will change from 'random' to 'pca' in 1.2.\n",
      "  warnings.warn(\n",
      "E:\\DevPack\\anaconda3\\envs\\data_science\\lib\\site-packages\\sklearn\\manifold\\_t_sne.py:790: FutureWarning: The default learning rate in TSNE will change from 200.0 to 'auto' in 1.2.\n",
      "  warnings.warn(\n"
     ]
    },
    {
     "name": "stdout",
     "output_type": "stream",
     "text": [
      "               0          1  Target\n",
      "0      72.455170 -34.300697       0\n",
      "1     -12.305414 -20.211800       0\n",
      "2      45.395878  43.401894       0\n",
      "3      26.324810  66.222977       0\n",
      "4      37.436684  38.437153       0\n",
      "...          ...        ...     ...\n",
      "33336 -13.739748  13.149391       1\n",
      "33337  31.657927  30.927094       1\n",
      "33338  -3.836709  14.270780       1\n",
      "33339  41.599487  -3.933021       0\n",
      "33340  30.169771  36.785946       1\n",
      "\n",
      "[33341 rows x 3 columns]\n"
     ]
    },
    {
     "data": {
      "text/plain": "<Figure size 432x288 with 1 Axes>",
      "image/png": "[encoded data removed]"
     },
     "metadata": {
      "needs_background": "light"
     },
     "output_type": "display_data"
    }
   ],
   "source": [
    "model = TSNE(n_components=2, random_state=0)\n",
    "array_red = model.fit_transform(gpt2Dataframe)\n",
    "\n",
    "df_tsne = pd.DataFrame(array_red)\n",
    "\n",
    "df_tsne['Target'] = target\n",
    "print(df_tsne)\n",
    "df_tsne_c1 = df_tsne[df_tsne['Target'] == 0]\n",
    "\n",
    "df_tsne_c2 = df_tsne[df_tsne['Target'] == 1]\n",
    "\n",
    "plt.scatter(df_tsne_c1[0].array,df_tsne_c1[1].array,marker='o',color='blue')\n",
    "\n",
    "plt.scatter(df_tsne_c2[0].array,df_tsne_c2[1].array,marker='o',color='red')\n",
    "\n",
    "plt.title('Dados')\n",
    "plt.xlabel('x')\n",
    "plt.ylabel('y')\n",
    "\n",
    "plt.show()"
   ],
   "metadata": {
    "collapsed": false,
    "pycharm": {
     "name": "#%%\n"
    }
   }
  },
  {
   "cell_type": "markdown",
   "source": [
    "# Validação"
   ],
   "metadata": {
    "collapsed": false,
    "pycharm": {
     "name": "#%% md\n"
    }
   }
  },
  {
   "cell_type": "code",
   "execution_count": 8,
   "outputs": [],
   "source": [
    "def getModel():\n",
    "    return LogisticRegression(max_iter=400)"
   ],
   "metadata": {
    "collapsed": false,
    "pycharm": {
     "name": "#%%\n"
    }
   }
  },
  {
   "cell_type": "code",
   "execution_count": 9,
   "outputs": [
    {
     "name": "stderr",
     "output_type": "stream",
     "text": [
      "E:\\DevPack\\anaconda3\\envs\\data_science\\lib\\site-packages\\sklearn\\linear_model\\_logistic.py:814: ConvergenceWarning: lbfgs failed to converge (status=1):\n",
      "STOP: TOTAL NO. of ITERATIONS REACHED LIMIT.\n",
      "\n",
      "Increase the number of iterations (max_iter) or scale the data as shown in:\n",
      "    https://scikit-learn.org/stable/modules/preprocessing.html\n",
      "Please also refer to the documentation for alternative solver options:\n",
      "    https://scikit-learn.org/stable/modules/linear_model.html#logistic-regression\n",
      "  n_iter_i = _check_optimize_result(\n"
     ]
    },
    {
     "data": {
      "text/plain": "0.8812415654520918"
     },
     "execution_count": 9,
     "metadata": {},
     "output_type": "execute_result"
    }
   ],
   "source": [
    "X_treino, X_teste, y_treino, y_teste = train_test_split(gpt2Dataframe.values,target,test_size=0.2)\n",
    "modelo = getModel().fit(X_treino,y_treino)\n",
    "score = modelo.score(X_teste,y_teste)\n",
    "score"
   ],
   "metadata": {
    "collapsed": false,
    "pycharm": {
     "name": "#%%\n"
    }
   }
  },
  {
   "cell_type": "code",
   "execution_count": 10,
   "outputs": [
    {
     "name": "stderr",
     "output_type": "stream",
     "text": [
      "E:\\DevPack\\anaconda3\\envs\\data_science\\lib\\site-packages\\sklearn\\linear_model\\_logistic.py:814: ConvergenceWarning: lbfgs failed to converge (status=1):\n",
      "STOP: TOTAL NO. of ITERATIONS REACHED LIMIT.\n",
      "\n",
      "Increase the number of iterations (max_iter) or scale the data as shown in:\n",
      "    https://scikit-learn.org/stable/modules/preprocessing.html\n",
      "Please also refer to the documentation for alternative solver options:\n",
      "    https://scikit-learn.org/stable/modules/linear_model.html#logistic-regression\n",
      "  n_iter_i = _check_optimize_result(\n",
      "E:\\DevPack\\anaconda3\\envs\\data_science\\lib\\site-packages\\sklearn\\linear_model\\_logistic.py:814: ConvergenceWarning: lbfgs failed to converge (status=1):\n",
      "STOP: TOTAL NO. of ITERATIONS REACHED LIMIT.\n",
      "\n",
      "Increase the number of iterations (max_iter) or scale the data as shown in:\n",
      "    https://scikit-learn.org/stable/modules/preprocessing.html\n",
      "Please also refer to the documentation for alternative solver options:\n",
      "    https://scikit-learn.org/stable/modules/linear_model.html#logistic-regression\n",
      "  n_iter_i = _check_optimize_result(\n",
      "E:\\DevPack\\anaconda3\\envs\\data_science\\lib\\site-packages\\sklearn\\linear_model\\_logistic.py:814: ConvergenceWarning: lbfgs failed to converge (status=1):\n",
      "STOP: TOTAL NO. of ITERATIONS REACHED LIMIT.\n",
      "\n",
      "Increase the number of iterations (max_iter) or scale the data as shown in:\n",
      "    https://scikit-learn.org/stable/modules/preprocessing.html\n",
      "Please also refer to the documentation for alternative solver options:\n",
      "    https://scikit-learn.org/stable/modules/linear_model.html#logistic-regression\n",
      "  n_iter_i = _check_optimize_result(\n",
      "E:\\DevPack\\anaconda3\\envs\\data_science\\lib\\site-packages\\sklearn\\linear_model\\_logistic.py:814: ConvergenceWarning: lbfgs failed to converge (status=1):\n",
      "STOP: TOTAL NO. of ITERATIONS REACHED LIMIT.\n",
      "\n",
      "Increase the number of iterations (max_iter) or scale the data as shown in:\n",
      "    https://scikit-learn.org/stable/modules/preprocessing.html\n",
      "Please also refer to the documentation for alternative solver options:\n",
      "    https://scikit-learn.org/stable/modules/linear_model.html#logistic-regression\n",
      "  n_iter_i = _check_optimize_result(\n",
      "E:\\DevPack\\anaconda3\\envs\\data_science\\lib\\site-packages\\sklearn\\linear_model\\_logistic.py:814: ConvergenceWarning: lbfgs failed to converge (status=1):\n",
      "STOP: TOTAL NO. of ITERATIONS REACHED LIMIT.\n",
      "\n",
      "Increase the number of iterations (max_iter) or scale the data as shown in:\n",
      "    https://scikit-learn.org/stable/modules/preprocessing.html\n",
      "Please also refer to the documentation for alternative solver options:\n",
      "    https://scikit-learn.org/stable/modules/linear_model.html#logistic-regression\n",
      "  n_iter_i = _check_optimize_result(\n",
      "E:\\DevPack\\anaconda3\\envs\\data_science\\lib\\site-packages\\sklearn\\linear_model\\_logistic.py:814: ConvergenceWarning: lbfgs failed to converge (status=1):\n",
      "STOP: TOTAL NO. of ITERATIONS REACHED LIMIT.\n",
      "\n",
      "Increase the number of iterations (max_iter) or scale the data as shown in:\n",
      "    https://scikit-learn.org/stable/modules/preprocessing.html\n",
      "Please also refer to the documentation for alternative solver options:\n",
      "    https://scikit-learn.org/stable/modules/linear_model.html#logistic-regression\n",
      "  n_iter_i = _check_optimize_result(\n",
      "E:\\DevPack\\anaconda3\\envs\\data_science\\lib\\site-packages\\sklearn\\linear_model\\_logistic.py:814: ConvergenceWarning: lbfgs failed to converge (status=1):\n",
      "STOP: TOTAL NO. of ITERATIONS REACHED LIMIT.\n",
      "\n",
      "Increase the number of iterations (max_iter) or scale the data as shown in:\n",
      "    https://scikit-learn.org/stable/modules/preprocessing.html\n",
      "Please also refer to the documentation for alternative solver options:\n",
      "    https://scikit-learn.org/stable/modules/linear_model.html#logistic-regression\n",
      "  n_iter_i = _check_optimize_result(\n",
      "E:\\DevPack\\anaconda3\\envs\\data_science\\lib\\site-packages\\sklearn\\linear_model\\_logistic.py:814: ConvergenceWarning: lbfgs failed to converge (status=1):\n",
      "STOP: TOTAL NO. of ITERATIONS REACHED LIMIT.\n",
      "\n",
      "Increase the number of iterations (max_iter) or scale the data as shown in:\n",
      "    https://scikit-learn.org/stable/modules/preprocessing.html\n",
      "Please also refer to the documentation for alternative solver options:\n",
      "    https://scikit-learn.org/stable/modules/linear_model.html#logistic-regression\n",
      "  n_iter_i = _check_optimize_result(\n",
      "E:\\DevPack\\anaconda3\\envs\\data_science\\lib\\site-packages\\sklearn\\linear_model\\_logistic.py:814: ConvergenceWarning: lbfgs failed to converge (status=1):\n",
      "STOP: TOTAL NO. of ITERATIONS REACHED LIMIT.\n",
      "\n",
      "Increase the number of iterations (max_iter) or scale the data as shown in:\n",
      "    https://scikit-learn.org/stable/modules/preprocessing.html\n",
      "Please also refer to the documentation for alternative solver options:\n",
      "    https://scikit-learn.org/stable/modules/linear_model.html#logistic-regression\n",
      "  n_iter_i = _check_optimize_result(\n",
      "E:\\DevPack\\anaconda3\\envs\\data_science\\lib\\site-packages\\sklearn\\linear_model\\_logistic.py:814: ConvergenceWarning: lbfgs failed to converge (status=1):\n",
      "STOP: TOTAL NO. of ITERATIONS REACHED LIMIT.\n",
      "\n",
      "Increase the number of iterations (max_iter) or scale the data as shown in:\n",
      "    https://scikit-learn.org/stable/modules/preprocessing.html\n",
      "Please also refer to the documentation for alternative solver options:\n",
      "    https://scikit-learn.org/stable/modules/linear_model.html#logistic-regression\n",
      "  n_iter_i = _check_optimize_result(\n"
     ]
    },
    {
     "data": {
      "text/plain": "0.8830868818740001"
     },
     "execution_count": 10,
     "metadata": {},
     "output_type": "execute_result"
    }
   ],
   "source": [
    "scores = cross_val_score(getModel(),gpt2Dataframe.values,target,cv=10)\n",
    "\n",
    "scores.mean()"
   ],
   "metadata": {
    "collapsed": false,
    "pycharm": {
     "name": "#%%\n"
    }
   }
  },
  {
   "cell_type": "code",
   "execution_count": 11,
   "outputs": [
    {
     "name": "stderr",
     "output_type": "stream",
     "text": [
      "E:\\DevPack\\anaconda3\\envs\\data_science\\lib\\site-packages\\sklearn\\linear_model\\_logistic.py:814: ConvergenceWarning: lbfgs failed to converge (status=1):\n",
      "STOP: TOTAL NO. of ITERATIONS REACHED LIMIT.\n",
      "\n",
      "Increase the number of iterations (max_iter) or scale the data as shown in:\n",
      "    https://scikit-learn.org/stable/modules/preprocessing.html\n",
      "Please also refer to the documentation for alternative solver options:\n",
      "    https://scikit-learn.org/stable/modules/linear_model.html#logistic-regression\n",
      "  n_iter_i = _check_optimize_result(\n",
      "E:\\DevPack\\anaconda3\\envs\\data_science\\lib\\site-packages\\sklearn\\linear_model\\_logistic.py:814: ConvergenceWarning: lbfgs failed to converge (status=1):\n",
      "STOP: TOTAL NO. of ITERATIONS REACHED LIMIT.\n",
      "\n",
      "Increase the number of iterations (max_iter) or scale the data as shown in:\n",
      "    https://scikit-learn.org/stable/modules/preprocessing.html\n",
      "Please also refer to the documentation for alternative solver options:\n",
      "    https://scikit-learn.org/stable/modules/linear_model.html#logistic-regression\n",
      "  n_iter_i = _check_optimize_result(\n",
      "E:\\DevPack\\anaconda3\\envs\\data_science\\lib\\site-packages\\sklearn\\linear_model\\_logistic.py:814: ConvergenceWarning: lbfgs failed to converge (status=1):\n",
      "STOP: TOTAL NO. of ITERATIONS REACHED LIMIT.\n",
      "\n",
      "Increase the number of iterations (max_iter) or scale the data as shown in:\n",
      "    https://scikit-learn.org/stable/modules/preprocessing.html\n",
      "Please also refer to the documentation for alternative solver options:\n",
      "    https://scikit-learn.org/stable/modules/linear_model.html#logistic-regression\n",
      "  n_iter_i = _check_optimize_result(\n",
      "E:\\DevPack\\anaconda3\\envs\\data_science\\lib\\site-packages\\sklearn\\linear_model\\_logistic.py:814: ConvergenceWarning: lbfgs failed to converge (status=1):\n",
      "STOP: TOTAL NO. of ITERATIONS REACHED LIMIT.\n",
      "\n",
      "Increase the number of iterations (max_iter) or scale the data as shown in:\n",
      "    https://scikit-learn.org/stable/modules/preprocessing.html\n",
      "Please also refer to the documentation for alternative solver options:\n",
      "    https://scikit-learn.org/stable/modules/linear_model.html#logistic-regression\n",
      "  n_iter_i = _check_optimize_result(\n",
      "E:\\DevPack\\anaconda3\\envs\\data_science\\lib\\site-packages\\sklearn\\linear_model\\_logistic.py:814: ConvergenceWarning: lbfgs failed to converge (status=1):\n",
      "STOP: TOTAL NO. of ITERATIONS REACHED LIMIT.\n",
      "\n",
      "Increase the number of iterations (max_iter) or scale the data as shown in:\n",
      "    https://scikit-learn.org/stable/modules/preprocessing.html\n",
      "Please also refer to the documentation for alternative solver options:\n",
      "    https://scikit-learn.org/stable/modules/linear_model.html#logistic-regression\n",
      "  n_iter_i = _check_optimize_result(\n",
      "E:\\DevPack\\anaconda3\\envs\\data_science\\lib\\site-packages\\sklearn\\linear_model\\_logistic.py:814: ConvergenceWarning: lbfgs failed to converge (status=1):\n",
      "STOP: TOTAL NO. of ITERATIONS REACHED LIMIT.\n",
      "\n",
      "Increase the number of iterations (max_iter) or scale the data as shown in:\n",
      "    https://scikit-learn.org/stable/modules/preprocessing.html\n",
      "Please also refer to the documentation for alternative solver options:\n",
      "    https://scikit-learn.org/stable/modules/linear_model.html#logistic-regression\n",
      "  n_iter_i = _check_optimize_result(\n",
      "E:\\DevPack\\anaconda3\\envs\\data_science\\lib\\site-packages\\sklearn\\linear_model\\_logistic.py:814: ConvergenceWarning: lbfgs failed to converge (status=1):\n",
      "STOP: TOTAL NO. of ITERATIONS REACHED LIMIT.\n",
      "\n",
      "Increase the number of iterations (max_iter) or scale the data as shown in:\n",
      "    https://scikit-learn.org/stable/modules/preprocessing.html\n",
      "Please also refer to the documentation for alternative solver options:\n",
      "    https://scikit-learn.org/stable/modules/linear_model.html#logistic-regression\n",
      "  n_iter_i = _check_optimize_result(\n",
      "E:\\DevPack\\anaconda3\\envs\\data_science\\lib\\site-packages\\sklearn\\linear_model\\_logistic.py:814: ConvergenceWarning: lbfgs failed to converge (status=1):\n",
      "STOP: TOTAL NO. of ITERATIONS REACHED LIMIT.\n",
      "\n",
      "Increase the number of iterations (max_iter) or scale the data as shown in:\n",
      "    https://scikit-learn.org/stable/modules/preprocessing.html\n",
      "Please also refer to the documentation for alternative solver options:\n",
      "    https://scikit-learn.org/stable/modules/linear_model.html#logistic-regression\n",
      "  n_iter_i = _check_optimize_result(\n",
      "E:\\DevPack\\anaconda3\\envs\\data_science\\lib\\site-packages\\sklearn\\linear_model\\_logistic.py:814: ConvergenceWarning: lbfgs failed to converge (status=1):\n",
      "STOP: TOTAL NO. of ITERATIONS REACHED LIMIT.\n",
      "\n",
      "Increase the number of iterations (max_iter) or scale the data as shown in:\n",
      "    https://scikit-learn.org/stable/modules/preprocessing.html\n",
      "Please also refer to the documentation for alternative solver options:\n",
      "    https://scikit-learn.org/stable/modules/linear_model.html#logistic-regression\n",
      "  n_iter_i = _check_optimize_result(\n",
      "E:\\DevPack\\anaconda3\\envs\\data_science\\lib\\site-packages\\sklearn\\linear_model\\_logistic.py:814: ConvergenceWarning: lbfgs failed to converge (status=1):\n",
      "STOP: TOTAL NO. of ITERATIONS REACHED LIMIT.\n",
      "\n",
      "Increase the number of iterations (max_iter) or scale the data as shown in:\n",
      "    https://scikit-learn.org/stable/modules/preprocessing.html\n",
      "Please also refer to the documentation for alternative solver options:\n",
      "    https://scikit-learn.org/stable/modules/linear_model.html#logistic-regression\n",
      "  n_iter_i = _check_optimize_result(\n"
     ]
    }
   ],
   "source": [
    "predicoes = cross_val_predict(getModel(), gpt2Dataframe.values, target, cv=10)"
   ],
   "metadata": {
    "collapsed": false,
    "pycharm": {
     "name": "#%%\n"
    }
   }
  },
  {
   "cell_type": "code",
   "execution_count": 12,
   "outputs": [
    {
     "name": "stdout",
     "output_type": "stream",
     "text": [
      "\n",
      "Classification Report : \n",
      "              precision    recall  f1-score   support\n",
      "\n",
      "         Ham       0.89      0.87      0.88     16493\n",
      "        Spam       0.88      0.89      0.89     16848\n",
      "\n",
      "    accuracy                           0.88     33341\n",
      "   macro avg       0.88      0.88      0.88     33341\n",
      "weighted avg       0.88      0.88      0.88     33341\n",
      "\n"
     ]
    }
   ],
   "source": [
    "print(\"\\nClassification Report : \")\n",
    "print(classification_report(target, predicoes, target_names=[\"Ham\", \"Spam\"]))"
   ],
   "metadata": {
    "collapsed": false,
    "pycharm": {
     "name": "#%%\n"
    }
   }
  },
  {
   "cell_type": "code",
   "execution_count": 13,
   "outputs": [
    {
     "data": {
      "text/plain": "(array([0, 1]), [Text(0, 0, 'Ham'), Text(1, 0, 'Spam')])"
     },
     "execution_count": 13,
     "metadata": {},
     "output_type": "execute_result"
    },
    {
     "data": {
      "text/plain": "<Figure size 360x360 with 2 Axes>",
      "image/png": "[encoded data removed]"
     },
     "metadata": {
      "needs_background": "light"
     },
     "output_type": "display_data"
    }
   ],
   "source": [
    "categories = [\"Ham\", \"Spam\"]\n",
    "\n",
    "skplt.metrics.plot_confusion_matrix(\n",
    "    [categories[i] for i in target], [categories[i] for i in predicoes.tolist()],\n",
    "    title=\"Confusion Matrix\",\n",
    "    cmap=\"Purples\",\n",
    "    hide_zeros=True,\n",
    "    figsize=(5,5)\n",
    ")\n",
    "\n",
    "plt.xticks()"
   ],
   "metadata": {
    "collapsed": false,
    "pycharm": {
     "name": "#%%\n"
    }
   }
  },
  {
   "cell_type": "code",
   "execution_count": 14,
   "outputs": [
    {
     "data": {
      "text/plain": "(array([0, 1]), [Text(0, 0, 'Ham'), Text(1, 0, 'Spam')])"
     },
     "execution_count": 14,
     "metadata": {},
     "output_type": "execute_result"
    },
    {
     "data": {
      "text/plain": "<Figure size 360x360 with 2 Axes>",
      "image/png": "[encoded data removed]"
     },
     "metadata": {
      "needs_background": "light"
     },
     "output_type": "display_data"
    }
   ],
   "source": [
    "skplt.metrics.plot_confusion_matrix(\n",
    "    [categories[i] for i in target], [categories[i] for i in predicoes.tolist()],\n",
    "    normalize=True,\n",
    "    title=\"Confusion Matrix\",\n",
    "    cmap=\"Purples\",\n",
    "    hide_zeros=True,\n",
    "    figsize=(5,5)\n",
    ")\n",
    "\n",
    "plt.xticks()"
   ],
   "metadata": {
    "collapsed": false,
    "pycharm": {
     "name": "#%%\n"
    }
   }
  }
 ],
 "metadata": {
  "kernelspec": {
   "display_name": "Python 3",
   "language": "python",
   "name": "python3"
  },
  "language_info": {
   "codemirror_mode": {
    "name": "ipython",
    "version": 3
   },
   "file_extension": ".py",
   "mimetype": "text/x-python",
   "name": "python",
   "nbconvert_exporter": "python",
   "pygments_lexer": "ipython3",
   "version": "3.8.8"
  }
 },
 "nbformat": 4,
 "nbformat_minor": 1
}