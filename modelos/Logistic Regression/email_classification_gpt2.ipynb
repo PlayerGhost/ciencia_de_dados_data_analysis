{
 "cells": [
  {
   "cell_type": "code",
   "execution_count": 1,
   "outputs": [],
   "source": [
    "import pandas as pd\n",
    "from sklearn.linear_model import LogisticRegression\n",
    "from sklearn.model_selection import train_test_split, cross_val_score, cross_val_predict\n",
    "from sklearn.manifold import TSNE\n",
    "from sklearn.metrics import classification_report\n",
    "import scikitplot as skplt\n",
    "import matplotlib.pyplot as plt\n",
    "from simpletransformers.language_representation import RepresentationModel"
   ],
   "metadata": {
    "collapsed": false,
    "pycharm": {
     "name": "#%%\n"
    }
   }
  },
  {
   "cell_type": "markdown",
   "source": [
    "# Carregando base de dados  pré-processada"
   ],
   "metadata": {
    "collapsed": false,
    "pycharm": {
     "name": "#%% md\n"
    }
   }
  },
  {
   "cell_type": "code",
   "execution_count": 2,
   "outputs": [
    {
     "data": {
      "text/plain": "                                                   email  target\n0      start date     hourahead timee  cardinall  hou...       0\n1      service long desk  price structure deal quote ...       0\n2      start date  cardinall    hourahead timee  card...       0\n3      start date     hourahead timee  cardinall  anc...       0\n4      cardinall deliverable revenue management marke...       0\n...                                                  ...     ...\n33340  bio  matrix scientific group   symbo   bmxg  p...       1\n33341   cardinall step away hot naked webcam girl liv...       1\n33342  need pill increase performance click  seroius ...       1\n33343  datee final nom       inlet hpl  eastrans  car...       0\n33344  ordinall time  offering male enhancement perfo...       1\n\n[33341 rows x 2 columns]",
      "text/html": "<div>\n<style scoped>\n    .dataframe tbody tr th:only-of-type {\n        vertical-align: middle;\n    }\n\n    .dataframe tbody tr th {\n        vertical-align: top;\n    }\n\n    .dataframe thead th {\n        text-align: right;\n    }\n</style>\n<table border=\"1\" class=\"dataframe\">\n  <thead>\n    <tr style=\"text-align: right;\">\n      <th></th>\n      <th>email</th>\n      <th>target</th>\n    </tr>\n  </thead>\n  <tbody>\n    <tr>\n      <th>0</th>\n      <td>start date     hourahead timee  cardinall  hou...</td>\n      <td>0</td>\n    </tr>\n    <tr>\n      <th>1</th>\n      <td>service long desk  price structure deal quote ...</td>\n      <td>0</td>\n    </tr>\n    <tr>\n      <th>2</th>\n      <td>start date  cardinall    hourahead timee  card...</td>\n      <td>0</td>\n    </tr>\n    <tr>\n      <th>3</th>\n      <td>start date     hourahead timee  cardinall  anc...</td>\n      <td>0</td>\n    </tr>\n    <tr>\n      <th>4</th>\n      <td>cardinall deliverable revenue management marke...</td>\n      <td>0</td>\n    </tr>\n    <tr>\n      <th>...</th>\n      <td>...</td>\n      <td>...</td>\n    </tr>\n    <tr>\n      <th>33340</th>\n      <td>bio  matrix scientific group   symbo   bmxg  p...</td>\n      <td>1</td>\n    </tr>\n    <tr>\n      <th>33341</th>\n      <td>cardinall step away hot naked webcam girl liv...</td>\n      <td>1</td>\n    </tr>\n    <tr>\n      <th>33342</th>\n      <td>need pill increase performance click  seroius ...</td>\n      <td>1</td>\n    </tr>\n    <tr>\n      <th>33343</th>\n      <td>datee final nom       inlet hpl  eastrans  car...</td>\n      <td>0</td>\n    </tr>\n    <tr>\n      <th>33344</th>\n      <td>ordinall time  offering male enhancement perfo...</td>\n      <td>1</td>\n    </tr>\n  </tbody>\n</table>\n<p>33341 rows × 2 columns</p>\n</div>"
     },
     "execution_count": 2,
     "metadata": {},
     "output_type": "execute_result"
    }
   ],
   "source": [
    "database = pd.read_csv(\"../../Database/dataBaseWithNER.csv\")\n",
    "\n",
    "database = database.drop(columns=[\"Unnamed: 0\"])\n",
    "database = database.dropna()\n",
    "target = database[\"target\"].values.tolist()\n",
    "database"
   ],
   "metadata": {
    "collapsed": false,
    "pycharm": {
     "name": "#%%\n"
    }
   }
  },
  {
   "cell_type": "code",
   "execution_count": 3,
   "outputs": [],
   "source": [
    "emailsText = []\n",
    "for email in database[\"email\"]:\n",
    "    emailsText.append(email)"
   ],
   "metadata": {
    "collapsed": false,
    "pycharm": {
     "name": "#%%\n"
    }
   }
  },
  {
   "cell_type": "code",
   "execution_count": 4,
   "outputs": [
    {
     "name": "stdout",
     "output_type": "stream",
     "text": [
      "33341\n"
     ]
    }
   ],
   "source": [
    "print(len(emailsText))"
   ],
   "metadata": {
    "collapsed": false,
    "pycharm": {
     "name": "#%%\n"
    }
   }
  },
  {
   "cell_type": "markdown",
   "source": [
    "# Representação vetorial GPT2"
   ],
   "metadata": {
    "collapsed": false,
    "pycharm": {
     "name": "#%% md\n"
    }
   }
  },
  {
   "cell_type": "code",
   "execution_count": 5,
   "outputs": [
    {
     "name": "stderr",
     "output_type": "stream",
     "text": [
      "Some weights of the model checkpoint at gpt2 were not used when initializing GPT2ForTextRepresentation: ['h.1.attn.c_proj.weight', 'h.7.attn.bias', 'h.10.attn.c_attn.weight', 'h.4.attn.c_attn.bias', 'h.3.mlp.c_fc.weight', 'h.6.ln_1.weight', 'h.4.attn.c_proj.bias', 'h.2.ln_1.bias', 'h.1.mlp.c_proj.weight', 'h.0.mlp.c_proj.weight', 'wte.weight', 'h.10.mlp.c_fc.bias', 'h.10.attn.c_proj.weight', 'h.3.mlp.c_proj.weight', 'h.5.mlp.c_fc.bias', 'h.8.ln_2.weight', 'h.7.attn.c_proj.weight', 'h.9.mlp.c_proj.bias', 'h.4.ln_2.weight', 'h.7.ln_2.bias', 'h.5.attn.c_attn.weight', 'h.5.attn.bias', 'h.7.mlp.c_fc.weight', 'h.5.ln_1.bias', 'h.11.mlp.c_fc.bias', 'h.8.ln_1.bias', 'h.4.attn.c_proj.weight', 'h.5.mlp.c_proj.bias', 'h.1.mlp.c_fc.bias', 'h.3.ln_2.weight', 'h.3.ln_1.bias', 'h.8.attn.c_proj.weight', 'h.7.ln_1.bias', 'h.1.mlp.c_fc.weight', 'h.6.mlp.c_proj.weight', 'h.10.ln_2.weight', 'h.1.attn.c_proj.bias', 'h.11.mlp.c_proj.weight', 'h.11.ln_1.weight', 'h.11.ln_2.weight', 'ln_f.weight', 'h.9.attn.c_proj.weight', 'h.0.attn.c_proj.bias', 'h.8.attn.c_attn.weight', 'h.4.mlp.c_fc.bias', 'h.7.attn.c_attn.bias', 'h.5.attn.c_proj.weight', 'h.7.mlp.c_fc.bias', 'h.1.ln_2.weight', 'h.2.attn.bias', 'h.9.mlp.c_fc.weight', 'h.3.mlp.c_proj.bias', 'h.5.ln_1.weight', 'h.10.mlp.c_proj.bias', 'h.1.ln_1.weight', 'h.8.attn.bias', 'h.9.mlp.c_proj.weight', 'h.1.ln_2.bias', 'h.9.ln_1.bias', 'h.2.attn.c_attn.bias', 'h.6.mlp.c_fc.weight', 'h.4.ln_2.bias', 'h.0.attn.c_attn.weight', 'h.11.attn.c_proj.weight', 'h.3.attn.c_proj.bias', 'h.2.attn.c_proj.bias', 'h.5.ln_2.weight', 'h.11.mlp.c_proj.bias', 'h.1.ln_1.bias', 'h.1.attn.bias', 'h.1.attn.c_attn.weight', 'h.5.attn.c_attn.bias', 'h.5.mlp.c_proj.weight', 'h.8.ln_1.weight', 'h.11.attn.c_attn.weight', 'h.0.mlp.c_fc.weight', 'h.3.attn.c_attn.bias', 'h.5.ln_2.bias', 'h.6.ln_2.weight', 'h.0.attn.c_proj.weight', 'wpe.weight', 'h.0.mlp.c_fc.bias', 'h.7.mlp.c_proj.weight', 'h.6.ln_1.bias', 'h.4.mlp.c_fc.weight', 'h.2.mlp.c_proj.weight', 'h.9.attn.bias', 'h.2.mlp.c_fc.bias', 'ln_f.bias', 'h.8.attn.c_proj.bias', 'h.9.attn.c_proj.bias', 'h.6.attn.c_proj.weight', 'h.0.attn.bias', 'h.10.mlp.c_proj.weight', 'h.9.attn.c_attn.bias', 'h.10.mlp.c_fc.weight', 'h.7.ln_2.weight', 'h.11.ln_2.bias', 'h.2.mlp.c_proj.bias', 'h.6.attn.c_proj.bias', 'h.9.ln_1.weight', 'h.11.attn.c_attn.bias', 'h.7.ln_1.weight', 'h.0.ln_1.weight', 'h.1.attn.c_attn.bias', 'h.5.mlp.c_fc.weight', 'h.11.mlp.c_fc.weight', 'h.0.attn.c_attn.bias', 'h.9.ln_2.weight', 'h.3.ln_2.bias', 'h.9.ln_2.bias', 'h.11.ln_1.bias', 'h.3.attn.bias', 'h.8.attn.c_attn.bias', 'h.2.attn.c_proj.weight', 'h.6.ln_2.bias', 'h.0.ln_1.bias', 'h.8.mlp.c_fc.bias', 'h.4.attn.bias', 'h.0.mlp.c_proj.bias', 'h.8.ln_2.bias', 'h.6.mlp.c_fc.bias', 'h.2.attn.c_attn.weight', 'h.6.attn.c_attn.weight', 'h.3.ln_1.weight', 'h.4.ln_1.bias', 'h.3.mlp.c_fc.bias', 'h.10.attn.c_proj.bias', 'h.10.ln_1.weight', 'h.7.attn.c_attn.weight', 'h.2.ln_1.weight', 'h.6.attn.c_attn.bias', 'h.4.attn.c_attn.weight', 'h.4.ln_1.weight', 'h.9.mlp.c_fc.bias', 'h.10.attn.c_attn.bias', 'h.6.attn.bias', 'h.8.mlp.c_proj.bias', 'h.6.mlp.c_proj.bias', 'h.7.attn.c_proj.bias', 'h.2.ln_2.weight', 'h.10.attn.bias', 'h.10.ln_2.bias', 'h.0.ln_2.bias', 'h.1.mlp.c_proj.bias', 'h.4.mlp.c_proj.bias', 'h.2.ln_2.bias', 'h.2.mlp.c_fc.weight', 'h.3.attn.c_proj.weight', 'h.10.ln_1.bias', 'h.5.attn.c_proj.bias', 'h.4.mlp.c_proj.weight', 'h.3.attn.c_attn.weight', 'h.7.mlp.c_proj.bias', 'h.0.ln_2.weight', 'h.11.attn.bias', 'h.11.attn.c_proj.bias', 'h.9.attn.c_attn.weight', 'h.8.mlp.c_proj.weight', 'h.8.mlp.c_fc.weight']\n",
      "- This IS expected if you are initializing GPT2ForTextRepresentation from the checkpoint of a model trained on another task or with another architecture (e.g. initializing a BertForSequenceClassification model from a BertForPreTraining model).\n",
      "- This IS NOT expected if you are initializing GPT2ForTextRepresentation from the checkpoint of a model that you expect to be exactly identical (initializing a BertForSequenceClassification model from a BertForSequenceClassification model).\n",
      "Some weights of GPT2ForTextRepresentation were not initialized from the model checkpoint at gpt2 and are newly initialized: ['gpt2.h.4.ln_1.bias', 'gpt2.h.7.attn.c_proj.weight', 'gpt2.wpe.weight', 'gpt2.h.5.attn.c_attn.bias', 'gpt2.wte.weight', 'gpt2.h.4.mlp.c_fc.bias', 'gpt2.h.5.ln_1.bias', 'gpt2.h.11.mlp.c_fc.bias', 'gpt2.h.0.mlp.c_proj.weight', 'gpt2.h.6.ln_2.bias', 'gpt2.h.7.attn.c_attn.weight', 'gpt2.ln_f.bias', 'gpt2.h.11.attn.masked_bias', 'gpt2.h.2.ln_1.weight', 'gpt2.h.10.attn.masked_bias', 'gpt2.h.4.attn.c_attn.weight', 'gpt2.h.4.attn.c_proj.bias', 'gpt2.h.0.attn.c_attn.weight', 'gpt2.h.4.attn.c_proj.weight', 'gpt2.h.8.attn.c_attn.weight', 'gpt2.h.11.attn.c_proj.weight', 'gpt2.h.1.mlp.c_fc.weight', 'gpt2.h.7.mlp.c_proj.weight', 'gpt2.ln_f.weight', 'gpt2.h.1.mlp.c_proj.weight', 'gpt2.h.0.mlp.c_fc.weight', 'gpt2.h.3.mlp.c_fc.weight', 'gpt2.h.8.mlp.c_proj.bias', 'gpt2.h.6.mlp.c_fc.bias', 'gpt2.h.9.mlp.c_proj.weight', 'gpt2.h.8.attn.c_proj.weight', 'gpt2.h.2.mlp.c_proj.weight', 'gpt2.h.3.attn.bias', 'gpt2.h.7.ln_1.bias', 'gpt2.h.4.attn.masked_bias', 'gpt2.h.7.attn.c_proj.bias', 'gpt2.h.5.ln_2.weight', 'gpt2.h.3.attn.c_proj.weight', 'gpt2.h.3.mlp.c_proj.bias', 'gpt2.h.7.attn.masked_bias', 'gpt2.h.11.mlp.c_proj.bias', 'gpt2.h.8.attn.c_proj.bias', 'gpt2.h.8.ln_1.bias', 'gpt2.h.9.mlp.c_fc.weight', 'gpt2.h.2.mlp.c_fc.weight', 'gpt2.h.6.attn.c_proj.bias', 'gpt2.h.10.ln_2.bias', 'gpt2.h.4.ln_1.weight', 'gpt2.h.3.ln_2.bias', 'gpt2.h.11.mlp.c_fc.weight', 'gpt2.h.5.attn.masked_bias', 'gpt2.h.5.ln_2.bias', 'gpt2.h.7.attn.bias', 'gpt2.h.10.attn.bias', 'gpt2.h.1.mlp.c_fc.bias', 'gpt2.h.2.attn.c_attn.bias', 'gpt2.h.1.ln_2.weight', 'gpt2.h.6.mlp.c_fc.weight', 'gpt2.h.0.ln_1.bias', 'gpt2.h.9.ln_2.weight', 'gpt2.h.10.attn.c_attn.bias', 'gpt2.h.7.ln_2.bias', 'gpt2.h.11.attn.bias', 'gpt2.h.10.mlp.c_proj.bias', 'gpt2.h.5.attn.bias', 'gpt2.h.6.ln_1.weight', 'gpt2.h.6.ln_2.weight', 'gpt2.h.4.mlp.c_proj.bias', 'gpt2.h.8.attn.c_attn.bias', 'gpt2.h.6.attn.bias', 'gpt2.h.9.mlp.c_fc.bias', 'gpt2.h.3.mlp.c_proj.weight', 'gpt2.h.0.ln_2.weight', 'gpt2.h.8.mlp.c_fc.weight', 'gpt2.h.8.attn.masked_bias', 'gpt2.h.8.ln_1.weight', 'gpt2.h.8.mlp.c_fc.bias', 'gpt2.h.6.attn.c_proj.weight', 'gpt2.h.7.ln_2.weight', 'gpt2.h.3.mlp.c_fc.bias', 'gpt2.h.11.attn.c_attn.bias', 'gpt2.h.2.attn.masked_bias', 'gpt2.h.2.attn.bias', 'gpt2.h.0.attn.c_attn.bias', 'gpt2.h.3.ln_1.bias', 'gpt2.h.7.mlp.c_fc.weight', 'gpt2.h.4.mlp.c_proj.weight', 'gpt2.h.3.ln_2.weight', 'gpt2.h.9.attn.c_attn.bias', 'gpt2.h.9.attn.c_proj.weight', 'gpt2.h.6.mlp.c_proj.bias', 'gpt2.h.1.attn.bias', 'gpt2.h.9.ln_1.bias', 'gpt2.h.10.attn.c_attn.weight', 'gpt2.h.1.attn.masked_bias', 'gpt2.h.1.ln_2.bias', 'gpt2.h.4.ln_2.weight', 'gpt2.h.9.attn.masked_bias', 'gpt2.h.0.attn.c_proj.weight', 'gpt2.h.9.ln_1.weight', 'gpt2.h.3.attn.c_attn.weight', 'gpt2.h.5.mlp.c_proj.weight', 'gpt2.h.2.ln_1.bias', 'gpt2.h.5.mlp.c_fc.bias', 'gpt2.h.0.mlp.c_proj.bias', 'gpt2.h.5.attn.c_attn.weight', 'gpt2.h.6.attn.c_attn.bias', 'gpt2.h.6.ln_1.bias', 'gpt2.h.6.attn.c_attn.weight', 'gpt2.h.7.mlp.c_fc.bias', 'gpt2.h.8.mlp.c_proj.weight', 'gpt2.h.8.ln_2.weight', 'gpt2.h.5.attn.c_proj.bias', 'gpt2.h.3.attn.c_attn.bias', 'gpt2.h.0.ln_1.weight', 'gpt2.h.5.attn.c_proj.weight', 'gpt2.h.11.mlp.c_proj.weight', 'gpt2.h.3.attn.c_proj.bias', 'gpt2.h.5.mlp.c_fc.weight', 'gpt2.h.10.ln_1.bias', 'gpt2.h.2.attn.c_proj.bias', 'gpt2.h.3.attn.masked_bias', 'gpt2.h.9.attn.c_proj.bias', 'gpt2.h.5.mlp.c_proj.bias', 'gpt2.h.11.attn.c_attn.weight', 'gpt2.h.0.mlp.c_fc.bias', 'gpt2.h.0.attn.c_proj.bias', 'gpt2.h.10.ln_1.weight', 'gpt2.h.10.mlp.c_fc.bias', 'gpt2.h.4.attn.bias', 'gpt2.h.4.attn.c_attn.bias', 'gpt2.h.0.attn.bias', 'gpt2.h.11.ln_2.weight', 'gpt2.h.2.attn.c_proj.weight', 'gpt2.h.2.ln_2.weight', 'gpt2.h.3.ln_1.weight', 'gpt2.h.11.attn.c_proj.bias', 'gpt2.h.9.ln_2.bias', 'gpt2.h.5.ln_1.weight', 'gpt2.h.8.attn.bias', 'gpt2.h.10.mlp.c_proj.weight', 'gpt2.h.0.ln_2.bias', 'gpt2.h.10.mlp.c_fc.weight', 'gpt2.h.2.attn.c_attn.weight', 'gpt2.h.2.mlp.c_proj.bias', 'gpt2.h.11.ln_1.weight', 'gpt2.h.1.attn.c_proj.bias', 'gpt2.h.11.ln_1.bias', 'gpt2.h.2.mlp.c_fc.bias', 'gpt2.h.1.ln_1.weight', 'gpt2.h.10.attn.c_proj.bias', 'gpt2.h.1.attn.c_attn.weight', 'gpt2.h.1.ln_1.bias', 'gpt2.h.0.attn.masked_bias', 'gpt2.h.7.ln_1.weight', 'gpt2.h.6.attn.masked_bias', 'gpt2.h.9.mlp.c_proj.bias', 'gpt2.h.2.ln_2.bias', 'gpt2.h.1.attn.c_proj.weight', 'gpt2.h.10.attn.c_proj.weight', 'gpt2.h.4.mlp.c_fc.weight', 'gpt2.h.8.ln_2.bias', 'gpt2.h.11.ln_2.bias', 'gpt2.h.4.ln_2.bias', 'gpt2.h.1.attn.c_attn.bias', 'gpt2.h.6.mlp.c_proj.weight', 'gpt2.h.7.mlp.c_proj.bias', 'gpt2.h.9.attn.bias', 'gpt2.h.1.mlp.c_proj.bias', 'gpt2.h.10.ln_2.weight', 'gpt2.h.9.attn.c_attn.weight', 'gpt2.h.7.attn.c_attn.bias']\n",
      "You should probably TRAIN this model on a down-stream task to be able to use it for predictions and inference.\n"
     ]
    },
    {
     "data": {
      "text/plain": "(33341, 768)"
     },
     "execution_count": 5,
     "metadata": {},
     "output_type": "execute_result"
    }
   ],
   "source": [
    "model=RepresentationModel(\n",
    "    model_type=\"gpt2\",\n",
    "    model_name=\"gpt2\",\n",
    "    use_cuda=True,\n",
    "    #fp16=True\n",
    ")\n",
    "\n",
    "vectorialRepresentation = model.encode_sentences(emailsText, combine_strategy=\"mean\")\n",
    "vectorialRepresentation.shape"
   ],
   "metadata": {
    "collapsed": false,
    "pycharm": {
     "name": "#%%\n"
    }
   }
  },
  {
   "cell_type": "code",
   "execution_count": 6,
   "outputs": [
    {
     "data": {
      "text/plain": "            0         1         2         3         4         5         6    \\\n0      1.000586 -0.116648 -0.464112 -0.764496 -1.854986 -2.232220 -1.412658   \n1     -0.722827 -0.546956 -0.684507 -1.022861 -0.355477 -0.119972 -0.451165   \n2      1.091229 -0.216522 -0.096720 -1.261649 -1.637965 -2.076478 -0.784483   \n3      1.241676 -0.167301 -0.042480 -1.021161 -1.552883 -2.002529 -1.151991   \n4      1.099395  0.314072  0.175401 -0.902255 -0.860258 -1.272085 -1.060579   \n...         ...       ...       ...       ...       ...       ...       ...   \n33336  0.981128 -0.226372  0.379551 -1.332004 -1.453216 -2.000955 -0.969916   \n33337  0.755430 -0.363190 -0.282919  0.136179 -0.938229 -1.567507 -0.346283   \n33338  1.371304  0.128029  0.537623 -0.872183 -1.206647 -1.741730 -0.585586   \n33339  1.369233 -0.264169 -0.130970 -1.013598 -0.587442 -1.695466 -0.411305   \n33340  0.868865  0.150319  0.774244 -0.428345 -1.122636 -1.329726 -1.310651   \n\n            7         8         9    ...       758       759       760  \\\n0     -0.025589 -0.747679 -1.190234  ...  0.057302  1.162067 -1.395097   \n1      0.476447  1.014955 -0.035977  ... -0.219248  0.909508 -1.203108   \n2     -0.142956 -1.313605 -1.277227  ...  0.090229  0.551773 -0.862613   \n3     -0.200591 -1.030639 -1.291473  ...  0.178744  0.661023 -0.918625   \n4     -0.431877 -1.079175 -0.192002  ...  0.787229  0.212466 -0.332663   \n...         ...       ...       ...  ...       ...       ...       ...   \n33336  0.134645 -0.828087 -1.473846  ...  0.693086  1.220865 -0.590136   \n33337  0.121228 -1.167548 -1.106927  ...  0.351029  0.912620 -0.938987   \n33338 -0.568692 -1.197562 -0.986240  ...  0.617497  0.099417 -0.165487   \n33339 -0.442748 -1.431412 -1.465220  ...  0.070328  0.497381 -0.630309   \n33340  0.859004 -0.267374 -1.188269  ...  0.636262  0.662163 -0.510387   \n\n            761       762       763       764       765       766       767  \n0      0.547402 -0.098100 -0.611014 -0.455166  2.257985  0.231937  2.876930  \n1      1.047185 -0.030010 -0.784123 -0.056666  0.159423 -0.077032  2.486724  \n2      0.285470 -0.476131 -0.584649 -0.412547  1.560651  0.704387  3.371443  \n3      0.242128 -0.341167 -0.298297 -0.278604  1.925973  0.552975  3.310945  \n4      0.492574 -0.140701  0.330119  0.196395  1.286093  0.686834  1.349178  \n...         ...       ...       ...       ...       ...       ...       ...  \n33336  0.707327 -0.193991  0.193033 -0.569750  1.102869  0.860191  3.121910  \n33337  0.227494 -0.637038 -0.653759 -0.833073  1.070213  0.657657  2.825340  \n33338  0.504292 -0.356780  0.268646 -0.489411  1.335187  0.072600  1.822635  \n33339  0.712321 -0.294249 -0.684534 -0.257660  1.765047  0.017610  2.656155  \n33340  0.561295 -1.550141  0.313827 -0.326767  1.167554  0.087942  1.510660  \n\n[33341 rows x 768 columns]",
      "text/html": "<div>\n<style scoped>\n    .dataframe tbody tr th:only-of-type {\n        vertical-align: middle;\n    }\n\n    .dataframe tbody tr th {\n        vertical-align: top;\n    }\n\n    .dataframe thead th {\n        text-align: right;\n    }\n</style>\n<table border=\"1\" class=\"dataframe\">\n  <thead>\n    <tr style=\"text-align: right;\">\n      <th></th>\n      <th>0</th>\n      <th>1</th>\n      <th>2</th>\n      <th>3</th>\n      <th>4</th>\n      <th>5</th>\n      <th>6</th>\n      <th>7</th>\n      <th>8</th>\n      <th>9</th>\n      <th>...</th>\n      <th>758</th>\n      <th>759</th>\n      <th>760</th>\n      <th>761</th>\n      <th>762</th>\n      <th>763</th>\n      <th>764</th>\n      <th>765</th>\n      <th>766</th>\n      <th>767</th>\n    </tr>\n  </thead>\n  <tbody>\n    <tr>\n      <th>0</th>\n      <td>1.000586</td>\n      <td>-0.116648</td>\n      <td>-0.464112</td>\n      <td>-0.764496</td>\n      <td>-1.854986</td>\n      <td>-2.232220</td>\n      <td>-1.412658</td>\n      <td>-0.025589</td>\n      <td>-0.747679</td>\n      <td>-1.190234</td>\n      <td>...</td>\n      <td>0.057302</td>\n      <td>1.162067</td>\n      <td>-1.395097</td>\n      <td>0.547402</td>\n      <td>-0.098100</td>\n      <td>-0.611014</td>\n      <td>-0.455166</td>\n      <td>2.257985</td>\n      <td>0.231937</td>\n      <td>2.876930</td>\n    </tr>\n    <tr>\n      <th>1</th>\n      <td>-0.722827</td>\n      <td>-0.546956</td>\n      <td>-0.684507</td>\n      <td>-1.022861</td>\n      <td>-0.355477</td>\n      <td>-0.119972</td>\n      <td>-0.451165</td>\n      <td>0.476447</td>\n      <td>1.014955</td>\n      <td>-0.035977</td>\n      <td>...</td>\n      <td>-0.219248</td>\n      <td>0.909508</td>\n      <td>-1.203108</td>\n      <td>1.047185</td>\n      <td>-0.030010</td>\n      <td>-0.784123</td>\n      <td>-0.056666</td>\n      <td>0.159423</td>\n      <td>-0.077032</td>\n      <td>2.486724</td>\n    </tr>\n    <tr>\n      <th>2</th>\n      <td>1.091229</td>\n      <td>-0.216522</td>\n      <td>-0.096720</td>\n      <td>-1.261649</td>\n      <td>-1.637965</td>\n      <td>-2.076478</td>\n      <td>-0.784483</td>\n      <td>-0.142956</td>\n      <td>-1.313605</td>\n      <td>-1.277227</td>\n      <td>...</td>\n      <td>0.090229</td>\n      <td>0.551773</td>\n      <td>-0.862613</td>\n      <td>0.285470</td>\n      <td>-0.476131</td>\n      <td>-0.584649</td>\n      <td>-0.412547</td>\n      <td>1.560651</td>\n      <td>0.704387</td>\n      <td>3.371443</td>\n    </tr>\n    <tr>\n      <th>3</th>\n      <td>1.241676</td>\n      <td>-0.167301</td>\n      <td>-0.042480</td>\n      <td>-1.021161</td>\n      <td>-1.552883</td>\n      <td>-2.002529</td>\n      <td>-1.151991</td>\n      <td>-0.200591</td>\n      <td>-1.030639</td>\n      <td>-1.291473</td>\n      <td>...</td>\n      <td>0.178744</td>\n      <td>0.661023</td>\n      <td>-0.918625</td>\n      <td>0.242128</td>\n      <td>-0.341167</td>\n      <td>-0.298297</td>\n      <td>-0.278604</td>\n      <td>1.925973</td>\n      <td>0.552975</td>\n      <td>3.310945</td>\n    </tr>\n    <tr>\n      <th>4</th>\n      <td>1.099395</td>\n      <td>0.314072</td>\n      <td>0.175401</td>\n      <td>-0.902255</td>\n      <td>-0.860258</td>\n      <td>-1.272085</td>\n      <td>-1.060579</td>\n      <td>-0.431877</td>\n      <td>-1.079175</td>\n      <td>-0.192002</td>\n      <td>...</td>\n      <td>0.787229</td>\n      <td>0.212466</td>\n      <td>-0.332663</td>\n      <td>0.492574</td>\n      <td>-0.140701</td>\n      <td>0.330119</td>\n      <td>0.196395</td>\n      <td>1.286093</td>\n      <td>0.686834</td>\n      <td>1.349178</td>\n    </tr>\n    <tr>\n      <th>...</th>\n      <td>...</td>\n      <td>...</td>\n      <td>...</td>\n      <td>...</td>\n      <td>...</td>\n      <td>...</td>\n      <td>...</td>\n      <td>...</td>\n      <td>...</td>\n      <td>...</td>\n      <td>...</td>\n      <td>...</td>\n      <td>...</td>\n      <td>...</td>\n      <td>...</td>\n      <td>...</td>\n      <td>...</td>\n      <td>...</td>\n      <td>...</td>\n      <td>...</td>\n      <td>...</td>\n    </tr>\n    <tr>\n      <th>33336</th>\n      <td>0.981128</td>\n      <td>-0.226372</td>\n      <td>0.379551</td>\n      <td>-1.332004</td>\n      <td>-1.453216</td>\n      <td>-2.000955</td>\n      <td>-0.969916</td>\n      <td>0.134645</td>\n      <td>-0.828087</td>\n      <td>-1.473846</td>\n      <td>...</td>\n      <td>0.693086</td>\n      <td>1.220865</td>\n      <td>-0.590136</td>\n      <td>0.707327</td>\n      <td>-0.193991</td>\n      <td>0.193033</td>\n      <td>-0.569750</td>\n      <td>1.102869</td>\n      <td>0.860191</td>\n      <td>3.121910</td>\n    </tr>\n    <tr>\n      <th>33337</th>\n      <td>0.755430</td>\n      <td>-0.363190</td>\n      <td>-0.282919</td>\n      <td>0.136179</td>\n      <td>-0.938229</td>\n      <td>-1.567507</td>\n      <td>-0.346283</td>\n      <td>0.121228</td>\n      <td>-1.167548</td>\n      <td>-1.106927</td>\n      <td>...</td>\n      <td>0.351029</td>\n      <td>0.912620</td>\n      <td>-0.938987</td>\n      <td>0.227494</td>\n      <td>-0.637038</td>\n      <td>-0.653759</td>\n      <td>-0.833073</td>\n      <td>1.070213</td>\n      <td>0.657657</td>\n      <td>2.825340</td>\n    </tr>\n    <tr>\n      <th>33338</th>\n      <td>1.371304</td>\n      <td>0.128029</td>\n      <td>0.537623</td>\n      <td>-0.872183</td>\n      <td>-1.206647</td>\n      <td>-1.741730</td>\n      <td>-0.585586</td>\n      <td>-0.568692</td>\n      <td>-1.197562</td>\n      <td>-0.986240</td>\n      <td>...</td>\n      <td>0.617497</td>\n      <td>0.099417</td>\n      <td>-0.165487</td>\n      <td>0.504292</td>\n      <td>-0.356780</td>\n      <td>0.268646</td>\n      <td>-0.489411</td>\n      <td>1.335187</td>\n      <td>0.072600</td>\n      <td>1.822635</td>\n    </tr>\n    <tr>\n      <th>33339</th>\n      <td>1.369233</td>\n      <td>-0.264169</td>\n      <td>-0.130970</td>\n      <td>-1.013598</td>\n      <td>-0.587442</td>\n      <td>-1.695466</td>\n      <td>-0.411305</td>\n      <td>-0.442748</td>\n      <td>-1.431412</td>\n      <td>-1.465220</td>\n      <td>...</td>\n      <td>0.070328</td>\n      <td>0.497381</td>\n      <td>-0.630309</td>\n      <td>0.712321</td>\n      <td>-0.294249</td>\n      <td>-0.684534</td>\n      <td>-0.257660</td>\n      <td>1.765047</td>\n      <td>0.017610</td>\n      <td>2.656155</td>\n    </tr>\n    <tr>\n      <th>33340</th>\n      <td>0.868865</td>\n      <td>0.150319</td>\n      <td>0.774244</td>\n      <td>-0.428345</td>\n      <td>-1.122636</td>\n      <td>-1.329726</td>\n      <td>-1.310651</td>\n      <td>0.859004</td>\n      <td>-0.267374</td>\n      <td>-1.188269</td>\n      <td>...</td>\n      <td>0.636262</td>\n      <td>0.662163</td>\n      <td>-0.510387</td>\n      <td>0.561295</td>\n      <td>-1.550141</td>\n      <td>0.313827</td>\n      <td>-0.326767</td>\n      <td>1.167554</td>\n      <td>0.087942</td>\n      <td>1.510660</td>\n    </tr>\n  </tbody>\n</table>\n<p>33341 rows × 768 columns</p>\n</div>"
     },
     "execution_count": 6,
     "metadata": {},
     "output_type": "execute_result"
    }
   ],
   "source": [
    "gpt2Dataframe = pd.DataFrame(vectorialRepresentation)\n",
    "gpt2Dataframe"
   ],
   "metadata": {
    "collapsed": false,
    "pycharm": {
     "name": "#%%\n"
    }
   }
  },
  {
   "cell_type": "markdown",
   "source": [
    "# Visualização de dados com TSNE"
   ],
   "metadata": {
    "collapsed": false,
    "pycharm": {
     "name": "#%% md\n"
    }
   }
  },
  {
   "cell_type": "code",
   "execution_count": 7,
   "outputs": [
    {
     "name": "stderr",
     "output_type": "stream",
     "text": [
      "E:\\DevPack\\anaconda3\\envs\\data_science\\lib\\site-packages\\sklearn\\manifold\\_t_sne.py:780: FutureWarning: The default initialization in TSNE will change from 'random' to 'pca' in 1.2.\n",
      "  warnings.warn(\n",
      "E:\\DevPack\\anaconda3\\envs\\data_science\\lib\\site-packages\\sklearn\\manifold\\_t_sne.py:790: FutureWarning: The default learning rate in TSNE will change from 200.0 to 'auto' in 1.2.\n",
      "  warnings.warn(\n"
     ]
    },
    {
     "name": "stdout",
     "output_type": "stream",
     "text": [
      "               0          1  Target\n",
      "0     -24.212351  70.180542       0\n",
      "1       1.127423 -32.946522       0\n",
      "2      28.579763   8.237689       0\n",
      "3      -3.143385  72.316292       0\n",
      "4      44.793938 -41.627949       0\n",
      "...          ...        ...     ...\n",
      "33336   5.028631  -0.908225       1\n",
      "33337  18.078678 -13.095145       1\n",
      "33338  13.208843  20.642754       1\n",
      "33339 -30.910913 -19.097399       0\n",
      "33340  41.411392 -18.926649       1\n",
      "\n",
      "[33341 rows x 3 columns]\n"
     ]
    },
    {
     "data": {
      "text/plain": "<Figure size 432x288 with 1 Axes>",
      "image/png": "[encoded data removed]"
     },
     "metadata": {
      "needs_background": "light"
     },
     "output_type": "display_data"
    }
   ],
   "source": [
    "model = TSNE(n_components=2, random_state=0)\n",
    "array_red = model.fit_transform(gpt2Dataframe)\n",
    "\n",
    "df_tsne = pd.DataFrame(array_red)\n",
    "\n",
    "df_tsne['Target'] = target\n",
    "print(df_tsne)\n",
    "df_tsne_c1 = df_tsne[df_tsne['Target'] == 0]\n",
    "\n",
    "df_tsne_c2 = df_tsne[df_tsne['Target'] == 1]\n",
    "\n",
    "plt.scatter(df_tsne_c1[0].array,df_tsne_c1[1].array,marker='o',color='blue')\n",
    "\n",
    "plt.scatter(df_tsne_c2[0].array,df_tsne_c2[1].array,marker='o',color='red')\n",
    "\n",
    "plt.title('Dados')\n",
    "plt.xlabel('x')\n",
    "plt.ylabel('y')\n",
    "\n",
    "plt.show()"
   ],
   "metadata": {
    "collapsed": false,
    "pycharm": {
     "name": "#%%\n"
    }
   }
  },
  {
   "cell_type": "markdown",
   "source": [
    "# Validação"
   ],
   "metadata": {
    "collapsed": false,
    "pycharm": {
     "name": "#%% md\n"
    }
   }
  },
  {
   "cell_type": "code",
   "execution_count": 8,
   "outputs": [],
   "source": [
    "def getModel():\n",
    "    return LogisticRegression(max_iter=400)"
   ],
   "metadata": {
    "collapsed": false,
    "pycharm": {
     "name": "#%%\n"
    }
   }
  },
  {
   "cell_type": "code",
   "execution_count": 9,
   "outputs": [
    {
     "name": "stderr",
     "output_type": "stream",
     "text": [
      "E:\\DevPack\\anaconda3\\envs\\data_science\\lib\\site-packages\\sklearn\\linear_model\\_logistic.py:814: ConvergenceWarning: lbfgs failed to converge (status=1):\n",
      "STOP: TOTAL NO. of ITERATIONS REACHED LIMIT.\n",
      "\n",
      "Increase the number of iterations (max_iter) or scale the data as shown in:\n",
      "    https://scikit-learn.org/stable/modules/preprocessing.html\n",
      "Please also refer to the documentation for alternative solver options:\n",
      "    https://scikit-learn.org/stable/modules/linear_model.html#logistic-regression\n",
      "  n_iter_i = _check_optimize_result(\n"
     ]
    },
    {
     "data": {
      "text/plain": "0.8717948717948718"
     },
     "execution_count": 9,
     "metadata": {},
     "output_type": "execute_result"
    }
   ],
   "source": [
    "X_treino, X_teste, y_treino, y_teste = train_test_split(gpt2Dataframe.values,target,test_size=0.2)\n",
    "modelo = getModel().fit(X_treino,y_treino)\n",
    "score = modelo.score(X_teste,y_teste)\n",
    "score"
   ],
   "metadata": {
    "collapsed": false,
    "pycharm": {
     "name": "#%%\n"
    }
   }
  },
  {
   "cell_type": "code",
   "execution_count": 10,
   "outputs": [
    {
     "name": "stderr",
     "output_type": "stream",
     "text": [
      "E:\\DevPack\\anaconda3\\envs\\data_science\\lib\\site-packages\\sklearn\\linear_model\\_logistic.py:814: ConvergenceWarning: lbfgs failed to converge (status=1):\n",
      "STOP: TOTAL NO. of ITERATIONS REACHED LIMIT.\n",
      "\n",
      "Increase the number of iterations (max_iter) or scale the data as shown in:\n",
      "    https://scikit-learn.org/stable/modules/preprocessing.html\n",
      "Please also refer to the documentation for alternative solver options:\n",
      "    https://scikit-learn.org/stable/modules/linear_model.html#logistic-regression\n",
      "  n_iter_i = _check_optimize_result(\n",
      "E:\\DevPack\\anaconda3\\envs\\data_science\\lib\\site-packages\\sklearn\\linear_model\\_logistic.py:814: ConvergenceWarning: lbfgs failed to converge (status=1):\n",
      "STOP: TOTAL NO. of ITERATIONS REACHED LIMIT.\n",
      "\n",
      "Increase the number of iterations (max_iter) or scale the data as shown in:\n",
      "    https://scikit-learn.org/stable/modules/preprocessing.html\n",
      "Please also refer to the documentation for alternative solver options:\n",
      "    https://scikit-learn.org/stable/modules/linear_model.html#logistic-regression\n",
      "  n_iter_i = _check_optimize_result(\n",
      "E:\\DevPack\\anaconda3\\envs\\data_science\\lib\\site-packages\\sklearn\\linear_model\\_logistic.py:814: ConvergenceWarning: lbfgs failed to converge (status=1):\n",
      "STOP: TOTAL NO. of ITERATIONS REACHED LIMIT.\n",
      "\n",
      "Increase the number of iterations (max_iter) or scale the data as shown in:\n",
      "    https://scikit-learn.org/stable/modules/preprocessing.html\n",
      "Please also refer to the documentation for alternative solver options:\n",
      "    https://scikit-learn.org/stable/modules/linear_model.html#logistic-regression\n",
      "  n_iter_i = _check_optimize_result(\n",
      "E:\\DevPack\\anaconda3\\envs\\data_science\\lib\\site-packages\\sklearn\\linear_model\\_logistic.py:814: ConvergenceWarning: lbfgs failed to converge (status=1):\n",
      "STOP: TOTAL NO. of ITERATIONS REACHED LIMIT.\n",
      "\n",
      "Increase the number of iterations (max_iter) or scale the data as shown in:\n",
      "    https://scikit-learn.org/stable/modules/preprocessing.html\n",
      "Please also refer to the documentation for alternative solver options:\n",
      "    https://scikit-learn.org/stable/modules/linear_model.html#logistic-regression\n",
      "  n_iter_i = _check_optimize_result(\n",
      "E:\\DevPack\\anaconda3\\envs\\data_science\\lib\\site-packages\\sklearn\\linear_model\\_logistic.py:814: ConvergenceWarning: lbfgs failed to converge (status=1):\n",
      "STOP: TOTAL NO. of ITERATIONS REACHED LIMIT.\n",
      "\n",
      "Increase the number of iterations (max_iter) or scale the data as shown in:\n",
      "    https://scikit-learn.org/stable/modules/preprocessing.html\n",
      "Please also refer to the documentation for alternative solver options:\n",
      "    https://scikit-learn.org/stable/modules/linear_model.html#logistic-regression\n",
      "  n_iter_i = _check_optimize_result(\n",
      "E:\\DevPack\\anaconda3\\envs\\data_science\\lib\\site-packages\\sklearn\\linear_model\\_logistic.py:814: ConvergenceWarning: lbfgs failed to converge (status=1):\n",
      "STOP: TOTAL NO. of ITERATIONS REACHED LIMIT.\n",
      "\n",
      "Increase the number of iterations (max_iter) or scale the data as shown in:\n",
      "    https://scikit-learn.org/stable/modules/preprocessing.html\n",
      "Please also refer to the documentation for alternative solver options:\n",
      "    https://scikit-learn.org/stable/modules/linear_model.html#logistic-regression\n",
      "  n_iter_i = _check_optimize_result(\n",
      "E:\\DevPack\\anaconda3\\envs\\data_science\\lib\\site-packages\\sklearn\\linear_model\\_logistic.py:814: ConvergenceWarning: lbfgs failed to converge (status=1):\n",
      "STOP: TOTAL NO. of ITERATIONS REACHED LIMIT.\n",
      "\n",
      "Increase the number of iterations (max_iter) or scale the data as shown in:\n",
      "    https://scikit-learn.org/stable/modules/preprocessing.html\n",
      "Please also refer to the documentation for alternative solver options:\n",
      "    https://scikit-learn.org/stable/modules/linear_model.html#logistic-regression\n",
      "  n_iter_i = _check_optimize_result(\n",
      "E:\\DevPack\\anaconda3\\envs\\data_science\\lib\\site-packages\\sklearn\\linear_model\\_logistic.py:814: ConvergenceWarning: lbfgs failed to converge (status=1):\n",
      "STOP: TOTAL NO. of ITERATIONS REACHED LIMIT.\n",
      "\n",
      "Increase the number of iterations (max_iter) or scale the data as shown in:\n",
      "    https://scikit-learn.org/stable/modules/preprocessing.html\n",
      "Please also refer to the documentation for alternative solver options:\n",
      "    https://scikit-learn.org/stable/modules/linear_model.html#logistic-regression\n",
      "  n_iter_i = _check_optimize_result(\n",
      "E:\\DevPack\\anaconda3\\envs\\data_science\\lib\\site-packages\\sklearn\\linear_model\\_logistic.py:814: ConvergenceWarning: lbfgs failed to converge (status=1):\n",
      "STOP: TOTAL NO. of ITERATIONS REACHED LIMIT.\n",
      "\n",
      "Increase the number of iterations (max_iter) or scale the data as shown in:\n",
      "    https://scikit-learn.org/stable/modules/preprocessing.html\n",
      "Please also refer to the documentation for alternative solver options:\n",
      "    https://scikit-learn.org/stable/modules/linear_model.html#logistic-regression\n",
      "  n_iter_i = _check_optimize_result(\n",
      "E:\\DevPack\\anaconda3\\envs\\data_science\\lib\\site-packages\\sklearn\\linear_model\\_logistic.py:814: ConvergenceWarning: lbfgs failed to converge (status=1):\n",
      "STOP: TOTAL NO. of ITERATIONS REACHED LIMIT.\n",
      "\n",
      "Increase the number of iterations (max_iter) or scale the data as shown in:\n",
      "    https://scikit-learn.org/stable/modules/preprocessing.html\n",
      "Please also refer to the documentation for alternative solver options:\n",
      "    https://scikit-learn.org/stable/modules/linear_model.html#logistic-regression\n",
      "  n_iter_i = _check_optimize_result(\n"
     ]
    },
    {
     "data": {
      "text/plain": "0.8772083634247665"
     },
     "execution_count": 10,
     "metadata": {},
     "output_type": "execute_result"
    }
   ],
   "source": [
    "scores = cross_val_score(getModel(),gpt2Dataframe.values,target,cv=10)\n",
    "\n",
    "scores.mean()"
   ],
   "metadata": {
    "collapsed": false,
    "pycharm": {
     "name": "#%%\n"
    }
   }
  },
  {
   "cell_type": "code",
   "execution_count": 11,
   "outputs": [
    {
     "name": "stderr",
     "output_type": "stream",
     "text": [
      "E:\\DevPack\\anaconda3\\envs\\data_science\\lib\\site-packages\\sklearn\\linear_model\\_logistic.py:814: ConvergenceWarning: lbfgs failed to converge (status=1):\n",
      "STOP: TOTAL NO. of ITERATIONS REACHED LIMIT.\n",
      "\n",
      "Increase the number of iterations (max_iter) or scale the data as shown in:\n",
      "    https://scikit-learn.org/stable/modules/preprocessing.html\n",
      "Please also refer to the documentation for alternative solver options:\n",
      "    https://scikit-learn.org/stable/modules/linear_model.html#logistic-regression\n",
      "  n_iter_i = _check_optimize_result(\n",
      "E:\\DevPack\\anaconda3\\envs\\data_science\\lib\\site-packages\\sklearn\\linear_model\\_logistic.py:814: ConvergenceWarning: lbfgs failed to converge (status=1):\n",
      "STOP: TOTAL NO. of ITERATIONS REACHED LIMIT.\n",
      "\n",
      "Increase the number of iterations (max_iter) or scale the data as shown in:\n",
      "    https://scikit-learn.org/stable/modules/preprocessing.html\n",
      "Please also refer to the documentation for alternative solver options:\n",
      "    https://scikit-learn.org/stable/modules/linear_model.html#logistic-regression\n",
      "  n_iter_i = _check_optimize_result(\n",
      "E:\\DevPack\\anaconda3\\envs\\data_science\\lib\\site-packages\\sklearn\\linear_model\\_logistic.py:814: ConvergenceWarning: lbfgs failed to converge (status=1):\n",
      "STOP: TOTAL NO. of ITERATIONS REACHED LIMIT.\n",
      "\n",
      "Increase the number of iterations (max_iter) or scale the data as shown in:\n",
      "    https://scikit-learn.org/stable/modules/preprocessing.html\n",
      "Please also refer to the documentation for alternative solver options:\n",
      "    https://scikit-learn.org/stable/modules/linear_model.html#logistic-regression\n",
      "  n_iter_i = _check_optimize_result(\n",
      "E:\\DevPack\\anaconda3\\envs\\data_science\\lib\\site-packages\\sklearn\\linear_model\\_logistic.py:814: ConvergenceWarning: lbfgs failed to converge (status=1):\n",
      "STOP: TOTAL NO. of ITERATIONS REACHED LIMIT.\n",
      "\n",
      "Increase the number of iterations (max_iter) or scale the data as shown in:\n",
      "    https://scikit-learn.org/stable/modules/preprocessing.html\n",
      "Please also refer to the documentation for alternative solver options:\n",
      "    https://scikit-learn.org/stable/modules/linear_model.html#logistic-regression\n",
      "  n_iter_i = _check_optimize_result(\n",
      "E:\\DevPack\\anaconda3\\envs\\data_science\\lib\\site-packages\\sklearn\\linear_model\\_logistic.py:814: ConvergenceWarning: lbfgs failed to converge (status=1):\n",
      "STOP: TOTAL NO. of ITERATIONS REACHED LIMIT.\n",
      "\n",
      "Increase the number of iterations (max_iter) or scale the data as shown in:\n",
      "    https://scikit-learn.org/stable/modules/preprocessing.html\n",
      "Please also refer to the documentation for alternative solver options:\n",
      "    https://scikit-learn.org/stable/modules/linear_model.html#logistic-regression\n",
      "  n_iter_i = _check_optimize_result(\n",
      "E:\\DevPack\\anaconda3\\envs\\data_science\\lib\\site-packages\\sklearn\\linear_model\\_logistic.py:814: ConvergenceWarning: lbfgs failed to converge (status=1):\n",
      "STOP: TOTAL NO. of ITERATIONS REACHED LIMIT.\n",
      "\n",
      "Increase the number of iterations (max_iter) or scale the data as shown in:\n",
      "    https://scikit-learn.org/stable/modules/preprocessing.html\n",
      "Please also refer to the documentation for alternative solver options:\n",
      "    https://scikit-learn.org/stable/modules/linear_model.html#logistic-regression\n",
      "  n_iter_i = _check_optimize_result(\n",
      "E:\\DevPack\\anaconda3\\envs\\data_science\\lib\\site-packages\\sklearn\\linear_model\\_logistic.py:814: ConvergenceWarning: lbfgs failed to converge (status=1):\n",
      "STOP: TOTAL NO. of ITERATIONS REACHED LIMIT.\n",
      "\n",
      "Increase the number of iterations (max_iter) or scale the data as shown in:\n",
      "    https://scikit-learn.org/stable/modules/preprocessing.html\n",
      "Please also refer to the documentation for alternative solver options:\n",
      "    https://scikit-learn.org/stable/modules/linear_model.html#logistic-regression\n",
      "  n_iter_i = _check_optimize_result(\n",
      "E:\\DevPack\\anaconda3\\envs\\data_science\\lib\\site-packages\\sklearn\\linear_model\\_logistic.py:814: ConvergenceWarning: lbfgs failed to converge (status=1):\n",
      "STOP: TOTAL NO. of ITERATIONS REACHED LIMIT.\n",
      "\n",
      "Increase the number of iterations (max_iter) or scale the data as shown in:\n",
      "    https://scikit-learn.org/stable/modules/preprocessing.html\n",
      "Please also refer to the documentation for alternative solver options:\n",
      "    https://scikit-learn.org/stable/modules/linear_model.html#logistic-regression\n",
      "  n_iter_i = _check_optimize_result(\n",
      "E:\\DevPack\\anaconda3\\envs\\data_science\\lib\\site-packages\\sklearn\\linear_model\\_logistic.py:814: ConvergenceWarning: lbfgs failed to converge (status=1):\n",
      "STOP: TOTAL NO. of ITERATIONS REACHED LIMIT.\n",
      "\n",
      "Increase the number of iterations (max_iter) or scale the data as shown in:\n",
      "    https://scikit-learn.org/stable/modules/preprocessing.html\n",
      "Please also refer to the documentation for alternative solver options:\n",
      "    https://scikit-learn.org/stable/modules/linear_model.html#logistic-regression\n",
      "  n_iter_i = _check_optimize_result(\n",
      "E:\\DevPack\\anaconda3\\envs\\data_science\\lib\\site-packages\\sklearn\\linear_model\\_logistic.py:814: ConvergenceWarning: lbfgs failed to converge (status=1):\n",
      "STOP: TOTAL NO. of ITERATIONS REACHED LIMIT.\n",
      "\n",
      "Increase the number of iterations (max_iter) or scale the data as shown in:\n",
      "    https://scikit-learn.org/stable/modules/preprocessing.html\n",
      "Please also refer to the documentation for alternative solver options:\n",
      "    https://scikit-learn.org/stable/modules/linear_model.html#logistic-regression\n",
      "  n_iter_i = _check_optimize_result(\n"
     ]
    }
   ],
   "source": [
    "predicoes = cross_val_predict(getModel(), gpt2Dataframe.values, target, cv=10)"
   ],
   "metadata": {
    "collapsed": false,
    "pycharm": {
     "name": "#%%\n"
    }
   }
  },
  {
   "cell_type": "code",
   "execution_count": 12,
   "outputs": [
    {
     "name": "stdout",
     "output_type": "stream",
     "text": [
      "\n",
      "Classification Report : \n",
      "              precision    recall  f1-score   support\n",
      "\n",
      "         Ham       0.88      0.87      0.88     16493\n",
      "        Spam       0.88      0.88      0.88     16848\n",
      "\n",
      "    accuracy                           0.88     33341\n",
      "   macro avg       0.88      0.88      0.88     33341\n",
      "weighted avg       0.88      0.88      0.88     33341\n",
      "\n"
     ]
    }
   ],
   "source": [
    "print(\"\\nClassification Report : \")\n",
    "print(classification_report(target, predicoes, target_names=[\"Ham\", \"Spam\"]))"
   ],
   "metadata": {
    "collapsed": false,
    "pycharm": {
     "name": "#%%\n"
    }
   }
  },
  {
   "cell_type": "code",
   "execution_count": 13,
   "outputs": [
    {
     "data": {
      "text/plain": "(array([0, 1]), [Text(0, 0, 'Ham'), Text(1, 0, 'Spam')])"
     },
     "execution_count": 13,
     "metadata": {},
     "output_type": "execute_result"
    },
    {
     "data": {
      "text/plain": "<Figure size 360x360 with 2 Axes>",
      "image/png": "[encoded data removed]"
     },
     "metadata": {
      "needs_background": "light"
     },
     "output_type": "display_data"
    }
   ],
   "source": [
    "categories = [\"Ham\", \"Spam\"]\n",
    "\n",
    "skplt.metrics.plot_confusion_matrix(\n",
    "    [categories[i] for i in target], [categories[i] for i in predicoes.tolist()],\n",
    "    title=\"Confusion Matrix\",\n",
    "    cmap=\"Purples\",\n",
    "    hide_zeros=True,\n",
    "    figsize=(5,5)\n",
    ")\n",
    "\n",
    "plt.xticks()"
   ],
   "metadata": {
    "collapsed": false,
    "pycharm": {
     "name": "#%%\n"
    }
   }
  },
  {
   "cell_type": "code",
   "execution_count": 14,
   "outputs": [
    {
     "data": {
      "text/plain": "(array([0, 1]), [Text(0, 0, 'Ham'), Text(1, 0, 'Spam')])"
     },
     "execution_count": 14,
     "metadata": {},
     "output_type": "execute_result"
    },
    {
     "data": {
      "text/plain": "<Figure size 360x360 with 2 Axes>",
      "image/png": "[encoded data removed]"
     },
     "metadata": {
      "needs_background": "light"
     },
     "output_type": "display_data"
    }
   ],
   "source": [
    "skplt.metrics.plot_confusion_matrix(\n",
    "    [categories[i] for i in target], [categories[i] for i in predicoes.tolist()],\n",
    "    normalize=True,\n",
    "    title=\"Confusion Matrix\",\n",
    "    cmap=\"Purples\",\n",
    "    hide_zeros=True,\n",
    "    figsize=(5,5)\n",
    ")\n",
    "\n",
    "plt.xticks()"
   ],
   "metadata": {
    "collapsed": false,
    "pycharm": {
     "name": "#%%\n"
    }
   }
  }
 ],
 "metadata": {
  "kernelspec": {
   "display_name": "Python 3",
   "language": "python",
   "name": "python3"
  },
  "language_info": {
   "codemirror_mode": {
    "name": "ipython",
    "version": 3
   },
   "file_extension": ".py",
   "mimetype": "text/x-python",
   "name": "python",
   "nbconvert_exporter": "python",
   "pygments_lexer": "ipython3",
   "version": "3.8.8"
  }
 },
 "nbformat": 4,
 "nbformat_minor": 1
}