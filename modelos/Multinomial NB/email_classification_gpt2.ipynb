{
 "cells": [
  {
   "cell_type": "code",
   "execution_count": 17,
   "metadata": {
    "collapsed": false,
    "pycharm": {
     "name": "#%%\n"
    }
   },
   "outputs": [],
   "source": [
    "import pandas as pd\n",
    "from sklearn.naive_bayes import GaussianNB\n",
    "from sklearn.model_selection import train_test_split, cross_val_score, cross_val_predict\n",
    "from sklearn.manifold import TSNE\n",
    "from sklearn.metrics import classification_report\n",
    "import scikitplot as skplt\n",
    "import matplotlib.pyplot as plt\n",
    "from simpletransformers.language_representation import RepresentationModel\n"
   ]
  },
  {
   "cell_type": "markdown",
   "metadata": {
    "collapsed": false,
    "pycharm": {
     "name": "#%% md\n"
    }
   },
   "source": [
    "# Carregando base de dados  pré-processada"
   ]
  },
  {
   "cell_type": "code",
   "execution_count": 2,
   "metadata": {
    "collapsed": false,
    "pycharm": {
     "name": "#%%\n"
    }
   },
   "outputs": [
    {
     "data": {
      "text/html": [
       "<div>\n",
       "<style scoped>\n",
       "    .dataframe tbody tr th:only-of-type {\n",
       "        vertical-align: middle;\n",
       "    }\n",
       "\n",
       "    .dataframe tbody tr th {\n",
       "        vertical-align: top;\n",
       "    }\n",
       "\n",
       "    .dataframe thead th {\n",
       "        text-align: right;\n",
       "    }\n",
       "</style>\n",
       "<table border=\"1\" class=\"dataframe\">\n",
       "  <thead>\n",
       "    <tr style=\"text-align: right;\">\n",
       "      <th></th>\n",
       "      <th>email</th>\n",
       "      <th>target</th>\n",
       "    </tr>\n",
       "  </thead>\n",
       "  <tbody>\n",
       "    <tr>\n",
       "      <th>0</th>\n",
       "      <td>start date     hourahead timee  cardinall  hou...</td>\n",
       "      <td>0</td>\n",
       "    </tr>\n",
       "    <tr>\n",
       "      <th>1</th>\n",
       "      <td>service long desk  price structure deal quote ...</td>\n",
       "      <td>0</td>\n",
       "    </tr>\n",
       "    <tr>\n",
       "      <th>2</th>\n",
       "      <td>start date  cardinall    hourahead timee  card...</td>\n",
       "      <td>0</td>\n",
       "    </tr>\n",
       "    <tr>\n",
       "      <th>3</th>\n",
       "      <td>start date     hourahead timee  cardinall  anc...</td>\n",
       "      <td>0</td>\n",
       "    </tr>\n",
       "    <tr>\n",
       "      <th>4</th>\n",
       "      <td>cardinall deliverable revenue management marke...</td>\n",
       "      <td>0</td>\n",
       "    </tr>\n",
       "    <tr>\n",
       "      <th>...</th>\n",
       "      <td>...</td>\n",
       "      <td>...</td>\n",
       "    </tr>\n",
       "    <tr>\n",
       "      <th>33340</th>\n",
       "      <td>bio  matrix scientific group   symbo   bmxg  p...</td>\n",
       "      <td>1</td>\n",
       "    </tr>\n",
       "    <tr>\n",
       "      <th>33341</th>\n",
       "      <td>cardinall step away hot naked webcam girl liv...</td>\n",
       "      <td>1</td>\n",
       "    </tr>\n",
       "    <tr>\n",
       "      <th>33342</th>\n",
       "      <td>need pill increase performance click  seroius ...</td>\n",
       "      <td>1</td>\n",
       "    </tr>\n",
       "    <tr>\n",
       "      <th>33343</th>\n",
       "      <td>datee final nom       inlet hpl  eastrans  car...</td>\n",
       "      <td>0</td>\n",
       "    </tr>\n",
       "    <tr>\n",
       "      <th>33344</th>\n",
       "      <td>ordinall time  offering male enhancement perfo...</td>\n",
       "      <td>1</td>\n",
       "    </tr>\n",
       "  </tbody>\n",
       "</table>\n",
       "<p>33341 rows × 2 columns</p>\n",
       "</div>"
      ],
      "text/plain": [
       "                                                   email  target\n",
       "0      start date     hourahead timee  cardinall  hou...       0\n",
       "1      service long desk  price structure deal quote ...       0\n",
       "2      start date  cardinall    hourahead timee  card...       0\n",
       "3      start date     hourahead timee  cardinall  anc...       0\n",
       "4      cardinall deliverable revenue management marke...       0\n",
       "...                                                  ...     ...\n",
       "33340  bio  matrix scientific group   symbo   bmxg  p...       1\n",
       "33341   cardinall step away hot naked webcam girl liv...       1\n",
       "33342  need pill increase performance click  seroius ...       1\n",
       "33343  datee final nom       inlet hpl  eastrans  car...       0\n",
       "33344  ordinall time  offering male enhancement perfo...       1\n",
       "\n",
       "[33341 rows x 2 columns]"
      ]
     },
     "execution_count": 2,
     "metadata": {},
     "output_type": "execute_result"
    }
   ],
   "source": [
    "database = pd.read_csv(\"../../Database/dataBaseWithNER.csv\")\n",
    "\n",
    "database = database.drop(columns=[\"Unnamed: 0\"])\n",
    "database = database.dropna()\n",
    "target = database[\"target\"].values.tolist()\n",
    "database"
   ]
  },
  {
   "cell_type": "code",
   "execution_count": 3,
   "metadata": {
    "collapsed": false,
    "pycharm": {
     "name": "#%%\n"
    }
   },
   "outputs": [],
   "source": [
    "emailsText = []\n",
    "for email in database[\"email\"]:\n",
    "    emailsText.append(email)"
   ]
  },
  {
   "cell_type": "code",
   "execution_count": 4,
   "metadata": {
    "collapsed": false,
    "pycharm": {
     "name": "#%%\n"
    }
   },
   "outputs": [
    {
     "name": "stdout",
     "output_type": "stream",
     "text": [
      "33341\n"
     ]
    }
   ],
   "source": [
    "print(len(emailsText))"
   ]
  },
  {
   "cell_type": "markdown",
   "metadata": {
    "collapsed": false,
    "pycharm": {
     "name": "#%% md\n"
    }
   },
   "source": [
    "# Representação vetorial GPT2"
   ]
  },
  {
   "cell_type": "code",
   "execution_count": 5,
   "metadata": {
    "collapsed": false,
    "pycharm": {
     "name": "#%%\n"
    }
   },
   "outputs": [
    {
     "name": "stderr",
     "output_type": "stream",
     "text": [
      "Some weights of the model checkpoint at gpt2 were not used when initializing GPT2ForTextRepresentation: ['h.9.mlp.c_proj.weight', 'h.6.mlp.c_fc.weight', 'h.0.attn.c_attn.weight', 'h.4.ln_1.weight', 'h.8.mlp.c_proj.bias', 'h.9.attn.c_attn.bias', 'h.6.attn.c_proj.weight', 'h.10.mlp.c_fc.bias', 'h.7.ln_1.bias', 'h.7.mlp.c_proj.weight', 'h.5.attn.c_proj.weight', 'h.7.ln_1.weight', 'h.3.attn.c_attn.bias', 'h.1.mlp.c_proj.weight', 'h.2.mlp.c_fc.bias', 'h.9.ln_1.bias', 'h.2.ln_1.bias', 'wpe.weight', 'h.3.mlp.c_fc.bias', 'h.4.mlp.c_fc.weight', 'h.10.mlp.c_proj.weight', 'h.10.attn.c_proj.bias', 'h.10.attn.bias', 'h.1.ln_2.weight', 'h.7.attn.c_proj.weight', 'h.2.mlp.c_fc.weight', 'h.6.attn.c_proj.bias', 'h.1.attn.c_attn.bias', 'h.1.ln_1.bias', 'h.0.attn.c_attn.bias', 'h.1.mlp.c_fc.bias', 'h.0.mlp.c_fc.bias', 'h.1.attn.c_attn.weight', 'h.2.attn.bias', 'ln_f.weight', 'h.9.mlp.c_proj.bias', 'h.7.attn.c_attn.bias', 'h.7.mlp.c_fc.weight', 'h.7.mlp.c_fc.bias', 'h.3.ln_2.bias', 'h.6.attn.c_attn.bias', 'h.8.mlp.c_proj.weight', 'h.5.mlp.c_fc.bias', 'h.5.mlp.c_fc.weight', 'h.8.attn.c_proj.bias', 'h.6.ln_1.bias', 'h.3.mlp.c_proj.weight', 'h.8.ln_2.weight', 'h.2.attn.c_proj.weight', 'h.4.ln_2.weight', 'h.3.ln_1.bias', 'h.11.ln_2.bias', 'h.9.attn.c_attn.weight', 'h.9.attn.bias', 'h.10.ln_2.weight', 'h.5.ln_2.bias', 'h.3.attn.c_proj.weight', 'h.3.mlp.c_fc.weight', 'h.0.mlp.c_proj.weight', 'h.1.mlp.c_proj.bias', 'h.9.ln_2.bias', 'h.5.attn.c_attn.weight', 'h.11.mlp.c_proj.weight', 'h.5.mlp.c_proj.weight', 'h.10.ln_1.bias', 'h.8.mlp.c_fc.weight', 'h.11.mlp.c_fc.weight', 'h.4.mlp.c_fc.bias', 'h.5.mlp.c_proj.bias', 'h.3.mlp.c_proj.bias', 'h.9.mlp.c_fc.weight', 'h.8.attn.c_proj.weight', 'h.1.attn.c_proj.weight', 'h.2.mlp.c_proj.bias', 'h.0.attn.bias', 'h.3.ln_1.weight', 'h.10.ln_2.bias', 'h.0.mlp.c_proj.bias', 'h.4.mlp.c_proj.weight', 'h.0.ln_1.bias', 'h.11.attn.c_proj.bias', 'h.6.attn.c_attn.weight', 'h.7.mlp.c_proj.bias', 'h.11.attn.c_attn.bias', 'h.10.attn.c_proj.weight', 'ln_f.bias', 'h.2.ln_2.weight', 'h.7.ln_2.weight', 'h.3.attn.c_attn.weight', 'h.11.attn.c_proj.weight', 'wte.weight', 'h.0.mlp.c_fc.weight', 'h.9.mlp.c_fc.bias', 'h.3.attn.bias', 'h.4.attn.c_proj.bias', 'h.4.ln_1.bias', 'h.6.mlp.c_fc.bias', 'h.10.attn.c_attn.weight', 'h.9.ln_1.weight', 'h.7.attn.bias', 'h.1.ln_1.weight', 'h.11.ln_1.weight', 'h.4.attn.bias', 'h.9.ln_2.weight', 'h.2.attn.c_proj.bias', 'h.10.attn.c_attn.bias', 'h.0.attn.c_proj.bias', 'h.0.ln_2.weight', 'h.5.attn.c_proj.bias', 'h.11.mlp.c_proj.bias', 'h.8.attn.bias', 'h.1.mlp.c_fc.weight', 'h.3.ln_2.weight', 'h.0.ln_1.weight', 'h.5.attn.c_attn.bias', 'h.7.ln_2.bias', 'h.2.mlp.c_proj.weight', 'h.10.ln_1.weight', 'h.5.ln_2.weight', 'h.10.mlp.c_proj.bias', 'h.8.ln_1.weight', 'h.2.attn.c_attn.weight', 'h.3.attn.c_proj.bias', 'h.1.attn.c_proj.bias', 'h.6.ln_1.weight', 'h.2.ln_2.bias', 'h.6.mlp.c_proj.weight', 'h.4.attn.c_proj.weight', 'h.8.mlp.c_fc.bias', 'h.5.ln_1.weight', 'h.4.ln_2.bias', 'h.2.attn.c_attn.bias', 'h.6.ln_2.bias', 'h.2.ln_1.weight', 'h.0.ln_2.bias', 'h.11.ln_1.bias', 'h.4.mlp.c_proj.bias', 'h.8.ln_1.bias', 'h.8.attn.c_attn.weight', 'h.11.ln_2.weight', 'h.6.attn.bias', 'h.11.attn.bias', 'h.11.mlp.c_fc.bias', 'h.7.attn.c_attn.weight', 'h.4.attn.c_attn.weight', 'h.4.attn.c_attn.bias', 'h.6.ln_2.weight', 'h.5.ln_1.bias', 'h.5.attn.bias', 'h.10.mlp.c_fc.weight', 'h.1.attn.bias', 'h.11.attn.c_attn.weight', 'h.0.attn.c_proj.weight', 'h.1.ln_2.bias', 'h.9.attn.c_proj.bias', 'h.9.attn.c_proj.weight', 'h.8.attn.c_attn.bias', 'h.7.attn.c_proj.bias', 'h.6.mlp.c_proj.bias', 'h.8.ln_2.bias']\n",
      "- This IS expected if you are initializing GPT2ForTextRepresentation from the checkpoint of a model trained on another task or with another architecture (e.g. initializing a BertForSequenceClassification model from a BertForPreTraining model).\n",
      "- This IS NOT expected if you are initializing GPT2ForTextRepresentation from the checkpoint of a model that you expect to be exactly identical (initializing a BertForSequenceClassification model from a BertForSequenceClassification model).\n",
      "Some weights of GPT2ForTextRepresentation were not initialized from the model checkpoint at gpt2 and are newly initialized: ['gpt2.h.8.attn.c_proj.bias', 'gpt2.h.5.ln_1.bias', 'gpt2.h.10.mlp.c_fc.bias', 'gpt2.h.10.ln_2.weight', 'gpt2.h.5.attn.masked_bias', 'gpt2.h.1.attn.c_attn.weight', 'gpt2.h.5.attn.c_attn.bias', 'gpt2.h.3.ln_2.weight', 'gpt2.h.6.ln_2.weight', 'gpt2.h.6.attn.masked_bias', 'gpt2.h.2.attn.c_proj.weight', 'gpt2.h.7.ln_2.bias', 'gpt2.h.1.attn.bias', 'gpt2.wte.weight', 'gpt2.h.11.mlp.c_proj.weight', 'gpt2.h.2.mlp.c_proj.bias', 'gpt2.h.1.attn.c_attn.bias', 'gpt2.h.1.ln_2.weight', 'gpt2.h.1.attn.masked_bias', 'gpt2.h.3.attn.c_attn.weight', 'gpt2.h.10.ln_2.bias', 'gpt2.h.3.ln_1.bias', 'gpt2.h.11.mlp.c_fc.bias', 'gpt2.h.0.attn.c_proj.bias', 'gpt2.h.3.attn.c_proj.weight', 'gpt2.h.5.ln_2.bias', 'gpt2.h.8.mlp.c_fc.weight', 'gpt2.h.9.attn.c_attn.bias', 'gpt2.h.3.mlp.c_proj.weight', 'gpt2.h.0.mlp.c_proj.weight', 'gpt2.h.1.ln_1.weight', 'gpt2.h.0.ln_1.weight', 'gpt2.h.4.mlp.c_fc.weight', 'gpt2.h.3.mlp.c_fc.weight', 'gpt2.h.3.ln_2.bias', 'gpt2.h.9.ln_2.bias', 'gpt2.h.9.attn.c_proj.bias', 'gpt2.h.7.attn.c_attn.weight', 'gpt2.h.5.attn.c_proj.weight', 'gpt2.h.9.ln_2.weight', 'gpt2.h.7.attn.bias', 'gpt2.h.5.mlp.c_fc.bias', 'gpt2.h.2.mlp.c_fc.bias', 'gpt2.h.8.ln_1.bias', 'gpt2.h.5.mlp.c_fc.weight', 'gpt2.h.2.mlp.c_fc.weight', 'gpt2.h.6.attn.c_proj.weight', 'gpt2.h.4.attn.c_attn.bias', 'gpt2.h.11.attn.c_attn.bias', 'gpt2.h.8.mlp.c_fc.bias', 'gpt2.h.2.attn.c_attn.weight', 'gpt2.h.10.attn.masked_bias', 'gpt2.h.5.ln_2.weight', 'gpt2.h.4.attn.masked_bias', 'gpt2.h.0.attn.c_attn.bias', 'gpt2.h.3.attn.c_proj.bias', 'gpt2.h.10.ln_1.bias', 'gpt2.h.6.ln_1.weight', 'gpt2.h.7.mlp.c_fc.weight', 'gpt2.h.3.attn.c_attn.bias', 'gpt2.h.10.attn.c_proj.weight', 'gpt2.h.1.mlp.c_proj.weight', 'gpt2.h.4.ln_1.bias', 'gpt2.h.0.attn.masked_bias', 'gpt2.h.10.mlp.c_proj.bias', 'gpt2.h.4.mlp.c_fc.bias', 'gpt2.h.9.mlp.c_fc.weight', 'gpt2.h.4.mlp.c_proj.weight', 'gpt2.h.5.attn.c_proj.bias', 'gpt2.h.5.attn.c_attn.weight', 'gpt2.h.0.attn.c_attn.weight', 'gpt2.h.11.ln_1.bias', 'gpt2.h.8.attn.masked_bias', 'gpt2.h.4.attn.c_proj.bias', 'gpt2.h.8.attn.c_attn.weight', 'gpt2.h.7.mlp.c_proj.weight', 'gpt2.h.7.ln_1.bias', 'gpt2.h.8.mlp.c_proj.bias', 'gpt2.h.2.ln_2.bias', 'gpt2.h.11.attn.bias', 'gpt2.ln_f.bias', 'gpt2.h.4.attn.c_proj.weight', 'gpt2.h.0.attn.c_proj.weight', 'gpt2.h.8.attn.c_proj.weight', 'gpt2.h.10.ln_1.weight', 'gpt2.h.7.attn.masked_bias', 'gpt2.h.11.attn.c_proj.bias', 'gpt2.h.9.attn.bias', 'gpt2.h.11.ln_1.weight', 'gpt2.ln_f.weight', 'gpt2.h.0.ln_2.weight', 'gpt2.h.6.mlp.c_fc.bias', 'gpt2.h.3.mlp.c_proj.bias', 'gpt2.h.6.attn.c_attn.bias', 'gpt2.h.2.ln_1.bias', 'gpt2.h.6.mlp.c_proj.weight', 'gpt2.h.10.mlp.c_fc.weight', 'gpt2.h.9.mlp.c_fc.bias', 'gpt2.h.4.mlp.c_proj.bias', 'gpt2.h.0.ln_2.bias', 'gpt2.h.10.attn.c_attn.weight', 'gpt2.h.0.ln_1.bias', 'gpt2.h.8.attn.c_attn.bias', 'gpt2.h.9.attn.masked_bias', 'gpt2.h.1.attn.c_proj.bias', 'gpt2.h.7.attn.c_proj.weight', 'gpt2.h.7.mlp.c_proj.bias', 'gpt2.h.6.attn.c_attn.weight', 'gpt2.h.6.mlp.c_proj.bias', 'gpt2.h.5.ln_1.weight', 'gpt2.h.5.attn.bias', 'gpt2.h.11.ln_2.bias', 'gpt2.h.9.attn.c_attn.weight', 'gpt2.h.7.mlp.c_fc.bias', 'gpt2.h.2.attn.masked_bias', 'gpt2.h.3.attn.bias', 'gpt2.h.4.attn.bias', 'gpt2.h.4.attn.c_attn.weight', 'gpt2.h.9.ln_1.bias', 'gpt2.h.1.mlp.c_proj.bias', 'gpt2.h.2.ln_2.weight', 'gpt2.h.5.mlp.c_proj.bias', 'gpt2.h.1.attn.c_proj.weight', 'gpt2.h.8.attn.bias', 'gpt2.h.0.mlp.c_proj.bias', 'gpt2.h.3.attn.masked_bias', 'gpt2.h.1.mlp.c_fc.weight', 'gpt2.h.6.mlp.c_fc.weight', 'gpt2.h.0.mlp.c_fc.bias', 'gpt2.h.9.attn.c_proj.weight', 'gpt2.h.1.ln_1.bias', 'gpt2.h.8.ln_2.weight', 'gpt2.h.11.mlp.c_proj.bias', 'gpt2.h.5.mlp.c_proj.weight', 'gpt2.h.0.attn.bias', 'gpt2.h.11.attn.c_proj.weight', 'gpt2.h.3.mlp.c_fc.bias', 'gpt2.h.1.ln_2.bias', 'gpt2.h.4.ln_2.bias', 'gpt2.h.11.attn.masked_bias', 'gpt2.h.11.attn.c_attn.weight', 'gpt2.h.0.mlp.c_fc.weight', 'gpt2.h.3.ln_1.weight', 'gpt2.h.8.mlp.c_proj.weight', 'gpt2.wpe.weight', 'gpt2.h.1.mlp.c_fc.bias', 'gpt2.h.10.attn.c_attn.bias', 'gpt2.h.6.attn.bias', 'gpt2.h.7.attn.c_attn.bias', 'gpt2.h.10.mlp.c_proj.weight', 'gpt2.h.7.ln_2.weight', 'gpt2.h.9.mlp.c_proj.bias', 'gpt2.h.7.attn.c_proj.bias', 'gpt2.h.6.ln_1.bias', 'gpt2.h.9.mlp.c_proj.weight', 'gpt2.h.10.attn.bias', 'gpt2.h.11.ln_2.weight', 'gpt2.h.2.ln_1.weight', 'gpt2.h.2.attn.c_proj.bias', 'gpt2.h.2.attn.bias', 'gpt2.h.6.ln_2.bias', 'gpt2.h.8.ln_2.bias', 'gpt2.h.6.attn.c_proj.bias', 'gpt2.h.11.mlp.c_fc.weight', 'gpt2.h.7.ln_1.weight', 'gpt2.h.2.attn.c_attn.bias', 'gpt2.h.2.mlp.c_proj.weight', 'gpt2.h.4.ln_1.weight', 'gpt2.h.9.ln_1.weight', 'gpt2.h.8.ln_1.weight', 'gpt2.h.10.attn.c_proj.bias', 'gpt2.h.4.ln_2.weight']\n",
      "You should probably TRAIN this model on a down-stream task to be able to use it for predictions and inference.\n"
     ]
    },
    {
     "data": {
      "text/plain": [
       "(33341, 768)"
      ]
     },
     "execution_count": 5,
     "metadata": {},
     "output_type": "execute_result"
    }
   ],
   "source": [
    "model=RepresentationModel(\n",
    "    model_type=\"gpt2\",\n",
    "    model_name=\"gpt2\",\n",
    "    use_cuda=True,\n",
    "    #fp16=True\n",
    ")\n",
    "\n",
    "vectorialRepresentation = model.encode_sentences(emailsText, combine_strategy=\"mean\")\n",
    "vectorialRepresentation.shape"
   ]
  },
  {
   "cell_type": "code",
   "execution_count": 6,
   "metadata": {
    "collapsed": false,
    "pycharm": {
     "name": "#%%\n"
    }
   },
   "outputs": [
    {
     "data": {
      "text/html": [
       "<div>\n",
       "<style scoped>\n",
       "    .dataframe tbody tr th:only-of-type {\n",
       "        vertical-align: middle;\n",
       "    }\n",
       "\n",
       "    .dataframe tbody tr th {\n",
       "        vertical-align: top;\n",
       "    }\n",
       "\n",
       "    .dataframe thead th {\n",
       "        text-align: right;\n",
       "    }\n",
       "</style>\n",
       "<table border=\"1\" class=\"dataframe\">\n",
       "  <thead>\n",
       "    <tr style=\"text-align: right;\">\n",
       "      <th></th>\n",
       "      <th>0</th>\n",
       "      <th>1</th>\n",
       "      <th>2</th>\n",
       "      <th>3</th>\n",
       "      <th>4</th>\n",
       "      <th>5</th>\n",
       "      <th>6</th>\n",
       "      <th>7</th>\n",
       "      <th>8</th>\n",
       "      <th>9</th>\n",
       "      <th>...</th>\n",
       "      <th>758</th>\n",
       "      <th>759</th>\n",
       "      <th>760</th>\n",
       "      <th>761</th>\n",
       "      <th>762</th>\n",
       "      <th>763</th>\n",
       "      <th>764</th>\n",
       "      <th>765</th>\n",
       "      <th>766</th>\n",
       "      <th>767</th>\n",
       "    </tr>\n",
       "  </thead>\n",
       "  <tbody>\n",
       "    <tr>\n",
       "      <th>0</th>\n",
       "      <td>-0.397625</td>\n",
       "      <td>-1.083719</td>\n",
       "      <td>-1.889417</td>\n",
       "      <td>-0.292610</td>\n",
       "      <td>1.774930</td>\n",
       "      <td>-0.764047</td>\n",
       "      <td>0.798261</td>\n",
       "      <td>2.218202</td>\n",
       "      <td>-1.085185</td>\n",
       "      <td>-0.196452</td>\n",
       "      <td>...</td>\n",
       "      <td>-0.704116</td>\n",
       "      <td>0.047525</td>\n",
       "      <td>0.915839</td>\n",
       "      <td>-0.524774</td>\n",
       "      <td>0.910281</td>\n",
       "      <td>1.349577</td>\n",
       "      <td>-0.883586</td>\n",
       "      <td>0.163145</td>\n",
       "      <td>0.625139</td>\n",
       "      <td>0.003384</td>\n",
       "    </tr>\n",
       "    <tr>\n",
       "      <th>1</th>\n",
       "      <td>0.818216</td>\n",
       "      <td>-1.437072</td>\n",
       "      <td>-0.973405</td>\n",
       "      <td>0.011228</td>\n",
       "      <td>2.817455</td>\n",
       "      <td>-0.719763</td>\n",
       "      <td>-0.499551</td>\n",
       "      <td>0.789617</td>\n",
       "      <td>-1.280326</td>\n",
       "      <td>0.530723</td>\n",
       "      <td>...</td>\n",
       "      <td>0.699059</td>\n",
       "      <td>0.770773</td>\n",
       "      <td>-0.696899</td>\n",
       "      <td>0.559768</td>\n",
       "      <td>0.410770</td>\n",
       "      <td>0.476668</td>\n",
       "      <td>0.786625</td>\n",
       "      <td>-0.407283</td>\n",
       "      <td>0.121173</td>\n",
       "      <td>0.558065</td>\n",
       "    </tr>\n",
       "    <tr>\n",
       "      <th>2</th>\n",
       "      <td>-0.143072</td>\n",
       "      <td>-0.908672</td>\n",
       "      <td>-1.296775</td>\n",
       "      <td>0.066643</td>\n",
       "      <td>2.283197</td>\n",
       "      <td>-0.375665</td>\n",
       "      <td>0.282034</td>\n",
       "      <td>1.387876</td>\n",
       "      <td>-1.090591</td>\n",
       "      <td>-0.224934</td>\n",
       "      <td>...</td>\n",
       "      <td>-0.591289</td>\n",
       "      <td>0.166411</td>\n",
       "      <td>0.426350</td>\n",
       "      <td>-0.201173</td>\n",
       "      <td>0.835536</td>\n",
       "      <td>0.976172</td>\n",
       "      <td>-0.277665</td>\n",
       "      <td>0.350200</td>\n",
       "      <td>0.231636</td>\n",
       "      <td>-0.071385</td>\n",
       "    </tr>\n",
       "    <tr>\n",
       "      <th>3</th>\n",
       "      <td>-0.276648</td>\n",
       "      <td>-1.086580</td>\n",
       "      <td>-1.489241</td>\n",
       "      <td>-0.092190</td>\n",
       "      <td>1.776576</td>\n",
       "      <td>-0.707113</td>\n",
       "      <td>0.338181</td>\n",
       "      <td>1.659503</td>\n",
       "      <td>-1.212021</td>\n",
       "      <td>-0.222451</td>\n",
       "      <td>...</td>\n",
       "      <td>-0.409304</td>\n",
       "      <td>0.220759</td>\n",
       "      <td>0.434961</td>\n",
       "      <td>-0.283765</td>\n",
       "      <td>0.687924</td>\n",
       "      <td>1.030854</td>\n",
       "      <td>-0.274998</td>\n",
       "      <td>0.237702</td>\n",
       "      <td>0.144312</td>\n",
       "      <td>0.104457</td>\n",
       "    </tr>\n",
       "    <tr>\n",
       "      <th>4</th>\n",
       "      <td>-0.571274</td>\n",
       "      <td>-0.627774</td>\n",
       "      <td>0.962667</td>\n",
       "      <td>-0.511915</td>\n",
       "      <td>1.697630</td>\n",
       "      <td>-0.323768</td>\n",
       "      <td>-0.610472</td>\n",
       "      <td>-0.083099</td>\n",
       "      <td>-0.664098</td>\n",
       "      <td>0.267651</td>\n",
       "      <td>...</td>\n",
       "      <td>-0.457068</td>\n",
       "      <td>0.566648</td>\n",
       "      <td>0.751385</td>\n",
       "      <td>-0.593250</td>\n",
       "      <td>0.439791</td>\n",
       "      <td>-0.230630</td>\n",
       "      <td>1.205879</td>\n",
       "      <td>-0.196662</td>\n",
       "      <td>-0.896971</td>\n",
       "      <td>0.443820</td>\n",
       "    </tr>\n",
       "    <tr>\n",
       "      <th>...</th>\n",
       "      <td>...</td>\n",
       "      <td>...</td>\n",
       "      <td>...</td>\n",
       "      <td>...</td>\n",
       "      <td>...</td>\n",
       "      <td>...</td>\n",
       "      <td>...</td>\n",
       "      <td>...</td>\n",
       "      <td>...</td>\n",
       "      <td>...</td>\n",
       "      <td>...</td>\n",
       "      <td>...</td>\n",
       "      <td>...</td>\n",
       "      <td>...</td>\n",
       "      <td>...</td>\n",
       "      <td>...</td>\n",
       "      <td>...</td>\n",
       "      <td>...</td>\n",
       "      <td>...</td>\n",
       "      <td>...</td>\n",
       "      <td>...</td>\n",
       "    </tr>\n",
       "    <tr>\n",
       "      <th>33336</th>\n",
       "      <td>-0.247319</td>\n",
       "      <td>-0.202255</td>\n",
       "      <td>-1.467946</td>\n",
       "      <td>-0.284262</td>\n",
       "      <td>1.486154</td>\n",
       "      <td>0.239148</td>\n",
       "      <td>-0.753588</td>\n",
       "      <td>1.127324</td>\n",
       "      <td>-1.877439</td>\n",
       "      <td>-0.303002</td>\n",
       "      <td>...</td>\n",
       "      <td>-0.321081</td>\n",
       "      <td>0.252441</td>\n",
       "      <td>-0.004446</td>\n",
       "      <td>0.306962</td>\n",
       "      <td>0.228940</td>\n",
       "      <td>1.284970</td>\n",
       "      <td>0.303134</td>\n",
       "      <td>1.074510</td>\n",
       "      <td>0.016634</td>\n",
       "      <td>0.360766</td>\n",
       "    </tr>\n",
       "    <tr>\n",
       "      <th>33337</th>\n",
       "      <td>-0.192474</td>\n",
       "      <td>-0.958504</td>\n",
       "      <td>-0.319695</td>\n",
       "      <td>-0.392413</td>\n",
       "      <td>2.539647</td>\n",
       "      <td>0.437710</td>\n",
       "      <td>0.038079</td>\n",
       "      <td>0.456635</td>\n",
       "      <td>-1.160619</td>\n",
       "      <td>0.402353</td>\n",
       "      <td>...</td>\n",
       "      <td>-0.489840</td>\n",
       "      <td>0.210484</td>\n",
       "      <td>0.829286</td>\n",
       "      <td>0.181974</td>\n",
       "      <td>1.274482</td>\n",
       "      <td>0.536807</td>\n",
       "      <td>-0.545967</td>\n",
       "      <td>-0.317020</td>\n",
       "      <td>-0.012539</td>\n",
       "      <td>-0.565553</td>\n",
       "    </tr>\n",
       "    <tr>\n",
       "      <th>33338</th>\n",
       "      <td>-0.492450</td>\n",
       "      <td>-1.144823</td>\n",
       "      <td>-1.366165</td>\n",
       "      <td>-0.222596</td>\n",
       "      <td>1.062512</td>\n",
       "      <td>-0.602002</td>\n",
       "      <td>-0.316097</td>\n",
       "      <td>0.985071</td>\n",
       "      <td>-0.898040</td>\n",
       "      <td>0.673940</td>\n",
       "      <td>...</td>\n",
       "      <td>0.133835</td>\n",
       "      <td>0.609297</td>\n",
       "      <td>-0.214884</td>\n",
       "      <td>0.847856</td>\n",
       "      <td>0.833347</td>\n",
       "      <td>0.556635</td>\n",
       "      <td>-0.115957</td>\n",
       "      <td>0.413256</td>\n",
       "      <td>-0.021021</td>\n",
       "      <td>0.399411</td>\n",
       "    </tr>\n",
       "    <tr>\n",
       "      <th>33339</th>\n",
       "      <td>0.224846</td>\n",
       "      <td>-0.904264</td>\n",
       "      <td>-0.840356</td>\n",
       "      <td>-0.332988</td>\n",
       "      <td>1.709903</td>\n",
       "      <td>0.014841</td>\n",
       "      <td>-0.508155</td>\n",
       "      <td>1.374448</td>\n",
       "      <td>-1.523857</td>\n",
       "      <td>-0.325184</td>\n",
       "      <td>...</td>\n",
       "      <td>-0.652910</td>\n",
       "      <td>-0.080578</td>\n",
       "      <td>0.005434</td>\n",
       "      <td>0.203759</td>\n",
       "      <td>1.234858</td>\n",
       "      <td>0.042488</td>\n",
       "      <td>0.324373</td>\n",
       "      <td>0.511807</td>\n",
       "      <td>-0.685305</td>\n",
       "      <td>0.632299</td>\n",
       "    </tr>\n",
       "    <tr>\n",
       "      <th>33340</th>\n",
       "      <td>0.235877</td>\n",
       "      <td>-0.334494</td>\n",
       "      <td>-0.738940</td>\n",
       "      <td>-1.054120</td>\n",
       "      <td>1.634151</td>\n",
       "      <td>0.134536</td>\n",
       "      <td>0.187121</td>\n",
       "      <td>0.030648</td>\n",
       "      <td>-1.912334</td>\n",
       "      <td>0.286360</td>\n",
       "      <td>...</td>\n",
       "      <td>-0.220184</td>\n",
       "      <td>0.726066</td>\n",
       "      <td>0.371613</td>\n",
       "      <td>0.259973</td>\n",
       "      <td>0.433629</td>\n",
       "      <td>0.533060</td>\n",
       "      <td>0.493256</td>\n",
       "      <td>-0.015869</td>\n",
       "      <td>-0.251891</td>\n",
       "      <td>-0.120492</td>\n",
       "    </tr>\n",
       "  </tbody>\n",
       "</table>\n",
       "<p>33341 rows × 768 columns</p>\n",
       "</div>"
      ],
      "text/plain": [
       "            0         1         2         3         4         5         6    \\\n",
       "0     -0.397625 -1.083719 -1.889417 -0.292610  1.774930 -0.764047  0.798261   \n",
       "1      0.818216 -1.437072 -0.973405  0.011228  2.817455 -0.719763 -0.499551   \n",
       "2     -0.143072 -0.908672 -1.296775  0.066643  2.283197 -0.375665  0.282034   \n",
       "3     -0.276648 -1.086580 -1.489241 -0.092190  1.776576 -0.707113  0.338181   \n",
       "4     -0.571274 -0.627774  0.962667 -0.511915  1.697630 -0.323768 -0.610472   \n",
       "...         ...       ...       ...       ...       ...       ...       ...   \n",
       "33336 -0.247319 -0.202255 -1.467946 -0.284262  1.486154  0.239148 -0.753588   \n",
       "33337 -0.192474 -0.958504 -0.319695 -0.392413  2.539647  0.437710  0.038079   \n",
       "33338 -0.492450 -1.144823 -1.366165 -0.222596  1.062512 -0.602002 -0.316097   \n",
       "33339  0.224846 -0.904264 -0.840356 -0.332988  1.709903  0.014841 -0.508155   \n",
       "33340  0.235877 -0.334494 -0.738940 -1.054120  1.634151  0.134536  0.187121   \n",
       "\n",
       "            7         8         9    ...       758       759       760  \\\n",
       "0      2.218202 -1.085185 -0.196452  ... -0.704116  0.047525  0.915839   \n",
       "1      0.789617 -1.280326  0.530723  ...  0.699059  0.770773 -0.696899   \n",
       "2      1.387876 -1.090591 -0.224934  ... -0.591289  0.166411  0.426350   \n",
       "3      1.659503 -1.212021 -0.222451  ... -0.409304  0.220759  0.434961   \n",
       "4     -0.083099 -0.664098  0.267651  ... -0.457068  0.566648  0.751385   \n",
       "...         ...       ...       ...  ...       ...       ...       ...   \n",
       "33336  1.127324 -1.877439 -0.303002  ... -0.321081  0.252441 -0.004446   \n",
       "33337  0.456635 -1.160619  0.402353  ... -0.489840  0.210484  0.829286   \n",
       "33338  0.985071 -0.898040  0.673940  ...  0.133835  0.609297 -0.214884   \n",
       "33339  1.374448 -1.523857 -0.325184  ... -0.652910 -0.080578  0.005434   \n",
       "33340  0.030648 -1.912334  0.286360  ... -0.220184  0.726066  0.371613   \n",
       "\n",
       "            761       762       763       764       765       766       767  \n",
       "0     -0.524774  0.910281  1.349577 -0.883586  0.163145  0.625139  0.003384  \n",
       "1      0.559768  0.410770  0.476668  0.786625 -0.407283  0.121173  0.558065  \n",
       "2     -0.201173  0.835536  0.976172 -0.277665  0.350200  0.231636 -0.071385  \n",
       "3     -0.283765  0.687924  1.030854 -0.274998  0.237702  0.144312  0.104457  \n",
       "4     -0.593250  0.439791 -0.230630  1.205879 -0.196662 -0.896971  0.443820  \n",
       "...         ...       ...       ...       ...       ...       ...       ...  \n",
       "33336  0.306962  0.228940  1.284970  0.303134  1.074510  0.016634  0.360766  \n",
       "33337  0.181974  1.274482  0.536807 -0.545967 -0.317020 -0.012539 -0.565553  \n",
       "33338  0.847856  0.833347  0.556635 -0.115957  0.413256 -0.021021  0.399411  \n",
       "33339  0.203759  1.234858  0.042488  0.324373  0.511807 -0.685305  0.632299  \n",
       "33340  0.259973  0.433629  0.533060  0.493256 -0.015869 -0.251891 -0.120492  \n",
       "\n",
       "[33341 rows x 768 columns]"
      ]
     },
     "execution_count": 6,
     "metadata": {},
     "output_type": "execute_result"
    }
   ],
   "source": [
    "gpt2Dataframe = pd.DataFrame(vectorialRepresentation)\n",
    "gpt2Dataframe"
   ]
  },
  {
   "cell_type": "markdown",
   "metadata": {
    "collapsed": false,
    "pycharm": {
     "name": "#%% md\n"
    }
   },
   "source": [
    "# Visualização de dados com TSNE"
   ]
  },
  {
   "cell_type": "code",
   "execution_count": 7,
   "metadata": {
    "collapsed": false,
    "pycharm": {
     "name": "#%%\n"
    }
   },
   "outputs": [
    {
     "name": "stdout",
     "output_type": "stream",
     "text": [
      "               0          1  Target\n",
      "0     -59.626762 -46.397293       0\n",
      "1     -14.737188 -34.617622       0\n",
      "2      46.696259   9.561372       0\n",
      "3      73.081680 -10.244417       0\n",
      "4      -4.475343  53.896320       0\n",
      "...          ...        ...     ...\n",
      "33336   9.725403  13.364982       1\n",
      "33337   1.431885  32.345341       1\n",
      "33338   8.692756 -19.497305       1\n",
      "33339  12.641131 -22.820452       0\n",
      "33340   2.919549  25.400606       1\n",
      "\n",
      "[33341 rows x 3 columns]\n"
     ]
    },
    {
     "data": {
      "image/png": "[encoded data removed]",
      "text/plain": [
       "<Figure size 432x288 with 1 Axes>"
      ]
     },
     "metadata": {
      "needs_background": "light"
     },
     "output_type": "display_data"
    }
   ],
   "source": [
    "model = TSNE(n_components=2, random_state=0)\n",
    "array_red = model.fit_transform(gpt2Dataframe)\n",
    "\n",
    "df_tsne = pd.DataFrame(array_red)\n",
    "\n",
    "df_tsne['Target'] = target\n",
    "print(df_tsne)\n",
    "df_tsne_c1 = df_tsne[df_tsne['Target'] == 0]\n",
    "\n",
    "df_tsne_c2 = df_tsne[df_tsne['Target'] == 1]\n",
    "\n",
    "plt.scatter(df_tsne_c1[0].array,df_tsne_c1[1].array,marker='o',color='blue')\n",
    "\n",
    "plt.scatter(df_tsne_c2[0].array,df_tsne_c2[1].array,marker='o',color='red')\n",
    "\n",
    "plt.title('Dados')\n",
    "plt.xlabel('x')\n",
    "plt.ylabel('y')\n",
    "\n",
    "plt.show()"
   ]
  },
  {
   "cell_type": "markdown",
   "metadata": {
    "collapsed": false,
    "pycharm": {
     "name": "#%% md\n"
    }
   },
   "source": [
    "# Validação"
   ]
  },
  {
   "cell_type": "code",
   "execution_count": 18,
   "metadata": {
    "collapsed": false,
    "pycharm": {
     "name": "#%%\n"
    }
   },
   "outputs": [],
   "source": [
    "def getModel():\n",
    "\n",
    "    return GaussianNB()"
   ]
  },
  {
   "cell_type": "code",
   "execution_count": 19,
   "metadata": {
    "collapsed": false,
    "pycharm": {
     "name": "#%%\n"
    }
   },
   "outputs": [
    {
     "data": {
      "text/plain": [
       "0.6768630979157295"
      ]
     },
     "execution_count": 19,
     "metadata": {},
     "output_type": "execute_result"
    }
   ],
   "source": [
    "\n",
    "\n",
    "X_treino, X_teste, y_treino, y_teste = train_test_split(gpt2Dataframe.values,target,test_size=0.2)\n",
    "modelo = getModel().fit(X_treino,y_treino)\n",
    "score = modelo.score(X_teste,y_teste)\n",
    "score"
   ]
  },
  {
   "cell_type": "code",
   "execution_count": 20,
   "metadata": {
    "collapsed": false,
    "pycharm": {
     "name": "#%%\n"
    }
   },
   "outputs": [
    {
     "data": {
      "text/plain": [
       "0.6777846259833491"
      ]
     },
     "execution_count": 20,
     "metadata": {},
     "output_type": "execute_result"
    }
   ],
   "source": [
    "scores = cross_val_score(getModel(),gpt2Dataframe.values,target,cv=10)\n",
    "\n",
    "scores.mean()"
   ]
  },
  {
   "cell_type": "code",
   "execution_count": 21,
   "metadata": {
    "collapsed": false,
    "pycharm": {
     "name": "#%%\n"
    }
   },
   "outputs": [],
   "source": [
    "predicoes = cross_val_predict(getModel(), gpt2Dataframe.values, target, cv=10)"
   ]
  },
  {
   "cell_type": "code",
   "execution_count": 22,
   "metadata": {
    "collapsed": false,
    "pycharm": {
     "name": "#%%\n"
    }
   },
   "outputs": [
    {
     "name": "stdout",
     "output_type": "stream",
     "text": [
      "\n",
      "Classification Report : \n",
      "              precision    recall  f1-score   support\n",
      "\n",
      "         Ham       0.67      0.70      0.68     16493\n",
      "        Spam       0.69      0.66      0.67     16848\n",
      "\n",
      "    accuracy                           0.68     33341\n",
      "   macro avg       0.68      0.68      0.68     33341\n",
      "weighted avg       0.68      0.68      0.68     33341\n",
      "\n"
     ]
    }
   ],
   "source": [
    "print(\"\\nClassification Report : \")\n",
    "print(classification_report(target, predicoes, target_names=[\"Ham\", \"Spam\"]))"
   ]
  },
  {
   "cell_type": "code",
   "execution_count": 23,
   "metadata": {
    "collapsed": false,
    "pycharm": {
     "name": "#%%\n"
    }
   },
   "outputs": [
    {
     "data": {
      "text/plain": [
       "(array([0, 1]), [Text(0, 0, 'Ham'), Text(1, 0, 'Spam')])"
      ]
     },
     "execution_count": 23,
     "metadata": {},
     "output_type": "execute_result"
    },
    {
     "data": {
      "image/png": "[encoded data removed]",
      "text/plain": [
       "<Figure size 360x360 with 2 Axes>"
      ]
     },
     "metadata": {
      "needs_background": "light"
     },
     "output_type": "display_data"
    }
   ],
   "source": [
    "categories = [\"Ham\", \"Spam\"]\n",
    "\n",
    "skplt.metrics.plot_confusion_matrix(\n",
    "    [categories[i] for i in target], [categories[i] for i in predicoes.tolist()],\n",
    "    title=\"Confusion Matrix\",\n",
    "    cmap=\"Purples\",\n",
    "    hide_zeros=True,\n",
    "    figsize=(5,5)\n",
    ")\n",
    "\n",
    "plt.xticks()"
   ]
  },
  {
   "cell_type": "code",
   "execution_count": 24,
   "metadata": {
    "collapsed": false,
    "pycharm": {
     "name": "#%%\n"
    }
   },
   "outputs": [
    {
     "data": {
      "text/plain": [
       "(array([0, 1]), [Text(0, 0, 'Ham'), Text(1, 0, 'Spam')])"
      ]
     },
     "execution_count": 24,
     "metadata": {},
     "output_type": "execute_result"
    },
    {
     "data": {
      "image/png": "[encoded data removed]",
      "text/plain": [
       "<Figure size 360x360 with 2 Axes>"
      ]
     },
     "metadata": {
      "needs_background": "light"
     },
     "output_type": "display_data"
    }
   ],
   "source": [
    "skplt.metrics.plot_confusion_matrix(\n",
    "    [categories[i] for i in target], [categories[i] for i in predicoes.tolist()],\n",
    "    normalize=True,\n",
    "    title=\"Confusion Matrix\",\n",
    "    cmap=\"Purples\",\n",
    "    hide_zeros=True,\n",
    "    figsize=(5,5)\n",
    ")\n",
    "\n",
    "plt.xticks()"
   ]
  }
 ],
 "metadata": {
  "interpreter": {
   "hash": "ad2bdc8ecc057115af97d19610ffacc2b4e99fae6737bb82f5d7fb13d2f2c186"
  },
  "kernelspec": {
   "display_name": "Python 3.8.8 ('base')",
   "language": "python",
   "name": "python3"
  },
  "language_info": {
   "codemirror_mode": {
    "name": "ipython",
    "version": 3
   },
   "file_extension": ".py",
   "mimetype": "text/x-python",
   "name": "python",
   "nbconvert_exporter": "python",
   "pygments_lexer": "ipython3",
   "version": "3.8.8"
  }
 },
 "nbformat": 4,
 "nbformat_minor": 1
}
