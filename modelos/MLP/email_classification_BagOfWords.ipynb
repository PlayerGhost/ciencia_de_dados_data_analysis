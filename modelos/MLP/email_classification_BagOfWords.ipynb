{
 "cells": [
  {
   "cell_type": "code",
   "execution_count": 17,
   "metadata": {
    "collapsed": false,
    "pycharm": {
     "name": "#%%\n"
    }
   },
   "outputs": [],
   "source": [
    "import pandas as pd\n",
    "import numpy as np\n",
    "from sklearn.tree import DecisionTreeClassifier\n",
    "from sklearn.model_selection import train_test_split, cross_val_score, cross_val_predict\n",
    "from sklearn.manifold import TSNE\n",
    "from sklearn.feature_extraction.text import CountVectorizer\n",
    "from sklearn.metrics import classification_report, confusion_matrix\n",
    "import matplotlib.pyplot as plt\n",
    "import scikitplot as skplt\n",
    "import tensorflow as tf\n",
    "from tensorflow import keras\n",
    "import seaborn as sns"
   ]
  },
  {
   "cell_type": "markdown",
   "metadata": {
    "collapsed": false,
    "pycharm": {
     "name": "#%% md\n"
    }
   },
   "source": [
    "# Carregando base de dados  pré-processada"
   ]
  },
  {
   "cell_type": "code",
   "execution_count": 18,
   "metadata": {
    "collapsed": false,
    "pycharm": {
     "name": "#%%\n"
    }
   },
   "outputs": [
    {
     "data": {
      "text/plain": "                                                   email  target\n0      sandoval  vcsc  brand new stock attention voca...       1\n1      tired spending extra  purchase medication  wan...       1\n2      request  start providing datee status report w...       0\n3                                           got  stuart        0\n4      want money home  tired working  welcome future...       1\n...                                                  ...     ...\n26671  old fish young flesh feed men best win  lose m...       1\n26672  hello vince  thank forwarding message  hope  r...       0\n26673  customer better selection dr  prescribed remed...       1\n26674  working company  image  start visual identity ...       1\n26675  david       original message       dupre  pers...       0\n\n[26673 rows x 2 columns]",
      "text/html": "<div>\n<style scoped>\n    .dataframe tbody tr th:only-of-type {\n        vertical-align: middle;\n    }\n\n    .dataframe tbody tr th {\n        vertical-align: top;\n    }\n\n    .dataframe thead th {\n        text-align: right;\n    }\n</style>\n<table border=\"1\" class=\"dataframe\">\n  <thead>\n    <tr style=\"text-align: right;\">\n      <th></th>\n      <th>email</th>\n      <th>target</th>\n    </tr>\n  </thead>\n  <tbody>\n    <tr>\n      <th>0</th>\n      <td>sandoval  vcsc  brand new stock attention voca...</td>\n      <td>1</td>\n    </tr>\n    <tr>\n      <th>1</th>\n      <td>tired spending extra  purchase medication  wan...</td>\n      <td>1</td>\n    </tr>\n    <tr>\n      <th>2</th>\n      <td>request  start providing datee status report w...</td>\n      <td>0</td>\n    </tr>\n    <tr>\n      <th>3</th>\n      <td>got  stuart</td>\n      <td>0</td>\n    </tr>\n    <tr>\n      <th>4</th>\n      <td>want money home  tired working  welcome future...</td>\n      <td>1</td>\n    </tr>\n    <tr>\n      <th>...</th>\n      <td>...</td>\n      <td>...</td>\n    </tr>\n    <tr>\n      <th>26671</th>\n      <td>old fish young flesh feed men best win  lose m...</td>\n      <td>1</td>\n    </tr>\n    <tr>\n      <th>26672</th>\n      <td>hello vince  thank forwarding message  hope  r...</td>\n      <td>0</td>\n    </tr>\n    <tr>\n      <th>26673</th>\n      <td>customer better selection dr  prescribed remed...</td>\n      <td>1</td>\n    </tr>\n    <tr>\n      <th>26674</th>\n      <td>working company  image  start visual identity ...</td>\n      <td>1</td>\n    </tr>\n    <tr>\n      <th>26675</th>\n      <td>david       original message       dupre  pers...</td>\n      <td>0</td>\n    </tr>\n  </tbody>\n</table>\n<p>26673 rows × 2 columns</p>\n</div>"
     },
     "execution_count": 18,
     "metadata": {},
     "output_type": "execute_result"
    }
   ],
   "source": [
    "trainSet = pd.read_csv(\"../../Database/emailsTrainSet.csv\")\n",
    "trainSet = trainSet.drop(columns=[\"Unnamed: 0\"])\n",
    "trainSet = trainSet.dropna()\n",
    "trainTarget = trainSet[\"target\"].array\n",
    "\n",
    "trainSet"
   ]
  },
  {
   "cell_type": "code",
   "execution_count": 19,
   "outputs": [
    {
     "data": {
      "text/plain": "                                                  email  target\n0     note personn  pleased announce effective datee...       0\n1     dear orgg japan team  disregard datee  notice ...       0\n2     save medl correct cation percentt  pharmsho sp...       1\n3                           forwarded personn datee ...       0\n4     hi  genierc gpee viarga  caiils  available oin...       1\n...                                                 ...     ...\n6664   searching place buy med  online   recently pl...       1\n6665  approval process initiated datee meeting event...       0\n6666  credit mess  want perfect credit   nice easily...       1\n6667  tue  datee  cardinall  cardinall dear sir  hop...       1\n6668  daren  fyi  orig  cardinall  cardinall  rev  c...       0\n\n[6668 rows x 2 columns]",
      "text/html": "<div>\n<style scoped>\n    .dataframe tbody tr th:only-of-type {\n        vertical-align: middle;\n    }\n\n    .dataframe tbody tr th {\n        vertical-align: top;\n    }\n\n    .dataframe thead th {\n        text-align: right;\n    }\n</style>\n<table border=\"1\" class=\"dataframe\">\n  <thead>\n    <tr style=\"text-align: right;\">\n      <th></th>\n      <th>email</th>\n      <th>target</th>\n    </tr>\n  </thead>\n  <tbody>\n    <tr>\n      <th>0</th>\n      <td>note personn  pleased announce effective datee...</td>\n      <td>0</td>\n    </tr>\n    <tr>\n      <th>1</th>\n      <td>dear orgg japan team  disregard datee  notice ...</td>\n      <td>0</td>\n    </tr>\n    <tr>\n      <th>2</th>\n      <td>save medl correct cation percentt  pharmsho sp...</td>\n      <td>1</td>\n    </tr>\n    <tr>\n      <th>3</th>\n      <td>forwarded personn datee ...</td>\n      <td>0</td>\n    </tr>\n    <tr>\n      <th>4</th>\n      <td>hi  genierc gpee viarga  caiils  available oin...</td>\n      <td>1</td>\n    </tr>\n    <tr>\n      <th>...</th>\n      <td>...</td>\n      <td>...</td>\n    </tr>\n    <tr>\n      <th>6664</th>\n      <td>searching place buy med  online   recently pl...</td>\n      <td>1</td>\n    </tr>\n    <tr>\n      <th>6665</th>\n      <td>approval process initiated datee meeting event...</td>\n      <td>0</td>\n    </tr>\n    <tr>\n      <th>6666</th>\n      <td>credit mess  want perfect credit   nice easily...</td>\n      <td>1</td>\n    </tr>\n    <tr>\n      <th>6667</th>\n      <td>tue  datee  cardinall  cardinall dear sir  hop...</td>\n      <td>1</td>\n    </tr>\n    <tr>\n      <th>6668</th>\n      <td>daren  fyi  orig  cardinall  cardinall  rev  c...</td>\n      <td>0</td>\n    </tr>\n  </tbody>\n</table>\n<p>6668 rows × 2 columns</p>\n</div>"
     },
     "execution_count": 19,
     "metadata": {},
     "output_type": "execute_result"
    }
   ],
   "source": [
    "testSet = pd.read_csv(\"../../Database/emailsTestSet.csv\")\n",
    "testSet = testSet.drop(columns=[\"Unnamed: 0\"])\n",
    "testSet = testSet.dropna()\n",
    "testTarget = testSet[\"target\"].array\n",
    "\n",
    "testSet"
   ],
   "metadata": {
    "collapsed": false,
    "pycharm": {
     "name": "#%%\n"
    }
   }
  },
  {
   "cell_type": "code",
   "execution_count": 20,
   "metadata": {
    "collapsed": false,
    "pycharm": {
     "name": "#%%\n"
    }
   },
   "outputs": [],
   "source": [
    "emailsTextTrain = []\n",
    "for email in trainSet[\"email\"]:\n",
    "    emailsTextTrain.append(email)"
   ]
  },
  {
   "cell_type": "code",
   "execution_count": 21,
   "outputs": [],
   "source": [
    "emailsTextTest = []\n",
    "for email in testSet[\"email\"]:\n",
    "    emailsTextTest.append(email)"
   ],
   "metadata": {
    "collapsed": false,
    "pycharm": {
     "name": "#%%\n"
    }
   }
  },
  {
   "cell_type": "code",
   "execution_count": 22,
   "metadata": {
    "collapsed": false,
    "pycharm": {
     "name": "#%%\n"
    }
   },
   "outputs": [
    {
     "name": "stdout",
     "output_type": "stream",
     "text": [
      "26673\n"
     ]
    }
   ],
   "source": [
    "print(len(emailsTextTrain))"
   ]
  },
  {
   "cell_type": "code",
   "execution_count": 23,
   "outputs": [
    {
     "name": "stdout",
     "output_type": "stream",
     "text": [
      "6668\n"
     ]
    }
   ],
   "source": [
    "print(len(emailsTextTest))"
   ],
   "metadata": {
    "collapsed": false,
    "pycharm": {
     "name": "#%%\n"
    }
   }
  },
  {
   "cell_type": "markdown",
   "metadata": {
    "collapsed": false,
    "pycharm": {
     "name": "#%% md\n"
    }
   },
   "source": [
    "# Representação vetorial Bag of Words"
   ]
  },
  {
   "cell_type": "code",
   "execution_count": 24,
   "metadata": {
    "collapsed": false,
    "pycharm": {
     "name": "#%%\n"
    }
   },
   "outputs": [
    {
     "name": "stderr",
     "output_type": "stream",
     "text": [
      "E:\\DevPack\\anaconda3\\envs\\data_science\\lib\\site-packages\\sklearn\\utils\\deprecation.py:87: FutureWarning: Function get_feature_names is deprecated; get_feature_names is deprecated in 1.0 and will be removed in 1.2. Please use get_feature_names_out instead.\n",
      "  warnings.warn(msg, category=FutureWarning)\n"
     ]
    },
    {
     "data": {
      "text/plain": "       aa  ability  able  absolutely  accept  acceptance  accepted  access  \\\n0       0        0     0           0       0           0         0       0   \n1       0        0     0           0       0           0         0       0   \n2       0        0     0           0       0           0         0       0   \n3       0        0     0           0       0           0         0       0   \n4       0        0     0           0       0           0         0       0   \n...    ..      ...   ...         ...     ...         ...       ...     ...   \n26668   0        0     0           0       0           0         0       0   \n26669   0        0     1           0       0           0         0       0   \n26670   0        0     0           0       0           0         0       0   \n26671   0        0     0           0       0           0         0       0   \n26672   0        0     1           0       0           0         0       6   \n\n       according  account  ...  xanax  xl  xp  yahoo  year  yes  yield  yo  \\\n0              0        0  ...      0   0   0      1     0    0      0   0   \n1              0        0  ...      0   0   0      0     0    0      0   0   \n2              0        0  ...      0   0   0      0     0    0      0   0   \n3              0        0  ...      0   0   0      0     0    0      0   0   \n4              0        0  ...      0   0   0      0     0    0      0   0   \n...          ...      ...  ...    ...  ..  ..    ...   ...  ...    ...  ..   \n26668          0        0  ...      0   0   0      0     0    0      0   0   \n26669          0        0  ...      0   0   0      0     0    0      0   0   \n26670          0        0  ...      0   0   0      0     0    0      0   0   \n26671          0        0  ...      0   0   0      0     0    0      0   0   \n26672          0        0  ...      0   0   0      0     0    0      0   0   \n\n       young  zone  \n0          0     0  \n1          0     0  \n2          0     0  \n3          0     0  \n4          0     0  \n...      ...   ...  \n26668      1     0  \n26669      0     0  \n26670      0     0  \n26671      0     0  \n26672      0     0  \n\n[26673 rows x 2100 columns]",
      "text/html": "<div>\n<style scoped>\n    .dataframe tbody tr th:only-of-type {\n        vertical-align: middle;\n    }\n\n    .dataframe tbody tr th {\n        vertical-align: top;\n    }\n\n    .dataframe thead th {\n        text-align: right;\n    }\n</style>\n<table border=\"1\" class=\"dataframe\">\n  <thead>\n    <tr style=\"text-align: right;\">\n      <th></th>\n      <th>aa</th>\n      <th>ability</th>\n      <th>able</th>\n      <th>absolutely</th>\n      <th>accept</th>\n      <th>acceptance</th>\n      <th>accepted</th>\n      <th>access</th>\n      <th>according</th>\n      <th>account</th>\n      <th>...</th>\n      <th>xanax</th>\n      <th>xl</th>\n      <th>xp</th>\n      <th>yahoo</th>\n      <th>year</th>\n      <th>yes</th>\n      <th>yield</th>\n      <th>yo</th>\n      <th>young</th>\n      <th>zone</th>\n    </tr>\n  </thead>\n  <tbody>\n    <tr>\n      <th>0</th>\n      <td>0</td>\n      <td>0</td>\n      <td>0</td>\n      <td>0</td>\n      <td>0</td>\n      <td>0</td>\n      <td>0</td>\n      <td>0</td>\n      <td>0</td>\n      <td>0</td>\n      <td>...</td>\n      <td>0</td>\n      <td>0</td>\n      <td>0</td>\n      <td>1</td>\n      <td>0</td>\n      <td>0</td>\n      <td>0</td>\n      <td>0</td>\n      <td>0</td>\n      <td>0</td>\n    </tr>\n    <tr>\n      <th>1</th>\n      <td>0</td>\n      <td>0</td>\n      <td>0</td>\n      <td>0</td>\n      <td>0</td>\n      <td>0</td>\n      <td>0</td>\n      <td>0</td>\n      <td>0</td>\n      <td>0</td>\n      <td>...</td>\n      <td>0</td>\n      <td>0</td>\n      <td>0</td>\n      <td>0</td>\n      <td>0</td>\n      <td>0</td>\n      <td>0</td>\n      <td>0</td>\n      <td>0</td>\n      <td>0</td>\n    </tr>\n    <tr>\n      <th>2</th>\n      <td>0</td>\n      <td>0</td>\n      <td>0</td>\n      <td>0</td>\n      <td>0</td>\n      <td>0</td>\n      <td>0</td>\n      <td>0</td>\n      <td>0</td>\n      <td>0</td>\n      <td>...</td>\n      <td>0</td>\n      <td>0</td>\n      <td>0</td>\n      <td>0</td>\n      <td>0</td>\n      <td>0</td>\n      <td>0</td>\n      <td>0</td>\n      <td>0</td>\n      <td>0</td>\n    </tr>\n    <tr>\n      <th>3</th>\n      <td>0</td>\n      <td>0</td>\n      <td>0</td>\n      <td>0</td>\n      <td>0</td>\n      <td>0</td>\n      <td>0</td>\n      <td>0</td>\n      <td>0</td>\n      <td>0</td>\n      <td>...</td>\n      <td>0</td>\n      <td>0</td>\n      <td>0</td>\n      <td>0</td>\n      <td>0</td>\n      <td>0</td>\n      <td>0</td>\n      <td>0</td>\n      <td>0</td>\n      <td>0</td>\n    </tr>\n    <tr>\n      <th>4</th>\n      <td>0</td>\n      <td>0</td>\n      <td>0</td>\n      <td>0</td>\n      <td>0</td>\n      <td>0</td>\n      <td>0</td>\n      <td>0</td>\n      <td>0</td>\n      <td>0</td>\n      <td>...</td>\n      <td>0</td>\n      <td>0</td>\n      <td>0</td>\n      <td>0</td>\n      <td>0</td>\n      <td>0</td>\n      <td>0</td>\n      <td>0</td>\n      <td>0</td>\n      <td>0</td>\n    </tr>\n    <tr>\n      <th>...</th>\n      <td>...</td>\n      <td>...</td>\n      <td>...</td>\n      <td>...</td>\n      <td>...</td>\n      <td>...</td>\n      <td>...</td>\n      <td>...</td>\n      <td>...</td>\n      <td>...</td>\n      <td>...</td>\n      <td>...</td>\n      <td>...</td>\n      <td>...</td>\n      <td>...</td>\n      <td>...</td>\n      <td>...</td>\n      <td>...</td>\n      <td>...</td>\n      <td>...</td>\n      <td>...</td>\n    </tr>\n    <tr>\n      <th>26668</th>\n      <td>0</td>\n      <td>0</td>\n      <td>0</td>\n      <td>0</td>\n      <td>0</td>\n      <td>0</td>\n      <td>0</td>\n      <td>0</td>\n      <td>0</td>\n      <td>0</td>\n      <td>...</td>\n      <td>0</td>\n      <td>0</td>\n      <td>0</td>\n      <td>0</td>\n      <td>0</td>\n      <td>0</td>\n      <td>0</td>\n      <td>0</td>\n      <td>1</td>\n      <td>0</td>\n    </tr>\n    <tr>\n      <th>26669</th>\n      <td>0</td>\n      <td>0</td>\n      <td>1</td>\n      <td>0</td>\n      <td>0</td>\n      <td>0</td>\n      <td>0</td>\n      <td>0</td>\n      <td>0</td>\n      <td>0</td>\n      <td>...</td>\n      <td>0</td>\n      <td>0</td>\n      <td>0</td>\n      <td>0</td>\n      <td>0</td>\n      <td>0</td>\n      <td>0</td>\n      <td>0</td>\n      <td>0</td>\n      <td>0</td>\n    </tr>\n    <tr>\n      <th>26670</th>\n      <td>0</td>\n      <td>0</td>\n      <td>0</td>\n      <td>0</td>\n      <td>0</td>\n      <td>0</td>\n      <td>0</td>\n      <td>0</td>\n      <td>0</td>\n      <td>0</td>\n      <td>...</td>\n      <td>0</td>\n      <td>0</td>\n      <td>0</td>\n      <td>0</td>\n      <td>0</td>\n      <td>0</td>\n      <td>0</td>\n      <td>0</td>\n      <td>0</td>\n      <td>0</td>\n    </tr>\n    <tr>\n      <th>26671</th>\n      <td>0</td>\n      <td>0</td>\n      <td>0</td>\n      <td>0</td>\n      <td>0</td>\n      <td>0</td>\n      <td>0</td>\n      <td>0</td>\n      <td>0</td>\n      <td>0</td>\n      <td>...</td>\n      <td>0</td>\n      <td>0</td>\n      <td>0</td>\n      <td>0</td>\n      <td>0</td>\n      <td>0</td>\n      <td>0</td>\n      <td>0</td>\n      <td>0</td>\n      <td>0</td>\n    </tr>\n    <tr>\n      <th>26672</th>\n      <td>0</td>\n      <td>0</td>\n      <td>1</td>\n      <td>0</td>\n      <td>0</td>\n      <td>0</td>\n      <td>0</td>\n      <td>6</td>\n      <td>0</td>\n      <td>0</td>\n      <td>...</td>\n      <td>0</td>\n      <td>0</td>\n      <td>0</td>\n      <td>0</td>\n      <td>0</td>\n      <td>0</td>\n      <td>0</td>\n      <td>0</td>\n      <td>0</td>\n      <td>0</td>\n    </tr>\n  </tbody>\n</table>\n<p>26673 rows × 2100 columns</p>\n</div>"
     },
     "execution_count": 24,
     "metadata": {},
     "output_type": "execute_result"
    }
   ],
   "source": [
    "vectorizerTrain = CountVectorizer(max_features=2100)\n",
    "XTrain = vectorizerTrain.fit_transform(emailsTextTrain)\n",
    "\n",
    "bagTrain = pd.DataFrame(XTrain.toarray(),columns=vectorizerTrain.get_feature_names())\n",
    "\n",
    "bagTrain"
   ]
  },
  {
   "cell_type": "code",
   "execution_count": 25,
   "outputs": [
    {
     "name": "stderr",
     "output_type": "stream",
     "text": [
      "E:\\DevPack\\anaconda3\\envs\\data_science\\lib\\site-packages\\sklearn\\utils\\deprecation.py:87: FutureWarning: Function get_feature_names is deprecated; get_feature_names is deprecated in 1.0 and will be removed in 1.2. Please use get_feature_names_out instead.\n",
      "  warnings.warn(msg, category=FutureWarning)\n"
     ]
    },
    {
     "data": {
      "text/plain": "      ability  able  absolutely  abuse  accept  acceptance  accepted  access  \\\n0           0     0           0      0       0           0         0       0   \n1           0     0           0      0       0           0         0       0   \n2           0     0           0      0       0           0         0       0   \n3           0     0           0      0       0           0         0       0   \n4           0     0           0      0       0           0         0       0   \n...       ...   ...         ...    ...     ...         ...       ...     ...   \n6663        0     0           0      0       0           0         0       0   \n6664        0     0           0      0       0           0         0       0   \n6665        0     0           0      0       0           0         0       0   \n6666        0     0           0      0       0           0         0       0   \n6667        0     0           0      0       0           0         0       0   \n\n      according  account  ...  www  wysak  xl  xp  yahoo  year  yes  yield  \\\n0             0        2  ...    0      0   0   0      0     0    0      0   \n1             0        0  ...    0      0   0   0      0     0    0      0   \n2             0        0  ...    0      0   0   0      0     0    0      0   \n3             0        0  ...    0      0   2   0      0     0    0      0   \n4             0        0  ...    0      0   0   0      0     0    0      0   \n...         ...      ...  ...  ...    ...  ..  ..    ...   ...  ...    ...   \n6663          0        0  ...    0      0   0   0      0     0    0      0   \n6664          0        0  ...    0      0   0   0      0     0    0      0   \n6665          0        0  ...    0      0   0   0      0     0    0      0   \n6666          0        0  ...    0      0   0   0      0     0    0      0   \n6667          0        0  ...    0      0   0   0      0     0    0      0   \n\n      young  zone  \n0         0     0  \n1         0     0  \n2         0     0  \n3         0     0  \n4         0     0  \n...     ...   ...  \n6663      0     0  \n6664      0     0  \n6665      0     0  \n6666      0     0  \n6667      0     0  \n\n[6668 rows x 2100 columns]",
      "text/html": "<div>\n<style scoped>\n    .dataframe tbody tr th:only-of-type {\n        vertical-align: middle;\n    }\n\n    .dataframe tbody tr th {\n        vertical-align: top;\n    }\n\n    .dataframe thead th {\n        text-align: right;\n    }\n</style>\n<table border=\"1\" class=\"dataframe\">\n  <thead>\n    <tr style=\"text-align: right;\">\n      <th></th>\n      <th>ability</th>\n      <th>able</th>\n      <th>absolutely</th>\n      <th>abuse</th>\n      <th>accept</th>\n      <th>acceptance</th>\n      <th>accepted</th>\n      <th>access</th>\n      <th>according</th>\n      <th>account</th>\n      <th>...</th>\n      <th>www</th>\n      <th>wysak</th>\n      <th>xl</th>\n      <th>xp</th>\n      <th>yahoo</th>\n      <th>year</th>\n      <th>yes</th>\n      <th>yield</th>\n      <th>young</th>\n      <th>zone</th>\n    </tr>\n  </thead>\n  <tbody>\n    <tr>\n      <th>0</th>\n      <td>0</td>\n      <td>0</td>\n      <td>0</td>\n      <td>0</td>\n      <td>0</td>\n      <td>0</td>\n      <td>0</td>\n      <td>0</td>\n      <td>0</td>\n      <td>2</td>\n      <td>...</td>\n      <td>0</td>\n      <td>0</td>\n      <td>0</td>\n      <td>0</td>\n      <td>0</td>\n      <td>0</td>\n      <td>0</td>\n      <td>0</td>\n      <td>0</td>\n      <td>0</td>\n    </tr>\n    <tr>\n      <th>1</th>\n      <td>0</td>\n      <td>0</td>\n      <td>0</td>\n      <td>0</td>\n      <td>0</td>\n      <td>0</td>\n      <td>0</td>\n      <td>0</td>\n      <td>0</td>\n      <td>0</td>\n      <td>...</td>\n      <td>0</td>\n      <td>0</td>\n      <td>0</td>\n      <td>0</td>\n      <td>0</td>\n      <td>0</td>\n      <td>0</td>\n      <td>0</td>\n      <td>0</td>\n      <td>0</td>\n    </tr>\n    <tr>\n      <th>2</th>\n      <td>0</td>\n      <td>0</td>\n      <td>0</td>\n      <td>0</td>\n      <td>0</td>\n      <td>0</td>\n      <td>0</td>\n      <td>0</td>\n      <td>0</td>\n      <td>0</td>\n      <td>...</td>\n      <td>0</td>\n      <td>0</td>\n      <td>0</td>\n      <td>0</td>\n      <td>0</td>\n      <td>0</td>\n      <td>0</td>\n      <td>0</td>\n      <td>0</td>\n      <td>0</td>\n    </tr>\n    <tr>\n      <th>3</th>\n      <td>0</td>\n      <td>0</td>\n      <td>0</td>\n      <td>0</td>\n      <td>0</td>\n      <td>0</td>\n      <td>0</td>\n      <td>0</td>\n      <td>0</td>\n      <td>0</td>\n      <td>...</td>\n      <td>0</td>\n      <td>0</td>\n      <td>2</td>\n      <td>0</td>\n      <td>0</td>\n      <td>0</td>\n      <td>0</td>\n      <td>0</td>\n      <td>0</td>\n      <td>0</td>\n    </tr>\n    <tr>\n      <th>4</th>\n      <td>0</td>\n      <td>0</td>\n      <td>0</td>\n      <td>0</td>\n      <td>0</td>\n      <td>0</td>\n      <td>0</td>\n      <td>0</td>\n      <td>0</td>\n      <td>0</td>\n      <td>...</td>\n      <td>0</td>\n      <td>0</td>\n      <td>0</td>\n      <td>0</td>\n      <td>0</td>\n      <td>0</td>\n      <td>0</td>\n      <td>0</td>\n      <td>0</td>\n      <td>0</td>\n    </tr>\n    <tr>\n      <th>...</th>\n      <td>...</td>\n      <td>...</td>\n      <td>...</td>\n      <td>...</td>\n      <td>...</td>\n      <td>...</td>\n      <td>...</td>\n      <td>...</td>\n      <td>...</td>\n      <td>...</td>\n      <td>...</td>\n      <td>...</td>\n      <td>...</td>\n      <td>...</td>\n      <td>...</td>\n      <td>...</td>\n      <td>...</td>\n      <td>...</td>\n      <td>...</td>\n      <td>...</td>\n      <td>...</td>\n    </tr>\n    <tr>\n      <th>6663</th>\n      <td>0</td>\n      <td>0</td>\n      <td>0</td>\n      <td>0</td>\n      <td>0</td>\n      <td>0</td>\n      <td>0</td>\n      <td>0</td>\n      <td>0</td>\n      <td>0</td>\n      <td>...</td>\n      <td>0</td>\n      <td>0</td>\n      <td>0</td>\n      <td>0</td>\n      <td>0</td>\n      <td>0</td>\n      <td>0</td>\n      <td>0</td>\n      <td>0</td>\n      <td>0</td>\n    </tr>\n    <tr>\n      <th>6664</th>\n      <td>0</td>\n      <td>0</td>\n      <td>0</td>\n      <td>0</td>\n      <td>0</td>\n      <td>0</td>\n      <td>0</td>\n      <td>0</td>\n      <td>0</td>\n      <td>0</td>\n      <td>...</td>\n      <td>0</td>\n      <td>0</td>\n      <td>0</td>\n      <td>0</td>\n      <td>0</td>\n      <td>0</td>\n      <td>0</td>\n      <td>0</td>\n      <td>0</td>\n      <td>0</td>\n    </tr>\n    <tr>\n      <th>6665</th>\n      <td>0</td>\n      <td>0</td>\n      <td>0</td>\n      <td>0</td>\n      <td>0</td>\n      <td>0</td>\n      <td>0</td>\n      <td>0</td>\n      <td>0</td>\n      <td>0</td>\n      <td>...</td>\n      <td>0</td>\n      <td>0</td>\n      <td>0</td>\n      <td>0</td>\n      <td>0</td>\n      <td>0</td>\n      <td>0</td>\n      <td>0</td>\n      <td>0</td>\n      <td>0</td>\n    </tr>\n    <tr>\n      <th>6666</th>\n      <td>0</td>\n      <td>0</td>\n      <td>0</td>\n      <td>0</td>\n      <td>0</td>\n      <td>0</td>\n      <td>0</td>\n      <td>0</td>\n      <td>0</td>\n      <td>0</td>\n      <td>...</td>\n      <td>0</td>\n      <td>0</td>\n      <td>0</td>\n      <td>0</td>\n      <td>0</td>\n      <td>0</td>\n      <td>0</td>\n      <td>0</td>\n      <td>0</td>\n      <td>0</td>\n    </tr>\n    <tr>\n      <th>6667</th>\n      <td>0</td>\n      <td>0</td>\n      <td>0</td>\n      <td>0</td>\n      <td>0</td>\n      <td>0</td>\n      <td>0</td>\n      <td>0</td>\n      <td>0</td>\n      <td>0</td>\n      <td>...</td>\n      <td>0</td>\n      <td>0</td>\n      <td>0</td>\n      <td>0</td>\n      <td>0</td>\n      <td>0</td>\n      <td>0</td>\n      <td>0</td>\n      <td>0</td>\n      <td>0</td>\n    </tr>\n  </tbody>\n</table>\n<p>6668 rows × 2100 columns</p>\n</div>"
     },
     "execution_count": 25,
     "metadata": {},
     "output_type": "execute_result"
    }
   ],
   "source": [
    "vectorizerTest = CountVectorizer(max_features=2100)\n",
    "XTest = vectorizerTest.fit_transform(emailsTextTest)\n",
    "\n",
    "bagTest = pd.DataFrame(XTest.toarray(),columns=vectorizerTest.get_feature_names())\n",
    "\n",
    "bagTest"
   ],
   "metadata": {
    "collapsed": false,
    "pycharm": {
     "name": "#%%\n"
    }
   }
  },
  {
   "cell_type": "markdown",
   "metadata": {
    "collapsed": false,
    "pycharm": {
     "name": "#%% md\n"
    }
   },
   "source": [
    "# Visualização de dados com TSNE"
   ]
  },
  {
   "cell_type": "code",
   "execution_count": 26,
   "metadata": {
    "collapsed": false,
    "pycharm": {
     "name": "#%%\n"
    }
   },
   "outputs": [],
   "source": [
    "# model = TSNE(n_components=2, random_state=0)\n",
    "# #model = PCA(n_components=50, svd_solver='full')\n",
    "# array_red = model.fit_transform(bag)\n",
    "#\n",
    "# df_tsne = pd.DataFrame(array_red)\n",
    "#\n",
    "# df_tsne['Target'] = target\n",
    "# df_tsne_c1 = df_tsne[df_tsne['Target'] == 0]\n",
    "#\n",
    "# df_tsne_c2 = df_tsne[df_tsne['Target'] == 1]\n",
    "#\n",
    "# plt.scatter(df_tsne_c1[0].array,df_tsne_c1[1].array,marker='o',color='blue')\n",
    "#\n",
    "# plt.scatter(df_tsne_c2[0].array,df_tsne_c2[1].array,marker='o',color='red')\n",
    "#\n",
    "# plt.title('Dados')\n",
    "# plt.xlabel('x')\n",
    "# plt.ylabel('y')\n",
    "#\n",
    "# plt.show()"
   ]
  },
  {
   "cell_type": "markdown",
   "metadata": {
    "collapsed": false,
    "pycharm": {
     "name": "#%% md\n"
    }
   },
   "source": [
    "# Validação"
   ]
  },
  {
   "cell_type": "code",
   "execution_count": 27,
   "outputs": [],
   "source": [
    "X_treino, X_teste, y_treino, y_teste = train_test_split(bagTrain.values, trainTarget, test_size=0.2)"
   ],
   "metadata": {
    "collapsed": false,
    "pycharm": {
     "name": "#%%\n"
    }
   }
  },
  {
   "cell_type": "code",
   "execution_count": 28,
   "outputs": [
    {
     "data": {
      "text/plain": "array([[0, 0, 0, ..., 0, 0, 0],\n       [0, 0, 0, ..., 0, 0, 0],\n       [0, 0, 0, ..., 0, 0, 0],\n       ...,\n       [0, 0, 0, ..., 0, 0, 0],\n       [0, 0, 0, ..., 0, 0, 0],\n       [0, 0, 0, ..., 0, 0, 0]], dtype=int64)"
     },
     "execution_count": 28,
     "metadata": {},
     "output_type": "execute_result"
    }
   ],
   "source": [
    "X_treino"
   ],
   "metadata": {
    "collapsed": false,
    "pycharm": {
     "name": "#%%\n"
    }
   }
  },
  {
   "cell_type": "code",
   "execution_count": 29,
   "outputs": [],
   "source": [
    "model = keras.models.Sequential([\n",
    "########## MLP\n",
    "keras.layers.Flatten(input_shape=(bagTrain.shape[1],)),\n",
    "keras.layers.Dense(1000, activation=\"relu\"),\n",
    "keras.layers.Dense(1000, activation=\"relu\"),\n",
    "keras.layers.Dense(1000, activation=\"relu\"),\n",
    "\n",
    "keras.layers.Dense(len(set(trainTarget)), activation=\"softmax\")\n",
    "])"
   ],
   "metadata": {
    "collapsed": false,
    "pycharm": {
     "name": "#%%\n"
    }
   }
  },
  {
   "cell_type": "code",
   "execution_count": 30,
   "outputs": [
    {
     "name": "stdout",
     "output_type": "stream",
     "text": [
      "Model: \"sequential_1\"\n",
      "_________________________________________________________________\n",
      " Layer (type)                Output Shape              Param #   \n",
      "=================================================================\n",
      " flatten_1 (Flatten)         (None, 2100)              0         \n",
      "                                                                 \n",
      " dense_4 (Dense)             (None, 1000)              2101000   \n",
      "                                                                 \n",
      " dense_5 (Dense)             (None, 300)               300300    \n",
      "                                                                 \n",
      " dense_6 (Dense)             (None, 100)               30100     \n",
      "                                                                 \n",
      " dense_7 (Dense)             (None, 2)                 202       \n",
      "                                                                 \n",
      "=================================================================\n",
      "Total params: 2,431,602\n",
      "Trainable params: 2,431,602\n",
      "Non-trainable params: 0\n",
      "_________________________________________________________________\n"
     ]
    }
   ],
   "source": [
    "model.summary()"
   ],
   "metadata": {
    "collapsed": false,
    "pycharm": {
     "name": "#%%\n"
    }
   }
  },
  {
   "cell_type": "code",
   "execution_count": 31,
   "outputs": [],
   "source": [
    "model.compile(loss=\"sparse_categorical_crossentropy\",\n",
    "              optimizer=\"adam\",\n",
    "              metrics=[\"accuracy\"])"
   ],
   "metadata": {
    "collapsed": false,
    "pycharm": {
     "name": "#%%\n"
    }
   }
  },
  {
   "cell_type": "code",
   "execution_count": 32,
   "outputs": [
    {
     "name": "stdout",
     "output_type": "stream",
     "text": [
      "Epoch 1/200\n",
      "667/667 [==============================] - 3s 3ms/step - loss: 0.4512 - accuracy: 0.8309 - val_loss: 0.2459 - val_accuracy: 0.9192 - lr: 0.0100\n",
      "Epoch 2/200\n",
      "667/667 [==============================] - 2s 2ms/step - loss: 0.2641 - accuracy: 0.9365 - val_loss: 0.2089 - val_accuracy: 0.9374 - lr: 0.0100\n",
      "Epoch 3/200\n",
      "667/667 [==============================] - 2s 2ms/step - loss: 0.1885 - accuracy: 0.9462 - val_loss: 0.3396 - val_accuracy: 0.9057 - lr: 0.0100\n",
      "Epoch 4/200\n",
      "667/667 [==============================] - 2s 2ms/step - loss: 0.1539 - accuracy: 0.9592 - val_loss: 0.1306 - val_accuracy: 0.9601 - lr: 0.0100\n",
      "Epoch 5/200\n",
      "667/667 [==============================] - 2s 3ms/step - loss: 0.0933 - accuracy: 0.9699 - val_loss: 0.0959 - val_accuracy: 0.9683 - lr: 0.0100\n",
      "Epoch 6/200\n",
      "667/667 [==============================] - 2s 2ms/step - loss: 0.1151 - accuracy: 0.9733 - val_loss: 0.1045 - val_accuracy: 0.9668 - lr: 0.0100\n",
      "Epoch 7/200\n",
      "667/667 [==============================] - 2s 2ms/step - loss: 0.1580 - accuracy: 0.9694 - val_loss: 0.1090 - val_accuracy: 0.9655 - lr: 0.0100\n",
      "Epoch 8/200\n",
      "667/667 [==============================] - 2s 2ms/step - loss: 0.0780 - accuracy: 0.9773 - val_loss: 0.0799 - val_accuracy: 0.9747 - lr: 0.0100\n",
      "Epoch 9/200\n",
      "667/667 [==============================] - 2s 2ms/step - loss: 0.1021 - accuracy: 0.9752 - val_loss: 0.1245 - val_accuracy: 0.9573 - lr: 0.0100\n",
      "Epoch 10/200\n",
      "667/667 [==============================] - 2s 2ms/step - loss: 0.0865 - accuracy: 0.9797 - val_loss: 0.0802 - val_accuracy: 0.9741 - lr: 0.0100\n",
      "Epoch 11/200\n",
      "667/667 [==============================] - 2s 2ms/step - loss: 0.0486 - accuracy: 0.9853 - val_loss: 0.0831 - val_accuracy: 0.9753 - lr: 0.0100\n",
      "Epoch 12/200\n",
      "667/667 [==============================] - 2s 2ms/step - loss: 0.0427 - accuracy: 0.9869 - val_loss: 0.0769 - val_accuracy: 0.9766 - lr: 0.0100\n",
      "Epoch 13/200\n",
      "667/667 [==============================] - 2s 2ms/step - loss: 0.0514 - accuracy: 0.9855 - val_loss: 0.0839 - val_accuracy: 0.9743 - lr: 0.0100\n",
      "Epoch 14/200\n",
      "667/667 [==============================] - 2s 2ms/step - loss: 0.0435 - accuracy: 0.9878 - val_loss: 0.0780 - val_accuracy: 0.9769 - lr: 0.0100\n",
      "Epoch 15/200\n",
      "667/667 [==============================] - 2s 2ms/step - loss: 0.0291 - accuracy: 0.9905 - val_loss: 0.0807 - val_accuracy: 0.9779 - lr: 0.0100\n",
      "Epoch 16/200\n",
      "667/667 [==============================] - 2s 2ms/step - loss: 0.0247 - accuracy: 0.9927 - val_loss: 0.0851 - val_accuracy: 0.9781 - lr: 0.0100\n",
      "Epoch 17/200\n",
      "667/667 [==============================] - 2s 2ms/step - loss: 0.0291 - accuracy: 0.9913 - val_loss: 0.0817 - val_accuracy: 0.9781 - lr: 0.0100\n",
      "Epoch 18/200\n",
      "667/667 [==============================] - 2s 2ms/step - loss: 0.0264 - accuracy: 0.9919 - val_loss: 0.0819 - val_accuracy: 0.9769 - lr: 0.0100\n",
      "Epoch 19/200\n",
      "648/667 [============================>.] - ETA: 0s - loss: 0.0192 - accuracy: 0.9941\n",
      "Epoch 19: ReduceLROnPlateau reducing learning rate to 0.0009999999776482583.\n",
      "667/667 [==============================] - 2s 2ms/step - loss: 0.0193 - accuracy: 0.9941 - val_loss: 0.0862 - val_accuracy: 0.9773 - lr: 0.0100\n",
      "Epoch 20/200\n",
      "667/667 [==============================] - 2s 2ms/step - loss: 0.0168 - accuracy: 0.9953 - val_loss: 0.0856 - val_accuracy: 0.9783 - lr: 1.0000e-03\n",
      "Epoch 21/200\n",
      "667/667 [==============================] - 2s 2ms/step - loss: 0.0166 - accuracy: 0.9953 - val_loss: 0.0866 - val_accuracy: 0.9799 - lr: 1.0000e-03\n",
      "Epoch 22/200\n",
      "667/667 [==============================] - 2s 3ms/step - loss: 0.0177 - accuracy: 0.9948 - val_loss: 0.0883 - val_accuracy: 0.9786 - lr: 1.0000e-03\n",
      "Epoch 23/200\n",
      "667/667 [==============================] - 2s 3ms/step - loss: 0.0164 - accuracy: 0.9955 - val_loss: 0.0871 - val_accuracy: 0.9796 - lr: 1.0000e-03\n",
      "Epoch 24/200\n",
      "667/667 [==============================] - 2s 2ms/step - loss: 0.0161 - accuracy: 0.9955 - val_loss: 0.0869 - val_accuracy: 0.9781 - lr: 1.0000e-03\n",
      "Epoch 25/200\n",
      "667/667 [==============================] - 2s 2ms/step - loss: 0.0163 - accuracy: 0.9953 - val_loss: 0.0877 - val_accuracy: 0.9794 - lr: 1.0000e-03\n",
      "Epoch 26/200\n",
      "646/667 [============================>.] - ETA: 0s - loss: 0.0159 - accuracy: 0.9954\n",
      "Epoch 26: ReduceLROnPlateau reducing learning rate to 9.999999310821295e-05.\n",
      "667/667 [==============================] - 2s 2ms/step - loss: 0.0158 - accuracy: 0.9954 - val_loss: 0.0877 - val_accuracy: 0.9794 - lr: 1.0000e-03\n",
      "Epoch 27/200\n",
      "667/667 [==============================] - 2s 2ms/step - loss: 0.0156 - accuracy: 0.9956 - val_loss: 0.0878 - val_accuracy: 0.9794 - lr: 1.0000e-04\n",
      "Epoch 28/200\n",
      "667/667 [==============================] - 2s 2ms/step - loss: 0.0155 - accuracy: 0.9956 - val_loss: 0.0879 - val_accuracy: 0.9794 - lr: 1.0000e-04\n",
      "Epoch 29/200\n",
      "667/667 [==============================] - 2s 2ms/step - loss: 0.0155 - accuracy: 0.9956 - val_loss: 0.0879 - val_accuracy: 0.9794 - lr: 1.0000e-04\n",
      "Epoch 30/200\n",
      "667/667 [==============================] - 2s 2ms/step - loss: 0.0155 - accuracy: 0.9956 - val_loss: 0.0880 - val_accuracy: 0.9794 - lr: 1.0000e-04\n",
      "Epoch 31/200\n",
      "667/667 [==============================] - 2s 2ms/step - loss: 0.0155 - accuracy: 0.9956 - val_loss: 0.0880 - val_accuracy: 0.9790 - lr: 1.0000e-04\n",
      "Epoch 32/200\n",
      "667/667 [==============================] - 2s 2ms/step - loss: 0.0155 - accuracy: 0.9956 - val_loss: 0.0881 - val_accuracy: 0.9794 - lr: 1.0000e-04\n"
     ]
    }
   ],
   "source": [
    "callbacks = [tf.keras.callbacks.ReduceLROnPlateau(monitor='val_loss', factor=0.1, patience=7, verbose=1, min_delta=1e-4,mode='min'), tf.keras.callbacks.EarlyStopping(monitor='val_loss', patience=20, verbose=0, restore_best_weights=True)]\n",
    "\n",
    "history = model.fit(np.array(X_treino), np.array(y_treino), epochs=200,validation_data=(np.array(X_teste), np.array(y_teste)),callbacks=callbacks)"
   ],
   "metadata": {
    "collapsed": false,
    "pycharm": {
     "name": "#%%\n"
    }
   }
  },
  {
   "cell_type": "markdown",
   "source": [
    "## VALIDANDO DE FORMA MAIS ELABORADA"
   ],
   "metadata": {
    "collapsed": false,
    "pycharm": {
     "name": "#%% md\n"
    }
   }
  },
  {
   "cell_type": "code",
   "execution_count": 33,
   "outputs": [
    {
     "data": {
      "text/plain": "<Figure size 576x360 with 1 Axes>",
      "image/png": "[encoded data removed]"
     },
     "metadata": {},
     "output_type": "display_data"
    }
   ],
   "source": [
    "pd.DataFrame(history.history).plot(figsize=(8, 5))\n",
    "plt.grid(True)\n",
    "plt.gca().set_ylim(0, 1) # set the vertical range to [0-1]\n",
    "plt.xlabel('epoch')\n",
    "plt.show()"
   ],
   "metadata": {
    "collapsed": false,
    "pycharm": {
     "name": "#%%\n"
    }
   }
  },
  {
   "cell_type": "code",
   "execution_count": 34,
   "outputs": [
    {
     "name": "stdout",
     "output_type": "stream",
     "text": [
      "209/209 [==============================] - 0s 2ms/step - loss: 2.0594 - accuracy: 0.5949\n"
     ]
    },
    {
     "data": {
      "text/plain": "[2.0594186782836914, 0.5949310064315796]"
     },
     "execution_count": 34,
     "metadata": {},
     "output_type": "execute_result"
    }
   ],
   "source": [
    "model.evaluate(np.array(bagTest.values), np.array(testTarget))"
   ],
   "metadata": {
    "collapsed": false,
    "pycharm": {
     "name": "#%%\n"
    }
   }
  },
  {
   "cell_type": "code",
   "execution_count": 35,
   "outputs": [
    {
     "name": "stdout",
     "output_type": "stream",
     "text": [
      "209/209 [==============================] - 0s 846us/step\n"
     ]
    },
    {
     "data": {
      "text/plain": "<Figure size 720x720 with 2 Axes>",
      "image/png": "[encoded data removed]"
     },
     "metadata": {},
     "output_type": "display_data"
    }
   ],
   "source": [
    "cm = confusion_matrix(testTarget,np.argmax(model.predict(bagTest.values), axis=-1))\n",
    "\n",
    "labels = [\"Ham\", \"Spam\"]\n",
    "\n",
    "cm_df = pd.DataFrame(cm, columns=labels)\n",
    "\n",
    "\n",
    "fig, ax = plt.subplots(figsize=(10,10))\n",
    "sns.heatmap(cm_df, annot=True, fmt=\"d\", xticklabels=labels, yticklabels=labels)\n",
    "\n",
    "plt.show()"
   ],
   "metadata": {
    "collapsed": false,
    "pycharm": {
     "name": "#%%\n"
    }
   }
  }
 ],
 "metadata": {
  "interpreter": {
   "hash": "ad2bdc8ecc057115af97d19610ffacc2b4e99fae6737bb82f5d7fb13d2f2c186"
  },
  "kernelspec": {
   "display_name": "Python 3.8.8 ('base')",
   "language": "python",
   "name": "python3"
  },
  "language_info": {
   "codemirror_mode": {
    "name": "ipython",
    "version": 3
   },
   "file_extension": ".py",
   "mimetype": "text/x-python",
   "name": "python",
   "nbconvert_exporter": "python",
   "pygments_lexer": "ipython3",
   "version": "3.8.8"
  }
 },
 "nbformat": 4,
 "nbformat_minor": 1
}