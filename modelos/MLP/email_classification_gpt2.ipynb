{
 "cells": [
  {
   "cell_type": "code",
   "execution_count": 1,
   "outputs": [],
   "source": [
    "import pandas as pd\n",
    "import numpy as np\n",
    "from sklearn.tree import DecisionTreeClassifier\n",
    "from sklearn.model_selection import train_test_split, cross_val_score, cross_val_predict\n",
    "from sklearn.manifold import TSNE\n",
    "from sklearn.metrics import classification_report, confusion_matrix\n",
    "import scikitplot as skplt\n",
    "import matplotlib.pyplot as plt\n",
    "from simpletransformers.language_representation import RepresentationModel\n",
    "import tensorflow as tf\n",
    "from tensorflow import keras\n",
    "import seaborn as sns\n",
    "from sklearn.model_selection import KFold"
   ],
   "metadata": {
    "collapsed": false,
    "pycharm": {
     "name": "#%%\n"
    }
   }
  },
  {
   "cell_type": "markdown",
   "source": [
    "# Carregando base de dados  pré-processada"
   ],
   "metadata": {
    "collapsed": false,
    "pycharm": {
     "name": "#%% md\n"
    }
   }
  },
  {
   "cell_type": "code",
   "execution_count": 2,
   "outputs": [
    {
     "data": {
      "text/plain": "                                                   email  target\n0      start date     hourahead timee  cardinall  hou...       0\n1      service long desk  price structure deal quote ...       0\n2      start date  cardinall    hourahead timee  card...       0\n3      start date     hourahead timee  cardinall  anc...       0\n4      cardinall deliverable revenue management marke...       0\n...                                                  ...     ...\n33340  bio  matrix scientific group   symbo   bmxg  p...       1\n33341   cardinall step away hot naked webcam girl liv...       1\n33342  need pill increase performance click  seroius ...       1\n33343  datee final nom       inlet hpl  eastrans  car...       0\n33344  ordinall time  offering male enhancement perfo...       1\n\n[33341 rows x 2 columns]",
      "text/html": "<div>\n<style scoped>\n    .dataframe tbody tr th:only-of-type {\n        vertical-align: middle;\n    }\n\n    .dataframe tbody tr th {\n        vertical-align: top;\n    }\n\n    .dataframe thead th {\n        text-align: right;\n    }\n</style>\n<table border=\"1\" class=\"dataframe\">\n  <thead>\n    <tr style=\"text-align: right;\">\n      <th></th>\n      <th>email</th>\n      <th>target</th>\n    </tr>\n  </thead>\n  <tbody>\n    <tr>\n      <th>0</th>\n      <td>start date     hourahead timee  cardinall  hou...</td>\n      <td>0</td>\n    </tr>\n    <tr>\n      <th>1</th>\n      <td>service long desk  price structure deal quote ...</td>\n      <td>0</td>\n    </tr>\n    <tr>\n      <th>2</th>\n      <td>start date  cardinall    hourahead timee  card...</td>\n      <td>0</td>\n    </tr>\n    <tr>\n      <th>3</th>\n      <td>start date     hourahead timee  cardinall  anc...</td>\n      <td>0</td>\n    </tr>\n    <tr>\n      <th>4</th>\n      <td>cardinall deliverable revenue management marke...</td>\n      <td>0</td>\n    </tr>\n    <tr>\n      <th>...</th>\n      <td>...</td>\n      <td>...</td>\n    </tr>\n    <tr>\n      <th>33340</th>\n      <td>bio  matrix scientific group   symbo   bmxg  p...</td>\n      <td>1</td>\n    </tr>\n    <tr>\n      <th>33341</th>\n      <td>cardinall step away hot naked webcam girl liv...</td>\n      <td>1</td>\n    </tr>\n    <tr>\n      <th>33342</th>\n      <td>need pill increase performance click  seroius ...</td>\n      <td>1</td>\n    </tr>\n    <tr>\n      <th>33343</th>\n      <td>datee final nom       inlet hpl  eastrans  car...</td>\n      <td>0</td>\n    </tr>\n    <tr>\n      <th>33344</th>\n      <td>ordinall time  offering male enhancement perfo...</td>\n      <td>1</td>\n    </tr>\n  </tbody>\n</table>\n<p>33341 rows × 2 columns</p>\n</div>"
     },
     "execution_count": 2,
     "metadata": {},
     "output_type": "execute_result"
    }
   ],
   "source": [
    "dataset = pd.read_csv(\"../../Database/dataBaseWithNER.csv\")\n",
    "dataset = dataset.drop(columns=[\"Unnamed: 0\"])\n",
    "dataset = dataset.dropna()\n",
    "targets = np.array(dataset[\"target\"].array)\n",
    "\n",
    "dataset"
   ],
   "metadata": {
    "collapsed": false,
    "pycharm": {
     "name": "#%%\n"
    }
   }
  },
  {
   "cell_type": "code",
   "execution_count": null,
   "outputs": [],
   "source": [
    "emailsText = []\n",
    "for email in dataset[\"email\"]:\n",
    "    emailsText.append(email)"
   ],
   "metadata": {
    "collapsed": false,
    "pycharm": {
     "name": "#%%\n"
    }
   }
  },
  {
   "cell_type": "code",
   "execution_count": null,
   "outputs": [],
   "source": [
    "print(len(emailsText))"
   ],
   "metadata": {
    "collapsed": false,
    "pycharm": {
     "name": "#%%\n"
    }
   }
  },
  {
   "cell_type": "markdown",
   "source": [
    "# Representação vetorial GPT2"
   ],
   "metadata": {
    "collapsed": false,
    "pycharm": {
     "name": "#%% md\n"
    }
   }
  },
  {
   "cell_type": "code",
   "execution_count": 5,
   "outputs": [
    {
     "name": "stderr",
     "output_type": "stream",
     "text": [
      "Some weights of the model checkpoint at gpt2 were not used when initializing GPT2ForTextRepresentation: ['h.0.attn.c_proj.bias', 'h.9.ln_2.weight', 'h.8.attn.c_proj.bias', 'h.8.ln_2.bias', 'h.0.mlp.c_fc.bias', 'h.7.attn.bias', 'h.1.ln_1.bias', 'h.10.attn.c_attn.bias', 'h.3.attn.c_attn.weight', 'h.6.mlp.c_proj.weight', 'h.8.attn.c_attn.weight', 'h.5.attn.c_attn.weight', 'h.2.attn.c_proj.bias', 'h.9.attn.c_proj.weight', 'h.8.ln_1.bias', 'h.2.ln_1.weight', 'h.3.mlp.c_fc.bias', 'h.2.ln_1.bias', 'h.3.attn.c_proj.bias', 'h.4.attn.c_proj.bias', 'h.4.ln_2.bias', 'h.0.attn.c_attn.bias', 'h.0.ln_2.bias', 'h.10.attn.c_attn.weight', 'h.4.attn.c_proj.weight', 'h.5.attn.bias', 'h.11.mlp.c_fc.weight', 'h.3.ln_1.weight', 'h.5.ln_1.bias', 'h.4.mlp.c_fc.bias', 'h.11.ln_1.weight', 'h.7.ln_2.weight', 'h.11.mlp.c_proj.weight', 'h.2.attn.c_attn.bias', 'h.7.mlp.c_proj.weight', 'h.7.attn.c_attn.weight', 'h.1.attn.c_proj.weight', 'h.2.ln_2.bias', 'h.1.ln_2.weight', 'h.10.mlp.c_fc.weight', 'h.5.mlp.c_fc.weight', 'h.10.attn.c_proj.weight', 'h.0.ln_1.bias', 'h.8.ln_1.weight', 'h.6.mlp.c_fc.bias', 'h.1.attn.c_attn.bias', 'h.1.attn.c_attn.weight', 'h.6.mlp.c_fc.weight', 'h.8.attn.bias', 'h.11.ln_2.bias', 'h.3.ln_1.bias', 'h.3.ln_2.bias', 'h.11.attn.c_attn.weight', 'h.11.attn.c_proj.weight', 'h.0.mlp.c_proj.weight', 'h.7.mlp.c_proj.bias', 'h.8.mlp.c_proj.bias', 'h.7.mlp.c_fc.weight', 'h.5.ln_2.weight', 'h.7.attn.c_proj.bias', 'h.0.attn.c_proj.weight', 'h.9.attn.c_proj.bias', 'h.3.ln_2.weight', 'h.2.ln_2.weight', 'h.11.ln_2.weight', 'h.11.mlp.c_proj.bias', 'h.1.mlp.c_fc.bias', 'h.9.ln_1.bias', 'h.6.attn.c_attn.bias', 'h.3.mlp.c_proj.bias', 'h.1.mlp.c_proj.weight', 'h.6.ln_2.bias', 'h.1.attn.c_proj.bias', 'h.0.mlp.c_fc.weight', 'h.2.mlp.c_proj.bias', 'h.7.ln_1.weight', 'h.5.ln_2.bias', 'h.6.ln_1.weight', 'h.4.attn.c_attn.weight', 'h.10.ln_1.bias', 'h.10.mlp.c_proj.weight', 'h.5.mlp.c_proj.weight', 'h.6.attn.c_attn.weight', 'ln_f.weight', 'h.3.attn.bias', 'h.6.mlp.c_proj.bias', 'h.9.mlp.c_fc.weight', 'h.0.mlp.c_proj.bias', 'h.6.attn.bias', 'h.10.attn.bias', 'h.2.attn.c_attn.weight', 'h.3.attn.c_proj.weight', 'h.7.mlp.c_fc.bias', 'h.2.attn.c_proj.weight', 'h.2.mlp.c_fc.bias', 'h.8.mlp.c_fc.bias', 'h.5.mlp.c_proj.bias', 'h.2.attn.bias', 'h.9.attn.c_attn.bias', 'h.4.attn.c_attn.bias', 'h.11.attn.c_attn.bias', 'h.5.attn.c_proj.bias', 'h.1.ln_1.weight', 'h.8.mlp.c_proj.weight', 'h.8.attn.c_attn.bias', 'wpe.weight', 'h.9.ln_2.bias', 'h.4.ln_2.weight', 'h.6.attn.c_proj.bias', 'h.9.mlp.c_fc.bias', 'h.8.mlp.c_fc.weight', 'h.7.attn.c_proj.weight', 'h.10.ln_2.bias', 'h.0.attn.c_attn.weight', 'wte.weight', 'h.9.ln_1.weight', 'h.3.mlp.c_fc.weight', 'h.1.ln_2.bias', 'h.10.ln_1.weight', 'h.11.ln_1.bias', 'h.3.attn.c_attn.bias', 'h.4.mlp.c_proj.weight', 'h.5.attn.c_attn.bias', 'h.11.attn.bias', 'h.0.ln_1.weight', 'h.1.mlp.c_fc.weight', 'h.4.mlp.c_fc.weight', 'h.2.mlp.c_proj.weight', 'h.4.mlp.c_proj.bias', 'h.1.attn.bias', 'h.6.ln_1.bias', 'h.9.attn.bias', 'ln_f.bias', 'h.4.attn.bias', 'h.9.attn.c_attn.weight', 'h.11.attn.c_proj.bias', 'h.1.mlp.c_proj.bias', 'h.10.attn.c_proj.bias', 'h.6.ln_2.weight', 'h.6.attn.c_proj.weight', 'h.7.ln_2.bias', 'h.10.mlp.c_proj.bias', 'h.2.mlp.c_fc.weight', 'h.7.ln_1.bias', 'h.5.mlp.c_fc.bias', 'h.0.ln_2.weight', 'h.7.attn.c_attn.bias', 'h.9.mlp.c_proj.weight', 'h.4.ln_1.weight', 'h.5.attn.c_proj.weight', 'h.9.mlp.c_proj.bias', 'h.4.ln_1.bias', 'h.5.ln_1.weight', 'h.11.mlp.c_fc.bias', 'h.3.mlp.c_proj.weight', 'h.0.attn.bias', 'h.10.mlp.c_fc.bias', 'h.10.ln_2.weight', 'h.8.attn.c_proj.weight', 'h.8.ln_2.weight']\n",
      "- This IS expected if you are initializing GPT2ForTextRepresentation from the checkpoint of a model trained on another task or with another architecture (e.g. initializing a BertForSequenceClassification model from a BertForPreTraining model).\n",
      "- This IS NOT expected if you are initializing GPT2ForTextRepresentation from the checkpoint of a model that you expect to be exactly identical (initializing a BertForSequenceClassification model from a BertForSequenceClassification model).\n",
      "Some weights of GPT2ForTextRepresentation were not initialized from the model checkpoint at gpt2 and are newly initialized: ['gpt2.h.8.attn.masked_bias', 'gpt2.h.7.ln_2.bias', 'gpt2.h.10.mlp.c_fc.bias', 'gpt2.h.4.ln_2.bias', 'gpt2.h.1.attn.c_attn.bias', 'gpt2.h.7.attn.masked_bias', 'gpt2.h.10.attn.bias', 'gpt2.h.11.mlp.c_fc.weight', 'gpt2.h.7.mlp.c_proj.bias', 'gpt2.h.0.ln_2.weight', 'gpt2.h.9.attn.c_proj.weight', 'gpt2.h.2.attn.c_attn.weight', 'gpt2.h.11.ln_2.bias', 'gpt2.h.6.attn.c_attn.bias', 'gpt2.h.8.mlp.c_fc.weight', 'gpt2.h.8.mlp.c_proj.bias', 'gpt2.h.10.ln_1.weight', 'gpt2.h.2.attn.masked_bias', 'gpt2.h.5.attn.bias', 'gpt2.h.5.ln_2.bias', 'gpt2.h.1.attn.bias', 'gpt2.h.5.attn.c_proj.bias', 'gpt2.h.8.attn.bias', 'gpt2.h.9.mlp.c_fc.bias', 'gpt2.h.0.attn.c_proj.bias', 'gpt2.h.0.mlp.c_fc.weight', 'gpt2.h.5.mlp.c_fc.bias', 'gpt2.h.7.mlp.c_fc.weight', 'gpt2.h.10.attn.masked_bias', 'gpt2.h.2.ln_1.bias', 'gpt2.h.11.attn.c_attn.bias', 'gpt2.h.1.attn.c_proj.weight', 'gpt2.h.4.attn.c_attn.weight', 'gpt2.h.8.ln_2.bias', 'gpt2.h.11.attn.c_proj.weight', 'gpt2.h.11.mlp.c_fc.bias', 'gpt2.h.0.attn.c_proj.weight', 'gpt2.h.5.attn.c_attn.bias', 'gpt2.h.0.ln_1.weight', 'gpt2.h.11.attn.c_proj.bias', 'gpt2.h.6.mlp.c_proj.bias', 'gpt2.h.2.attn.c_proj.weight', 'gpt2.h.7.attn.bias', 'gpt2.h.10.attn.c_proj.weight', 'gpt2.h.0.attn.c_attn.weight', 'gpt2.h.3.mlp.c_fc.bias', 'gpt2.h.9.attn.masked_bias', 'gpt2.h.9.ln_2.weight', 'gpt2.h.3.ln_1.bias', 'gpt2.h.10.ln_2.weight', 'gpt2.h.6.ln_1.weight', 'gpt2.h.8.attn.c_attn.weight', 'gpt2.h.5.ln_2.weight', 'gpt2.h.2.attn.c_attn.bias', 'gpt2.h.0.ln_1.bias', 'gpt2.h.5.attn.masked_bias', 'gpt2.h.10.ln_1.bias', 'gpt2.h.5.attn.c_attn.weight', 'gpt2.h.3.attn.c_attn.weight', 'gpt2.h.7.mlp.c_proj.weight', 'gpt2.h.1.ln_2.bias', 'gpt2.h.8.ln_1.weight', 'gpt2.h.0.attn.c_attn.bias', 'gpt2.h.6.mlp.c_proj.weight', 'gpt2.h.2.mlp.c_fc.weight', 'gpt2.h.10.mlp.c_fc.weight', 'gpt2.h.1.attn.c_attn.weight', 'gpt2.h.6.attn.c_attn.weight', 'gpt2.h.7.attn.c_attn.bias', 'gpt2.h.9.ln_2.bias', 'gpt2.h.11.mlp.c_proj.bias', 'gpt2.h.11.attn.masked_bias', 'gpt2.h.6.ln_1.bias', 'gpt2.h.9.mlp.c_fc.weight', 'gpt2.h.3.attn.c_attn.bias', 'gpt2.h.1.ln_1.bias', 'gpt2.h.10.mlp.c_proj.bias', 'gpt2.h.2.mlp.c_fc.bias', 'gpt2.h.4.ln_1.weight', 'gpt2.ln_f.bias', 'gpt2.h.6.mlp.c_fc.bias', 'gpt2.h.4.attn.bias', 'gpt2.h.7.mlp.c_fc.bias', 'gpt2.h.10.attn.c_attn.weight', 'gpt2.h.2.ln_2.weight', 'gpt2.h.9.ln_1.weight', 'gpt2.h.6.ln_2.weight', 'gpt2.h.9.attn.c_proj.bias', 'gpt2.h.8.attn.c_attn.bias', 'gpt2.h.3.mlp.c_proj.bias', 'gpt2.h.3.mlp.c_fc.weight', 'gpt2.h.7.attn.c_proj.bias', 'gpt2.h.10.attn.c_proj.bias', 'gpt2.h.1.ln_1.weight', 'gpt2.h.0.ln_2.bias', 'gpt2.h.6.mlp.c_fc.weight', 'gpt2.h.1.mlp.c_fc.weight', 'gpt2.h.3.attn.c_proj.bias', 'gpt2.h.3.ln_2.weight', 'gpt2.h.4.mlp.c_proj.weight', 'gpt2.h.5.attn.c_proj.weight', 'gpt2.h.11.ln_1.bias', 'gpt2.h.3.attn.masked_bias', 'gpt2.h.10.mlp.c_proj.weight', 'gpt2.h.8.attn.c_proj.bias', 'gpt2.h.11.mlp.c_proj.weight', 'gpt2.h.7.ln_1.bias', 'gpt2.wpe.weight', 'gpt2.h.3.attn.c_proj.weight', 'gpt2.h.11.attn.bias', 'gpt2.h.0.mlp.c_fc.bias', 'gpt2.h.6.ln_2.bias', 'gpt2.h.4.mlp.c_proj.bias', 'gpt2.h.10.attn.c_attn.bias', 'gpt2.h.1.mlp.c_proj.bias', 'gpt2.h.11.attn.c_attn.weight', 'gpt2.h.7.ln_1.weight', 'gpt2.h.7.attn.c_attn.weight', 'gpt2.h.4.attn.c_attn.bias', 'gpt2.h.2.mlp.c_proj.bias', 'gpt2.h.2.attn.bias', 'gpt2.h.2.ln_2.bias', 'gpt2.h.4.attn.c_proj.bias', 'gpt2.h.4.attn.c_proj.weight', 'gpt2.h.3.mlp.c_proj.weight', 'gpt2.h.4.attn.masked_bias', 'gpt2.h.0.mlp.c_proj.bias', 'gpt2.h.1.mlp.c_proj.weight', 'gpt2.h.5.ln_1.bias', 'gpt2.h.2.mlp.c_proj.weight', 'gpt2.h.1.mlp.c_fc.bias', 'gpt2.h.4.ln_2.weight', 'gpt2.h.5.ln_1.weight', 'gpt2.h.2.ln_1.weight', 'gpt2.h.11.ln_1.weight', 'gpt2.h.9.mlp.c_proj.bias', 'gpt2.h.4.mlp.c_fc.weight', 'gpt2.h.7.attn.c_proj.weight', 'gpt2.h.8.ln_1.bias', 'gpt2.h.9.attn.c_attn.weight', 'gpt2.h.9.mlp.c_proj.weight', 'gpt2.ln_f.weight', 'gpt2.h.1.ln_2.weight', 'gpt2.h.5.mlp.c_proj.bias', 'gpt2.h.9.ln_1.bias', 'gpt2.h.6.attn.bias', 'gpt2.h.8.attn.c_proj.weight', 'gpt2.h.9.attn.bias', 'gpt2.h.3.ln_1.weight', 'gpt2.h.0.attn.masked_bias', 'gpt2.h.3.attn.bias', 'gpt2.h.5.mlp.c_fc.weight', 'gpt2.h.7.ln_2.weight', 'gpt2.h.1.attn.c_proj.bias', 'gpt2.h.4.mlp.c_fc.bias', 'gpt2.h.2.attn.c_proj.bias', 'gpt2.h.3.ln_2.bias', 'gpt2.h.1.attn.masked_bias', 'gpt2.h.10.ln_2.bias', 'gpt2.h.9.attn.c_attn.bias', 'gpt2.h.11.ln_2.weight', 'gpt2.wte.weight', 'gpt2.h.0.attn.bias', 'gpt2.h.8.mlp.c_proj.weight', 'gpt2.h.6.attn.c_proj.bias', 'gpt2.h.0.mlp.c_proj.weight', 'gpt2.h.6.attn.masked_bias', 'gpt2.h.5.mlp.c_proj.weight', 'gpt2.h.6.attn.c_proj.weight', 'gpt2.h.4.ln_1.bias', 'gpt2.h.8.mlp.c_fc.bias', 'gpt2.h.8.ln_2.weight']\n",
      "You should probably TRAIN this model on a down-stream task to be able to use it for predictions and inference.\n"
     ]
    },
    {
     "data": {
      "text/plain": "(33341, 768)"
     },
     "execution_count": 5,
     "metadata": {},
     "output_type": "execute_result"
    }
   ],
   "source": [
    "model=RepresentationModel(\n",
    "    model_type=\"gpt2\",\n",
    "    model_name=\"gpt2\",\n",
    "    use_cuda=True,\n",
    "    #fp16=True\n",
    ")\n",
    "\n",
    "vectorialRepresentation = model.encode_sentences(emailsText, combine_strategy=\"mean\")\n",
    "vectorialRepresentation.shape"
   ],
   "metadata": {
    "collapsed": false,
    "pycharm": {
     "name": "#%%\n"
    }
   }
  },
  {
   "cell_type": "code",
   "execution_count": 6,
   "outputs": [
    {
     "data": {
      "text/plain": "            0         1         2         3         4         5         6    \\\n0      0.578063 -1.562219  0.733528 -0.058638  0.102807  1.620385  1.365647   \n1     -0.622657  0.053144  1.068417 -0.368139 -1.178293  1.251067  0.150130   \n2      0.672441 -1.871471  1.020190  0.274535 -0.788345  1.747756  1.122822   \n3      0.597837 -1.746223  1.017650  0.173475 -0.535336  1.816171  1.490823   \n4     -1.028337 -0.182032  1.087843  0.138309 -0.664889  0.816702  0.862890   \n...         ...       ...       ...       ...       ...       ...       ...   \n33336  0.764639 -1.408462  1.829600 -0.525103 -1.596769  2.506067  0.974421   \n33337 -0.216924 -1.351918  1.099144  0.204871 -1.159167  1.484302  0.503977   \n33338  0.546038 -2.470647  1.207605  1.797069 -1.467915  1.701314  1.534451   \n33339  0.305662 -1.203844  0.980389  0.851744 -1.239764  2.163097  0.364815   \n33340 -0.226237 -1.578368  1.017262  0.603601 -1.769842  1.046477  0.912931   \n\n            7         8         9    ...       758       759       760  \\\n0     -0.572078 -0.815387 -2.781020  ...  0.946592  1.232427  0.894165   \n1      0.676408 -0.146761 -1.484483  ... -0.231804  1.282375  1.661981   \n2      0.102061 -0.308725 -2.670972  ...  0.768910  1.679851  0.357598   \n3     -0.008094 -0.469706 -2.843270  ...  0.887539  1.504657  0.935981   \n4      0.121081 -0.749520 -1.705546  ... -0.294798  1.596552  0.873833   \n...         ...       ...       ...  ...       ...       ...       ...   \n33336 -0.115114  0.072327 -1.600080  ...  0.551293  2.203605  0.901629   \n33337  0.199203  0.008998 -2.148698  ... -0.159228  1.983267  0.423999   \n33338 -0.706129 -0.954505 -2.490199  ... -0.406200  1.865775  1.540000   \n33339 -0.100628  0.076471 -2.574973  ... -0.302633  1.986321  1.218455   \n33340 -0.714981 -0.611790 -0.613617  ...  0.502650  1.667148  1.252112   \n\n            761       762       763       764       765       766       767  \n0      0.027148  0.232668  0.037412 -0.670586 -0.364401 -0.319977 -1.053342  \n1     -0.441529 -0.768833 -0.983972 -1.993457  0.640664 -0.010069 -1.850842  \n2      0.624521 -0.179420  0.110053 -0.643694 -0.172248 -0.226315 -1.465842  \n3      0.599522  0.054418 -0.047194 -0.673326 -0.182649 -0.176225 -1.107678  \n4      0.890408 -0.913309 -0.340488 -1.247871 -0.306625  0.000457 -1.804885  \n...         ...       ...       ...       ...       ...       ...       ...  \n33336  0.518770  0.565980 -0.740531 -0.685751  0.523401 -0.779780 -1.579606  \n33337  0.937024 -0.492670 -0.496444 -0.549892 -0.349489  0.037575 -2.001184  \n33338  0.946446 -0.232542  0.050942 -0.758569 -0.091412  0.397039 -0.996819  \n33339  0.840711  0.548881  0.348737 -1.149769  0.356195 -0.494669 -0.772472  \n33340  0.324927 -0.585878 -0.798224 -0.734891  0.219252  0.509139 -1.124477  \n\n[33341 rows x 768 columns]",
      "text/html": "<div>\n<style scoped>\n    .dataframe tbody tr th:only-of-type {\n        vertical-align: middle;\n    }\n\n    .dataframe tbody tr th {\n        vertical-align: top;\n    }\n\n    .dataframe thead th {\n        text-align: right;\n    }\n</style>\n<table border=\"1\" class=\"dataframe\">\n  <thead>\n    <tr style=\"text-align: right;\">\n      <th></th>\n      <th>0</th>\n      <th>1</th>\n      <th>2</th>\n      <th>3</th>\n      <th>4</th>\n      <th>5</th>\n      <th>6</th>\n      <th>7</th>\n      <th>8</th>\n      <th>9</th>\n      <th>...</th>\n      <th>758</th>\n      <th>759</th>\n      <th>760</th>\n      <th>761</th>\n      <th>762</th>\n      <th>763</th>\n      <th>764</th>\n      <th>765</th>\n      <th>766</th>\n      <th>767</th>\n    </tr>\n  </thead>\n  <tbody>\n    <tr>\n      <th>0</th>\n      <td>0.578063</td>\n      <td>-1.562219</td>\n      <td>0.733528</td>\n      <td>-0.058638</td>\n      <td>0.102807</td>\n      <td>1.620385</td>\n      <td>1.365647</td>\n      <td>-0.572078</td>\n      <td>-0.815387</td>\n      <td>-2.781020</td>\n      <td>...</td>\n      <td>0.946592</td>\n      <td>1.232427</td>\n      <td>0.894165</td>\n      <td>0.027148</td>\n      <td>0.232668</td>\n      <td>0.037412</td>\n      <td>-0.670586</td>\n      <td>-0.364401</td>\n      <td>-0.319977</td>\n      <td>-1.053342</td>\n    </tr>\n    <tr>\n      <th>1</th>\n      <td>-0.622657</td>\n      <td>0.053144</td>\n      <td>1.068417</td>\n      <td>-0.368139</td>\n      <td>-1.178293</td>\n      <td>1.251067</td>\n      <td>0.150130</td>\n      <td>0.676408</td>\n      <td>-0.146761</td>\n      <td>-1.484483</td>\n      <td>...</td>\n      <td>-0.231804</td>\n      <td>1.282375</td>\n      <td>1.661981</td>\n      <td>-0.441529</td>\n      <td>-0.768833</td>\n      <td>-0.983972</td>\n      <td>-1.993457</td>\n      <td>0.640664</td>\n      <td>-0.010069</td>\n      <td>-1.850842</td>\n    </tr>\n    <tr>\n      <th>2</th>\n      <td>0.672441</td>\n      <td>-1.871471</td>\n      <td>1.020190</td>\n      <td>0.274535</td>\n      <td>-0.788345</td>\n      <td>1.747756</td>\n      <td>1.122822</td>\n      <td>0.102061</td>\n      <td>-0.308725</td>\n      <td>-2.670972</td>\n      <td>...</td>\n      <td>0.768910</td>\n      <td>1.679851</td>\n      <td>0.357598</td>\n      <td>0.624521</td>\n      <td>-0.179420</td>\n      <td>0.110053</td>\n      <td>-0.643694</td>\n      <td>-0.172248</td>\n      <td>-0.226315</td>\n      <td>-1.465842</td>\n    </tr>\n    <tr>\n      <th>3</th>\n      <td>0.597837</td>\n      <td>-1.746223</td>\n      <td>1.017650</td>\n      <td>0.173475</td>\n      <td>-0.535336</td>\n      <td>1.816171</td>\n      <td>1.490823</td>\n      <td>-0.008094</td>\n      <td>-0.469706</td>\n      <td>-2.843270</td>\n      <td>...</td>\n      <td>0.887539</td>\n      <td>1.504657</td>\n      <td>0.935981</td>\n      <td>0.599522</td>\n      <td>0.054418</td>\n      <td>-0.047194</td>\n      <td>-0.673326</td>\n      <td>-0.182649</td>\n      <td>-0.176225</td>\n      <td>-1.107678</td>\n    </tr>\n    <tr>\n      <th>4</th>\n      <td>-1.028337</td>\n      <td>-0.182032</td>\n      <td>1.087843</td>\n      <td>0.138309</td>\n      <td>-0.664889</td>\n      <td>0.816702</td>\n      <td>0.862890</td>\n      <td>0.121081</td>\n      <td>-0.749520</td>\n      <td>-1.705546</td>\n      <td>...</td>\n      <td>-0.294798</td>\n      <td>1.596552</td>\n      <td>0.873833</td>\n      <td>0.890408</td>\n      <td>-0.913309</td>\n      <td>-0.340488</td>\n      <td>-1.247871</td>\n      <td>-0.306625</td>\n      <td>0.000457</td>\n      <td>-1.804885</td>\n    </tr>\n    <tr>\n      <th>...</th>\n      <td>...</td>\n      <td>...</td>\n      <td>...</td>\n      <td>...</td>\n      <td>...</td>\n      <td>...</td>\n      <td>...</td>\n      <td>...</td>\n      <td>...</td>\n      <td>...</td>\n      <td>...</td>\n      <td>...</td>\n      <td>...</td>\n      <td>...</td>\n      <td>...</td>\n      <td>...</td>\n      <td>...</td>\n      <td>...</td>\n      <td>...</td>\n      <td>...</td>\n      <td>...</td>\n    </tr>\n    <tr>\n      <th>33336</th>\n      <td>0.764639</td>\n      <td>-1.408462</td>\n      <td>1.829600</td>\n      <td>-0.525103</td>\n      <td>-1.596769</td>\n      <td>2.506067</td>\n      <td>0.974421</td>\n      <td>-0.115114</td>\n      <td>0.072327</td>\n      <td>-1.600080</td>\n      <td>...</td>\n      <td>0.551293</td>\n      <td>2.203605</td>\n      <td>0.901629</td>\n      <td>0.518770</td>\n      <td>0.565980</td>\n      <td>-0.740531</td>\n      <td>-0.685751</td>\n      <td>0.523401</td>\n      <td>-0.779780</td>\n      <td>-1.579606</td>\n    </tr>\n    <tr>\n      <th>33337</th>\n      <td>-0.216924</td>\n      <td>-1.351918</td>\n      <td>1.099144</td>\n      <td>0.204871</td>\n      <td>-1.159167</td>\n      <td>1.484302</td>\n      <td>0.503977</td>\n      <td>0.199203</td>\n      <td>0.008998</td>\n      <td>-2.148698</td>\n      <td>...</td>\n      <td>-0.159228</td>\n      <td>1.983267</td>\n      <td>0.423999</td>\n      <td>0.937024</td>\n      <td>-0.492670</td>\n      <td>-0.496444</td>\n      <td>-0.549892</td>\n      <td>-0.349489</td>\n      <td>0.037575</td>\n      <td>-2.001184</td>\n    </tr>\n    <tr>\n      <th>33338</th>\n      <td>0.546038</td>\n      <td>-2.470647</td>\n      <td>1.207605</td>\n      <td>1.797069</td>\n      <td>-1.467915</td>\n      <td>1.701314</td>\n      <td>1.534451</td>\n      <td>-0.706129</td>\n      <td>-0.954505</td>\n      <td>-2.490199</td>\n      <td>...</td>\n      <td>-0.406200</td>\n      <td>1.865775</td>\n      <td>1.540000</td>\n      <td>0.946446</td>\n      <td>-0.232542</td>\n      <td>0.050942</td>\n      <td>-0.758569</td>\n      <td>-0.091412</td>\n      <td>0.397039</td>\n      <td>-0.996819</td>\n    </tr>\n    <tr>\n      <th>33339</th>\n      <td>0.305662</td>\n      <td>-1.203844</td>\n      <td>0.980389</td>\n      <td>0.851744</td>\n      <td>-1.239764</td>\n      <td>2.163097</td>\n      <td>0.364815</td>\n      <td>-0.100628</td>\n      <td>0.076471</td>\n      <td>-2.574973</td>\n      <td>...</td>\n      <td>-0.302633</td>\n      <td>1.986321</td>\n      <td>1.218455</td>\n      <td>0.840711</td>\n      <td>0.548881</td>\n      <td>0.348737</td>\n      <td>-1.149769</td>\n      <td>0.356195</td>\n      <td>-0.494669</td>\n      <td>-0.772472</td>\n    </tr>\n    <tr>\n      <th>33340</th>\n      <td>-0.226237</td>\n      <td>-1.578368</td>\n      <td>1.017262</td>\n      <td>0.603601</td>\n      <td>-1.769842</td>\n      <td>1.046477</td>\n      <td>0.912931</td>\n      <td>-0.714981</td>\n      <td>-0.611790</td>\n      <td>-0.613617</td>\n      <td>...</td>\n      <td>0.502650</td>\n      <td>1.667148</td>\n      <td>1.252112</td>\n      <td>0.324927</td>\n      <td>-0.585878</td>\n      <td>-0.798224</td>\n      <td>-0.734891</td>\n      <td>0.219252</td>\n      <td>0.509139</td>\n      <td>-1.124477</td>\n    </tr>\n  </tbody>\n</table>\n<p>33341 rows × 768 columns</p>\n</div>"
     },
     "execution_count": 6,
     "metadata": {},
     "output_type": "execute_result"
    }
   ],
   "source": [
    "gpt2Dataframe = pd.DataFrame(vectorialRepresentation)\n",
    "gpt2Dataframe"
   ],
   "metadata": {
    "collapsed": false,
    "pycharm": {
     "name": "#%%\n"
    }
   }
  },
  {
   "cell_type": "code",
   "execution_count": null,
   "outputs": [],
   "source": [
    "gpt2Dataframe = np.array(gpt2Dataframe)\n",
    "gpt2Dataframe"
   ],
   "metadata": {
    "collapsed": false,
    "pycharm": {
     "name": "#%%\n"
    }
   }
  },
  {
   "cell_type": "markdown",
   "source": [
    "# Visualização de dados com TSNE"
   ],
   "metadata": {
    "collapsed": false,
    "pycharm": {
     "name": "#%% md\n"
    }
   }
  },
  {
   "cell_type": "code",
   "execution_count": 7,
   "outputs": [
    {
     "name": "stderr",
     "output_type": "stream",
     "text": [
      "E:\\DevPack\\anaconda3\\envs\\data_science\\lib\\site-packages\\sklearn\\manifold\\_t_sne.py:780: FutureWarning: The default initialization in TSNE will change from 'random' to 'pca' in 1.2.\n",
      "  warnings.warn(\n",
      "E:\\DevPack\\anaconda3\\envs\\data_science\\lib\\site-packages\\sklearn\\manifold\\_t_sne.py:790: FutureWarning: The default learning rate in TSNE will change from 200.0 to 'auto' in 1.2.\n",
      "  warnings.warn(\n"
     ]
    },
    {
     "name": "stdout",
     "output_type": "stream",
     "text": [
      "               0          1  Target\n",
      "0     -14.011990 -71.692970       0\n",
      "1      15.829963  10.544511       0\n",
      "2      10.241787  52.096443       0\n",
      "3      69.784821  14.447907       0\n",
      "4      -6.443357  57.167374       0\n",
      "...          ...        ...     ...\n",
      "33336  52.482487   3.101025       1\n",
      "33337  -6.246800  37.836533       1\n",
      "33338  42.079762  -3.870044       1\n",
      "33339   5.700751  21.373949       0\n",
      "33340   2.333664  31.864038       1\n",
      "\n",
      "[33341 rows x 3 columns]\n"
     ]
    },
    {
     "data": {
      "text/plain": "<Figure size 432x288 with 1 Axes>",
      "image/png": "[encoded data removed]"
     },
     "metadata": {
      "needs_background": "light"
     },
     "output_type": "display_data"
    }
   ],
   "source": [
    "# model = TSNE(n_components=2, random_state=0)\n",
    "# array_red = model.fit_transform(gpt2Dataframe)\n",
    "#\n",
    "# df_tsne = pd.DataFrame(array_red)\n",
    "#\n",
    "# df_tsne['Target'] = target\n",
    "# print(df_tsne)\n",
    "# df_tsne_c1 = df_tsne[df_tsne['Target'] == 0]\n",
    "#\n",
    "# df_tsne_c2 = df_tsne[df_tsne['Target'] == 1]\n",
    "#\n",
    "# plt.scatter(df_tsne_c1[0].array,df_tsne_c1[1].array,marker='o',color='blue')\n",
    "#\n",
    "# plt.scatter(df_tsne_c2[0].array,df_tsne_c2[1].array,marker='o',color='red')\n",
    "#\n",
    "# plt.title('Dados')\n",
    "# plt.xlabel('x')\n",
    "# plt.ylabel('y')\n",
    "#\n",
    "# plt.show()"
   ],
   "metadata": {
    "collapsed": false,
    "pycharm": {
     "name": "#%%\n"
    }
   }
  },
  {
   "cell_type": "markdown",
   "source": [
    "# Validação"
   ],
   "metadata": {
    "collapsed": false,
    "pycharm": {
     "name": "#%% md\n"
    }
   }
  },
  {
   "cell_type": "code",
   "execution_count": 9,
   "outputs": [
    {
     "data": {
      "text/plain": "0.7671315039736092"
     },
     "execution_count": 9,
     "metadata": {},
     "output_type": "execute_result"
    }
   ],
   "source": [
    "foldsAccuracy = []\n",
    "foldLosses = []"
   ],
   "metadata": {
    "collapsed": false,
    "pycharm": {
     "name": "#%%\n"
    }
   }
  },
  {
   "cell_type": "code",
   "execution_count": null,
   "outputs": [],
   "source": [
    "\n",
    "kfold = KFold(n_splits=4, shuffle=True)"
   ],
   "metadata": {
    "collapsed": false,
    "pycharm": {
     "name": "#%%\n"
    }
   }
  },
  {
   "cell_type": "code",
   "execution_count": 8,
   "outputs": [],
   "source": [
    "foldCount = 1\n",
    "for train, test in kfold.split(gpt2Dataframe, targets):\n",
    "    model = keras.models.Sequential([\n",
    "        ########## MLP\n",
    "        keras.layers.Flatten(input_shape=(gpt2Dataframe.shape[1],)),\n",
    "        keras.layers.Dense(1000, activation=\"relu\"),\n",
    "        keras.layers.Dense(1000, activation=\"relu\"),\n",
    "        keras.layers.Dense(1000, activation=\"relu\"),\n",
    "\n",
    "        keras.layers.Dense(len(set(targets)), activation=\"softmax\")\n",
    "    ])\n",
    "\n",
    "    model.compile(loss=\"sparse_categorical_crossentropy\", optimizer=\"adam\", metrics=['accuracy'])\n",
    "\n",
    "    print('****************************************************')\n",
    "    print(f'Iniciando treinamento da fold: {foldCount}.')\n",
    "\n",
    "    callbacks = [tf.keras.callbacks.ReduceLROnPlateau(monitor='val_loss', factor=0.1, patience=7, verbose=1, min_delta=1e-4,mode='min'), tf.keras.callbacks.EarlyStopping(monitor='val_loss', patience=20, verbose=0, restore_best_weights=True)]\n",
    "\n",
    "    history = model.fit(gpt2Dataframe[train], targets[train], epochs=200, callbacks=callbacks, validation_split=0.05)\n",
    "\n",
    "    scores = model.evaluate(gpt2Dataframe[test], targets[test], verbose=0)\n",
    "    print(f'Score fold {foldCount}: {model.metrics_names[0]} de {scores[0]}; {model.metrics_names[1]} de {scores[1]*100}%')\n",
    "\n",
    "    foldsAccuracy.append(scores[1] * 100)\n",
    "    foldLosses.append(scores[0])\n",
    "\n",
    "    foldCount = foldCount + 1"
   ],
   "metadata": {
    "collapsed": false,
    "pycharm": {
     "name": "#%%\n"
    }
   }
  },
  {
   "cell_type": "code",
   "execution_count": null,
   "outputs": [],
   "source": [
    "print('****************************************************')\n",
    "print('Score de cada fold:')\n",
    "for i in range(0, len(foldsAccuracy)):\n",
    "    print('****************************************************')\n",
    "    print(f'--> Fold {i+1}: Loss: {foldLosses[i]} ; Accuracy: {foldsAccuracy[i]}%')\n",
    "\n",
    "print('****************************************************')\n",
    "print('Média de accuracy das folds:')\n",
    "print(f'--> Accuracy: {np.mean(foldsAccuracy)} (+- {np.std(foldsAccuracy)})')\n",
    "print(f'--> Loss: {np.mean(foldLosses)}')\n",
    "print('****************************************************')"
   ],
   "metadata": {
    "collapsed": false,
    "pycharm": {
     "name": "#%%\n"
    }
   }
  },
  {
   "cell_type": "code",
   "execution_count": 34,
   "outputs": [
    {
     "name": "stdout",
     "output_type": "stream",
     "text": [
      "1042/1042 [==============================] - 1s 963us/step\n"
     ]
    },
    {
     "data": {
      "text/plain": "<Figure size 720x720 with 2 Axes>",
      "image/png": "[encoded data removed]"
     },
     "metadata": {},
     "output_type": "display_data"
    }
   ],
   "source": [
    "#cm = confusion_matrix(target,np.argmax(model.predict(gpt2Dataframe.values), axis=-1))\n",
    "#\n",
    "#labels = [\"Ham\", \"Spam\"]\n",
    "#\n",
    "#cm_df = pd.DataFrame(cm, columns=labels)\n",
    "#\n",
    "#fig, ax = plt.subplots(figsize=(10,10))\n",
    "#sns.heatmap(cm_df, annot=True, fmt=\"d\", xticklabels=labels, yticklabels=labels)\n",
    "#\n",
    "#plt.show()"
   ],
   "metadata": {
    "collapsed": false,
    "pycharm": {
     "name": "#%%\n"
    }
   }
  }
 ],
 "metadata": {
  "kernelspec": {
   "display_name": "Python 3",
   "language": "python",
   "name": "python3"
  },
  "language_info": {
   "codemirror_mode": {
    "name": "ipython",
    "version": 3
   },
   "file_extension": ".py",
   "mimetype": "text/x-python",
   "name": "python",
   "nbconvert_exporter": "python",
   "pygments_lexer": "ipython3",
   "version": "3.8.8"
  }
 },
 "nbformat": 4,
 "nbformat_minor": 1
}