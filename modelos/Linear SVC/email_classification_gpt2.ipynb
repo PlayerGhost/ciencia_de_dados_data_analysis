{
 "cells": [
  {
   "cell_type": "code",
   "execution_count": 1,
   "metadata": {
    "collapsed": false,
    "pycharm": {
     "name": "#%%\n"
    }
   },
   "outputs": [],
   "source": [
    "import pandas as pd\n",
    "from sklearn.svm import LinearSVC\n",
    "from sklearn.model_selection import train_test_split, cross_val_score, cross_val_predict\n",
    "from sklearn.manifold import TSNE\n",
    "from sklearn.metrics import classification_report\n",
    "import scikitplot as skplt\n",
    "import matplotlib.pyplot as plt\n",
    "from simpletransformers.language_representation import RepresentationModel"
   ]
  },
  {
   "cell_type": "markdown",
   "metadata": {
    "collapsed": false,
    "pycharm": {
     "name": "#%% md\n"
    }
   },
   "source": [
    "# Carregando base de dados  pré-processada"
   ]
  },
  {
   "cell_type": "code",
   "execution_count": 2,
   "metadata": {
    "collapsed": false,
    "pycharm": {
     "name": "#%%\n"
    }
   },
   "outputs": [
    {
     "data": {
      "text/html": [
       "<div>\n",
       "<style scoped>\n",
       "    .dataframe tbody tr th:only-of-type {\n",
       "        vertical-align: middle;\n",
       "    }\n",
       "\n",
       "    .dataframe tbody tr th {\n",
       "        vertical-align: top;\n",
       "    }\n",
       "\n",
       "    .dataframe thead th {\n",
       "        text-align: right;\n",
       "    }\n",
       "</style>\n",
       "<table border=\"1\" class=\"dataframe\">\n",
       "  <thead>\n",
       "    <tr style=\"text-align: right;\">\n",
       "      <th></th>\n",
       "      <th>email</th>\n",
       "      <th>target</th>\n",
       "    </tr>\n",
       "  </thead>\n",
       "  <tbody>\n",
       "    <tr>\n",
       "      <th>0</th>\n",
       "      <td>start date     hourahead timee  cardinall  hou...</td>\n",
       "      <td>0</td>\n",
       "    </tr>\n",
       "    <tr>\n",
       "      <th>1</th>\n",
       "      <td>service long desk  price structure deal quote ...</td>\n",
       "      <td>0</td>\n",
       "    </tr>\n",
       "    <tr>\n",
       "      <th>2</th>\n",
       "      <td>start date  cardinall    hourahead timee  card...</td>\n",
       "      <td>0</td>\n",
       "    </tr>\n",
       "    <tr>\n",
       "      <th>3</th>\n",
       "      <td>start date     hourahead timee  cardinall  anc...</td>\n",
       "      <td>0</td>\n",
       "    </tr>\n",
       "    <tr>\n",
       "      <th>4</th>\n",
       "      <td>cardinall deliverable revenue management marke...</td>\n",
       "      <td>0</td>\n",
       "    </tr>\n",
       "    <tr>\n",
       "      <th>...</th>\n",
       "      <td>...</td>\n",
       "      <td>...</td>\n",
       "    </tr>\n",
       "    <tr>\n",
       "      <th>33340</th>\n",
       "      <td>bio  matrix scientific group   symbo   bmxg  p...</td>\n",
       "      <td>1</td>\n",
       "    </tr>\n",
       "    <tr>\n",
       "      <th>33341</th>\n",
       "      <td>cardinall step away hot naked webcam girl liv...</td>\n",
       "      <td>1</td>\n",
       "    </tr>\n",
       "    <tr>\n",
       "      <th>33342</th>\n",
       "      <td>need pill increase performance click  seroius ...</td>\n",
       "      <td>1</td>\n",
       "    </tr>\n",
       "    <tr>\n",
       "      <th>33343</th>\n",
       "      <td>datee final nom       inlet hpl  eastrans  car...</td>\n",
       "      <td>0</td>\n",
       "    </tr>\n",
       "    <tr>\n",
       "      <th>33344</th>\n",
       "      <td>ordinall time  offering male enhancement perfo...</td>\n",
       "      <td>1</td>\n",
       "    </tr>\n",
       "  </tbody>\n",
       "</table>\n",
       "<p>33341 rows × 2 columns</p>\n",
       "</div>"
      ],
      "text/plain": [
       "                                                   email  target\n",
       "0      start date     hourahead timee  cardinall  hou...       0\n",
       "1      service long desk  price structure deal quote ...       0\n",
       "2      start date  cardinall    hourahead timee  card...       0\n",
       "3      start date     hourahead timee  cardinall  anc...       0\n",
       "4      cardinall deliverable revenue management marke...       0\n",
       "...                                                  ...     ...\n",
       "33340  bio  matrix scientific group   symbo   bmxg  p...       1\n",
       "33341   cardinall step away hot naked webcam girl liv...       1\n",
       "33342  need pill increase performance click  seroius ...       1\n",
       "33343  datee final nom       inlet hpl  eastrans  car...       0\n",
       "33344  ordinall time  offering male enhancement perfo...       1\n",
       "\n",
       "[33341 rows x 2 columns]"
      ]
     },
     "execution_count": 2,
     "metadata": {},
     "output_type": "execute_result"
    }
   ],
   "source": [
    "database = pd.read_csv(\"../../Database/dataBaseWithNER.csv\")\n",
    "\n",
    "database = database.drop(columns=[\"Unnamed: 0\"])\n",
    "database = database.dropna()\n",
    "target = database[\"target\"].values.tolist()\n",
    "database"
   ]
  },
  {
   "cell_type": "code",
   "execution_count": 3,
   "metadata": {
    "collapsed": false,
    "pycharm": {
     "name": "#%%\n"
    }
   },
   "outputs": [],
   "source": [
    "emailsText = []\n",
    "for email in database[\"email\"]:\n",
    "    emailsText.append(email)"
   ]
  },
  {
   "cell_type": "code",
   "execution_count": 4,
   "metadata": {
    "collapsed": false,
    "pycharm": {
     "name": "#%%\n"
    }
   },
   "outputs": [
    {
     "name": "stdout",
     "output_type": "stream",
     "text": [
      "33341\n"
     ]
    }
   ],
   "source": [
    "print(len(emailsText))"
   ]
  },
  {
   "cell_type": "markdown",
   "metadata": {
    "collapsed": false,
    "pycharm": {
     "name": "#%% md\n"
    }
   },
   "source": [
    "# Representação vetorial GPT2"
   ]
  },
  {
   "cell_type": "code",
   "execution_count": 5,
   "metadata": {
    "collapsed": false,
    "pycharm": {
     "is_executing": true,
     "name": "#%%\n"
    }
   },
   "outputs": [
    {
     "data": {
      "application/vnd.jupyter.widget-view+json": {
       "model_id": "3d22a9d8f6b74eb4aa66443f6d43d89b",
       "version_major": 2,
       "version_minor": 0
      },
      "text/plain": [
       "Downloading:   0%|          | 0.00/665 [00:00<?, ?B/s]"
      ]
     },
     "metadata": {},
     "output_type": "display_data"
    },
    {
     "data": {
      "application/vnd.jupyter.widget-view+json": {
       "model_id": "7324cdefb36d4c8cb632fa46af53d924",
       "version_major": 2,
       "version_minor": 0
      },
      "text/plain": [
       "Downloading:   0%|          | 0.00/523M [00:00<?, ?B/s]"
      ]
     },
     "metadata": {},
     "output_type": "display_data"
    },
    {
     "name": "stderr",
     "output_type": "stream",
     "text": [
      "Some weights of the model checkpoint at gpt2 were not used when initializing GPT2ForTextRepresentation: ['h.2.attn.c_proj.weight', 'h.2.attn.c_attn.weight', 'h.11.mlp.c_proj.weight', 'h.0.attn.c_attn.weight', 'h.10.attn.c_attn.bias', 'h.5.mlp.c_fc.weight', 'h.2.mlp.c_fc.weight', 'h.8.ln_2.bias', 'h.9.mlp.c_proj.weight', 'h.8.attn.c_proj.bias', 'ln_f.weight', 'h.0.mlp.c_proj.bias', 'h.9.attn.bias', 'h.5.attn.c_attn.bias', 'h.7.ln_1.bias', 'h.5.ln_1.bias', 'h.8.attn.c_proj.weight', 'h.9.ln_2.bias', 'h.3.ln_1.bias', 'h.9.mlp.c_proj.bias', 'h.5.ln_2.weight', 'h.1.attn.c_attn.bias', 'wpe.weight', 'h.9.attn.c_attn.bias', 'h.1.ln_1.weight', 'h.6.attn.c_proj.weight', 'h.3.mlp.c_fc.bias', 'h.11.ln_2.weight', 'h.4.mlp.c_fc.weight', 'h.11.ln_2.bias', 'h.10.attn.c_proj.bias', 'h.10.mlp.c_fc.bias', 'h.11.attn.c_attn.weight', 'h.10.ln_1.bias', 'h.4.mlp.c_fc.bias', 'h.5.attn.c_proj.weight', 'h.5.ln_2.bias', 'h.7.attn.c_proj.weight', 'h.9.attn.c_proj.bias', 'h.6.mlp.c_fc.weight', 'h.1.attn.c_attn.weight', 'h.10.mlp.c_fc.weight', 'h.1.mlp.c_fc.weight', 'h.6.attn.c_proj.bias', 'h.6.attn.c_attn.weight', 'h.2.ln_1.bias', 'h.9.mlp.c_fc.bias', 'h.3.attn.c_proj.weight', 'h.11.attn.c_proj.bias', 'h.6.mlp.c_fc.bias', 'h.10.mlp.c_proj.weight', 'h.6.attn.bias', 'h.9.attn.c_attn.weight', 'h.6.ln_1.weight', 'h.7.attn.c_attn.weight', 'h.11.mlp.c_fc.bias', 'h.10.attn.c_attn.weight', 'h.7.attn.c_proj.bias', 'h.0.mlp.c_fc.bias', 'h.7.mlp.c_fc.bias', 'h.2.mlp.c_fc.bias', 'h.10.ln_1.weight', 'h.9.ln_1.bias', 'h.5.mlp.c_proj.bias', 'h.0.mlp.c_proj.weight', 'h.11.ln_1.bias', 'h.3.attn.c_proj.bias', 'h.2.ln_1.weight', 'h.11.attn.c_proj.weight', 'h.4.ln_1.bias', 'h.3.mlp.c_proj.weight', 'h.4.mlp.c_proj.weight', 'h.1.attn.bias', 'h.2.attn.c_proj.bias', 'h.7.ln_2.weight', 'h.1.mlp.c_fc.bias', 'h.0.attn.c_proj.weight', 'h.2.mlp.c_proj.weight', 'h.5.attn.c_proj.bias', 'h.2.mlp.c_proj.bias', 'h.3.attn.c_attn.weight', 'h.10.attn.bias', 'h.2.ln_2.weight', 'h.3.mlp.c_proj.bias', 'h.2.attn.bias', 'h.8.mlp.c_fc.weight', 'h.3.ln_2.bias', 'h.5.mlp.c_proj.weight', 'h.7.mlp.c_fc.weight', 'h.9.ln_2.weight', 'h.7.attn.c_attn.bias', 'h.7.mlp.c_proj.weight', 'h.8.ln_1.bias', 'h.11.attn.bias', 'h.11.mlp.c_fc.weight', 'h.5.attn.bias', 'h.3.mlp.c_fc.weight', 'h.10.mlp.c_proj.bias', 'h.7.ln_1.weight', 'h.8.mlp.c_proj.weight', 'h.3.ln_2.weight', 'h.0.mlp.c_fc.weight', 'h.6.attn.c_attn.bias', 'h.2.ln_2.bias', 'h.1.ln_1.bias', 'h.4.attn.c_proj.bias', 'h.11.mlp.c_proj.bias', 'h.5.mlp.c_fc.bias', 'h.1.mlp.c_proj.weight', 'h.1.attn.c_proj.bias', 'h.3.attn.c_attn.bias', 'h.7.attn.bias', 'h.4.attn.c_attn.weight', 'h.7.ln_2.bias', 'h.4.ln_1.weight', 'h.6.ln_1.bias', 'h.0.attn.bias', 'h.10.attn.c_proj.weight', 'ln_f.bias', 'h.3.attn.bias', 'h.6.mlp.c_proj.bias', 'h.9.ln_1.weight', 'h.6.mlp.c_proj.weight', 'h.7.mlp.c_proj.bias', 'h.5.ln_1.weight', 'h.0.attn.c_attn.bias', 'h.8.ln_1.weight', 'h.1.attn.c_proj.weight', 'h.4.attn.c_proj.weight', 'h.0.ln_1.weight', 'h.0.ln_2.weight', 'h.9.mlp.c_fc.weight', 'h.6.ln_2.weight', 'h.5.attn.c_attn.weight', 'h.3.ln_1.weight', 'h.4.mlp.c_proj.bias', 'h.8.attn.c_attn.bias', 'wte.weight', 'h.1.ln_2.weight', 'h.10.ln_2.bias', 'h.8.attn.c_attn.weight', 'h.8.mlp.c_fc.bias', 'h.4.attn.c_attn.bias', 'h.1.mlp.c_proj.bias', 'h.0.ln_2.bias', 'h.9.attn.c_proj.weight', 'h.1.ln_2.bias', 'h.0.ln_1.bias', 'h.8.attn.bias', 'h.4.attn.bias', 'h.8.ln_2.weight', 'h.11.ln_1.weight', 'h.11.attn.c_attn.bias', 'h.10.ln_2.weight', 'h.4.ln_2.bias', 'h.6.ln_2.bias', 'h.2.attn.c_attn.bias', 'h.4.ln_2.weight', 'h.0.attn.c_proj.bias', 'h.8.mlp.c_proj.bias']\n",
      "- This IS expected if you are initializing GPT2ForTextRepresentation from the checkpoint of a model trained on another task or with another architecture (e.g. initializing a BertForSequenceClassification model from a BertForPreTraining model).\n",
      "- This IS NOT expected if you are initializing GPT2ForTextRepresentation from the checkpoint of a model that you expect to be exactly identical (initializing a BertForSequenceClassification model from a BertForSequenceClassification model).\n",
      "Some weights of GPT2ForTextRepresentation were not initialized from the model checkpoint at gpt2 and are newly initialized: ['gpt2.h.11.mlp.c_proj.weight', 'gpt2.h.5.mlp.c_proj.bias', 'gpt2.h.1.attn.bias', 'gpt2.ln_f.bias', 'gpt2.h.3.mlp.c_proj.bias', 'gpt2.h.8.mlp.c_proj.bias', 'gpt2.h.9.ln_2.bias', 'gpt2.h.8.ln_2.weight', 'gpt2.h.2.mlp.c_fc.weight', 'gpt2.h.8.attn.c_proj.bias', 'gpt2.h.1.ln_1.bias', 'gpt2.h.2.attn.c_attn.weight', 'gpt2.h.2.attn.masked_bias', 'gpt2.h.6.ln_1.bias', 'gpt2.h.11.attn.c_proj.bias', 'gpt2.h.0.attn.c_attn.bias', 'gpt2.h.1.attn.c_attn.weight', 'gpt2.h.2.mlp.c_fc.bias', 'gpt2.h.0.attn.bias', 'gpt2.h.3.ln_1.bias', 'gpt2.h.6.attn.c_attn.bias', 'gpt2.h.10.attn.c_attn.bias', 'gpt2.h.11.attn.c_proj.weight', 'gpt2.h.2.ln_2.bias', 'gpt2.h.3.attn.masked_bias', 'gpt2.h.6.mlp.c_proj.weight', 'gpt2.h.7.ln_2.bias', 'gpt2.h.1.mlp.c_proj.weight', 'gpt2.h.11.attn.bias', 'gpt2.h.5.ln_1.weight', 'gpt2.h.8.ln_2.bias', 'gpt2.h.1.attn.c_proj.weight', 'gpt2.h.4.mlp.c_proj.weight', 'gpt2.h.11.mlp.c_fc.bias', 'gpt2.h.2.attn.c_proj.bias', 'gpt2.h.5.attn.c_proj.weight', 'gpt2.h.8.ln_1.weight', 'gpt2.wpe.weight', 'gpt2.h.3.attn.c_proj.bias', 'gpt2.h.3.mlp.c_fc.bias', 'gpt2.h.8.attn.c_attn.weight', 'gpt2.h.8.ln_1.bias', 'gpt2.h.4.mlp.c_proj.bias', 'gpt2.h.9.ln_1.bias', 'gpt2.h.0.attn.masked_bias', 'gpt2.h.1.mlp.c_fc.bias', 'gpt2.h.8.mlp.c_proj.weight', 'gpt2.h.8.mlp.c_fc.weight', 'gpt2.h.11.mlp.c_proj.bias', 'gpt2.h.2.ln_1.weight', 'gpt2.h.4.ln_2.bias', 'gpt2.h.11.attn.c_attn.weight', 'gpt2.h.7.attn.c_proj.weight', 'gpt2.h.4.attn.bias', 'gpt2.h.3.ln_1.weight', 'gpt2.wte.weight', 'gpt2.h.9.attn.masked_bias', 'gpt2.h.5.ln_2.bias', 'gpt2.h.7.attn.c_attn.weight', 'gpt2.h.10.ln_2.bias', 'gpt2.h.7.mlp.c_proj.weight', 'gpt2.h.6.ln_2.weight', 'gpt2.h.11.ln_1.bias', 'gpt2.h.10.ln_1.weight', 'gpt2.h.6.mlp.c_fc.weight', 'gpt2.h.1.ln_2.bias', 'gpt2.h.3.ln_2.bias', 'gpt2.h.7.attn.c_proj.bias', 'gpt2.h.3.attn.c_attn.bias', 'gpt2.h.2.mlp.c_proj.weight', 'gpt2.h.10.mlp.c_proj.weight', 'gpt2.h.4.ln_1.bias', 'gpt2.h.11.ln_1.weight', 'gpt2.h.7.ln_1.bias', 'gpt2.h.6.attn.bias', 'gpt2.h.11.mlp.c_fc.weight', 'gpt2.h.2.ln_1.bias', 'gpt2.h.5.mlp.c_fc.weight', 'gpt2.h.9.attn.c_proj.weight', 'gpt2.h.0.mlp.c_fc.bias', 'gpt2.h.4.attn.masked_bias', 'gpt2.h.1.ln_2.weight', 'gpt2.h.1.attn.c_proj.bias', 'gpt2.h.10.attn.c_attn.weight', 'gpt2.h.0.attn.c_attn.weight', 'gpt2.h.5.mlp.c_fc.bias', 'gpt2.h.11.ln_2.weight', 'gpt2.h.6.ln_2.bias', 'gpt2.h.9.mlp.c_fc.bias', 'gpt2.h.9.mlp.c_fc.weight', 'gpt2.h.8.attn.c_attn.bias', 'gpt2.h.6.ln_1.weight', 'gpt2.h.11.attn.c_attn.bias', 'gpt2.h.1.mlp.c_fc.weight', 'gpt2.ln_f.weight', 'gpt2.h.2.attn.c_attn.bias', 'gpt2.h.4.attn.c_proj.weight', 'gpt2.h.4.mlp.c_fc.weight', 'gpt2.h.3.attn.c_attn.weight', 'gpt2.h.5.attn.c_attn.bias', 'gpt2.h.10.ln_1.bias', 'gpt2.h.5.attn.bias', 'gpt2.h.1.attn.c_attn.bias', 'gpt2.h.7.ln_1.weight', 'gpt2.h.5.attn.c_proj.bias', 'gpt2.h.9.ln_2.weight', 'gpt2.h.1.ln_1.weight', 'gpt2.h.11.ln_2.bias', 'gpt2.h.0.ln_2.bias', 'gpt2.h.4.ln_2.weight', 'gpt2.h.1.mlp.c_proj.bias', 'gpt2.h.6.attn.masked_bias', 'gpt2.h.3.attn.c_proj.weight', 'gpt2.h.6.attn.c_attn.weight', 'gpt2.h.2.attn.c_proj.weight', 'gpt2.h.4.attn.c_proj.bias', 'gpt2.h.6.mlp.c_fc.bias', 'gpt2.h.2.attn.bias', 'gpt2.h.7.attn.masked_bias', 'gpt2.h.3.mlp.c_fc.weight', 'gpt2.h.5.ln_1.bias', 'gpt2.h.11.attn.masked_bias', 'gpt2.h.8.attn.masked_bias', 'gpt2.h.0.attn.c_proj.weight', 'gpt2.h.4.attn.c_attn.weight', 'gpt2.h.0.mlp.c_fc.weight', 'gpt2.h.6.attn.c_proj.weight', 'gpt2.h.9.attn.bias', 'gpt2.h.0.mlp.c_proj.weight', 'gpt2.h.7.attn.bias', 'gpt2.h.0.ln_2.weight', 'gpt2.h.10.mlp.c_proj.bias', 'gpt2.h.5.attn.c_attn.weight', 'gpt2.h.4.attn.c_attn.bias', 'gpt2.h.3.ln_2.weight', 'gpt2.h.0.ln_1.bias', 'gpt2.h.9.attn.c_attn.bias', 'gpt2.h.10.mlp.c_fc.bias', 'gpt2.h.6.mlp.c_proj.bias', 'gpt2.h.4.mlp.c_fc.bias', 'gpt2.h.5.ln_2.weight', 'gpt2.h.0.mlp.c_proj.bias', 'gpt2.h.5.mlp.c_proj.weight', 'gpt2.h.8.mlp.c_fc.bias', 'gpt2.h.9.mlp.c_proj.bias', 'gpt2.h.2.mlp.c_proj.bias', 'gpt2.h.0.attn.c_proj.bias', 'gpt2.h.2.ln_2.weight', 'gpt2.h.3.mlp.c_proj.weight', 'gpt2.h.0.ln_1.weight', 'gpt2.h.7.mlp.c_fc.bias', 'gpt2.h.9.ln_1.weight', 'gpt2.h.10.ln_2.weight', 'gpt2.h.10.mlp.c_fc.weight', 'gpt2.h.7.mlp.c_proj.bias', 'gpt2.h.8.attn.c_proj.weight', 'gpt2.h.7.ln_2.weight', 'gpt2.h.10.attn.bias', 'gpt2.h.9.attn.c_attn.weight', 'gpt2.h.5.attn.masked_bias', 'gpt2.h.4.ln_1.weight', 'gpt2.h.9.mlp.c_proj.weight', 'gpt2.h.10.attn.c_proj.weight', 'gpt2.h.10.attn.masked_bias', 'gpt2.h.9.attn.c_proj.bias', 'gpt2.h.3.attn.bias', 'gpt2.h.7.attn.c_attn.bias', 'gpt2.h.7.mlp.c_fc.weight', 'gpt2.h.10.attn.c_proj.bias', 'gpt2.h.6.attn.c_proj.bias', 'gpt2.h.8.attn.bias', 'gpt2.h.1.attn.masked_bias']\n",
      "You should probably TRAIN this model on a down-stream task to be able to use it for predictions and inference.\n"
     ]
    },
    {
     "data": {
      "application/vnd.jupyter.widget-view+json": {
       "model_id": "5aa059957492458f92015bfcd2ffed1f",
       "version_major": 2,
       "version_minor": 0
      },
      "text/plain": [
       "Downloading:   0%|          | 0.00/0.99M [00:00<?, ?B/s]"
      ]
     },
     "metadata": {},
     "output_type": "display_data"
    },
    {
     "data": {
      "application/vnd.jupyter.widget-view+json": {
       "model_id": "ccd142df98234de884cbdf7ced6629f3",
       "version_major": 2,
       "version_minor": 0
      },
      "text/plain": [
       "Downloading:   0%|          | 0.00/446k [00:00<?, ?B/s]"
      ]
     },
     "metadata": {},
     "output_type": "display_data"
    },
    {
     "data": {
      "text/plain": [
       "(33341, 768)"
      ]
     },
     "execution_count": 5,
     "metadata": {},
     "output_type": "execute_result"
    }
   ],
   "source": [
    "model=RepresentationModel(\n",
    "    model_type=\"gpt2\",\n",
    "    model_name=\"gpt2\",\n",
    "    use_cuda=True,\n",
    "    #fp16=True\n",
    ")\n",
    "\n",
    "vectorialRepresentation = model.encode_sentences(emailsText, combine_strategy=\"mean\")\n",
    "vectorialRepresentation.shape"
   ]
  },
  {
   "cell_type": "code",
   "execution_count": 6,
   "metadata": {
    "collapsed": false,
    "pycharm": {
     "is_executing": true,
     "name": "#%%\n"
    }
   },
   "outputs": [
    {
     "data": {
      "text/html": [
       "<div>\n",
       "<style scoped>\n",
       "    .dataframe tbody tr th:only-of-type {\n",
       "        vertical-align: middle;\n",
       "    }\n",
       "\n",
       "    .dataframe tbody tr th {\n",
       "        vertical-align: top;\n",
       "    }\n",
       "\n",
       "    .dataframe thead th {\n",
       "        text-align: right;\n",
       "    }\n",
       "</style>\n",
       "<table border=\"1\" class=\"dataframe\">\n",
       "  <thead>\n",
       "    <tr style=\"text-align: right;\">\n",
       "      <th></th>\n",
       "      <th>0</th>\n",
       "      <th>1</th>\n",
       "      <th>2</th>\n",
       "      <th>3</th>\n",
       "      <th>4</th>\n",
       "      <th>5</th>\n",
       "      <th>6</th>\n",
       "      <th>7</th>\n",
       "      <th>8</th>\n",
       "      <th>9</th>\n",
       "      <th>...</th>\n",
       "      <th>758</th>\n",
       "      <th>759</th>\n",
       "      <th>760</th>\n",
       "      <th>761</th>\n",
       "      <th>762</th>\n",
       "      <th>763</th>\n",
       "      <th>764</th>\n",
       "      <th>765</th>\n",
       "      <th>766</th>\n",
       "      <th>767</th>\n",
       "    </tr>\n",
       "  </thead>\n",
       "  <tbody>\n",
       "    <tr>\n",
       "      <th>0</th>\n",
       "      <td>-0.049382</td>\n",
       "      <td>-1.689170</td>\n",
       "      <td>0.125161</td>\n",
       "      <td>1.532496</td>\n",
       "      <td>-0.278101</td>\n",
       "      <td>-1.472362</td>\n",
       "      <td>0.647662</td>\n",
       "      <td>-0.001147</td>\n",
       "      <td>0.283807</td>\n",
       "      <td>-0.642158</td>\n",
       "      <td>...</td>\n",
       "      <td>-0.633792</td>\n",
       "      <td>-1.651012</td>\n",
       "      <td>-0.125270</td>\n",
       "      <td>0.463464</td>\n",
       "      <td>-2.336910</td>\n",
       "      <td>0.599829</td>\n",
       "      <td>0.456571</td>\n",
       "      <td>-1.454380</td>\n",
       "      <td>-0.248412</td>\n",
       "      <td>-1.217028</td>\n",
       "    </tr>\n",
       "    <tr>\n",
       "      <th>1</th>\n",
       "      <td>-0.196051</td>\n",
       "      <td>-1.050959</td>\n",
       "      <td>0.379414</td>\n",
       "      <td>0.600750</td>\n",
       "      <td>-1.396111</td>\n",
       "      <td>-0.674255</td>\n",
       "      <td>-0.696847</td>\n",
       "      <td>-0.951937</td>\n",
       "      <td>0.399987</td>\n",
       "      <td>-0.511408</td>\n",
       "      <td>...</td>\n",
       "      <td>-0.022768</td>\n",
       "      <td>-1.435138</td>\n",
       "      <td>0.266274</td>\n",
       "      <td>1.533045</td>\n",
       "      <td>-0.878772</td>\n",
       "      <td>-0.498342</td>\n",
       "      <td>0.721073</td>\n",
       "      <td>-0.348775</td>\n",
       "      <td>-1.158851</td>\n",
       "      <td>0.719073</td>\n",
       "    </tr>\n",
       "    <tr>\n",
       "      <th>2</th>\n",
       "      <td>-0.124116</td>\n",
       "      <td>-1.843021</td>\n",
       "      <td>0.103216</td>\n",
       "      <td>1.462178</td>\n",
       "      <td>-0.005101</td>\n",
       "      <td>-1.506421</td>\n",
       "      <td>0.748103</td>\n",
       "      <td>-0.331265</td>\n",
       "      <td>0.108248</td>\n",
       "      <td>-0.714669</td>\n",
       "      <td>...</td>\n",
       "      <td>-0.205724</td>\n",
       "      <td>-1.273557</td>\n",
       "      <td>0.148319</td>\n",
       "      <td>1.040405</td>\n",
       "      <td>-1.822082</td>\n",
       "      <td>1.175730</td>\n",
       "      <td>0.144863</td>\n",
       "      <td>-1.121056</td>\n",
       "      <td>-0.393310</td>\n",
       "      <td>-0.830379</td>\n",
       "    </tr>\n",
       "    <tr>\n",
       "      <th>3</th>\n",
       "      <td>0.093786</td>\n",
       "      <td>-1.830754</td>\n",
       "      <td>0.091666</td>\n",
       "      <td>1.606940</td>\n",
       "      <td>-0.344332</td>\n",
       "      <td>-1.586407</td>\n",
       "      <td>0.564648</td>\n",
       "      <td>0.013798</td>\n",
       "      <td>0.303688</td>\n",
       "      <td>-0.866112</td>\n",
       "      <td>...</td>\n",
       "      <td>-0.276822</td>\n",
       "      <td>-1.477311</td>\n",
       "      <td>0.225908</td>\n",
       "      <td>0.979640</td>\n",
       "      <td>-2.088282</td>\n",
       "      <td>0.787676</td>\n",
       "      <td>0.325613</td>\n",
       "      <td>-1.195062</td>\n",
       "      <td>-0.260428</td>\n",
       "      <td>-1.336636</td>\n",
       "    </tr>\n",
       "    <tr>\n",
       "      <th>4</th>\n",
       "      <td>-0.520397</td>\n",
       "      <td>-1.185420</td>\n",
       "      <td>0.188441</td>\n",
       "      <td>0.124530</td>\n",
       "      <td>-0.088210</td>\n",
       "      <td>-0.670810</td>\n",
       "      <td>0.158441</td>\n",
       "      <td>-0.521730</td>\n",
       "      <td>-0.151663</td>\n",
       "      <td>0.935828</td>\n",
       "      <td>...</td>\n",
       "      <td>0.655867</td>\n",
       "      <td>-0.167788</td>\n",
       "      <td>0.161360</td>\n",
       "      <td>2.219622</td>\n",
       "      <td>-0.862535</td>\n",
       "      <td>0.859737</td>\n",
       "      <td>-0.859212</td>\n",
       "      <td>0.396633</td>\n",
       "      <td>0.038291</td>\n",
       "      <td>-0.592164</td>\n",
       "    </tr>\n",
       "    <tr>\n",
       "      <th>...</th>\n",
       "      <td>...</td>\n",
       "      <td>...</td>\n",
       "      <td>...</td>\n",
       "      <td>...</td>\n",
       "      <td>...</td>\n",
       "      <td>...</td>\n",
       "      <td>...</td>\n",
       "      <td>...</td>\n",
       "      <td>...</td>\n",
       "      <td>...</td>\n",
       "      <td>...</td>\n",
       "      <td>...</td>\n",
       "      <td>...</td>\n",
       "      <td>...</td>\n",
       "      <td>...</td>\n",
       "      <td>...</td>\n",
       "      <td>...</td>\n",
       "      <td>...</td>\n",
       "      <td>...</td>\n",
       "      <td>...</td>\n",
       "      <td>...</td>\n",
       "    </tr>\n",
       "    <tr>\n",
       "      <th>33336</th>\n",
       "      <td>-0.374529</td>\n",
       "      <td>-2.272542</td>\n",
       "      <td>0.044269</td>\n",
       "      <td>0.461531</td>\n",
       "      <td>0.176475</td>\n",
       "      <td>-1.185792</td>\n",
       "      <td>0.225021</td>\n",
       "      <td>-0.602029</td>\n",
       "      <td>0.587838</td>\n",
       "      <td>-1.371382</td>\n",
       "      <td>...</td>\n",
       "      <td>0.212238</td>\n",
       "      <td>-0.836626</td>\n",
       "      <td>0.213119</td>\n",
       "      <td>1.321033</td>\n",
       "      <td>-1.274496</td>\n",
       "      <td>0.617099</td>\n",
       "      <td>0.090269</td>\n",
       "      <td>-0.678895</td>\n",
       "      <td>-0.325219</td>\n",
       "      <td>-1.147089</td>\n",
       "    </tr>\n",
       "    <tr>\n",
       "      <th>33337</th>\n",
       "      <td>0.105731</td>\n",
       "      <td>-0.958190</td>\n",
       "      <td>-0.170999</td>\n",
       "      <td>0.596401</td>\n",
       "      <td>-0.174964</td>\n",
       "      <td>-0.533257</td>\n",
       "      <td>0.352654</td>\n",
       "      <td>-0.877857</td>\n",
       "      <td>-0.015315</td>\n",
       "      <td>0.069762</td>\n",
       "      <td>...</td>\n",
       "      <td>-0.646483</td>\n",
       "      <td>-1.369128</td>\n",
       "      <td>-0.375674</td>\n",
       "      <td>0.992168</td>\n",
       "      <td>-1.702754</td>\n",
       "      <td>0.622799</td>\n",
       "      <td>-0.495783</td>\n",
       "      <td>-0.743536</td>\n",
       "      <td>-0.196982</td>\n",
       "      <td>-0.148497</td>\n",
       "    </tr>\n",
       "    <tr>\n",
       "      <th>33338</th>\n",
       "      <td>-0.609945</td>\n",
       "      <td>-2.277925</td>\n",
       "      <td>0.048276</td>\n",
       "      <td>0.776602</td>\n",
       "      <td>-0.965749</td>\n",
       "      <td>-0.272305</td>\n",
       "      <td>0.124149</td>\n",
       "      <td>0.669301</td>\n",
       "      <td>0.997055</td>\n",
       "      <td>-1.258666</td>\n",
       "      <td>...</td>\n",
       "      <td>-0.481704</td>\n",
       "      <td>-0.548704</td>\n",
       "      <td>0.351879</td>\n",
       "      <td>2.480618</td>\n",
       "      <td>-1.553076</td>\n",
       "      <td>1.036135</td>\n",
       "      <td>0.321628</td>\n",
       "      <td>-0.238001</td>\n",
       "      <td>0.503824</td>\n",
       "      <td>-0.592205</td>\n",
       "    </tr>\n",
       "    <tr>\n",
       "      <th>33339</th>\n",
       "      <td>-0.283495</td>\n",
       "      <td>-2.136468</td>\n",
       "      <td>0.098455</td>\n",
       "      <td>1.412214</td>\n",
       "      <td>-0.312815</td>\n",
       "      <td>-0.712444</td>\n",
       "      <td>0.259777</td>\n",
       "      <td>-0.178888</td>\n",
       "      <td>0.299716</td>\n",
       "      <td>-0.722423</td>\n",
       "      <td>...</td>\n",
       "      <td>-0.467623</td>\n",
       "      <td>-1.578884</td>\n",
       "      <td>0.165928</td>\n",
       "      <td>1.496043</td>\n",
       "      <td>-1.430650</td>\n",
       "      <td>0.757832</td>\n",
       "      <td>-0.040354</td>\n",
       "      <td>-0.509912</td>\n",
       "      <td>-0.185867</td>\n",
       "      <td>-0.388227</td>\n",
       "    </tr>\n",
       "    <tr>\n",
       "      <th>33340</th>\n",
       "      <td>-0.337357</td>\n",
       "      <td>-1.860271</td>\n",
       "      <td>0.067580</td>\n",
       "      <td>0.384332</td>\n",
       "      <td>-1.152403</td>\n",
       "      <td>-0.839084</td>\n",
       "      <td>0.300457</td>\n",
       "      <td>-1.548678</td>\n",
       "      <td>0.226540</td>\n",
       "      <td>-0.413128</td>\n",
       "      <td>...</td>\n",
       "      <td>-0.505160</td>\n",
       "      <td>-0.440848</td>\n",
       "      <td>0.033415</td>\n",
       "      <td>2.115157</td>\n",
       "      <td>-0.521689</td>\n",
       "      <td>0.779640</td>\n",
       "      <td>-0.605572</td>\n",
       "      <td>-0.627262</td>\n",
       "      <td>-0.742869</td>\n",
       "      <td>0.255916</td>\n",
       "    </tr>\n",
       "  </tbody>\n",
       "</table>\n",
       "<p>33341 rows × 768 columns</p>\n",
       "</div>"
      ],
      "text/plain": [
       "            0         1         2         3         4         5         6    \\\n",
       "0     -0.049382 -1.689170  0.125161  1.532496 -0.278101 -1.472362  0.647662   \n",
       "1     -0.196051 -1.050959  0.379414  0.600750 -1.396111 -0.674255 -0.696847   \n",
       "2     -0.124116 -1.843021  0.103216  1.462178 -0.005101 -1.506421  0.748103   \n",
       "3      0.093786 -1.830754  0.091666  1.606940 -0.344332 -1.586407  0.564648   \n",
       "4     -0.520397 -1.185420  0.188441  0.124530 -0.088210 -0.670810  0.158441   \n",
       "...         ...       ...       ...       ...       ...       ...       ...   \n",
       "33336 -0.374529 -2.272542  0.044269  0.461531  0.176475 -1.185792  0.225021   \n",
       "33337  0.105731 -0.958190 -0.170999  0.596401 -0.174964 -0.533257  0.352654   \n",
       "33338 -0.609945 -2.277925  0.048276  0.776602 -0.965749 -0.272305  0.124149   \n",
       "33339 -0.283495 -2.136468  0.098455  1.412214 -0.312815 -0.712444  0.259777   \n",
       "33340 -0.337357 -1.860271  0.067580  0.384332 -1.152403 -0.839084  0.300457   \n",
       "\n",
       "            7         8         9    ...       758       759       760  \\\n",
       "0     -0.001147  0.283807 -0.642158  ... -0.633792 -1.651012 -0.125270   \n",
       "1     -0.951937  0.399987 -0.511408  ... -0.022768 -1.435138  0.266274   \n",
       "2     -0.331265  0.108248 -0.714669  ... -0.205724 -1.273557  0.148319   \n",
       "3      0.013798  0.303688 -0.866112  ... -0.276822 -1.477311  0.225908   \n",
       "4     -0.521730 -0.151663  0.935828  ...  0.655867 -0.167788  0.161360   \n",
       "...         ...       ...       ...  ...       ...       ...       ...   \n",
       "33336 -0.602029  0.587838 -1.371382  ...  0.212238 -0.836626  0.213119   \n",
       "33337 -0.877857 -0.015315  0.069762  ... -0.646483 -1.369128 -0.375674   \n",
       "33338  0.669301  0.997055 -1.258666  ... -0.481704 -0.548704  0.351879   \n",
       "33339 -0.178888  0.299716 -0.722423  ... -0.467623 -1.578884  0.165928   \n",
       "33340 -1.548678  0.226540 -0.413128  ... -0.505160 -0.440848  0.033415   \n",
       "\n",
       "            761       762       763       764       765       766       767  \n",
       "0      0.463464 -2.336910  0.599829  0.456571 -1.454380 -0.248412 -1.217028  \n",
       "1      1.533045 -0.878772 -0.498342  0.721073 -0.348775 -1.158851  0.719073  \n",
       "2      1.040405 -1.822082  1.175730  0.144863 -1.121056 -0.393310 -0.830379  \n",
       "3      0.979640 -2.088282  0.787676  0.325613 -1.195062 -0.260428 -1.336636  \n",
       "4      2.219622 -0.862535  0.859737 -0.859212  0.396633  0.038291 -0.592164  \n",
       "...         ...       ...       ...       ...       ...       ...       ...  \n",
       "33336  1.321033 -1.274496  0.617099  0.090269 -0.678895 -0.325219 -1.147089  \n",
       "33337  0.992168 -1.702754  0.622799 -0.495783 -0.743536 -0.196982 -0.148497  \n",
       "33338  2.480618 -1.553076  1.036135  0.321628 -0.238001  0.503824 -0.592205  \n",
       "33339  1.496043 -1.430650  0.757832 -0.040354 -0.509912 -0.185867 -0.388227  \n",
       "33340  2.115157 -0.521689  0.779640 -0.605572 -0.627262 -0.742869  0.255916  \n",
       "\n",
       "[33341 rows x 768 columns]"
      ]
     },
     "execution_count": 6,
     "metadata": {},
     "output_type": "execute_result"
    }
   ],
   "source": [
    "gpt2Dataframe = pd.DataFrame(vectorialRepresentation)\n",
    "gpt2Dataframe"
   ]
  },
  {
   "cell_type": "markdown",
   "metadata": {
    "collapsed": false,
    "pycharm": {
     "name": "#%% md\n"
    }
   },
   "source": [
    "# Visualização de dados com TSNE"
   ]
  },
  {
   "cell_type": "code",
   "execution_count": 7,
   "metadata": {
    "collapsed": false,
    "pycharm": {
     "is_executing": true,
     "name": "#%%\n"
    }
   },
   "outputs": [
    {
     "name": "stderr",
     "output_type": "stream",
     "text": [
      "C:\\Users\\victo\\anaconda3\\envs\\conda_data_science_gpu_on_torch\\lib\\site-packages\\sklearn\\manifold\\_t_sne.py:780: FutureWarning: The default initialization in TSNE will change from 'random' to 'pca' in 1.2.\n",
      "  warnings.warn(\n",
      "C:\\Users\\victo\\anaconda3\\envs\\conda_data_science_gpu_on_torch\\lib\\site-packages\\sklearn\\manifold\\_t_sne.py:790: FutureWarning: The default learning rate in TSNE will change from 200.0 to 'auto' in 1.2.\n",
      "  warnings.warn(\n"
     ]
    },
    {
     "name": "stdout",
     "output_type": "stream",
     "text": [
      "               0          1  Target\n",
      "0      58.027473  57.163063       0\n",
      "1      -4.400294   9.581222       0\n",
      "2      19.427670  12.228110       0\n",
      "3      47.632359  47.219559       0\n",
      "4      -5.803322  43.842812       0\n",
      "...          ...        ...     ...\n",
      "33336  26.492409  17.303556       1\n",
      "33337  -5.928406  28.187504       1\n",
      "33338  21.508890 -25.933893       1\n",
      "33339   8.046358  -9.028975       0\n",
      "33340   3.852408  24.914295       1\n",
      "\n",
      "[33341 rows x 3 columns]\n"
     ]
    },
    {
     "data": {
      "image/png": "[encoded data removed]",
      "text/plain": [
       "<Figure size 432x288 with 1 Axes>"
      ]
     },
     "metadata": {
      "needs_background": "light"
     },
     "output_type": "display_data"
    }
   ],
   "source": [
    "model = TSNE(n_components=2, random_state=0)\n",
    "array_red = model.fit_transform(gpt2Dataframe)\n",
    "\n",
    "df_tsne = pd.DataFrame(array_red)\n",
    "\n",
    "df_tsne['Target'] = target\n",
    "print(df_tsne)\n",
    "df_tsne_c1 = df_tsne[df_tsne['Target'] == 0]\n",
    "\n",
    "df_tsne_c2 = df_tsne[df_tsne['Target'] == 1]\n",
    "\n",
    "plt.scatter(df_tsne_c1[0].array,df_tsne_c1[1].array,marker='o',color='blue')\n",
    "\n",
    "plt.scatter(df_tsne_c2[0].array,df_tsne_c2[1].array,marker='o',color='red')\n",
    "\n",
    "plt.title('Dados')\n",
    "plt.xlabel('x')\n",
    "plt.ylabel('y')\n",
    "\n",
    "plt.show()"
   ]
  },
  {
   "cell_type": "markdown",
   "metadata": {
    "collapsed": false,
    "pycharm": {
     "name": "#%% md\n"
    }
   },
   "source": [
    "# Validação"
   ]
  },
  {
   "cell_type": "code",
   "execution_count": 8,
   "metadata": {
    "collapsed": false,
    "pycharm": {
     "is_executing": true,
     "name": "#%%\n"
    }
   },
   "outputs": [],
   "source": [
    "def getModel():\n",
    "    return LinearSVC()"
   ]
  },
  {
   "cell_type": "code",
   "execution_count": 9,
   "metadata": {
    "collapsed": false,
    "pycharm": {
     "is_executing": true,
     "name": "#%%\n"
    }
   },
   "outputs": [
    {
     "name": "stderr",
     "output_type": "stream",
     "text": [
      "C:\\Users\\victo\\anaconda3\\envs\\conda_data_science_gpu_on_torch\\lib\\site-packages\\sklearn\\svm\\_base.py:1206: ConvergenceWarning: Liblinear failed to converge, increase the number of iterations.\n",
      "  warnings.warn(\n"
     ]
    },
    {
     "data": {
      "text/plain": [
       "0.8696956065377118"
      ]
     },
     "execution_count": 9,
     "metadata": {},
     "output_type": "execute_result"
    }
   ],
   "source": [
    "X_treino, X_teste, y_treino, y_teste = train_test_split(gpt2Dataframe.values,target,test_size=0.2)\n",
    "modelo = getModel().fit(X_treino,y_treino)\n",
    "score = modelo.score(X_teste,y_teste)\n",
    "score"
   ]
  },
  {
   "cell_type": "code",
   "execution_count": 10,
   "metadata": {
    "collapsed": false,
    "pycharm": {
     "is_executing": true,
     "name": "#%%\n"
    }
   },
   "outputs": [
    {
     "name": "stderr",
     "output_type": "stream",
     "text": [
      "C:\\Users\\victo\\anaconda3\\envs\\conda_data_science_gpu_on_torch\\lib\\site-packages\\sklearn\\svm\\_base.py:1206: ConvergenceWarning: Liblinear failed to converge, increase the number of iterations.\n",
      "  warnings.warn(\n",
      "C:\\Users\\victo\\anaconda3\\envs\\conda_data_science_gpu_on_torch\\lib\\site-packages\\sklearn\\svm\\_base.py:1206: ConvergenceWarning: Liblinear failed to converge, increase the number of iterations.\n",
      "  warnings.warn(\n",
      "C:\\Users\\victo\\anaconda3\\envs\\conda_data_science_gpu_on_torch\\lib\\site-packages\\sklearn\\svm\\_base.py:1206: ConvergenceWarning: Liblinear failed to converge, increase the number of iterations.\n",
      "  warnings.warn(\n",
      "C:\\Users\\victo\\anaconda3\\envs\\conda_data_science_gpu_on_torch\\lib\\site-packages\\sklearn\\svm\\_base.py:1206: ConvergenceWarning: Liblinear failed to converge, increase the number of iterations.\n",
      "  warnings.warn(\n",
      "C:\\Users\\victo\\anaconda3\\envs\\conda_data_science_gpu_on_torch\\lib\\site-packages\\sklearn\\svm\\_base.py:1206: ConvergenceWarning: Liblinear failed to converge, increase the number of iterations.\n",
      "  warnings.warn(\n",
      "C:\\Users\\victo\\anaconda3\\envs\\conda_data_science_gpu_on_torch\\lib\\site-packages\\sklearn\\svm\\_base.py:1206: ConvergenceWarning: Liblinear failed to converge, increase the number of iterations.\n",
      "  warnings.warn(\n",
      "C:\\Users\\victo\\anaconda3\\envs\\conda_data_science_gpu_on_torch\\lib\\site-packages\\sklearn\\svm\\_base.py:1206: ConvergenceWarning: Liblinear failed to converge, increase the number of iterations.\n",
      "  warnings.warn(\n",
      "C:\\Users\\victo\\anaconda3\\envs\\conda_data_science_gpu_on_torch\\lib\\site-packages\\sklearn\\svm\\_base.py:1206: ConvergenceWarning: Liblinear failed to converge, increase the number of iterations.\n",
      "  warnings.warn(\n",
      "C:\\Users\\victo\\anaconda3\\envs\\conda_data_science_gpu_on_torch\\lib\\site-packages\\sklearn\\svm\\_base.py:1206: ConvergenceWarning: Liblinear failed to converge, increase the number of iterations.\n",
      "  warnings.warn(\n",
      "C:\\Users\\victo\\anaconda3\\envs\\conda_data_science_gpu_on_torch\\lib\\site-packages\\sklearn\\svm\\_base.py:1206: ConvergenceWarning: Liblinear failed to converge, increase the number of iterations.\n",
      "  warnings.warn(\n"
     ]
    },
    {
     "data": {
      "text/plain": [
       "0.859872289410184"
      ]
     },
     "execution_count": 10,
     "metadata": {},
     "output_type": "execute_result"
    }
   ],
   "source": [
    "scores = cross_val_score(getModel(),gpt2Dataframe.values,target,cv=10)\n",
    "\n",
    "scores.mean()"
   ]
  },
  {
   "cell_type": "code",
   "execution_count": 11,
   "metadata": {
    "collapsed": false,
    "pycharm": {
     "is_executing": true,
     "name": "#%%\n"
    }
   },
   "outputs": [
    {
     "name": "stderr",
     "output_type": "stream",
     "text": [
      "C:\\Users\\victo\\anaconda3\\envs\\conda_data_science_gpu_on_torch\\lib\\site-packages\\sklearn\\svm\\_base.py:1206: ConvergenceWarning: Liblinear failed to converge, increase the number of iterations.\n",
      "  warnings.warn(\n",
      "C:\\Users\\victo\\anaconda3\\envs\\conda_data_science_gpu_on_torch\\lib\\site-packages\\sklearn\\svm\\_base.py:1206: ConvergenceWarning: Liblinear failed to converge, increase the number of iterations.\n",
      "  warnings.warn(\n",
      "C:\\Users\\victo\\anaconda3\\envs\\conda_data_science_gpu_on_torch\\lib\\site-packages\\sklearn\\svm\\_base.py:1206: ConvergenceWarning: Liblinear failed to converge, increase the number of iterations.\n",
      "  warnings.warn(\n",
      "C:\\Users\\victo\\anaconda3\\envs\\conda_data_science_gpu_on_torch\\lib\\site-packages\\sklearn\\svm\\_base.py:1206: ConvergenceWarning: Liblinear failed to converge, increase the number of iterations.\n",
      "  warnings.warn(\n",
      "C:\\Users\\victo\\anaconda3\\envs\\conda_data_science_gpu_on_torch\\lib\\site-packages\\sklearn\\svm\\_base.py:1206: ConvergenceWarning: Liblinear failed to converge, increase the number of iterations.\n",
      "  warnings.warn(\n",
      "C:\\Users\\victo\\anaconda3\\envs\\conda_data_science_gpu_on_torch\\lib\\site-packages\\sklearn\\svm\\_base.py:1206: ConvergenceWarning: Liblinear failed to converge, increase the number of iterations.\n",
      "  warnings.warn(\n",
      "C:\\Users\\victo\\anaconda3\\envs\\conda_data_science_gpu_on_torch\\lib\\site-packages\\sklearn\\svm\\_base.py:1206: ConvergenceWarning: Liblinear failed to converge, increase the number of iterations.\n",
      "  warnings.warn(\n",
      "C:\\Users\\victo\\anaconda3\\envs\\conda_data_science_gpu_on_torch\\lib\\site-packages\\sklearn\\svm\\_base.py:1206: ConvergenceWarning: Liblinear failed to converge, increase the number of iterations.\n",
      "  warnings.warn(\n",
      "C:\\Users\\victo\\anaconda3\\envs\\conda_data_science_gpu_on_torch\\lib\\site-packages\\sklearn\\svm\\_base.py:1206: ConvergenceWarning: Liblinear failed to converge, increase the number of iterations.\n",
      "  warnings.warn(\n",
      "C:\\Users\\victo\\anaconda3\\envs\\conda_data_science_gpu_on_torch\\lib\\site-packages\\sklearn\\svm\\_base.py:1206: ConvergenceWarning: Liblinear failed to converge, increase the number of iterations.\n",
      "  warnings.warn(\n"
     ]
    }
   ],
   "source": [
    "predicoes = cross_val_predict(getModel(), gpt2Dataframe.values, target, cv=10)"
   ]
  },
  {
   "cell_type": "code",
   "execution_count": 12,
   "metadata": {
    "collapsed": false,
    "pycharm": {
     "is_executing": true,
     "name": "#%%\n"
    }
   },
   "outputs": [
    {
     "name": "stdout",
     "output_type": "stream",
     "text": [
      "\n",
      "Classification Report : \n",
      "              precision    recall  f1-score   support\n",
      "\n",
      "         Ham       0.87      0.86      0.87     16493\n",
      "        Spam       0.86      0.88      0.87     16848\n",
      "\n",
      "    accuracy                           0.87     33341\n",
      "   macro avg       0.87      0.87      0.87     33341\n",
      "weighted avg       0.87      0.87      0.87     33341\n",
      "\n"
     ]
    }
   ],
   "source": [
    "print(\"\\nClassification Report : \")\n",
    "print(classification_report(target, predicoes, target_names=[\"Ham\", \"Spam\"]))"
   ]
  },
  {
   "cell_type": "code",
   "execution_count": 13,
   "metadata": {
    "collapsed": false,
    "pycharm": {
     "is_executing": true,
     "name": "#%%\n"
    }
   },
   "outputs": [
    {
     "data": {
      "text/plain": [
       "(array([0, 1]), [Text(0, 0, 'Ham'), Text(1, 0, 'Spam')])"
      ]
     },
     "execution_count": 13,
     "metadata": {},
     "output_type": "execute_result"
    },
    {
     "data": {
      "image/png": "[encoded data removed]",
      "text/plain": [
       "<Figure size 360x360 with 2 Axes>"
      ]
     },
     "metadata": {
      "needs_background": "light"
     },
     "output_type": "display_data"
    }
   ],
   "source": [
    "categories = [\"Ham\", \"Spam\"]\n",
    "\n",
    "skplt.metrics.plot_confusion_matrix(\n",
    "    [categories[i] for i in target], [categories[i] for i in predicoes.tolist()],\n",
    "    title=\"Confusion Matrix\",\n",
    "    cmap=\"Purples\",\n",
    "    hide_zeros=True,\n",
    "    figsize=(5,5)\n",
    ")\n",
    "\n",
    "plt.xticks()"
   ]
  },
  {
   "cell_type": "code",
   "execution_count": 14,
   "metadata": {
    "collapsed": false,
    "pycharm": {
     "is_executing": true,
     "name": "#%%\n"
    }
   },
   "outputs": [
    {
     "data": {
      "text/plain": [
       "(array([0, 1]), [Text(0, 0, 'Ham'), Text(1, 0, 'Spam')])"
      ]
     },
     "execution_count": 14,
     "metadata": {},
     "output_type": "execute_result"
    },
    {
     "data": {
      "image/png": "[encoded data removed]",
      "text/plain": [
       "<Figure size 360x360 with 2 Axes>"
      ]
     },
     "metadata": {
      "needs_background": "light"
     },
     "output_type": "display_data"
    }
   ],
   "source": [
    "skplt.metrics.plot_confusion_matrix(\n",
    "    [categories[i] for i in target], [categories[i] for i in predicoes.tolist()],\n",
    "    normalize=True,\n",
    "    title=\"Confusion Matrix\",\n",
    "    cmap=\"Purples\",\n",
    "    hide_zeros=True,\n",
    "    figsize=(5,5)\n",
    ")\n",
    "\n",
    "plt.xticks()"
   ]
  }
 ],
 "metadata": {
  "kernelspec": {
   "display_name": "Python 3",
   "language": "python",
   "name": "python3"
  },
  "language_info": {
   "codemirror_mode": {
    "name": "ipython",
    "version": 3
   },
   "file_extension": ".py",
   "mimetype": "text/x-python",
   "name": "python",
   "nbconvert_exporter": "python",
   "pygments_lexer": "ipython3",
   "version": "3.9.12"
  }
 },
 "nbformat": 4,
 "nbformat_minor": 1
}
