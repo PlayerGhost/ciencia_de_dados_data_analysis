{
 "cells": [
  {
   "cell_type": "code",
   "execution_count": 1,
   "metadata": {
    "collapsed": false,
    "pycharm": {
     "name": "#%%\n"
    }
   },
   "outputs": [],
   "source": [
    "import pandas as pd\n",
    "from sklearn.ensemble import RandomForestClassifier\n",
    "from sklearn.model_selection import train_test_split, cross_val_score, cross_val_predict\n",
    "from sklearn.manifold import TSNE\n",
    "from sklearn.metrics import classification_report\n",
    "import scikitplot as skplt\n",
    "import matplotlib.pyplot as plt\n",
    "from simpletransformers.language_representation import RepresentationModel"
   ]
  },
  {
   "cell_type": "markdown",
   "metadata": {
    "collapsed": false,
    "pycharm": {
     "name": "#%% md\n"
    }
   },
   "source": [
    "# Carregando base de dados  pré-processada"
   ]
  },
  {
   "cell_type": "code",
   "execution_count": 2,
   "metadata": {
    "collapsed": false,
    "pycharm": {
     "name": "#%%\n"
    }
   },
   "outputs": [
    {
     "data": {
      "text/html": [
       "<div>\n",
       "<style scoped>\n",
       "    .dataframe tbody tr th:only-of-type {\n",
       "        vertical-align: middle;\n",
       "    }\n",
       "\n",
       "    .dataframe tbody tr th {\n",
       "        vertical-align: top;\n",
       "    }\n",
       "\n",
       "    .dataframe thead th {\n",
       "        text-align: right;\n",
       "    }\n",
       "</style>\n",
       "<table border=\"1\" class=\"dataframe\">\n",
       "  <thead>\n",
       "    <tr style=\"text-align: right;\">\n",
       "      <th></th>\n",
       "      <th>email</th>\n",
       "      <th>target</th>\n",
       "    </tr>\n",
       "  </thead>\n",
       "  <tbody>\n",
       "    <tr>\n",
       "      <th>0</th>\n",
       "      <td>start date     hourahead timee  cardinall  hou...</td>\n",
       "      <td>0</td>\n",
       "    </tr>\n",
       "    <tr>\n",
       "      <th>1</th>\n",
       "      <td>service long desk  price structure deal quote ...</td>\n",
       "      <td>0</td>\n",
       "    </tr>\n",
       "    <tr>\n",
       "      <th>2</th>\n",
       "      <td>start date  cardinall    hourahead timee  card...</td>\n",
       "      <td>0</td>\n",
       "    </tr>\n",
       "    <tr>\n",
       "      <th>3</th>\n",
       "      <td>start date     hourahead timee  cardinall  anc...</td>\n",
       "      <td>0</td>\n",
       "    </tr>\n",
       "    <tr>\n",
       "      <th>4</th>\n",
       "      <td>cardinall deliverable revenue management marke...</td>\n",
       "      <td>0</td>\n",
       "    </tr>\n",
       "    <tr>\n",
       "      <th>...</th>\n",
       "      <td>...</td>\n",
       "      <td>...</td>\n",
       "    </tr>\n",
       "    <tr>\n",
       "      <th>33340</th>\n",
       "      <td>bio  matrix scientific group   symbo   bmxg  p...</td>\n",
       "      <td>1</td>\n",
       "    </tr>\n",
       "    <tr>\n",
       "      <th>33341</th>\n",
       "      <td>cardinall step away hot naked webcam girl liv...</td>\n",
       "      <td>1</td>\n",
       "    </tr>\n",
       "    <tr>\n",
       "      <th>33342</th>\n",
       "      <td>need pill increase performance click  seroius ...</td>\n",
       "      <td>1</td>\n",
       "    </tr>\n",
       "    <tr>\n",
       "      <th>33343</th>\n",
       "      <td>datee final nom       inlet hpl  eastrans  car...</td>\n",
       "      <td>0</td>\n",
       "    </tr>\n",
       "    <tr>\n",
       "      <th>33344</th>\n",
       "      <td>ordinall time  offering male enhancement perfo...</td>\n",
       "      <td>1</td>\n",
       "    </tr>\n",
       "  </tbody>\n",
       "</table>\n",
       "<p>33341 rows × 2 columns</p>\n",
       "</div>"
      ],
      "text/plain": [
       "                                                   email  target\n",
       "0      start date     hourahead timee  cardinall  hou...       0\n",
       "1      service long desk  price structure deal quote ...       0\n",
       "2      start date  cardinall    hourahead timee  card...       0\n",
       "3      start date     hourahead timee  cardinall  anc...       0\n",
       "4      cardinall deliverable revenue management marke...       0\n",
       "...                                                  ...     ...\n",
       "33340  bio  matrix scientific group   symbo   bmxg  p...       1\n",
       "33341   cardinall step away hot naked webcam girl liv...       1\n",
       "33342  need pill increase performance click  seroius ...       1\n",
       "33343  datee final nom       inlet hpl  eastrans  car...       0\n",
       "33344  ordinall time  offering male enhancement perfo...       1\n",
       "\n",
       "[33341 rows x 2 columns]"
      ]
     },
     "execution_count": 2,
     "metadata": {},
     "output_type": "execute_result"
    }
   ],
   "source": [
    "database = pd.read_csv(\"../../Database/dataBaseWithNER.csv\")\n",
    "\n",
    "database = database.drop(columns=[\"Unnamed: 0\"])\n",
    "database = database.dropna()\n",
    "target = database[\"target\"].values.tolist()\n",
    "database"
   ]
  },
  {
   "cell_type": "code",
   "execution_count": 3,
   "metadata": {
    "collapsed": false,
    "pycharm": {
     "name": "#%%\n"
    }
   },
   "outputs": [],
   "source": [
    "emailsText = []\n",
    "for email in database[\"email\"]:\n",
    "    emailsText.append(email)"
   ]
  },
  {
   "cell_type": "code",
   "execution_count": 4,
   "metadata": {
    "collapsed": false,
    "pycharm": {
     "name": "#%%\n"
    }
   },
   "outputs": [
    {
     "name": "stdout",
     "output_type": "stream",
     "text": [
      "33341\n"
     ]
    }
   ],
   "source": [
    "print(len(emailsText))"
   ]
  },
  {
   "cell_type": "markdown",
   "metadata": {
    "collapsed": false,
    "pycharm": {
     "name": "#%% md\n"
    }
   },
   "source": [
    "# Representação vetorial GPT2"
   ]
  },
  {
   "cell_type": "code",
   "execution_count": 5,
   "metadata": {
    "collapsed": false,
    "pycharm": {
     "name": "#%%\n"
    }
   },
   "outputs": [
    {
     "name": "stderr",
     "output_type": "stream",
     "text": [
      "Some weights of the model checkpoint at gpt2 were not used when initializing GPT2ForTextRepresentation: ['h.4.mlp.c_fc.bias', 'h.5.mlp.c_fc.weight', 'h.10.ln_1.weight', 'h.6.mlp.c_proj.weight', 'h.2.attn.c_proj.weight', 'wte.weight', 'h.5.ln_1.bias', 'h.3.mlp.c_fc.bias', 'h.5.mlp.c_proj.weight', 'h.8.mlp.c_proj.weight', 'h.4.ln_2.bias', 'h.4.attn.c_proj.bias', 'h.2.ln_2.bias', 'h.3.ln_2.weight', 'h.10.mlp.c_proj.bias', 'h.0.attn.bias', 'h.11.ln_2.bias', 'h.3.mlp.c_proj.weight', 'h.8.ln_2.bias', 'h.3.attn.c_proj.bias', 'h.9.attn.c_proj.weight', 'h.9.ln_1.bias', 'h.0.ln_1.bias', 'h.10.ln_2.weight', 'h.2.mlp.c_fc.weight', 'h.8.mlp.c_fc.bias', 'h.1.attn.c_attn.bias', 'h.7.ln_2.weight', 'h.3.ln_1.weight', 'h.8.mlp.c_proj.bias', 'h.4.attn.c_proj.weight', 'h.6.mlp.c_proj.bias', 'h.7.ln_1.bias', 'h.9.mlp.c_proj.weight', 'h.2.ln_2.weight', 'h.4.mlp.c_fc.weight', 'h.5.attn.c_attn.weight', 'h.7.attn.bias', 'h.7.ln_1.weight', 'h.6.attn.c_proj.weight', 'h.9.mlp.c_fc.bias', 'h.11.ln_1.weight', 'h.0.attn.c_attn.weight', 'h.4.ln_2.weight', 'h.1.ln_2.bias', 'h.2.ln_1.bias', 'h.1.ln_2.weight', 'h.0.ln_2.bias', 'h.11.attn.c_proj.bias', 'h.8.attn.c_proj.weight', 'h.9.attn.bias', 'h.7.attn.c_proj.weight', 'h.8.attn.c_attn.weight', 'h.9.attn.c_attn.bias', 'h.0.attn.c_attn.bias', 'h.3.attn.c_attn.bias', 'h.6.ln_2.weight', 'h.10.mlp.c_fc.weight', 'h.0.mlp.c_fc.bias', 'h.6.attn.c_proj.bias', 'h.2.attn.c_proj.bias', 'h.6.mlp.c_fc.weight', 'h.0.mlp.c_proj.bias', 'h.1.ln_1.bias', 'h.3.ln_2.bias', 'h.7.attn.c_attn.bias', 'h.7.attn.c_proj.bias', 'h.8.ln_1.weight', 'h.7.attn.c_attn.weight', 'h.6.mlp.c_fc.bias', 'h.9.ln_2.bias', 'h.5.attn.bias', 'h.5.attn.c_attn.bias', 'h.6.attn.c_attn.bias', 'h.2.mlp.c_proj.weight', 'h.4.attn.bias', 'h.10.ln_1.bias', 'h.8.attn.c_proj.bias', 'h.11.attn.bias', 'h.10.mlp.c_proj.weight', 'h.8.attn.bias', 'h.4.mlp.c_proj.weight', 'h.8.mlp.c_fc.weight', 'h.8.attn.c_attn.bias', 'h.9.ln_2.weight', 'h.6.ln_1.bias', 'ln_f.bias', 'h.3.attn.c_attn.weight', 'h.1.attn.c_proj.weight', 'h.9.attn.c_proj.bias', 'h.2.attn.c_attn.weight', 'h.11.mlp.c_fc.weight', 'h.11.attn.c_attn.weight', 'h.9.ln_1.weight', 'h.1.attn.c_proj.bias', 'h.4.attn.c_attn.bias', 'h.11.attn.c_attn.bias', 'h.5.attn.c_proj.weight', 'h.2.mlp.c_proj.bias', 'h.3.mlp.c_fc.weight', 'h.5.ln_1.weight', 'h.6.ln_1.weight', 'h.2.ln_1.weight', 'h.7.mlp.c_fc.bias', 'h.11.ln_2.weight', 'h.4.ln_1.weight', 'h.5.mlp.c_proj.bias', 'h.0.attn.c_proj.bias', 'h.9.mlp.c_fc.weight', 'ln_f.weight', 'h.2.attn.c_attn.bias', 'h.8.ln_2.weight', 'h.4.ln_1.bias', 'h.10.attn.c_proj.weight', 'h.3.attn.c_proj.weight', 'h.0.mlp.c_fc.weight', 'h.1.ln_1.weight', 'h.2.attn.bias', 'h.11.attn.c_proj.weight', 'h.5.mlp.c_fc.bias', 'h.4.attn.c_attn.weight', 'h.1.attn.bias', 'h.8.ln_1.bias', 'wpe.weight', 'h.5.ln_2.weight', 'h.10.mlp.c_fc.bias', 'h.11.mlp.c_proj.bias', 'h.11.mlp.c_proj.weight', 'h.7.mlp.c_proj.bias', 'h.3.ln_1.bias', 'h.6.ln_2.bias', 'h.7.mlp.c_proj.weight', 'h.3.mlp.c_proj.bias', 'h.0.attn.c_proj.weight', 'h.10.attn.c_attn.bias', 'h.6.attn.c_attn.weight', 'h.7.mlp.c_fc.weight', 'h.10.attn.c_proj.bias', 'h.10.attn.c_attn.weight', 'h.9.attn.c_attn.weight', 'h.11.ln_1.bias', 'h.0.ln_2.weight', 'h.1.mlp.c_proj.bias', 'h.2.mlp.c_fc.bias', 'h.6.attn.bias', 'h.5.attn.c_proj.bias', 'h.5.ln_2.bias', 'h.9.mlp.c_proj.bias', 'h.1.attn.c_attn.weight', 'h.10.ln_2.bias', 'h.3.attn.bias', 'h.1.mlp.c_fc.weight', 'h.0.ln_1.weight', 'h.7.ln_2.bias', 'h.0.mlp.c_proj.weight', 'h.1.mlp.c_proj.weight', 'h.10.attn.bias', 'h.11.mlp.c_fc.bias', 'h.1.mlp.c_fc.bias', 'h.4.mlp.c_proj.bias']\n",
      "- This IS expected if you are initializing GPT2ForTextRepresentation from the checkpoint of a model trained on another task or with another architecture (e.g. initializing a BertForSequenceClassification model from a BertForPreTraining model).\n",
      "- This IS NOT expected if you are initializing GPT2ForTextRepresentation from the checkpoint of a model that you expect to be exactly identical (initializing a BertForSequenceClassification model from a BertForSequenceClassification model).\n",
      "Some weights of GPT2ForTextRepresentation were not initialized from the model checkpoint at gpt2 and are newly initialized: ['gpt2.h.0.ln_1.bias', 'gpt2.h.11.ln_2.bias', 'gpt2.h.1.ln_2.bias', 'gpt2.h.6.attn.c_proj.weight', 'gpt2.h.4.ln_2.bias', 'gpt2.h.3.mlp.c_proj.bias', 'gpt2.h.0.ln_2.bias', 'gpt2.h.1.ln_2.weight', 'gpt2.h.7.attn.bias', 'gpt2.h.7.mlp.c_proj.weight', 'gpt2.h.4.attn.masked_bias', 'gpt2.h.11.ln_1.weight', 'gpt2.h.9.ln_1.weight', 'gpt2.h.1.attn.c_proj.bias', 'gpt2.h.2.ln_1.weight', 'gpt2.h.5.mlp.c_fc.weight', 'gpt2.h.1.mlp.c_proj.weight', 'gpt2.h.3.attn.c_attn.bias', 'gpt2.h.4.attn.c_proj.weight', 'gpt2.h.2.mlp.c_fc.weight', 'gpt2.h.9.ln_1.bias', 'gpt2.h.1.attn.bias', 'gpt2.h.5.attn.c_proj.bias', 'gpt2.wte.weight', 'gpt2.h.2.attn.c_attn.bias', 'gpt2.h.5.ln_2.weight', 'gpt2.h.5.mlp.c_proj.bias', 'gpt2.h.1.mlp.c_fc.weight', 'gpt2.h.6.attn.masked_bias', 'gpt2.h.10.attn.masked_bias', 'gpt2.h.6.attn.c_attn.bias', 'gpt2.h.3.attn.c_attn.weight', 'gpt2.h.9.attn.c_proj.bias', 'gpt2.h.1.attn.c_attn.bias', 'gpt2.h.7.mlp.c_fc.bias', 'gpt2.h.7.ln_2.bias', 'gpt2.ln_f.bias', 'gpt2.h.5.ln_2.bias', 'gpt2.h.3.attn.bias', 'gpt2.h.10.attn.bias', 'gpt2.h.3.mlp.c_proj.weight', 'gpt2.h.8.attn.c_attn.weight', 'gpt2.h.7.ln_1.bias', 'gpt2.h.7.mlp.c_proj.bias', 'gpt2.h.10.ln_1.bias', 'gpt2.h.0.mlp.c_fc.weight', 'gpt2.h.6.ln_1.weight', 'gpt2.h.5.ln_1.bias', 'gpt2.h.7.mlp.c_fc.weight', 'gpt2.h.0.attn.c_proj.bias', 'gpt2.h.5.attn.c_attn.weight', 'gpt2.h.10.mlp.c_proj.weight', 'gpt2.h.11.mlp.c_fc.weight', 'gpt2.h.11.attn.c_proj.bias', 'gpt2.h.11.mlp.c_proj.weight', 'gpt2.h.3.ln_2.weight', 'gpt2.h.4.attn.bias', 'gpt2.h.4.attn.c_attn.bias', 'gpt2.h.2.attn.c_proj.bias', 'gpt2.h.9.mlp.c_proj.weight', 'gpt2.h.8.attn.c_proj.bias', 'gpt2.h.0.attn.masked_bias', 'gpt2.h.2.mlp.c_proj.weight', 'gpt2.h.9.attn.masked_bias', 'gpt2.h.2.attn.masked_bias', 'gpt2.h.2.attn.c_attn.weight', 'gpt2.h.4.attn.c_attn.weight', 'gpt2.h.11.attn.bias', 'gpt2.h.1.ln_1.bias', 'gpt2.h.1.attn.c_attn.weight', 'gpt2.h.2.attn.c_proj.weight', 'gpt2.h.0.ln_1.weight', 'gpt2.h.10.attn.c_proj.weight', 'gpt2.h.8.ln_2.bias', 'gpt2.h.9.mlp.c_fc.weight', 'gpt2.h.11.attn.masked_bias', 'gpt2.h.4.mlp.c_proj.bias', 'gpt2.h.7.attn.c_attn.weight', 'gpt2.h.2.ln_1.bias', 'gpt2.h.1.ln_1.weight', 'gpt2.h.5.attn.bias', 'gpt2.h.0.attn.c_attn.bias', 'gpt2.h.8.mlp.c_fc.bias', 'gpt2.h.10.ln_1.weight', 'gpt2.h.8.mlp.c_fc.weight', 'gpt2.h.3.ln_2.bias', 'gpt2.h.6.ln_2.bias', 'gpt2.h.8.mlp.c_proj.bias', 'gpt2.h.0.attn.c_proj.weight', 'gpt2.h.0.ln_2.weight', 'gpt2.h.4.mlp.c_fc.weight', 'gpt2.h.7.attn.c_proj.weight', 'gpt2.h.4.ln_1.weight', 'gpt2.h.5.mlp.c_proj.weight', 'gpt2.h.11.mlp.c_proj.bias', 'gpt2.h.6.mlp.c_proj.weight', 'gpt2.h.10.ln_2.bias', 'gpt2.h.11.attn.c_attn.bias', 'gpt2.h.1.attn.c_proj.weight', 'gpt2.h.3.ln_1.bias', 'gpt2.h.2.mlp.c_fc.bias', 'gpt2.h.10.mlp.c_proj.bias', 'gpt2.h.10.attn.c_attn.bias', 'gpt2.h.6.attn.c_proj.bias', 'gpt2.h.1.attn.masked_bias', 'gpt2.h.4.ln_2.weight', 'gpt2.h.5.attn.c_attn.bias', 'gpt2.h.8.mlp.c_proj.weight', 'gpt2.h.6.mlp.c_proj.bias', 'gpt2.h.5.attn.c_proj.weight', 'gpt2.h.3.attn.masked_bias', 'gpt2.h.2.mlp.c_proj.bias', 'gpt2.h.9.attn.bias', 'gpt2.h.6.ln_2.weight', 'gpt2.h.2.ln_2.weight', 'gpt2.h.0.mlp.c_fc.bias', 'gpt2.h.1.mlp.c_proj.bias', 'gpt2.h.5.mlp.c_fc.bias', 'gpt2.h.6.mlp.c_fc.weight', 'gpt2.h.10.mlp.c_fc.bias', 'gpt2.h.8.attn.bias', 'gpt2.h.6.ln_1.bias', 'gpt2.h.0.mlp.c_proj.weight', 'gpt2.h.9.mlp.c_proj.bias', 'gpt2.h.0.attn.c_attn.weight', 'gpt2.h.4.attn.c_proj.bias', 'gpt2.h.2.attn.bias', 'gpt2.h.3.attn.c_proj.bias', 'gpt2.h.0.attn.bias', 'gpt2.h.8.ln_1.bias', 'gpt2.h.6.mlp.c_fc.bias', 'gpt2.h.8.attn.c_proj.weight', 'gpt2.h.3.mlp.c_fc.weight', 'gpt2.h.6.attn.bias', 'gpt2.h.10.ln_2.weight', 'gpt2.h.9.mlp.c_fc.bias', 'gpt2.h.8.attn.c_attn.bias', 'gpt2.h.9.ln_2.weight', 'gpt2.h.7.attn.c_attn.bias', 'gpt2.h.9.ln_2.bias', 'gpt2.h.11.attn.c_attn.weight', 'gpt2.h.7.ln_2.weight', 'gpt2.h.7.ln_1.weight', 'gpt2.h.5.ln_1.weight', 'gpt2.h.10.mlp.c_fc.weight', 'gpt2.h.4.mlp.c_fc.bias', 'gpt2.h.6.attn.c_attn.weight', 'gpt2.h.3.attn.c_proj.weight', 'gpt2.h.5.attn.masked_bias', 'gpt2.wpe.weight', 'gpt2.h.3.mlp.c_fc.bias', 'gpt2.h.4.ln_1.bias', 'gpt2.h.9.attn.c_attn.bias', 'gpt2.h.8.ln_1.weight', 'gpt2.h.8.ln_2.weight', 'gpt2.h.10.attn.c_attn.weight', 'gpt2.h.4.mlp.c_proj.weight', 'gpt2.h.1.mlp.c_fc.bias', 'gpt2.h.11.ln_2.weight', 'gpt2.h.11.mlp.c_fc.bias', 'gpt2.h.7.attn.masked_bias', 'gpt2.h.10.attn.c_proj.bias', 'gpt2.h.2.ln_2.bias', 'gpt2.h.9.attn.c_attn.weight', 'gpt2.h.7.attn.c_proj.bias', 'gpt2.h.0.mlp.c_proj.bias', 'gpt2.h.11.ln_1.bias', 'gpt2.h.8.attn.masked_bias', 'gpt2.ln_f.weight', 'gpt2.h.11.attn.c_proj.weight', 'gpt2.h.3.ln_1.weight', 'gpt2.h.9.attn.c_proj.weight']\n",
      "You should probably TRAIN this model on a down-stream task to be able to use it for predictions and inference.\n"
     ]
    },
    {
     "data": {
      "text/plain": [
       "(33341, 768)"
      ]
     },
     "execution_count": 5,
     "metadata": {},
     "output_type": "execute_result"
    }
   ],
   "source": [
    "model=RepresentationModel(\n",
    "    model_type=\"gpt2\",\n",
    "    model_name=\"gpt2\",\n",
    "    use_cuda=True,\n",
    "    #fp16=True\n",
    ")\n",
    "\n",
    "vectorialRepresentation = model.encode_sentences(emailsText, combine_strategy=\"mean\")\n",
    "vectorialRepresentation.shape"
   ]
  },
  {
   "cell_type": "code",
   "execution_count": 6,
   "metadata": {
    "collapsed": false,
    "pycharm": {
     "name": "#%%\n"
    }
   },
   "outputs": [
    {
     "data": {
      "text/html": [
       "<div>\n",
       "<style scoped>\n",
       "    .dataframe tbody tr th:only-of-type {\n",
       "        vertical-align: middle;\n",
       "    }\n",
       "\n",
       "    .dataframe tbody tr th {\n",
       "        vertical-align: top;\n",
       "    }\n",
       "\n",
       "    .dataframe thead th {\n",
       "        text-align: right;\n",
       "    }\n",
       "</style>\n",
       "<table border=\"1\" class=\"dataframe\">\n",
       "  <thead>\n",
       "    <tr style=\"text-align: right;\">\n",
       "      <th></th>\n",
       "      <th>0</th>\n",
       "      <th>1</th>\n",
       "      <th>2</th>\n",
       "      <th>3</th>\n",
       "      <th>4</th>\n",
       "      <th>5</th>\n",
       "      <th>6</th>\n",
       "      <th>7</th>\n",
       "      <th>8</th>\n",
       "      <th>9</th>\n",
       "      <th>...</th>\n",
       "      <th>758</th>\n",
       "      <th>759</th>\n",
       "      <th>760</th>\n",
       "      <th>761</th>\n",
       "      <th>762</th>\n",
       "      <th>763</th>\n",
       "      <th>764</th>\n",
       "      <th>765</th>\n",
       "      <th>766</th>\n",
       "      <th>767</th>\n",
       "    </tr>\n",
       "  </thead>\n",
       "  <tbody>\n",
       "    <tr>\n",
       "      <th>0</th>\n",
       "      <td>2.432295</td>\n",
       "      <td>-0.093498</td>\n",
       "      <td>-0.275616</td>\n",
       "      <td>0.232219</td>\n",
       "      <td>-0.147429</td>\n",
       "      <td>1.766835</td>\n",
       "      <td>0.475205</td>\n",
       "      <td>0.186184</td>\n",
       "      <td>0.223384</td>\n",
       "      <td>-1.091114</td>\n",
       "      <td>...</td>\n",
       "      <td>-0.139626</td>\n",
       "      <td>1.009171</td>\n",
       "      <td>0.000161</td>\n",
       "      <td>-1.385114</td>\n",
       "      <td>0.153864</td>\n",
       "      <td>2.822134</td>\n",
       "      <td>1.522955</td>\n",
       "      <td>0.786604</td>\n",
       "      <td>-0.748891</td>\n",
       "      <td>0.994930</td>\n",
       "    </tr>\n",
       "    <tr>\n",
       "      <th>1</th>\n",
       "      <td>2.457893</td>\n",
       "      <td>0.692926</td>\n",
       "      <td>0.399736</td>\n",
       "      <td>-0.406665</td>\n",
       "      <td>-1.223928</td>\n",
       "      <td>2.127721</td>\n",
       "      <td>-0.426484</td>\n",
       "      <td>-0.099923</td>\n",
       "      <td>1.102615</td>\n",
       "      <td>-1.339036</td>\n",
       "      <td>...</td>\n",
       "      <td>-1.186514</td>\n",
       "      <td>2.093531</td>\n",
       "      <td>-0.314166</td>\n",
       "      <td>-0.633624</td>\n",
       "      <td>-1.341084</td>\n",
       "      <td>1.687200</td>\n",
       "      <td>0.487268</td>\n",
       "      <td>0.295489</td>\n",
       "      <td>-1.293660</td>\n",
       "      <td>0.908109</td>\n",
       "    </tr>\n",
       "    <tr>\n",
       "      <th>2</th>\n",
       "      <td>2.802501</td>\n",
       "      <td>0.761098</td>\n",
       "      <td>-0.256448</td>\n",
       "      <td>-0.256922</td>\n",
       "      <td>-0.184076</td>\n",
       "      <td>1.778750</td>\n",
       "      <td>0.524001</td>\n",
       "      <td>0.272463</td>\n",
       "      <td>-0.183115</td>\n",
       "      <td>-0.794217</td>\n",
       "      <td>...</td>\n",
       "      <td>-0.134036</td>\n",
       "      <td>0.636995</td>\n",
       "      <td>0.291504</td>\n",
       "      <td>-1.287605</td>\n",
       "      <td>0.675958</td>\n",
       "      <td>2.222274</td>\n",
       "      <td>1.039553</td>\n",
       "      <td>1.457527</td>\n",
       "      <td>-0.566689</td>\n",
       "      <td>0.794463</td>\n",
       "    </tr>\n",
       "    <tr>\n",
       "      <th>3</th>\n",
       "      <td>2.559943</td>\n",
       "      <td>0.440694</td>\n",
       "      <td>-0.164696</td>\n",
       "      <td>-0.199634</td>\n",
       "      <td>-0.320036</td>\n",
       "      <td>2.061574</td>\n",
       "      <td>0.482535</td>\n",
       "      <td>0.030460</td>\n",
       "      <td>0.228932</td>\n",
       "      <td>-0.977275</td>\n",
       "      <td>...</td>\n",
       "      <td>-0.037972</td>\n",
       "      <td>0.966329</td>\n",
       "      <td>0.267005</td>\n",
       "      <td>-1.382962</td>\n",
       "      <td>0.191902</td>\n",
       "      <td>2.244401</td>\n",
       "      <td>1.023060</td>\n",
       "      <td>1.123152</td>\n",
       "      <td>-0.611560</td>\n",
       "      <td>0.793289</td>\n",
       "    </tr>\n",
       "    <tr>\n",
       "      <th>4</th>\n",
       "      <td>1.378478</td>\n",
       "      <td>0.678298</td>\n",
       "      <td>-0.846600</td>\n",
       "      <td>0.152847</td>\n",
       "      <td>-0.187875</td>\n",
       "      <td>1.400886</td>\n",
       "      <td>1.827272</td>\n",
       "      <td>-0.091550</td>\n",
       "      <td>0.921683</td>\n",
       "      <td>-1.454416</td>\n",
       "      <td>...</td>\n",
       "      <td>-0.238706</td>\n",
       "      <td>1.188646</td>\n",
       "      <td>-1.154469</td>\n",
       "      <td>-0.555459</td>\n",
       "      <td>0.557703</td>\n",
       "      <td>1.562755</td>\n",
       "      <td>0.927980</td>\n",
       "      <td>0.929163</td>\n",
       "      <td>-1.588155</td>\n",
       "      <td>-0.214183</td>\n",
       "    </tr>\n",
       "    <tr>\n",
       "      <th>...</th>\n",
       "      <td>...</td>\n",
       "      <td>...</td>\n",
       "      <td>...</td>\n",
       "      <td>...</td>\n",
       "      <td>...</td>\n",
       "      <td>...</td>\n",
       "      <td>...</td>\n",
       "      <td>...</td>\n",
       "      <td>...</td>\n",
       "      <td>...</td>\n",
       "      <td>...</td>\n",
       "      <td>...</td>\n",
       "      <td>...</td>\n",
       "      <td>...</td>\n",
       "      <td>...</td>\n",
       "      <td>...</td>\n",
       "      <td>...</td>\n",
       "      <td>...</td>\n",
       "      <td>...</td>\n",
       "      <td>...</td>\n",
       "      <td>...</td>\n",
       "    </tr>\n",
       "    <tr>\n",
       "      <th>33336</th>\n",
       "      <td>2.727573</td>\n",
       "      <td>0.806268</td>\n",
       "      <td>-0.509134</td>\n",
       "      <td>-0.575385</td>\n",
       "      <td>-0.565596</td>\n",
       "      <td>2.100595</td>\n",
       "      <td>0.572332</td>\n",
       "      <td>0.766660</td>\n",
       "      <td>-0.160964</td>\n",
       "      <td>-0.627278</td>\n",
       "      <td>...</td>\n",
       "      <td>0.462017</td>\n",
       "      <td>1.217918</td>\n",
       "      <td>-0.714154</td>\n",
       "      <td>-1.432837</td>\n",
       "      <td>-0.129645</td>\n",
       "      <td>1.155439</td>\n",
       "      <td>1.165254</td>\n",
       "      <td>1.613089</td>\n",
       "      <td>-0.054492</td>\n",
       "      <td>0.478307</td>\n",
       "    </tr>\n",
       "    <tr>\n",
       "      <th>33337</th>\n",
       "      <td>2.460510</td>\n",
       "      <td>0.415460</td>\n",
       "      <td>-0.787173</td>\n",
       "      <td>-0.722554</td>\n",
       "      <td>-0.474267</td>\n",
       "      <td>2.315821</td>\n",
       "      <td>0.047856</td>\n",
       "      <td>0.194495</td>\n",
       "      <td>-0.469708</td>\n",
       "      <td>-1.738560</td>\n",
       "      <td>...</td>\n",
       "      <td>-0.181604</td>\n",
       "      <td>0.846267</td>\n",
       "      <td>-0.070745</td>\n",
       "      <td>-0.654671</td>\n",
       "      <td>0.265567</td>\n",
       "      <td>1.880705</td>\n",
       "      <td>0.345114</td>\n",
       "      <td>1.172919</td>\n",
       "      <td>-0.490596</td>\n",
       "      <td>0.305874</td>\n",
       "    </tr>\n",
       "    <tr>\n",
       "      <th>33338</th>\n",
       "      <td>1.906154</td>\n",
       "      <td>0.842924</td>\n",
       "      <td>-0.208755</td>\n",
       "      <td>0.525594</td>\n",
       "      <td>-0.323234</td>\n",
       "      <td>2.196710</td>\n",
       "      <td>0.110598</td>\n",
       "      <td>0.081667</td>\n",
       "      <td>-0.132737</td>\n",
       "      <td>-1.606453</td>\n",
       "      <td>...</td>\n",
       "      <td>-0.590640</td>\n",
       "      <td>2.039541</td>\n",
       "      <td>-0.154769</td>\n",
       "      <td>-1.303533</td>\n",
       "      <td>-0.808209</td>\n",
       "      <td>1.876450</td>\n",
       "      <td>1.475909</td>\n",
       "      <td>1.798554</td>\n",
       "      <td>-0.121606</td>\n",
       "      <td>0.389516</td>\n",
       "    </tr>\n",
       "    <tr>\n",
       "      <th>33339</th>\n",
       "      <td>2.039853</td>\n",
       "      <td>1.250390</td>\n",
       "      <td>-0.172191</td>\n",
       "      <td>0.293197</td>\n",
       "      <td>0.091020</td>\n",
       "      <td>1.981126</td>\n",
       "      <td>0.666586</td>\n",
       "      <td>0.488344</td>\n",
       "      <td>0.230154</td>\n",
       "      <td>-0.519556</td>\n",
       "      <td>...</td>\n",
       "      <td>0.498865</td>\n",
       "      <td>1.317365</td>\n",
       "      <td>-0.555753</td>\n",
       "      <td>-1.310731</td>\n",
       "      <td>0.164110</td>\n",
       "      <td>2.047854</td>\n",
       "      <td>0.859513</td>\n",
       "      <td>1.406687</td>\n",
       "      <td>-0.715885</td>\n",
       "      <td>1.076652</td>\n",
       "    </tr>\n",
       "    <tr>\n",
       "      <th>33340</th>\n",
       "      <td>2.684072</td>\n",
       "      <td>1.005761</td>\n",
       "      <td>-0.324807</td>\n",
       "      <td>-0.392031</td>\n",
       "      <td>-0.578271</td>\n",
       "      <td>2.253563</td>\n",
       "      <td>0.002390</td>\n",
       "      <td>0.165431</td>\n",
       "      <td>-0.688343</td>\n",
       "      <td>-1.926100</td>\n",
       "      <td>...</td>\n",
       "      <td>0.118725</td>\n",
       "      <td>1.544308</td>\n",
       "      <td>-0.874985</td>\n",
       "      <td>0.080874</td>\n",
       "      <td>0.070483</td>\n",
       "      <td>1.112500</td>\n",
       "      <td>0.152601</td>\n",
       "      <td>1.491339</td>\n",
       "      <td>-0.322941</td>\n",
       "      <td>-0.330448</td>\n",
       "    </tr>\n",
       "  </tbody>\n",
       "</table>\n",
       "<p>33341 rows × 768 columns</p>\n",
       "</div>"
      ],
      "text/plain": [
       "            0         1         2         3         4         5         6    \\\n",
       "0      2.432295 -0.093498 -0.275616  0.232219 -0.147429  1.766835  0.475205   \n",
       "1      2.457893  0.692926  0.399736 -0.406665 -1.223928  2.127721 -0.426484   \n",
       "2      2.802501  0.761098 -0.256448 -0.256922 -0.184076  1.778750  0.524001   \n",
       "3      2.559943  0.440694 -0.164696 -0.199634 -0.320036  2.061574  0.482535   \n",
       "4      1.378478  0.678298 -0.846600  0.152847 -0.187875  1.400886  1.827272   \n",
       "...         ...       ...       ...       ...       ...       ...       ...   \n",
       "33336  2.727573  0.806268 -0.509134 -0.575385 -0.565596  2.100595  0.572332   \n",
       "33337  2.460510  0.415460 -0.787173 -0.722554 -0.474267  2.315821  0.047856   \n",
       "33338  1.906154  0.842924 -0.208755  0.525594 -0.323234  2.196710  0.110598   \n",
       "33339  2.039853  1.250390 -0.172191  0.293197  0.091020  1.981126  0.666586   \n",
       "33340  2.684072  1.005761 -0.324807 -0.392031 -0.578271  2.253563  0.002390   \n",
       "\n",
       "            7         8         9    ...       758       759       760  \\\n",
       "0      0.186184  0.223384 -1.091114  ... -0.139626  1.009171  0.000161   \n",
       "1     -0.099923  1.102615 -1.339036  ... -1.186514  2.093531 -0.314166   \n",
       "2      0.272463 -0.183115 -0.794217  ... -0.134036  0.636995  0.291504   \n",
       "3      0.030460  0.228932 -0.977275  ... -0.037972  0.966329  0.267005   \n",
       "4     -0.091550  0.921683 -1.454416  ... -0.238706  1.188646 -1.154469   \n",
       "...         ...       ...       ...  ...       ...       ...       ...   \n",
       "33336  0.766660 -0.160964 -0.627278  ...  0.462017  1.217918 -0.714154   \n",
       "33337  0.194495 -0.469708 -1.738560  ... -0.181604  0.846267 -0.070745   \n",
       "33338  0.081667 -0.132737 -1.606453  ... -0.590640  2.039541 -0.154769   \n",
       "33339  0.488344  0.230154 -0.519556  ...  0.498865  1.317365 -0.555753   \n",
       "33340  0.165431 -0.688343 -1.926100  ...  0.118725  1.544308 -0.874985   \n",
       "\n",
       "            761       762       763       764       765       766       767  \n",
       "0     -1.385114  0.153864  2.822134  1.522955  0.786604 -0.748891  0.994930  \n",
       "1     -0.633624 -1.341084  1.687200  0.487268  0.295489 -1.293660  0.908109  \n",
       "2     -1.287605  0.675958  2.222274  1.039553  1.457527 -0.566689  0.794463  \n",
       "3     -1.382962  0.191902  2.244401  1.023060  1.123152 -0.611560  0.793289  \n",
       "4     -0.555459  0.557703  1.562755  0.927980  0.929163 -1.588155 -0.214183  \n",
       "...         ...       ...       ...       ...       ...       ...       ...  \n",
       "33336 -1.432837 -0.129645  1.155439  1.165254  1.613089 -0.054492  0.478307  \n",
       "33337 -0.654671  0.265567  1.880705  0.345114  1.172919 -0.490596  0.305874  \n",
       "33338 -1.303533 -0.808209  1.876450  1.475909  1.798554 -0.121606  0.389516  \n",
       "33339 -1.310731  0.164110  2.047854  0.859513  1.406687 -0.715885  1.076652  \n",
       "33340  0.080874  0.070483  1.112500  0.152601  1.491339 -0.322941 -0.330448  \n",
       "\n",
       "[33341 rows x 768 columns]"
      ]
     },
     "execution_count": 6,
     "metadata": {},
     "output_type": "execute_result"
    }
   ],
   "source": [
    "gpt2Dataframe = pd.DataFrame(vectorialRepresentation)\n",
    "gpt2Dataframe"
   ]
  },
  {
   "cell_type": "markdown",
   "metadata": {
    "collapsed": false,
    "pycharm": {
     "name": "#%% md\n"
    }
   },
   "source": [
    "# Visualização de dados com TSNE"
   ]
  },
  {
   "cell_type": "code",
   "execution_count": 7,
   "metadata": {
    "collapsed": false,
    "pycharm": {
     "name": "#%%\n"
    }
   },
   "outputs": [
    {
     "name": "stderr",
     "output_type": "stream",
     "text": [
      "C:\\Users\\victo\\anaconda3\\envs\\conda_data_science_gpu_on_torch\\lib\\site-packages\\sklearn\\manifold\\_t_sne.py:780: FutureWarning: The default initialization in TSNE will change from 'random' to 'pca' in 1.2.\n",
      "  warnings.warn(\n",
      "C:\\Users\\victo\\anaconda3\\envs\\conda_data_science_gpu_on_torch\\lib\\site-packages\\sklearn\\manifold\\_t_sne.py:790: FutureWarning: The default learning rate in TSNE will change from 200.0 to 'auto' in 1.2.\n",
      "  warnings.warn(\n"
     ]
    },
    {
     "name": "stdout",
     "output_type": "stream",
     "text": [
      "               0          1  Target\n",
      "0      78.198051  15.803736       0\n",
      "1      -8.168677 -13.443456       0\n",
      "2      68.610374 -10.624249       0\n",
      "3      -3.680197  71.350594       0\n",
      "4     -17.665276  58.581997       0\n",
      "...          ...        ...     ...\n",
      "33336  27.901169 -12.025276       1\n",
      "33337  10.560597  35.977131       1\n",
      "33338  10.511292  -0.784959       1\n",
      "33339  -7.091450   6.361189       0\n",
      "33340  12.388700  34.350636       1\n",
      "\n",
      "[33341 rows x 3 columns]\n"
     ]
    },
    {
     "data": {
      "image/png": "[encoded data removed]",
      "text/plain": [
       "<Figure size 432x288 with 1 Axes>"
      ]
     },
     "metadata": {
      "needs_background": "light"
     },
     "output_type": "display_data"
    }
   ],
   "source": [
    "model = TSNE(n_components=2, random_state=0)\n",
    "array_red = model.fit_transform(gpt2Dataframe)\n",
    "\n",
    "df_tsne = pd.DataFrame(array_red)\n",
    "\n",
    "df_tsne['Target'] = target\n",
    "print(df_tsne)\n",
    "df_tsne_c1 = df_tsne[df_tsne['Target'] == 0]\n",
    "\n",
    "df_tsne_c2 = df_tsne[df_tsne['Target'] == 1]\n",
    "\n",
    "plt.scatter(df_tsne_c1[0].array,df_tsne_c1[1].array,marker='o',color='blue')\n",
    "\n",
    "plt.scatter(df_tsne_c2[0].array,df_tsne_c2[1].array,marker='o',color='red')\n",
    "\n",
    "plt.title('Dados')\n",
    "plt.xlabel('x')\n",
    "plt.ylabel('y')\n",
    "\n",
    "plt.show()"
   ]
  },
  {
   "cell_type": "markdown",
   "metadata": {
    "collapsed": false,
    "pycharm": {
     "name": "#%% md\n"
    }
   },
   "source": [
    "# Validação"
   ]
  },
  {
   "cell_type": "code",
   "execution_count": 8,
   "metadata": {
    "collapsed": false,
    "pycharm": {
     "name": "#%%\n"
    }
   },
   "outputs": [],
   "source": [
    "def getModel():\n",
    "    return RandomForestClassifier()"
   ]
  },
  {
   "cell_type": "code",
   "execution_count": 9,
   "metadata": {
    "collapsed": false,
    "pycharm": {
     "name": "#%%\n"
    }
   },
   "outputs": [
    {
     "data": {
      "text/plain": [
       "0.8728445044234517"
      ]
     },
     "execution_count": 9,
     "metadata": {},
     "output_type": "execute_result"
    }
   ],
   "source": [
    "X_treino, X_teste, y_treino, y_teste = train_test_split(gpt2Dataframe.values,target,test_size=0.2)\n",
    "modelo = getModel().fit(X_treino,y_treino)\n",
    "score = modelo.score(X_teste,y_teste)\n",
    "score"
   ]
  },
  {
   "cell_type": "code",
   "execution_count": 10,
   "metadata": {
    "collapsed": false,
    "pycharm": {
     "name": "#%%\n"
    }
   },
   "outputs": [
    {
     "data": {
      "text/plain": [
       "0.8761884414721253"
      ]
     },
     "execution_count": 10,
     "metadata": {},
     "output_type": "execute_result"
    }
   ],
   "source": [
    "scores = cross_val_score(getModel(),gpt2Dataframe.values,target,cv=10)\n",
    "\n",
    "scores.mean()"
   ]
  },
  {
   "cell_type": "code",
   "execution_count": 11,
   "metadata": {
    "collapsed": false,
    "pycharm": {
     "name": "#%%\n"
    }
   },
   "outputs": [],
   "source": [
    "predicoes = cross_val_predict(getModel(), gpt2Dataframe.values, target, cv=10)"
   ]
  },
  {
   "cell_type": "code",
   "execution_count": 12,
   "metadata": {
    "collapsed": false,
    "pycharm": {
     "name": "#%%\n"
    }
   },
   "outputs": [
    {
     "name": "stdout",
     "output_type": "stream",
     "text": [
      "\n",
      "Classification Report : \n",
      "              precision    recall  f1-score   support\n",
      "\n",
      "         Ham       0.89      0.85      0.87     16493\n",
      "        Spam       0.86      0.89      0.88     16848\n",
      "\n",
      "    accuracy                           0.87     33341\n",
      "   macro avg       0.87      0.87      0.87     33341\n",
      "weighted avg       0.87      0.87      0.87     33341\n",
      "\n"
     ]
    }
   ],
   "source": [
    "print(\"\\nClassification Report : \")\n",
    "print(classification_report(target, predicoes, target_names=[\"Ham\", \"Spam\"]))"
   ]
  },
  {
   "cell_type": "code",
   "execution_count": 13,
   "metadata": {
    "collapsed": false,
    "pycharm": {
     "name": "#%%\n"
    }
   },
   "outputs": [
    {
     "data": {
      "text/plain": [
       "(array([0, 1]), [Text(0, 0, 'Ham'), Text(1, 0, 'Spam')])"
      ]
     },
     "execution_count": 13,
     "metadata": {},
     "output_type": "execute_result"
    },
    {
     "data": {
      "image/png": "[encoded data removed]",
      "text/plain": [
       "<Figure size 360x360 with 2 Axes>"
      ]
     },
     "metadata": {
      "needs_background": "light"
     },
     "output_type": "display_data"
    }
   ],
   "source": [
    "categories = [\"Ham\", \"Spam\"]\n",
    "\n",
    "skplt.metrics.plot_confusion_matrix(\n",
    "    [categories[i] for i in target], [categories[i] for i in predicoes.tolist()],\n",
    "    title=\"Confusion Matrix\",\n",
    "    cmap=\"Purples\",\n",
    "    hide_zeros=True,\n",
    "    figsize=(5,5)\n",
    ")\n",
    "\n",
    "plt.xticks()"
   ]
  },
  {
   "cell_type": "code",
   "execution_count": 14,
   "metadata": {
    "collapsed": false,
    "pycharm": {
     "name": "#%%\n"
    }
   },
   "outputs": [
    {
     "data": {
      "text/plain": [
       "(array([0, 1]), [Text(0, 0, 'Ham'), Text(1, 0, 'Spam')])"
      ]
     },
     "execution_count": 14,
     "metadata": {},
     "output_type": "execute_result"
    },
    {
     "data": {
      "image/png": "[encoded data removed]",
      "text/plain": [
       "<Figure size 360x360 with 2 Axes>"
      ]
     },
     "metadata": {
      "needs_background": "light"
     },
     "output_type": "display_data"
    }
   ],
   "source": [
    "skplt.metrics.plot_confusion_matrix(\n",
    "    [categories[i] for i in target], [categories[i] for i in predicoes.tolist()],\n",
    "    normalize=True,\n",
    "    title=\"Confusion Matrix\",\n",
    "    cmap=\"Purples\",\n",
    "    hide_zeros=True,\n",
    "    figsize=(5,5)\n",
    ")\n",
    "\n",
    "plt.xticks()"
   ]
  }
 ],
 "metadata": {
  "kernelspec": {
   "display_name": "Python 3",
   "language": "python",
   "name": "python3"
  },
  "language_info": {
   "codemirror_mode": {
    "name": "ipython",
    "version": 3
   },
   "file_extension": ".py",
   "mimetype": "text/x-python",
   "name": "python",
   "nbconvert_exporter": "python",
   "pygments_lexer": "ipython3",
   "version": "3.9.12"
  }
 },
 "nbformat": 4,
 "nbformat_minor": 1
}
