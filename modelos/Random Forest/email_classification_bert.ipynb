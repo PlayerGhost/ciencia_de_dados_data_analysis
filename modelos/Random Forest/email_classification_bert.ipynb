{
 "cells": [
  {
   "cell_type": "code",
   "execution_count": 1,
   "metadata": {
    "collapsed": false,
    "pycharm": {
     "name": "#%%\n"
    }
   },
   "outputs": [],
   "source": [
    "import pandas as pd\n",
    "from sklearn.ensemble import RandomForestClassifier\n",
    "from sklearn.model_selection import train_test_split, cross_val_score, cross_val_predict\n",
    "from sklearn.manifold import TSNE\n",
    "from sklearn.metrics import  classification_report\n",
    "import matplotlib.pyplot as plt\n",
    "import scikitplot as skplt\n",
    "from simpletransformers.language_representation import RepresentationModel"
   ]
  },
  {
   "cell_type": "markdown",
   "metadata": {
    "collapsed": false,
    "pycharm": {
     "name": "#%% md\n"
    }
   },
   "source": [
    "# Carregando base de dados  pré-processada"
   ]
  },
  {
   "cell_type": "code",
   "execution_count": 2,
   "metadata": {
    "collapsed": false,
    "pycharm": {
     "name": "#%%\n"
    }
   },
   "outputs": [
    {
     "data": {
      "text/html": [
       "<div>\n",
       "<style scoped>\n",
       "    .dataframe tbody tr th:only-of-type {\n",
       "        vertical-align: middle;\n",
       "    }\n",
       "\n",
       "    .dataframe tbody tr th {\n",
       "        vertical-align: top;\n",
       "    }\n",
       "\n",
       "    .dataframe thead th {\n",
       "        text-align: right;\n",
       "    }\n",
       "</style>\n",
       "<table border=\"1\" class=\"dataframe\">\n",
       "  <thead>\n",
       "    <tr style=\"text-align: right;\">\n",
       "      <th></th>\n",
       "      <th>email</th>\n",
       "      <th>target</th>\n",
       "    </tr>\n",
       "  </thead>\n",
       "  <tbody>\n",
       "    <tr>\n",
       "      <th>0</th>\n",
       "      <td>start date     hourahead timee  cardinall  hou...</td>\n",
       "      <td>0</td>\n",
       "    </tr>\n",
       "    <tr>\n",
       "      <th>1</th>\n",
       "      <td>service long desk  price structure deal quote ...</td>\n",
       "      <td>0</td>\n",
       "    </tr>\n",
       "    <tr>\n",
       "      <th>2</th>\n",
       "      <td>start date  cardinall    hourahead timee  card...</td>\n",
       "      <td>0</td>\n",
       "    </tr>\n",
       "    <tr>\n",
       "      <th>3</th>\n",
       "      <td>start date     hourahead timee  cardinall  anc...</td>\n",
       "      <td>0</td>\n",
       "    </tr>\n",
       "    <tr>\n",
       "      <th>4</th>\n",
       "      <td>cardinall deliverable revenue management marke...</td>\n",
       "      <td>0</td>\n",
       "    </tr>\n",
       "    <tr>\n",
       "      <th>...</th>\n",
       "      <td>...</td>\n",
       "      <td>...</td>\n",
       "    </tr>\n",
       "    <tr>\n",
       "      <th>33340</th>\n",
       "      <td>bio  matrix scientific group   symbo   bmxg  p...</td>\n",
       "      <td>1</td>\n",
       "    </tr>\n",
       "    <tr>\n",
       "      <th>33341</th>\n",
       "      <td>cardinall step away hot naked webcam girl liv...</td>\n",
       "      <td>1</td>\n",
       "    </tr>\n",
       "    <tr>\n",
       "      <th>33342</th>\n",
       "      <td>need pill increase performance click  seroius ...</td>\n",
       "      <td>1</td>\n",
       "    </tr>\n",
       "    <tr>\n",
       "      <th>33343</th>\n",
       "      <td>datee final nom       inlet hpl  eastrans  car...</td>\n",
       "      <td>0</td>\n",
       "    </tr>\n",
       "    <tr>\n",
       "      <th>33344</th>\n",
       "      <td>ordinall time  offering male enhancement perfo...</td>\n",
       "      <td>1</td>\n",
       "    </tr>\n",
       "  </tbody>\n",
       "</table>\n",
       "<p>33341 rows × 2 columns</p>\n",
       "</div>"
      ],
      "text/plain": [
       "                                                   email  target\n",
       "0      start date     hourahead timee  cardinall  hou...       0\n",
       "1      service long desk  price structure deal quote ...       0\n",
       "2      start date  cardinall    hourahead timee  card...       0\n",
       "3      start date     hourahead timee  cardinall  anc...       0\n",
       "4      cardinall deliverable revenue management marke...       0\n",
       "...                                                  ...     ...\n",
       "33340  bio  matrix scientific group   symbo   bmxg  p...       1\n",
       "33341   cardinall step away hot naked webcam girl liv...       1\n",
       "33342  need pill increase performance click  seroius ...       1\n",
       "33343  datee final nom       inlet hpl  eastrans  car...       0\n",
       "33344  ordinall time  offering male enhancement perfo...       1\n",
       "\n",
       "[33341 rows x 2 columns]"
      ]
     },
     "execution_count": 2,
     "metadata": {},
     "output_type": "execute_result"
    }
   ],
   "source": [
    "database = pd.read_csv(\"../../Database/dataBaseWithNER.csv\")\n",
    "\n",
    "database = database.drop(columns=[\"Unnamed: 0\"])\n",
    "database = database.dropna()\n",
    "target = database[\"target\"].values.tolist()\n",
    "database"
   ]
  },
  {
   "cell_type": "code",
   "execution_count": 3,
   "metadata": {
    "collapsed": false,
    "pycharm": {
     "name": "#%%\n"
    }
   },
   "outputs": [],
   "source": [
    "emailsText = []\n",
    "for email in database[\"email\"]:\n",
    "    emailsText.append(email)"
   ]
  },
  {
   "cell_type": "code",
   "execution_count": 4,
   "metadata": {
    "collapsed": false,
    "pycharm": {
     "name": "#%%\n"
    }
   },
   "outputs": [
    {
     "name": "stdout",
     "output_type": "stream",
     "text": [
      "33341\n"
     ]
    }
   ],
   "source": [
    "print(len(emailsText))"
   ]
  },
  {
   "cell_type": "markdown",
   "metadata": {
    "collapsed": false,
    "pycharm": {
     "name": "#%% md\n"
    }
   },
   "source": [
    "# Representação vetorial BERT"
   ]
  },
  {
   "cell_type": "code",
   "execution_count": 5,
   "metadata": {
    "collapsed": false,
    "pycharm": {
     "name": "#%%\n"
    }
   },
   "outputs": [
    {
     "name": "stderr",
     "output_type": "stream",
     "text": [
      "Some weights of the model checkpoint at bert-base-uncased were not used when initializing BertForTextRepresentation: ['cls.predictions.decoder.weight', 'cls.predictions.transform.LayerNorm.bias', 'cls.predictions.transform.dense.weight', 'cls.predictions.transform.LayerNorm.weight', 'cls.seq_relationship.weight', 'cls.seq_relationship.bias', 'cls.predictions.transform.dense.bias', 'cls.predictions.bias']\n",
      "- This IS expected if you are initializing BertForTextRepresentation from the checkpoint of a model trained on another task or with another architecture (e.g. initializing a BertForSequenceClassification model from a BertForPreTraining model).\n",
      "- This IS NOT expected if you are initializing BertForTextRepresentation from the checkpoint of a model that you expect to be exactly identical (initializing a BertForSequenceClassification model from a BertForSequenceClassification model).\n"
     ]
    },
    {
     "data": {
      "text/plain": [
       "(33341, 768)"
      ]
     },
     "execution_count": 5,
     "metadata": {},
     "output_type": "execute_result"
    }
   ],
   "source": [
    "model=RepresentationModel(\n",
    "    model_type=\"bert\",\n",
    "    model_name=\"bert-base-uncased\",\n",
    "    use_cuda=True,\n",
    "    #fp16=True\n",
    ")\n",
    "\n",
    "vectorialRepresentation = model.encode_sentences(emailsText, combine_strategy=\"mean\")\n",
    "vectorialRepresentation.shape"
   ]
  },
  {
   "cell_type": "code",
   "execution_count": 6,
   "metadata": {
    "collapsed": false,
    "pycharm": {
     "name": "#%%\n"
    }
   },
   "outputs": [
    {
     "data": {
      "text/html": [
       "<div>\n",
       "<style scoped>\n",
       "    .dataframe tbody tr th:only-of-type {\n",
       "        vertical-align: middle;\n",
       "    }\n",
       "\n",
       "    .dataframe tbody tr th {\n",
       "        vertical-align: top;\n",
       "    }\n",
       "\n",
       "    .dataframe thead th {\n",
       "        text-align: right;\n",
       "    }\n",
       "</style>\n",
       "<table border=\"1\" class=\"dataframe\">\n",
       "  <thead>\n",
       "    <tr style=\"text-align: right;\">\n",
       "      <th></th>\n",
       "      <th>0</th>\n",
       "      <th>1</th>\n",
       "      <th>2</th>\n",
       "      <th>3</th>\n",
       "      <th>4</th>\n",
       "      <th>5</th>\n",
       "      <th>6</th>\n",
       "      <th>7</th>\n",
       "      <th>8</th>\n",
       "      <th>9</th>\n",
       "      <th>...</th>\n",
       "      <th>758</th>\n",
       "      <th>759</th>\n",
       "      <th>760</th>\n",
       "      <th>761</th>\n",
       "      <th>762</th>\n",
       "      <th>763</th>\n",
       "      <th>764</th>\n",
       "      <th>765</th>\n",
       "      <th>766</th>\n",
       "      <th>767</th>\n",
       "    </tr>\n",
       "  </thead>\n",
       "  <tbody>\n",
       "    <tr>\n",
       "      <th>0</th>\n",
       "      <td>-0.159553</td>\n",
       "      <td>-0.150816</td>\n",
       "      <td>0.321128</td>\n",
       "      <td>0.112347</td>\n",
       "      <td>0.460089</td>\n",
       "      <td>0.077063</td>\n",
       "      <td>0.211739</td>\n",
       "      <td>0.108777</td>\n",
       "      <td>-0.041570</td>\n",
       "      <td>-0.183648</td>\n",
       "      <td>...</td>\n",
       "      <td>0.251322</td>\n",
       "      <td>-0.163090</td>\n",
       "      <td>-0.116672</td>\n",
       "      <td>-0.070897</td>\n",
       "      <td>-0.048261</td>\n",
       "      <td>-0.038046</td>\n",
       "      <td>-0.119423</td>\n",
       "      <td>-0.189979</td>\n",
       "      <td>-0.203577</td>\n",
       "      <td>0.074830</td>\n",
       "    </tr>\n",
       "    <tr>\n",
       "      <th>1</th>\n",
       "      <td>0.070952</td>\n",
       "      <td>0.006404</td>\n",
       "      <td>0.291190</td>\n",
       "      <td>-0.089379</td>\n",
       "      <td>0.006157</td>\n",
       "      <td>0.019440</td>\n",
       "      <td>0.109201</td>\n",
       "      <td>0.027035</td>\n",
       "      <td>0.204864</td>\n",
       "      <td>-0.180318</td>\n",
       "      <td>...</td>\n",
       "      <td>0.284078</td>\n",
       "      <td>-0.540378</td>\n",
       "      <td>0.049634</td>\n",
       "      <td>-0.095834</td>\n",
       "      <td>-0.203846</td>\n",
       "      <td>0.091198</td>\n",
       "      <td>-0.145186</td>\n",
       "      <td>-0.096682</td>\n",
       "      <td>-0.136018</td>\n",
       "      <td>0.060139</td>\n",
       "    </tr>\n",
       "    <tr>\n",
       "      <th>2</th>\n",
       "      <td>-0.151533</td>\n",
       "      <td>-0.164775</td>\n",
       "      <td>0.471505</td>\n",
       "      <td>-0.066886</td>\n",
       "      <td>0.267365</td>\n",
       "      <td>0.017289</td>\n",
       "      <td>-0.074813</td>\n",
       "      <td>0.166573</td>\n",
       "      <td>-0.042066</td>\n",
       "      <td>-0.080084</td>\n",
       "      <td>...</td>\n",
       "      <td>0.109013</td>\n",
       "      <td>-0.118258</td>\n",
       "      <td>-0.086663</td>\n",
       "      <td>-0.057181</td>\n",
       "      <td>0.129624</td>\n",
       "      <td>-0.022083</td>\n",
       "      <td>-0.200116</td>\n",
       "      <td>-0.175273</td>\n",
       "      <td>-0.030089</td>\n",
       "      <td>0.166042</td>\n",
       "    </tr>\n",
       "    <tr>\n",
       "      <th>3</th>\n",
       "      <td>-0.091716</td>\n",
       "      <td>-0.252400</td>\n",
       "      <td>0.291633</td>\n",
       "      <td>0.153981</td>\n",
       "      <td>0.285979</td>\n",
       "      <td>-0.033652</td>\n",
       "      <td>-0.024058</td>\n",
       "      <td>0.107529</td>\n",
       "      <td>-0.000421</td>\n",
       "      <td>-0.192826</td>\n",
       "      <td>...</td>\n",
       "      <td>0.225302</td>\n",
       "      <td>-0.128236</td>\n",
       "      <td>-0.235422</td>\n",
       "      <td>-0.151800</td>\n",
       "      <td>-0.025575</td>\n",
       "      <td>0.023563</td>\n",
       "      <td>0.072374</td>\n",
       "      <td>-0.086645</td>\n",
       "      <td>-0.004330</td>\n",
       "      <td>0.172868</td>\n",
       "    </tr>\n",
       "    <tr>\n",
       "      <th>4</th>\n",
       "      <td>-0.028898</td>\n",
       "      <td>-0.141465</td>\n",
       "      <td>0.607448</td>\n",
       "      <td>0.108890</td>\n",
       "      <td>0.401005</td>\n",
       "      <td>-0.087918</td>\n",
       "      <td>-0.108532</td>\n",
       "      <td>0.262347</td>\n",
       "      <td>-0.031500</td>\n",
       "      <td>-0.208509</td>\n",
       "      <td>...</td>\n",
       "      <td>-0.080739</td>\n",
       "      <td>-0.173417</td>\n",
       "      <td>0.043105</td>\n",
       "      <td>-0.124839</td>\n",
       "      <td>-0.122909</td>\n",
       "      <td>-0.152902</td>\n",
       "      <td>-0.130324</td>\n",
       "      <td>-0.272244</td>\n",
       "      <td>-0.106160</td>\n",
       "      <td>-0.142332</td>\n",
       "    </tr>\n",
       "    <tr>\n",
       "      <th>...</th>\n",
       "      <td>...</td>\n",
       "      <td>...</td>\n",
       "      <td>...</td>\n",
       "      <td>...</td>\n",
       "      <td>...</td>\n",
       "      <td>...</td>\n",
       "      <td>...</td>\n",
       "      <td>...</td>\n",
       "      <td>...</td>\n",
       "      <td>...</td>\n",
       "      <td>...</td>\n",
       "      <td>...</td>\n",
       "      <td>...</td>\n",
       "      <td>...</td>\n",
       "      <td>...</td>\n",
       "      <td>...</td>\n",
       "      <td>...</td>\n",
       "      <td>...</td>\n",
       "      <td>...</td>\n",
       "      <td>...</td>\n",
       "      <td>...</td>\n",
       "    </tr>\n",
       "    <tr>\n",
       "      <th>33336</th>\n",
       "      <td>-0.201098</td>\n",
       "      <td>-0.001969</td>\n",
       "      <td>0.590607</td>\n",
       "      <td>-0.040229</td>\n",
       "      <td>0.472562</td>\n",
       "      <td>0.059023</td>\n",
       "      <td>-0.223832</td>\n",
       "      <td>0.168828</td>\n",
       "      <td>-0.019873</td>\n",
       "      <td>-0.068376</td>\n",
       "      <td>...</td>\n",
       "      <td>-0.283860</td>\n",
       "      <td>0.086202</td>\n",
       "      <td>0.281307</td>\n",
       "      <td>0.030312</td>\n",
       "      <td>0.144898</td>\n",
       "      <td>-0.240447</td>\n",
       "      <td>-0.269988</td>\n",
       "      <td>-0.195940</td>\n",
       "      <td>-0.090486</td>\n",
       "      <td>-0.038796</td>\n",
       "    </tr>\n",
       "    <tr>\n",
       "      <th>33337</th>\n",
       "      <td>0.045740</td>\n",
       "      <td>-0.145608</td>\n",
       "      <td>0.600360</td>\n",
       "      <td>0.147581</td>\n",
       "      <td>0.138631</td>\n",
       "      <td>-0.070993</td>\n",
       "      <td>0.243974</td>\n",
       "      <td>0.133435</td>\n",
       "      <td>-0.177950</td>\n",
       "      <td>-0.203580</td>\n",
       "      <td>...</td>\n",
       "      <td>0.008339</td>\n",
       "      <td>-0.050872</td>\n",
       "      <td>0.085878</td>\n",
       "      <td>-0.260436</td>\n",
       "      <td>-0.009706</td>\n",
       "      <td>0.090684</td>\n",
       "      <td>-0.170141</td>\n",
       "      <td>-0.095879</td>\n",
       "      <td>-0.061790</td>\n",
       "      <td>-0.136188</td>\n",
       "    </tr>\n",
       "    <tr>\n",
       "      <th>33338</th>\n",
       "      <td>-0.052077</td>\n",
       "      <td>-0.027866</td>\n",
       "      <td>0.484033</td>\n",
       "      <td>0.026290</td>\n",
       "      <td>0.134793</td>\n",
       "      <td>0.034995</td>\n",
       "      <td>0.068102</td>\n",
       "      <td>0.120313</td>\n",
       "      <td>0.002370</td>\n",
       "      <td>-0.294557</td>\n",
       "      <td>...</td>\n",
       "      <td>-0.157311</td>\n",
       "      <td>-0.069535</td>\n",
       "      <td>0.014125</td>\n",
       "      <td>-0.028484</td>\n",
       "      <td>0.019479</td>\n",
       "      <td>-0.002767</td>\n",
       "      <td>-0.119000</td>\n",
       "      <td>0.022510</td>\n",
       "      <td>0.061531</td>\n",
       "      <td>0.090211</td>\n",
       "    </tr>\n",
       "    <tr>\n",
       "      <th>33339</th>\n",
       "      <td>-0.226731</td>\n",
       "      <td>-0.098042</td>\n",
       "      <td>0.446046</td>\n",
       "      <td>-0.028436</td>\n",
       "      <td>0.256239</td>\n",
       "      <td>0.029841</td>\n",
       "      <td>-0.050164</td>\n",
       "      <td>0.159660</td>\n",
       "      <td>0.134295</td>\n",
       "      <td>-0.035668</td>\n",
       "      <td>...</td>\n",
       "      <td>-0.012510</td>\n",
       "      <td>-0.048927</td>\n",
       "      <td>0.105833</td>\n",
       "      <td>-0.004867</td>\n",
       "      <td>0.282995</td>\n",
       "      <td>-0.077585</td>\n",
       "      <td>-0.224406</td>\n",
       "      <td>-0.029125</td>\n",
       "      <td>-0.032552</td>\n",
       "      <td>-0.195620</td>\n",
       "    </tr>\n",
       "    <tr>\n",
       "      <th>33340</th>\n",
       "      <td>-0.131574</td>\n",
       "      <td>0.001365</td>\n",
       "      <td>0.562816</td>\n",
       "      <td>0.016460</td>\n",
       "      <td>0.139342</td>\n",
       "      <td>-0.102343</td>\n",
       "      <td>0.267333</td>\n",
       "      <td>0.035853</td>\n",
       "      <td>0.026673</td>\n",
       "      <td>-0.307652</td>\n",
       "      <td>...</td>\n",
       "      <td>-0.101275</td>\n",
       "      <td>-0.228573</td>\n",
       "      <td>0.278669</td>\n",
       "      <td>0.035750</td>\n",
       "      <td>-0.072624</td>\n",
       "      <td>0.044863</td>\n",
       "      <td>-0.259149</td>\n",
       "      <td>-0.250667</td>\n",
       "      <td>-0.136758</td>\n",
       "      <td>-0.125811</td>\n",
       "    </tr>\n",
       "  </tbody>\n",
       "</table>\n",
       "<p>33341 rows × 768 columns</p>\n",
       "</div>"
      ],
      "text/plain": [
       "            0         1         2         3         4         5         6    \\\n",
       "0     -0.159553 -0.150816  0.321128  0.112347  0.460089  0.077063  0.211739   \n",
       "1      0.070952  0.006404  0.291190 -0.089379  0.006157  0.019440  0.109201   \n",
       "2     -0.151533 -0.164775  0.471505 -0.066886  0.267365  0.017289 -0.074813   \n",
       "3     -0.091716 -0.252400  0.291633  0.153981  0.285979 -0.033652 -0.024058   \n",
       "4     -0.028898 -0.141465  0.607448  0.108890  0.401005 -0.087918 -0.108532   \n",
       "...         ...       ...       ...       ...       ...       ...       ...   \n",
       "33336 -0.201098 -0.001969  0.590607 -0.040229  0.472562  0.059023 -0.223832   \n",
       "33337  0.045740 -0.145608  0.600360  0.147581  0.138631 -0.070993  0.243974   \n",
       "33338 -0.052077 -0.027866  0.484033  0.026290  0.134793  0.034995  0.068102   \n",
       "33339 -0.226731 -0.098042  0.446046 -0.028436  0.256239  0.029841 -0.050164   \n",
       "33340 -0.131574  0.001365  0.562816  0.016460  0.139342 -0.102343  0.267333   \n",
       "\n",
       "            7         8         9    ...       758       759       760  \\\n",
       "0      0.108777 -0.041570 -0.183648  ...  0.251322 -0.163090 -0.116672   \n",
       "1      0.027035  0.204864 -0.180318  ...  0.284078 -0.540378  0.049634   \n",
       "2      0.166573 -0.042066 -0.080084  ...  0.109013 -0.118258 -0.086663   \n",
       "3      0.107529 -0.000421 -0.192826  ...  0.225302 -0.128236 -0.235422   \n",
       "4      0.262347 -0.031500 -0.208509  ... -0.080739 -0.173417  0.043105   \n",
       "...         ...       ...       ...  ...       ...       ...       ...   \n",
       "33336  0.168828 -0.019873 -0.068376  ... -0.283860  0.086202  0.281307   \n",
       "33337  0.133435 -0.177950 -0.203580  ...  0.008339 -0.050872  0.085878   \n",
       "33338  0.120313  0.002370 -0.294557  ... -0.157311 -0.069535  0.014125   \n",
       "33339  0.159660  0.134295 -0.035668  ... -0.012510 -0.048927  0.105833   \n",
       "33340  0.035853  0.026673 -0.307652  ... -0.101275 -0.228573  0.278669   \n",
       "\n",
       "            761       762       763       764       765       766       767  \n",
       "0     -0.070897 -0.048261 -0.038046 -0.119423 -0.189979 -0.203577  0.074830  \n",
       "1     -0.095834 -0.203846  0.091198 -0.145186 -0.096682 -0.136018  0.060139  \n",
       "2     -0.057181  0.129624 -0.022083 -0.200116 -0.175273 -0.030089  0.166042  \n",
       "3     -0.151800 -0.025575  0.023563  0.072374 -0.086645 -0.004330  0.172868  \n",
       "4     -0.124839 -0.122909 -0.152902 -0.130324 -0.272244 -0.106160 -0.142332  \n",
       "...         ...       ...       ...       ...       ...       ...       ...  \n",
       "33336  0.030312  0.144898 -0.240447 -0.269988 -0.195940 -0.090486 -0.038796  \n",
       "33337 -0.260436 -0.009706  0.090684 -0.170141 -0.095879 -0.061790 -0.136188  \n",
       "33338 -0.028484  0.019479 -0.002767 -0.119000  0.022510  0.061531  0.090211  \n",
       "33339 -0.004867  0.282995 -0.077585 -0.224406 -0.029125 -0.032552 -0.195620  \n",
       "33340  0.035750 -0.072624  0.044863 -0.259149 -0.250667 -0.136758 -0.125811  \n",
       "\n",
       "[33341 rows x 768 columns]"
      ]
     },
     "execution_count": 6,
     "metadata": {},
     "output_type": "execute_result"
    }
   ],
   "source": [
    "bertDataframe = pd.DataFrame(vectorialRepresentation)\n",
    "bertDataframe"
   ]
  },
  {
   "cell_type": "markdown",
   "metadata": {
    "collapsed": false,
    "pycharm": {
     "name": "#%% md\n"
    }
   },
   "source": [
    "# Visualização de dados com TSNE"
   ]
  },
  {
   "cell_type": "code",
   "execution_count": 7,
   "metadata": {
    "collapsed": false,
    "pycharm": {
     "name": "#%%\n"
    }
   },
   "outputs": [
    {
     "name": "stderr",
     "output_type": "stream",
     "text": [
      "C:\\Users\\victo\\anaconda3\\envs\\conda_data_science_gpu_on_torch\\lib\\site-packages\\sklearn\\manifold\\_t_sne.py:780: FutureWarning: The default initialization in TSNE will change from 'random' to 'pca' in 1.2.\n",
      "  warnings.warn(\n",
      "C:\\Users\\victo\\anaconda3\\envs\\conda_data_science_gpu_on_torch\\lib\\site-packages\\sklearn\\manifold\\_t_sne.py:790: FutureWarning: The default learning rate in TSNE will change from 200.0 to 'auto' in 1.2.\n",
      "  warnings.warn(\n"
     ]
    },
    {
     "name": "stdout",
     "output_type": "stream",
     "text": [
      "               0          1  Target\n",
      "0     -70.724075 -24.477068       0\n",
      "1      -7.011187 -35.535732       0\n",
      "2      45.390484 -45.507298       0\n",
      "3       5.692472 -70.105087       0\n",
      "4       8.255614 -24.578735       0\n",
      "...          ...        ...     ...\n",
      "33336  51.286816  40.035370       1\n",
      "33337 -31.914318  -2.958850       1\n",
      "33338 -31.201080 -12.321815       1\n",
      "33339  21.174614 -47.474796       0\n",
      "33340 -19.297724  25.388149       1\n",
      "\n",
      "[33341 rows x 3 columns]\n"
     ]
    }
   ],
   "source": [
    "model = TSNE(n_components=2, random_state=0)\n",
    "array_red = model.fit_transform(bertDataframe)\n",
    "\n",
    "df_tsne = pd.DataFrame(array_red)\n",
    "\n",
    "df_tsne['Target'] = target\n",
    "print(df_tsne)"
   ]
  },
  {
   "cell_type": "markdown",
   "metadata": {
    "collapsed": false,
    "pycharm": {
     "name": "#%% md\n"
    }
   },
   "source": []
  },
  {
   "cell_type": "markdown",
   "metadata": {
    "collapsed": false,
    "pycharm": {
     "name": "#%% md\n"
    }
   },
   "source": []
  },
  {
   "cell_type": "code",
   "execution_count": 8,
   "metadata": {
    "collapsed": false,
    "pycharm": {
     "name": "#%%\n"
    }
   },
   "outputs": [
    {
     "data": {
      "image/png": "[encoded data removed]",
      "text/plain": [
       "<Figure size 432x288 with 1 Axes>"
      ]
     },
     "metadata": {
      "needs_background": "light"
     },
     "output_type": "display_data"
    }
   ],
   "source": [
    "df_tsne_c1 = df_tsne[df_tsne['Target'] == 0]\n",
    "\n",
    "df_tsne_c2 = df_tsne[df_tsne['Target'] == 1]\n",
    "\n",
    "plt.scatter(df_tsne_c1[0].array,df_tsne_c1[1].array,marker='o',color='blue')\n",
    "\n",
    "plt.scatter(df_tsne_c2[0].array,df_tsne_c2[1].array,marker='o',color='red')\n",
    "\n",
    "plt.title('Dados')\n",
    "plt.xlabel('x')\n",
    "plt.ylabel('y')\n",
    "\n",
    "plt.show()"
   ]
  },
  {
   "cell_type": "markdown",
   "metadata": {
    "collapsed": false,
    "pycharm": {
     "name": "#%% md\n"
    }
   },
   "source": [
    "# Validação"
   ]
  },
  {
   "cell_type": "code",
   "execution_count": 9,
   "metadata": {
    "collapsed": false,
    "pycharm": {
     "name": "#%%\n"
    }
   },
   "outputs": [],
   "source": [
    "def getModel():\n",
    "    return RandomForestClassifier()"
   ]
  },
  {
   "cell_type": "code",
   "execution_count": 10,
   "metadata": {
    "collapsed": false,
    "pycharm": {
     "name": "#%%\n"
    }
   },
   "outputs": [
    {
     "data": {
      "text/plain": [
       "0.9641625431099116"
      ]
     },
     "execution_count": 10,
     "metadata": {},
     "output_type": "execute_result"
    }
   ],
   "source": [
    "X_treino, X_teste, y_treino, y_teste = train_test_split(bertDataframe.values,target,test_size=0.2)\n",
    "modelo = getModel().fit(X_treino,y_treino)\n",
    "score = modelo.score(X_teste,y_teste)\n",
    "score"
   ]
  },
  {
   "cell_type": "code",
   "execution_count": 11,
   "metadata": {
    "collapsed": false,
    "pycharm": {
     "name": "#%%\n"
    }
   },
   "outputs": [
    {
     "data": {
      "text/plain": [
       "0.9679673690449316"
      ]
     },
     "execution_count": 11,
     "metadata": {},
     "output_type": "execute_result"
    }
   ],
   "source": [
    "scores = cross_val_score(getModel(),bertDataframe.values,target,cv=10)\n",
    "\n",
    "scores.mean()"
   ]
  },
  {
   "cell_type": "code",
   "execution_count": 12,
   "metadata": {
    "collapsed": false,
    "pycharm": {
     "name": "#%%\n"
    }
   },
   "outputs": [],
   "source": [
    "predicoes = cross_val_predict(getModel(), bertDataframe.values, target, cv=10)"
   ]
  },
  {
   "cell_type": "code",
   "execution_count": 13,
   "metadata": {
    "collapsed": false,
    "pycharm": {
     "name": "#%%\n"
    }
   },
   "outputs": [
    {
     "name": "stdout",
     "output_type": "stream",
     "text": [
      "\n",
      "Classification Report : \n",
      "              precision    recall  f1-score   support\n",
      "\n",
      "         Ham       0.97      0.96      0.97     16493\n",
      "        Spam       0.96      0.97      0.97     16848\n",
      "\n",
      "    accuracy                           0.97     33341\n",
      "   macro avg       0.97      0.97      0.97     33341\n",
      "weighted avg       0.97      0.97      0.97     33341\n",
      "\n"
     ]
    }
   ],
   "source": [
    "print(\"\\nClassification Report : \")\n",
    "print(classification_report(target, predicoes, target_names=[\"Ham\", \"Spam\"]))"
   ]
  },
  {
   "cell_type": "code",
   "execution_count": 14,
   "metadata": {
    "collapsed": false,
    "pycharm": {
     "name": "#%%\n"
    }
   },
   "outputs": [
    {
     "data": {
      "text/plain": [
       "(array([0, 1]), [Text(0, 0, 'Ham'), Text(1, 0, 'Spam')])"
      ]
     },
     "execution_count": 14,
     "metadata": {},
     "output_type": "execute_result"
    },
    {
     "data": {
      "image/png": "[encoded data removed]",
      "text/plain": [
       "<Figure size 360x360 with 2 Axes>"
      ]
     },
     "metadata": {
      "needs_background": "light"
     },
     "output_type": "display_data"
    }
   ],
   "source": [
    "categories = [\"Ham\", \"Spam\"]\n",
    "\n",
    "skplt.metrics.plot_confusion_matrix(\n",
    "    [categories[i] for i in target], [categories[i] for i in predicoes.tolist()],\n",
    "    title=\"Confusion Matrix\",\n",
    "    cmap=\"Purples\",\n",
    "    hide_zeros=True,\n",
    "    figsize=(5,5)\n",
    ")\n",
    "\n",
    "plt.xticks()"
   ]
  },
  {
   "cell_type": "code",
   "execution_count": 15,
   "metadata": {
    "collapsed": false,
    "pycharm": {
     "name": "#%%\n"
    }
   },
   "outputs": [
    {
     "data": {
      "text/plain": [
       "(array([0, 1]), [Text(0, 0, 'Ham'), Text(1, 0, 'Spam')])"
      ]
     },
     "execution_count": 15,
     "metadata": {},
     "output_type": "execute_result"
    },
    {
     "data": {
      "image/png": "[encoded data removed]",
      "text/plain": [
       "<Figure size 360x360 with 2 Axes>"
      ]
     },
     "metadata": {
      "needs_background": "light"
     },
     "output_type": "display_data"
    }
   ],
   "source": [
    "skplt.metrics.plot_confusion_matrix(\n",
    "    [categories[i] for i in target], [categories[i] for i in predicoes.tolist()],\n",
    "    normalize=True,\n",
    "    title=\"Confusion Matrix\",\n",
    "    cmap=\"Purples\",\n",
    "    hide_zeros=True,\n",
    "    figsize=(5,5)\n",
    ")\n",
    "\n",
    "plt.xticks()"
   ]
  }
 ],
 "metadata": {
  "kernelspec": {
   "display_name": "Python 3",
   "language": "python",
   "name": "python3"
  },
  "language_info": {
   "codemirror_mode": {
    "name": "ipython",
    "version": 3
   },
   "file_extension": ".py",
   "mimetype": "text/x-python",
   "name": "python",
   "nbconvert_exporter": "python",
   "pygments_lexer": "ipython3",
   "version": "3.9.12"
  }
 },
 "nbformat": 4,
 "nbformat_minor": 1
}
