{
 "cells": [
  {
   "cell_type": "code",
   "execution_count": 1,
   "outputs": [],
   "source": [
    "import pandas as pd\n",
    "from sklearn.tree import DecisionTreeClassifier\n",
    "from sklearn.model_selection import train_test_split, cross_val_score, cross_val_predict\n",
    "from sklearn.manifold import TSNE\n",
    "from sklearn.metrics import  classification_report\n",
    "import matplotlib.pyplot as plt\n",
    "import scikitplot as skplt\n",
    "from simpletransformers.language_representation import RepresentationModel"
   ],
   "metadata": {
    "collapsed": false,
    "pycharm": {
     "name": "#%%\n"
    }
   }
  },
  {
   "cell_type": "markdown",
   "source": [
    "# Carregando base de dados  pré-processada"
   ],
   "metadata": {
    "collapsed": false,
    "pycharm": {
     "name": "#%% md\n"
    }
   }
  },
  {
   "cell_type": "code",
   "execution_count": 2,
   "outputs": [
    {
     "data": {
      "text/plain": "                                                   email  target\n0      start date     hourahead timee  cardinall  hou...       0\n1      service long desk  price structure deal quote ...       0\n2      start date  cardinall    hourahead timee  card...       0\n3      start date     hourahead timee  cardinall  anc...       0\n4      cardinall deliverable revenue management marke...       0\n...                                                  ...     ...\n33340  bio  matrix scientific group   symbo   bmxg  p...       1\n33341   cardinall step away hot naked webcam girl liv...       1\n33342  need pill increase performance click  seroius ...       1\n33343  datee final nom       inlet hpl  eastrans  car...       0\n33344  ordinall time  offering male enhancement perfo...       1\n\n[33341 rows x 2 columns]",
      "text/html": "<div>\n<style scoped>\n    .dataframe tbody tr th:only-of-type {\n        vertical-align: middle;\n    }\n\n    .dataframe tbody tr th {\n        vertical-align: top;\n    }\n\n    .dataframe thead th {\n        text-align: right;\n    }\n</style>\n<table border=\"1\" class=\"dataframe\">\n  <thead>\n    <tr style=\"text-align: right;\">\n      <th></th>\n      <th>email</th>\n      <th>target</th>\n    </tr>\n  </thead>\n  <tbody>\n    <tr>\n      <th>0</th>\n      <td>start date     hourahead timee  cardinall  hou...</td>\n      <td>0</td>\n    </tr>\n    <tr>\n      <th>1</th>\n      <td>service long desk  price structure deal quote ...</td>\n      <td>0</td>\n    </tr>\n    <tr>\n      <th>2</th>\n      <td>start date  cardinall    hourahead timee  card...</td>\n      <td>0</td>\n    </tr>\n    <tr>\n      <th>3</th>\n      <td>start date     hourahead timee  cardinall  anc...</td>\n      <td>0</td>\n    </tr>\n    <tr>\n      <th>4</th>\n      <td>cardinall deliverable revenue management marke...</td>\n      <td>0</td>\n    </tr>\n    <tr>\n      <th>...</th>\n      <td>...</td>\n      <td>...</td>\n    </tr>\n    <tr>\n      <th>33340</th>\n      <td>bio  matrix scientific group   symbo   bmxg  p...</td>\n      <td>1</td>\n    </tr>\n    <tr>\n      <th>33341</th>\n      <td>cardinall step away hot naked webcam girl liv...</td>\n      <td>1</td>\n    </tr>\n    <tr>\n      <th>33342</th>\n      <td>need pill increase performance click  seroius ...</td>\n      <td>1</td>\n    </tr>\n    <tr>\n      <th>33343</th>\n      <td>datee final nom       inlet hpl  eastrans  car...</td>\n      <td>0</td>\n    </tr>\n    <tr>\n      <th>33344</th>\n      <td>ordinall time  offering male enhancement perfo...</td>\n      <td>1</td>\n    </tr>\n  </tbody>\n</table>\n<p>33341 rows × 2 columns</p>\n</div>"
     },
     "execution_count": 2,
     "metadata": {},
     "output_type": "execute_result"
    }
   ],
   "source": [
    "database = pd.read_csv(\"../../Database/dataBaseWithNER.csv\")\n",
    "\n",
    "database = database.drop(columns=[\"Unnamed: 0\"])\n",
    "database = database.dropna()\n",
    "target = database[\"target\"].values.tolist()\n",
    "database"
   ],
   "metadata": {
    "collapsed": false,
    "pycharm": {
     "name": "#%%\n"
    }
   }
  },
  {
   "cell_type": "code",
   "execution_count": 3,
   "outputs": [],
   "source": [
    "emailsText = []\n",
    "for email in database[\"email\"]:\n",
    "    emailsText.append(email)"
   ],
   "metadata": {
    "collapsed": false,
    "pycharm": {
     "name": "#%%\n"
    }
   }
  },
  {
   "cell_type": "code",
   "execution_count": 4,
   "outputs": [
    {
     "name": "stdout",
     "output_type": "stream",
     "text": [
      "33341\n"
     ]
    }
   ],
   "source": [
    "print(len(emailsText))"
   ],
   "metadata": {
    "collapsed": false,
    "pycharm": {
     "name": "#%%\n"
    }
   }
  },
  {
   "cell_type": "markdown",
   "source": [
    "# Representação vetorial BERT"
   ],
   "metadata": {
    "collapsed": false,
    "pycharm": {
     "name": "#%% md\n"
    }
   }
  },
  {
   "cell_type": "code",
   "execution_count": 5,
   "outputs": [
    {
     "name": "stderr",
     "output_type": "stream",
     "text": [
      "Some weights of the model checkpoint at bert-base-uncased were not used when initializing BertForTextRepresentation: ['cls.predictions.transform.LayerNorm.bias', 'cls.seq_relationship.bias', 'cls.seq_relationship.weight', 'cls.predictions.decoder.weight', 'cls.predictions.bias', 'cls.predictions.transform.LayerNorm.weight', 'cls.predictions.transform.dense.weight', 'cls.predictions.transform.dense.bias']\n",
      "- This IS expected if you are initializing BertForTextRepresentation from the checkpoint of a model trained on another task or with another architecture (e.g. initializing a BertForSequenceClassification model from a BertForPreTraining model).\n",
      "- This IS NOT expected if you are initializing BertForTextRepresentation from the checkpoint of a model that you expect to be exactly identical (initializing a BertForSequenceClassification model from a BertForSequenceClassification model).\n"
     ]
    },
    {
     "data": {
      "text/plain": "(33341, 768)"
     },
     "execution_count": 5,
     "metadata": {},
     "output_type": "execute_result"
    }
   ],
   "source": [
    "model=RepresentationModel(\n",
    "    model_type=\"bert\",\n",
    "    model_name=\"bert-base-uncased\",\n",
    "    use_cuda=True,\n",
    "    #fp16=True\n",
    ")\n",
    "\n",
    "vectorialRepresentation = model.encode_sentences(emailsText, combine_strategy=\"mean\")\n",
    "vectorialRepresentation.shape"
   ],
   "metadata": {
    "collapsed": false,
    "pycharm": {
     "name": "#%%\n"
    }
   }
  },
  {
   "cell_type": "code",
   "execution_count": 6,
   "outputs": [
    {
     "data": {
      "text/plain": "            0         1         2         3         4         5         6    \\\n0     -0.159428 -0.150673  0.320971  0.112358  0.459967  0.077280  0.211645   \n1      0.071051  0.006274  0.291100 -0.089434  0.006165  0.019528  0.109083   \n2     -0.151653 -0.164808  0.471539 -0.066901  0.267297  0.017360 -0.074956   \n3     -0.091722 -0.252287  0.291835  0.154237  0.285827 -0.033622 -0.024027   \n4     -0.028974 -0.141580  0.607358  0.108809  0.400952 -0.087711 -0.108502   \n...         ...       ...       ...       ...       ...       ...       ...   \n33336 -0.201023 -0.001996  0.590600 -0.040250  0.472595  0.059005 -0.223889   \n33337  0.045905 -0.145504  0.600411  0.147447  0.138597 -0.070919  0.243944   \n33338 -0.052234 -0.027882  0.484133  0.026257  0.134670  0.035107  0.068209   \n33339 -0.226833 -0.098093  0.445973 -0.028613  0.256372  0.029888 -0.050134   \n33340 -0.131739  0.001401  0.562934  0.016376  0.139309 -0.102250  0.267339   \n\n            7         8         9    ...       758       759       760  \\\n0      0.108739 -0.041492 -0.183632  ...  0.251432 -0.163091 -0.116690   \n1      0.026950  0.204912 -0.180139  ...  0.284122 -0.540412  0.049729   \n2      0.166499 -0.042147 -0.080027  ...  0.109118 -0.118454 -0.086577   \n3      0.107403 -0.000545 -0.192616  ...  0.225206 -0.128331 -0.235366   \n4      0.262436 -0.031409 -0.208465  ... -0.080698 -0.173298  0.043021   \n...         ...       ...       ...  ...       ...       ...       ...   \n33336  0.168916 -0.019692 -0.068533  ... -0.283789  0.086214  0.281354   \n33337  0.133416 -0.177918 -0.203445  ...  0.008279 -0.050800  0.085909   \n33338  0.120231  0.002479 -0.294419  ... -0.157346 -0.069377  0.014211   \n33339  0.159709  0.134332 -0.035709  ... -0.012439 -0.048856  0.105855   \n33340  0.035725  0.026772 -0.307518  ... -0.101262 -0.228757  0.278900   \n\n            761       762       763       764       765       766       767  \n0     -0.070913 -0.048259 -0.037924 -0.119490 -0.189950 -0.203662  0.074954  \n1     -0.095771 -0.203890  0.091056 -0.145161 -0.096876 -0.135908  0.060218  \n2     -0.057226  0.129574 -0.021993 -0.200361 -0.175351 -0.030066  0.166013  \n3     -0.151748 -0.025532  0.023671  0.072414 -0.086625 -0.004205  0.172869  \n4     -0.124838 -0.122861 -0.152739 -0.130289 -0.272174 -0.106081 -0.142323  \n...         ...       ...       ...       ...       ...       ...       ...  \n33336  0.030180  0.144887 -0.240283 -0.269940 -0.195859 -0.090531 -0.038818  \n33337 -0.260432 -0.009710  0.090369 -0.170151 -0.095905 -0.061700 -0.136271  \n33338 -0.028526  0.019504 -0.002726 -0.118924  0.022453  0.061370  0.090219  \n33339 -0.005054  0.283087 -0.077617 -0.224488 -0.029133 -0.032732 -0.195680  \n33340  0.035723 -0.072525  0.044891 -0.259199 -0.250731 -0.136858 -0.125877  \n\n[33341 rows x 768 columns]",
      "text/html": "<div>\n<style scoped>\n    .dataframe tbody tr th:only-of-type {\n        vertical-align: middle;\n    }\n\n    .dataframe tbody tr th {\n        vertical-align: top;\n    }\n\n    .dataframe thead th {\n        text-align: right;\n    }\n</style>\n<table border=\"1\" class=\"dataframe\">\n  <thead>\n    <tr style=\"text-align: right;\">\n      <th></th>\n      <th>0</th>\n      <th>1</th>\n      <th>2</th>\n      <th>3</th>\n      <th>4</th>\n      <th>5</th>\n      <th>6</th>\n      <th>7</th>\n      <th>8</th>\n      <th>9</th>\n      <th>...</th>\n      <th>758</th>\n      <th>759</th>\n      <th>760</th>\n      <th>761</th>\n      <th>762</th>\n      <th>763</th>\n      <th>764</th>\n      <th>765</th>\n      <th>766</th>\n      <th>767</th>\n    </tr>\n  </thead>\n  <tbody>\n    <tr>\n      <th>0</th>\n      <td>-0.159428</td>\n      <td>-0.150673</td>\n      <td>0.320971</td>\n      <td>0.112358</td>\n      <td>0.459967</td>\n      <td>0.077280</td>\n      <td>0.211645</td>\n      <td>0.108739</td>\n      <td>-0.041492</td>\n      <td>-0.183632</td>\n      <td>...</td>\n      <td>0.251432</td>\n      <td>-0.163091</td>\n      <td>-0.116690</td>\n      <td>-0.070913</td>\n      <td>-0.048259</td>\n      <td>-0.037924</td>\n      <td>-0.119490</td>\n      <td>-0.189950</td>\n      <td>-0.203662</td>\n      <td>0.074954</td>\n    </tr>\n    <tr>\n      <th>1</th>\n      <td>0.071051</td>\n      <td>0.006274</td>\n      <td>0.291100</td>\n      <td>-0.089434</td>\n      <td>0.006165</td>\n      <td>0.019528</td>\n      <td>0.109083</td>\n      <td>0.026950</td>\n      <td>0.204912</td>\n      <td>-0.180139</td>\n      <td>...</td>\n      <td>0.284122</td>\n      <td>-0.540412</td>\n      <td>0.049729</td>\n      <td>-0.095771</td>\n      <td>-0.203890</td>\n      <td>0.091056</td>\n      <td>-0.145161</td>\n      <td>-0.096876</td>\n      <td>-0.135908</td>\n      <td>0.060218</td>\n    </tr>\n    <tr>\n      <th>2</th>\n      <td>-0.151653</td>\n      <td>-0.164808</td>\n      <td>0.471539</td>\n      <td>-0.066901</td>\n      <td>0.267297</td>\n      <td>0.017360</td>\n      <td>-0.074956</td>\n      <td>0.166499</td>\n      <td>-0.042147</td>\n      <td>-0.080027</td>\n      <td>...</td>\n      <td>0.109118</td>\n      <td>-0.118454</td>\n      <td>-0.086577</td>\n      <td>-0.057226</td>\n      <td>0.129574</td>\n      <td>-0.021993</td>\n      <td>-0.200361</td>\n      <td>-0.175351</td>\n      <td>-0.030066</td>\n      <td>0.166013</td>\n    </tr>\n    <tr>\n      <th>3</th>\n      <td>-0.091722</td>\n      <td>-0.252287</td>\n      <td>0.291835</td>\n      <td>0.154237</td>\n      <td>0.285827</td>\n      <td>-0.033622</td>\n      <td>-0.024027</td>\n      <td>0.107403</td>\n      <td>-0.000545</td>\n      <td>-0.192616</td>\n      <td>...</td>\n      <td>0.225206</td>\n      <td>-0.128331</td>\n      <td>-0.235366</td>\n      <td>-0.151748</td>\n      <td>-0.025532</td>\n      <td>0.023671</td>\n      <td>0.072414</td>\n      <td>-0.086625</td>\n      <td>-0.004205</td>\n      <td>0.172869</td>\n    </tr>\n    <tr>\n      <th>4</th>\n      <td>-0.028974</td>\n      <td>-0.141580</td>\n      <td>0.607358</td>\n      <td>0.108809</td>\n      <td>0.400952</td>\n      <td>-0.087711</td>\n      <td>-0.108502</td>\n      <td>0.262436</td>\n      <td>-0.031409</td>\n      <td>-0.208465</td>\n      <td>...</td>\n      <td>-0.080698</td>\n      <td>-0.173298</td>\n      <td>0.043021</td>\n      <td>-0.124838</td>\n      <td>-0.122861</td>\n      <td>-0.152739</td>\n      <td>-0.130289</td>\n      <td>-0.272174</td>\n      <td>-0.106081</td>\n      <td>-0.142323</td>\n    </tr>\n    <tr>\n      <th>...</th>\n      <td>...</td>\n      <td>...</td>\n      <td>...</td>\n      <td>...</td>\n      <td>...</td>\n      <td>...</td>\n      <td>...</td>\n      <td>...</td>\n      <td>...</td>\n      <td>...</td>\n      <td>...</td>\n      <td>...</td>\n      <td>...</td>\n      <td>...</td>\n      <td>...</td>\n      <td>...</td>\n      <td>...</td>\n      <td>...</td>\n      <td>...</td>\n      <td>...</td>\n      <td>...</td>\n    </tr>\n    <tr>\n      <th>33336</th>\n      <td>-0.201023</td>\n      <td>-0.001996</td>\n      <td>0.590600</td>\n      <td>-0.040250</td>\n      <td>0.472595</td>\n      <td>0.059005</td>\n      <td>-0.223889</td>\n      <td>0.168916</td>\n      <td>-0.019692</td>\n      <td>-0.068533</td>\n      <td>...</td>\n      <td>-0.283789</td>\n      <td>0.086214</td>\n      <td>0.281354</td>\n      <td>0.030180</td>\n      <td>0.144887</td>\n      <td>-0.240283</td>\n      <td>-0.269940</td>\n      <td>-0.195859</td>\n      <td>-0.090531</td>\n      <td>-0.038818</td>\n    </tr>\n    <tr>\n      <th>33337</th>\n      <td>0.045905</td>\n      <td>-0.145504</td>\n      <td>0.600411</td>\n      <td>0.147447</td>\n      <td>0.138597</td>\n      <td>-0.070919</td>\n      <td>0.243944</td>\n      <td>0.133416</td>\n      <td>-0.177918</td>\n      <td>-0.203445</td>\n      <td>...</td>\n      <td>0.008279</td>\n      <td>-0.050800</td>\n      <td>0.085909</td>\n      <td>-0.260432</td>\n      <td>-0.009710</td>\n      <td>0.090369</td>\n      <td>-0.170151</td>\n      <td>-0.095905</td>\n      <td>-0.061700</td>\n      <td>-0.136271</td>\n    </tr>\n    <tr>\n      <th>33338</th>\n      <td>-0.052234</td>\n      <td>-0.027882</td>\n      <td>0.484133</td>\n      <td>0.026257</td>\n      <td>0.134670</td>\n      <td>0.035107</td>\n      <td>0.068209</td>\n      <td>0.120231</td>\n      <td>0.002479</td>\n      <td>-0.294419</td>\n      <td>...</td>\n      <td>-0.157346</td>\n      <td>-0.069377</td>\n      <td>0.014211</td>\n      <td>-0.028526</td>\n      <td>0.019504</td>\n      <td>-0.002726</td>\n      <td>-0.118924</td>\n      <td>0.022453</td>\n      <td>0.061370</td>\n      <td>0.090219</td>\n    </tr>\n    <tr>\n      <th>33339</th>\n      <td>-0.226833</td>\n      <td>-0.098093</td>\n      <td>0.445973</td>\n      <td>-0.028613</td>\n      <td>0.256372</td>\n      <td>0.029888</td>\n      <td>-0.050134</td>\n      <td>0.159709</td>\n      <td>0.134332</td>\n      <td>-0.035709</td>\n      <td>...</td>\n      <td>-0.012439</td>\n      <td>-0.048856</td>\n      <td>0.105855</td>\n      <td>-0.005054</td>\n      <td>0.283087</td>\n      <td>-0.077617</td>\n      <td>-0.224488</td>\n      <td>-0.029133</td>\n      <td>-0.032732</td>\n      <td>-0.195680</td>\n    </tr>\n    <tr>\n      <th>33340</th>\n      <td>-0.131739</td>\n      <td>0.001401</td>\n      <td>0.562934</td>\n      <td>0.016376</td>\n      <td>0.139309</td>\n      <td>-0.102250</td>\n      <td>0.267339</td>\n      <td>0.035725</td>\n      <td>0.026772</td>\n      <td>-0.307518</td>\n      <td>...</td>\n      <td>-0.101262</td>\n      <td>-0.228757</td>\n      <td>0.278900</td>\n      <td>0.035723</td>\n      <td>-0.072525</td>\n      <td>0.044891</td>\n      <td>-0.259199</td>\n      <td>-0.250731</td>\n      <td>-0.136858</td>\n      <td>-0.125877</td>\n    </tr>\n  </tbody>\n</table>\n<p>33341 rows × 768 columns</p>\n</div>"
     },
     "execution_count": 6,
     "metadata": {},
     "output_type": "execute_result"
    }
   ],
   "source": [
    "bertDataframe = pd.DataFrame(vectorialRepresentation)\n",
    "bertDataframe"
   ],
   "metadata": {
    "collapsed": false,
    "pycharm": {
     "name": "#%%\n"
    }
   }
  },
  {
   "cell_type": "markdown",
   "source": [
    "# Visualização de dados com TSNE"
   ],
   "metadata": {
    "collapsed": false,
    "pycharm": {
     "name": "#%% md\n"
    }
   }
  },
  {
   "cell_type": "code",
   "execution_count": 7,
   "outputs": [
    {
     "name": "stderr",
     "output_type": "stream",
     "text": [
      "E:\\DevPack\\anaconda3\\envs\\data_science\\lib\\site-packages\\sklearn\\manifold\\_t_sne.py:780: FutureWarning: The default initialization in TSNE will change from 'random' to 'pca' in 1.2.\n",
      "  warnings.warn(\n",
      "E:\\DevPack\\anaconda3\\envs\\data_science\\lib\\site-packages\\sklearn\\manifold\\_t_sne.py:790: FutureWarning: The default learning rate in TSNE will change from 200.0 to 'auto' in 1.2.\n",
      "  warnings.warn(\n"
     ]
    },
    {
     "name": "stdout",
     "output_type": "stream",
     "text": [
      "Unexpected exception formatting exception. Falling back to standard exception\n"
     ]
    },
    {
     "name": "stderr",
     "output_type": "stream",
     "text": [
      "Traceback (most recent call last):\n",
      "  File \"E:\\DevPack\\anaconda3\\envs\\data_science\\lib\\site-packages\\IPython\\core\\interactiveshell.py\", line 3397, in run_code\n",
      "    exec(code_obj, self.user_global_ns, self.user_ns)\n",
      "  File \"C:\\Users\\Player Ghost\\AppData\\Local\\Temp\\ipykernel_2360\\1568284359.py\", line 2, in <cell line: 2>\n",
      "    array_red = model.fit_transform(bertDataframe)\n",
      "  File \"E:\\DevPack\\anaconda3\\envs\\data_science\\lib\\site-packages\\sklearn\\manifold\\_t_sne.py\", line 1108, in fit_transform\n",
      "    embedding = self._fit(X)\n",
      "  File \"E:\\DevPack\\anaconda3\\envs\\data_science\\lib\\site-packages\\sklearn\\manifold\\_t_sne.py\", line 947, in _fit\n",
      "    distances_nn = knn.kneighbors_graph(mode=\"distance\")\n",
      "  File \"E:\\DevPack\\anaconda3\\envs\\data_science\\lib\\site-packages\\sklearn\\neighbors\\_base.py\", line 886, in kneighbors_graph\n",
      "    A_data, A_ind = self.kneighbors(X, n_neighbors, return_distance=True)\n",
      "  File \"E:\\DevPack\\anaconda3\\envs\\data_science\\lib\\site-packages\\sklearn\\neighbors\\_base.py\", line 752, in kneighbors\n",
      "    chunked_results = list(\n",
      "  File \"E:\\DevPack\\anaconda3\\envs\\data_science\\lib\\site-packages\\sklearn\\metrics\\pairwise.py\", line 1717, in pairwise_distances_chunked\n",
      "    D_chunk = pairwise_distances(X_chunk, Y, metric=metric, n_jobs=n_jobs, **kwds)\n",
      "  File \"E:\\DevPack\\anaconda3\\envs\\data_science\\lib\\site-packages\\sklearn\\metrics\\pairwise.py\", line 1889, in pairwise_distances\n",
      "    return _parallel_pairwise(X, Y, func, n_jobs, **kwds)\n",
      "  File \"E:\\DevPack\\anaconda3\\envs\\data_science\\lib\\site-packages\\sklearn\\metrics\\pairwise.py\", line 1430, in _parallel_pairwise\n",
      "    return func(X, Y, **kwds)\n",
      "  File \"E:\\DevPack\\anaconda3\\envs\\data_science\\lib\\site-packages\\sklearn\\metrics\\pairwise.py\", line 330, in euclidean_distances\n",
      "    return _euclidean_distances(X, Y, X_norm_squared, Y_norm_squared, squared)\n",
      "  File \"E:\\DevPack\\anaconda3\\envs\\data_science\\lib\\site-packages\\sklearn\\metrics\\pairwise.py\", line 368, in _euclidean_distances\n",
      "    distances = _euclidean_distances_upcast(X, XX, Y, YY)\n",
      "  File \"E:\\DevPack\\anaconda3\\envs\\data_science\\lib\\site-packages\\sklearn\\metrics\\pairwise.py\", line 514, in _euclidean_distances_upcast\n",
      "    distances = np.empty((n_samples_X, n_samples_Y), dtype=np.float32)\n",
      "numpy.core._exceptions._ArrayMemoryError: Unable to allocate 512. MiB for an array with shape (4025, 33341) and data type float32\n",
      "\n",
      "During handling of the above exception, another exception occurred:\n",
      "\n",
      "Traceback (most recent call last):\n",
      "  File \"E:\\DevPack\\anaconda3\\envs\\data_science\\lib\\site-packages\\executing\\executing.py\", line 317, in executing\n",
      "    args = executing_cache[key]\n",
      "KeyError: (<code object kneighbors_graph at 0x0000014E93BBA240, file \"E:\\DevPack\\anaconda3\\envs\\data_science\\lib\\site-packages\\sklearn\\neighbors\\_base.py\", line 822>, 1436997624384, 92)\n",
      "\n",
      "During handling of the above exception, another exception occurred:\n",
      "\n",
      "Traceback (most recent call last):\n",
      "  File \"E:\\DevPack\\anaconda3\\envs\\data_science\\lib\\site-packages\\IPython\\core\\interactiveshell.py\", line 1992, in showtraceback\n",
      "    stb = self.InteractiveTB.structured_traceback(\n",
      "  File \"E:\\DevPack\\anaconda3\\envs\\data_science\\lib\\site-packages\\IPython\\core\\ultratb.py\", line 1118, in structured_traceback\n",
      "    return FormattedTB.structured_traceback(\n",
      "  File \"E:\\DevPack\\anaconda3\\envs\\data_science\\lib\\site-packages\\IPython\\core\\ultratb.py\", line 1012, in structured_traceback\n",
      "    return VerboseTB.structured_traceback(\n",
      "  File \"E:\\DevPack\\anaconda3\\envs\\data_science\\lib\\site-packages\\IPython\\core\\ultratb.py\", line 865, in structured_traceback\n",
      "    formatted_exception = self.format_exception_as_a_whole(etype, evalue, etb, number_of_lines_of_context,\n",
      "  File \"E:\\DevPack\\anaconda3\\envs\\data_science\\lib\\site-packages\\IPython\\core\\ultratb.py\", line 799, in format_exception_as_a_whole\n",
      "    self.get_records(etb, number_of_lines_of_context, tb_offset) if etb else []\n",
      "  File \"E:\\DevPack\\anaconda3\\envs\\data_science\\lib\\site-packages\\IPython\\core\\ultratb.py\", line 854, in get_records\n",
      "    return list(stack_data.FrameInfo.stack_data(etb, options=options))[tb_offset:]\n",
      "  File \"E:\\DevPack\\anaconda3\\envs\\data_science\\lib\\site-packages\\stack_data\\core.py\", line 565, in stack_data\n",
      "    yield from collapse_repeated(\n",
      "  File \"E:\\DevPack\\anaconda3\\envs\\data_science\\lib\\site-packages\\stack_data\\utils.py\", line 84, in collapse_repeated\n",
      "    yield from map(mapper, original_group)\n",
      "  File \"E:\\DevPack\\anaconda3\\envs\\data_science\\lib\\site-packages\\stack_data\\core.py\", line 555, in mapper\n",
      "    return cls(f, options)\n",
      "  File \"E:\\DevPack\\anaconda3\\envs\\data_science\\lib\\site-packages\\stack_data\\core.py\", line 520, in __init__\n",
      "    self.executing = Source.executing(frame_or_tb)\n",
      "  File \"E:\\DevPack\\anaconda3\\envs\\data_science\\lib\\site-packages\\executing\\executing.py\", line 369, in executing\n",
      "    args = find(source=cls.for_frame(frame), retry_cache=True)\n",
      "  File \"E:\\DevPack\\anaconda3\\envs\\data_science\\lib\\site-packages\\executing\\executing.py\", line 252, in for_frame\n",
      "    return cls.for_filename(frame.f_code.co_filename, frame.f_globals or {}, use_cache)\n",
      "  File \"E:\\DevPack\\anaconda3\\envs\\data_science\\lib\\site-packages\\executing\\executing.py\", line 270, in for_filename\n",
      "    result = source_cache[filename] = cls._for_filename_and_lines(filename, lines)\n",
      "  File \"E:\\DevPack\\anaconda3\\envs\\data_science\\lib\\site-packages\\executing\\executing.py\", line 281, in _for_filename_and_lines\n",
      "    result = source_cache[(filename, lines)] = cls(filename, lines)\n",
      "  File \"E:\\DevPack\\anaconda3\\envs\\data_science\\lib\\site-packages\\stack_data\\core.py\", line 81, in __init__\n",
      "    self.asttokens()\n",
      "  File \"E:\\DevPack\\anaconda3\\envs\\data_science\\lib\\site-packages\\executing\\executing.py\", line 413, in asttokens\n",
      "    return ASTTokens(\n",
      "  File \"E:\\DevPack\\anaconda3\\envs\\data_science\\lib\\site-packages\\asttokens\\asttokens.py\", line 65, in __init__\n",
      "    self.mark_tokens(self._tree)\n",
      "  File \"E:\\DevPack\\anaconda3\\envs\\data_science\\lib\\site-packages\\asttokens\\asttokens.py\", line 76, in mark_tokens\n",
      "    MarkTokens(self).visit_tree(root_node)\n",
      "  File \"E:\\DevPack\\anaconda3\\envs\\data_science\\lib\\site-packages\\asttokens\\mark_tokens.py\", line 49, in visit_tree\n",
      "    util.visit_tree(node, self._visit_before_children, self._visit_after_children)\n",
      "  File \"E:\\DevPack\\anaconda3\\envs\\data_science\\lib\\site-packages\\asttokens\\util.py\", line 194, in visit_tree\n",
      "    done.add(current)\n",
      "MemoryError\n"
     ]
    }
   ],
   "source": [
    "model = TSNE(n_components=2, random_state=0)\n",
    "array_red = model.fit_transform(bertDataframe)\n",
    "\n",
    "df_tsne = pd.DataFrame(array_red)\n",
    "\n",
    "df_tsne['Target'] = target\n",
    "print(df_tsne)"
   ],
   "metadata": {
    "collapsed": false,
    "pycharm": {
     "name": "#%%\n"
    }
   }
  },
  {
   "cell_type": "markdown",
   "source": [],
   "metadata": {
    "collapsed": false,
    "pycharm": {
     "name": "#%% md\n"
    }
   }
  },
  {
   "cell_type": "markdown",
   "source": [],
   "metadata": {
    "collapsed": false,
    "pycharm": {
     "name": "#%% md\n"
    }
   }
  },
  {
   "cell_type": "code",
   "execution_count": null,
   "outputs": [],
   "source": [
    "df_tsne_c1 = df_tsne[df_tsne['Target'] == 0]\n",
    "\n",
    "df_tsne_c2 = df_tsne[df_tsne['Target'] == 1]\n",
    "\n",
    "plt.scatter(df_tsne_c1[0].array,df_tsne_c1[1].array,marker='o',color='blue')\n",
    "\n",
    "plt.scatter(df_tsne_c2[0].array,df_tsne_c2[1].array,marker='o',color='red')\n",
    "\n",
    "plt.title('Dados')\n",
    "plt.xlabel('x')\n",
    "plt.ylabel('y')\n",
    "\n",
    "plt.show()"
   ],
   "metadata": {
    "collapsed": false,
    "pycharm": {
     "name": "#%%\n"
    }
   }
  },
  {
   "cell_type": "markdown",
   "source": [
    "# Validação"
   ],
   "metadata": {
    "collapsed": false,
    "pycharm": {
     "name": "#%% md\n"
    }
   }
  },
  {
   "cell_type": "code",
   "execution_count": null,
   "outputs": [],
   "source": [
    "def getModel():\n",
    "    return DecisionTreeClassifier()"
   ],
   "metadata": {
    "collapsed": false,
    "pycharm": {
     "name": "#%%\n"
    }
   }
  },
  {
   "cell_type": "code",
   "execution_count": null,
   "outputs": [],
   "source": [
    "X_treino, X_teste, y_treino, y_teste = train_test_split(bertDataframe.values,target,test_size=0.2)\n",
    "modelo = getModel().fit(X_treino,y_treino)\n",
    "score = modelo.score(X_teste,y_teste)\n",
    "score"
   ],
   "metadata": {
    "collapsed": false,
    "pycharm": {
     "name": "#%%\n"
    }
   }
  },
  {
   "cell_type": "code",
   "execution_count": null,
   "outputs": [],
   "source": [
    "scores = cross_val_score(getModel(),bertDataframe.values,target,cv=10)\n",
    "\n",
    "scores.mean()"
   ],
   "metadata": {
    "collapsed": false,
    "pycharm": {
     "name": "#%%\n"
    }
   }
  },
  {
   "cell_type": "code",
   "execution_count": null,
   "outputs": [],
   "source": [
    "predicoes = cross_val_predict(getModel(), bertDataframe.values, target, cv=10)"
   ],
   "metadata": {
    "collapsed": false,
    "pycharm": {
     "name": "#%%\n"
    }
   }
  },
  {
   "cell_type": "code",
   "execution_count": null,
   "outputs": [],
   "source": [
    "print(\"\\nClassification Report : \")\n",
    "print(classification_report(target, predicoes, target_names=[\"Ham\", \"Spam\"]))"
   ],
   "metadata": {
    "collapsed": false,
    "pycharm": {
     "name": "#%%\n"
    }
   }
  },
  {
   "cell_type": "code",
   "execution_count": null,
   "outputs": [],
   "source": [
    "categories = [\"Ham\", \"Spam\"]\n",
    "\n",
    "skplt.metrics.plot_confusion_matrix(\n",
    "    [categories[i] for i in target], [categories[i] for i in predicoes.tolist()],\n",
    "    title=\"Confusion Matrix\",\n",
    "    cmap=\"Purples\",\n",
    "    hide_zeros=True,\n",
    "    figsize=(5,5)\n",
    ")\n",
    "\n",
    "plt.xticks()"
   ],
   "metadata": {
    "collapsed": false,
    "pycharm": {
     "name": "#%%\n"
    }
   }
  },
  {
   "cell_type": "code",
   "execution_count": null,
   "outputs": [],
   "source": [
    "skplt.metrics.plot_confusion_matrix(\n",
    "    [categories[i] for i in target], [categories[i] for i in predicoes.tolist()],\n",
    "    normalize=True,\n",
    "    title=\"Confusion Matrix\",\n",
    "    cmap=\"Purples\",\n",
    "    hide_zeros=True,\n",
    "    figsize=(5,5)\n",
    ")\n",
    "\n",
    "plt.xticks()"
   ],
   "metadata": {
    "collapsed": false,
    "pycharm": {
     "name": "#%%\n"
    }
   }
  }
 ],
 "metadata": {
  "kernelspec": {
   "display_name": "Python 3",
   "language": "python",
   "name": "python3"
  },
  "language_info": {
   "codemirror_mode": {
    "name": "ipython",
    "version": 3
   },
   "file_extension": ".py",
   "mimetype": "text/x-python",
   "name": "python",
   "nbconvert_exporter": "python",
   "pygments_lexer": "ipython3",
   "version": "3.8.8"
  }
 },
 "nbformat": 4,
 "nbformat_minor": 1
}