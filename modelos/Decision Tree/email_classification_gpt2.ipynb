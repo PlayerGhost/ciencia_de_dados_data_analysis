{
 "cells": [
  {
   "cell_type": "code",
   "execution_count": 1,
   "outputs": [],
   "source": [
    "import pandas as pd\n",
    "from sklearn.tree import DecisionTreeClassifier\n",
    "from sklearn.model_selection import train_test_split, cross_val_score, cross_val_predict\n",
    "from sklearn.manifold import TSNE\n",
    "from sklearn.metrics import classification_report\n",
    "import scikitplot as skplt\n",
    "import matplotlib.pyplot as plt\n",
    "from simpletransformers.language_representation import RepresentationModel"
   ],
   "metadata": {
    "collapsed": false,
    "pycharm": {
     "name": "#%%\n"
    }
   }
  },
  {
   "cell_type": "markdown",
   "source": [
    "# Carregando base de dados  pré-processada"
   ],
   "metadata": {
    "collapsed": false,
    "pycharm": {
     "name": "#%% md\n"
    }
   }
  },
  {
   "cell_type": "code",
   "execution_count": 2,
   "outputs": [
    {
     "data": {
      "text/plain": "                                                   email  target\n0      start date     hourahead timee  cardinall  hou...       0\n1      service long desk  price structure deal quote ...       0\n2      start date  cardinall    hourahead timee  card...       0\n3      start date     hourahead timee  cardinall  anc...       0\n4      cardinall deliverable revenue management marke...       0\n...                                                  ...     ...\n33340  bio  matrix scientific group   symbo   bmxg  p...       1\n33341   cardinall step away hot naked webcam girl liv...       1\n33342  need pill increase performance click  seroius ...       1\n33343  datee final nom       inlet hpl  eastrans  car...       0\n33344  ordinall time  offering male enhancement perfo...       1\n\n[33341 rows x 2 columns]",
      "text/html": "<div>\n<style scoped>\n    .dataframe tbody tr th:only-of-type {\n        vertical-align: middle;\n    }\n\n    .dataframe tbody tr th {\n        vertical-align: top;\n    }\n\n    .dataframe thead th {\n        text-align: right;\n    }\n</style>\n<table border=\"1\" class=\"dataframe\">\n  <thead>\n    <tr style=\"text-align: right;\">\n      <th></th>\n      <th>email</th>\n      <th>target</th>\n    </tr>\n  </thead>\n  <tbody>\n    <tr>\n      <th>0</th>\n      <td>start date     hourahead timee  cardinall  hou...</td>\n      <td>0</td>\n    </tr>\n    <tr>\n      <th>1</th>\n      <td>service long desk  price structure deal quote ...</td>\n      <td>0</td>\n    </tr>\n    <tr>\n      <th>2</th>\n      <td>start date  cardinall    hourahead timee  card...</td>\n      <td>0</td>\n    </tr>\n    <tr>\n      <th>3</th>\n      <td>start date     hourahead timee  cardinall  anc...</td>\n      <td>0</td>\n    </tr>\n    <tr>\n      <th>4</th>\n      <td>cardinall deliverable revenue management marke...</td>\n      <td>0</td>\n    </tr>\n    <tr>\n      <th>...</th>\n      <td>...</td>\n      <td>...</td>\n    </tr>\n    <tr>\n      <th>33340</th>\n      <td>bio  matrix scientific group   symbo   bmxg  p...</td>\n      <td>1</td>\n    </tr>\n    <tr>\n      <th>33341</th>\n      <td>cardinall step away hot naked webcam girl liv...</td>\n      <td>1</td>\n    </tr>\n    <tr>\n      <th>33342</th>\n      <td>need pill increase performance click  seroius ...</td>\n      <td>1</td>\n    </tr>\n    <tr>\n      <th>33343</th>\n      <td>datee final nom       inlet hpl  eastrans  car...</td>\n      <td>0</td>\n    </tr>\n    <tr>\n      <th>33344</th>\n      <td>ordinall time  offering male enhancement perfo...</td>\n      <td>1</td>\n    </tr>\n  </tbody>\n</table>\n<p>33341 rows × 2 columns</p>\n</div>"
     },
     "execution_count": 2,
     "metadata": {},
     "output_type": "execute_result"
    }
   ],
   "source": [
    "database = pd.read_csv(\"../../Database/dataBaseWithNER.csv\")\n",
    "\n",
    "database = database.drop(columns=[\"Unnamed: 0\"])\n",
    "database = database.dropna()\n",
    "target = database[\"target\"].values.tolist()\n",
    "database"
   ],
   "metadata": {
    "collapsed": false,
    "pycharm": {
     "name": "#%%\n"
    }
   }
  },
  {
   "cell_type": "code",
   "execution_count": 3,
   "outputs": [],
   "source": [
    "emailsText = []\n",
    "for email in database[\"email\"]:\n",
    "    emailsText.append(email)"
   ],
   "metadata": {
    "collapsed": false,
    "pycharm": {
     "name": "#%%\n"
    }
   }
  },
  {
   "cell_type": "code",
   "execution_count": 4,
   "outputs": [
    {
     "name": "stdout",
     "output_type": "stream",
     "text": [
      "33341\n"
     ]
    }
   ],
   "source": [
    "print(len(emailsText))"
   ],
   "metadata": {
    "collapsed": false,
    "pycharm": {
     "name": "#%%\n"
    }
   }
  },
  {
   "cell_type": "markdown",
   "source": [
    "# Representação vetorial GPT2"
   ],
   "metadata": {
    "collapsed": false,
    "pycharm": {
     "name": "#%% md\n"
    }
   }
  },
  {
   "cell_type": "code",
   "execution_count": 5,
   "outputs": [
    {
     "name": "stderr",
     "output_type": "stream",
     "text": [
      "Some weights of the model checkpoint at gpt2 were not used when initializing GPT2ForTextRepresentation: ['h.7.ln_2.weight', 'h.2.attn.c_proj.bias', 'h.1.ln_2.weight', 'h.8.attn.c_proj.weight', 'h.9.ln_1.weight', 'h.9.ln_2.bias', 'h.8.ln_1.weight', 'h.10.mlp.c_fc.bias', 'h.0.attn.bias', 'h.9.mlp.c_proj.weight', 'h.10.ln_2.bias', 'h.2.ln_2.bias', 'h.5.mlp.c_proj.weight', 'h.3.attn.bias', 'h.10.mlp.c_proj.weight', 'h.7.mlp.c_fc.weight', 'wpe.weight', 'h.0.attn.c_proj.bias', 'h.5.attn.c_proj.weight', 'h.1.mlp.c_fc.bias', 'h.1.ln_1.bias', 'h.1.mlp.c_fc.weight', 'h.5.attn.bias', 'h.4.ln_1.weight', 'h.6.attn.c_attn.bias', 'h.0.ln_1.bias', 'h.3.attn.c_proj.bias', 'h.3.mlp.c_proj.bias', 'h.7.ln_2.bias', 'h.9.mlp.c_fc.bias', 'h.1.mlp.c_proj.bias', 'h.1.mlp.c_proj.weight', 'h.8.ln_2.bias', 'h.4.mlp.c_proj.bias', 'h.5.attn.c_proj.bias', 'h.2.ln_1.bias', 'h.10.attn.c_attn.bias', 'h.9.attn.c_attn.bias', 'h.3.attn.c_proj.weight', 'h.4.attn.c_proj.weight', 'h.10.ln_1.weight', 'h.5.mlp.c_proj.bias', 'h.5.attn.c_attn.bias', 'h.2.mlp.c_fc.bias', 'h.4.ln_2.weight', 'h.7.attn.c_attn.bias', 'h.2.attn.c_attn.bias', 'h.10.attn.bias', 'h.5.ln_2.weight', 'h.6.mlp.c_proj.bias', 'h.7.attn.bias', 'h.9.attn.bias', 'h.2.attn.bias', 'h.9.attn.c_attn.weight', 'h.10.attn.c_proj.weight', 'h.9.attn.c_proj.bias', 'h.0.attn.c_attn.weight', 'h.11.mlp.c_fc.bias', 'h.6.mlp.c_proj.weight', 'h.10.ln_2.weight', 'h.11.attn.c_attn.bias', 'h.6.mlp.c_fc.weight', 'h.7.attn.c_attn.weight', 'h.4.ln_1.bias', 'h.11.ln_1.weight', 'wte.weight', 'h.4.ln_2.bias', 'h.4.mlp.c_fc.weight', 'h.7.mlp.c_proj.weight', 'h.4.mlp.c_fc.bias', 'h.11.attn.c_attn.weight', 'h.6.ln_2.weight', 'h.7.ln_1.weight', 'h.2.attn.c_proj.weight', 'h.4.attn.c_proj.bias', 'h.10.attn.c_proj.bias', 'h.3.mlp.c_proj.weight', 'h.8.attn.bias', 'h.8.attn.c_proj.bias', 'h.1.attn.c_proj.weight', 'h.4.mlp.c_proj.weight', 'h.0.mlp.c_proj.weight', 'h.0.mlp.c_fc.bias', 'h.9.attn.c_proj.weight', 'h.2.ln_1.weight', 'h.0.mlp.c_fc.weight', 'h.2.mlp.c_proj.bias', 'h.6.attn.bias', 'h.11.attn.c_proj.weight', 'h.0.ln_2.bias', 'h.7.mlp.c_proj.bias', 'h.2.mlp.c_fc.weight', 'h.11.attn.c_proj.bias', 'h.0.attn.c_proj.weight', 'h.4.attn.c_attn.bias', 'h.11.mlp.c_proj.bias', 'h.1.ln_1.weight', 'h.6.attn.c_proj.weight', 'h.7.ln_1.bias', 'h.8.ln_1.bias', 'h.8.mlp.c_proj.bias', 'h.11.attn.bias', 'h.3.mlp.c_fc.weight', 'h.2.mlp.c_proj.weight', 'h.11.ln_2.bias', 'h.7.attn.c_proj.weight', 'h.6.mlp.c_fc.bias', 'h.1.attn.bias', 'h.10.ln_1.bias', 'h.3.attn.c_attn.bias', 'h.1.ln_2.bias', 'h.0.attn.c_attn.bias', 'h.3.ln_2.bias', 'h.9.ln_2.weight', 'h.11.ln_1.bias', 'h.10.mlp.c_proj.bias', 'h.11.mlp.c_proj.weight', 'h.11.mlp.c_fc.weight', 'h.7.mlp.c_fc.bias', 'h.4.attn.bias', 'h.5.attn.c_attn.weight', 'h.9.mlp.c_fc.weight', 'h.0.ln_1.weight', 'h.0.ln_2.weight', 'h.4.attn.c_attn.weight', 'h.6.attn.c_proj.bias', 'ln_f.bias', 'ln_f.weight', 'h.10.attn.c_attn.weight', 'h.3.mlp.c_fc.bias', 'h.5.ln_1.weight', 'h.7.attn.c_proj.bias', 'h.0.mlp.c_proj.bias', 'h.6.ln_1.bias', 'h.11.ln_2.weight', 'h.5.ln_1.bias', 'h.3.ln_2.weight', 'h.5.mlp.c_fc.weight', 'h.8.attn.c_attn.weight', 'h.2.attn.c_attn.weight', 'h.9.ln_1.bias', 'h.9.mlp.c_proj.bias', 'h.8.ln_2.weight', 'h.1.attn.c_attn.bias', 'h.1.attn.c_proj.bias', 'h.3.ln_1.bias', 'h.3.ln_1.weight', 'h.8.mlp.c_proj.weight', 'h.10.mlp.c_fc.weight', 'h.3.attn.c_attn.weight', 'h.6.ln_2.bias', 'h.8.mlp.c_fc.weight', 'h.1.attn.c_attn.weight', 'h.5.mlp.c_fc.bias', 'h.6.ln_1.weight', 'h.6.attn.c_attn.weight', 'h.5.ln_2.bias', 'h.8.attn.c_attn.bias', 'h.2.ln_2.weight', 'h.8.mlp.c_fc.bias']\n",
      "- This IS expected if you are initializing GPT2ForTextRepresentation from the checkpoint of a model trained on another task or with another architecture (e.g. initializing a BertForSequenceClassification model from a BertForPreTraining model).\n",
      "- This IS NOT expected if you are initializing GPT2ForTextRepresentation from the checkpoint of a model that you expect to be exactly identical (initializing a BertForSequenceClassification model from a BertForSequenceClassification model).\n",
      "Some weights of GPT2ForTextRepresentation were not initialized from the model checkpoint at gpt2 and are newly initialized: ['gpt2.h.2.attn.c_proj.weight', 'gpt2.h.4.attn.c_proj.bias', 'gpt2.h.5.attn.c_proj.weight', 'gpt2.h.0.attn.c_attn.bias', 'gpt2.h.1.attn.masked_bias', 'gpt2.h.8.mlp.c_fc.bias', 'gpt2.h.6.ln_1.weight', 'gpt2.h.1.ln_2.bias', 'gpt2.h.1.mlp.c_proj.bias', 'gpt2.h.1.attn.c_attn.weight', 'gpt2.h.9.mlp.c_fc.bias', 'gpt2.h.11.ln_2.weight', 'gpt2.h.3.mlp.c_proj.bias', 'gpt2.h.4.mlp.c_fc.bias', 'gpt2.h.8.mlp.c_proj.bias', 'gpt2.h.11.mlp.c_fc.weight', 'gpt2.h.9.mlp.c_fc.weight', 'gpt2.h.9.attn.c_attn.weight', 'gpt2.h.4.attn.c_proj.weight', 'gpt2.h.9.ln_2.weight', 'gpt2.h.6.attn.c_proj.bias', 'gpt2.h.0.ln_1.weight', 'gpt2.h.0.attn.c_proj.weight', 'gpt2.h.10.attn.c_proj.bias', 'gpt2.h.6.attn.c_attn.weight', 'gpt2.h.1.ln_1.weight', 'gpt2.h.10.ln_1.weight', 'gpt2.h.1.mlp.c_fc.bias', 'gpt2.h.2.attn.c_attn.bias', 'gpt2.h.4.attn.masked_bias', 'gpt2.h.7.attn.c_attn.weight', 'gpt2.h.9.attn.bias', 'gpt2.h.2.mlp.c_proj.bias', 'gpt2.h.7.mlp.c_fc.weight', 'gpt2.h.9.ln_1.weight', 'gpt2.h.11.mlp.c_proj.weight', 'gpt2.h.2.ln_2.weight', 'gpt2.h.5.mlp.c_proj.weight', 'gpt2.h.2.ln_2.bias', 'gpt2.h.0.ln_2.bias', 'gpt2.h.3.mlp.c_fc.weight', 'gpt2.h.8.attn.bias', 'gpt2.h.7.ln_2.weight', 'gpt2.h.3.mlp.c_proj.weight', 'gpt2.h.5.mlp.c_fc.weight', 'gpt2.h.9.attn.c_attn.bias', 'gpt2.h.8.attn.c_proj.bias', 'gpt2.h.11.attn.bias', 'gpt2.h.2.attn.c_proj.bias', 'gpt2.h.2.mlp.c_fc.bias', 'gpt2.ln_f.weight', 'gpt2.h.10.ln_2.bias', 'gpt2.h.1.mlp.c_fc.weight', 'gpt2.h.7.attn.c_attn.bias', 'gpt2.h.0.ln_1.bias', 'gpt2.h.3.attn.bias', 'gpt2.h.0.attn.bias', 'gpt2.h.0.ln_2.weight', 'gpt2.h.2.ln_1.bias', 'gpt2.h.6.ln_2.weight', 'gpt2.h.6.ln_2.bias', 'gpt2.h.11.ln_1.weight', 'gpt2.h.4.attn.c_attn.weight', 'gpt2.h.7.attn.c_proj.weight', 'gpt2.h.6.mlp.c_proj.bias', 'gpt2.h.7.mlp.c_proj.weight', 'gpt2.h.0.mlp.c_proj.weight', 'gpt2.h.5.attn.c_proj.bias', 'gpt2.h.11.ln_1.bias', 'gpt2.h.1.mlp.c_proj.weight', 'gpt2.h.7.attn.masked_bias', 'gpt2.h.10.mlp.c_fc.bias', 'gpt2.h.11.mlp.c_proj.bias', 'gpt2.h.1.attn.bias', 'gpt2.h.1.ln_1.bias', 'gpt2.h.9.ln_1.bias', 'gpt2.h.7.ln_2.bias', 'gpt2.h.7.ln_1.weight', 'gpt2.h.3.ln_1.weight', 'gpt2.h.9.mlp.c_proj.weight', 'gpt2.h.1.attn.c_attn.bias', 'gpt2.h.3.ln_2.weight', 'gpt2.h.11.ln_2.bias', 'gpt2.wte.weight', 'gpt2.h.3.attn.c_attn.bias', 'gpt2.h.5.mlp.c_fc.bias', 'gpt2.h.11.attn.c_attn.bias', 'gpt2.h.0.attn.masked_bias', 'gpt2.h.4.mlp.c_proj.bias', 'gpt2.h.6.attn.c_attn.bias', 'gpt2.h.11.attn.masked_bias', 'gpt2.h.3.attn.c_proj.weight', 'gpt2.h.10.attn.c_attn.bias', 'gpt2.h.3.attn.c_attn.weight', 'gpt2.h.7.ln_1.bias', 'gpt2.h.9.mlp.c_proj.bias', 'gpt2.h.8.mlp.c_proj.weight', 'gpt2.h.1.ln_2.weight', 'gpt2.h.6.attn.masked_bias', 'gpt2.h.10.ln_2.weight', 'gpt2.h.4.attn.c_attn.bias', 'gpt2.h.0.attn.c_proj.bias', 'gpt2.h.5.attn.c_attn.bias', 'gpt2.h.0.mlp.c_proj.bias', 'gpt2.h.8.attn.c_attn.bias', 'gpt2.h.10.attn.c_attn.weight', 'gpt2.h.5.ln_2.bias', 'gpt2.h.3.ln_1.bias', 'gpt2.h.0.mlp.c_fc.weight', 'gpt2.h.7.attn.c_proj.bias', 'gpt2.h.4.mlp.c_proj.weight', 'gpt2.h.9.attn.c_proj.bias', 'gpt2.h.11.attn.c_proj.bias', 'gpt2.h.2.attn.masked_bias', 'gpt2.h.8.ln_1.bias', 'gpt2.h.10.mlp.c_proj.weight', 'gpt2.h.5.mlp.c_proj.bias', 'gpt2.h.11.attn.c_proj.weight', 'gpt2.h.8.mlp.c_fc.weight', 'gpt2.h.4.mlp.c_fc.weight', 'gpt2.h.11.attn.c_attn.weight', 'gpt2.h.6.mlp.c_proj.weight', 'gpt2.h.3.ln_2.bias', 'gpt2.h.6.ln_1.bias', 'gpt2.h.5.ln_1.weight', 'gpt2.h.4.attn.bias', 'gpt2.h.2.attn.c_attn.weight', 'gpt2.h.5.ln_1.bias', 'gpt2.h.6.attn.c_proj.weight', 'gpt2.h.7.mlp.c_fc.bias', 'gpt2.h.1.attn.c_proj.bias', 'gpt2.h.5.ln_2.weight', 'gpt2.h.3.attn.c_proj.bias', 'gpt2.h.4.ln_1.weight', 'gpt2.h.8.ln_2.weight', 'gpt2.h.3.mlp.c_fc.bias', 'gpt2.h.4.ln_2.bias', 'gpt2.h.8.attn.c_attn.weight', 'gpt2.h.1.attn.c_proj.weight', 'gpt2.h.2.attn.bias', 'gpt2.h.8.attn.c_proj.weight', 'gpt2.h.9.attn.masked_bias', 'gpt2.h.6.mlp.c_fc.weight', 'gpt2.h.2.mlp.c_proj.weight', 'gpt2.h.9.ln_2.bias', 'gpt2.h.10.attn.masked_bias', 'gpt2.h.2.ln_1.weight', 'gpt2.h.5.attn.masked_bias', 'gpt2.h.4.ln_2.weight', 'gpt2.h.10.mlp.c_proj.bias', 'gpt2.h.7.mlp.c_proj.bias', 'gpt2.h.0.attn.c_attn.weight', 'gpt2.h.8.ln_1.weight', 'gpt2.h.0.mlp.c_fc.bias', 'gpt2.h.3.attn.masked_bias', 'gpt2.h.5.attn.c_attn.weight', 'gpt2.h.2.mlp.c_fc.weight', 'gpt2.h.4.ln_1.bias', 'gpt2.h.10.ln_1.bias', 'gpt2.h.10.attn.bias', 'gpt2.h.10.attn.c_proj.weight', 'gpt2.wpe.weight', 'gpt2.h.10.mlp.c_fc.weight', 'gpt2.h.7.attn.bias', 'gpt2.h.6.attn.bias', 'gpt2.ln_f.bias', 'gpt2.h.5.attn.bias', 'gpt2.h.9.attn.c_proj.weight', 'gpt2.h.6.mlp.c_fc.bias', 'gpt2.h.8.ln_2.bias', 'gpt2.h.11.mlp.c_fc.bias', 'gpt2.h.8.attn.masked_bias']\n",
      "You should probably TRAIN this model on a down-stream task to be able to use it for predictions and inference.\n"
     ]
    },
    {
     "data": {
      "text/plain": "(33341, 768)"
     },
     "execution_count": 5,
     "metadata": {},
     "output_type": "execute_result"
    }
   ],
   "source": [
    "model=RepresentationModel(\n",
    "    model_type=\"gpt2\",\n",
    "    model_name=\"gpt2\",\n",
    "    use_cuda=True,\n",
    "    #fp16=True\n",
    ")\n",
    "\n",
    "vectorialRepresentation = model.encode_sentences(emailsText, combine_strategy=\"mean\")\n",
    "vectorialRepresentation.shape"
   ],
   "metadata": {
    "collapsed": false,
    "pycharm": {
     "name": "#%%\n"
    }
   }
  },
  {
   "cell_type": "code",
   "execution_count": 6,
   "outputs": [
    {
     "data": {
      "text/plain": "            0         1         2         3         4         5         6    \\\n0     -1.030083  0.109724  0.927873 -0.617342  0.543541  0.427058 -0.514676   \n1     -0.092674 -0.381372  2.012866 -0.735727  0.072879  0.071605 -1.176053   \n2     -1.051408  0.299784  0.841643 -0.449345 -0.329442 -0.094266 -0.336205   \n3     -0.883784  0.286621  1.016412 -0.888368  0.062395 -0.270674 -0.299684   \n4     -0.209628  0.685009  0.931885 -0.376099  0.474256  0.707136  0.144236   \n...         ...       ...       ...       ...       ...       ...       ...   \n33336 -0.513509  0.128544  2.039597 -0.299465 -0.599164 -0.393354  0.112577   \n33337 -0.583663  0.689026  2.111216  0.589455 -0.939575  1.173398 -0.115160   \n33338 -1.495019  0.790122  1.807736 -0.786408 -0.355426  0.124692  0.333372   \n33339 -1.155704  0.062052  0.672390  0.484694 -0.193628 -0.465796 -0.932989   \n33340 -0.584423  0.681281  1.292042 -0.919031 -1.474468  0.721617  0.722683   \n\n            7         8         9    ...       758       759       760  \\\n0      1.694434 -0.580174 -1.091022  ... -0.498598  0.351335  0.853568   \n1      1.502053 -0.769178 -1.291546  ... -0.474673  1.108720  0.889351   \n2      1.833698 -0.349068 -0.784353  ... -0.587131  0.640777  1.131895   \n3      2.073566 -0.537574 -0.802398  ... -0.680455  0.264351  0.937522   \n4      0.863746 -0.421887 -0.791166  ...  0.548276 -0.438824  2.187341   \n...         ...       ...       ...  ...       ...       ...       ...   \n33336  1.611766 -0.406810  0.193332  ... -0.549131  0.275840  1.047210   \n33337  0.952676  0.079639 -0.912642  ... -0.333912  1.120153  0.981974   \n33338  1.503447 -0.867034  0.268472  ... -0.744148  0.447202  1.260685   \n33339  1.382008 -0.089423 -0.623302  ... -0.414172  0.920319  1.126764   \n33340  1.758570  0.358318 -0.417843  ...  0.080607  1.063166  0.078855   \n\n            761       762       763       764       765       766       767  \n0      2.374959 -1.410789  1.245473 -0.473885  0.478011  0.140457 -0.619885  \n1      2.316023  0.087432  0.612741 -0.030229  0.735440 -0.392663 -0.129117  \n2      2.433959 -2.078627  1.102487 -1.407242  0.209603 -0.571815 -0.152947  \n3      2.707597 -1.718038  1.148977 -0.955044  0.538847 -0.090273 -0.122395  \n4      1.540887 -0.410145  1.246987 -0.476006 -0.630435 -1.297185 -0.154112  \n...         ...       ...       ...       ...       ...       ...       ...  \n33336  1.753217 -1.041353  0.628145 -1.651687  0.745647 -0.047421  1.033260  \n33337  1.904992 -1.181392  0.934996 -0.200818 -0.540170 -0.359948 -0.219496  \n33338  1.905787 -0.572558  0.783855 -0.512786 -0.382856 -0.284805 -0.314551  \n33339  2.062665 -1.038254  0.336398 -1.023622  0.650219  0.000506  0.076306  \n33340  1.986718 -1.119658  1.291826 -0.460396  0.135990 -0.616050 -0.238102  \n\n[33341 rows x 768 columns]",
      "text/html": "<div>\n<style scoped>\n    .dataframe tbody tr th:only-of-type {\n        vertical-align: middle;\n    }\n\n    .dataframe tbody tr th {\n        vertical-align: top;\n    }\n\n    .dataframe thead th {\n        text-align: right;\n    }\n</style>\n<table border=\"1\" class=\"dataframe\">\n  <thead>\n    <tr style=\"text-align: right;\">\n      <th></th>\n      <th>0</th>\n      <th>1</th>\n      <th>2</th>\n      <th>3</th>\n      <th>4</th>\n      <th>5</th>\n      <th>6</th>\n      <th>7</th>\n      <th>8</th>\n      <th>9</th>\n      <th>...</th>\n      <th>758</th>\n      <th>759</th>\n      <th>760</th>\n      <th>761</th>\n      <th>762</th>\n      <th>763</th>\n      <th>764</th>\n      <th>765</th>\n      <th>766</th>\n      <th>767</th>\n    </tr>\n  </thead>\n  <tbody>\n    <tr>\n      <th>0</th>\n      <td>-1.030083</td>\n      <td>0.109724</td>\n      <td>0.927873</td>\n      <td>-0.617342</td>\n      <td>0.543541</td>\n      <td>0.427058</td>\n      <td>-0.514676</td>\n      <td>1.694434</td>\n      <td>-0.580174</td>\n      <td>-1.091022</td>\n      <td>...</td>\n      <td>-0.498598</td>\n      <td>0.351335</td>\n      <td>0.853568</td>\n      <td>2.374959</td>\n      <td>-1.410789</td>\n      <td>1.245473</td>\n      <td>-0.473885</td>\n      <td>0.478011</td>\n      <td>0.140457</td>\n      <td>-0.619885</td>\n    </tr>\n    <tr>\n      <th>1</th>\n      <td>-0.092674</td>\n      <td>-0.381372</td>\n      <td>2.012866</td>\n      <td>-0.735727</td>\n      <td>0.072879</td>\n      <td>0.071605</td>\n      <td>-1.176053</td>\n      <td>1.502053</td>\n      <td>-0.769178</td>\n      <td>-1.291546</td>\n      <td>...</td>\n      <td>-0.474673</td>\n      <td>1.108720</td>\n      <td>0.889351</td>\n      <td>2.316023</td>\n      <td>0.087432</td>\n      <td>0.612741</td>\n      <td>-0.030229</td>\n      <td>0.735440</td>\n      <td>-0.392663</td>\n      <td>-0.129117</td>\n    </tr>\n    <tr>\n      <th>2</th>\n      <td>-1.051408</td>\n      <td>0.299784</td>\n      <td>0.841643</td>\n      <td>-0.449345</td>\n      <td>-0.329442</td>\n      <td>-0.094266</td>\n      <td>-0.336205</td>\n      <td>1.833698</td>\n      <td>-0.349068</td>\n      <td>-0.784353</td>\n      <td>...</td>\n      <td>-0.587131</td>\n      <td>0.640777</td>\n      <td>1.131895</td>\n      <td>2.433959</td>\n      <td>-2.078627</td>\n      <td>1.102487</td>\n      <td>-1.407242</td>\n      <td>0.209603</td>\n      <td>-0.571815</td>\n      <td>-0.152947</td>\n    </tr>\n    <tr>\n      <th>3</th>\n      <td>-0.883784</td>\n      <td>0.286621</td>\n      <td>1.016412</td>\n      <td>-0.888368</td>\n      <td>0.062395</td>\n      <td>-0.270674</td>\n      <td>-0.299684</td>\n      <td>2.073566</td>\n      <td>-0.537574</td>\n      <td>-0.802398</td>\n      <td>...</td>\n      <td>-0.680455</td>\n      <td>0.264351</td>\n      <td>0.937522</td>\n      <td>2.707597</td>\n      <td>-1.718038</td>\n      <td>1.148977</td>\n      <td>-0.955044</td>\n      <td>0.538847</td>\n      <td>-0.090273</td>\n      <td>-0.122395</td>\n    </tr>\n    <tr>\n      <th>4</th>\n      <td>-0.209628</td>\n      <td>0.685009</td>\n      <td>0.931885</td>\n      <td>-0.376099</td>\n      <td>0.474256</td>\n      <td>0.707136</td>\n      <td>0.144236</td>\n      <td>0.863746</td>\n      <td>-0.421887</td>\n      <td>-0.791166</td>\n      <td>...</td>\n      <td>0.548276</td>\n      <td>-0.438824</td>\n      <td>2.187341</td>\n      <td>1.540887</td>\n      <td>-0.410145</td>\n      <td>1.246987</td>\n      <td>-0.476006</td>\n      <td>-0.630435</td>\n      <td>-1.297185</td>\n      <td>-0.154112</td>\n    </tr>\n    <tr>\n      <th>...</th>\n      <td>...</td>\n      <td>...</td>\n      <td>...</td>\n      <td>...</td>\n      <td>...</td>\n      <td>...</td>\n      <td>...</td>\n      <td>...</td>\n      <td>...</td>\n      <td>...</td>\n      <td>...</td>\n      <td>...</td>\n      <td>...</td>\n      <td>...</td>\n      <td>...</td>\n      <td>...</td>\n      <td>...</td>\n      <td>...</td>\n      <td>...</td>\n      <td>...</td>\n      <td>...</td>\n    </tr>\n    <tr>\n      <th>33336</th>\n      <td>-0.513509</td>\n      <td>0.128544</td>\n      <td>2.039597</td>\n      <td>-0.299465</td>\n      <td>-0.599164</td>\n      <td>-0.393354</td>\n      <td>0.112577</td>\n      <td>1.611766</td>\n      <td>-0.406810</td>\n      <td>0.193332</td>\n      <td>...</td>\n      <td>-0.549131</td>\n      <td>0.275840</td>\n      <td>1.047210</td>\n      <td>1.753217</td>\n      <td>-1.041353</td>\n      <td>0.628145</td>\n      <td>-1.651687</td>\n      <td>0.745647</td>\n      <td>-0.047421</td>\n      <td>1.033260</td>\n    </tr>\n    <tr>\n      <th>33337</th>\n      <td>-0.583663</td>\n      <td>0.689026</td>\n      <td>2.111216</td>\n      <td>0.589455</td>\n      <td>-0.939575</td>\n      <td>1.173398</td>\n      <td>-0.115160</td>\n      <td>0.952676</td>\n      <td>0.079639</td>\n      <td>-0.912642</td>\n      <td>...</td>\n      <td>-0.333912</td>\n      <td>1.120153</td>\n      <td>0.981974</td>\n      <td>1.904992</td>\n      <td>-1.181392</td>\n      <td>0.934996</td>\n      <td>-0.200818</td>\n      <td>-0.540170</td>\n      <td>-0.359948</td>\n      <td>-0.219496</td>\n    </tr>\n    <tr>\n      <th>33338</th>\n      <td>-1.495019</td>\n      <td>0.790122</td>\n      <td>1.807736</td>\n      <td>-0.786408</td>\n      <td>-0.355426</td>\n      <td>0.124692</td>\n      <td>0.333372</td>\n      <td>1.503447</td>\n      <td>-0.867034</td>\n      <td>0.268472</td>\n      <td>...</td>\n      <td>-0.744148</td>\n      <td>0.447202</td>\n      <td>1.260685</td>\n      <td>1.905787</td>\n      <td>-0.572558</td>\n      <td>0.783855</td>\n      <td>-0.512786</td>\n      <td>-0.382856</td>\n      <td>-0.284805</td>\n      <td>-0.314551</td>\n    </tr>\n    <tr>\n      <th>33339</th>\n      <td>-1.155704</td>\n      <td>0.062052</td>\n      <td>0.672390</td>\n      <td>0.484694</td>\n      <td>-0.193628</td>\n      <td>-0.465796</td>\n      <td>-0.932989</td>\n      <td>1.382008</td>\n      <td>-0.089423</td>\n      <td>-0.623302</td>\n      <td>...</td>\n      <td>-0.414172</td>\n      <td>0.920319</td>\n      <td>1.126764</td>\n      <td>2.062665</td>\n      <td>-1.038254</td>\n      <td>0.336398</td>\n      <td>-1.023622</td>\n      <td>0.650219</td>\n      <td>0.000506</td>\n      <td>0.076306</td>\n    </tr>\n    <tr>\n      <th>33340</th>\n      <td>-0.584423</td>\n      <td>0.681281</td>\n      <td>1.292042</td>\n      <td>-0.919031</td>\n      <td>-1.474468</td>\n      <td>0.721617</td>\n      <td>0.722683</td>\n      <td>1.758570</td>\n      <td>0.358318</td>\n      <td>-0.417843</td>\n      <td>...</td>\n      <td>0.080607</td>\n      <td>1.063166</td>\n      <td>0.078855</td>\n      <td>1.986718</td>\n      <td>-1.119658</td>\n      <td>1.291826</td>\n      <td>-0.460396</td>\n      <td>0.135990</td>\n      <td>-0.616050</td>\n      <td>-0.238102</td>\n    </tr>\n  </tbody>\n</table>\n<p>33341 rows × 768 columns</p>\n</div>"
     },
     "execution_count": 6,
     "metadata": {},
     "output_type": "execute_result"
    }
   ],
   "source": [
    "gpt2Dataframe = pd.DataFrame(vectorialRepresentation)\n",
    "gpt2Dataframe"
   ],
   "metadata": {
    "collapsed": false,
    "pycharm": {
     "name": "#%%\n"
    }
   }
  },
  {
   "cell_type": "markdown",
   "source": [
    "# Visualização de dados com TSNE"
   ],
   "metadata": {
    "collapsed": false,
    "pycharm": {
     "name": "#%% md\n"
    }
   }
  },
  {
   "cell_type": "code",
   "execution_count": 7,
   "outputs": [
    {
     "name": "stderr",
     "output_type": "stream",
     "text": [
      "E:\\DevPack\\anaconda3\\envs\\data_science\\lib\\site-packages\\sklearn\\manifold\\_t_sne.py:780: FutureWarning: The default initialization in TSNE will change from 'random' to 'pca' in 1.2.\n",
      "  warnings.warn(\n",
      "E:\\DevPack\\anaconda3\\envs\\data_science\\lib\\site-packages\\sklearn\\manifold\\_t_sne.py:790: FutureWarning: The default learning rate in TSNE will change from 200.0 to 'auto' in 1.2.\n",
      "  warnings.warn(\n"
     ]
    },
    {
     "ename": "MemoryError",
     "evalue": "Unable to allocate 85.1 MiB for an array with shape (3340, 3340) and data type float64",
     "output_type": "error",
     "traceback": [
      "\u001B[1;31m---------------------------------------------------------------------------\u001B[0m",
      "\u001B[1;31mMemoryError\u001B[0m                               Traceback (most recent call last)",
      "Input \u001B[1;32mIn [7]\u001B[0m, in \u001B[0;36m<cell line: 2>\u001B[1;34m()\u001B[0m\n\u001B[0;32m      1\u001B[0m model \u001B[38;5;241m=\u001B[39m TSNE(n_components\u001B[38;5;241m=\u001B[39m\u001B[38;5;241m2\u001B[39m, random_state\u001B[38;5;241m=\u001B[39m\u001B[38;5;241m0\u001B[39m)\n\u001B[1;32m----> 2\u001B[0m array_red \u001B[38;5;241m=\u001B[39m \u001B[43mmodel\u001B[49m\u001B[38;5;241;43m.\u001B[39;49m\u001B[43mfit_transform\u001B[49m\u001B[43m(\u001B[49m\u001B[43mgpt2Dataframe\u001B[49m\u001B[43m)\u001B[49m\n\u001B[0;32m      4\u001B[0m df_tsne \u001B[38;5;241m=\u001B[39m pd\u001B[38;5;241m.\u001B[39mDataFrame(array_red)\n\u001B[0;32m      6\u001B[0m df_tsne[\u001B[38;5;124m'\u001B[39m\u001B[38;5;124mTarget\u001B[39m\u001B[38;5;124m'\u001B[39m] \u001B[38;5;241m=\u001B[39m target\n",
      "File \u001B[1;32mE:\\DevPack\\anaconda3\\envs\\data_science\\lib\\site-packages\\sklearn\\manifold\\_t_sne.py:1108\u001B[0m, in \u001B[0;36mTSNE.fit_transform\u001B[1;34m(self, X, y)\u001B[0m\n\u001B[0;32m   1088\u001B[0m \u001B[38;5;28;01mdef\u001B[39;00m \u001B[38;5;21mfit_transform\u001B[39m(\u001B[38;5;28mself\u001B[39m, X, y\u001B[38;5;241m=\u001B[39m\u001B[38;5;28;01mNone\u001B[39;00m):\n\u001B[0;32m   1089\u001B[0m     \u001B[38;5;124;03m\"\"\"Fit X into an embedded space and return that transformed output.\u001B[39;00m\n\u001B[0;32m   1090\u001B[0m \n\u001B[0;32m   1091\u001B[0m \u001B[38;5;124;03m    Parameters\u001B[39;00m\n\u001B[1;32m   (...)\u001B[0m\n\u001B[0;32m   1106\u001B[0m \u001B[38;5;124;03m        Embedding of the training data in low-dimensional space.\u001B[39;00m\n\u001B[0;32m   1107\u001B[0m \u001B[38;5;124;03m    \"\"\"\u001B[39;00m\n\u001B[1;32m-> 1108\u001B[0m     embedding \u001B[38;5;241m=\u001B[39m \u001B[38;5;28;43mself\u001B[39;49m\u001B[38;5;241;43m.\u001B[39;49m\u001B[43m_fit\u001B[49m\u001B[43m(\u001B[49m\u001B[43mX\u001B[49m\u001B[43m)\u001B[49m\n\u001B[0;32m   1109\u001B[0m     \u001B[38;5;28mself\u001B[39m\u001B[38;5;241m.\u001B[39membedding_ \u001B[38;5;241m=\u001B[39m embedding\n\u001B[0;32m   1110\u001B[0m     \u001B[38;5;28;01mreturn\u001B[39;00m \u001B[38;5;28mself\u001B[39m\u001B[38;5;241m.\u001B[39membedding_\n",
      "File \u001B[1;32mE:\\DevPack\\anaconda3\\envs\\data_science\\lib\\site-packages\\sklearn\\manifold\\_t_sne.py:947\u001B[0m, in \u001B[0;36mTSNE._fit\u001B[1;34m(self, X, skip_num_points)\u001B[0m\n\u001B[0;32m    940\u001B[0m     \u001B[38;5;28mprint\u001B[39m(\n\u001B[0;32m    941\u001B[0m         \u001B[38;5;124m\"\u001B[39m\u001B[38;5;124m[t-SNE] Indexed \u001B[39m\u001B[38;5;132;01m{}\u001B[39;00m\u001B[38;5;124m samples in \u001B[39m\u001B[38;5;132;01m{:.3f}\u001B[39;00m\u001B[38;5;124ms...\u001B[39m\u001B[38;5;124m\"\u001B[39m\u001B[38;5;241m.\u001B[39mformat(\n\u001B[0;32m    942\u001B[0m             n_samples, duration\n\u001B[0;32m    943\u001B[0m         )\n\u001B[0;32m    944\u001B[0m     )\n\u001B[0;32m    946\u001B[0m t0 \u001B[38;5;241m=\u001B[39m time()\n\u001B[1;32m--> 947\u001B[0m distances_nn \u001B[38;5;241m=\u001B[39m \u001B[43mknn\u001B[49m\u001B[38;5;241;43m.\u001B[39;49m\u001B[43mkneighbors_graph\u001B[49m\u001B[43m(\u001B[49m\u001B[43mmode\u001B[49m\u001B[38;5;241;43m=\u001B[39;49m\u001B[38;5;124;43m\"\u001B[39;49m\u001B[38;5;124;43mdistance\u001B[39;49m\u001B[38;5;124;43m\"\u001B[39;49m\u001B[43m)\u001B[49m\n\u001B[0;32m    948\u001B[0m duration \u001B[38;5;241m=\u001B[39m time() \u001B[38;5;241m-\u001B[39m t0\n\u001B[0;32m    949\u001B[0m \u001B[38;5;28;01mif\u001B[39;00m \u001B[38;5;28mself\u001B[39m\u001B[38;5;241m.\u001B[39mverbose:\n",
      "File \u001B[1;32mE:\\DevPack\\anaconda3\\envs\\data_science\\lib\\site-packages\\sklearn\\neighbors\\_base.py:886\u001B[0m, in \u001B[0;36mKNeighborsMixin.kneighbors_graph\u001B[1;34m(self, X, n_neighbors, mode)\u001B[0m\n\u001B[0;32m    883\u001B[0m     A_data \u001B[38;5;241m=\u001B[39m np\u001B[38;5;241m.\u001B[39mones(n_queries \u001B[38;5;241m*\u001B[39m n_neighbors)\n\u001B[0;32m    885\u001B[0m \u001B[38;5;28;01melif\u001B[39;00m mode \u001B[38;5;241m==\u001B[39m \u001B[38;5;124m\"\u001B[39m\u001B[38;5;124mdistance\u001B[39m\u001B[38;5;124m\"\u001B[39m:\n\u001B[1;32m--> 886\u001B[0m     A_data, A_ind \u001B[38;5;241m=\u001B[39m \u001B[38;5;28;43mself\u001B[39;49m\u001B[38;5;241;43m.\u001B[39;49m\u001B[43mkneighbors\u001B[49m\u001B[43m(\u001B[49m\u001B[43mX\u001B[49m\u001B[43m,\u001B[49m\u001B[43m \u001B[49m\u001B[43mn_neighbors\u001B[49m\u001B[43m,\u001B[49m\u001B[43m \u001B[49m\u001B[43mreturn_distance\u001B[49m\u001B[38;5;241;43m=\u001B[39;49m\u001B[38;5;28;43;01mTrue\u001B[39;49;00m\u001B[43m)\u001B[49m\n\u001B[0;32m    887\u001B[0m     A_data \u001B[38;5;241m=\u001B[39m np\u001B[38;5;241m.\u001B[39mravel(A_data)\n\u001B[0;32m    889\u001B[0m \u001B[38;5;28;01melse\u001B[39;00m:\n",
      "File \u001B[1;32mE:\\DevPack\\anaconda3\\envs\\data_science\\lib\\site-packages\\sklearn\\neighbors\\_base.py:752\u001B[0m, in \u001B[0;36mKNeighborsMixin.kneighbors\u001B[1;34m(self, X, n_neighbors, return_distance)\u001B[0m\n\u001B[0;32m    749\u001B[0m     \u001B[38;5;28;01melse\u001B[39;00m:\n\u001B[0;32m    750\u001B[0m         kwds \u001B[38;5;241m=\u001B[39m \u001B[38;5;28mself\u001B[39m\u001B[38;5;241m.\u001B[39meffective_metric_params_\n\u001B[1;32m--> 752\u001B[0m     chunked_results \u001B[38;5;241m=\u001B[39m \u001B[38;5;28;43mlist\u001B[39;49m\u001B[43m(\u001B[49m\n\u001B[0;32m    753\u001B[0m \u001B[43m        \u001B[49m\u001B[43mpairwise_distances_chunked\u001B[49m\u001B[43m(\u001B[49m\n\u001B[0;32m    754\u001B[0m \u001B[43m            \u001B[49m\u001B[43mX\u001B[49m\u001B[43m,\u001B[49m\n\u001B[0;32m    755\u001B[0m \u001B[43m            \u001B[49m\u001B[38;5;28;43mself\u001B[39;49m\u001B[38;5;241;43m.\u001B[39;49m\u001B[43m_fit_X\u001B[49m\u001B[43m,\u001B[49m\n\u001B[0;32m    756\u001B[0m \u001B[43m            \u001B[49m\u001B[43mreduce_func\u001B[49m\u001B[38;5;241;43m=\u001B[39;49m\u001B[43mreduce_func\u001B[49m\u001B[43m,\u001B[49m\n\u001B[0;32m    757\u001B[0m \u001B[43m            \u001B[49m\u001B[43mmetric\u001B[49m\u001B[38;5;241;43m=\u001B[39;49m\u001B[38;5;28;43mself\u001B[39;49m\u001B[38;5;241;43m.\u001B[39;49m\u001B[43meffective_metric_\u001B[49m\u001B[43m,\u001B[49m\n\u001B[0;32m    758\u001B[0m \u001B[43m            \u001B[49m\u001B[43mn_jobs\u001B[49m\u001B[38;5;241;43m=\u001B[39;49m\u001B[43mn_jobs\u001B[49m\u001B[43m,\u001B[49m\n\u001B[0;32m    759\u001B[0m \u001B[43m            \u001B[49m\u001B[38;5;241;43m*\u001B[39;49m\u001B[38;5;241;43m*\u001B[39;49m\u001B[43mkwds\u001B[49m\u001B[43m,\u001B[49m\n\u001B[0;32m    760\u001B[0m \u001B[43m        \u001B[49m\u001B[43m)\u001B[49m\n\u001B[0;32m    761\u001B[0m \u001B[43m    \u001B[49m\u001B[43m)\u001B[49m\n\u001B[0;32m    763\u001B[0m \u001B[38;5;28;01melif\u001B[39;00m \u001B[38;5;28mself\u001B[39m\u001B[38;5;241m.\u001B[39m_fit_method \u001B[38;5;129;01min\u001B[39;00m [\u001B[38;5;124m\"\u001B[39m\u001B[38;5;124mball_tree\u001B[39m\u001B[38;5;124m\"\u001B[39m, \u001B[38;5;124m\"\u001B[39m\u001B[38;5;124mkd_tree\u001B[39m\u001B[38;5;124m\"\u001B[39m]:\n\u001B[0;32m    764\u001B[0m     \u001B[38;5;28;01mif\u001B[39;00m issparse(X):\n",
      "File \u001B[1;32mE:\\DevPack\\anaconda3\\envs\\data_science\\lib\\site-packages\\sklearn\\metrics\\pairwise.py:1717\u001B[0m, in \u001B[0;36mpairwise_distances_chunked\u001B[1;34m(X, Y, reduce_func, metric, n_jobs, working_memory, **kwds)\u001B[0m\n\u001B[0;32m   1715\u001B[0m \u001B[38;5;28;01melse\u001B[39;00m:\n\u001B[0;32m   1716\u001B[0m     X_chunk \u001B[38;5;241m=\u001B[39m X[sl]\n\u001B[1;32m-> 1717\u001B[0m D_chunk \u001B[38;5;241m=\u001B[39m pairwise_distances(X_chunk, Y, metric\u001B[38;5;241m=\u001B[39mmetric, n_jobs\u001B[38;5;241m=\u001B[39mn_jobs, \u001B[38;5;241m*\u001B[39m\u001B[38;5;241m*\u001B[39mkwds)\n\u001B[0;32m   1718\u001B[0m \u001B[38;5;28;01mif\u001B[39;00m (X \u001B[38;5;129;01mis\u001B[39;00m Y \u001B[38;5;129;01mor\u001B[39;00m Y \u001B[38;5;129;01mis\u001B[39;00m \u001B[38;5;28;01mNone\u001B[39;00m) \u001B[38;5;129;01mand\u001B[39;00m PAIRWISE_DISTANCE_FUNCTIONS\u001B[38;5;241m.\u001B[39mget(\n\u001B[0;32m   1719\u001B[0m     metric, \u001B[38;5;28;01mNone\u001B[39;00m\n\u001B[0;32m   1720\u001B[0m ) \u001B[38;5;129;01mis\u001B[39;00m euclidean_distances:\n\u001B[0;32m   1721\u001B[0m     \u001B[38;5;66;03m# zeroing diagonal, taking care of aliases of \"euclidean\",\u001B[39;00m\n\u001B[0;32m   1722\u001B[0m     \u001B[38;5;66;03m# i.e. \"l2\"\u001B[39;00m\n\u001B[0;32m   1723\u001B[0m     D_chunk\u001B[38;5;241m.\u001B[39mflat[sl\u001B[38;5;241m.\u001B[39mstart :: _num_samples(X) \u001B[38;5;241m+\u001B[39m \u001B[38;5;241m1\u001B[39m] \u001B[38;5;241m=\u001B[39m \u001B[38;5;241m0\u001B[39m\n",
      "File \u001B[1;32mE:\\DevPack\\anaconda3\\envs\\data_science\\lib\\site-packages\\sklearn\\metrics\\pairwise.py:1889\u001B[0m, in \u001B[0;36mpairwise_distances\u001B[1;34m(X, Y, metric, n_jobs, force_all_finite, **kwds)\u001B[0m\n\u001B[0;32m   1886\u001B[0m         \u001B[38;5;28;01mreturn\u001B[39;00m distance\u001B[38;5;241m.\u001B[39msquareform(distance\u001B[38;5;241m.\u001B[39mpdist(X, metric\u001B[38;5;241m=\u001B[39mmetric, \u001B[38;5;241m*\u001B[39m\u001B[38;5;241m*\u001B[39mkwds))\n\u001B[0;32m   1887\u001B[0m     func \u001B[38;5;241m=\u001B[39m partial(distance\u001B[38;5;241m.\u001B[39mcdist, metric\u001B[38;5;241m=\u001B[39mmetric, \u001B[38;5;241m*\u001B[39m\u001B[38;5;241m*\u001B[39mkwds)\n\u001B[1;32m-> 1889\u001B[0m \u001B[38;5;28;01mreturn\u001B[39;00m _parallel_pairwise(X, Y, func, n_jobs, \u001B[38;5;241m*\u001B[39m\u001B[38;5;241m*\u001B[39mkwds)\n",
      "File \u001B[1;32mE:\\DevPack\\anaconda3\\envs\\data_science\\lib\\site-packages\\sklearn\\metrics\\pairwise.py:1430\u001B[0m, in \u001B[0;36m_parallel_pairwise\u001B[1;34m(X, Y, func, n_jobs, **kwds)\u001B[0m\n\u001B[0;32m   1427\u001B[0m X, Y, dtype \u001B[38;5;241m=\u001B[39m _return_float_dtype(X, Y)\n\u001B[0;32m   1429\u001B[0m \u001B[38;5;28;01mif\u001B[39;00m effective_n_jobs(n_jobs) \u001B[38;5;241m==\u001B[39m \u001B[38;5;241m1\u001B[39m:\n\u001B[1;32m-> 1430\u001B[0m     \u001B[38;5;28;01mreturn\u001B[39;00m func(X, Y, \u001B[38;5;241m*\u001B[39m\u001B[38;5;241m*\u001B[39mkwds)\n\u001B[0;32m   1432\u001B[0m \u001B[38;5;66;03m# enforce a threading backend to prevent data communication overhead\u001B[39;00m\n\u001B[0;32m   1433\u001B[0m fd \u001B[38;5;241m=\u001B[39m delayed(_dist_wrapper)\n",
      "File \u001B[1;32mE:\\DevPack\\anaconda3\\envs\\data_science\\lib\\site-packages\\sklearn\\metrics\\pairwise.py:330\u001B[0m, in \u001B[0;36meuclidean_distances\u001B[1;34m(X, Y, Y_norm_squared, squared, X_norm_squared)\u001B[0m\n\u001B[0;32m    324\u001B[0m     \u001B[38;5;28;01mif\u001B[39;00m Y_norm_squared\u001B[38;5;241m.\u001B[39mshape \u001B[38;5;241m!=\u001B[39m (\u001B[38;5;241m1\u001B[39m, Y\u001B[38;5;241m.\u001B[39mshape[\u001B[38;5;241m0\u001B[39m]):\n\u001B[0;32m    325\u001B[0m         \u001B[38;5;28;01mraise\u001B[39;00m \u001B[38;5;167;01mValueError\u001B[39;00m(\n\u001B[0;32m    326\u001B[0m             \u001B[38;5;124mf\u001B[39m\u001B[38;5;124m\"\u001B[39m\u001B[38;5;124mIncompatible dimensions for Y of shape \u001B[39m\u001B[38;5;132;01m{\u001B[39;00mY\u001B[38;5;241m.\u001B[39mshape\u001B[38;5;132;01m}\u001B[39;00m\u001B[38;5;124m and \u001B[39m\u001B[38;5;124m\"\u001B[39m\n\u001B[0;32m    327\u001B[0m             \u001B[38;5;124mf\u001B[39m\u001B[38;5;124m\"\u001B[39m\u001B[38;5;124mY_norm_squared of shape \u001B[39m\u001B[38;5;132;01m{\u001B[39;00moriginal_shape\u001B[38;5;132;01m}\u001B[39;00m\u001B[38;5;124m.\u001B[39m\u001B[38;5;124m\"\u001B[39m\n\u001B[0;32m    328\u001B[0m         )\n\u001B[1;32m--> 330\u001B[0m \u001B[38;5;28;01mreturn\u001B[39;00m \u001B[43m_euclidean_distances\u001B[49m\u001B[43m(\u001B[49m\u001B[43mX\u001B[49m\u001B[43m,\u001B[49m\u001B[43m \u001B[49m\u001B[43mY\u001B[49m\u001B[43m,\u001B[49m\u001B[43m \u001B[49m\u001B[43mX_norm_squared\u001B[49m\u001B[43m,\u001B[49m\u001B[43m \u001B[49m\u001B[43mY_norm_squared\u001B[49m\u001B[43m,\u001B[49m\u001B[43m \u001B[49m\u001B[43msquared\u001B[49m\u001B[43m)\u001B[49m\n",
      "File \u001B[1;32mE:\\DevPack\\anaconda3\\envs\\data_science\\lib\\site-packages\\sklearn\\metrics\\pairwise.py:368\u001B[0m, in \u001B[0;36m_euclidean_distances\u001B[1;34m(X, Y, X_norm_squared, Y_norm_squared, squared)\u001B[0m\n\u001B[0;32m    363\u001B[0m         YY \u001B[38;5;241m=\u001B[39m row_norms(Y, squared\u001B[38;5;241m=\u001B[39m\u001B[38;5;28;01mTrue\u001B[39;00m)[np\u001B[38;5;241m.\u001B[39mnewaxis, :]\n\u001B[0;32m    365\u001B[0m \u001B[38;5;28;01mif\u001B[39;00m X\u001B[38;5;241m.\u001B[39mdtype \u001B[38;5;241m==\u001B[39m np\u001B[38;5;241m.\u001B[39mfloat32:\n\u001B[0;32m    366\u001B[0m     \u001B[38;5;66;03m# To minimize precision issues with float32, we compute the distance\u001B[39;00m\n\u001B[0;32m    367\u001B[0m     \u001B[38;5;66;03m# matrix on chunks of X and Y upcast to float64\u001B[39;00m\n\u001B[1;32m--> 368\u001B[0m     distances \u001B[38;5;241m=\u001B[39m \u001B[43m_euclidean_distances_upcast\u001B[49m\u001B[43m(\u001B[49m\u001B[43mX\u001B[49m\u001B[43m,\u001B[49m\u001B[43m \u001B[49m\u001B[43mXX\u001B[49m\u001B[43m,\u001B[49m\u001B[43m \u001B[49m\u001B[43mY\u001B[49m\u001B[43m,\u001B[49m\u001B[43m \u001B[49m\u001B[43mYY\u001B[49m\u001B[43m)\u001B[49m\n\u001B[0;32m    369\u001B[0m \u001B[38;5;28;01melse\u001B[39;00m:\n\u001B[0;32m    370\u001B[0m     \u001B[38;5;66;03m# if dtype is already float64, no need to chunk and upcast\u001B[39;00m\n\u001B[0;32m    371\u001B[0m     distances \u001B[38;5;241m=\u001B[39m \u001B[38;5;241m-\u001B[39m\u001B[38;5;241m2\u001B[39m \u001B[38;5;241m*\u001B[39m safe_sparse_dot(X, Y\u001B[38;5;241m.\u001B[39mT, dense_output\u001B[38;5;241m=\u001B[39m\u001B[38;5;28;01mTrue\u001B[39;00m)\n",
      "File \u001B[1;32mE:\\DevPack\\anaconda3\\envs\\data_science\\lib\\site-packages\\sklearn\\metrics\\pairwise.py:565\u001B[0m, in \u001B[0;36m_euclidean_distances_upcast\u001B[1;34m(X, XX, Y, YY, batch_size)\u001B[0m\n\u001B[0;32m    562\u001B[0m \u001B[38;5;28;01melse\u001B[39;00m:\n\u001B[0;32m    563\u001B[0m     YY_chunk \u001B[38;5;241m=\u001B[39m YY[:, y_slice]\n\u001B[1;32m--> 565\u001B[0m d \u001B[38;5;241m=\u001B[39m \u001B[38;5;241;43m-\u001B[39;49m\u001B[38;5;241;43m2\u001B[39;49m\u001B[43m \u001B[49m\u001B[38;5;241;43m*\u001B[39;49m\u001B[43m \u001B[49m\u001B[43msafe_sparse_dot\u001B[49m\u001B[43m(\u001B[49m\u001B[43mX_chunk\u001B[49m\u001B[43m,\u001B[49m\u001B[43m \u001B[49m\u001B[43mY_chunk\u001B[49m\u001B[38;5;241;43m.\u001B[39;49m\u001B[43mT\u001B[49m\u001B[43m,\u001B[49m\u001B[43m \u001B[49m\u001B[43mdense_output\u001B[49m\u001B[38;5;241;43m=\u001B[39;49m\u001B[38;5;28;43;01mTrue\u001B[39;49;00m\u001B[43m)\u001B[49m\n\u001B[0;32m    566\u001B[0m d \u001B[38;5;241m+\u001B[39m\u001B[38;5;241m=\u001B[39m XX_chunk\n\u001B[0;32m    567\u001B[0m d \u001B[38;5;241m+\u001B[39m\u001B[38;5;241m=\u001B[39m YY_chunk\n",
      "\u001B[1;31mMemoryError\u001B[0m: Unable to allocate 85.1 MiB for an array with shape (3340, 3340) and data type float64"
     ]
    }
   ],
   "source": [
    "model = TSNE(n_components=2, random_state=0)\n",
    "array_red = model.fit_transform(gpt2Dataframe)\n",
    "\n",
    "df_tsne = pd.DataFrame(array_red)\n",
    "\n",
    "df_tsne['Target'] = target\n",
    "print(df_tsne)\n",
    "df_tsne_c1 = df_tsne[df_tsne['Target'] == 0]\n",
    "\n",
    "df_tsne_c2 = df_tsne[df_tsne['Target'] == 1]\n",
    "\n",
    "plt.scatter(df_tsne_c1[0].array,df_tsne_c1[1].array,marker='o',color='blue')\n",
    "\n",
    "plt.scatter(df_tsne_c2[0].array,df_tsne_c2[1].array,marker='o',color='red')\n",
    "\n",
    "plt.title('Dados')\n",
    "plt.xlabel('x')\n",
    "plt.ylabel('y')\n",
    "\n",
    "plt.show()"
   ],
   "metadata": {
    "collapsed": false,
    "pycharm": {
     "name": "#%%\n"
    }
   }
  },
  {
   "cell_type": "markdown",
   "source": [
    "# Validação"
   ],
   "metadata": {
    "collapsed": false,
    "pycharm": {
     "name": "#%% md\n"
    }
   }
  },
  {
   "cell_type": "code",
   "execution_count": null,
   "outputs": [],
   "source": [
    "def getModel():\n",
    "    return DecisionTreeClassifier()"
   ],
   "metadata": {
    "collapsed": false,
    "pycharm": {
     "name": "#%%\n"
    }
   }
  },
  {
   "cell_type": "code",
   "execution_count": null,
   "outputs": [],
   "source": [
    "X_treino, X_teste, y_treino, y_teste = train_test_split(gpt2Dataframe.values,target,test_size=0.2)\n",
    "modelo = getModel().fit(X_treino,y_treino)\n",
    "score = modelo.score(X_teste,y_teste)\n",
    "score"
   ],
   "metadata": {
    "collapsed": false,
    "pycharm": {
     "name": "#%%\n"
    }
   }
  },
  {
   "cell_type": "code",
   "execution_count": null,
   "outputs": [],
   "source": [
    "scores = cross_val_score(getModel(),gpt2Dataframe.values,target,cv=10)\n",
    "\n",
    "scores.mean()"
   ],
   "metadata": {
    "collapsed": false,
    "pycharm": {
     "name": "#%%\n"
    }
   }
  },
  {
   "cell_type": "code",
   "execution_count": null,
   "outputs": [],
   "source": [
    "predicoes = cross_val_predict(getModel(), gpt2Dataframe.values, target, cv=10)"
   ],
   "metadata": {
    "collapsed": false,
    "pycharm": {
     "name": "#%%\n"
    }
   }
  },
  {
   "cell_type": "code",
   "execution_count": null,
   "outputs": [],
   "source": [
    "print(\"\\nClassification Report : \")\n",
    "print(classification_report(target, predicoes, target_names=[\"Ham\", \"Spam\"]))"
   ],
   "metadata": {
    "collapsed": false,
    "pycharm": {
     "name": "#%%\n"
    }
   }
  },
  {
   "cell_type": "code",
   "execution_count": null,
   "outputs": [],
   "source": [
    "categories = [\"Ham\", \"Spam\"]\n",
    "\n",
    "skplt.metrics.plot_confusion_matrix(\n",
    "    [categories[i] for i in target], [categories[i] for i in predicoes.tolist()],\n",
    "    title=\"Confusion Matrix\",\n",
    "    cmap=\"Purples\",\n",
    "    hide_zeros=True,\n",
    "    figsize=(5,5)\n",
    ")\n",
    "\n",
    "plt.xticks()"
   ],
   "metadata": {
    "collapsed": false,
    "pycharm": {
     "name": "#%%\n"
    }
   }
  },
  {
   "cell_type": "code",
   "execution_count": null,
   "outputs": [],
   "source": [
    "skplt.metrics.plot_confusion_matrix(\n",
    "    [categories[i] for i in target], [categories[i] for i in predicoes.tolist()],\n",
    "    normalize=True,\n",
    "    title=\"Confusion Matrix\",\n",
    "    cmap=\"Purples\",\n",
    "    hide_zeros=True,\n",
    "    figsize=(5,5)\n",
    ")\n",
    "\n",
    "plt.xticks()"
   ],
   "metadata": {
    "collapsed": false,
    "pycharm": {
     "name": "#%%\n"
    }
   }
  }
 ],
 "metadata": {
  "kernelspec": {
   "display_name": "Python 3",
   "language": "python",
   "name": "python3"
  },
  "language_info": {
   "codemirror_mode": {
    "name": "ipython",
    "version": 3
   },
   "file_extension": ".py",
   "mimetype": "text/x-python",
   "name": "python",
   "nbconvert_exporter": "python",
   "pygments_lexer": "ipython3",
   "version": "3.8.8"
  }
 },
 "nbformat": 4,
 "nbformat_minor": 1
}