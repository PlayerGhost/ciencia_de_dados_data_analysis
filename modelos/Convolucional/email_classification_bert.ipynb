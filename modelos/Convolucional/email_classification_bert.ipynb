{
 "cells": [
  {
   "cell_type": "code",
   "execution_count": 1,
   "metadata": {
    "collapsed": false,
    "pycharm": {
     "name": "#%%\n"
    }
   },
   "outputs": [],
   "source": [
    "import pandas as pd\n",
    "from sklearn.tree import DecisionTreeClassifier\n",
    "from sklearn.model_selection import train_test_split, cross_val_score, cross_val_predict\n",
    "from sklearn.manifold import TSNE\n",
    "from sklearn.metrics import  classification_report\n",
    "import matplotlib.pyplot as plt\n",
    "import scikitplot as skplt\n",
    "from simpletransformers.language_representation import RepresentationModel\n",
    "import numpy as np\n",
    "import tensorflow as tf\n",
    "import keras\n",
    "from sklearn.model_selection import KFold\n"
   ]
  },
  {
   "cell_type": "markdown",
   "metadata": {
    "collapsed": false,
    "pycharm": {
     "name": "#%% md\n"
    }
   },
   "source": [
    "# Carregando base de dados  pré-processada"
   ]
  },
  {
   "cell_type": "code",
   "execution_count": 2,
   "metadata": {
    "collapsed": false,
    "pycharm": {
     "name": "#%%\n"
    }
   },
   "outputs": [
    {
     "data": {
      "text/html": [
       "<div>\n",
       "<style scoped>\n",
       "    .dataframe tbody tr th:only-of-type {\n",
       "        vertical-align: middle;\n",
       "    }\n",
       "\n",
       "    .dataframe tbody tr th {\n",
       "        vertical-align: top;\n",
       "    }\n",
       "\n",
       "    .dataframe thead th {\n",
       "        text-align: right;\n",
       "    }\n",
       "</style>\n",
       "<table border=\"1\" class=\"dataframe\">\n",
       "  <thead>\n",
       "    <tr style=\"text-align: right;\">\n",
       "      <th></th>\n",
       "      <th>email</th>\n",
       "      <th>target</th>\n",
       "    </tr>\n",
       "  </thead>\n",
       "  <tbody>\n",
       "    <tr>\n",
       "      <th>0</th>\n",
       "      <td>start date     hourahead timee  cardinall  hou...</td>\n",
       "      <td>0</td>\n",
       "    </tr>\n",
       "    <tr>\n",
       "      <th>1</th>\n",
       "      <td>service long desk  price structure deal quote ...</td>\n",
       "      <td>0</td>\n",
       "    </tr>\n",
       "    <tr>\n",
       "      <th>2</th>\n",
       "      <td>start date  cardinall    hourahead timee  card...</td>\n",
       "      <td>0</td>\n",
       "    </tr>\n",
       "    <tr>\n",
       "      <th>3</th>\n",
       "      <td>start date     hourahead timee  cardinall  anc...</td>\n",
       "      <td>0</td>\n",
       "    </tr>\n",
       "    <tr>\n",
       "      <th>4</th>\n",
       "      <td>cardinall deliverable revenue management marke...</td>\n",
       "      <td>0</td>\n",
       "    </tr>\n",
       "    <tr>\n",
       "      <th>...</th>\n",
       "      <td>...</td>\n",
       "      <td>...</td>\n",
       "    </tr>\n",
       "    <tr>\n",
       "      <th>33340</th>\n",
       "      <td>bio  matrix scientific group   symbo   bmxg  p...</td>\n",
       "      <td>1</td>\n",
       "    </tr>\n",
       "    <tr>\n",
       "      <th>33341</th>\n",
       "      <td>cardinall step away hot naked webcam girl liv...</td>\n",
       "      <td>1</td>\n",
       "    </tr>\n",
       "    <tr>\n",
       "      <th>33342</th>\n",
       "      <td>need pill increase performance click  seroius ...</td>\n",
       "      <td>1</td>\n",
       "    </tr>\n",
       "    <tr>\n",
       "      <th>33343</th>\n",
       "      <td>datee final nom       inlet hpl  eastrans  car...</td>\n",
       "      <td>0</td>\n",
       "    </tr>\n",
       "    <tr>\n",
       "      <th>33344</th>\n",
       "      <td>ordinall time  offering male enhancement perfo...</td>\n",
       "      <td>1</td>\n",
       "    </tr>\n",
       "  </tbody>\n",
       "</table>\n",
       "<p>33341 rows × 2 columns</p>\n",
       "</div>"
      ],
      "text/plain": [
       "                                                   email  target\n",
       "0      start date     hourahead timee  cardinall  hou...       0\n",
       "1      service long desk  price structure deal quote ...       0\n",
       "2      start date  cardinall    hourahead timee  card...       0\n",
       "3      start date     hourahead timee  cardinall  anc...       0\n",
       "4      cardinall deliverable revenue management marke...       0\n",
       "...                                                  ...     ...\n",
       "33340  bio  matrix scientific group   symbo   bmxg  p...       1\n",
       "33341   cardinall step away hot naked webcam girl liv...       1\n",
       "33342  need pill increase performance click  seroius ...       1\n",
       "33343  datee final nom       inlet hpl  eastrans  car...       0\n",
       "33344  ordinall time  offering male enhancement perfo...       1\n",
       "\n",
       "[33341 rows x 2 columns]"
      ]
     },
     "execution_count": 2,
     "metadata": {},
     "output_type": "execute_result"
    }
   ],
   "source": [
    "dataset = pd.read_csv(\"../../Database/dataBaseWithNER.csv\")\n",
    "dataset = dataset.drop(columns=[\"Unnamed: 0\"])\n",
    "dataset = dataset.dropna()\n",
    "targets = np.array(dataset[\"target\"].array)\n",
    "\n",
    "dataset"
   ]
  },
  {
   "cell_type": "code",
   "execution_count": 3,
   "metadata": {
    "collapsed": false,
    "pycharm": {
     "name": "#%%\n"
    }
   },
   "outputs": [],
   "source": [
    "emailsText = []\n",
    "for email in dataset[\"email\"]:\n",
    "    emailsText.append(email)\n",
    "\n",
    "del dataset"
   ]
  },
  {
   "cell_type": "code",
   "execution_count": 4,
   "metadata": {
    "collapsed": false,
    "pycharm": {
     "name": "#%%\n"
    }
   },
   "outputs": [
    {
     "name": "stdout",
     "output_type": "stream",
     "text": [
      "33341\n"
     ]
    }
   ],
   "source": [
    "print(len(emailsText))"
   ]
  },
  {
   "cell_type": "markdown",
   "metadata": {
    "collapsed": false,
    "pycharm": {
     "name": "#%% md\n"
    }
   },
   "source": [
    "# Representação vetorial BERT"
   ]
  },
  {
   "cell_type": "code",
   "execution_count": 5,
   "metadata": {
    "collapsed": false,
    "pycharm": {
     "name": "#%%\n"
    }
   },
   "outputs": [
    {
     "name": "stderr",
     "output_type": "stream",
     "text": [
      "Some weights of the model checkpoint at bert-base-uncased were not used when initializing BertForTextRepresentation: ['cls.predictions.transform.dense.bias', 'cls.predictions.decoder.weight', 'cls.seq_relationship.weight', 'cls.predictions.transform.LayerNorm.weight', 'cls.predictions.transform.LayerNorm.bias', 'cls.predictions.bias', 'cls.predictions.transform.dense.weight', 'cls.seq_relationship.bias']\n",
      "- This IS expected if you are initializing BertForTextRepresentation from the checkpoint of a model trained on another task or with another architecture (e.g. initializing a BertForSequenceClassification model from a BertForPreTraining model).\n",
      "- This IS NOT expected if you are initializing BertForTextRepresentation from the checkpoint of a model that you expect to be exactly identical (initializing a BertForSequenceClassification model from a BertForSequenceClassification model).\n"
     ]
    },
    {
     "data": {
      "text/plain": [
       "(33341, 768)"
      ]
     },
     "execution_count": 5,
     "metadata": {},
     "output_type": "execute_result"
    }
   ],
   "source": [
    "model=RepresentationModel(\n",
    "    model_type=\"bert\",\n",
    "    model_name=\"bert-base-uncased\",\n",
    "    use_cuda=True,\n",
    "    #fp16=True\n",
    ")\n",
    "\n",
    "vectorialRepresentation = model.encode_sentences(emailsText, combine_strategy=\"mean\")\n",
    "vectorialRepresentation.shape"
   ]
  },
  {
   "cell_type": "code",
   "execution_count": 6,
   "metadata": {
    "collapsed": false,
    "pycharm": {
     "name": "#%%\n"
    }
   },
   "outputs": [
    {
     "data": {
      "text/html": [
       "<div>\n",
       "<style scoped>\n",
       "    .dataframe tbody tr th:only-of-type {\n",
       "        vertical-align: middle;\n",
       "    }\n",
       "\n",
       "    .dataframe tbody tr th {\n",
       "        vertical-align: top;\n",
       "    }\n",
       "\n",
       "    .dataframe thead th {\n",
       "        text-align: right;\n",
       "    }\n",
       "</style>\n",
       "<table border=\"1\" class=\"dataframe\">\n",
       "  <thead>\n",
       "    <tr style=\"text-align: right;\">\n",
       "      <th></th>\n",
       "      <th>0</th>\n",
       "      <th>1</th>\n",
       "      <th>2</th>\n",
       "      <th>3</th>\n",
       "      <th>4</th>\n",
       "      <th>5</th>\n",
       "      <th>6</th>\n",
       "      <th>7</th>\n",
       "      <th>8</th>\n",
       "      <th>9</th>\n",
       "      <th>...</th>\n",
       "      <th>758</th>\n",
       "      <th>759</th>\n",
       "      <th>760</th>\n",
       "      <th>761</th>\n",
       "      <th>762</th>\n",
       "      <th>763</th>\n",
       "      <th>764</th>\n",
       "      <th>765</th>\n",
       "      <th>766</th>\n",
       "      <th>767</th>\n",
       "    </tr>\n",
       "  </thead>\n",
       "  <tbody>\n",
       "    <tr>\n",
       "      <th>0</th>\n",
       "      <td>-0.159428</td>\n",
       "      <td>-0.150673</td>\n",
       "      <td>0.320971</td>\n",
       "      <td>0.112358</td>\n",
       "      <td>0.459967</td>\n",
       "      <td>0.077280</td>\n",
       "      <td>0.211645</td>\n",
       "      <td>0.108739</td>\n",
       "      <td>-0.041492</td>\n",
       "      <td>-0.183632</td>\n",
       "      <td>...</td>\n",
       "      <td>0.251432</td>\n",
       "      <td>-0.163091</td>\n",
       "      <td>-0.116690</td>\n",
       "      <td>-0.070913</td>\n",
       "      <td>-0.048259</td>\n",
       "      <td>-0.037924</td>\n",
       "      <td>-0.119490</td>\n",
       "      <td>-0.189950</td>\n",
       "      <td>-0.203662</td>\n",
       "      <td>0.074954</td>\n",
       "    </tr>\n",
       "    <tr>\n",
       "      <th>1</th>\n",
       "      <td>0.071051</td>\n",
       "      <td>0.006274</td>\n",
       "      <td>0.291100</td>\n",
       "      <td>-0.089434</td>\n",
       "      <td>0.006165</td>\n",
       "      <td>0.019528</td>\n",
       "      <td>0.109083</td>\n",
       "      <td>0.026950</td>\n",
       "      <td>0.204912</td>\n",
       "      <td>-0.180139</td>\n",
       "      <td>...</td>\n",
       "      <td>0.284122</td>\n",
       "      <td>-0.540412</td>\n",
       "      <td>0.049729</td>\n",
       "      <td>-0.095771</td>\n",
       "      <td>-0.203890</td>\n",
       "      <td>0.091056</td>\n",
       "      <td>-0.145161</td>\n",
       "      <td>-0.096876</td>\n",
       "      <td>-0.135908</td>\n",
       "      <td>0.060218</td>\n",
       "    </tr>\n",
       "    <tr>\n",
       "      <th>2</th>\n",
       "      <td>-0.151653</td>\n",
       "      <td>-0.164808</td>\n",
       "      <td>0.471539</td>\n",
       "      <td>-0.066901</td>\n",
       "      <td>0.267297</td>\n",
       "      <td>0.017360</td>\n",
       "      <td>-0.074956</td>\n",
       "      <td>0.166499</td>\n",
       "      <td>-0.042147</td>\n",
       "      <td>-0.080027</td>\n",
       "      <td>...</td>\n",
       "      <td>0.109118</td>\n",
       "      <td>-0.118454</td>\n",
       "      <td>-0.086577</td>\n",
       "      <td>-0.057226</td>\n",
       "      <td>0.129574</td>\n",
       "      <td>-0.021993</td>\n",
       "      <td>-0.200361</td>\n",
       "      <td>-0.175351</td>\n",
       "      <td>-0.030066</td>\n",
       "      <td>0.166013</td>\n",
       "    </tr>\n",
       "    <tr>\n",
       "      <th>3</th>\n",
       "      <td>-0.091722</td>\n",
       "      <td>-0.252287</td>\n",
       "      <td>0.291835</td>\n",
       "      <td>0.154237</td>\n",
       "      <td>0.285827</td>\n",
       "      <td>-0.033622</td>\n",
       "      <td>-0.024027</td>\n",
       "      <td>0.107403</td>\n",
       "      <td>-0.000545</td>\n",
       "      <td>-0.192616</td>\n",
       "      <td>...</td>\n",
       "      <td>0.225206</td>\n",
       "      <td>-0.128331</td>\n",
       "      <td>-0.235366</td>\n",
       "      <td>-0.151748</td>\n",
       "      <td>-0.025532</td>\n",
       "      <td>0.023671</td>\n",
       "      <td>0.072414</td>\n",
       "      <td>-0.086625</td>\n",
       "      <td>-0.004205</td>\n",
       "      <td>0.172869</td>\n",
       "    </tr>\n",
       "    <tr>\n",
       "      <th>4</th>\n",
       "      <td>-0.028974</td>\n",
       "      <td>-0.141580</td>\n",
       "      <td>0.607358</td>\n",
       "      <td>0.108809</td>\n",
       "      <td>0.400952</td>\n",
       "      <td>-0.087711</td>\n",
       "      <td>-0.108502</td>\n",
       "      <td>0.262436</td>\n",
       "      <td>-0.031409</td>\n",
       "      <td>-0.208465</td>\n",
       "      <td>...</td>\n",
       "      <td>-0.080698</td>\n",
       "      <td>-0.173298</td>\n",
       "      <td>0.043021</td>\n",
       "      <td>-0.124838</td>\n",
       "      <td>-0.122861</td>\n",
       "      <td>-0.152739</td>\n",
       "      <td>-0.130289</td>\n",
       "      <td>-0.272174</td>\n",
       "      <td>-0.106081</td>\n",
       "      <td>-0.142323</td>\n",
       "    </tr>\n",
       "    <tr>\n",
       "      <th>...</th>\n",
       "      <td>...</td>\n",
       "      <td>...</td>\n",
       "      <td>...</td>\n",
       "      <td>...</td>\n",
       "      <td>...</td>\n",
       "      <td>...</td>\n",
       "      <td>...</td>\n",
       "      <td>...</td>\n",
       "      <td>...</td>\n",
       "      <td>...</td>\n",
       "      <td>...</td>\n",
       "      <td>...</td>\n",
       "      <td>...</td>\n",
       "      <td>...</td>\n",
       "      <td>...</td>\n",
       "      <td>...</td>\n",
       "      <td>...</td>\n",
       "      <td>...</td>\n",
       "      <td>...</td>\n",
       "      <td>...</td>\n",
       "      <td>...</td>\n",
       "    </tr>\n",
       "    <tr>\n",
       "      <th>33336</th>\n",
       "      <td>-0.201023</td>\n",
       "      <td>-0.001996</td>\n",
       "      <td>0.590600</td>\n",
       "      <td>-0.040250</td>\n",
       "      <td>0.472595</td>\n",
       "      <td>0.059005</td>\n",
       "      <td>-0.223889</td>\n",
       "      <td>0.168916</td>\n",
       "      <td>-0.019692</td>\n",
       "      <td>-0.068533</td>\n",
       "      <td>...</td>\n",
       "      <td>-0.283789</td>\n",
       "      <td>0.086214</td>\n",
       "      <td>0.281354</td>\n",
       "      <td>0.030180</td>\n",
       "      <td>0.144887</td>\n",
       "      <td>-0.240283</td>\n",
       "      <td>-0.269940</td>\n",
       "      <td>-0.195859</td>\n",
       "      <td>-0.090531</td>\n",
       "      <td>-0.038818</td>\n",
       "    </tr>\n",
       "    <tr>\n",
       "      <th>33337</th>\n",
       "      <td>0.045905</td>\n",
       "      <td>-0.145504</td>\n",
       "      <td>0.600411</td>\n",
       "      <td>0.147447</td>\n",
       "      <td>0.138597</td>\n",
       "      <td>-0.070919</td>\n",
       "      <td>0.243944</td>\n",
       "      <td>0.133416</td>\n",
       "      <td>-0.177918</td>\n",
       "      <td>-0.203445</td>\n",
       "      <td>...</td>\n",
       "      <td>0.008279</td>\n",
       "      <td>-0.050800</td>\n",
       "      <td>0.085909</td>\n",
       "      <td>-0.260432</td>\n",
       "      <td>-0.009710</td>\n",
       "      <td>0.090369</td>\n",
       "      <td>-0.170151</td>\n",
       "      <td>-0.095905</td>\n",
       "      <td>-0.061700</td>\n",
       "      <td>-0.136271</td>\n",
       "    </tr>\n",
       "    <tr>\n",
       "      <th>33338</th>\n",
       "      <td>-0.052234</td>\n",
       "      <td>-0.027882</td>\n",
       "      <td>0.484133</td>\n",
       "      <td>0.026257</td>\n",
       "      <td>0.134670</td>\n",
       "      <td>0.035107</td>\n",
       "      <td>0.068209</td>\n",
       "      <td>0.120231</td>\n",
       "      <td>0.002479</td>\n",
       "      <td>-0.294419</td>\n",
       "      <td>...</td>\n",
       "      <td>-0.157346</td>\n",
       "      <td>-0.069377</td>\n",
       "      <td>0.014211</td>\n",
       "      <td>-0.028526</td>\n",
       "      <td>0.019504</td>\n",
       "      <td>-0.002726</td>\n",
       "      <td>-0.118924</td>\n",
       "      <td>0.022453</td>\n",
       "      <td>0.061370</td>\n",
       "      <td>0.090219</td>\n",
       "    </tr>\n",
       "    <tr>\n",
       "      <th>33339</th>\n",
       "      <td>-0.226833</td>\n",
       "      <td>-0.098093</td>\n",
       "      <td>0.445973</td>\n",
       "      <td>-0.028613</td>\n",
       "      <td>0.256372</td>\n",
       "      <td>0.029888</td>\n",
       "      <td>-0.050134</td>\n",
       "      <td>0.159709</td>\n",
       "      <td>0.134332</td>\n",
       "      <td>-0.035709</td>\n",
       "      <td>...</td>\n",
       "      <td>-0.012439</td>\n",
       "      <td>-0.048856</td>\n",
       "      <td>0.105855</td>\n",
       "      <td>-0.005054</td>\n",
       "      <td>0.283087</td>\n",
       "      <td>-0.077617</td>\n",
       "      <td>-0.224488</td>\n",
       "      <td>-0.029133</td>\n",
       "      <td>-0.032732</td>\n",
       "      <td>-0.195680</td>\n",
       "    </tr>\n",
       "    <tr>\n",
       "      <th>33340</th>\n",
       "      <td>-0.131739</td>\n",
       "      <td>0.001401</td>\n",
       "      <td>0.562934</td>\n",
       "      <td>0.016376</td>\n",
       "      <td>0.139309</td>\n",
       "      <td>-0.102250</td>\n",
       "      <td>0.267339</td>\n",
       "      <td>0.035725</td>\n",
       "      <td>0.026772</td>\n",
       "      <td>-0.307518</td>\n",
       "      <td>...</td>\n",
       "      <td>-0.101262</td>\n",
       "      <td>-0.228757</td>\n",
       "      <td>0.278900</td>\n",
       "      <td>0.035723</td>\n",
       "      <td>-0.072525</td>\n",
       "      <td>0.044891</td>\n",
       "      <td>-0.259199</td>\n",
       "      <td>-0.250731</td>\n",
       "      <td>-0.136858</td>\n",
       "      <td>-0.125877</td>\n",
       "    </tr>\n",
       "  </tbody>\n",
       "</table>\n",
       "<p>33341 rows × 768 columns</p>\n",
       "</div>"
      ],
      "text/plain": [
       "            0         1         2         3         4         5         6    \\\n",
       "0     -0.159428 -0.150673  0.320971  0.112358  0.459967  0.077280  0.211645   \n",
       "1      0.071051  0.006274  0.291100 -0.089434  0.006165  0.019528  0.109083   \n",
       "2     -0.151653 -0.164808  0.471539 -0.066901  0.267297  0.017360 -0.074956   \n",
       "3     -0.091722 -0.252287  0.291835  0.154237  0.285827 -0.033622 -0.024027   \n",
       "4     -0.028974 -0.141580  0.607358  0.108809  0.400952 -0.087711 -0.108502   \n",
       "...         ...       ...       ...       ...       ...       ...       ...   \n",
       "33336 -0.201023 -0.001996  0.590600 -0.040250  0.472595  0.059005 -0.223889   \n",
       "33337  0.045905 -0.145504  0.600411  0.147447  0.138597 -0.070919  0.243944   \n",
       "33338 -0.052234 -0.027882  0.484133  0.026257  0.134670  0.035107  0.068209   \n",
       "33339 -0.226833 -0.098093  0.445973 -0.028613  0.256372  0.029888 -0.050134   \n",
       "33340 -0.131739  0.001401  0.562934  0.016376  0.139309 -0.102250  0.267339   \n",
       "\n",
       "            7         8         9    ...       758       759       760  \\\n",
       "0      0.108739 -0.041492 -0.183632  ...  0.251432 -0.163091 -0.116690   \n",
       "1      0.026950  0.204912 -0.180139  ...  0.284122 -0.540412  0.049729   \n",
       "2      0.166499 -0.042147 -0.080027  ...  0.109118 -0.118454 -0.086577   \n",
       "3      0.107403 -0.000545 -0.192616  ...  0.225206 -0.128331 -0.235366   \n",
       "4      0.262436 -0.031409 -0.208465  ... -0.080698 -0.173298  0.043021   \n",
       "...         ...       ...       ...  ...       ...       ...       ...   \n",
       "33336  0.168916 -0.019692 -0.068533  ... -0.283789  0.086214  0.281354   \n",
       "33337  0.133416 -0.177918 -0.203445  ...  0.008279 -0.050800  0.085909   \n",
       "33338  0.120231  0.002479 -0.294419  ... -0.157346 -0.069377  0.014211   \n",
       "33339  0.159709  0.134332 -0.035709  ... -0.012439 -0.048856  0.105855   \n",
       "33340  0.035725  0.026772 -0.307518  ... -0.101262 -0.228757  0.278900   \n",
       "\n",
       "            761       762       763       764       765       766       767  \n",
       "0     -0.070913 -0.048259 -0.037924 -0.119490 -0.189950 -0.203662  0.074954  \n",
       "1     -0.095771 -0.203890  0.091056 -0.145161 -0.096876 -0.135908  0.060218  \n",
       "2     -0.057226  0.129574 -0.021993 -0.200361 -0.175351 -0.030066  0.166013  \n",
       "3     -0.151748 -0.025532  0.023671  0.072414 -0.086625 -0.004205  0.172869  \n",
       "4     -0.124838 -0.122861 -0.152739 -0.130289 -0.272174 -0.106081 -0.142323  \n",
       "...         ...       ...       ...       ...       ...       ...       ...  \n",
       "33336  0.030180  0.144887 -0.240283 -0.269940 -0.195859 -0.090531 -0.038818  \n",
       "33337 -0.260432 -0.009710  0.090369 -0.170151 -0.095905 -0.061700 -0.136271  \n",
       "33338 -0.028526  0.019504 -0.002726 -0.118924  0.022453  0.061370  0.090219  \n",
       "33339 -0.005054  0.283087 -0.077617 -0.224488 -0.029133 -0.032732 -0.195680  \n",
       "33340  0.035723 -0.072525  0.044891 -0.259199 -0.250731 -0.136858 -0.125877  \n",
       "\n",
       "[33341 rows x 768 columns]"
      ]
     },
     "execution_count": 6,
     "metadata": {},
     "output_type": "execute_result"
    }
   ],
   "source": [
    "bertDataframe = pd.DataFrame(vectorialRepresentation)\n",
    "bertDataframe"
   ]
  },
  {
   "cell_type": "code",
   "execution_count": null,
   "metadata": {},
   "outputs": [],
   "source": [
    "bertData = np.array(bertDataframe)\n",
    "bertData"
   ]
  },
  {
   "cell_type": "markdown",
   "metadata": {
    "collapsed": false,
    "pycharm": {
     "name": "#%% md\n"
    }
   },
   "source": [
    "# Visualização de dados com TSNE"
   ]
  },
  {
   "cell_type": "code",
   "execution_count": 7,
   "metadata": {
    "collapsed": false,
    "pycharm": {
     "name": "#%%\n"
    }
   },
   "outputs": [
    {
     "name": "stderr",
     "output_type": "stream",
     "text": [
      "E:\\DevPack\\anaconda3\\envs\\data_science\\lib\\site-packages\\sklearn\\manifold\\_t_sne.py:780: FutureWarning: The default initialization in TSNE will change from 'random' to 'pca' in 1.2.\n",
      "  warnings.warn(\n",
      "E:\\DevPack\\anaconda3\\envs\\data_science\\lib\\site-packages\\sklearn\\manifold\\_t_sne.py:790: FutureWarning: The default learning rate in TSNE will change from 200.0 to 'auto' in 1.2.\n",
      "  warnings.warn(\n"
     ]
    },
    {
     "name": "stdout",
     "output_type": "stream",
     "text": [
      "               0          1  Target\n",
      "0     -75.484505 -21.128466       0\n",
      "1       1.098834 -35.483253       0\n",
      "2      47.738682 -36.893559       0\n",
      "3       9.928965 -70.018379       0\n",
      "4      13.938590 -21.092623       0\n",
      "...          ...        ...     ...\n",
      "33336  22.243933  56.396641       1\n",
      "33337 -31.545631 -11.026985       1\n",
      "33338 -28.561445 -19.727957       1\n",
      "33339  29.865818 -40.960075       0\n",
      "33340 -24.992823  19.384506       1\n",
      "\n",
      "[33341 rows x 3 columns]\n"
     ]
    }
   ],
   "source": [
    "# model = TSNE(n_components=2, random_state=0)\n",
    "# array_red = model.fit_transform(bertDataframe)\n",
    "\n",
    "# df_tsne = pd.DataFrame(array_red)\n",
    "\n",
    "# df_tsne['Target'] = target\n",
    "# print(df_tsne)"
   ]
  },
  {
   "cell_type": "markdown",
   "metadata": {
    "collapsed": false,
    "pycharm": {
     "name": "#%% md\n"
    }
   },
   "source": []
  },
  {
   "cell_type": "markdown",
   "metadata": {
    "collapsed": false,
    "pycharm": {
     "name": "#%% md\n"
    }
   },
   "source": []
  },
  {
   "cell_type": "code",
   "execution_count": 8,
   "metadata": {
    "collapsed": false,
    "pycharm": {
     "name": "#%%\n"
    }
   },
   "outputs": [
    {
     "data": {
      "image/png": "[encoded data removed]",
      "text/plain": [
       "<Figure size 432x288 with 1 Axes>"
      ]
     },
     "metadata": {
      "needs_background": "light"
     },
     "output_type": "display_data"
    }
   ],
   "source": [
    "# df_tsne_c1 = df_tsne[df_tsne['Target'] == 0]\n",
    "\n",
    "# df_tsne_c2 = df_tsne[df_tsne['Target'] == 1]\n",
    "\n",
    "# plt.scatter(df_tsne_c1[0].array,df_tsne_c1[1].array,marker='o',color='blue')\n",
    "\n",
    "# plt.scatter(df_tsne_c2[0].array,df_tsne_c2[1].array,marker='o',color='red')\n",
    "\n",
    "# plt.title('Dados')\n",
    "# plt.xlabel('x')\n",
    "# plt.ylabel('y')\n",
    "\n",
    "# plt.show()"
   ]
  },
  {
   "cell_type": "markdown",
   "metadata": {
    "collapsed": false,
    "pycharm": {
     "name": "#%% md\n"
    }
   },
   "source": [
    "# Validação"
   ]
  },
  {
   "cell_type": "code",
   "execution_count": null,
   "metadata": {
    "pycharm": {
     "name": "#%%\n"
    }
   },
   "outputs": [],
   "source": [
    "bertData = np.array(bertData)\n",
    "\n",
    "bertData = bertData.reshape((bertData.shape[0],1,bertData.shape[1]))\n",
    "print(bertData.shape)"
   ]
  },
  {
   "cell_type": "code",
   "execution_count": null,
   "metadata": {
    "collapsed": false,
    "pycharm": {
     "name": "#%%\n"
    }
   },
   "outputs": [],
   "source": [
    "foldsAccuracy = []\n",
    "foldLosses = []"
   ]
  },
  {
   "cell_type": "code",
   "execution_count": null,
   "metadata": {
    "collapsed": false,
    "pycharm": {
     "name": "#%%\n"
    }
   },
   "outputs": [],
   "source": [
    "\n",
    "kfold = KFold(n_splits=4, shuffle=True)"
   ]
  },
  {
   "cell_type": "code",
   "execution_count": null,
   "metadata": {
    "collapsed": false,
    "pycharm": {
     "is_executing": true,
     "name": "#%%\n"
    }
   },
   "outputs": [
    {
     "name": "stdout",
     "output_type": "stream",
     "text": [
      "****************************************************\n",
      "Iniciando treinamento da fold: 1.\n",
      "Epoch 1/200\n",
      "743/743 [==============================] - 4s 3ms/step - loss: 0.3499 - accuracy: 0.8889 - val_loss: 0.1727 - val_accuracy: 0.9440 - lr: 0.0100\n",
      "Epoch 2/200\n",
      "743/743 [==============================] - 2s 2ms/step - loss: 0.2207 - accuracy: 0.9410 - val_loss: 0.1448 - val_accuracy: 0.9528 - lr: 0.0100\n",
      "Epoch 3/200\n",
      "743/743 [==============================] - 2s 2ms/step - loss: 0.1933 - accuracy: 0.9501 - val_loss: 0.1184 - val_accuracy: 0.9600 - lr: 0.0100\n",
      "Epoch 4/200\n",
      "743/743 [==============================] - 2s 2ms/step - loss: 0.1385 - accuracy: 0.9627 - val_loss: 0.0856 - val_accuracy: 0.9712 - lr: 0.0100\n",
      "Epoch 5/200\n",
      "743/743 [==============================] - 2s 2ms/step - loss: 0.1287 - accuracy: 0.9648 - val_loss: 0.1275 - val_accuracy: 0.9576 - lr: 0.0100\n",
      "Epoch 6/200\n",
      "743/743 [==============================] - 2s 2ms/step - loss: 0.0776 - accuracy: 0.9768 - val_loss: 0.0639 - val_accuracy: 0.9800 - lr: 0.0100\n",
      "Epoch 7/200\n",
      "743/743 [==============================] - 2s 2ms/step - loss: 0.0893 - accuracy: 0.9764 - val_loss: 0.0666 - val_accuracy: 0.9736 - lr: 0.0100\n",
      "Epoch 8/200\n",
      "743/743 [==============================] - 2s 2ms/step - loss: 0.0525 - accuracy: 0.9838 - val_loss: 0.0559 - val_accuracy: 0.9808 - lr: 0.0100\n",
      "Epoch 9/200\n",
      "743/743 [==============================] - 2s 2ms/step - loss: 0.0609 - accuracy: 0.9839 - val_loss: 0.0539 - val_accuracy: 0.9832 - lr: 0.0100\n",
      "Epoch 10/200\n",
      "743/743 [==============================] - 2s 2ms/step - loss: 0.0718 - accuracy: 0.9827 - val_loss: 0.0682 - val_accuracy: 0.9728 - lr: 0.0100\n",
      "Epoch 11/200\n",
      "743/743 [==============================] - 2s 2ms/step - loss: 0.0445 - accuracy: 0.9865 - val_loss: 0.0527 - val_accuracy: 0.9800 - lr: 0.0100\n",
      "Epoch 12/200\n",
      "743/743 [==============================] - 2s 2ms/step - loss: 0.0324 - accuracy: 0.9903 - val_loss: 0.0443 - val_accuracy: 0.9864 - lr: 0.0100\n",
      "Epoch 13/200\n",
      "743/743 [==============================] - 2s 2ms/step - loss: 0.0449 - accuracy: 0.9882 - val_loss: 0.0532 - val_accuracy: 0.9840 - lr: 0.0100\n",
      "Epoch 14/200\n",
      "743/743 [==============================] - 2s 2ms/step - loss: 0.0288 - accuracy: 0.9915 - val_loss: 0.0550 - val_accuracy: 0.9816 - lr: 0.0100\n",
      "Epoch 15/200\n",
      "743/743 [==============================] - 2s 2ms/step - loss: 0.0246 - accuracy: 0.9930 - val_loss: 0.0423 - val_accuracy: 0.9808 - lr: 0.0100\n",
      "Epoch 16/200\n",
      "743/743 [==============================] - 2s 2ms/step - loss: 0.0233 - accuracy: 0.9939 - val_loss: 0.0417 - val_accuracy: 0.9864 - lr: 0.0100\n",
      "Epoch 17/200\n",
      "743/743 [==============================] - 2s 2ms/step - loss: 0.0200 - accuracy: 0.9944 - val_loss: 0.0495 - val_accuracy: 0.9824 - lr: 0.0100\n",
      "Epoch 18/200\n",
      "743/743 [==============================] - 2s 2ms/step - loss: 0.0196 - accuracy: 0.9949 - val_loss: 0.0448 - val_accuracy: 0.9840 - lr: 0.0100\n",
      "Epoch 19/200\n",
      "743/743 [==============================] - 2s 2ms/step - loss: 0.0161 - accuracy: 0.9957 - val_loss: 0.0426 - val_accuracy: 0.9856 - lr: 0.0100\n",
      "Epoch 20/200\n",
      "743/743 [==============================] - 2s 2ms/step - loss: 0.0174 - accuracy: 0.9951 - val_loss: 0.0431 - val_accuracy: 0.9856 - lr: 0.0100\n",
      "Epoch 21/200\n",
      "743/743 [==============================] - 2s 2ms/step - loss: 0.0254 - accuracy: 0.9946 - val_loss: 0.0464 - val_accuracy: 0.9816 - lr: 0.0100\n",
      "Epoch 22/200\n",
      "743/743 [==============================] - 2s 2ms/step - loss: 0.0193 - accuracy: 0.9954 - val_loss: 0.0476 - val_accuracy: 0.9832 - lr: 0.0100\n",
      "Epoch 23/200\n",
      "742/743 [============================>.] - ETA: 0s - loss: 0.0150 - accuracy: 0.9961\n",
      "Epoch 23: ReduceLROnPlateau reducing learning rate to 0.0009999999776482583.\n",
      "743/743 [==============================] - 2s 2ms/step - loss: 0.0150 - accuracy: 0.9961 - val_loss: 0.0538 - val_accuracy: 0.9848 - lr: 0.0100\n",
      "Epoch 24/200\n",
      "743/743 [==============================] - 2s 2ms/step - loss: 0.0147 - accuracy: 0.9963 - val_loss: 0.0478 - val_accuracy: 0.9872 - lr: 1.0000e-03\n",
      "Epoch 25/200\n",
      "743/743 [==============================] - 2s 2ms/step - loss: 0.0128 - accuracy: 0.9968 - val_loss: 0.0466 - val_accuracy: 0.9864 - lr: 1.0000e-03\n",
      "Epoch 26/200\n",
      "743/743 [==============================] - 2s 2ms/step - loss: 0.0123 - accuracy: 0.9970 - val_loss: 0.0462 - val_accuracy: 0.9864 - lr: 1.0000e-03\n",
      "Epoch 27/200\n",
      "743/743 [==============================] - 2s 2ms/step - loss: 0.0120 - accuracy: 0.9971 - val_loss: 0.0456 - val_accuracy: 0.9864 - lr: 1.0000e-03\n",
      "Epoch 28/200\n",
      "743/743 [==============================] - 2s 2ms/step - loss: 0.0117 - accuracy: 0.9972 - val_loss: 0.0448 - val_accuracy: 0.9880 - lr: 1.0000e-03\n",
      "Epoch 29/200\n",
      "743/743 [==============================] - 2s 2ms/step - loss: 0.0115 - accuracy: 0.9971 - val_loss: 0.0452 - val_accuracy: 0.9864 - lr: 1.0000e-03\n",
      "Epoch 30/200\n",
      "743/743 [==============================] - ETA: 0s - loss: 0.0113 - accuracy: 0.9971\n",
      "Epoch 30: ReduceLROnPlateau reducing learning rate to 9.999999310821295e-05.\n",
      "743/743 [==============================] - 2s 2ms/step - loss: 0.0113 - accuracy: 0.9971 - val_loss: 0.0453 - val_accuracy: 0.9864 - lr: 1.0000e-03\n",
      "Epoch 31/200\n",
      "743/743 [==============================] - 2s 2ms/step - loss: 0.0112 - accuracy: 0.9972 - val_loss: 0.0453 - val_accuracy: 0.9864 - lr: 1.0000e-04\n",
      "Epoch 32/200\n",
      "743/743 [==============================] - 2s 2ms/step - loss: 0.0112 - accuracy: 0.9972 - val_loss: 0.0453 - val_accuracy: 0.9864 - lr: 1.0000e-04\n",
      "Epoch 33/200\n",
      "743/743 [==============================] - 2s 2ms/step - loss: 0.0111 - accuracy: 0.9973 - val_loss: 0.0452 - val_accuracy: 0.9864 - lr: 1.0000e-04\n",
      "Epoch 34/200\n",
      "743/743 [==============================] - 2s 2ms/step - loss: 0.0111 - accuracy: 0.9973 - val_loss: 0.0452 - val_accuracy: 0.9864 - lr: 1.0000e-04\n",
      "Epoch 35/200\n",
      "743/743 [==============================] - 2s 2ms/step - loss: 0.0111 - accuracy: 0.9973 - val_loss: 0.0452 - val_accuracy: 0.9864 - lr: 1.0000e-04\n",
      "Epoch 36/200\n",
      "743/743 [==============================] - 2s 2ms/step - loss: 0.0111 - accuracy: 0.9973 - val_loss: 0.0453 - val_accuracy: 0.9864 - lr: 1.0000e-04\n",
      "Score fold 1: loss de 0.09102164953947067; accuracy de 97.5287914276123%\n",
      "****************************************************\n",
      "Iniciando treinamento da fold: 2.\n",
      "Epoch 1/200\n",
      "743/743 [==============================] - 2s 2ms/step - loss: 0.3240 - accuracy: 0.8913 - val_loss: 0.1648 - val_accuracy: 0.9472 - lr: 0.0100\n",
      "Epoch 2/200\n",
      "743/743 [==============================] - 2s 2ms/step - loss: 0.1536 - accuracy: 0.9546 - val_loss: 0.1026 - val_accuracy: 0.9584 - lr: 0.0100\n",
      "Epoch 3/200\n",
      "743/743 [==============================] - 2s 2ms/step - loss: 0.1171 - accuracy: 0.9664 - val_loss: 0.0876 - val_accuracy: 0.9672 - lr: 0.0100\n",
      "Epoch 4/200\n",
      "743/743 [==============================] - 2s 2ms/step - loss: 0.1908 - accuracy: 0.9588 - val_loss: 0.2787 - val_accuracy: 0.8857 - lr: 0.0100\n",
      "Epoch 5/200\n",
      "743/743 [==============================] - 2s 2ms/step - loss: 0.2247 - accuracy: 0.9499 - val_loss: 0.7121 - val_accuracy: 0.7066 - lr: 0.0100\n",
      "Epoch 6/200\n",
      "743/743 [==============================] - 2s 2ms/step - loss: 0.2149 - accuracy: 0.9278 - val_loss: 0.1107 - val_accuracy: 0.9560 - lr: 0.0100\n",
      "Epoch 7/200\n",
      "743/743 [==============================] - 2s 2ms/step - loss: 0.1031 - accuracy: 0.9687 - val_loss: 0.0864 - val_accuracy: 0.9672 - lr: 0.0100\n",
      "Epoch 8/200\n",
      "743/743 [==============================] - 2s 2ms/step - loss: 0.0813 - accuracy: 0.9749 - val_loss: 0.0697 - val_accuracy: 0.9728 - lr: 0.0100\n",
      "Epoch 9/200\n",
      "743/743 [==============================] - 2s 2ms/step - loss: 0.0574 - accuracy: 0.9812 - val_loss: 0.0616 - val_accuracy: 0.9776 - lr: 0.0100\n",
      "Epoch 10/200\n",
      "743/743 [==============================] - 2s 2ms/step - loss: 0.0571 - accuracy: 0.9828 - val_loss: 0.0590 - val_accuracy: 0.9752 - lr: 0.0100\n",
      "Epoch 11/200\n",
      "743/743 [==============================] - 2s 2ms/step - loss: 0.0419 - accuracy: 0.9867 - val_loss: 0.0565 - val_accuracy: 0.9784 - lr: 0.0100\n",
      "Epoch 12/200\n",
      "743/743 [==============================] - 2s 2ms/step - loss: 0.0400 - accuracy: 0.9888 - val_loss: 0.0586 - val_accuracy: 0.9768 - lr: 0.0100\n",
      "Epoch 13/200\n",
      "743/743 [==============================] - 2s 2ms/step - loss: 0.0774 - accuracy: 0.9845 - val_loss: 0.0612 - val_accuracy: 0.9784 - lr: 0.0100\n",
      "Epoch 14/200\n",
      "743/743 [==============================] - 2s 2ms/step - loss: 0.0520 - accuracy: 0.9876 - val_loss: 0.0577 - val_accuracy: 0.9760 - lr: 0.0100\n",
      "Epoch 15/200\n",
      "743/743 [==============================] - 2s 2ms/step - loss: 0.0275 - accuracy: 0.9918 - val_loss: 0.0558 - val_accuracy: 0.9808 - lr: 0.0100\n",
      "Epoch 16/200\n",
      "743/743 [==============================] - 2s 2ms/step - loss: 0.0267 - accuracy: 0.9929 - val_loss: 0.0529 - val_accuracy: 0.9808 - lr: 0.0100\n",
      "Epoch 17/200\n",
      "743/743 [==============================] - 2s 2ms/step - loss: 0.0285 - accuracy: 0.9924 - val_loss: 0.0543 - val_accuracy: 0.9816 - lr: 0.0100\n",
      "Epoch 18/200\n",
      "743/743 [==============================] - 2s 2ms/step - loss: 0.0224 - accuracy: 0.9936 - val_loss: 0.0551 - val_accuracy: 0.9776 - lr: 0.0100\n",
      "Epoch 19/200\n",
      "743/743 [==============================] - 2s 2ms/step - loss: 0.0172 - accuracy: 0.9947 - val_loss: 0.0538 - val_accuracy: 0.9792 - lr: 0.0100\n",
      "Epoch 20/200\n",
      "743/743 [==============================] - 2s 2ms/step - loss: 0.0242 - accuracy: 0.9939 - val_loss: 0.0588 - val_accuracy: 0.9792 - lr: 0.0100\n",
      "Epoch 21/200\n",
      "743/743 [==============================] - 2s 2ms/step - loss: 0.0155 - accuracy: 0.9956 - val_loss: 0.0556 - val_accuracy: 0.9800 - lr: 0.0100\n",
      "Epoch 22/200\n",
      "743/743 [==============================] - 2s 2ms/step - loss: 0.0142 - accuracy: 0.9960 - val_loss: 0.0555 - val_accuracy: 0.9808 - lr: 0.0100\n",
      "Epoch 23/200\n",
      "723/743 [============================>.] - ETA: 0s - loss: 0.0146 - accuracy: 0.9959\n",
      "Epoch 23: ReduceLROnPlateau reducing learning rate to 0.0009999999776482583.\n",
      "743/743 [==============================] - 2s 2ms/step - loss: 0.0146 - accuracy: 0.9959 - val_loss: 0.0590 - val_accuracy: 0.9800 - lr: 0.0100\n",
      "Epoch 24/200\n",
      "743/743 [==============================] - 2s 2ms/step - loss: 0.0115 - accuracy: 0.9970 - val_loss: 0.0571 - val_accuracy: 0.9800 - lr: 1.0000e-03\n",
      "Epoch 25/200\n",
      "743/743 [==============================] - 2s 2ms/step - loss: 0.0113 - accuracy: 0.9971 - val_loss: 0.0572 - val_accuracy: 0.9792 - lr: 1.0000e-03\n",
      "Epoch 26/200\n",
      "743/743 [==============================] - 2s 2ms/step - loss: 0.0113 - accuracy: 0.9971 - val_loss: 0.0574 - val_accuracy: 0.9792 - lr: 1.0000e-03\n",
      "Epoch 27/200\n",
      "743/743 [==============================] - 2s 2ms/step - loss: 0.0112 - accuracy: 0.9971 - val_loss: 0.0574 - val_accuracy: 0.9800 - lr: 1.0000e-03\n",
      "Epoch 28/200\n",
      "743/743 [==============================] - 2s 2ms/step - loss: 0.0111 - accuracy: 0.9971 - val_loss: 0.0573 - val_accuracy: 0.9800 - lr: 1.0000e-03\n",
      "Epoch 29/200\n",
      "743/743 [==============================] - 2s 2ms/step - loss: 0.0110 - accuracy: 0.9972 - val_loss: 0.0575 - val_accuracy: 0.9800 - lr: 1.0000e-03\n",
      "Epoch 30/200\n",
      "727/743 [============================>.] - ETA: 0s - loss: 0.0110 - accuracy: 0.9972\n",
      "Epoch 30: ReduceLROnPlateau reducing learning rate to 9.999999310821295e-05.\n",
      "743/743 [==============================] - 2s 2ms/step - loss: 0.0109 - accuracy: 0.9972 - val_loss: 0.0576 - val_accuracy: 0.9800 - lr: 1.0000e-03\n",
      "Epoch 31/200\n",
      "743/743 [==============================] - 2s 2ms/step - loss: 0.0108 - accuracy: 0.9972 - val_loss: 0.0576 - val_accuracy: 0.9800 - lr: 1.0000e-04\n",
      "Epoch 32/200\n",
      "743/743 [==============================] - 2s 2ms/step - loss: 0.0108 - accuracy: 0.9972 - val_loss: 0.0576 - val_accuracy: 0.9800 - lr: 1.0000e-04\n",
      "Epoch 33/200\n",
      "743/743 [==============================] - 2s 2ms/step - loss: 0.0108 - accuracy: 0.9972 - val_loss: 0.0576 - val_accuracy: 0.9800 - lr: 1.0000e-04\n",
      "Epoch 34/200\n",
      "743/743 [==============================] - 2s 2ms/step - loss: 0.0108 - accuracy: 0.9972 - val_loss: 0.0577 - val_accuracy: 0.9800 - lr: 1.0000e-04\n",
      "Epoch 35/200\n",
      "743/743 [==============================] - 2s 2ms/step - loss: 0.0108 - accuracy: 0.9972 - val_loss: 0.0576 - val_accuracy: 0.9800 - lr: 1.0000e-04\n",
      "Epoch 36/200\n",
      "743/743 [==============================] - 2s 2ms/step - loss: 0.0108 - accuracy: 0.9972 - val_loss: 0.0576 - val_accuracy: 0.9792 - lr: 1.0000e-04\n",
      "Score fold 2: loss de 0.07085882872343063; accuracy de 97.69645929336548%\n",
      "****************************************************\n",
      "Iniciando treinamento da fold: 3.\n",
      "Epoch 1/200\n",
      "743/743 [==============================] - 2s 2ms/step - loss: 0.3803 - accuracy: 0.8760 - val_loss: 0.2134 - val_accuracy: 0.9289 - lr: 0.0100\n",
      "Epoch 2/200\n",
      "743/743 [==============================] - 2s 2ms/step - loss: 0.1821 - accuracy: 0.9490 - val_loss: 0.1158 - val_accuracy: 0.9544 - lr: 0.0100\n",
      "Epoch 3/200\n",
      "743/743 [==============================] - 2s 2ms/step - loss: 0.1020 - accuracy: 0.9676 - val_loss: 0.0948 - val_accuracy: 0.9648 - lr: 0.0100\n",
      "Epoch 4/200\n",
      "743/743 [==============================] - 2s 2ms/step - loss: 0.1083 - accuracy: 0.9695 - val_loss: 0.0758 - val_accuracy: 0.9664 - lr: 0.0100\n",
      "Epoch 5/200\n",
      "743/743 [==============================] - 2s 2ms/step - loss: 0.0898 - accuracy: 0.9764 - val_loss: 0.0679 - val_accuracy: 0.9704 - lr: 0.0100\n",
      "Epoch 6/200\n",
      "743/743 [==============================] - 2s 2ms/step - loss: 0.0528 - accuracy: 0.9830 - val_loss: 0.0603 - val_accuracy: 0.9720 - lr: 0.0100\n",
      "Epoch 7/200\n",
      "743/743 [==============================] - 2s 2ms/step - loss: 0.0965 - accuracy: 0.9750 - val_loss: 0.0856 - val_accuracy: 0.9712 - lr: 0.0100\n",
      "Epoch 8/200\n",
      "743/743 [==============================] - 2s 2ms/step - loss: 0.1049 - accuracy: 0.9779 - val_loss: 0.2473 - val_accuracy: 0.8753 - lr: 0.0100\n",
      "Epoch 9/200\n",
      "743/743 [==============================] - 2s 2ms/step - loss: 0.1069 - accuracy: 0.9722 - val_loss: 0.0636 - val_accuracy: 0.9720 - lr: 0.0100\n",
      "Epoch 10/200\n",
      "743/743 [==============================] - 2s 2ms/step - loss: 0.0587 - accuracy: 0.9830 - val_loss: 0.0533 - val_accuracy: 0.9752 - lr: 0.0100\n",
      "Epoch 11/200\n",
      "743/743 [==============================] - 2s 2ms/step - loss: 0.0661 - accuracy: 0.9831 - val_loss: 0.0547 - val_accuracy: 0.9760 - lr: 0.0100\n",
      "Epoch 12/200\n",
      "743/743 [==============================] - 2s 2ms/step - loss: 0.0401 - accuracy: 0.9873 - val_loss: 0.0523 - val_accuracy: 0.9784 - lr: 0.0100\n",
      "Epoch 13/200\n",
      "743/743 [==============================] - 2s 2ms/step - loss: 0.0927 - accuracy: 0.9835 - val_loss: 0.0602 - val_accuracy: 0.9720 - lr: 0.0100\n",
      "Epoch 14/200\n",
      "743/743 [==============================] - 2s 2ms/step - loss: 0.0899 - accuracy: 0.9795 - val_loss: 0.0544 - val_accuracy: 0.9744 - lr: 0.0100\n",
      "Epoch 15/200\n",
      "743/743 [==============================] - 2s 2ms/step - loss: 0.0449 - accuracy: 0.9874 - val_loss: 0.0558 - val_accuracy: 0.9768 - lr: 0.0100\n",
      "Epoch 16/200\n",
      "743/743 [==============================] - 2s 2ms/step - loss: 0.0450 - accuracy: 0.9873 - val_loss: 0.0497 - val_accuracy: 0.9760 - lr: 0.0100\n",
      "Epoch 17/200\n",
      "743/743 [==============================] - 2s 2ms/step - loss: 0.0270 - accuracy: 0.9918 - val_loss: 0.0532 - val_accuracy: 0.9768 - lr: 0.0100\n",
      "Epoch 18/200\n",
      "743/743 [==============================] - 2s 2ms/step - loss: 0.0323 - accuracy: 0.9915 - val_loss: 0.0515 - val_accuracy: 0.9760 - lr: 0.0100\n",
      "Epoch 19/200\n",
      "743/743 [==============================] - 2s 2ms/step - loss: 0.0216 - accuracy: 0.9931 - val_loss: 0.0463 - val_accuracy: 0.9784 - lr: 0.0100\n",
      "Epoch 20/200\n",
      "743/743 [==============================] - 2s 2ms/step - loss: 0.0253 - accuracy: 0.9931 - val_loss: 0.0453 - val_accuracy: 0.9800 - lr: 0.0100\n",
      "Epoch 21/200\n",
      "743/743 [==============================] - 2s 2ms/step - loss: 0.0191 - accuracy: 0.9943 - val_loss: 0.0457 - val_accuracy: 0.9784 - lr: 0.0100\n",
      "Epoch 22/200\n",
      "743/743 [==============================] - 2s 2ms/step - loss: 0.0203 - accuracy: 0.9947 - val_loss: 0.0481 - val_accuracy: 0.9792 - lr: 0.0100\n",
      "Epoch 23/200\n",
      "743/743 [==============================] - 2s 2ms/step - loss: 0.0170 - accuracy: 0.9949 - val_loss: 0.0502 - val_accuracy: 0.9776 - lr: 0.0100\n",
      "Epoch 24/200\n",
      "743/743 [==============================] - 2s 2ms/step - loss: 0.0186 - accuracy: 0.9947 - val_loss: 0.0512 - val_accuracy: 0.9792 - lr: 0.0100\n",
      "Epoch 25/200\n",
      "743/743 [==============================] - 2s 2ms/step - loss: 0.0139 - accuracy: 0.9958 - val_loss: 0.0589 - val_accuracy: 0.9776 - lr: 0.0100\n",
      "Epoch 26/200\n",
      "743/743 [==============================] - 2s 2ms/step - loss: 0.0404 - accuracy: 0.9922 - val_loss: 0.0557 - val_accuracy: 0.9800 - lr: 0.0100\n",
      "Epoch 27/200\n",
      "  1/743 [..............................] - ETA: 1s - loss: 0.0097 - accuracy: 1.0000"
     ]
    }
   ],
   "source": [
    "foldCount = 1\n",
    "for train, test in kfold.split(bertData, targets):\n",
    "    model = keras.models.Sequential([\n",
    "        #keras.layers.Conv1D(1000, kernel_size=1, activation=\"relu\",input_shape=bertData.shape[1:]),\n",
    "        keras.layers.Conv1D(640, kernel_size=1, activation=\"relu\",input_shape=bertData.shape[1:]),\n",
    "        keras.layers.MaxPooling1D(pool_size=1),\n",
    "        keras.layers.Flatten(),\n",
    "        #keras.layers.Dense(5000, activation=\"relu\"),\n",
    "        #keras.layers.Dropout(0.5),\n",
    "        keras.layers.Dense(len(set(targets)), activation=\"softmax\")\n",
    "    ])\n",
    "\n",
    "    model.compile(loss=\"sparse_categorical_crossentropy\", optimizer=\"sgd\", metrics=['accuracy'])\n",
    "\n",
    "    print('****************************************************')\n",
    "    print(f'Iniciando treinamento da fold: {foldCount}.')\n",
    "\n",
    "    callbacks = [tf.keras.callbacks.ReduceLROnPlateau(monitor='val_loss', factor=0.1, patience=7, verbose=1, min_delta=1e-4,mode='min'), bertData.keras.callbacks.EarlyStopping(monitor='val_loss', patience=20, verbose=0, restore_best_weights=True)]\n",
    "\n",
    "    history = model.fit(bertData[train], targets[train], epochs=200, callbacks=callbacks, validation_split=0.05)\n",
    "\n",
    "    scores = model.evaluate(bertData[test], targets[test], verbose=0)\n",
    "    print(f'Score fold {foldCount}: {model.metrics_names[0]} de {scores[0]}; {model.metrics_names[1]} de {scores[1]*100}%')\n",
    "\n",
    "    foldsAccuracy.append(scores[1] * 100)\n",
    "    foldLosses.append(scores[0])\n",
    "\n",
    "    foldCount = foldCount + 1"
   ]
  },
  {
   "cell_type": "code",
   "execution_count": null,
   "metadata": {
    "collapsed": false,
    "pycharm": {
     "is_executing": true,
     "name": "#%%\n"
    }
   },
   "outputs": [],
   "source": [
    "print('****************************************************')\n",
    "print('Score de cada fold:')\n",
    "for i in range(0, len(foldsAccuracy)):\n",
    "    print('****************************************************')\n",
    "    print(f'--> Fold {i+1}: Loss: {foldLosses[i]} ; Accuracy: {foldsAccuracy[i]}%')\n",
    "\n",
    "print('****************************************************')\n",
    "print('Média de accuracy das folds:')\n",
    "print(f'--> Accuracy: {np.mean(foldsAccuracy)} (+- {np.std(foldsAccuracy)})')\n",
    "print(f'--> Loss: {np.mean(foldLosses)}')\n",
    "print('****************************************************')"
   ]
  }
 ],
 "metadata": {
  "kernelspec": {
   "display_name": "Python 3",
   "language": "python",
   "name": "python3"
  },
  "language_info": {
   "codemirror_mode": {
    "name": "ipython",
    "version": 3
   },
   "file_extension": ".py",
   "mimetype": "text/x-python",
   "name": "python",
   "nbconvert_exporter": "python",
   "pygments_lexer": "ipython3",
   "version": "3.8.8"
  }
 },
 "nbformat": 4,
 "nbformat_minor": 1
}