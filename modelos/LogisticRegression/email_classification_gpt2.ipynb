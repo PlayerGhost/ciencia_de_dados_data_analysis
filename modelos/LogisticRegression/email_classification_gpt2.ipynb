{
 "cells": [
  {
   "cell_type": "code",
   "execution_count": 1,
   "outputs": [],
   "source": [
    "import pandas as pd\n",
    "from sklearn.linear_model import LogisticRegression\n",
    "from sklearn.model_selection import train_test_split, cross_val_score, cross_val_predict\n",
    "from sklearn.manifold import TSNE\n",
    "from sklearn.metrics import classification_report\n",
    "import scikitplot as skplt\n",
    "import matplotlib.pyplot as plt\n",
    "from simpletransformers.language_representation import RepresentationModel"
   ],
   "metadata": {
    "collapsed": false,
    "pycharm": {
     "name": "#%%\n"
    }
   }
  },
  {
   "cell_type": "markdown",
   "source": [
    "# Carregando base de dados  pré-processada"
   ],
   "metadata": {
    "collapsed": false,
    "pycharm": {
     "name": "#%% md\n"
    }
   }
  },
  {
   "cell_type": "code",
   "execution_count": 2,
   "outputs": [
    {
     "data": {
      "text/plain": "                                                   email  target\n0      start date     hourahead timee  cardinall  hou...       0\n1      service long desk  price structure deal quote ...       0\n2      start date  cardinall    hourahead timee  card...       0\n3      start date     hourahead timee  cardinall  anc...       0\n4      cardinall deliverable revenue management marke...       0\n...                                                  ...     ...\n33340  bio  matrix scientific group   symbo   bmxg  p...       1\n33341   cardinall step away hot naked webcam girl liv...       1\n33342  need pill increase performance click  seroius ...       1\n33343  datee final nom       inlet hpl  eastrans  car...       0\n33344  ordinall time  offering male enhancement perfo...       1\n\n[33341 rows x 2 columns]",
      "text/html": "<div>\n<style scoped>\n    .dataframe tbody tr th:only-of-type {\n        vertical-align: middle;\n    }\n\n    .dataframe tbody tr th {\n        vertical-align: top;\n    }\n\n    .dataframe thead th {\n        text-align: right;\n    }\n</style>\n<table border=\"1\" class=\"dataframe\">\n  <thead>\n    <tr style=\"text-align: right;\">\n      <th></th>\n      <th>email</th>\n      <th>target</th>\n    </tr>\n  </thead>\n  <tbody>\n    <tr>\n      <th>0</th>\n      <td>start date     hourahead timee  cardinall  hou...</td>\n      <td>0</td>\n    </tr>\n    <tr>\n      <th>1</th>\n      <td>service long desk  price structure deal quote ...</td>\n      <td>0</td>\n    </tr>\n    <tr>\n      <th>2</th>\n      <td>start date  cardinall    hourahead timee  card...</td>\n      <td>0</td>\n    </tr>\n    <tr>\n      <th>3</th>\n      <td>start date     hourahead timee  cardinall  anc...</td>\n      <td>0</td>\n    </tr>\n    <tr>\n      <th>4</th>\n      <td>cardinall deliverable revenue management marke...</td>\n      <td>0</td>\n    </tr>\n    <tr>\n      <th>...</th>\n      <td>...</td>\n      <td>...</td>\n    </tr>\n    <tr>\n      <th>33340</th>\n      <td>bio  matrix scientific group   symbo   bmxg  p...</td>\n      <td>1</td>\n    </tr>\n    <tr>\n      <th>33341</th>\n      <td>cardinall step away hot naked webcam girl liv...</td>\n      <td>1</td>\n    </tr>\n    <tr>\n      <th>33342</th>\n      <td>need pill increase performance click  seroius ...</td>\n      <td>1</td>\n    </tr>\n    <tr>\n      <th>33343</th>\n      <td>datee final nom       inlet hpl  eastrans  car...</td>\n      <td>0</td>\n    </tr>\n    <tr>\n      <th>33344</th>\n      <td>ordinall time  offering male enhancement perfo...</td>\n      <td>1</td>\n    </tr>\n  </tbody>\n</table>\n<p>33341 rows × 2 columns</p>\n</div>"
     },
     "execution_count": 2,
     "metadata": {},
     "output_type": "execute_result"
    }
   ],
   "source": [
    "database = pd.read_csv(\"../../Database/dataBaseWithNER.csv\")\n",
    "\n",
    "database = database.drop(columns=[\"Unnamed: 0\"])\n",
    "database = database.dropna()\n",
    "target = database[\"target\"].values.tolist()\n",
    "database"
   ],
   "metadata": {
    "collapsed": false,
    "pycharm": {
     "name": "#%%\n"
    }
   }
  },
  {
   "cell_type": "code",
   "execution_count": 3,
   "outputs": [],
   "source": [
    "emailsText = []\n",
    "for email in database[\"email\"]:\n",
    "    emailsText.append(email)"
   ],
   "metadata": {
    "collapsed": false,
    "pycharm": {
     "name": "#%%\n"
    }
   }
  },
  {
   "cell_type": "code",
   "execution_count": 4,
   "outputs": [
    {
     "name": "stdout",
     "output_type": "stream",
     "text": [
      "33341\n"
     ]
    }
   ],
   "source": [
    "print(len(emailsText))"
   ],
   "metadata": {
    "collapsed": false,
    "pycharm": {
     "name": "#%%\n"
    }
   }
  },
  {
   "cell_type": "markdown",
   "source": [
    "# Representação vetorial GPT2"
   ],
   "metadata": {
    "collapsed": false,
    "pycharm": {
     "name": "#%% md\n"
    }
   }
  },
  {
   "cell_type": "code",
   "execution_count": 5,
   "outputs": [],
   "source": [
    "X_train = emailsText[:26000]\n",
    "\n",
    "Y_train = target[:26000]\n",
    "\n",
    "X_test = emailsText[26000:-1]\n",
    "Y_test = target[26000:-1]"
   ],
   "metadata": {
    "collapsed": false,
    "pycharm": {
     "name": "#%%\n"
    }
   }
  },
  {
   "cell_type": "code",
   "execution_count": 6,
   "outputs": [
    {
     "data": {
      "text/plain": "Downloading:   0%|          | 0.00/665 [00:00<?, ?B/s]",
      "application/vnd.jupyter.widget-view+json": {
       "version_major": 2,
       "version_minor": 0,
       "model_id": "19c9dfd03c8c4e9e872be36b77989bff"
      }
     },
     "metadata": {},
     "output_type": "display_data"
    },
    {
     "data": {
      "text/plain": "Downloading:   0%|          | 0.00/523M [00:00<?, ?B/s]",
      "application/vnd.jupyter.widget-view+json": {
       "version_major": 2,
       "version_minor": 0,
       "model_id": "a136e775bb3c4be78f2e610814f86580"
      }
     },
     "metadata": {},
     "output_type": "display_data"
    },
    {
     "name": "stderr",
     "output_type": "stream",
     "text": [
      "Some weights of the model checkpoint at gpt2 were not used when initializing GPT2ForTextRepresentation: ['h.11.attn.bias', 'h.5.attn.bias', 'h.5.ln_2.bias', 'h.2.attn.bias', 'h.2.attn.c_attn.bias', 'h.5.mlp.c_fc.bias', 'h.7.attn.c_proj.weight', 'h.10.ln_1.weight', 'h.11.attn.c_attn.bias', 'h.2.mlp.c_proj.weight', 'h.4.attn.bias', 'h.10.ln_2.bias', 'h.5.ln_2.weight', 'h.3.attn.c_proj.weight', 'h.11.ln_2.weight', 'h.2.attn.c_proj.weight', 'h.0.ln_1.weight', 'h.7.mlp.c_proj.bias', 'h.6.mlp.c_fc.weight', 'h.6.mlp.c_fc.bias', 'h.2.mlp.c_fc.weight', 'h.9.attn.c_proj.weight', 'h.6.attn.c_attn.bias', 'h.11.mlp.c_proj.weight', 'h.7.attn.c_proj.bias', 'h.9.mlp.c_proj.weight', 'h.3.ln_2.bias', 'h.0.attn.c_proj.weight', 'h.3.mlp.c_fc.bias', 'h.8.attn.bias', 'h.4.ln_1.weight', 'h.4.attn.c_attn.weight', 'h.6.ln_2.weight', 'h.10.mlp.c_fc.weight', 'h.1.ln_1.bias', 'h.7.mlp.c_proj.weight', 'h.8.mlp.c_fc.bias', 'h.8.attn.c_attn.bias', 'h.3.attn.c_attn.weight', 'h.8.attn.c_proj.weight', 'h.7.attn.c_attn.bias', 'h.11.mlp.c_fc.bias', 'h.8.attn.c_attn.weight', 'h.6.attn.c_proj.weight', 'h.11.ln_1.weight', 'h.6.ln_1.weight', 'h.0.mlp.c_proj.bias', 'h.1.ln_2.bias', 'h.4.ln_2.weight', 'h.5.mlp.c_fc.weight', 'h.4.ln_1.bias', 'h.4.mlp.c_proj.weight', 'h.2.ln_1.weight', 'h.11.attn.c_proj.weight', 'h.9.ln_2.bias', 'h.3.mlp.c_proj.weight', 'h.1.mlp.c_fc.bias', 'h.3.attn.c_attn.bias', 'h.4.attn.c_proj.bias', 'wpe.weight', 'h.5.attn.c_proj.bias', 'h.6.attn.c_proj.bias', 'h.7.ln_1.weight', 'h.4.attn.c_attn.bias', 'h.5.mlp.c_proj.weight', 'h.8.ln_1.bias', 'h.7.ln_2.weight', 'h.7.attn.bias', 'h.9.mlp.c_fc.bias', 'h.0.mlp.c_fc.bias', 'h.0.ln_2.weight', 'h.3.mlp.c_proj.bias', 'h.10.ln_1.bias', 'h.10.ln_2.weight', 'h.10.mlp.c_proj.bias', 'h.8.mlp.c_proj.weight', 'h.6.mlp.c_proj.weight', 'h.2.mlp.c_fc.bias', 'h.11.mlp.c_fc.weight', 'h.1.ln_2.weight', 'h.9.ln_1.weight', 'h.9.attn.c_attn.bias', 'h.1.attn.c_proj.bias', 'h.1.mlp.c_proj.bias', 'h.2.mlp.c_proj.bias', 'h.7.attn.c_attn.weight', 'h.10.mlp.c_proj.weight', 'h.8.ln_2.bias', 'h.1.ln_1.weight', 'h.5.attn.c_attn.bias', 'h.2.ln_1.bias', 'h.5.ln_1.bias', 'h.5.ln_1.weight', 'h.5.attn.c_proj.weight', 'h.2.attn.c_proj.bias', 'h.0.attn.c_attn.weight', 'h.1.attn.c_proj.weight', 'h.9.attn.c_proj.bias', 'h.11.attn.c_proj.bias', 'h.6.ln_1.bias', 'h.3.attn.c_proj.bias', 'h.8.ln_2.weight', 'h.7.mlp.c_fc.weight', 'h.6.mlp.c_proj.bias', 'h.0.mlp.c_proj.weight', 'h.11.attn.c_attn.weight', 'h.9.attn.bias', 'h.3.attn.bias', 'h.4.attn.c_proj.weight', 'h.10.attn.c_proj.weight', 'h.7.ln_1.bias', 'h.3.mlp.c_fc.weight', 'h.3.ln_2.weight', 'h.2.attn.c_attn.weight', 'h.0.attn.c_proj.bias', 'h.0.ln_2.bias', 'h.9.attn.c_attn.weight', 'h.6.attn.c_attn.weight', 'h.2.ln_2.bias', 'h.8.mlp.c_fc.weight', 'h.4.mlp.c_fc.bias', 'h.5.attn.c_attn.weight', 'h.10.mlp.c_fc.bias', 'h.1.attn.c_attn.bias', 'h.10.attn.bias', 'h.9.ln_2.weight', 'ln_f.bias', 'h.7.mlp.c_fc.bias', 'h.8.attn.c_proj.bias', 'h.6.attn.bias', 'h.9.mlp.c_proj.bias', 'h.1.mlp.c_fc.weight', 'h.9.ln_1.bias', 'h.1.attn.bias', 'h.2.ln_2.weight', 'wte.weight', 'h.10.attn.c_proj.bias', 'h.10.attn.c_attn.bias', 'h.11.ln_1.bias', 'h.0.attn.c_attn.bias', 'h.4.mlp.c_fc.weight', 'ln_f.weight', 'h.1.attn.c_attn.weight', 'h.10.attn.c_attn.weight', 'h.6.ln_2.bias', 'h.7.ln_2.bias', 'h.11.mlp.c_proj.bias', 'h.9.mlp.c_fc.weight', 'h.3.ln_1.weight', 'h.5.mlp.c_proj.bias', 'h.8.mlp.c_proj.bias', 'h.11.ln_2.bias', 'h.4.mlp.c_proj.bias', 'h.0.mlp.c_fc.weight', 'h.0.ln_1.bias', 'h.0.attn.bias', 'h.8.ln_1.weight', 'h.1.mlp.c_proj.weight', 'h.4.ln_2.bias', 'h.3.ln_1.bias']\n",
      "- This IS expected if you are initializing GPT2ForTextRepresentation from the checkpoint of a model trained on another task or with another architecture (e.g. initializing a BertForSequenceClassification model from a BertForPreTraining model).\n",
      "- This IS NOT expected if you are initializing GPT2ForTextRepresentation from the checkpoint of a model that you expect to be exactly identical (initializing a BertForSequenceClassification model from a BertForSequenceClassification model).\n",
      "Some weights of GPT2ForTextRepresentation were not initialized from the model checkpoint at gpt2 and are newly initialized: ['gpt2.h.11.attn.bias', 'gpt2.h.0.attn.c_attn.bias', 'gpt2.h.6.mlp.c_fc.weight', 'gpt2.h.1.mlp.c_proj.weight', 'gpt2.h.6.attn.c_proj.bias', 'gpt2.h.9.ln_1.weight', 'gpt2.h.7.mlp.c_fc.bias', 'gpt2.h.0.attn.masked_bias', 'gpt2.h.1.attn.masked_bias', 'gpt2.h.11.attn.c_proj.bias', 'gpt2.h.9.attn.bias', 'gpt2.h.3.mlp.c_fc.bias', 'gpt2.h.7.attn.bias', 'gpt2.h.4.ln_1.weight', 'gpt2.h.6.attn.c_attn.weight', 'gpt2.h.4.mlp.c_proj.bias', 'gpt2.h.7.mlp.c_fc.weight', 'gpt2.h.11.ln_2.bias', 'gpt2.h.1.ln_2.weight', 'gpt2.h.3.attn.c_attn.weight', 'gpt2.h.8.attn.bias', 'gpt2.h.0.mlp.c_fc.weight', 'gpt2.h.11.mlp.c_proj.weight', 'gpt2.h.7.ln_1.weight', 'gpt2.h.11.attn.c_proj.weight', 'gpt2.h.5.ln_1.bias', 'gpt2.h.7.attn.masked_bias', 'gpt2.h.3.attn.bias', 'gpt2.h.0.attn.c_proj.weight', 'gpt2.h.3.ln_1.bias', 'gpt2.h.4.mlp.c_fc.weight', 'gpt2.h.0.ln_1.weight', 'gpt2.h.7.mlp.c_proj.weight', 'gpt2.h.6.attn.bias', 'gpt2.h.9.mlp.c_fc.bias', 'gpt2.wte.weight', 'gpt2.h.10.mlp.c_proj.weight', 'gpt2.h.3.mlp.c_proj.weight', 'gpt2.h.5.attn.c_proj.weight', 'gpt2.h.0.mlp.c_proj.bias', 'gpt2.h.2.mlp.c_proj.bias', 'gpt2.h.9.mlp.c_fc.weight', 'gpt2.h.11.attn.c_attn.weight', 'gpt2.h.10.ln_2.weight', 'gpt2.h.0.attn.c_attn.weight', 'gpt2.h.7.mlp.c_proj.bias', 'gpt2.h.2.ln_1.bias', 'gpt2.h.10.mlp.c_fc.weight', 'gpt2.h.0.ln_1.bias', 'gpt2.h.3.attn.c_proj.weight', 'gpt2.h.3.attn.masked_bias', 'gpt2.h.4.attn.c_attn.weight', 'gpt2.h.10.ln_2.bias', 'gpt2.h.1.mlp.c_fc.weight', 'gpt2.h.4.mlp.c_fc.bias', 'gpt2.h.4.ln_1.bias', 'gpt2.h.8.mlp.c_proj.bias', 'gpt2.h.8.ln_2.bias', 'gpt2.h.4.attn.c_proj.weight', 'gpt2.h.1.attn.c_attn.bias', 'gpt2.h.1.attn.c_proj.weight', 'gpt2.h.9.mlp.c_proj.bias', 'gpt2.h.3.attn.c_proj.bias', 'gpt2.h.8.attn.c_proj.bias', 'gpt2.h.4.ln_2.weight', 'gpt2.h.10.mlp.c_fc.bias', 'gpt2.h.1.ln_1.bias', 'gpt2.h.2.attn.c_proj.weight', 'gpt2.h.8.attn.c_attn.weight', 'gpt2.h.11.attn.masked_bias', 'gpt2.h.5.ln_2.weight', 'gpt2.h.9.attn.c_proj.weight', 'gpt2.h.2.attn.c_attn.weight', 'gpt2.h.5.mlp.c_fc.weight', 'gpt2.h.10.ln_1.bias', 'gpt2.h.8.mlp.c_proj.weight', 'gpt2.ln_f.bias', 'gpt2.h.3.ln_1.weight', 'gpt2.h.8.attn.masked_bias', 'gpt2.h.6.attn.c_proj.weight', 'gpt2.h.4.attn.masked_bias', 'gpt2.h.9.attn.masked_bias', 'gpt2.h.8.ln_2.weight', 'gpt2.h.1.mlp.c_proj.bias', 'gpt2.h.5.mlp.c_proj.weight', 'gpt2.h.7.attn.c_attn.bias', 'gpt2.h.2.attn.c_attn.bias', 'gpt2.h.8.attn.c_attn.bias', 'gpt2.h.10.ln_1.weight', 'gpt2.h.3.mlp.c_proj.bias', 'gpt2.h.2.attn.c_proj.bias', 'gpt2.h.2.ln_1.weight', 'gpt2.h.6.ln_2.bias', 'gpt2.h.3.mlp.c_fc.weight', 'gpt2.h.0.attn.c_proj.bias', 'gpt2.h.11.ln_1.bias', 'gpt2.h.7.ln_1.bias', 'gpt2.h.5.attn.masked_bias', 'gpt2.h.2.mlp.c_fc.weight', 'gpt2.h.2.attn.masked_bias', 'gpt2.h.9.ln_2.weight', 'gpt2.h.4.attn.c_proj.bias', 'gpt2.h.3.ln_2.bias', 'gpt2.h.8.ln_1.weight', 'gpt2.h.9.ln_1.bias', 'gpt2.h.4.attn.bias', 'gpt2.h.11.mlp.c_proj.bias', 'gpt2.h.1.attn.c_attn.weight', 'gpt2.h.1.ln_1.weight', 'gpt2.h.10.mlp.c_proj.bias', 'gpt2.h.10.attn.c_attn.bias', 'gpt2.h.11.ln_2.weight', 'gpt2.h.7.ln_2.weight', 'gpt2.h.11.ln_1.weight', 'gpt2.h.0.attn.bias', 'gpt2.h.0.mlp.c_fc.bias', 'gpt2.h.5.attn.c_attn.weight', 'gpt2.h.6.ln_2.weight', 'gpt2.h.5.mlp.c_proj.bias', 'gpt2.h.1.attn.c_proj.bias', 'gpt2.h.9.attn.c_proj.bias', 'gpt2.h.3.attn.c_attn.bias', 'gpt2.h.6.mlp.c_proj.weight', 'gpt2.h.5.attn.bias', 'gpt2.h.8.mlp.c_fc.weight', 'gpt2.h.4.attn.c_attn.bias', 'gpt2.h.6.ln_1.weight', 'gpt2.h.5.ln_1.weight', 'gpt2.h.2.ln_2.bias', 'gpt2.h.6.mlp.c_fc.bias', 'gpt2.h.5.attn.c_proj.bias', 'gpt2.h.0.ln_2.weight', 'gpt2.h.6.mlp.c_proj.bias', 'gpt2.h.5.attn.c_attn.bias', 'gpt2.h.2.ln_2.weight', 'gpt2.h.6.attn.c_attn.bias', 'gpt2.h.6.attn.masked_bias', 'gpt2.h.1.mlp.c_fc.bias', 'gpt2.h.2.mlp.c_proj.weight', 'gpt2.h.9.mlp.c_proj.weight', 'gpt2.h.1.attn.bias', 'gpt2.h.7.attn.c_proj.weight', 'gpt2.h.9.attn.c_attn.weight', 'gpt2.h.1.ln_2.bias', 'gpt2.h.7.attn.c_proj.bias', 'gpt2.h.8.attn.c_proj.weight', 'gpt2.h.2.mlp.c_fc.bias', 'gpt2.h.7.attn.c_attn.weight', 'gpt2.h.0.mlp.c_proj.weight', 'gpt2.h.2.attn.bias', 'gpt2.h.4.ln_2.bias', 'gpt2.h.10.attn.c_proj.bias', 'gpt2.h.0.ln_2.bias', 'gpt2.wpe.weight', 'gpt2.ln_f.weight', 'gpt2.h.9.ln_2.bias', 'gpt2.h.11.mlp.c_fc.weight', 'gpt2.h.10.attn.c_proj.weight', 'gpt2.h.6.ln_1.bias', 'gpt2.h.10.attn.bias', 'gpt2.h.10.attn.masked_bias', 'gpt2.h.4.mlp.c_proj.weight', 'gpt2.h.5.mlp.c_fc.bias', 'gpt2.h.9.attn.c_attn.bias', 'gpt2.h.10.attn.c_attn.weight', 'gpt2.h.11.attn.c_attn.bias', 'gpt2.h.8.ln_1.bias', 'gpt2.h.5.ln_2.bias', 'gpt2.h.11.mlp.c_fc.bias', 'gpt2.h.7.ln_2.bias', 'gpt2.h.3.ln_2.weight', 'gpt2.h.8.mlp.c_fc.bias']\n",
      "You should probably TRAIN this model on a down-stream task to be able to use it for predictions and inference.\n"
     ]
    },
    {
     "data": {
      "text/plain": "Downloading:   0%|          | 0.00/0.99M [00:00<?, ?B/s]",
      "application/vnd.jupyter.widget-view+json": {
       "version_major": 2,
       "version_minor": 0,
       "model_id": "53662065d5434dcc9875b8617b25ded9"
      }
     },
     "metadata": {},
     "output_type": "display_data"
    },
    {
     "data": {
      "text/plain": "Downloading:   0%|          | 0.00/446k [00:00<?, ?B/s]",
      "application/vnd.jupyter.widget-view+json": {
       "version_major": 2,
       "version_minor": 0,
       "model_id": "45f59d8ebef246979fce53af549cde6a"
      }
     },
     "metadata": {},
     "output_type": "display_data"
    },
    {
     "data": {
      "text/plain": "(33341, 768)"
     },
     "execution_count": 6,
     "metadata": {},
     "output_type": "execute_result"
    }
   ],
   "source": [
    "model=RepresentationModel(\n",
    "    model_type=\"gpt2\",\n",
    "    model_name=\"gpt2\",\n",
    "    use_cuda=True,\n",
    "    #fp16=True\n",
    ")\n",
    "\n",
    "vectorialRepresentation = model.encode_sentences(emailsText, combine_strategy=\"mean\")\n",
    "vectorialRepresentation.shape"
   ],
   "metadata": {
    "collapsed": false,
    "pycharm": {
     "name": "#%%\n"
    }
   }
  },
  {
   "cell_type": "code",
   "execution_count": 7,
   "outputs": [
    {
     "data": {
      "text/plain": "            0         1         2         3         4         5         6    \\\n0     -1.720935 -0.023526 -0.743354  0.204791  1.010644 -0.830867  0.721024   \n1     -1.311162  0.742316  0.202008 -0.832470  2.121198  0.036568 -0.735903   \n2     -1.613549 -0.121906 -0.244278  0.457948  1.282207 -0.348817  0.603470   \n3     -1.708971 -0.042957 -0.772094  0.572821  1.418739 -0.508233  0.533895   \n4     -1.653066  0.338048  0.100967  0.966783  1.006340  0.674801  0.456975   \n...         ...       ...       ...       ...       ...       ...       ...   \n33336 -1.727967 -0.204029  0.957989  0.884536  1.260856 -0.326491  1.709011   \n33337 -1.715055  0.260558  0.641951  0.582118  1.481841  0.830118  0.380779   \n33338 -1.672276  0.569216  0.167208  0.966924  1.594888 -0.887654  0.660942   \n33339 -1.086582 -0.037904  0.567242  1.337436  1.123404 -0.304514  0.492620   \n33340 -1.860056 -0.172657  0.798340  0.318765  0.982885 -0.381211  0.845841   \n\n            7         8         9    ...       758       759       760  \\\n0     -0.780136  1.136162  0.112345  ...  1.038790 -0.776763 -0.600579   \n1     -1.159517  0.209514 -0.735534  ...  0.180557  0.163270 -0.545276   \n2     -0.143732  0.708336 -0.441418  ...  1.266254 -0.613317 -0.233853   \n3     -0.350519  1.055781 -0.198974  ...  1.137816 -0.716726 -0.405698   \n4      0.343461  0.166554 -0.575921  ...  1.352527 -0.397707 -0.431623   \n...         ...       ...       ...  ...       ...       ...       ...   \n33336  0.360683  0.887070 -0.702635  ...  0.986927 -0.113948 -0.520735   \n33337  0.110515  0.279141 -0.834960  ...  1.153177  0.179568 -0.079570   \n33338  0.473567  0.517672 -0.455050  ...  0.786002  0.718230 -0.577504   \n33339  0.467648 -0.228583 -0.696143  ...  1.548511  0.041835  0.114142   \n33340  1.327486  0.849231 -0.130390  ...  1.713671  0.417613  0.721195   \n\n            761       762       763       764       765       766       767  \n0     -1.112939 -1.282965  0.759167 -0.376124  0.581106  1.828999 -2.392465  \n1     -0.160712 -1.050091 -0.973732 -0.223586  0.281737  0.993992 -1.093664  \n2     -0.619568 -1.164543  0.239890 -1.089967  1.129646  1.491745 -2.110925  \n3     -0.723117 -1.373377  0.603075 -0.804408  1.153702  1.901221 -2.562153  \n4     -0.175424 -0.378089  0.561245 -0.520541  0.752223  1.260783 -0.513180  \n...         ...       ...       ...       ...       ...       ...       ...  \n33336 -0.280163 -1.024321 -0.241498  0.021910  0.937964  1.676697 -1.591196  \n33337 -0.291245 -0.268143 -0.184403 -0.586844  0.499743  1.228661 -0.650326  \n33338 -0.670712 -1.039562  0.119136 -0.321140  1.400021  1.812490 -1.818911  \n33339  0.423129 -0.903542  0.332222 -0.771430  0.189503  1.970597 -2.182419  \n33340 -0.852935 -0.895679  0.041492 -0.198497  0.965630  2.283103 -2.135020  \n\n[33341 rows x 768 columns]",
      "text/html": "<div>\n<style scoped>\n    .dataframe tbody tr th:only-of-type {\n        vertical-align: middle;\n    }\n\n    .dataframe tbody tr th {\n        vertical-align: top;\n    }\n\n    .dataframe thead th {\n        text-align: right;\n    }\n</style>\n<table border=\"1\" class=\"dataframe\">\n  <thead>\n    <tr style=\"text-align: right;\">\n      <th></th>\n      <th>0</th>\n      <th>1</th>\n      <th>2</th>\n      <th>3</th>\n      <th>4</th>\n      <th>5</th>\n      <th>6</th>\n      <th>7</th>\n      <th>8</th>\n      <th>9</th>\n      <th>...</th>\n      <th>758</th>\n      <th>759</th>\n      <th>760</th>\n      <th>761</th>\n      <th>762</th>\n      <th>763</th>\n      <th>764</th>\n      <th>765</th>\n      <th>766</th>\n      <th>767</th>\n    </tr>\n  </thead>\n  <tbody>\n    <tr>\n      <th>0</th>\n      <td>-1.720935</td>\n      <td>-0.023526</td>\n      <td>-0.743354</td>\n      <td>0.204791</td>\n      <td>1.010644</td>\n      <td>-0.830867</td>\n      <td>0.721024</td>\n      <td>-0.780136</td>\n      <td>1.136162</td>\n      <td>0.112345</td>\n      <td>...</td>\n      <td>1.038790</td>\n      <td>-0.776763</td>\n      <td>-0.600579</td>\n      <td>-1.112939</td>\n      <td>-1.282965</td>\n      <td>0.759167</td>\n      <td>-0.376124</td>\n      <td>0.581106</td>\n      <td>1.828999</td>\n      <td>-2.392465</td>\n    </tr>\n    <tr>\n      <th>1</th>\n      <td>-1.311162</td>\n      <td>0.742316</td>\n      <td>0.202008</td>\n      <td>-0.832470</td>\n      <td>2.121198</td>\n      <td>0.036568</td>\n      <td>-0.735903</td>\n      <td>-1.159517</td>\n      <td>0.209514</td>\n      <td>-0.735534</td>\n      <td>...</td>\n      <td>0.180557</td>\n      <td>0.163270</td>\n      <td>-0.545276</td>\n      <td>-0.160712</td>\n      <td>-1.050091</td>\n      <td>-0.973732</td>\n      <td>-0.223586</td>\n      <td>0.281737</td>\n      <td>0.993992</td>\n      <td>-1.093664</td>\n    </tr>\n    <tr>\n      <th>2</th>\n      <td>-1.613549</td>\n      <td>-0.121906</td>\n      <td>-0.244278</td>\n      <td>0.457948</td>\n      <td>1.282207</td>\n      <td>-0.348817</td>\n      <td>0.603470</td>\n      <td>-0.143732</td>\n      <td>0.708336</td>\n      <td>-0.441418</td>\n      <td>...</td>\n      <td>1.266254</td>\n      <td>-0.613317</td>\n      <td>-0.233853</td>\n      <td>-0.619568</td>\n      <td>-1.164543</td>\n      <td>0.239890</td>\n      <td>-1.089967</td>\n      <td>1.129646</td>\n      <td>1.491745</td>\n      <td>-2.110925</td>\n    </tr>\n    <tr>\n      <th>3</th>\n      <td>-1.708971</td>\n      <td>-0.042957</td>\n      <td>-0.772094</td>\n      <td>0.572821</td>\n      <td>1.418739</td>\n      <td>-0.508233</td>\n      <td>0.533895</td>\n      <td>-0.350519</td>\n      <td>1.055781</td>\n      <td>-0.198974</td>\n      <td>...</td>\n      <td>1.137816</td>\n      <td>-0.716726</td>\n      <td>-0.405698</td>\n      <td>-0.723117</td>\n      <td>-1.373377</td>\n      <td>0.603075</td>\n      <td>-0.804408</td>\n      <td>1.153702</td>\n      <td>1.901221</td>\n      <td>-2.562153</td>\n    </tr>\n    <tr>\n      <th>4</th>\n      <td>-1.653066</td>\n      <td>0.338048</td>\n      <td>0.100967</td>\n      <td>0.966783</td>\n      <td>1.006340</td>\n      <td>0.674801</td>\n      <td>0.456975</td>\n      <td>0.343461</td>\n      <td>0.166554</td>\n      <td>-0.575921</td>\n      <td>...</td>\n      <td>1.352527</td>\n      <td>-0.397707</td>\n      <td>-0.431623</td>\n      <td>-0.175424</td>\n      <td>-0.378089</td>\n      <td>0.561245</td>\n      <td>-0.520541</td>\n      <td>0.752223</td>\n      <td>1.260783</td>\n      <td>-0.513180</td>\n    </tr>\n    <tr>\n      <th>...</th>\n      <td>...</td>\n      <td>...</td>\n      <td>...</td>\n      <td>...</td>\n      <td>...</td>\n      <td>...</td>\n      <td>...</td>\n      <td>...</td>\n      <td>...</td>\n      <td>...</td>\n      <td>...</td>\n      <td>...</td>\n      <td>...</td>\n      <td>...</td>\n      <td>...</td>\n      <td>...</td>\n      <td>...</td>\n      <td>...</td>\n      <td>...</td>\n      <td>...</td>\n      <td>...</td>\n    </tr>\n    <tr>\n      <th>33336</th>\n      <td>-1.727967</td>\n      <td>-0.204029</td>\n      <td>0.957989</td>\n      <td>0.884536</td>\n      <td>1.260856</td>\n      <td>-0.326491</td>\n      <td>1.709011</td>\n      <td>0.360683</td>\n      <td>0.887070</td>\n      <td>-0.702635</td>\n      <td>...</td>\n      <td>0.986927</td>\n      <td>-0.113948</td>\n      <td>-0.520735</td>\n      <td>-0.280163</td>\n      <td>-1.024321</td>\n      <td>-0.241498</td>\n      <td>0.021910</td>\n      <td>0.937964</td>\n      <td>1.676697</td>\n      <td>-1.591196</td>\n    </tr>\n    <tr>\n      <th>33337</th>\n      <td>-1.715055</td>\n      <td>0.260558</td>\n      <td>0.641951</td>\n      <td>0.582118</td>\n      <td>1.481841</td>\n      <td>0.830118</td>\n      <td>0.380779</td>\n      <td>0.110515</td>\n      <td>0.279141</td>\n      <td>-0.834960</td>\n      <td>...</td>\n      <td>1.153177</td>\n      <td>0.179568</td>\n      <td>-0.079570</td>\n      <td>-0.291245</td>\n      <td>-0.268143</td>\n      <td>-0.184403</td>\n      <td>-0.586844</td>\n      <td>0.499743</td>\n      <td>1.228661</td>\n      <td>-0.650326</td>\n    </tr>\n    <tr>\n      <th>33338</th>\n      <td>-1.672276</td>\n      <td>0.569216</td>\n      <td>0.167208</td>\n      <td>0.966924</td>\n      <td>1.594888</td>\n      <td>-0.887654</td>\n      <td>0.660942</td>\n      <td>0.473567</td>\n      <td>0.517672</td>\n      <td>-0.455050</td>\n      <td>...</td>\n      <td>0.786002</td>\n      <td>0.718230</td>\n      <td>-0.577504</td>\n      <td>-0.670712</td>\n      <td>-1.039562</td>\n      <td>0.119136</td>\n      <td>-0.321140</td>\n      <td>1.400021</td>\n      <td>1.812490</td>\n      <td>-1.818911</td>\n    </tr>\n    <tr>\n      <th>33339</th>\n      <td>-1.086582</td>\n      <td>-0.037904</td>\n      <td>0.567242</td>\n      <td>1.337436</td>\n      <td>1.123404</td>\n      <td>-0.304514</td>\n      <td>0.492620</td>\n      <td>0.467648</td>\n      <td>-0.228583</td>\n      <td>-0.696143</td>\n      <td>...</td>\n      <td>1.548511</td>\n      <td>0.041835</td>\n      <td>0.114142</td>\n      <td>0.423129</td>\n      <td>-0.903542</td>\n      <td>0.332222</td>\n      <td>-0.771430</td>\n      <td>0.189503</td>\n      <td>1.970597</td>\n      <td>-2.182419</td>\n    </tr>\n    <tr>\n      <th>33340</th>\n      <td>-1.860056</td>\n      <td>-0.172657</td>\n      <td>0.798340</td>\n      <td>0.318765</td>\n      <td>0.982885</td>\n      <td>-0.381211</td>\n      <td>0.845841</td>\n      <td>1.327486</td>\n      <td>0.849231</td>\n      <td>-0.130390</td>\n      <td>...</td>\n      <td>1.713671</td>\n      <td>0.417613</td>\n      <td>0.721195</td>\n      <td>-0.852935</td>\n      <td>-0.895679</td>\n      <td>0.041492</td>\n      <td>-0.198497</td>\n      <td>0.965630</td>\n      <td>2.283103</td>\n      <td>-2.135020</td>\n    </tr>\n  </tbody>\n</table>\n<p>33341 rows × 768 columns</p>\n</div>"
     },
     "execution_count": 7,
     "metadata": {},
     "output_type": "execute_result"
    }
   ],
   "source": [
    "gpt2Dataframe = pd.DataFrame(vectorialRepresentation)\n",
    "gpt2Dataframe"
   ],
   "metadata": {
    "collapsed": false,
    "pycharm": {
     "name": "#%%\n"
    }
   }
  },
  {
   "cell_type": "markdown",
   "source": [
    "# Visualização de dados com TSNE"
   ],
   "metadata": {
    "collapsed": false,
    "pycharm": {
     "name": "#%% md\n"
    }
   }
  },
  {
   "cell_type": "code",
   "execution_count": 8,
   "outputs": [
    {
     "name": "stderr",
     "output_type": "stream",
     "text": [
      "E:\\DevPack\\anaconda3\\envs\\data_science\\lib\\site-packages\\sklearn\\manifold\\_t_sne.py:780: FutureWarning: The default initialization in TSNE will change from 'random' to 'pca' in 1.2.\n",
      "  warnings.warn(\n",
      "E:\\DevPack\\anaconda3\\envs\\data_science\\lib\\site-packages\\sklearn\\manifold\\_t_sne.py:790: FutureWarning: The default learning rate in TSNE will change from 200.0 to 'auto' in 1.2.\n",
      "  warnings.warn(\n"
     ]
    },
    {
     "name": "stdout",
     "output_type": "stream",
     "text": [
      "               0          1  Target\n",
      "0     -71.699974 -16.770399       0\n",
      "1      -6.431869  11.403104       0\n",
      "2      16.210714  16.236715       0\n",
      "3      60.358383 -42.002441       0\n",
      "4     -35.257069  11.333161       0\n",
      "...          ...        ...     ...\n",
      "33336  -2.720110  -5.100912       1\n",
      "33337 -16.430706  14.502639       1\n",
      "33338  36.405270 -23.492897       1\n",
      "33339 -15.231197  46.753464       0\n",
      "33340  -9.637349  -8.283697       1\n",
      "\n",
      "[33341 rows x 3 columns]\n"
     ]
    },
    {
     "data": {
      "text/plain": "<Figure size 432x288 with 1 Axes>",
      "image/png": "[encoded data removed]"
     },
     "metadata": {
      "needs_background": "light"
     },
     "output_type": "display_data"
    }
   ],
   "source": [
    "model = TSNE(n_components=2, random_state=0)\n",
    "array_red = model.fit_transform(gpt2Dataframe)\n",
    "\n",
    "df_tsne = pd.DataFrame(array_red)\n",
    "\n",
    "df_tsne['Target'] = target\n",
    "print(df_tsne)\n",
    "df_tsne_c1 = df_tsne[df_tsne['Target'] == 0]\n",
    "\n",
    "df_tsne_c2 = df_tsne[df_tsne['Target'] == 1]\n",
    "\n",
    "plt.scatter(df_tsne_c1[0].array,df_tsne_c1[1].array,marker='o',color='blue')\n",
    "\n",
    "plt.scatter(df_tsne_c2[0].array,df_tsne_c2[1].array,marker='o',color='red')\n",
    "\n",
    "plt.title('Dados')\n",
    "plt.xlabel('x')\n",
    "plt.ylabel('y')\n",
    "\n",
    "plt.show()"
   ],
   "metadata": {
    "collapsed": false,
    "pycharm": {
     "name": "#%%\n"
    }
   }
  },
  {
   "cell_type": "markdown",
   "source": [
    "# Validação"
   ],
   "metadata": {
    "collapsed": false,
    "pycharm": {
     "name": "#%% md\n"
    }
   }
  },
  {
   "cell_type": "code",
   "execution_count": 9,
   "outputs": [],
   "source": [
    "def getModel():\n",
    "    return LogisticRegression(max_iter=400)"
   ],
   "metadata": {
    "collapsed": false,
    "pycharm": {
     "name": "#%%\n"
    }
   }
  },
  {
   "cell_type": "code",
   "execution_count": 10,
   "outputs": [
    {
     "name": "stderr",
     "output_type": "stream",
     "text": [
      "E:\\DevPack\\anaconda3\\envs\\data_science\\lib\\site-packages\\sklearn\\linear_model\\_logistic.py:814: ConvergenceWarning: lbfgs failed to converge (status=1):\n",
      "STOP: TOTAL NO. of ITERATIONS REACHED LIMIT.\n",
      "\n",
      "Increase the number of iterations (max_iter) or scale the data as shown in:\n",
      "    https://scikit-learn.org/stable/modules/preprocessing.html\n",
      "Please also refer to the documentation for alternative solver options:\n",
      "    https://scikit-learn.org/stable/modules/linear_model.html#logistic-regression\n",
      "  n_iter_i = _check_optimize_result(\n"
     ]
    },
    {
     "data": {
      "text/plain": "0.8831908831908832"
     },
     "execution_count": 10,
     "metadata": {},
     "output_type": "execute_result"
    }
   ],
   "source": [
    "X_treino, X_teste, y_treino, y_teste = train_test_split(gpt2Dataframe.values,target,test_size=0.2)\n",
    "modelo = getModel().fit(X_treino,y_treino)\n",
    "score = modelo.score(X_teste,y_teste)\n",
    "score"
   ],
   "metadata": {
    "collapsed": false,
    "pycharm": {
     "name": "#%%\n"
    }
   }
  },
  {
   "cell_type": "code",
   "execution_count": 11,
   "outputs": [
    {
     "name": "stderr",
     "output_type": "stream",
     "text": [
      "E:\\DevPack\\anaconda3\\envs\\data_science\\lib\\site-packages\\sklearn\\linear_model\\_logistic.py:814: ConvergenceWarning: lbfgs failed to converge (status=1):\n",
      "STOP: TOTAL NO. of ITERATIONS REACHED LIMIT.\n",
      "\n",
      "Increase the number of iterations (max_iter) or scale the data as shown in:\n",
      "    https://scikit-learn.org/stable/modules/preprocessing.html\n",
      "Please also refer to the documentation for alternative solver options:\n",
      "    https://scikit-learn.org/stable/modules/linear_model.html#logistic-regression\n",
      "  n_iter_i = _check_optimize_result(\n",
      "E:\\DevPack\\anaconda3\\envs\\data_science\\lib\\site-packages\\sklearn\\linear_model\\_logistic.py:814: ConvergenceWarning: lbfgs failed to converge (status=1):\n",
      "STOP: TOTAL NO. of ITERATIONS REACHED LIMIT.\n",
      "\n",
      "Increase the number of iterations (max_iter) or scale the data as shown in:\n",
      "    https://scikit-learn.org/stable/modules/preprocessing.html\n",
      "Please also refer to the documentation for alternative solver options:\n",
      "    https://scikit-learn.org/stable/modules/linear_model.html#logistic-regression\n",
      "  n_iter_i = _check_optimize_result(\n",
      "E:\\DevPack\\anaconda3\\envs\\data_science\\lib\\site-packages\\sklearn\\linear_model\\_logistic.py:814: ConvergenceWarning: lbfgs failed to converge (status=1):\n",
      "STOP: TOTAL NO. of ITERATIONS REACHED LIMIT.\n",
      "\n",
      "Increase the number of iterations (max_iter) or scale the data as shown in:\n",
      "    https://scikit-learn.org/stable/modules/preprocessing.html\n",
      "Please also refer to the documentation for alternative solver options:\n",
      "    https://scikit-learn.org/stable/modules/linear_model.html#logistic-regression\n",
      "  n_iter_i = _check_optimize_result(\n",
      "E:\\DevPack\\anaconda3\\envs\\data_science\\lib\\site-packages\\sklearn\\linear_model\\_logistic.py:814: ConvergenceWarning: lbfgs failed to converge (status=1):\n",
      "STOP: TOTAL NO. of ITERATIONS REACHED LIMIT.\n",
      "\n",
      "Increase the number of iterations (max_iter) or scale the data as shown in:\n",
      "    https://scikit-learn.org/stable/modules/preprocessing.html\n",
      "Please also refer to the documentation for alternative solver options:\n",
      "    https://scikit-learn.org/stable/modules/linear_model.html#logistic-regression\n",
      "  n_iter_i = _check_optimize_result(\n",
      "E:\\DevPack\\anaconda3\\envs\\data_science\\lib\\site-packages\\sklearn\\linear_model\\_logistic.py:814: ConvergenceWarning: lbfgs failed to converge (status=1):\n",
      "STOP: TOTAL NO. of ITERATIONS REACHED LIMIT.\n",
      "\n",
      "Increase the number of iterations (max_iter) or scale the data as shown in:\n",
      "    https://scikit-learn.org/stable/modules/preprocessing.html\n",
      "Please also refer to the documentation for alternative solver options:\n",
      "    https://scikit-learn.org/stable/modules/linear_model.html#logistic-regression\n",
      "  n_iter_i = _check_optimize_result(\n",
      "E:\\DevPack\\anaconda3\\envs\\data_science\\lib\\site-packages\\sklearn\\linear_model\\_logistic.py:814: ConvergenceWarning: lbfgs failed to converge (status=1):\n",
      "STOP: TOTAL NO. of ITERATIONS REACHED LIMIT.\n",
      "\n",
      "Increase the number of iterations (max_iter) or scale the data as shown in:\n",
      "    https://scikit-learn.org/stable/modules/preprocessing.html\n",
      "Please also refer to the documentation for alternative solver options:\n",
      "    https://scikit-learn.org/stable/modules/linear_model.html#logistic-regression\n",
      "  n_iter_i = _check_optimize_result(\n",
      "E:\\DevPack\\anaconda3\\envs\\data_science\\lib\\site-packages\\sklearn\\linear_model\\_logistic.py:814: ConvergenceWarning: lbfgs failed to converge (status=1):\n",
      "STOP: TOTAL NO. of ITERATIONS REACHED LIMIT.\n",
      "\n",
      "Increase the number of iterations (max_iter) or scale the data as shown in:\n",
      "    https://scikit-learn.org/stable/modules/preprocessing.html\n",
      "Please also refer to the documentation for alternative solver options:\n",
      "    https://scikit-learn.org/stable/modules/linear_model.html#logistic-regression\n",
      "  n_iter_i = _check_optimize_result(\n",
      "E:\\DevPack\\anaconda3\\envs\\data_science\\lib\\site-packages\\sklearn\\linear_model\\_logistic.py:814: ConvergenceWarning: lbfgs failed to converge (status=1):\n",
      "STOP: TOTAL NO. of ITERATIONS REACHED LIMIT.\n",
      "\n",
      "Increase the number of iterations (max_iter) or scale the data as shown in:\n",
      "    https://scikit-learn.org/stable/modules/preprocessing.html\n",
      "Please also refer to the documentation for alternative solver options:\n",
      "    https://scikit-learn.org/stable/modules/linear_model.html#logistic-regression\n",
      "  n_iter_i = _check_optimize_result(\n",
      "E:\\DevPack\\anaconda3\\envs\\data_science\\lib\\site-packages\\sklearn\\linear_model\\_logistic.py:814: ConvergenceWarning: lbfgs failed to converge (status=1):\n",
      "STOP: TOTAL NO. of ITERATIONS REACHED LIMIT.\n",
      "\n",
      "Increase the number of iterations (max_iter) or scale the data as shown in:\n",
      "    https://scikit-learn.org/stable/modules/preprocessing.html\n",
      "Please also refer to the documentation for alternative solver options:\n",
      "    https://scikit-learn.org/stable/modules/linear_model.html#logistic-regression\n",
      "  n_iter_i = _check_optimize_result(\n",
      "E:\\DevPack\\anaconda3\\envs\\data_science\\lib\\site-packages\\sklearn\\linear_model\\_logistic.py:814: ConvergenceWarning: lbfgs failed to converge (status=1):\n",
      "STOP: TOTAL NO. of ITERATIONS REACHED LIMIT.\n",
      "\n",
      "Increase the number of iterations (max_iter) or scale the data as shown in:\n",
      "    https://scikit-learn.org/stable/modules/preprocessing.html\n",
      "Please also refer to the documentation for alternative solver options:\n",
      "    https://scikit-learn.org/stable/modules/linear_model.html#logistic-regression\n",
      "  n_iter_i = _check_optimize_result(\n"
     ]
    },
    {
     "data": {
      "text/plain": "0.8820971787651464"
     },
     "execution_count": 11,
     "metadata": {},
     "output_type": "execute_result"
    }
   ],
   "source": [
    "scores = cross_val_score(getModel(),gpt2Dataframe.values,target,cv=10)\n",
    "\n",
    "scores.mean()"
   ],
   "metadata": {
    "collapsed": false,
    "pycharm": {
     "name": "#%%\n"
    }
   }
  },
  {
   "cell_type": "code",
   "execution_count": 12,
   "outputs": [
    {
     "name": "stderr",
     "output_type": "stream",
     "text": [
      "E:\\DevPack\\anaconda3\\envs\\data_science\\lib\\site-packages\\sklearn\\linear_model\\_logistic.py:814: ConvergenceWarning: lbfgs failed to converge (status=1):\n",
      "STOP: TOTAL NO. of ITERATIONS REACHED LIMIT.\n",
      "\n",
      "Increase the number of iterations (max_iter) or scale the data as shown in:\n",
      "    https://scikit-learn.org/stable/modules/preprocessing.html\n",
      "Please also refer to the documentation for alternative solver options:\n",
      "    https://scikit-learn.org/stable/modules/linear_model.html#logistic-regression\n",
      "  n_iter_i = _check_optimize_result(\n",
      "E:\\DevPack\\anaconda3\\envs\\data_science\\lib\\site-packages\\sklearn\\linear_model\\_logistic.py:814: ConvergenceWarning: lbfgs failed to converge (status=1):\n",
      "STOP: TOTAL NO. of ITERATIONS REACHED LIMIT.\n",
      "\n",
      "Increase the number of iterations (max_iter) or scale the data as shown in:\n",
      "    https://scikit-learn.org/stable/modules/preprocessing.html\n",
      "Please also refer to the documentation for alternative solver options:\n",
      "    https://scikit-learn.org/stable/modules/linear_model.html#logistic-regression\n",
      "  n_iter_i = _check_optimize_result(\n",
      "E:\\DevPack\\anaconda3\\envs\\data_science\\lib\\site-packages\\sklearn\\linear_model\\_logistic.py:814: ConvergenceWarning: lbfgs failed to converge (status=1):\n",
      "STOP: TOTAL NO. of ITERATIONS REACHED LIMIT.\n",
      "\n",
      "Increase the number of iterations (max_iter) or scale the data as shown in:\n",
      "    https://scikit-learn.org/stable/modules/preprocessing.html\n",
      "Please also refer to the documentation for alternative solver options:\n",
      "    https://scikit-learn.org/stable/modules/linear_model.html#logistic-regression\n",
      "  n_iter_i = _check_optimize_result(\n",
      "E:\\DevPack\\anaconda3\\envs\\data_science\\lib\\site-packages\\sklearn\\linear_model\\_logistic.py:814: ConvergenceWarning: lbfgs failed to converge (status=1):\n",
      "STOP: TOTAL NO. of ITERATIONS REACHED LIMIT.\n",
      "\n",
      "Increase the number of iterations (max_iter) or scale the data as shown in:\n",
      "    https://scikit-learn.org/stable/modules/preprocessing.html\n",
      "Please also refer to the documentation for alternative solver options:\n",
      "    https://scikit-learn.org/stable/modules/linear_model.html#logistic-regression\n",
      "  n_iter_i = _check_optimize_result(\n",
      "E:\\DevPack\\anaconda3\\envs\\data_science\\lib\\site-packages\\sklearn\\linear_model\\_logistic.py:814: ConvergenceWarning: lbfgs failed to converge (status=1):\n",
      "STOP: TOTAL NO. of ITERATIONS REACHED LIMIT.\n",
      "\n",
      "Increase the number of iterations (max_iter) or scale the data as shown in:\n",
      "    https://scikit-learn.org/stable/modules/preprocessing.html\n",
      "Please also refer to the documentation for alternative solver options:\n",
      "    https://scikit-learn.org/stable/modules/linear_model.html#logistic-regression\n",
      "  n_iter_i = _check_optimize_result(\n",
      "E:\\DevPack\\anaconda3\\envs\\data_science\\lib\\site-packages\\sklearn\\linear_model\\_logistic.py:814: ConvergenceWarning: lbfgs failed to converge (status=1):\n",
      "STOP: TOTAL NO. of ITERATIONS REACHED LIMIT.\n",
      "\n",
      "Increase the number of iterations (max_iter) or scale the data as shown in:\n",
      "    https://scikit-learn.org/stable/modules/preprocessing.html\n",
      "Please also refer to the documentation for alternative solver options:\n",
      "    https://scikit-learn.org/stable/modules/linear_model.html#logistic-regression\n",
      "  n_iter_i = _check_optimize_result(\n",
      "E:\\DevPack\\anaconda3\\envs\\data_science\\lib\\site-packages\\sklearn\\linear_model\\_logistic.py:814: ConvergenceWarning: lbfgs failed to converge (status=1):\n",
      "STOP: TOTAL NO. of ITERATIONS REACHED LIMIT.\n",
      "\n",
      "Increase the number of iterations (max_iter) or scale the data as shown in:\n",
      "    https://scikit-learn.org/stable/modules/preprocessing.html\n",
      "Please also refer to the documentation for alternative solver options:\n",
      "    https://scikit-learn.org/stable/modules/linear_model.html#logistic-regression\n",
      "  n_iter_i = _check_optimize_result(\n",
      "E:\\DevPack\\anaconda3\\envs\\data_science\\lib\\site-packages\\sklearn\\linear_model\\_logistic.py:814: ConvergenceWarning: lbfgs failed to converge (status=1):\n",
      "STOP: TOTAL NO. of ITERATIONS REACHED LIMIT.\n",
      "\n",
      "Increase the number of iterations (max_iter) or scale the data as shown in:\n",
      "    https://scikit-learn.org/stable/modules/preprocessing.html\n",
      "Please also refer to the documentation for alternative solver options:\n",
      "    https://scikit-learn.org/stable/modules/linear_model.html#logistic-regression\n",
      "  n_iter_i = _check_optimize_result(\n",
      "E:\\DevPack\\anaconda3\\envs\\data_science\\lib\\site-packages\\sklearn\\linear_model\\_logistic.py:814: ConvergenceWarning: lbfgs failed to converge (status=1):\n",
      "STOP: TOTAL NO. of ITERATIONS REACHED LIMIT.\n",
      "\n",
      "Increase the number of iterations (max_iter) or scale the data as shown in:\n",
      "    https://scikit-learn.org/stable/modules/preprocessing.html\n",
      "Please also refer to the documentation for alternative solver options:\n",
      "    https://scikit-learn.org/stable/modules/linear_model.html#logistic-regression\n",
      "  n_iter_i = _check_optimize_result(\n",
      "E:\\DevPack\\anaconda3\\envs\\data_science\\lib\\site-packages\\sklearn\\linear_model\\_logistic.py:814: ConvergenceWarning: lbfgs failed to converge (status=1):\n",
      "STOP: TOTAL NO. of ITERATIONS REACHED LIMIT.\n",
      "\n",
      "Increase the number of iterations (max_iter) or scale the data as shown in:\n",
      "    https://scikit-learn.org/stable/modules/preprocessing.html\n",
      "Please also refer to the documentation for alternative solver options:\n",
      "    https://scikit-learn.org/stable/modules/linear_model.html#logistic-regression\n",
      "  n_iter_i = _check_optimize_result(\n"
     ]
    }
   ],
   "source": [
    "predicoes = cross_val_predict(getModel(), gpt2Dataframe.values, target, cv=10)"
   ],
   "metadata": {
    "collapsed": false,
    "pycharm": {
     "name": "#%%\n"
    }
   }
  },
  {
   "cell_type": "code",
   "execution_count": 13,
   "outputs": [
    {
     "name": "stdout",
     "output_type": "stream",
     "text": [
      "\n",
      "Classification Report : \n",
      "              precision    recall  f1-score   support\n",
      "\n",
      "         Ham       0.89      0.87      0.88     16493\n",
      "        Spam       0.88      0.89      0.88     16848\n",
      "\n",
      "    accuracy                           0.88     33341\n",
      "   macro avg       0.88      0.88      0.88     33341\n",
      "weighted avg       0.88      0.88      0.88     33341\n",
      "\n"
     ]
    }
   ],
   "source": [
    "print(\"\\nClassification Report : \")\n",
    "print(classification_report(target, predicoes, target_names=[\"Ham\", \"Spam\"]))"
   ],
   "metadata": {
    "collapsed": false,
    "pycharm": {
     "name": "#%%\n"
    }
   }
  },
  {
   "cell_type": "code",
   "execution_count": 14,
   "outputs": [
    {
     "data": {
      "text/plain": "(array([0, 1]), [Text(0, 0, 'Ham'), Text(1, 0, 'Spam')])"
     },
     "execution_count": 14,
     "metadata": {},
     "output_type": "execute_result"
    },
    {
     "data": {
      "text/plain": "<Figure size 360x360 with 2 Axes>",
      "image/png": "[encoded data removed]"
     },
     "metadata": {
      "needs_background": "light"
     },
     "output_type": "display_data"
    }
   ],
   "source": [
    "categories = [\"Ham\", \"Spam\"]\n",
    "\n",
    "skplt.metrics.plot_confusion_matrix(\n",
    "    [categories[i] for i in target], [categories[i] for i in predicoes.tolist()],\n",
    "    title=\"Confusion Matrix\",\n",
    "    cmap=\"Purples\",\n",
    "    hide_zeros=True,\n",
    "    figsize=(5,5)\n",
    ")\n",
    "\n",
    "plt.xticks()"
   ],
   "metadata": {
    "collapsed": false,
    "pycharm": {
     "name": "#%%\n"
    }
   }
  },
  {
   "cell_type": "code",
   "execution_count": 15,
   "outputs": [
    {
     "data": {
      "text/plain": "(array([0, 1]), [Text(0, 0, 'Ham'), Text(1, 0, 'Spam')])"
     },
     "execution_count": 15,
     "metadata": {},
     "output_type": "execute_result"
    },
    {
     "data": {
      "text/plain": "<Figure size 360x360 with 2 Axes>",
      "image/png": "[encoded data removed]"
     },
     "metadata": {
      "needs_background": "light"
     },
     "output_type": "display_data"
    }
   ],
   "source": [
    "skplt.metrics.plot_confusion_matrix(\n",
    "    [categories[i] for i in target], [categories[i] for i in predicoes.tolist()],\n",
    "    normalize=True,\n",
    "    title=\"Confusion Matrix\",\n",
    "    cmap=\"Purples\",\n",
    "    hide_zeros=True,\n",
    "    figsize=(5,5)\n",
    ")\n",
    "\n",
    "plt.xticks()"
   ],
   "metadata": {
    "collapsed": false,
    "pycharm": {
     "name": "#%%\n"
    }
   }
  }
 ],
 "metadata": {
  "kernelspec": {
   "display_name": "Python 3",
   "language": "python",
   "name": "python3"
  },
  "language_info": {
   "codemirror_mode": {
    "name": "ipython",
    "version": 3
   },
   "file_extension": ".py",
   "mimetype": "text/x-python",
   "name": "python",
   "nbconvert_exporter": "python",
   "pygments_lexer": "ipython3",
   "version": "3.8.8"
  }
 },
 "nbformat": 4,
 "nbformat_minor": 1
}