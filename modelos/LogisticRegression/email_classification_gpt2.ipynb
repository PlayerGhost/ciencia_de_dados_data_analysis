{
 "cells": [
  {
   "cell_type": "code",
   "execution_count": 1,
   "outputs": [
    {
     "name": "stderr",
     "output_type": "stream",
     "text": [
      "Intel(R) Extension for Scikit-learn* enabled (https://github.com/intel/scikit-learn-intelex)\n"
     ]
    }
   ],
   "source": [
    "from sklearnex import patch_sklearn\n",
    "patch_sklearn()\n",
    "\n",
    "import pandas as pd\n",
    "from sklearn.linear_model import LogisticRegression\n",
    "from sklearn.model_selection import train_test_split, cross_val_score, cross_val_predict\n",
    "from sklearn.manifold import TSNE\n",
    "from sklearn.metrics import classification_report\n",
    "import scikitplot as skplt\n",
    "import matplotlib.pyplot as plt\n",
    "from simpletransformers.language_representation import RepresentationModel"
   ],
   "metadata": {
    "collapsed": false,
    "pycharm": {
     "name": "#%%\n"
    }
   }
  },
  {
   "cell_type": "markdown",
   "source": [],
   "metadata": {
    "collapsed": false,
    "pycharm": {
     "name": "#%% md\n"
    }
   }
  },
  {
   "cell_type": "code",
   "execution_count": 2,
   "outputs": [
    {
     "data": {
      "text/plain": "                                                   email  target\n0      start date     hourahead timee  cardinall  hou...       0\n1      service long desk  price structure deal quote ...       0\n2      start date  cardinall    hourahead timee  card...       0\n3      start date     hourahead timee  cardinall  anc...       0\n4      cardinall deliverable revenue management marke...       0\n...                                                  ...     ...\n33340  bio  matrix scientific group   symbo   bmxg  p...       1\n33341   cardinall step away hot naked webcam girl liv...       1\n33342  need pill increase performance click  seroius ...       1\n33343  datee final nom       inlet hpl  eastrans  car...       0\n33344  ordinall time  offering male enhancement perfo...       1\n\n[33341 rows x 2 columns]",
      "text/html": "<div>\n<style scoped>\n    .dataframe tbody tr th:only-of-type {\n        vertical-align: middle;\n    }\n\n    .dataframe tbody tr th {\n        vertical-align: top;\n    }\n\n    .dataframe thead th {\n        text-align: right;\n    }\n</style>\n<table border=\"1\" class=\"dataframe\">\n  <thead>\n    <tr style=\"text-align: right;\">\n      <th></th>\n      <th>email</th>\n      <th>target</th>\n    </tr>\n  </thead>\n  <tbody>\n    <tr>\n      <th>0</th>\n      <td>start date     hourahead timee  cardinall  hou...</td>\n      <td>0</td>\n    </tr>\n    <tr>\n      <th>1</th>\n      <td>service long desk  price structure deal quote ...</td>\n      <td>0</td>\n    </tr>\n    <tr>\n      <th>2</th>\n      <td>start date  cardinall    hourahead timee  card...</td>\n      <td>0</td>\n    </tr>\n    <tr>\n      <th>3</th>\n      <td>start date     hourahead timee  cardinall  anc...</td>\n      <td>0</td>\n    </tr>\n    <tr>\n      <th>4</th>\n      <td>cardinall deliverable revenue management marke...</td>\n      <td>0</td>\n    </tr>\n    <tr>\n      <th>...</th>\n      <td>...</td>\n      <td>...</td>\n    </tr>\n    <tr>\n      <th>33340</th>\n      <td>bio  matrix scientific group   symbo   bmxg  p...</td>\n      <td>1</td>\n    </tr>\n    <tr>\n      <th>33341</th>\n      <td>cardinall step away hot naked webcam girl liv...</td>\n      <td>1</td>\n    </tr>\n    <tr>\n      <th>33342</th>\n      <td>need pill increase performance click  seroius ...</td>\n      <td>1</td>\n    </tr>\n    <tr>\n      <th>33343</th>\n      <td>datee final nom       inlet hpl  eastrans  car...</td>\n      <td>0</td>\n    </tr>\n    <tr>\n      <th>33344</th>\n      <td>ordinall time  offering male enhancement perfo...</td>\n      <td>1</td>\n    </tr>\n  </tbody>\n</table>\n<p>33341 rows × 2 columns</p>\n</div>"
     },
     "execution_count": 2,
     "metadata": {},
     "output_type": "execute_result"
    }
   ],
   "source": [
    "database = pd.read_csv(\"../../Database/dataBaseWithNER.csv\")\n",
    "\n",
    "database = database.drop(columns=[\"Unnamed: 0\"])\n",
    "database = database.dropna()\n",
    "target = database[\"target\"].values.tolist()\n",
    "database"
   ],
   "metadata": {
    "collapsed": false,
    "pycharm": {
     "name": "#%%\n"
    }
   }
  },
  {
   "cell_type": "code",
   "execution_count": 3,
   "outputs": [],
   "source": [
    "emailsText = []\n",
    "for email in database[\"email\"]:\n",
    "    emailsText.append(email)"
   ],
   "metadata": {
    "collapsed": false,
    "pycharm": {
     "name": "#%%\n"
    }
   }
  },
  {
   "cell_type": "code",
   "execution_count": 4,
   "outputs": [
    {
     "name": "stdout",
     "output_type": "stream",
     "text": [
      "33341\n"
     ]
    }
   ],
   "source": [
    "print(len(emailsText))"
   ],
   "metadata": {
    "collapsed": false,
    "pycharm": {
     "name": "#%%\n"
    }
   }
  },
  {
   "cell_type": "markdown",
   "source": [
    "# Representação vetorial BERT"
   ],
   "metadata": {
    "collapsed": false,
    "pycharm": {
     "name": "#%% md\n"
    }
   }
  },
  {
   "cell_type": "code",
   "execution_count": 5,
   "outputs": [],
   "source": [
    "X_train = emailsText[:26000]\n",
    "\n",
    "Y_train = target[:26000]\n",
    "\n",
    "X_test = emailsText[26000:-1]\n",
    "Y_test = target[26000:-1]"
   ],
   "metadata": {
    "collapsed": false,
    "pycharm": {
     "name": "#%%\n"
    }
   }
  },
  {
   "cell_type": "code",
   "execution_count": 6,
   "outputs": [
    {
     "name": "stderr",
     "output_type": "stream",
     "text": [
      "Some weights of the model checkpoint at gpt2 were not used when initializing GPT2ForTextRepresentation: ['h.11.attn.c_proj.bias', 'h.5.attn.c_proj.weight', 'h.4.mlp.c_proj.bias', 'h.9.attn.c_attn.weight', 'h.5.mlp.c_proj.bias', 'h.5.attn.c_proj.bias', 'h.11.ln_2.weight', 'h.2.ln_1.weight', 'h.0.attn.c_proj.bias', 'h.1.mlp.c_fc.weight', 'h.1.mlp.c_proj.bias', 'h.2.mlp.c_proj.weight', 'h.4.ln_1.bias', 'h.8.mlp.c_proj.bias', 'h.11.ln_2.bias', 'h.4.attn.bias', 'h.7.mlp.c_proj.bias', 'h.0.ln_1.bias', 'h.5.attn.c_attn.bias', 'h.3.ln_1.weight', 'h.8.ln_2.weight', 'h.1.mlp.c_fc.bias', 'h.2.mlp.c_proj.bias', 'h.3.attn.c_attn.weight', 'h.4.attn.c_proj.weight', 'h.9.mlp.c_proj.bias', 'h.2.mlp.c_fc.bias', 'h.3.ln_1.bias', 'h.4.mlp.c_fc.bias', 'h.1.attn.c_proj.bias', 'h.1.mlp.c_proj.weight', 'h.1.ln_2.weight', 'h.3.attn.c_proj.bias', 'h.5.ln_2.bias', 'h.7.mlp.c_proj.weight', 'h.10.mlp.c_proj.weight', 'h.8.mlp.c_proj.weight', 'h.9.mlp.c_fc.bias', 'h.11.mlp.c_fc.weight', 'h.0.mlp.c_fc.weight', 'h.3.mlp.c_fc.weight', 'h.9.attn.c_attn.bias', 'wte.weight', 'h.8.attn.c_attn.bias', 'h.4.attn.c_attn.weight', 'h.7.attn.bias', 'h.3.mlp.c_proj.weight', 'h.9.ln_1.weight', 'h.2.ln_2.weight', 'h.0.attn.c_proj.weight', 'h.11.attn.bias', 'h.1.ln_2.bias', 'h.4.mlp.c_fc.weight', 'h.2.attn.c_proj.bias', 'h.10.ln_1.bias', 'h.8.ln_1.bias', 'h.2.attn.c_proj.weight', 'h.9.mlp.c_fc.weight', 'h.3.ln_2.bias', 'h.10.ln_1.weight', 'h.8.attn.bias', 'h.0.attn.c_attn.bias', 'h.10.mlp.c_fc.bias', 'h.1.attn.c_proj.weight', 'h.7.ln_2.weight', 'h.7.attn.c_attn.bias', 'h.8.ln_2.bias', 'h.10.mlp.c_fc.weight', 'h.11.ln_1.weight', 'h.2.ln_2.bias', 'h.7.ln_1.weight', 'h.2.attn.c_attn.weight', 'h.5.attn.c_attn.weight', 'h.0.attn.c_attn.weight', 'h.6.ln_1.bias', 'h.9.mlp.c_proj.weight', 'h.1.ln_1.weight', 'ln_f.bias', 'ln_f.weight', 'h.6.attn.c_attn.weight', 'h.0.ln_1.weight', 'h.6.mlp.c_proj.bias', 'h.7.mlp.c_fc.bias', 'h.5.mlp.c_fc.weight', 'h.6.ln_1.weight', 'h.9.ln_2.weight', 'h.9.ln_2.bias', 'h.7.attn.c_proj.bias', 'h.10.attn.bias', 'h.11.attn.c_attn.bias', 'h.0.attn.bias', 'h.6.mlp.c_proj.weight', 'h.11.mlp.c_fc.bias', 'h.11.mlp.c_proj.weight', 'h.11.mlp.c_proj.bias', 'h.6.ln_2.bias', 'h.6.mlp.c_fc.weight', 'h.0.mlp.c_fc.bias', 'h.5.ln_2.weight', 'h.10.ln_2.bias', 'h.3.attn.c_attn.bias', 'h.2.attn.bias', 'h.11.ln_1.bias', 'h.10.attn.c_proj.bias', 'wpe.weight', 'h.0.ln_2.bias', 'h.5.mlp.c_fc.bias', 'h.5.mlp.c_proj.weight', 'h.7.ln_1.bias', 'h.3.mlp.c_proj.bias', 'h.4.ln_1.weight', 'h.7.ln_2.bias', 'h.9.ln_1.bias', 'h.8.attn.c_proj.bias', 'h.0.mlp.c_proj.weight', 'h.2.ln_1.bias', 'h.7.attn.c_proj.weight', 'h.8.attn.c_attn.weight', 'h.1.attn.bias', 'h.10.attn.c_attn.bias', 'h.0.ln_2.weight', 'h.3.mlp.c_fc.bias', 'h.5.ln_1.weight', 'h.4.mlp.c_proj.weight', 'h.6.attn.c_proj.bias', 'h.1.ln_1.bias', 'h.10.ln_2.weight', 'h.0.mlp.c_proj.bias', 'h.7.mlp.c_fc.weight', 'h.5.ln_1.bias', 'h.11.attn.c_attn.weight', 'h.3.attn.c_proj.weight', 'h.11.attn.c_proj.weight', 'h.3.attn.bias', 'h.8.mlp.c_fc.bias', 'h.1.attn.c_attn.bias', 'h.9.attn.bias', 'h.8.ln_1.weight', 'h.9.attn.c_proj.bias', 'h.4.ln_2.weight', 'h.6.ln_2.weight', 'h.3.ln_2.weight', 'h.10.attn.c_proj.weight', 'h.5.attn.bias', 'h.8.attn.c_proj.weight', 'h.9.attn.c_proj.weight', 'h.1.attn.c_attn.weight', 'h.4.attn.c_attn.bias', 'h.6.attn.c_proj.weight', 'h.6.attn.c_attn.bias', 'h.8.mlp.c_fc.weight', 'h.4.attn.c_proj.bias', 'h.6.mlp.c_fc.bias', 'h.6.attn.bias', 'h.10.mlp.c_proj.bias', 'h.2.mlp.c_fc.weight', 'h.4.ln_2.bias', 'h.10.attn.c_attn.weight', 'h.7.attn.c_attn.weight', 'h.2.attn.c_attn.bias']\n",
      "- This IS expected if you are initializing GPT2ForTextRepresentation from the checkpoint of a model trained on another task or with another architecture (e.g. initializing a BertForSequenceClassification model from a BertForPreTraining model).\n",
      "- This IS NOT expected if you are initializing GPT2ForTextRepresentation from the checkpoint of a model that you expect to be exactly identical (initializing a BertForSequenceClassification model from a BertForSequenceClassification model).\n",
      "Some weights of GPT2ForTextRepresentation were not initialized from the model checkpoint at gpt2 and are newly initialized: ['gpt2.h.5.attn.c_attn.bias', 'gpt2.h.10.attn.c_attn.bias', 'gpt2.h.0.attn.c_attn.bias', 'gpt2.h.11.ln_1.weight', 'gpt2.h.7.attn.c_proj.weight', 'gpt2.h.0.mlp.c_fc.bias', 'gpt2.h.10.attn.c_proj.bias', 'gpt2.h.9.attn.c_attn.bias', 'gpt2.h.1.ln_1.weight', 'gpt2.h.9.mlp.c_fc.weight', 'gpt2.h.8.attn.c_attn.bias', 'gpt2.h.1.attn.c_attn.bias', 'gpt2.h.9.mlp.c_proj.weight', 'gpt2.h.11.attn.c_proj.bias', 'gpt2.h.8.mlp.c_fc.weight', 'gpt2.h.11.mlp.c_fc.bias', 'gpt2.h.11.ln_1.bias', 'gpt2.h.10.mlp.c_proj.bias', 'gpt2.h.2.attn.c_attn.bias', 'gpt2.h.4.mlp.c_proj.bias', 'gpt2.ln_f.bias', 'gpt2.h.2.attn.bias', 'gpt2.h.2.mlp.c_fc.bias', 'gpt2.h.10.attn.masked_bias', 'gpt2.h.5.attn.c_proj.weight', 'gpt2.h.1.ln_1.bias', 'gpt2.h.0.ln_2.bias', 'gpt2.h.2.attn.c_proj.weight', 'gpt2.h.6.mlp.c_proj.weight', 'gpt2.h.0.attn.c_proj.weight', 'gpt2.h.5.ln_1.weight', 'gpt2.h.7.ln_2.bias', 'gpt2.h.11.ln_2.weight', 'gpt2.h.1.mlp.c_proj.bias', 'gpt2.h.5.mlp.c_fc.weight', 'gpt2.h.6.attn.c_attn.weight', 'gpt2.h.1.attn.c_attn.weight', 'gpt2.h.7.ln_1.weight', 'gpt2.h.1.mlp.c_fc.bias', 'gpt2.h.6.mlp.c_proj.bias', 'gpt2.h.11.ln_2.bias', 'gpt2.h.5.mlp.c_fc.bias', 'gpt2.h.4.attn.masked_bias', 'gpt2.h.4.mlp.c_fc.bias', 'gpt2.h.8.attn.masked_bias', 'gpt2.h.9.attn.c_proj.weight', 'gpt2.wpe.weight', 'gpt2.h.3.ln_1.weight', 'gpt2.h.6.ln_2.bias', 'gpt2.h.1.ln_2.weight', 'gpt2.h.11.mlp.c_fc.weight', 'gpt2.h.9.attn.c_attn.weight', 'gpt2.h.9.mlp.c_fc.bias', 'gpt2.h.10.ln_2.weight', 'gpt2.h.4.mlp.c_fc.weight', 'gpt2.h.5.attn.c_attn.weight', 'gpt2.h.6.attn.c_proj.bias', 'gpt2.h.0.attn.bias', 'gpt2.h.11.attn.c_attn.bias', 'gpt2.h.7.attn.c_proj.bias', 'gpt2.h.6.attn.masked_bias', 'gpt2.h.4.ln_1.bias', 'gpt2.h.5.mlp.c_proj.weight', 'gpt2.h.10.attn.bias', 'gpt2.h.0.ln_2.weight', 'gpt2.h.2.ln_1.bias', 'gpt2.h.3.attn.c_attn.bias', 'gpt2.h.9.mlp.c_proj.bias', 'gpt2.h.4.ln_2.bias', 'gpt2.h.2.attn.c_attn.weight', 'gpt2.h.3.attn.masked_bias', 'gpt2.h.4.ln_1.weight', 'gpt2.h.0.attn.c_attn.weight', 'gpt2.h.11.attn.c_attn.weight', 'gpt2.h.11.attn.bias', 'gpt2.h.7.attn.bias', 'gpt2.h.9.attn.bias', 'gpt2.h.10.mlp.c_fc.bias', 'gpt2.h.2.mlp.c_proj.bias', 'gpt2.h.0.mlp.c_fc.weight', 'gpt2.h.4.attn.c_attn.weight', 'gpt2.h.4.attn.c_proj.bias', 'gpt2.h.6.ln_1.bias', 'gpt2.h.3.attn.c_proj.bias', 'gpt2.h.3.ln_1.bias', 'gpt2.wte.weight', 'gpt2.h.7.mlp.c_fc.weight', 'gpt2.h.7.mlp.c_fc.bias', 'gpt2.h.8.ln_1.bias', 'gpt2.h.4.attn.c_attn.bias', 'gpt2.h.10.ln_2.bias', 'gpt2.h.7.attn.masked_bias', 'gpt2.h.7.ln_2.weight', 'gpt2.h.9.attn.c_proj.bias', 'gpt2.h.7.attn.c_attn.weight', 'gpt2.h.9.attn.masked_bias', 'gpt2.h.3.mlp.c_fc.bias', 'gpt2.h.8.mlp.c_proj.bias', 'gpt2.h.11.mlp.c_proj.bias', 'gpt2.h.4.ln_2.weight', 'gpt2.h.6.ln_1.weight', 'gpt2.h.3.attn.bias', 'gpt2.h.1.mlp.c_proj.weight', 'gpt2.h.3.ln_2.bias', 'gpt2.h.8.mlp.c_fc.bias', 'gpt2.h.5.attn.bias', 'gpt2.h.0.mlp.c_proj.weight', 'gpt2.h.5.ln_2.weight', 'gpt2.h.9.ln_2.bias', 'gpt2.h.0.attn.masked_bias', 'gpt2.h.6.ln_2.weight', 'gpt2.h.10.mlp.c_fc.weight', 'gpt2.h.3.mlp.c_fc.weight', 'gpt2.h.2.attn.masked_bias', 'gpt2.h.11.mlp.c_proj.weight', 'gpt2.h.3.mlp.c_proj.weight', 'gpt2.h.1.attn.c_proj.bias', 'gpt2.h.6.mlp.c_fc.weight', 'gpt2.h.8.mlp.c_proj.weight', 'gpt2.h.11.attn.c_proj.weight', 'gpt2.h.8.attn.bias', 'gpt2.h.2.ln_1.weight', 'gpt2.h.9.ln_1.weight', 'gpt2.h.1.attn.bias', 'gpt2.h.5.ln_1.bias', 'gpt2.h.8.ln_2.weight', 'gpt2.h.10.ln_1.bias', 'gpt2.h.0.attn.c_proj.bias', 'gpt2.h.5.attn.c_proj.bias', 'gpt2.h.2.ln_2.bias', 'gpt2.h.5.ln_2.bias', 'gpt2.h.1.ln_2.bias', 'gpt2.h.3.attn.c_attn.weight', 'gpt2.h.0.ln_1.bias', 'gpt2.h.3.attn.c_proj.weight', 'gpt2.h.6.attn.c_attn.bias', 'gpt2.h.7.mlp.c_proj.bias', 'gpt2.h.8.attn.c_attn.weight', 'gpt2.h.4.attn.bias', 'gpt2.h.2.ln_2.weight', 'gpt2.h.6.attn.c_proj.weight', 'gpt2.h.2.mlp.c_fc.weight', 'gpt2.h.8.ln_1.weight', 'gpt2.h.7.attn.c_attn.bias', 'gpt2.h.8.attn.c_proj.bias', 'gpt2.h.0.mlp.c_proj.bias', 'gpt2.h.10.mlp.c_proj.weight', 'gpt2.h.11.attn.masked_bias', 'gpt2.h.10.attn.c_attn.weight', 'gpt2.h.6.mlp.c_fc.bias', 'gpt2.h.5.mlp.c_proj.bias', 'gpt2.h.3.mlp.c_proj.bias', 'gpt2.ln_f.weight', 'gpt2.h.7.mlp.c_proj.weight', 'gpt2.h.7.ln_1.bias', 'gpt2.h.2.attn.c_proj.bias', 'gpt2.h.3.ln_2.weight', 'gpt2.h.2.mlp.c_proj.weight', 'gpt2.h.4.attn.c_proj.weight', 'gpt2.h.4.mlp.c_proj.weight', 'gpt2.h.10.attn.c_proj.weight', 'gpt2.h.8.attn.c_proj.weight', 'gpt2.h.9.ln_1.bias', 'gpt2.h.8.ln_2.bias', 'gpt2.h.6.attn.bias', 'gpt2.h.0.ln_1.weight', 'gpt2.h.1.attn.c_proj.weight', 'gpt2.h.5.attn.masked_bias', 'gpt2.h.1.mlp.c_fc.weight', 'gpt2.h.10.ln_1.weight', 'gpt2.h.1.attn.masked_bias', 'gpt2.h.9.ln_2.weight']\n",
      "You should probably TRAIN this model on a down-stream task to be able to use it for predictions and inference.\n"
     ]
    },
    {
     "data": {
      "text/plain": "(33341, 768)"
     },
     "execution_count": 6,
     "metadata": {},
     "output_type": "execute_result"
    }
   ],
   "source": [
    "model=RepresentationModel(\n",
    "    model_type=\"gpt2\",\n",
    "    model_name=\"gpt2\",\n",
    "    use_cuda=True,\n",
    "    #fp16=True\n",
    ")\n",
    "\n",
    "vectorialRepresentation = model.encode_sentences(emailsText, combine_strategy=\"mean\")\n",
    "vectorialRepresentation.shape"
   ],
   "metadata": {
    "collapsed": false,
    "pycharm": {
     "name": "#%%\n"
    }
   }
  },
  {
   "cell_type": "code",
   "execution_count": 7,
   "outputs": [
    {
     "data": {
      "text/plain": "            0         1         2         3         4         5         6    \\\n0     -1.115526 -1.358620 -0.169368 -0.668148 -0.095352  0.335950 -2.109560   \n1     -0.308266 -1.225806  0.042451 -0.644377  1.456010 -1.040751 -1.248753   \n2     -0.834821 -1.633899 -0.099280 -0.387012  0.038915 -0.156452 -1.648581   \n3     -0.970291 -1.608872  0.006303 -0.367015 -0.290777  0.030957 -1.724498   \n4      0.502722 -0.719562 -1.500924  0.399146 -0.379782  0.271699 -1.418529   \n...         ...       ...       ...       ...       ...       ...       ...   \n33336 -0.333648 -2.102945  0.026851 -0.006013  0.431617 -0.508024 -1.362268   \n33337 -0.249757 -1.577596 -0.660124 -0.455919  0.728972  0.508798 -0.520289   \n33338 -0.892726 -1.493627 -0.308473  0.100781  0.089450 -0.054336 -0.814585   \n33339 -0.852507 -2.463529  0.331408  0.022275 -0.001949  0.284475 -1.613995   \n33340 -0.069788 -0.920955 -0.759028  0.482483 -0.233619 -0.263926 -0.708292   \n\n            7         8         9    ...       758       759       760  \\\n0     -1.436072  0.774344 -0.743861  ...  0.500866  0.795564 -1.132566   \n1     -1.208795  1.088541 -0.281519  ...  0.755804 -0.285189  0.135995   \n2     -1.301037  0.462658 -0.535889  ...  0.660842  1.010870 -1.088579   \n3     -1.470565  0.373098 -0.484199  ...  0.414249  1.017925 -0.594624   \n4     -1.062703 -0.139314  0.172703  ...  1.068799 -0.723333 -0.862599   \n...         ...       ...       ...  ...       ...       ...       ...   \n33336 -1.696328  0.107096 -1.313780  ...  0.243349  0.546987  0.041939   \n33337 -0.594903  0.600738 -0.715893  ...  0.308954  0.902745 -0.555285   \n33338 -1.358071  0.712015 -0.879803  ...  0.744367  0.705764 -0.971111   \n33339 -1.479875  0.530472 -1.049538  ...  0.935723  0.464948 -0.433633   \n33340 -0.520328  1.111932 -1.417864  ...  0.425725  0.687105 -0.865478   \n\n            761       762       763       764       765       766       767  \n0      0.086655 -0.235624  1.013224 -0.447113  0.122495 -0.245334  0.169934  \n1      0.231738 -0.712747  0.973343 -0.129089  2.257382 -0.543409  0.651510  \n2      0.472777 -0.453378  0.641527 -0.278107  0.223111 -0.795718  0.554088  \n3      0.265033 -0.360936  0.755992 -0.299721  0.161372 -0.701679  0.429705  \n4     -0.941376 -0.176044  1.099942 -0.196464  1.488655 -0.284204  1.366848  \n...         ...       ...       ...       ...       ...       ...       ...  \n33336 -0.221745 -0.417188  0.598561  0.196667  0.553851 -0.682082  0.950503  \n33337  0.405384  0.095765  0.867582 -0.508386  0.873510 -0.424155  1.145174  \n33338 -0.119182  0.267813  0.222663 -0.756806 -0.127570 -0.427756  1.258862  \n33339 -0.345545  0.018855  0.393061 -0.675921  1.048691 -0.023974  0.306060  \n33340  0.071561 -0.380278  0.620427  0.103728  1.218179 -0.063306  1.550677  \n\n[33341 rows x 768 columns]",
      "text/html": "<div>\n<style scoped>\n    .dataframe tbody tr th:only-of-type {\n        vertical-align: middle;\n    }\n\n    .dataframe tbody tr th {\n        vertical-align: top;\n    }\n\n    .dataframe thead th {\n        text-align: right;\n    }\n</style>\n<table border=\"1\" class=\"dataframe\">\n  <thead>\n    <tr style=\"text-align: right;\">\n      <th></th>\n      <th>0</th>\n      <th>1</th>\n      <th>2</th>\n      <th>3</th>\n      <th>4</th>\n      <th>5</th>\n      <th>6</th>\n      <th>7</th>\n      <th>8</th>\n      <th>9</th>\n      <th>...</th>\n      <th>758</th>\n      <th>759</th>\n      <th>760</th>\n      <th>761</th>\n      <th>762</th>\n      <th>763</th>\n      <th>764</th>\n      <th>765</th>\n      <th>766</th>\n      <th>767</th>\n    </tr>\n  </thead>\n  <tbody>\n    <tr>\n      <th>0</th>\n      <td>-1.115526</td>\n      <td>-1.358620</td>\n      <td>-0.169368</td>\n      <td>-0.668148</td>\n      <td>-0.095352</td>\n      <td>0.335950</td>\n      <td>-2.109560</td>\n      <td>-1.436072</td>\n      <td>0.774344</td>\n      <td>-0.743861</td>\n      <td>...</td>\n      <td>0.500866</td>\n      <td>0.795564</td>\n      <td>-1.132566</td>\n      <td>0.086655</td>\n      <td>-0.235624</td>\n      <td>1.013224</td>\n      <td>-0.447113</td>\n      <td>0.122495</td>\n      <td>-0.245334</td>\n      <td>0.169934</td>\n    </tr>\n    <tr>\n      <th>1</th>\n      <td>-0.308266</td>\n      <td>-1.225806</td>\n      <td>0.042451</td>\n      <td>-0.644377</td>\n      <td>1.456010</td>\n      <td>-1.040751</td>\n      <td>-1.248753</td>\n      <td>-1.208795</td>\n      <td>1.088541</td>\n      <td>-0.281519</td>\n      <td>...</td>\n      <td>0.755804</td>\n      <td>-0.285189</td>\n      <td>0.135995</td>\n      <td>0.231738</td>\n      <td>-0.712747</td>\n      <td>0.973343</td>\n      <td>-0.129089</td>\n      <td>2.257382</td>\n      <td>-0.543409</td>\n      <td>0.651510</td>\n    </tr>\n    <tr>\n      <th>2</th>\n      <td>-0.834821</td>\n      <td>-1.633899</td>\n      <td>-0.099280</td>\n      <td>-0.387012</td>\n      <td>0.038915</td>\n      <td>-0.156452</td>\n      <td>-1.648581</td>\n      <td>-1.301037</td>\n      <td>0.462658</td>\n      <td>-0.535889</td>\n      <td>...</td>\n      <td>0.660842</td>\n      <td>1.010870</td>\n      <td>-1.088579</td>\n      <td>0.472777</td>\n      <td>-0.453378</td>\n      <td>0.641527</td>\n      <td>-0.278107</td>\n      <td>0.223111</td>\n      <td>-0.795718</td>\n      <td>0.554088</td>\n    </tr>\n    <tr>\n      <th>3</th>\n      <td>-0.970291</td>\n      <td>-1.608872</td>\n      <td>0.006303</td>\n      <td>-0.367015</td>\n      <td>-0.290777</td>\n      <td>0.030957</td>\n      <td>-1.724498</td>\n      <td>-1.470565</td>\n      <td>0.373098</td>\n      <td>-0.484199</td>\n      <td>...</td>\n      <td>0.414249</td>\n      <td>1.017925</td>\n      <td>-0.594624</td>\n      <td>0.265033</td>\n      <td>-0.360936</td>\n      <td>0.755992</td>\n      <td>-0.299721</td>\n      <td>0.161372</td>\n      <td>-0.701679</td>\n      <td>0.429705</td>\n    </tr>\n    <tr>\n      <th>4</th>\n      <td>0.502722</td>\n      <td>-0.719562</td>\n      <td>-1.500924</td>\n      <td>0.399146</td>\n      <td>-0.379782</td>\n      <td>0.271699</td>\n      <td>-1.418529</td>\n      <td>-1.062703</td>\n      <td>-0.139314</td>\n      <td>0.172703</td>\n      <td>...</td>\n      <td>1.068799</td>\n      <td>-0.723333</td>\n      <td>-0.862599</td>\n      <td>-0.941376</td>\n      <td>-0.176044</td>\n      <td>1.099942</td>\n      <td>-0.196464</td>\n      <td>1.488655</td>\n      <td>-0.284204</td>\n      <td>1.366848</td>\n    </tr>\n    <tr>\n      <th>...</th>\n      <td>...</td>\n      <td>...</td>\n      <td>...</td>\n      <td>...</td>\n      <td>...</td>\n      <td>...</td>\n      <td>...</td>\n      <td>...</td>\n      <td>...</td>\n      <td>...</td>\n      <td>...</td>\n      <td>...</td>\n      <td>...</td>\n      <td>...</td>\n      <td>...</td>\n      <td>...</td>\n      <td>...</td>\n      <td>...</td>\n      <td>...</td>\n      <td>...</td>\n      <td>...</td>\n    </tr>\n    <tr>\n      <th>33336</th>\n      <td>-0.333648</td>\n      <td>-2.102945</td>\n      <td>0.026851</td>\n      <td>-0.006013</td>\n      <td>0.431617</td>\n      <td>-0.508024</td>\n      <td>-1.362268</td>\n      <td>-1.696328</td>\n      <td>0.107096</td>\n      <td>-1.313780</td>\n      <td>...</td>\n      <td>0.243349</td>\n      <td>0.546987</td>\n      <td>0.041939</td>\n      <td>-0.221745</td>\n      <td>-0.417188</td>\n      <td>0.598561</td>\n      <td>0.196667</td>\n      <td>0.553851</td>\n      <td>-0.682082</td>\n      <td>0.950503</td>\n    </tr>\n    <tr>\n      <th>33337</th>\n      <td>-0.249757</td>\n      <td>-1.577596</td>\n      <td>-0.660124</td>\n      <td>-0.455919</td>\n      <td>0.728972</td>\n      <td>0.508798</td>\n      <td>-0.520289</td>\n      <td>-0.594903</td>\n      <td>0.600738</td>\n      <td>-0.715893</td>\n      <td>...</td>\n      <td>0.308954</td>\n      <td>0.902745</td>\n      <td>-0.555285</td>\n      <td>0.405384</td>\n      <td>0.095765</td>\n      <td>0.867582</td>\n      <td>-0.508386</td>\n      <td>0.873510</td>\n      <td>-0.424155</td>\n      <td>1.145174</td>\n    </tr>\n    <tr>\n      <th>33338</th>\n      <td>-0.892726</td>\n      <td>-1.493627</td>\n      <td>-0.308473</td>\n      <td>0.100781</td>\n      <td>0.089450</td>\n      <td>-0.054336</td>\n      <td>-0.814585</td>\n      <td>-1.358071</td>\n      <td>0.712015</td>\n      <td>-0.879803</td>\n      <td>...</td>\n      <td>0.744367</td>\n      <td>0.705764</td>\n      <td>-0.971111</td>\n      <td>-0.119182</td>\n      <td>0.267813</td>\n      <td>0.222663</td>\n      <td>-0.756806</td>\n      <td>-0.127570</td>\n      <td>-0.427756</td>\n      <td>1.258862</td>\n    </tr>\n    <tr>\n      <th>33339</th>\n      <td>-0.852507</td>\n      <td>-2.463529</td>\n      <td>0.331408</td>\n      <td>0.022275</td>\n      <td>-0.001949</td>\n      <td>0.284475</td>\n      <td>-1.613995</td>\n      <td>-1.479875</td>\n      <td>0.530472</td>\n      <td>-1.049538</td>\n      <td>...</td>\n      <td>0.935723</td>\n      <td>0.464948</td>\n      <td>-0.433633</td>\n      <td>-0.345545</td>\n      <td>0.018855</td>\n      <td>0.393061</td>\n      <td>-0.675921</td>\n      <td>1.048691</td>\n      <td>-0.023974</td>\n      <td>0.306060</td>\n    </tr>\n    <tr>\n      <th>33340</th>\n      <td>-0.069788</td>\n      <td>-0.920955</td>\n      <td>-0.759028</td>\n      <td>0.482483</td>\n      <td>-0.233619</td>\n      <td>-0.263926</td>\n      <td>-0.708292</td>\n      <td>-0.520328</td>\n      <td>1.111932</td>\n      <td>-1.417864</td>\n      <td>...</td>\n      <td>0.425725</td>\n      <td>0.687105</td>\n      <td>-0.865478</td>\n      <td>0.071561</td>\n      <td>-0.380278</td>\n      <td>0.620427</td>\n      <td>0.103728</td>\n      <td>1.218179</td>\n      <td>-0.063306</td>\n      <td>1.550677</td>\n    </tr>\n  </tbody>\n</table>\n<p>33341 rows × 768 columns</p>\n</div>"
     },
     "execution_count": 7,
     "metadata": {},
     "output_type": "execute_result"
    }
   ],
   "source": [
    "gpt2Dataframe = pd.DataFrame(vectorialRepresentation)\n",
    "gpt2Dataframe"
   ],
   "metadata": {
    "collapsed": false,
    "pycharm": {
     "name": "#%%\n"
    }
   }
  },
  {
   "cell_type": "code",
   "execution_count": 8,
   "outputs": [
    {
     "name": "stderr",
     "output_type": "stream",
     "text": [
      "E:\\DevPack\\anaconda3\\envs\\data_science\\lib\\site-packages\\daal4py\\sklearn\\manifold\\_t_sne.py:94: FutureWarning: The default initialization in TSNE will change from 'random' to 'pca' in 1.2.\n",
      "  warnings.warn(\"The default initialization in TSNE will change \"\n",
      "E:\\DevPack\\anaconda3\\envs\\data_science\\lib\\site-packages\\daal4py\\sklearn\\manifold\\_t_sne.py:110: FutureWarning: The default learning rate in TSNE will change from 200.0 to 'auto' in 1.2.\n",
      "  warnings.warn(\"The default learning rate in TSNE will change \"\n"
     ]
    },
    {
     "name": "stdout",
     "output_type": "stream",
     "text": [
      "               0          1  Target\n",
      "0      53.550034 -49.605209       0\n",
      "1      29.974562   4.297606       0\n",
      "2     -12.592417 -31.663425       0\n",
      "3     -16.224329  69.405220       0\n",
      "4       2.622107 -48.640888       0\n",
      "...          ...        ...     ...\n",
      "33336 -15.353042 -25.583981       1\n",
      "33337  15.327117 -34.039543       1\n",
      "33338 -24.259626  20.354004       1\n",
      "33339 -26.209574  24.866549       0\n",
      "33340  -0.136267 -41.098282       1\n",
      "\n",
      "[33341 rows x 3 columns]\n"
     ]
    },
    {
     "data": {
      "text/plain": "<Figure size 432x288 with 1 Axes>",
      "image/png": "[encoded data removed]"
     },
     "metadata": {
      "needs_background": "light"
     },
     "output_type": "display_data"
    }
   ],
   "source": [
    "model = TSNE(n_components=2, random_state=0)\n",
    "array_red = model.fit_transform(gpt2Dataframe)\n",
    "\n",
    "df_tsne = pd.DataFrame(array_red)\n",
    "\n",
    "df_tsne['Target'] = target\n",
    "print(df_tsne)\n",
    "df_tsne_c1 = df_tsne[df_tsne['Target'] == 0]\n",
    "\n",
    "df_tsne_c2 = df_tsne[df_tsne['Target'] == 1]\n",
    "\n",
    "plt.scatter(df_tsne_c1[0].array,df_tsne_c1[1].array,marker='o',color='blue')\n",
    "\n",
    "plt.scatter(df_tsne_c2[0].array,df_tsne_c2[1].array,marker='o',color='red')\n",
    "\n",
    "plt.title('Dados')\n",
    "plt.xlabel('x')\n",
    "plt.ylabel('y')\n",
    "\n",
    "plt.show()"
   ],
   "metadata": {
    "collapsed": false,
    "pycharm": {
     "name": "#%%\n"
    }
   }
  },
  {
   "cell_type": "code",
   "execution_count": 9,
   "outputs": [],
   "source": [
    "def getModel():\n",
    "    return LogisticRegression(max_iter=400)"
   ],
   "metadata": {
    "collapsed": false,
    "pycharm": {
     "name": "#%%\n"
    }
   }
  },
  {
   "cell_type": "code",
   "execution_count": 10,
   "outputs": [
    {
     "name": "stderr",
     "output_type": "stream",
     "text": [
      "E:\\DevPack\\anaconda3\\envs\\data_science\\lib\\site-packages\\daal4py\\sklearn\\linear_model\\logistic_path.py:459: ConvergenceWarning: lbfgs failed to converge (status=1):\n",
      "STOP: TOTAL NO. of ITERATIONS REACHED LIMIT.\n",
      "\n",
      "Increase the number of iterations (max_iter) or scale the data as shown in:\n",
      "    https://scikit-learn.org/stable/modules/preprocessing.html\n",
      "Please also refer to the documentation for alternative solver options:\n",
      "    https://scikit-learn.org/stable/modules/linear_model.html#logistic-regression\n",
      "  n_iter_i = _check_optimize_result(\n"
     ]
    },
    {
     "data": {
      "text/plain": "0.8761433498275604"
     },
     "execution_count": 10,
     "metadata": {},
     "output_type": "execute_result"
    }
   ],
   "source": [
    "X_treino, X_teste, y_treino, y_teste = train_test_split(gpt2Dataframe.values,target,test_size=0.2)\n",
    "modelo = getModel().fit(X_treino,y_treino)\n",
    "score = modelo.score(X_teste,y_teste)\n",
    "score"
   ],
   "metadata": {
    "collapsed": false,
    "pycharm": {
     "name": "#%%\n"
    }
   }
  },
  {
   "cell_type": "code",
   "execution_count": 11,
   "outputs": [
    {
     "name": "stderr",
     "output_type": "stream",
     "text": [
      "E:\\DevPack\\anaconda3\\envs\\data_science\\lib\\site-packages\\daal4py\\sklearn\\linear_model\\logistic_path.py:459: ConvergenceWarning: lbfgs failed to converge (status=1):\n",
      "STOP: TOTAL NO. of ITERATIONS REACHED LIMIT.\n",
      "\n",
      "Increase the number of iterations (max_iter) or scale the data as shown in:\n",
      "    https://scikit-learn.org/stable/modules/preprocessing.html\n",
      "Please also refer to the documentation for alternative solver options:\n",
      "    https://scikit-learn.org/stable/modules/linear_model.html#logistic-regression\n",
      "  n_iter_i = _check_optimize_result(\n",
      "E:\\DevPack\\anaconda3\\envs\\data_science\\lib\\site-packages\\daal4py\\sklearn\\linear_model\\logistic_path.py:459: ConvergenceWarning: lbfgs failed to converge (status=1):\n",
      "STOP: TOTAL NO. of ITERATIONS REACHED LIMIT.\n",
      "\n",
      "Increase the number of iterations (max_iter) or scale the data as shown in:\n",
      "    https://scikit-learn.org/stable/modules/preprocessing.html\n",
      "Please also refer to the documentation for alternative solver options:\n",
      "    https://scikit-learn.org/stable/modules/linear_model.html#logistic-regression\n",
      "  n_iter_i = _check_optimize_result(\n",
      "E:\\DevPack\\anaconda3\\envs\\data_science\\lib\\site-packages\\daal4py\\sklearn\\linear_model\\logistic_path.py:459: ConvergenceWarning: lbfgs failed to converge (status=1):\n",
      "STOP: TOTAL NO. of ITERATIONS REACHED LIMIT.\n",
      "\n",
      "Increase the number of iterations (max_iter) or scale the data as shown in:\n",
      "    https://scikit-learn.org/stable/modules/preprocessing.html\n",
      "Please also refer to the documentation for alternative solver options:\n",
      "    https://scikit-learn.org/stable/modules/linear_model.html#logistic-regression\n",
      "  n_iter_i = _check_optimize_result(\n",
      "E:\\DevPack\\anaconda3\\envs\\data_science\\lib\\site-packages\\daal4py\\sklearn\\linear_model\\logistic_path.py:459: ConvergenceWarning: lbfgs failed to converge (status=1):\n",
      "STOP: TOTAL NO. of ITERATIONS REACHED LIMIT.\n",
      "\n",
      "Increase the number of iterations (max_iter) or scale the data as shown in:\n",
      "    https://scikit-learn.org/stable/modules/preprocessing.html\n",
      "Please also refer to the documentation for alternative solver options:\n",
      "    https://scikit-learn.org/stable/modules/linear_model.html#logistic-regression\n",
      "  n_iter_i = _check_optimize_result(\n",
      "E:\\DevPack\\anaconda3\\envs\\data_science\\lib\\site-packages\\daal4py\\sklearn\\linear_model\\logistic_path.py:459: ConvergenceWarning: lbfgs failed to converge (status=1):\n",
      "STOP: TOTAL NO. of ITERATIONS REACHED LIMIT.\n",
      "\n",
      "Increase the number of iterations (max_iter) or scale the data as shown in:\n",
      "    https://scikit-learn.org/stable/modules/preprocessing.html\n",
      "Please also refer to the documentation for alternative solver options:\n",
      "    https://scikit-learn.org/stable/modules/linear_model.html#logistic-regression\n",
      "  n_iter_i = _check_optimize_result(\n",
      "E:\\DevPack\\anaconda3\\envs\\data_science\\lib\\site-packages\\daal4py\\sklearn\\linear_model\\logistic_path.py:459: ConvergenceWarning: lbfgs failed to converge (status=1):\n",
      "STOP: TOTAL NO. of ITERATIONS REACHED LIMIT.\n",
      "\n",
      "Increase the number of iterations (max_iter) or scale the data as shown in:\n",
      "    https://scikit-learn.org/stable/modules/preprocessing.html\n",
      "Please also refer to the documentation for alternative solver options:\n",
      "    https://scikit-learn.org/stable/modules/linear_model.html#logistic-regression\n",
      "  n_iter_i = _check_optimize_result(\n",
      "E:\\DevPack\\anaconda3\\envs\\data_science\\lib\\site-packages\\daal4py\\sklearn\\linear_model\\logistic_path.py:459: ConvergenceWarning: lbfgs failed to converge (status=1):\n",
      "STOP: TOTAL NO. of ITERATIONS REACHED LIMIT.\n",
      "\n",
      "Increase the number of iterations (max_iter) or scale the data as shown in:\n",
      "    https://scikit-learn.org/stable/modules/preprocessing.html\n",
      "Please also refer to the documentation for alternative solver options:\n",
      "    https://scikit-learn.org/stable/modules/linear_model.html#logistic-regression\n",
      "  n_iter_i = _check_optimize_result(\n",
      "E:\\DevPack\\anaconda3\\envs\\data_science\\lib\\site-packages\\daal4py\\sklearn\\linear_model\\logistic_path.py:459: ConvergenceWarning: lbfgs failed to converge (status=1):\n",
      "STOP: TOTAL NO. of ITERATIONS REACHED LIMIT.\n",
      "\n",
      "Increase the number of iterations (max_iter) or scale the data as shown in:\n",
      "    https://scikit-learn.org/stable/modules/preprocessing.html\n",
      "Please also refer to the documentation for alternative solver options:\n",
      "    https://scikit-learn.org/stable/modules/linear_model.html#logistic-regression\n",
      "  n_iter_i = _check_optimize_result(\n",
      "E:\\DevPack\\anaconda3\\envs\\data_science\\lib\\site-packages\\daal4py\\sklearn\\linear_model\\logistic_path.py:459: ConvergenceWarning: lbfgs failed to converge (status=1):\n",
      "STOP: TOTAL NO. of ITERATIONS REACHED LIMIT.\n",
      "\n",
      "Increase the number of iterations (max_iter) or scale the data as shown in:\n",
      "    https://scikit-learn.org/stable/modules/preprocessing.html\n",
      "Please also refer to the documentation for alternative solver options:\n",
      "    https://scikit-learn.org/stable/modules/linear_model.html#logistic-regression\n",
      "  n_iter_i = _check_optimize_result(\n",
      "E:\\DevPack\\anaconda3\\envs\\data_science\\lib\\site-packages\\daal4py\\sklearn\\linear_model\\logistic_path.py:459: ConvergenceWarning: lbfgs failed to converge (status=1):\n",
      "STOP: TOTAL NO. of ITERATIONS REACHED LIMIT.\n",
      "\n",
      "Increase the number of iterations (max_iter) or scale the data as shown in:\n",
      "    https://scikit-learn.org/stable/modules/preprocessing.html\n",
      "Please also refer to the documentation for alternative solver options:\n",
      "    https://scikit-learn.org/stable/modules/linear_model.html#logistic-regression\n",
      "  n_iter_i = _check_optimize_result(\n"
     ]
    },
    {
     "data": {
      "text/plain": "0.8818571817870309"
     },
     "execution_count": 11,
     "metadata": {},
     "output_type": "execute_result"
    }
   ],
   "source": [
    "scores = cross_val_score(getModel(),gpt2Dataframe.values,target,cv=10)\n",
    "\n",
    "scores.mean()"
   ],
   "metadata": {
    "collapsed": false,
    "pycharm": {
     "name": "#%%\n"
    }
   }
  },
  {
   "cell_type": "code",
   "execution_count": 12,
   "outputs": [
    {
     "name": "stderr",
     "output_type": "stream",
     "text": [
      "E:\\DevPack\\anaconda3\\envs\\data_science\\lib\\site-packages\\daal4py\\sklearn\\linear_model\\logistic_path.py:459: ConvergenceWarning: lbfgs failed to converge (status=1):\n",
      "STOP: TOTAL NO. of ITERATIONS REACHED LIMIT.\n",
      "\n",
      "Increase the number of iterations (max_iter) or scale the data as shown in:\n",
      "    https://scikit-learn.org/stable/modules/preprocessing.html\n",
      "Please also refer to the documentation for alternative solver options:\n",
      "    https://scikit-learn.org/stable/modules/linear_model.html#logistic-regression\n",
      "  n_iter_i = _check_optimize_result(\n",
      "E:\\DevPack\\anaconda3\\envs\\data_science\\lib\\site-packages\\daal4py\\sklearn\\linear_model\\logistic_path.py:459: ConvergenceWarning: lbfgs failed to converge (status=1):\n",
      "STOP: TOTAL NO. of ITERATIONS REACHED LIMIT.\n",
      "\n",
      "Increase the number of iterations (max_iter) or scale the data as shown in:\n",
      "    https://scikit-learn.org/stable/modules/preprocessing.html\n",
      "Please also refer to the documentation for alternative solver options:\n",
      "    https://scikit-learn.org/stable/modules/linear_model.html#logistic-regression\n",
      "  n_iter_i = _check_optimize_result(\n",
      "E:\\DevPack\\anaconda3\\envs\\data_science\\lib\\site-packages\\daal4py\\sklearn\\linear_model\\logistic_path.py:459: ConvergenceWarning: lbfgs failed to converge (status=1):\n",
      "STOP: TOTAL NO. of ITERATIONS REACHED LIMIT.\n",
      "\n",
      "Increase the number of iterations (max_iter) or scale the data as shown in:\n",
      "    https://scikit-learn.org/stable/modules/preprocessing.html\n",
      "Please also refer to the documentation for alternative solver options:\n",
      "    https://scikit-learn.org/stable/modules/linear_model.html#logistic-regression\n",
      "  n_iter_i = _check_optimize_result(\n",
      "E:\\DevPack\\anaconda3\\envs\\data_science\\lib\\site-packages\\daal4py\\sklearn\\linear_model\\logistic_path.py:459: ConvergenceWarning: lbfgs failed to converge (status=1):\n",
      "STOP: TOTAL NO. of ITERATIONS REACHED LIMIT.\n",
      "\n",
      "Increase the number of iterations (max_iter) or scale the data as shown in:\n",
      "    https://scikit-learn.org/stable/modules/preprocessing.html\n",
      "Please also refer to the documentation for alternative solver options:\n",
      "    https://scikit-learn.org/stable/modules/linear_model.html#logistic-regression\n",
      "  n_iter_i = _check_optimize_result(\n",
      "E:\\DevPack\\anaconda3\\envs\\data_science\\lib\\site-packages\\daal4py\\sklearn\\linear_model\\logistic_path.py:459: ConvergenceWarning: lbfgs failed to converge (status=1):\n",
      "STOP: TOTAL NO. of ITERATIONS REACHED LIMIT.\n",
      "\n",
      "Increase the number of iterations (max_iter) or scale the data as shown in:\n",
      "    https://scikit-learn.org/stable/modules/preprocessing.html\n",
      "Please also refer to the documentation for alternative solver options:\n",
      "    https://scikit-learn.org/stable/modules/linear_model.html#logistic-regression\n",
      "  n_iter_i = _check_optimize_result(\n",
      "E:\\DevPack\\anaconda3\\envs\\data_science\\lib\\site-packages\\daal4py\\sklearn\\linear_model\\logistic_path.py:459: ConvergenceWarning: lbfgs failed to converge (status=1):\n",
      "STOP: TOTAL NO. of ITERATIONS REACHED LIMIT.\n",
      "\n",
      "Increase the number of iterations (max_iter) or scale the data as shown in:\n",
      "    https://scikit-learn.org/stable/modules/preprocessing.html\n",
      "Please also refer to the documentation for alternative solver options:\n",
      "    https://scikit-learn.org/stable/modules/linear_model.html#logistic-regression\n",
      "  n_iter_i = _check_optimize_result(\n",
      "E:\\DevPack\\anaconda3\\envs\\data_science\\lib\\site-packages\\daal4py\\sklearn\\linear_model\\logistic_path.py:459: ConvergenceWarning: lbfgs failed to converge (status=1):\n",
      "STOP: TOTAL NO. of ITERATIONS REACHED LIMIT.\n",
      "\n",
      "Increase the number of iterations (max_iter) or scale the data as shown in:\n",
      "    https://scikit-learn.org/stable/modules/preprocessing.html\n",
      "Please also refer to the documentation for alternative solver options:\n",
      "    https://scikit-learn.org/stable/modules/linear_model.html#logistic-regression\n",
      "  n_iter_i = _check_optimize_result(\n",
      "E:\\DevPack\\anaconda3\\envs\\data_science\\lib\\site-packages\\daal4py\\sklearn\\linear_model\\logistic_path.py:459: ConvergenceWarning: lbfgs failed to converge (status=1):\n",
      "STOP: TOTAL NO. of ITERATIONS REACHED LIMIT.\n",
      "\n",
      "Increase the number of iterations (max_iter) or scale the data as shown in:\n",
      "    https://scikit-learn.org/stable/modules/preprocessing.html\n",
      "Please also refer to the documentation for alternative solver options:\n",
      "    https://scikit-learn.org/stable/modules/linear_model.html#logistic-regression\n",
      "  n_iter_i = _check_optimize_result(\n",
      "E:\\DevPack\\anaconda3\\envs\\data_science\\lib\\site-packages\\daal4py\\sklearn\\linear_model\\logistic_path.py:459: ConvergenceWarning: lbfgs failed to converge (status=1):\n",
      "STOP: TOTAL NO. of ITERATIONS REACHED LIMIT.\n",
      "\n",
      "Increase the number of iterations (max_iter) or scale the data as shown in:\n",
      "    https://scikit-learn.org/stable/modules/preprocessing.html\n",
      "Please also refer to the documentation for alternative solver options:\n",
      "    https://scikit-learn.org/stable/modules/linear_model.html#logistic-regression\n",
      "  n_iter_i = _check_optimize_result(\n",
      "E:\\DevPack\\anaconda3\\envs\\data_science\\lib\\site-packages\\daal4py\\sklearn\\linear_model\\logistic_path.py:459: ConvergenceWarning: lbfgs failed to converge (status=1):\n",
      "STOP: TOTAL NO. of ITERATIONS REACHED LIMIT.\n",
      "\n",
      "Increase the number of iterations (max_iter) or scale the data as shown in:\n",
      "    https://scikit-learn.org/stable/modules/preprocessing.html\n",
      "Please also refer to the documentation for alternative solver options:\n",
      "    https://scikit-learn.org/stable/modules/linear_model.html#logistic-regression\n",
      "  n_iter_i = _check_optimize_result(\n"
     ]
    }
   ],
   "source": [
    "predicoes = cross_val_predict(getModel(), gpt2Dataframe.values, target, cv=10)"
   ],
   "metadata": {
    "collapsed": false,
    "pycharm": {
     "name": "#%%\n"
    }
   }
  },
  {
   "cell_type": "code",
   "execution_count": 13,
   "outputs": [
    {
     "name": "stdout",
     "output_type": "stream",
     "text": [
      "\n",
      "Classification Report : \n",
      "              precision    recall  f1-score   support\n",
      "\n",
      "         Ham       0.88      0.88      0.88     16493\n",
      "        Spam       0.88      0.89      0.88     16848\n",
      "\n",
      "    accuracy                           0.88     33341\n",
      "   macro avg       0.88      0.88      0.88     33341\n",
      "weighted avg       0.88      0.88      0.88     33341\n",
      "\n"
     ]
    }
   ],
   "source": [
    "print(\"\\nClassification Report : \")\n",
    "print(classification_report(target, predicoes, target_names=[\"Ham\", \"Spam\"]))"
   ],
   "metadata": {
    "collapsed": false,
    "pycharm": {
     "name": "#%%\n"
    }
   }
  },
  {
   "cell_type": "code",
   "execution_count": 14,
   "outputs": [
    {
     "data": {
      "text/plain": "(array([0, 1]), [Text(0, 0, 'Ham'), Text(1, 0, 'Spam')])"
     },
     "execution_count": 14,
     "metadata": {},
     "output_type": "execute_result"
    },
    {
     "data": {
      "text/plain": "<Figure size 360x360 with 2 Axes>",
      "image/png": "[encoded data removed]"
     },
     "metadata": {
      "needs_background": "light"
     },
     "output_type": "display_data"
    }
   ],
   "source": [
    "categories = [\"Ham\", \"Spam\"]\n",
    "\n",
    "skplt.metrics.plot_confusion_matrix(\n",
    "    [categories[i] for i in target], [categories[i] for i in predicoes.tolist()],\n",
    "    title=\"Confusion Matrix\",\n",
    "    cmap=\"Purples\",\n",
    "    hide_zeros=True,\n",
    "    figsize=(5,5)\n",
    ")\n",
    "\n",
    "plt.xticks()"
   ],
   "metadata": {
    "collapsed": false,
    "pycharm": {
     "name": "#%%\n"
    }
   }
  },
  {
   "cell_type": "code",
   "execution_count": 15,
   "outputs": [
    {
     "data": {
      "text/plain": "(array([0, 1]), [Text(0, 0, 'Ham'), Text(1, 0, 'Spam')])"
     },
     "execution_count": 15,
     "metadata": {},
     "output_type": "execute_result"
    },
    {
     "data": {
      "text/plain": "<Figure size 360x360 with 2 Axes>",
      "image/png": "[encoded data removed]"
     },
     "metadata": {
      "needs_background": "light"
     },
     "output_type": "display_data"
    }
   ],
   "source": [
    "skplt.metrics.plot_confusion_matrix(\n",
    "    [categories[i] for i in target], [categories[i] for i in predicoes.tolist()],\n",
    "    normalize=True,\n",
    "    title=\"Confusion Matrix\",\n",
    "    cmap=\"Purples\",\n",
    "    hide_zeros=True,\n",
    "    figsize=(5,5)\n",
    ")\n",
    "\n",
    "plt.xticks()"
   ],
   "metadata": {
    "collapsed": false,
    "pycharm": {
     "name": "#%%\n"
    }
   }
  }
 ],
 "metadata": {
  "kernelspec": {
   "display_name": "Python 3",
   "language": "python",
   "name": "python3"
  },
  "language_info": {
   "codemirror_mode": {
    "name": "ipython",
    "version": 3
   },
   "file_extension": ".py",
   "mimetype": "text/x-python",
   "name": "python",
   "nbconvert_exporter": "python",
   "pygments_lexer": "ipython3",
   "version": "3.8.8"
  }
 },
 "nbformat": 4,
 "nbformat_minor": 1
}