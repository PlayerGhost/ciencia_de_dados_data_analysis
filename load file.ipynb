{
 "cells": [
  {
   "cell_type": "code",
   "execution_count": 1,
   "metadata": {
    "collapsed": true,
    "pycharm": {
     "name": "#%%\n"
    }
   },
   "outputs": [],
   "source": [
    "import pandas as pd"
   ]
  },
  {
   "cell_type": "code",
   "execution_count": 2,
   "metadata": {
    "collapsed": false,
    "pycharm": {
     "name": "#%%\n"
    }
   },
   "outputs": [
    {
     "data": {
      "text/plain": [
       "3       Subject: photoshop , windows , office . cheap ...\n",
       "7       Subject: looking for medication ? we ` re the ...\n",
       "10      Subject: vocable % rnd - word asceticism\\r\\nvc...\n",
       "11      Subject: report 01405 !\\r\\nwffur attion brom e...\n",
       "13      Subject: vic . odin n ^ ow\\r\\nberne hotbox car...\n",
       "                              ...                        \n",
       "5159    Subject: pictures\\r\\nstreamlined denizen ajar ...\n",
       "5161    Subject: penny stocks are about timing\\r\\nnoma...\n",
       "5162    Subject: anomaly boys from 3881\\r\\nuosda apapr...\n",
       "5164    Subject: slutty milf wants to meet you\\r\\ntake...\n",
       "5170    Subject: important online banking alert\\r\\ndea...\n",
       "Name: text, Length: 1499, dtype: object"
      ]
     },
     "execution_count": 2,
     "metadata": {},
     "output_type": "execute_result"
    }
   ],
   "source": [
    "df_dados = pd.read_csv('spam_ham_dataset.csv',delimiter=',')\n",
    "\n",
    "spamEmail = df_dados[df_dados[\"label\"] == \"spam\"]\n",
    "spamEmail = spamEmail[\"text\"]\n",
    "\n",
    "spamEmail.to_csv(\"onlySpam.csv\", sep=',', encoding='utf-8')\n",
    "\n",
    "spamEmail"
   ]
  }
 ],
 "metadata": {
  "kernelspec": {
   "display_name": "Python 3",
   "language": "python",
   "name": "python3"
  },
  "language_info": {
   "codemirror_mode": {
    "name": "ipython",
    "version": 2
   },
   "file_extension": ".py",
   "mimetype": "text/x-python",
   "name": "python",
   "nbconvert_exporter": "python",
   "pygments_lexer": "ipython2",
   "version": "2.7.6"
  }
 },
 "nbformat": 4,
 "nbformat_minor": 0
}