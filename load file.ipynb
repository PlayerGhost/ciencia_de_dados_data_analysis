{
 "cells": [
  {
   "cell_type": "code",
   "execution_count": 17,
   "metadata": {
    "collapsed": true
   },
   "outputs": [],
   "source": [
    "import pandas as pd"
   ]
  },
  {
   "cell_type": "code",
   "execution_count": 20,
   "outputs": [
    {
     "data": {
      "text/plain": "3       Subject: photoshop , windows , office . cheap ...\n7       Subject: looking for medication ? we ` re the ...\n10      Subject: vocable % rnd - word asceticism\\r\\nvc...\n11      Subject: report 01405 !\\r\\nwffur attion brom e...\n13      Subject: vic . odin n ^ ow\\r\\nberne hotbox car...\n                              ...                        \n5159    Subject: pictures\\r\\nstreamlined denizen ajar ...\n5161    Subject: penny stocks are about timing\\r\\nnoma...\n5162    Subject: anomaly boys from 3881\\r\\nuosda apapr...\n5164    Subject: slutty milf wants to meet you\\r\\ntake...\n5170    Subject: important online banking alert\\r\\ndea...\nName: text, Length: 1499, dtype: object"
     },
     "execution_count": 20,
     "metadata": {},
     "output_type": "execute_result"
    }
   ],
   "source": [
    "df_dados = pd.read_csv('spam_ham_dataset.csv',delimiter=',')\n",
    "\n",
    "spamEmail = df_dados[df_dados[\"label\"] == \"spam\"]\n",
    "spamEmail = spamEmail[\"text\"]\n",
    "\n",
    "spamEmail.to_csv(\"onlySpam.csv\", sep='\\t', encoding='utf-8')\n",
    "\n",
    "spamEmail"
   ],
   "metadata": {
    "collapsed": false,
    "pycharm": {
     "name": "#%%\n"
    }
   }
  },
  {
   "cell_type": "code",
   "execution_count": 18,
   "outputs": [],
   "source": [],
   "metadata": {
    "collapsed": false,
    "pycharm": {
     "name": "#%%\n"
    }
   }
  }
 ],
 "metadata": {
  "kernelspec": {
   "display_name": "Python 3",
   "language": "python",
   "name": "python3"
  },
  "language_info": {
   "codemirror_mode": {
    "name": "ipython",
    "version": 2
   },
   "file_extension": ".py",
   "mimetype": "text/x-python",
   "name": "python",
   "nbconvert_exporter": "python",
   "pygments_lexer": "ipython2",
   "version": "2.7.6"
  }
 },
 "nbformat": 4,
 "nbformat_minor": 0
}